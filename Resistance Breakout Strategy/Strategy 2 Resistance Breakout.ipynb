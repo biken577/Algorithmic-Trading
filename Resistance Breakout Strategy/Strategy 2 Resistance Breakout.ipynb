{
 "cells": [
  {
   "cell_type": "markdown",
   "id": "da2c417d",
   "metadata": {},
   "source": [
    "### Chooose high volume, high activity stocks like historically high volume, premarket movers, tech sectors\n",
    "### Define breakout rule: price breaching 20 period rolling max/min price and volume breaching rolling max volume\n",
    "### Based on the signal go long/short\n",
    "### Define exit/stop loss signal: previous plus/minus 20 period ATR as the rolling stop loss price\n",
    "### Backtest the strategy by calculating cumulative return for each stock"
   ]
  },
  {
   "cell_type": "code",
   "execution_count": 44,
   "id": "479c131f",
   "metadata": {},
   "outputs": [],
   "source": [
    "import numpy as np\n",
    "import pandas as pd\n",
    "from alpha_vantage.timeseries import TimeSeries\n",
    "import copy\n",
    "import time\n",
    "import datetime as dt\n",
    "import yfinance as yf"
   ]
  },
  {
   "cell_type": "code",
   "execution_count": 45,
   "id": "90a2b8d8",
   "metadata": {},
   "outputs": [],
   "source": [
    "def CAGR(DF):\n",
    "    df=DF.copy()\n",
    "    #df[\"return\"]=df[\"Adj Close\"].pct_change()\n",
    "    df[\"cum_return\"]=(1+df[\"ret\"]).cumprod()\n",
    "    n=len(df)/(252*78) #252 trading days #252*6.5 trading hours #252*6.5*12 (5mins)\n",
    "    CAGR=(df[\"cum_return\"][-1])**(1/n) -1\n",
    "    return CAGR"
   ]
  },
  {
   "cell_type": "code",
   "execution_count": 46,
   "id": "f00ecf87",
   "metadata": {},
   "outputs": [],
   "source": [
    "def volatility(DF):\n",
    "    df=DF.copy()\n",
    "    #df[\"return\"]=df[\"Adj Close\"].pct_change()\n",
    "    vol=df[\"ret\"].std()*np.sqrt(252*78)  #252 as it is day candle stick #52 if it is week candle stick\n",
    "    return vol"
   ]
  },
  {
   "cell_type": "code",
   "execution_count": 47,
   "id": "4887f87c",
   "metadata": {},
   "outputs": [],
   "source": [
    "def sharpe(DF,rf):\n",
    "    df=DF.copy()\n",
    "    return ((CAGR(df)-rf)/volatility(df))"
   ]
  },
  {
   "cell_type": "code",
   "execution_count": 48,
   "id": "7899f624",
   "metadata": {},
   "outputs": [],
   "source": [
    "def max_dd(DF):\n",
    "    df=DF.copy()\n",
    "    #df[\"return\"]=df[\"Adj Close\"].pct_change()\n",
    "    df[\"cum_return\"]=(1+df[\"ret\"]).cumprod()\n",
    "    df[\"cum_roll_max\"]=df[\"cum_return\"].cummax()\n",
    "    df[\"drawdown\"]=df[\"cum_roll_max\"]-df[\"cum_return\"]\n",
    "    df[\"drawdown_pct\"]=df[\"drawdown\"]/df[\"cum_roll_max\"]\n",
    "    return df[\"drawdown_pct\"].max()"
   ]
  },
  {
   "cell_type": "code",
   "execution_count": 49,
   "id": "7ff710be",
   "metadata": {},
   "outputs": [],
   "source": [
    "def ATR(DF,n=14):\n",
    "    df=DF.copy()\n",
    "    df[\"H-L\"]=df[\"High\"]-df[\"Low\"]\n",
    "    df[\"H-PC\"]=df[\"High\"]-df[\"Adj Close\"].shift(1)\n",
    "    df[\"L-PC\"]=df[\"Low\"]-df[\"Adj Close\"].shift(1)\n",
    "    df[\"TR\"]=df[[\"H-L\",\"H-PC\",\"L-PC\"]].max(axis=1,skipna=False)\n",
    "    df[\"ATR\"]=df[\"TR\"].ewm(com=n,min_periods=n).mean()\n",
    "    return df[\"ATR\"]"
   ]
  },
  {
   "cell_type": "code",
   "execution_count": 50,
   "id": "7f26c8ed",
   "metadata": {},
   "outputs": [],
   "source": [
    " tickers=[\"MSFT\",\"AAPL\",\"META\",\"AMZN\",\"INTC\", \"CSCO\",\"VZ\",\"IBM\",\"TSLA\",\"AMD\"]"
   ]
  },
  {
   "cell_type": "code",
   "execution_count": 51,
   "id": "f3f03b2d",
   "metadata": {},
   "outputs": [
    {
     "name": "stdout",
     "output_type": "stream",
     "text": [
      "[*********************100%***********************]  1 of 1 completed\n",
      "[*********************100%***********************]  1 of 1 completed\n",
      "[*********************100%***********************]  1 of 1 completed\n",
      "[*********************100%***********************]  1 of 1 completed\n",
      "[*********************100%***********************]  1 of 1 completed\n",
      "[*********************100%***********************]  1 of 1 completed\n",
      "[*********************100%***********************]  1 of 1 completed\n",
      "[*********************100%***********************]  1 of 1 completed\n",
      "[*********************100%***********************]  1 of 1 completed\n",
      "[*********************100%***********************]  1 of 1 completed\n"
     ]
    }
   ],
   "source": [
    "ohlc_intra={} #directory with ohlc value for each stock\n",
    "start=dt.datetime.today()-dt.timedelta(days=7)\n",
    "end=dt.datetime.today()\n",
    "\n",
    "for ticker in tickers:\n",
    "    ohlc_intra[ticker]=yf.download(ticker,start=start,end=end,interval='5m')\n",
    "    ohlc_intra[ticker].dropna(inplace=True,how=\"all\")\n",
    "\n",
    "tickers=ohlc_intra.keys()"
   ]
  },
  {
   "cell_type": "code",
   "execution_count": 52,
   "id": "607c21e0",
   "metadata": {},
   "outputs": [
    {
     "data": {
      "text/plain": [
       "{'MSFT':                                  Open        High         Low       Close  \\\n",
       " Datetime                                                                    \n",
       " 2022-12-06 10:05:00-05:00  247.529999  247.955002  247.009995  247.570801   \n",
       " 2022-12-06 10:10:00-05:00  247.570007  247.630005  247.289993  247.548599   \n",
       " 2022-12-06 10:15:00-05:00  247.539993  247.770004  247.170105  247.729996   \n",
       " 2022-12-06 10:20:00-05:00  247.729996  247.750000  247.289993  247.699905   \n",
       " 2022-12-06 10:25:00-05:00  247.699997  247.750000  247.149994  247.289993   \n",
       " ...                               ...         ...         ...         ...   \n",
       " 2022-12-13 09:50:00-05:00  262.510010  263.019989  261.950012  262.959991   \n",
       " 2022-12-13 09:55:00-05:00  262.859985  263.010010  262.170013  262.269989   \n",
       " 2022-12-13 10:00:00-05:00  262.339996  262.519989  261.260010  261.489990   \n",
       " 2022-12-13 10:05:00-05:00  261.480011  261.559998  260.760010  260.760010   \n",
       " 2022-12-13 10:06:00-05:00  260.769989  260.769989  260.769989  260.769989   \n",
       " \n",
       "                             Adj Close  Volume  \n",
       " Datetime                                       \n",
       " 2022-12-06 10:05:00-05:00  247.570801       0  \n",
       " 2022-12-06 10:10:00-05:00  247.548599  209013  \n",
       " 2022-12-06 10:15:00-05:00  247.729996  201305  \n",
       " 2022-12-06 10:20:00-05:00  247.699905  181454  \n",
       " 2022-12-06 10:25:00-05:00  247.289993  159763  \n",
       " ...                               ...     ...  \n",
       " 2022-12-13 09:50:00-05:00  262.959991  533947  \n",
       " 2022-12-13 09:55:00-05:00  262.269989  522545  \n",
       " 2022-12-13 10:00:00-05:00  261.489990  533435  \n",
       " 2022-12-13 10:05:00-05:00  260.760010  126481  \n",
       " 2022-12-13 10:06:00-05:00  260.769989       0  \n",
       " \n",
       " [392 rows x 6 columns],\n",
       " 'AAPL':                                  Open        High         Low       Close  \\\n",
       " Datetime                                                                    \n",
       " 2022-12-06 10:05:00-05:00  145.074997  145.190002  144.539993  144.809998   \n",
       " 2022-12-06 10:10:00-05:00  144.804993  144.869995  144.320007  144.449997   \n",
       " 2022-12-06 10:15:00-05:00  144.449997  144.750000  144.320007  144.684998   \n",
       " 2022-12-06 10:20:00-05:00  144.684998  144.850006  144.618698  144.820007   \n",
       " 2022-12-06 10:25:00-05:00  144.809998  144.899994  144.490005  144.550003   \n",
       " ...                               ...         ...         ...         ...   \n",
       " 2022-12-13 09:50:00-05:00  149.169998  149.699997  148.970001  149.514999   \n",
       " 2022-12-13 09:55:00-05:00  149.520004  149.690002  149.169998  149.289993   \n",
       " 2022-12-13 10:00:00-05:00  149.289993  149.360001  148.529999  148.759995   \n",
       " 2022-12-13 10:05:00-05:00  148.744995  148.748993  148.520004  148.539993   \n",
       " 2022-12-13 10:06:01-05:00  148.520599  148.520599  148.520599  148.520599   \n",
       " \n",
       "                             Adj Close   Volume  \n",
       " Datetime                                        \n",
       " 2022-12-06 10:05:00-05:00  144.809998        0  \n",
       " 2022-12-06 10:10:00-05:00  144.449997   800392  \n",
       " 2022-12-06 10:15:00-05:00  144.684998   772586  \n",
       " 2022-12-06 10:20:00-05:00  144.820007   640741  \n",
       " 2022-12-06 10:25:00-05:00  144.550003   598908  \n",
       " ...                               ...      ...  \n",
       " 2022-12-13 09:50:00-05:00  149.514999  1150351  \n",
       " 2022-12-13 09:55:00-05:00  149.289993  1281305  \n",
       " 2022-12-13 10:00:00-05:00  148.759995  1651652  \n",
       " 2022-12-13 10:05:00-05:00  148.539993   235063  \n",
       " 2022-12-13 10:06:01-05:00  148.520599        0  \n",
       " \n",
       " [392 rows x 6 columns],\n",
       " 'META':                                  Open        High         Low       Close  \\\n",
       " Datetime                                                                    \n",
       " 2022-12-06 10:05:00-05:00  115.675003  115.889999  114.850304  115.180000   \n",
       " 2022-12-06 10:10:00-05:00  115.209999  115.870201  115.129997  115.485001   \n",
       " 2022-12-06 10:15:00-05:00  115.470001  115.639999  115.080002  115.589996   \n",
       " 2022-12-06 10:20:00-05:00  115.580704  115.830002  115.360001  115.580002   \n",
       " 2022-12-06 10:25:00-05:00  115.580002  116.019997  115.309998  115.410500   \n",
       " ...                               ...         ...         ...         ...   \n",
       " 2022-12-13 09:50:00-05:00  122.940002  123.290001  122.599998  123.099998   \n",
       " 2022-12-13 09:55:00-05:00  123.110001  123.300003  122.263496  122.290001   \n",
       " 2022-12-13 10:00:00-05:00  122.309998  122.449997  121.663200  121.690002   \n",
       " 2022-12-13 10:05:00-05:00  121.660004  121.690002  121.379997  121.379997   \n",
       " 2022-12-13 10:06:01-05:00  121.365700  121.365700  121.365700  121.365700   \n",
       " \n",
       "                             Adj Close  Volume  \n",
       " Datetime                                       \n",
       " 2022-12-06 10:05:00-05:00  115.180000       0  \n",
       " 2022-12-06 10:10:00-05:00  115.485001  791414  \n",
       " 2022-12-06 10:15:00-05:00  115.589996  582149  \n",
       " 2022-12-06 10:20:00-05:00  115.580002  603414  \n",
       " 2022-12-06 10:25:00-05:00  115.410500  597835  \n",
       " ...                               ...     ...  \n",
       " 2022-12-13 09:50:00-05:00  123.099998  869886  \n",
       " 2022-12-13 09:55:00-05:00  122.290001  659140  \n",
       " 2022-12-13 10:00:00-05:00  121.690002  681355  \n",
       " 2022-12-13 10:05:00-05:00  121.379997  163296  \n",
       " 2022-12-13 10:06:01-05:00  121.365700       0  \n",
       " \n",
       " [392 rows x 6 columns],\n",
       " 'AMZN':                                 Open       High        Low      Close  \\\n",
       " Datetime                                                                \n",
       " 2022-12-06 10:05:00-05:00  89.160004  89.489998  88.650002  88.899902   \n",
       " 2022-12-06 10:10:00-05:00  88.884201  89.247200  88.839996  89.180000   \n",
       " 2022-12-06 10:15:00-05:00  89.180000  89.209999  88.989998  89.103600   \n",
       " 2022-12-06 10:20:00-05:00  89.109901  89.360001  88.889999  89.345001   \n",
       " 2022-12-06 10:25:00-05:00  89.341400  89.364998  89.120003  89.180000   \n",
       " ...                              ...        ...        ...        ...   \n",
       " 2022-12-13 09:50:00-05:00  94.669998  95.019997  94.511597  94.959999   \n",
       " 2022-12-13 09:55:00-05:00  94.959999  95.449997  94.959999  95.040001   \n",
       " 2022-12-13 10:00:00-05:00  95.050003  95.089996  94.518402  94.639999   \n",
       " 2022-12-13 10:05:00-05:00  94.639999  94.639999  94.129997  94.129997   \n",
       " 2022-12-13 10:06:01-05:00  94.147202  94.147202  94.147202  94.147202   \n",
       " \n",
       "                            Adj Close   Volume  \n",
       " Datetime                                       \n",
       " 2022-12-06 10:05:00-05:00  88.899902        0  \n",
       " 2022-12-06 10:10:00-05:00  89.180000  1024540  \n",
       " 2022-12-06 10:15:00-05:00  89.103600   990608  \n",
       " 2022-12-06 10:20:00-05:00  89.345001  1017229  \n",
       " 2022-12-06 10:25:00-05:00  89.180000   948812  \n",
       " ...                              ...      ...  \n",
       " 2022-12-13 09:50:00-05:00  94.959999  1612346  \n",
       " 2022-12-13 09:55:00-05:00  95.040001  2003008  \n",
       " 2022-12-13 10:00:00-05:00  94.639999  1809582  \n",
       " 2022-12-13 10:05:00-05:00  94.129997   491690  \n",
       " 2022-12-13 10:06:01-05:00  94.147202        0  \n",
       " \n",
       " [392 rows x 6 columns],\n",
       " 'INTC':                                 Open       High        Low      Close  \\\n",
       " Datetime                                                                \n",
       " 2022-12-06 10:05:00-05:00  28.844999  28.870001  28.760000  28.815001   \n",
       " 2022-12-06 10:10:00-05:00  28.815001  28.860001  28.799999  28.840000   \n",
       " 2022-12-06 10:15:00-05:00  28.840000  28.860001  28.809999  28.830000   \n",
       " 2022-12-06 10:20:00-05:00  28.830000  28.879999  28.809999  28.867001   \n",
       " 2022-12-06 10:25:00-05:00  28.860100  28.934999  28.840000  28.850000   \n",
       " ...                              ...        ...        ...        ...   \n",
       " 2022-12-13 09:50:00-05:00  29.990000  30.020000  29.809999  29.990000   \n",
       " 2022-12-13 09:55:00-05:00  30.000000  30.025000  29.860001  29.870001   \n",
       " 2022-12-13 10:00:00-05:00  29.876699  29.889999  29.745001  29.760000   \n",
       " 2022-12-13 10:05:00-05:00  29.752701  29.758200  29.690001  29.695000   \n",
       " 2022-12-13 10:06:03-05:00  29.700001  29.700001  29.700001  29.700001   \n",
       " \n",
       "                            Adj Close  Volume  \n",
       " Datetime                                      \n",
       " 2022-12-06 10:05:00-05:00  28.815001       0  \n",
       " 2022-12-06 10:10:00-05:00  28.840000  261450  \n",
       " 2022-12-06 10:15:00-05:00  28.830000  162635  \n",
       " 2022-12-06 10:20:00-05:00  28.867001  185306  \n",
       " 2022-12-06 10:25:00-05:00  28.850000  384105  \n",
       " ...                              ...     ...  \n",
       " 2022-12-13 09:50:00-05:00  29.990000  554029  \n",
       " 2022-12-13 09:55:00-05:00  29.870001  451353  \n",
       " 2022-12-13 10:00:00-05:00  29.760000  700039  \n",
       " 2022-12-13 10:05:00-05:00  29.695000  110014  \n",
       " 2022-12-13 10:06:03-05:00  29.700001       0  \n",
       " \n",
       " [392 rows x 6 columns],\n",
       " 'CSCO':                                 Open       High        Low      Close  \\\n",
       " Datetime                                                                \n",
       " 2022-12-06 10:05:00-05:00  49.035000  49.080002  48.919998  48.965000   \n",
       " 2022-12-06 10:10:00-05:00  48.970001  49.009998  48.910000  49.009998   \n",
       " 2022-12-06 10:15:00-05:00  49.000000  49.029999  48.955002  49.019699   \n",
       " 2022-12-06 10:20:00-05:00  49.014999  49.064999  48.959999  49.029999   \n",
       " 2022-12-06 10:25:00-05:00  49.029999  49.044998  48.904999  48.910000   \n",
       " ...                              ...        ...        ...        ...   \n",
       " 2022-12-13 09:50:00-05:00  50.520000  50.709999  50.510101  50.689999   \n",
       " 2022-12-13 09:55:00-05:00  50.695000  50.700001  50.555000  50.570000   \n",
       " 2022-12-13 10:00:00-05:00  50.580002  50.610001  50.349998  50.384998   \n",
       " 2022-12-13 10:05:00-05:00  50.380901  50.400002  50.345001  50.355000   \n",
       " 2022-12-13 10:06:02-05:00  50.355000  50.355000  50.355000  50.355000   \n",
       " \n",
       "                            Adj Close  Volume  \n",
       " Datetime                                      \n",
       " 2022-12-06 10:05:00-05:00  48.965000       0  \n",
       " 2022-12-06 10:10:00-05:00  49.009998  142639  \n",
       " 2022-12-06 10:15:00-05:00  49.019699  114224  \n",
       " 2022-12-06 10:20:00-05:00  49.029999   89305  \n",
       " 2022-12-06 10:25:00-05:00  48.910000   63023  \n",
       " ...                              ...     ...  \n",
       " 2022-12-13 09:50:00-05:00  50.689999  193355  \n",
       " 2022-12-13 09:55:00-05:00  50.570000  236372  \n",
       " 2022-12-13 10:00:00-05:00  50.384998  310759  \n",
       " 2022-12-13 10:05:00-05:00  50.355000   24976  \n",
       " 2022-12-13 10:06:02-05:00  50.355000       0  \n",
       " \n",
       " [392 rows x 6 columns],\n",
       " 'VZ':                                 Open       High        Low      Close  \\\n",
       " Datetime                                                                \n",
       " 2022-12-06 10:05:00-05:00  36.720001  36.810001  36.700699  36.770000   \n",
       " 2022-12-06 10:10:00-05:00  36.764999  36.817501  36.755001  36.779999   \n",
       " 2022-12-06 10:15:00-05:00  36.779999  36.785000  36.724998  36.759998   \n",
       " 2022-12-06 10:20:00-05:00  36.764999  36.810001  36.759998  36.799999   \n",
       " 2022-12-06 10:25:00-05:00  36.799999  36.830002  36.750000  36.759899   \n",
       " ...                              ...        ...        ...        ...   \n",
       " 2022-12-13 09:50:00-05:00  38.360001  38.474998  38.320000  38.474998   \n",
       " 2022-12-13 09:55:00-05:00  38.474998  38.529999  38.450901  38.500000   \n",
       " 2022-12-13 10:00:00-05:00  38.505001  38.509998  38.360001  38.459999   \n",
       " 2022-12-13 10:05:00-05:00  38.465000  38.465000  38.410000  38.415001   \n",
       " 2022-12-13 10:06:03-05:00  38.411701  38.411701  38.411701  38.411701   \n",
       " \n",
       "                            Adj Close  Volume  \n",
       " Datetime                                      \n",
       " 2022-12-06 10:05:00-05:00  36.770000       0  \n",
       " 2022-12-06 10:10:00-05:00  36.779999  306599  \n",
       " 2022-12-06 10:15:00-05:00  36.759998  648994  \n",
       " 2022-12-06 10:20:00-05:00  36.799999  197892  \n",
       " 2022-12-06 10:25:00-05:00  36.759899  279850  \n",
       " ...                              ...     ...  \n",
       " 2022-12-13 09:50:00-05:00  38.474998  198408  \n",
       " 2022-12-13 09:55:00-05:00  38.500000  262265  \n",
       " 2022-12-13 10:00:00-05:00  38.459999  432022  \n",
       " 2022-12-13 10:05:00-05:00  38.415001   45487  \n",
       " 2022-12-13 10:06:03-05:00  38.411701       0  \n",
       " \n",
       " [392 rows x 6 columns],\n",
       " 'IBM':                                  Open        High         Low       Close  \\\n",
       " Datetime                                                                    \n",
       " 2022-12-06 10:05:00-05:00  147.699997  147.779999  147.449997  147.559998   \n",
       " 2022-12-06 10:10:00-05:00  147.554993  147.589996  147.110001  147.229996   \n",
       " 2022-12-06 10:15:00-05:00  147.199997  147.300003  147.089996  147.255005   \n",
       " 2022-12-06 10:20:00-05:00  147.279999  147.389999  147.210007  147.339996   \n",
       " 2022-12-06 10:25:00-05:00  147.339996  147.539993  147.210007  147.240005   \n",
       " ...                               ...         ...         ...         ...   \n",
       " 2022-12-13 09:50:00-05:00  152.699997  152.970001  152.408600  152.679993   \n",
       " 2022-12-13 09:55:00-05:00  152.729996  152.750000  152.449997  152.619995   \n",
       " 2022-12-13 10:00:00-05:00  152.639999  152.690002  152.130005  152.130005   \n",
       " 2022-12-13 10:05:00-05:00  152.199997  152.210007  151.893997  151.893997   \n",
       " 2022-12-13 10:06:02-05:00  151.970001  151.970001  151.970001  151.970001   \n",
       " \n",
       "                             Adj Close  Volume  \n",
       " Datetime                                       \n",
       " 2022-12-06 10:05:00-05:00  147.559998       0  \n",
       " 2022-12-06 10:10:00-05:00  147.229996   26047  \n",
       " 2022-12-06 10:15:00-05:00  147.255005   25416  \n",
       " 2022-12-06 10:20:00-05:00  147.339996   28236  \n",
       " 2022-12-06 10:25:00-05:00  147.240005   27130  \n",
       " ...                               ...     ...  \n",
       " 2022-12-13 09:50:00-05:00  152.679993   81369  \n",
       " 2022-12-13 09:55:00-05:00  152.619995   82520  \n",
       " 2022-12-13 10:00:00-05:00  152.130005   93360  \n",
       " 2022-12-13 10:05:00-05:00  151.893997   19839  \n",
       " 2022-12-13 10:06:02-05:00  151.970001       0  \n",
       " \n",
       " [392 rows x 6 columns],\n",
       " 'TSLA':                                  Open        High         Low       Close  \\\n",
       " Datetime                                                                    \n",
       " 2022-12-06 10:05:00-05:00  176.126602  176.429993  175.330002  176.092194   \n",
       " 2022-12-06 10:10:00-05:00  176.098999  177.199997  175.679993  177.000000   \n",
       " 2022-12-06 10:15:00-05:00  177.000000  177.259995  175.960007  176.429993   \n",
       " 2022-12-06 10:20:00-05:00  176.469803  177.490005  176.429993  177.289307   \n",
       " 2022-12-06 10:25:00-05:00  177.279999  177.750000  176.710098  176.929993   \n",
       " ...                               ...         ...         ...         ...   \n",
       " 2022-12-13 09:50:00-05:00  173.589996  174.100006  170.899994  171.239899   \n",
       " 2022-12-13 09:55:00-05:00  171.218506  171.940002  169.289993  169.369995   \n",
       " 2022-12-13 10:00:00-05:00  169.389999  169.600006  166.860001  166.940002   \n",
       " 2022-12-13 10:05:00-05:00  166.940002  167.339905  166.419998  166.479996   \n",
       " 2022-12-13 10:06:04-05:00  166.335007  166.335007  166.335007  166.335007   \n",
       " \n",
       "                             Adj Close   Volume  \n",
       " Datetime                                        \n",
       " 2022-12-06 10:05:00-05:00  176.092194        0  \n",
       " 2022-12-06 10:10:00-05:00  177.000000  1812751  \n",
       " 2022-12-06 10:15:00-05:00  176.429993  1757128  \n",
       " 2022-12-06 10:20:00-05:00  177.289307  1600032  \n",
       " 2022-12-06 10:25:00-05:00  176.929993  1601682  \n",
       " ...                               ...      ...  \n",
       " 2022-12-13 09:50:00-05:00  171.239899  3027357  \n",
       " 2022-12-13 09:55:00-05:00  169.369995  3587446  \n",
       " 2022-12-13 10:00:00-05:00  166.940002  4754532  \n",
       " 2022-12-13 10:05:00-05:00  166.479996   979720  \n",
       " 2022-12-13 10:06:04-05:00  166.335007        0  \n",
       " \n",
       " [392 rows x 6 columns],\n",
       " 'AMD':                                 Open       High        Low      Close  \\\n",
       " Datetime                                                                \n",
       " 2022-12-06 10:05:00-05:00  71.074997  71.129997  70.589996  70.735603   \n",
       " 2022-12-06 10:10:00-05:00  70.729897  70.820000  70.629997  70.695000   \n",
       " 2022-12-06 10:15:00-05:00  70.695000  70.860001  70.629997  70.815002   \n",
       " 2022-12-06 10:20:00-05:00  70.820000  71.290001  70.800003  71.254997   \n",
       " 2022-12-06 10:25:00-05:00  71.250000  71.470001  71.199997  71.298103   \n",
       " ...                              ...        ...        ...        ...   \n",
       " 2022-12-13 09:50:00-05:00  75.010002  75.010002  74.470001  74.785004   \n",
       " 2022-12-13 09:55:00-05:00  74.779999  75.139999  74.559998  74.669998   \n",
       " 2022-12-13 10:00:00-05:00  74.677696  74.810699  74.239998  74.300003   \n",
       " 2022-12-13 10:05:00-05:00  74.282402  74.330002  74.050003  74.059998   \n",
       " 2022-12-13 10:06:05-05:00  74.059998  74.059998  74.059998  74.059998   \n",
       " \n",
       "                            Adj Close   Volume  \n",
       " Datetime                                       \n",
       " 2022-12-06 10:05:00-05:00  70.735603        0  \n",
       " 2022-12-06 10:10:00-05:00  70.695000   812723  \n",
       " 2022-12-06 10:15:00-05:00  70.815002  1033526  \n",
       " 2022-12-06 10:20:00-05:00  71.254997  1085300  \n",
       " 2022-12-06 10:25:00-05:00  71.298103  1415653  \n",
       " ...                              ...      ...  \n",
       " 2022-12-13 09:50:00-05:00  74.785004  1005703  \n",
       " 2022-12-13 09:55:00-05:00  74.669998  1647763  \n",
       " 2022-12-13 10:00:00-05:00  74.300003  1546841  \n",
       " 2022-12-13 10:05:00-05:00  74.059998   263033  \n",
       " 2022-12-13 10:06:05-05:00  74.059998        0  \n",
       " \n",
       " [392 rows x 6 columns]}"
      ]
     },
     "execution_count": 52,
     "metadata": {},
     "output_type": "execute_result"
    }
   ],
   "source": [
    "ohlc_intra"
   ]
  },
  {
   "cell_type": "markdown",
   "id": "5e1ca139",
   "metadata": {},
   "source": [
    "# calculating ATR and rolling max price for each stock and consolidating this info by stock in a seperate dataframe"
   ]
  },
  {
   "cell_type": "code",
   "execution_count": 53,
   "id": "47ac88f2",
   "metadata": {},
   "outputs": [
    {
     "name": "stdout",
     "output_type": "stream",
     "text": [
      "calculating ATR and rolling max price for MSFT\n",
      "calculating ATR and rolling max price for AAPL\n",
      "calculating ATR and rolling max price for META\n",
      "calculating ATR and rolling max price for AMZN\n",
      "calculating ATR and rolling max price for INTC\n",
      "calculating ATR and rolling max price for CSCO\n",
      "calculating ATR and rolling max price for VZ\n",
      "calculating ATR and rolling max price for IBM\n",
      "calculating ATR and rolling max price for TSLA\n",
      "calculating ATR and rolling max price for AMD\n"
     ]
    }
   ],
   "source": [
    "ohlc_dict=copy.deepcopy(ohlc_intra)\n",
    "tickers_signal={}\n",
    "tickers_ret={}\n",
    "for ticker in tickers:\n",
    "    print(\"calculating ATR and rolling max price for\",ticker)\n",
    "    ohlc_dict[ticker][\"ATR\"]=ATR(ohlc_dict[ticker],20)\n",
    "    ohlc_dict[ticker][\"roll_max_cp\"]=ohlc_dict[ticker][\"High\"].rolling(20).max()\n",
    "    ohlc_dict[ticker][\"roll_min_cp\"]=ohlc_dict[ticker][\"Low\"].rolling(20).min()\n",
    "    ohlc_dict[ticker][\"roll_max_vol\"]=ohlc_dict[ticker][\"Volume\"].rolling(20).max()\n",
    "    ohlc_dict[ticker].dropna(inplace=True)\n",
    "    tickers_signal[ticker]=\"\"\n",
    "    tickers_ret[ticker]=[0]"
   ]
  },
  {
   "cell_type": "code",
   "execution_count": 54,
   "id": "73a609af",
   "metadata": {},
   "outputs": [
    {
     "data": {
      "text/plain": [
       "dict_keys(['MSFT', 'AAPL', 'META', 'AMZN', 'INTC', 'CSCO', 'VZ', 'IBM', 'TSLA', 'AMD'])"
      ]
     },
     "execution_count": 54,
     "metadata": {},
     "output_type": "execute_result"
    }
   ],
   "source": [
    "ohlc_dict.keys()"
   ]
  },
  {
   "cell_type": "markdown",
   "id": "f60aee8d",
   "metadata": {},
   "source": [
    "ohlc_dict[\"MSFT\"]['2022-08-02'][0:25]"
   ]
  },
  {
   "cell_type": "code",
   "execution_count": 55,
   "id": "65819459",
   "metadata": {},
   "outputs": [
    {
     "name": "stdout",
     "output_type": "stream",
     "text": [
      "Requirement already satisfied: mplfinance in /opt/anaconda3/lib/python3.9/site-packages (0.12.9b1)\n",
      "Requirement already satisfied: matplotlib in /opt/anaconda3/lib/python3.9/site-packages (from mplfinance) (3.5.1)\n",
      "Requirement already satisfied: pandas in /opt/anaconda3/lib/python3.9/site-packages (from mplfinance) (1.4.2)\n",
      "Requirement already satisfied: packaging>=20.0 in /opt/anaconda3/lib/python3.9/site-packages (from matplotlib->mplfinance) (21.3)\n",
      "Requirement already satisfied: cycler>=0.10 in /opt/anaconda3/lib/python3.9/site-packages (from matplotlib->mplfinance) (0.11.0)\n",
      "Requirement already satisfied: python-dateutil>=2.7 in /opt/anaconda3/lib/python3.9/site-packages (from matplotlib->mplfinance) (2.8.2)\n",
      "Requirement already satisfied: numpy>=1.17 in /opt/anaconda3/lib/python3.9/site-packages (from matplotlib->mplfinance) (1.21.5)\n",
      "Requirement already satisfied: pyparsing>=2.2.1 in /opt/anaconda3/lib/python3.9/site-packages (from matplotlib->mplfinance) (3.0.4)\n",
      "Requirement already satisfied: pillow>=6.2.0 in /opt/anaconda3/lib/python3.9/site-packages (from matplotlib->mplfinance) (9.0.1)\n",
      "Requirement already satisfied: fonttools>=4.22.0 in /opt/anaconda3/lib/python3.9/site-packages (from matplotlib->mplfinance) (4.25.0)\n",
      "Requirement already satisfied: kiwisolver>=1.0.1 in /opt/anaconda3/lib/python3.9/site-packages (from matplotlib->mplfinance) (1.3.2)\n",
      "Requirement already satisfied: six>=1.5 in /opt/anaconda3/lib/python3.9/site-packages (from python-dateutil>=2.7->matplotlib->mplfinance) (1.16.0)\n",
      "Requirement already satisfied: pytz>=2020.1 in /opt/anaconda3/lib/python3.9/site-packages (from pandas->mplfinance) (2021.3)\n"
     ]
    }
   ],
   "source": [
    "!pip install mplfinance"
   ]
  },
  {
   "cell_type": "code",
   "execution_count": 56,
   "id": "6ab3d187",
   "metadata": {},
   "outputs": [],
   "source": [
    "import mplfinance as mpf"
   ]
  },
  {
   "cell_type": "code",
   "execution_count": 57,
   "id": "d26531b8",
   "metadata": {},
   "outputs": [
    {
     "data": {
      "image/png": "[encoded data removed]",
      "text/plain": [
       "<Figure size 800x575 with 2 Axes>"
      ]
     },
     "metadata": {},
     "output_type": "display_data"
    }
   ],
   "source": [
    "mpf.plot(data=ohlc_dict[\"MSFT\"],type='line',volume=False,show_nontrading=False)"
   ]
  },
  {
   "cell_type": "code",
   "execution_count": 58,
   "id": "1a698a93",
   "metadata": {},
   "outputs": [
    {
     "data": {
      "image/png": "[encoded data removed]",
      "text/plain": [
       "<Figure size 800x575 with 2 Axes>"
      ]
     },
     "metadata": {},
     "output_type": "display_data"
    }
   ],
   "source": [
    "roll_max_plot=mpf.make_addplot(ohlc_dict[\"MSFT\"][\"roll_max_cp\"])\n",
    "mpf.plot(data=ohlc_dict[\"MSFT\"],addplot=roll_max_plot)"
   ]
  },
  {
   "cell_type": "code",
   "execution_count": 59,
   "id": "9f568b85",
   "metadata": {},
   "outputs": [
    {
     "data": {
      "image/png": "[encoded data removed]",
      "text/plain": [
       "<Figure size 800x575 with 2 Axes>"
      ]
     },
     "metadata": {},
     "output_type": "display_data"
    }
   ],
   "source": [
    "roll_min_plot=mpf.make_addplot(ohlc_dict[\"MSFT\"][\"roll_min_cp\"])\n",
    "mpf.plot(data=ohlc_dict[\"MSFT\"],addplot=roll_min_plot)"
   ]
  },
  {
   "cell_type": "code",
   "execution_count": 60,
   "id": "2a571475",
   "metadata": {},
   "outputs": [
    {
     "data": {
      "text/plain": [
       "{'MSFT': '',\n",
       " 'AAPL': '',\n",
       " 'META': '',\n",
       " 'AMZN': '',\n",
       " 'INTC': '',\n",
       " 'CSCO': '',\n",
       " 'VZ': '',\n",
       " 'IBM': '',\n",
       " 'TSLA': '',\n",
       " 'AMD': ''}"
      ]
     },
     "execution_count": 60,
     "metadata": {},
     "output_type": "execute_result"
    }
   ],
   "source": [
    "tickers_signal"
   ]
  },
  {
   "cell_type": "code",
   "execution_count": 61,
   "id": "0479923c",
   "metadata": {},
   "outputs": [
    {
     "data": {
      "text/plain": [
       "{'MSFT': [0],\n",
       " 'AAPL': [0],\n",
       " 'META': [0],\n",
       " 'AMZN': [0],\n",
       " 'INTC': [0],\n",
       " 'CSCO': [0],\n",
       " 'VZ': [0],\n",
       " 'IBM': [0],\n",
       " 'TSLA': [0],\n",
       " 'AMD': [0]}"
      ]
     },
     "execution_count": 61,
     "metadata": {},
     "output_type": "execute_result"
    }
   ],
   "source": [
    "tickers_ret"
   ]
  },
  {
   "cell_type": "code",
   "execution_count": 62,
   "id": "b4a85b2c",
   "metadata": {},
   "outputs": [
    {
     "data": {
      "text/html": [
       "<div>\n",
       "<style scoped>\n",
       "    .dataframe tbody tr th:only-of-type {\n",
       "        vertical-align: middle;\n",
       "    }\n",
       "\n",
       "    .dataframe tbody tr th {\n",
       "        vertical-align: top;\n",
       "    }\n",
       "\n",
       "    .dataframe thead th {\n",
       "        text-align: right;\n",
       "    }\n",
       "</style>\n",
       "<table border=\"1\" class=\"dataframe\">\n",
       "  <thead>\n",
       "    <tr style=\"text-align: right;\">\n",
       "      <th></th>\n",
       "      <th>Open</th>\n",
       "      <th>High</th>\n",
       "      <th>Low</th>\n",
       "      <th>Close</th>\n",
       "      <th>Adj Close</th>\n",
       "      <th>Volume</th>\n",
       "      <th>ATR</th>\n",
       "      <th>roll_max_cp</th>\n",
       "      <th>roll_min_cp</th>\n",
       "      <th>roll_max_vol</th>\n",
       "    </tr>\n",
       "    <tr>\n",
       "      <th>Datetime</th>\n",
       "      <th></th>\n",
       "      <th></th>\n",
       "      <th></th>\n",
       "      <th></th>\n",
       "      <th></th>\n",
       "      <th></th>\n",
       "      <th></th>\n",
       "      <th></th>\n",
       "      <th></th>\n",
       "      <th></th>\n",
       "    </tr>\n",
       "  </thead>\n",
       "  <tbody>\n",
       "    <tr>\n",
       "      <th>2022-12-06 11:45:00-05:00</th>\n",
       "      <td>246.679993</td>\n",
       "      <td>246.940002</td>\n",
       "      <td>246.570007</td>\n",
       "      <td>246.839996</td>\n",
       "      <td>246.839996</td>\n",
       "      <td>275084</td>\n",
       "      <td>0.467538</td>\n",
       "      <td>247.770004</td>\n",
       "      <td>246.210007</td>\n",
       "      <td>293642.0</td>\n",
       "    </tr>\n",
       "    <tr>\n",
       "      <th>2022-12-06 11:50:00-05:00</th>\n",
       "      <td>246.860001</td>\n",
       "      <td>247.050003</td>\n",
       "      <td>246.449997</td>\n",
       "      <td>246.470001</td>\n",
       "      <td>246.470001</td>\n",
       "      <td>283307</td>\n",
       "      <td>0.477378</td>\n",
       "      <td>247.770004</td>\n",
       "      <td>246.210007</td>\n",
       "      <td>293642.0</td>\n",
       "    </tr>\n",
       "    <tr>\n",
       "      <th>2022-12-06 11:55:00-05:00</th>\n",
       "      <td>246.479996</td>\n",
       "      <td>246.919998</td>\n",
       "      <td>246.259995</td>\n",
       "      <td>246.490005</td>\n",
       "      <td>246.490005</td>\n",
       "      <td>151983</td>\n",
       "      <td>0.490592</td>\n",
       "      <td>247.750000</td>\n",
       "      <td>246.210007</td>\n",
       "      <td>293642.0</td>\n",
       "    </tr>\n",
       "    <tr>\n",
       "      <th>2022-12-06 12:00:00-05:00</th>\n",
       "      <td>246.500000</td>\n",
       "      <td>246.740005</td>\n",
       "      <td>246.350006</td>\n",
       "      <td>246.529999</td>\n",
       "      <td>246.529999</td>\n",
       "      <td>120289</td>\n",
       "      <td>0.483489</td>\n",
       "      <td>247.750000</td>\n",
       "      <td>246.210007</td>\n",
       "      <td>293642.0</td>\n",
       "    </tr>\n",
       "    <tr>\n",
       "      <th>2022-12-06 12:05:00-05:00</th>\n",
       "      <td>246.539902</td>\n",
       "      <td>246.759995</td>\n",
       "      <td>246.399994</td>\n",
       "      <td>246.615005</td>\n",
       "      <td>246.615005</td>\n",
       "      <td>539250</td>\n",
       "      <td>0.474966</td>\n",
       "      <td>247.580002</td>\n",
       "      <td>246.210007</td>\n",
       "      <td>539250.0</td>\n",
       "    </tr>\n",
       "  </tbody>\n",
       "</table>\n",
       "</div>"
      ],
      "text/plain": [
       "                                 Open        High         Low       Close  \\\n",
       "Datetime                                                                    \n",
       "2022-12-06 11:45:00-05:00  246.679993  246.940002  246.570007  246.839996   \n",
       "2022-12-06 11:50:00-05:00  246.860001  247.050003  246.449997  246.470001   \n",
       "2022-12-06 11:55:00-05:00  246.479996  246.919998  246.259995  246.490005   \n",
       "2022-12-06 12:00:00-05:00  246.500000  246.740005  246.350006  246.529999   \n",
       "2022-12-06 12:05:00-05:00  246.539902  246.759995  246.399994  246.615005   \n",
       "\n",
       "                            Adj Close  Volume       ATR  roll_max_cp  \\\n",
       "Datetime                                                               \n",
       "2022-12-06 11:45:00-05:00  246.839996  275084  0.467538   247.770004   \n",
       "2022-12-06 11:50:00-05:00  246.470001  283307  0.477378   247.770004   \n",
       "2022-12-06 11:55:00-05:00  246.490005  151983  0.490592   247.750000   \n",
       "2022-12-06 12:00:00-05:00  246.529999  120289  0.483489   247.750000   \n",
       "2022-12-06 12:05:00-05:00  246.615005  539250  0.474966   247.580002   \n",
       "\n",
       "                           roll_min_cp  roll_max_vol  \n",
       "Datetime                                              \n",
       "2022-12-06 11:45:00-05:00   246.210007      293642.0  \n",
       "2022-12-06 11:50:00-05:00   246.210007      293642.0  \n",
       "2022-12-06 11:55:00-05:00   246.210007      293642.0  \n",
       "2022-12-06 12:00:00-05:00   246.210007      293642.0  \n",
       "2022-12-06 12:05:00-05:00   246.210007      539250.0  "
      ]
     },
     "execution_count": 62,
     "metadata": {},
     "output_type": "execute_result"
    }
   ],
   "source": [
    "ohlc_dict[\"MSFT\"][0:5]"
   ]
  },
  {
   "cell_type": "code",
   "execution_count": 63,
   "id": "9ae52529",
   "metadata": {},
   "outputs": [
    {
     "name": "stdout",
     "output_type": "stream",
     "text": [
      "calculating returns for  MSFT\n",
      "calculating returns for  AAPL\n",
      "calculating returns for  META\n",
      "calculating returns for  AMZN\n",
      "calculating returns for  INTC\n",
      "calculating returns for  CSCO\n",
      "calculating returns for  VZ\n",
      "calculating returns for  IBM\n",
      "calculating returns for  TSLA\n",
      "calculating returns for  AMD\n"
     ]
    }
   ],
   "source": [
    "# identifying signals and calculating daily return (stop loss factored in)\n",
    "for ticker in tickers:\n",
    "    print(\"calculating returns for \",ticker)\n",
    "    for i in range(1,len(ohlc_dict[ticker])):\n",
    "        if tickers_signal[ticker] == \"\":\n",
    "            tickers_ret[ticker].append(0)\n",
    "            if ohlc_dict[ticker][\"High\"][i]>=ohlc_dict[ticker][\"roll_max_cp\"][i] and \\\n",
    "               ohlc_dict[ticker][\"Volume\"][i]>1.5*ohlc_dict[ticker][\"roll_max_vol\"][i-1]:\n",
    "                tickers_signal[ticker] = \"Buy\"\n",
    "            elif ohlc_dict[ticker][\"Low\"][i]<=ohlc_dict[ticker][\"roll_min_cp\"][i] and \\\n",
    "               ohlc_dict[ticker][\"Volume\"][i]>1.5*ohlc_dict[ticker][\"roll_max_vol\"][i-1]:\n",
    "                tickers_signal[ticker] = \"Sell\"\n",
    "        \n",
    "        elif tickers_signal[ticker] == \"Buy\":\n",
    "            if ohlc_dict[ticker][\"Low\"][i]<ohlc_dict[ticker][\"Close\"][i-1] - ohlc_dict[ticker][\"ATR\"][i-1]:   #change of direction\n",
    "                tickers_signal[ticker] = \"\"\n",
    "                tickers_ret[ticker].append(((ohlc_dict[ticker][\"Close\"][i-1] - ohlc_dict[ticker][\"ATR\"][i-1])/ohlc_dict[ticker][\"Close\"][i-1])-1)\n",
    "            elif ohlc_dict[ticker][\"Low\"][i]<=ohlc_dict[ticker][\"roll_min_cp\"][i] and \\\n",
    "               ohlc_dict[ticker][\"Volume\"][i]>1.5*ohlc_dict[ticker][\"roll_max_vol\"][i-1]:\n",
    "                tickers_signal[ticker] = \"Sell\"\n",
    "                tickers_ret[ticker].append((ohlc_dict[ticker][\"Close\"][i]/ohlc_dict[ticker][\"Close\"][i-1])-1)\n",
    "            else:\n",
    "                tickers_ret[ticker].append((ohlc_dict[ticker][\"Close\"][i]/ohlc_dict[ticker][\"Close\"][i-1])-1)\n",
    "                \n",
    "        elif tickers_signal[ticker] == \"Sell\":\n",
    "            if ohlc_dict[ticker][\"High\"][i]>ohlc_dict[ticker][\"Close\"][i-1] + ohlc_dict[ticker][\"ATR\"][i-1]:  #change of direction\n",
    "                tickers_signal[ticker] = \"\"\n",
    "                tickers_ret[ticker].append((ohlc_dict[ticker][\"Close\"][i-1]/(ohlc_dict[ticker][\"Close\"][i-1] + ohlc_dict[ticker][\"ATR\"][i-1]))-1)\n",
    "            elif ohlc_dict[ticker][\"High\"][i]>=ohlc_dict[ticker][\"roll_max_cp\"][i] and \\\n",
    "               ohlc_dict[ticker][\"Volume\"][i]>1.5*ohlc_dict[ticker][\"roll_max_vol\"][i-1]:\n",
    "                tickers_signal[ticker] = \"Buy\"\n",
    "                tickers_ret[ticker].append((ohlc_dict[ticker][\"Close\"][i-1]/ohlc_dict[ticker][\"Close\"][i])-1)\n",
    "            else:\n",
    "                tickers_ret[ticker].append((ohlc_dict[ticker][\"Close\"][i-1]/ohlc_dict[ticker][\"Close\"][i])-1)\n",
    "                \n",
    "    ohlc_dict[ticker][\"ret\"] = np.array(tickers_ret[ticker])"
   ]
  },
  {
   "cell_type": "code",
   "execution_count": 64,
   "id": "ad1b8c14",
   "metadata": {},
   "outputs": [
    {
     "name": "stdout",
     "output_type": "stream",
     "text": [
      "                                 Open        High         Low       Close  \\\n",
      "Datetime                                                                    \n",
      "2022-12-06 11:45:00-05:00  246.679993  246.940002  246.570007  246.839996   \n",
      "2022-12-06 11:50:00-05:00  246.860001  247.050003  246.449997  246.470001   \n",
      "2022-12-06 11:55:00-05:00  246.479996  246.919998  246.259995  246.490005   \n",
      "2022-12-06 12:00:00-05:00  246.500000  246.740005  246.350006  246.529999   \n",
      "2022-12-06 12:05:00-05:00  246.539902  246.759995  246.399994  246.615005   \n",
      "...                               ...         ...         ...         ...   \n",
      "2022-12-13 09:50:00-05:00  262.510010  263.019989  261.950012  262.959991   \n",
      "2022-12-13 09:55:00-05:00  262.859985  263.010010  262.170013  262.269989   \n",
      "2022-12-13 10:00:00-05:00  262.339996  262.519989  261.260010  261.489990   \n",
      "2022-12-13 10:05:00-05:00  261.480011  261.559998  260.760010  260.760010   \n",
      "2022-12-13 10:06:00-05:00  260.769989  260.769989  260.769989  260.769989   \n",
      "\n",
      "                            Adj Close  Volume       ATR  roll_max_cp  \\\n",
      "Datetime                                                               \n",
      "2022-12-06 11:45:00-05:00  246.839996  275084  0.467538   247.770004   \n",
      "2022-12-06 11:50:00-05:00  246.470001  283307  0.477378   247.770004   \n",
      "2022-12-06 11:55:00-05:00  246.490005  151983  0.490592   247.750000   \n",
      "2022-12-06 12:00:00-05:00  246.529999  120289  0.483489   247.750000   \n",
      "2022-12-06 12:05:00-05:00  246.615005  539250  0.474966   247.580002   \n",
      "...                               ...     ...       ...          ...   \n",
      "2022-12-13 09:50:00-05:00  262.959991  533947  1.005233   263.915009   \n",
      "2022-12-13 09:55:00-05:00  262.269989  522545  0.997364   263.915009   \n",
      "2022-12-13 10:00:00-05:00  261.489990  533435  1.009870   263.915009   \n",
      "2022-12-13 10:05:00-05:00  260.760010  126481  0.999875   263.915009   \n",
      "2022-12-13 10:06:00-05:00  260.769989       0  0.952738   263.915009   \n",
      "\n",
      "                           roll_min_cp  roll_max_vol       ret  \n",
      "Datetime                                                        \n",
      "2022-12-06 11:45:00-05:00   246.210007      293642.0  0.000000  \n",
      "2022-12-06 11:50:00-05:00   246.210007      293642.0  0.000000  \n",
      "2022-12-06 11:55:00-05:00   246.210007      293642.0  0.000000  \n",
      "2022-12-06 12:00:00-05:00   246.210007      293642.0  0.000000  \n",
      "2022-12-06 12:05:00-05:00   246.210007      539250.0  0.000000  \n",
      "...                                ...           ...       ...  \n",
      "2022-12-13 09:50:00-05:00   250.369995     2687035.0  0.001943  \n",
      "2022-12-13 09:55:00-05:00   250.500000     2687035.0 -0.002624  \n",
      "2022-12-13 10:00:00-05:00   250.759995     2687035.0 -0.003803  \n",
      "2022-12-13 10:05:00-05:00   250.759995     2687035.0  0.000000  \n",
      "2022-12-13 10:06:00-05:00   250.759995     2687035.0  0.000000  \n",
      "\n",
      "[372 rows x 11 columns]\n"
     ]
    }
   ],
   "source": [
    "print(ohlc_dict[\"MSFT\"])"
   ]
  },
  {
   "cell_type": "code",
   "execution_count": 65,
   "id": "2f4a8c71",
   "metadata": {},
   "outputs": [
    {
     "name": "stdout",
     "output_type": "stream",
     "text": [
      "1.4535605495971264\n",
      "11.657910166926841\n",
      "0.0036527850722678917\n"
     ]
    }
   ],
   "source": [
    "#calculating overall strategy's KPIs\n",
    "strategy_df=pd.DataFrame()\n",
    "for ticker in tickers:\n",
    "    strategy_df[ticker]=ohlc_dict[ticker][\"ret\"]\n",
    "strategy_df[\"ret\"]=strategy_df.mean(axis=1)\n",
    "print(CAGR(strategy_df))\n",
    "print(sharpe(strategy_df,0.025))\n",
    "print(max_dd(strategy_df))"
   ]
  },
  {
   "cell_type": "code",
   "execution_count": 66,
   "id": "1980d693",
   "metadata": {},
   "outputs": [
    {
     "data": {
      "text/plain": [
       "<AxesSubplot:xlabel='Datetime'>"
      ]
     },
     "execution_count": 66,
     "metadata": {},
     "output_type": "execute_result"
    },
    {
     "data": {
      "image/png": "[encoded data removed]",
      "text/plain": [
       "<Figure size 640x480 with 1 Axes>"
      ]
     },
     "metadata": {},
     "output_type": "display_data"
    }
   ],
   "source": [
    "(1+strategy_df[\"ret\"]).cumprod().plot()"
   ]
  },
  {
   "cell_type": "code",
   "execution_count": 67,
   "id": "20b9a808",
   "metadata": {},
   "outputs": [
    {
     "name": "stdout",
     "output_type": "stream",
     "text": [
      "calculating KPIs for  MSFT\n",
      "calculating KPIs for  AAPL\n",
      "calculating KPIs for  META\n",
      "calculating KPIs for  AMZN\n",
      "calculating KPIs for  INTC\n",
      "calculating KPIs for  CSCO\n",
      "calculating KPIs for  VZ\n",
      "calculating KPIs for  IBM\n",
      "calculating KPIs for  TSLA\n",
      "calculating KPIs for  AMD\n"
     ]
    }
   ],
   "source": [
    "#calculating individual stock's KPIs\n",
    "cagr = {}\n",
    "sharpe_ratios = {}\n",
    "max_drawdown = {}\n",
    "for ticker in tickers:\n",
    "    print(\"calculating KPIs for \",ticker)      \n",
    "    cagr[ticker] =  CAGR(ohlc_dict[ticker])\n",
    "    sharpe_ratios[ticker] =  sharpe(ohlc_dict[ticker],0.025)\n",
    "    max_drawdown[ticker] =  max_dd(ohlc_dict[ticker])"
   ]
  },
  {
   "cell_type": "code",
   "execution_count": 68,
   "id": "72887f2a",
   "metadata": {},
   "outputs": [
    {
     "data": {
      "text/html": [
       "<div>\n",
       "<style scoped>\n",
       "    .dataframe tbody tr th:only-of-type {\n",
       "        vertical-align: middle;\n",
       "    }\n",
       "\n",
       "    .dataframe tbody tr th {\n",
       "        vertical-align: top;\n",
       "    }\n",
       "\n",
       "    .dataframe thead th {\n",
       "        text-align: right;\n",
       "    }\n",
       "</style>\n",
       "<table border=\"1\" class=\"dataframe\">\n",
       "  <thead>\n",
       "    <tr style=\"text-align: right;\">\n",
       "      <th></th>\n",
       "      <th>Return</th>\n",
       "      <th>Sharpe Ratio</th>\n",
       "      <th>Max Drawdown</th>\n",
       "    </tr>\n",
       "  </thead>\n",
       "  <tbody>\n",
       "    <tr>\n",
       "      <th>MSFT</th>\n",
       "      <td>4.915880</td>\n",
       "      <td>19.120753</td>\n",
       "      <td>0.006832</td>\n",
       "    </tr>\n",
       "    <tr>\n",
       "      <th>AAPL</th>\n",
       "      <td>-0.328655</td>\n",
       "      <td>-5.065793</td>\n",
       "      <td>0.012212</td>\n",
       "    </tr>\n",
       "    <tr>\n",
       "      <th>META</th>\n",
       "      <td>0.370864</td>\n",
       "      <td>3.040478</td>\n",
       "      <td>0.011349</td>\n",
       "    </tr>\n",
       "    <tr>\n",
       "      <th>AMZN</th>\n",
       "      <td>0.947036</td>\n",
       "      <td>6.616292</td>\n",
       "      <td>0.017559</td>\n",
       "    </tr>\n",
       "    <tr>\n",
       "      <th>INTC</th>\n",
       "      <td>9.980860</td>\n",
       "      <td>35.712956</td>\n",
       "      <td>0.004825</td>\n",
       "    </tr>\n",
       "    <tr>\n",
       "      <th>CSCO</th>\n",
       "      <td>1.856219</td>\n",
       "      <td>10.933457</td>\n",
       "      <td>0.004918</td>\n",
       "    </tr>\n",
       "    <tr>\n",
       "      <th>VZ</th>\n",
       "      <td>0.690011</td>\n",
       "      <td>6.896202</td>\n",
       "      <td>0.004511</td>\n",
       "    </tr>\n",
       "    <tr>\n",
       "      <th>IBM</th>\n",
       "      <td>1.762239</td>\n",
       "      <td>13.015946</td>\n",
       "      <td>0.004395</td>\n",
       "    </tr>\n",
       "    <tr>\n",
       "      <th>TSLA</th>\n",
       "      <td>-0.522630</td>\n",
       "      <td>-6.642601</td>\n",
       "      <td>0.013897</td>\n",
       "    </tr>\n",
       "    <tr>\n",
       "      <th>AMD</th>\n",
       "      <td>8.617160</td>\n",
       "      <td>24.695065</td>\n",
       "      <td>0.010670</td>\n",
       "    </tr>\n",
       "  </tbody>\n",
       "</table>\n",
       "</div>"
      ],
      "text/plain": [
       "        Return  Sharpe Ratio  Max Drawdown\n",
       "MSFT  4.915880     19.120753      0.006832\n",
       "AAPL -0.328655     -5.065793      0.012212\n",
       "META  0.370864      3.040478      0.011349\n",
       "AMZN  0.947036      6.616292      0.017559\n",
       "INTC  9.980860     35.712956      0.004825\n",
       "CSCO  1.856219     10.933457      0.004918\n",
       "VZ    0.690011      6.896202      0.004511\n",
       "IBM   1.762239     13.015946      0.004395\n",
       "TSLA -0.522630     -6.642601      0.013897\n",
       "AMD   8.617160     24.695065      0.010670"
      ]
     },
     "execution_count": 68,
     "metadata": {},
     "output_type": "execute_result"
    }
   ],
   "source": [
    "KPI_df = pd.DataFrame([cagr,sharpe_ratios,max_drawdown],index=[\"Return\",\"Sharpe Ratio\",\"Max Drawdown\"])      \n",
    "KPI_df.T"
   ]
  },
  {
   "cell_type": "code",
   "execution_count": null,
   "id": "1b71b508",
   "metadata": {},
   "outputs": [],
   "source": []
  },
  {
   "cell_type": "code",
   "execution_count": null,
   "id": "5121e9e2",
   "metadata": {},
   "outputs": [],
   "source": []
  },
  {
   "cell_type": "code",
   "execution_count": null,
   "id": "07c1f843",
   "metadata": {},
   "outputs": [],
   "source": []
  }
 ],
 "metadata": {
  "kernelspec": {
   "display_name": "Python 3 (ipykernel)",
   "language": "python",
   "name": "python3"
  },
  "language_info": {
   "codemirror_mode": {
    "name": "ipython",
    "version": 3
   },
   "file_extension": ".py",
   "mimetype": "text/x-python",
   "name": "python",
   "nbconvert_exporter": "python",
   "pygments_lexer": "ipython3",
   "version": "3.9.7"
  }
 },
 "nbformat": 4,
 "nbformat_minor": 5
}
