{
 "cells": [
  {
   "cell_type": "code",
   "execution_count": 6,
   "id": "b255e692",
   "metadata": {},
   "outputs": [],
   "source": [
    "import matplotlib.pyplot as plt\n",
    "import yfinance as yf\n",
    "import pandas as pd"
   ]
  },
  {
   "cell_type": "code",
   "execution_count": 7,
   "id": "005ab6c4",
   "metadata": {},
   "outputs": [],
   "source": [
    "def VWAP(DF):\n",
    "    df=DF.copy()\n",
    "    df[\"typ\"]=(df[\"High\"]+df[\"Low\"]+df[\"Close\"])/3\n",
    "    df[\"typ_vol\"]=df[\"typ\"]*df[\"Volume\"]\n",
    "    df[\"cum_typ_vol\"]=df[\"typ_vol\"].cumsum()\n",
    "    df[\"cum_vol\"]=df[\"Volume\"].cumsum()\n",
    "    df[\"vwap\"]=df[\"cum_typ_vol\"]/df[\"cum_vol\"]\n",
    "    return df[\"vwap\"]"
   ]
  },
  {
   "cell_type": "code",
   "execution_count": 8,
   "id": "92e33e7f",
   "metadata": {},
   "outputs": [],
   "source": [
    "ticker='spy'"
   ]
  },
  {
   "cell_type": "code",
   "execution_count": 9,
   "id": "87c5c60b",
   "metadata": {},
   "outputs": [
    {
     "data": {
      "text/html": [
       "<div>\n",
       "<style scoped>\n",
       "    .dataframe tbody tr th:only-of-type {\n",
       "        vertical-align: middle;\n",
       "    }\n",
       "\n",
       "    .dataframe tbody tr th {\n",
       "        vertical-align: top;\n",
       "    }\n",
       "\n",
       "    .dataframe thead th {\n",
       "        text-align: right;\n",
       "    }\n",
       "</style>\n",
       "<table border=\"1\" class=\"dataframe\">\n",
       "  <thead>\n",
       "    <tr style=\"text-align: right;\">\n",
       "      <th></th>\n",
       "      <th>Unnamed: 0</th>\n",
       "      <th>Datetime</th>\n",
       "      <th>Open</th>\n",
       "      <th>High</th>\n",
       "      <th>Low</th>\n",
       "      <th>Close</th>\n",
       "      <th>Volume</th>\n",
       "      <th>Adj Close</th>\n",
       "    </tr>\n",
       "    <tr>\n",
       "      <th>Datetime</th>\n",
       "      <th></th>\n",
       "      <th></th>\n",
       "      <th></th>\n",
       "      <th></th>\n",
       "      <th></th>\n",
       "      <th></th>\n",
       "      <th></th>\n",
       "      <th></th>\n",
       "    </tr>\n",
       "  </thead>\n",
       "  <tbody>\n",
       "    <tr>\n",
       "      <th>2005-01-03 08:30:00</th>\n",
       "      <td>0</td>\n",
       "      <td>2005-01-03 08:30:00</td>\n",
       "      <td>87.0682</td>\n",
       "      <td>87.0753</td>\n",
       "      <td>87.0682</td>\n",
       "      <td>87.0682</td>\n",
       "      <td>193500</td>\n",
       "      <td>87.0682</td>\n",
       "    </tr>\n",
       "    <tr>\n",
       "      <th>2005-01-03 08:33:00</th>\n",
       "      <td>1</td>\n",
       "      <td>2005-01-03 08:33:00</td>\n",
       "      <td>87.0682</td>\n",
       "      <td>87.0896</td>\n",
       "      <td>87.0682</td>\n",
       "      <td>87.0753</td>\n",
       "      <td>83500</td>\n",
       "      <td>87.0753</td>\n",
       "    </tr>\n",
       "    <tr>\n",
       "      <th>2005-01-03 08:36:00</th>\n",
       "      <td>2</td>\n",
       "      <td>2005-01-03 08:36:00</td>\n",
       "      <td>87.0467</td>\n",
       "      <td>87.0467</td>\n",
       "      <td>87.0467</td>\n",
       "      <td>87.0467</td>\n",
       "      <td>2000</td>\n",
       "      <td>87.0467</td>\n",
       "    </tr>\n",
       "    <tr>\n",
       "      <th>2005-01-03 08:39:00</th>\n",
       "      <td>3</td>\n",
       "      <td>2005-01-03 08:39:00</td>\n",
       "      <td>NaN</td>\n",
       "      <td>NaN</td>\n",
       "      <td>NaN</td>\n",
       "      <td>NaN</td>\n",
       "      <td>0</td>\n",
       "      <td>NaN</td>\n",
       "    </tr>\n",
       "    <tr>\n",
       "      <th>2005-01-03 08:42:00</th>\n",
       "      <td>4</td>\n",
       "      <td>2005-01-03 08:42:00</td>\n",
       "      <td>87.0467</td>\n",
       "      <td>87.0467</td>\n",
       "      <td>87.0395</td>\n",
       "      <td>87.0395</td>\n",
       "      <td>1600</td>\n",
       "      <td>87.0395</td>\n",
       "    </tr>\n",
       "    <tr>\n",
       "      <th>...</th>\n",
       "      <td>...</td>\n",
       "      <td>...</td>\n",
       "      <td>...</td>\n",
       "      <td>...</td>\n",
       "      <td>...</td>\n",
       "      <td>...</td>\n",
       "      <td>...</td>\n",
       "      <td>...</td>\n",
       "    </tr>\n",
       "    <tr>\n",
       "      <th>2022-11-11 15:45:00</th>\n",
       "      <td>674405</td>\n",
       "      <td>2022-11-11 15:45:00</td>\n",
       "      <td>398.7900</td>\n",
       "      <td>399.0400</td>\n",
       "      <td>398.6800</td>\n",
       "      <td>398.8800</td>\n",
       "      <td>1298978</td>\n",
       "      <td>398.8800</td>\n",
       "    </tr>\n",
       "    <tr>\n",
       "      <th>2022-11-11 15:48:00</th>\n",
       "      <td>674406</td>\n",
       "      <td>2022-11-11 15:48:00</td>\n",
       "      <td>398.8700</td>\n",
       "      <td>399.3500</td>\n",
       "      <td>398.7700</td>\n",
       "      <td>399.0800</td>\n",
       "      <td>1184563</td>\n",
       "      <td>399.0800</td>\n",
       "    </tr>\n",
       "    <tr>\n",
       "      <th>2022-11-11 15:51:00</th>\n",
       "      <td>674407</td>\n",
       "      <td>2022-11-11 15:51:00</td>\n",
       "      <td>399.0900</td>\n",
       "      <td>399.2100</td>\n",
       "      <td>398.5700</td>\n",
       "      <td>399.1100</td>\n",
       "      <td>1198641</td>\n",
       "      <td>399.1100</td>\n",
       "    </tr>\n",
       "    <tr>\n",
       "      <th>2022-11-11 15:54:00</th>\n",
       "      <td>674408</td>\n",
       "      <td>2022-11-11 15:54:00</td>\n",
       "      <td>399.1000</td>\n",
       "      <td>399.1300</td>\n",
       "      <td>398.3450</td>\n",
       "      <td>398.4400</td>\n",
       "      <td>1420071</td>\n",
       "      <td>398.4400</td>\n",
       "    </tr>\n",
       "    <tr>\n",
       "      <th>2022-11-11 15:57:00</th>\n",
       "      <td>674409</td>\n",
       "      <td>2022-11-11 15:57:00</td>\n",
       "      <td>398.4400</td>\n",
       "      <td>398.6300</td>\n",
       "      <td>398.1600</td>\n",
       "      <td>398.5000</td>\n",
       "      <td>3396674</td>\n",
       "      <td>398.5000</td>\n",
       "    </tr>\n",
       "  </tbody>\n",
       "</table>\n",
       "<p>674410 rows × 8 columns</p>\n",
       "</div>"
      ],
      "text/plain": [
       "                     Unnamed: 0            Datetime      Open      High  \\\n",
       "Datetime                                                                  \n",
       "2005-01-03 08:30:00           0 2005-01-03 08:30:00   87.0682   87.0753   \n",
       "2005-01-03 08:33:00           1 2005-01-03 08:33:00   87.0682   87.0896   \n",
       "2005-01-03 08:36:00           2 2005-01-03 08:36:00   87.0467   87.0467   \n",
       "2005-01-03 08:39:00           3 2005-01-03 08:39:00       NaN       NaN   \n",
       "2005-01-03 08:42:00           4 2005-01-03 08:42:00   87.0467   87.0467   \n",
       "...                         ...                 ...       ...       ...   \n",
       "2022-11-11 15:45:00      674405 2022-11-11 15:45:00  398.7900  399.0400   \n",
       "2022-11-11 15:48:00      674406 2022-11-11 15:48:00  398.8700  399.3500   \n",
       "2022-11-11 15:51:00      674407 2022-11-11 15:51:00  399.0900  399.2100   \n",
       "2022-11-11 15:54:00      674408 2022-11-11 15:54:00  399.1000  399.1300   \n",
       "2022-11-11 15:57:00      674409 2022-11-11 15:57:00  398.4400  398.6300   \n",
       "\n",
       "                          Low     Close   Volume  Adj Close  \n",
       "Datetime                                                     \n",
       "2005-01-03 08:30:00   87.0682   87.0682   193500    87.0682  \n",
       "2005-01-03 08:33:00   87.0682   87.0753    83500    87.0753  \n",
       "2005-01-03 08:36:00   87.0467   87.0467     2000    87.0467  \n",
       "2005-01-03 08:39:00       NaN       NaN        0        NaN  \n",
       "2005-01-03 08:42:00   87.0395   87.0395     1600    87.0395  \n",
       "...                       ...       ...      ...        ...  \n",
       "2022-11-11 15:45:00  398.6800  398.8800  1298978   398.8800  \n",
       "2022-11-11 15:48:00  398.7700  399.0800  1184563   399.0800  \n",
       "2022-11-11 15:51:00  398.5700  399.1100  1198641   399.1100  \n",
       "2022-11-11 15:54:00  398.3450  398.4400  1420071   398.4400  \n",
       "2022-11-11 15:57:00  398.1600  398.5000  3396674   398.5000  \n",
       "\n",
       "[674410 rows x 8 columns]"
      ]
     },
     "execution_count": 9,
     "metadata": {},
     "output_type": "execute_result"
    }
   ],
   "source": [
    "stock_intraday=pd.read_csv(\"spy_3min.csv\")\n",
    "stock_intraday[\"Datetime\"]=pd.to_datetime(stock_intraday[\"Datetime\"])\n",
    "stock_intraday[\"Adj Close\"]=stock_intraday[\"Close\"]\n",
    "#might drop \"Close\"\n",
    "stock_intraday.index=stock_intraday[\"Datetime\"]\n",
    "#might drop \"Datetime\"\n",
    "stock_intraday"
   ]
  },
  {
   "cell_type": "code",
   "execution_count": 10,
   "id": "3be25161",
   "metadata": {},
   "outputs": [],
   "source": [
    "#stock_intraday=yf.download(ticker,period='60d',interval='5m')\n",
    "#stock_intraday"
   ]
  },
  {
   "cell_type": "code",
   "execution_count": 11,
   "id": "90c2380c",
   "metadata": {},
   "outputs": [
    {
     "name": "stdout",
     "output_type": "stream",
     "text": [
      "[*********************100%***********************]  1 of 1 completed\n"
     ]
    },
    {
     "data": {
      "text/html": [
       "<div>\n",
       "<style scoped>\n",
       "    .dataframe tbody tr th:only-of-type {\n",
       "        vertical-align: middle;\n",
       "    }\n",
       "\n",
       "    .dataframe tbody tr th {\n",
       "        vertical-align: top;\n",
       "    }\n",
       "\n",
       "    .dataframe thead th {\n",
       "        text-align: right;\n",
       "    }\n",
       "</style>\n",
       "<table border=\"1\" class=\"dataframe\">\n",
       "  <thead>\n",
       "    <tr style=\"text-align: right;\">\n",
       "      <th></th>\n",
       "      <th>Open</th>\n",
       "      <th>High</th>\n",
       "      <th>Low</th>\n",
       "      <th>Close</th>\n",
       "      <th>Adj Close</th>\n",
       "      <th>Volume</th>\n",
       "    </tr>\n",
       "    <tr>\n",
       "      <th>Date</th>\n",
       "      <th></th>\n",
       "      <th></th>\n",
       "      <th></th>\n",
       "      <th></th>\n",
       "      <th></th>\n",
       "      <th></th>\n",
       "    </tr>\n",
       "  </thead>\n",
       "  <tbody>\n",
       "    <tr>\n",
       "      <th>1993-01-29</th>\n",
       "      <td>43.968750</td>\n",
       "      <td>43.968750</td>\n",
       "      <td>43.750000</td>\n",
       "      <td>43.937500</td>\n",
       "      <td>25.218218</td>\n",
       "      <td>1003200</td>\n",
       "    </tr>\n",
       "    <tr>\n",
       "      <th>1993-02-01</th>\n",
       "      <td>43.968750</td>\n",
       "      <td>44.250000</td>\n",
       "      <td>43.968750</td>\n",
       "      <td>44.250000</td>\n",
       "      <td>25.397581</td>\n",
       "      <td>480500</td>\n",
       "    </tr>\n",
       "    <tr>\n",
       "      <th>1993-02-02</th>\n",
       "      <td>44.218750</td>\n",
       "      <td>44.375000</td>\n",
       "      <td>44.125000</td>\n",
       "      <td>44.343750</td>\n",
       "      <td>25.451393</td>\n",
       "      <td>201300</td>\n",
       "    </tr>\n",
       "    <tr>\n",
       "      <th>1993-02-03</th>\n",
       "      <td>44.406250</td>\n",
       "      <td>44.843750</td>\n",
       "      <td>44.375000</td>\n",
       "      <td>44.812500</td>\n",
       "      <td>25.720423</td>\n",
       "      <td>529400</td>\n",
       "    </tr>\n",
       "    <tr>\n",
       "      <th>1993-02-04</th>\n",
       "      <td>44.968750</td>\n",
       "      <td>45.093750</td>\n",
       "      <td>44.468750</td>\n",
       "      <td>45.000000</td>\n",
       "      <td>25.828054</td>\n",
       "      <td>531500</td>\n",
       "    </tr>\n",
       "    <tr>\n",
       "      <th>...</th>\n",
       "      <td>...</td>\n",
       "      <td>...</td>\n",
       "      <td>...</td>\n",
       "      <td>...</td>\n",
       "      <td>...</td>\n",
       "      <td>...</td>\n",
       "    </tr>\n",
       "    <tr>\n",
       "      <th>2022-12-22</th>\n",
       "      <td>383.049988</td>\n",
       "      <td>386.209991</td>\n",
       "      <td>374.769989</td>\n",
       "      <td>380.720001</td>\n",
       "      <td>380.720001</td>\n",
       "      <td>100120900</td>\n",
       "    </tr>\n",
       "    <tr>\n",
       "      <th>2022-12-23</th>\n",
       "      <td>379.649994</td>\n",
       "      <td>383.059998</td>\n",
       "      <td>378.029999</td>\n",
       "      <td>382.910004</td>\n",
       "      <td>382.910004</td>\n",
       "      <td>59761100</td>\n",
       "    </tr>\n",
       "    <tr>\n",
       "      <th>2022-12-27</th>\n",
       "      <td>382.790009</td>\n",
       "      <td>383.149994</td>\n",
       "      <td>379.649994</td>\n",
       "      <td>381.399994</td>\n",
       "      <td>381.399994</td>\n",
       "      <td>51638200</td>\n",
       "    </tr>\n",
       "    <tr>\n",
       "      <th>2022-12-28</th>\n",
       "      <td>381.329987</td>\n",
       "      <td>383.390015</td>\n",
       "      <td>376.420013</td>\n",
       "      <td>376.660004</td>\n",
       "      <td>376.660004</td>\n",
       "      <td>70911500</td>\n",
       "    </tr>\n",
       "    <tr>\n",
       "      <th>2022-12-29</th>\n",
       "      <td>379.630005</td>\n",
       "      <td>384.339996</td>\n",
       "      <td>379.079987</td>\n",
       "      <td>383.440002</td>\n",
       "      <td>383.440002</td>\n",
       "      <td>65947901</td>\n",
       "    </tr>\n",
       "  </tbody>\n",
       "</table>\n",
       "<p>7535 rows × 6 columns</p>\n",
       "</div>"
      ],
      "text/plain": [
       "                  Open        High         Low       Close   Adj Close  \\\n",
       "Date                                                                     \n",
       "1993-01-29   43.968750   43.968750   43.750000   43.937500   25.218218   \n",
       "1993-02-01   43.968750   44.250000   43.968750   44.250000   25.397581   \n",
       "1993-02-02   44.218750   44.375000   44.125000   44.343750   25.451393   \n",
       "1993-02-03   44.406250   44.843750   44.375000   44.812500   25.720423   \n",
       "1993-02-04   44.968750   45.093750   44.468750   45.000000   25.828054   \n",
       "...                ...         ...         ...         ...         ...   \n",
       "2022-12-22  383.049988  386.209991  374.769989  380.720001  380.720001   \n",
       "2022-12-23  379.649994  383.059998  378.029999  382.910004  382.910004   \n",
       "2022-12-27  382.790009  383.149994  379.649994  381.399994  381.399994   \n",
       "2022-12-28  381.329987  383.390015  376.420013  376.660004  376.660004   \n",
       "2022-12-29  379.630005  384.339996  379.079987  383.440002  383.440002   \n",
       "\n",
       "               Volume  \n",
       "Date                   \n",
       "1993-01-29    1003200  \n",
       "1993-02-01     480500  \n",
       "1993-02-02     201300  \n",
       "1993-02-03     529400  \n",
       "1993-02-04     531500  \n",
       "...               ...  \n",
       "2022-12-22  100120900  \n",
       "2022-12-23   59761100  \n",
       "2022-12-27   51638200  \n",
       "2022-12-28   70911500  \n",
       "2022-12-29   65947901  \n",
       "\n",
       "[7535 rows x 6 columns]"
      ]
     },
     "execution_count": 11,
     "metadata": {},
     "output_type": "execute_result"
    }
   ],
   "source": [
    "import yfinance as yf\n",
    "stock_daily=yf.download(ticker,period='max',interval='1d')\n",
    "stock_daily"
   ]
  },
  {
   "cell_type": "code",
   "execution_count": 12,
   "id": "51c8753b",
   "metadata": {},
   "outputs": [
    {
     "data": {
      "text/plain": [
       "Timestamp('1993-01-29 00:00:00')"
      ]
     },
     "execution_count": 12,
     "metadata": {},
     "output_type": "execute_result"
    }
   ],
   "source": [
    "stock_daily.index[0]"
   ]
  },
  {
   "cell_type": "code",
   "execution_count": 13,
   "id": "d5847084",
   "metadata": {},
   "outputs": [
    {
     "name": "stdout",
     "output_type": "stream",
     "text": [
      "[*********************100%***********************]  1 of 1 completed\n"
     ]
    },
    {
     "data": {
      "text/html": [
       "<div>\n",
       "<style scoped>\n",
       "    .dataframe tbody tr th:only-of-type {\n",
       "        vertical-align: middle;\n",
       "    }\n",
       "\n",
       "    .dataframe tbody tr th {\n",
       "        vertical-align: top;\n",
       "    }\n",
       "\n",
       "    .dataframe thead th {\n",
       "        text-align: right;\n",
       "    }\n",
       "</style>\n",
       "<table border=\"1\" class=\"dataframe\">\n",
       "  <thead>\n",
       "    <tr style=\"text-align: right;\">\n",
       "      <th></th>\n",
       "      <th>Open</th>\n",
       "      <th>High</th>\n",
       "      <th>Low</th>\n",
       "      <th>Close</th>\n",
       "      <th>Adj Close</th>\n",
       "      <th>Volume</th>\n",
       "    </tr>\n",
       "    <tr>\n",
       "      <th>Date</th>\n",
       "      <th></th>\n",
       "      <th></th>\n",
       "      <th></th>\n",
       "      <th></th>\n",
       "      <th></th>\n",
       "      <th></th>\n",
       "    </tr>\n",
       "  </thead>\n",
       "  <tbody>\n",
       "    <tr>\n",
       "      <th>1993-01-25</th>\n",
       "      <td>43.968750</td>\n",
       "      <td>43.968750</td>\n",
       "      <td>43.750000</td>\n",
       "      <td>43.937500</td>\n",
       "      <td>25.218233</td>\n",
       "      <td>1003200.0</td>\n",
       "    </tr>\n",
       "    <tr>\n",
       "      <th>1993-02-01</th>\n",
       "      <td>43.968750</td>\n",
       "      <td>45.093750</td>\n",
       "      <td>43.968750</td>\n",
       "      <td>44.968750</td>\n",
       "      <td>25.810123</td>\n",
       "      <td>2234800.0</td>\n",
       "    </tr>\n",
       "    <tr>\n",
       "      <th>1993-02-08</th>\n",
       "      <td>44.968750</td>\n",
       "      <td>45.125000</td>\n",
       "      <td>44.531250</td>\n",
       "      <td>44.593750</td>\n",
       "      <td>25.594873</td>\n",
       "      <td>1159800.0</td>\n",
       "    </tr>\n",
       "    <tr>\n",
       "      <th>1993-02-15</th>\n",
       "      <td>44.468750</td>\n",
       "      <td>44.468750</td>\n",
       "      <td>42.812500</td>\n",
       "      <td>43.562500</td>\n",
       "      <td>25.002989</td>\n",
       "      <td>998700.0</td>\n",
       "    </tr>\n",
       "    <tr>\n",
       "      <th>1993-02-22</th>\n",
       "      <td>43.687500</td>\n",
       "      <td>44.437500</td>\n",
       "      <td>43.468750</td>\n",
       "      <td>44.406250</td>\n",
       "      <td>25.487267</td>\n",
       "      <td>1024300.0</td>\n",
       "    </tr>\n",
       "    <tr>\n",
       "      <th>...</th>\n",
       "      <td>...</td>\n",
       "      <td>...</td>\n",
       "      <td>...</td>\n",
       "      <td>...</td>\n",
       "      <td>...</td>\n",
       "      <td>...</td>\n",
       "    </tr>\n",
       "    <tr>\n",
       "      <th>2022-12-12</th>\n",
       "      <td>394.109985</td>\n",
       "      <td>410.489990</td>\n",
       "      <td>381.040009</td>\n",
       "      <td>383.269989</td>\n",
       "      <td>381.518066</td>\n",
       "      <td>544770000.0</td>\n",
       "    </tr>\n",
       "    <tr>\n",
       "      <th>2022-12-16</th>\n",
       "      <td>NaN</td>\n",
       "      <td>NaN</td>\n",
       "      <td>NaN</td>\n",
       "      <td>NaN</td>\n",
       "      <td>NaN</td>\n",
       "      <td>NaN</td>\n",
       "    </tr>\n",
       "    <tr>\n",
       "      <th>2022-12-19</th>\n",
       "      <td>383.470001</td>\n",
       "      <td>387.410004</td>\n",
       "      <td>374.769989</td>\n",
       "      <td>382.910004</td>\n",
       "      <td>382.910004</td>\n",
       "      <td>392354700.0</td>\n",
       "    </tr>\n",
       "    <tr>\n",
       "      <th>2022-12-26</th>\n",
       "      <td>382.790009</td>\n",
       "      <td>383.390015</td>\n",
       "      <td>376.420013</td>\n",
       "      <td>376.660004</td>\n",
       "      <td>376.660004</td>\n",
       "      <td>122549700.0</td>\n",
       "    </tr>\n",
       "    <tr>\n",
       "      <th>2022-12-29</th>\n",
       "      <td>379.630005</td>\n",
       "      <td>384.339996</td>\n",
       "      <td>379.079987</td>\n",
       "      <td>383.440002</td>\n",
       "      <td>383.440002</td>\n",
       "      <td>65947901.0</td>\n",
       "    </tr>\n",
       "  </tbody>\n",
       "</table>\n",
       "<p>1683 rows × 6 columns</p>\n",
       "</div>"
      ],
      "text/plain": [
       "                  Open        High         Low       Close   Adj Close  \\\n",
       "Date                                                                     \n",
       "1993-01-25   43.968750   43.968750   43.750000   43.937500   25.218233   \n",
       "1993-02-01   43.968750   45.093750   43.968750   44.968750   25.810123   \n",
       "1993-02-08   44.968750   45.125000   44.531250   44.593750   25.594873   \n",
       "1993-02-15   44.468750   44.468750   42.812500   43.562500   25.002989   \n",
       "1993-02-22   43.687500   44.437500   43.468750   44.406250   25.487267   \n",
       "...                ...         ...         ...         ...         ...   \n",
       "2022-12-12  394.109985  410.489990  381.040009  383.269989  381.518066   \n",
       "2022-12-16         NaN         NaN         NaN         NaN         NaN   \n",
       "2022-12-19  383.470001  387.410004  374.769989  382.910004  382.910004   \n",
       "2022-12-26  382.790009  383.390015  376.420013  376.660004  376.660004   \n",
       "2022-12-29  379.630005  384.339996  379.079987  383.440002  383.440002   \n",
       "\n",
       "                 Volume  \n",
       "Date                     \n",
       "1993-01-25    1003200.0  \n",
       "1993-02-01    2234800.0  \n",
       "1993-02-08    1159800.0  \n",
       "1993-02-15     998700.0  \n",
       "1993-02-22    1024300.0  \n",
       "...                 ...  \n",
       "2022-12-12  544770000.0  \n",
       "2022-12-16          NaN  \n",
       "2022-12-19  392354700.0  \n",
       "2022-12-26  122549700.0  \n",
       "2022-12-29   65947901.0  \n",
       "\n",
       "[1683 rows x 6 columns]"
      ]
     },
     "execution_count": 13,
     "metadata": {},
     "output_type": "execute_result"
    }
   ],
   "source": [
    "stock_weekly=yf.download(ticker,period=\"max\",interval='1wk')\n",
    "stock_weekly"
   ]
  },
  {
   "cell_type": "code",
   "execution_count": 14,
   "id": "5938351b",
   "metadata": {},
   "outputs": [
    {
     "name": "stdout",
     "output_type": "stream",
     "text": [
      "[*********************100%***********************]  1 of 1 completed\n"
     ]
    }
   ],
   "source": [
    "stock_monthly=yf.download(ticker,period=\"max\",interval='1mo')"
   ]
  },
  {
   "cell_type": "code",
   "execution_count": 15,
   "id": "565c703e",
   "metadata": {},
   "outputs": [],
   "source": [
    "def pivot_daily(df):\n",
    "    \"\"\"\n",
    "    input=1d dataframe\n",
    "    \"\"\"\n",
    "    df[\"PP\"]=round((df[\"High\"].shift(1)+df[\"Low\"].shift(1)+df[\"Close\"].shift(1))/3,2)\n",
    "    df[\"BC\"]=round((df[\"High\"].shift(1)+df[\"Low\"].shift(1))/2,2)\n",
    "    df[\"TC\"]=round((df[\"PP\"]-df[\"BC\"])+df[\"PP\"],2)\n",
    "    df[\"R1\"]=round(df[\"PP\"]*2-df[\"Low\"].shift(1),2)\n",
    "    df[\"S1\"]=round(df[\"PP\"]*2-df[\"High\"].shift(1),2)\n",
    "    df[\"R2\"]=round(df[\"PP\"]+(df[\"High\"].shift(1)-df[\"Low\"].shift(1)),2)\n",
    "    df[\"S2\"]=round(df[\"PP\"]-(df[\"High\"].shift(1)-df[\"Low\"].shift(1)),2)\n",
    "    df[\"R3\"]=round(df[\"PP\"]*2+(df[\"High\"].shift(1)-2*df[\"Low\"].shift(1)),2)\n",
    "    df[\"S3\"]=round(df[\"PP\"]*2-(2*df[\"High\"].shift(1)-df[\"Low\"].shift(1)),2)\n",
    "    df[\"R4\"]=round(df[\"R3\"]+(df[\"R2\"]-df[\"R1\"]),2)\n",
    "    df[\"S4\"]=round(df[\"S3\"]-(df[\"S1\"]-df[\"S2\"]),2)\n",
    "    return df"
   ]
  },
  {
   "cell_type": "code",
   "execution_count": 16,
   "id": "26eb16dd",
   "metadata": {},
   "outputs": [],
   "source": [
    "def pivot_weekly(df):\n",
    "    \"\"\"\n",
    "    input=1 week dataframe\n",
    "    \"\"\"\n",
    "    df[\"PP\"]=round((df[\"High\"].shift(1)+df[\"Low\"].shift(1)+df[\"Close\"].shift(1))/3,2)\n",
    "    #df[\"BC\"]=round((df[\"High\"].shift(1)+df[\"Low\"].shift(1))/2,2)\n",
    "    #df[\"TC\"]=round((df[\"PP\"]-df[\"BC\"])+df[\"PP\"],2)\n",
    "    df[\"R1\"]=round(df[\"PP\"]*2-df[\"Low\"].shift(1),2)\n",
    "    df[\"S1\"]=round(df[\"PP\"]*2-df[\"High\"].shift(1),2)\n",
    "    df[\"R2\"]=round(df[\"PP\"]+(df[\"High\"].shift(1)-df[\"Low\"].shift(1)),2)\n",
    "    df[\"S2\"]=round(df[\"PP\"]-(df[\"High\"].shift(1)-df[\"Low\"].shift(1)),2)\n",
    "    df[\"R3\"]=round(df[\"PP\"]*2+(df[\"High\"].shift(1)-2*df[\"Low\"].shift(1)),2)\n",
    "    df[\"S3\"]=round(df[\"PP\"]*2-(2*df[\"High\"].shift(1)-df[\"Low\"].shift(1)),2)\n",
    "    return df"
   ]
  },
  {
   "cell_type": "code",
   "execution_count": 17,
   "id": "b9a5a54b",
   "metadata": {},
   "outputs": [],
   "source": [
    "def pivot_monthly(df):\n",
    "    \"\"\"\n",
    "    input=1 month dataframe\n",
    "    \"\"\"\n",
    "    df[\"PP\"]=round((df[\"High\"].shift(1)+df[\"Low\"].shift(1)+df[\"Close\"].shift(1))/3,2)\n",
    "    #df[\"BC\"]=round((df[\"High\"].shift(1)+df[\"Low\"].shift(1))/2,2)\n",
    "    #df[\"TC\"]=round((df[\"PP\"]-df[\"BC\"])+df[\"PP\"],2)\n",
    "    df[\"R1\"]=round(df[\"PP\"]*2-df[\"Low\"].shift(1),2)\n",
    "    df[\"S1\"]=round(df[\"PP\"]*2-df[\"High\"].shift(1),2)\n",
    "    df[\"R2\"]=round(df[\"PP\"]+(df[\"High\"].shift(1)-df[\"Low\"].shift(1)),2)\n",
    "    df[\"S2\"]=round(df[\"PP\"]-(df[\"High\"].shift(1)-df[\"Low\"].shift(1)),2)\n",
    "    df[\"R3\"]=round(df[\"PP\"]*2+(df[\"High\"].shift(1)-2*df[\"Low\"].shift(1)),2)\n",
    "    df[\"S3\"]=round(df[\"PP\"]*2-(2*df[\"High\"].shift(1)-df[\"Low\"].shift(1)),2)\n",
    "    return df"
   ]
  },
  {
   "cell_type": "code",
   "execution_count": 18,
   "id": "3311072c",
   "metadata": {},
   "outputs": [],
   "source": [
    "# call the pivot in daily timeframe daily"
   ]
  },
  {
   "cell_type": "code",
   "execution_count": 19,
   "id": "04f1c9df",
   "metadata": {},
   "outputs": [
    {
     "name": "stderr",
     "output_type": "stream",
     "text": [
      "/var/folders/0d/2q3_g9bj7tn1m1t1w5crmtvh0000gn/T/ipykernel_11288/2912323420.py:1: FutureWarning: weekofyear and week have been deprecated, please use DatetimeIndex.isocalendar().week instead, which returns a Series. To exactly reproduce the behavior of week and weekofyear and return an Index, you may call pd.Int64Index(idx.isocalendar().week)\n",
      "  stock_daily[\"week\"]=stock_daily.index.week\n"
     ]
    }
   ],
   "source": [
    "stock_daily[\"week\"]=stock_daily.index.week"
   ]
  },
  {
   "cell_type": "code",
   "execution_count": 20,
   "id": "48344216",
   "metadata": {},
   "outputs": [],
   "source": [
    "stock_daily[\"month\"]=stock_daily.index.month"
   ]
  },
  {
   "cell_type": "code",
   "execution_count": 21,
   "id": "f8871e00",
   "metadata": {},
   "outputs": [],
   "source": [
    "stock_daily[\"year\"]=stock_daily.index.year"
   ]
  },
  {
   "cell_type": "code",
   "execution_count": 22,
   "id": "54407a4a",
   "metadata": {},
   "outputs": [
    {
     "data": {
      "text/html": [
       "<div>\n",
       "<style scoped>\n",
       "    .dataframe tbody tr th:only-of-type {\n",
       "        vertical-align: middle;\n",
       "    }\n",
       "\n",
       "    .dataframe tbody tr th {\n",
       "        vertical-align: top;\n",
       "    }\n",
       "\n",
       "    .dataframe thead th {\n",
       "        text-align: right;\n",
       "    }\n",
       "</style>\n",
       "<table border=\"1\" class=\"dataframe\">\n",
       "  <thead>\n",
       "    <tr style=\"text-align: right;\">\n",
       "      <th></th>\n",
       "      <th>Open</th>\n",
       "      <th>High</th>\n",
       "      <th>Low</th>\n",
       "      <th>Close</th>\n",
       "      <th>Adj Close</th>\n",
       "      <th>Volume</th>\n",
       "      <th>week</th>\n",
       "      <th>month</th>\n",
       "      <th>year</th>\n",
       "    </tr>\n",
       "    <tr>\n",
       "      <th>Date</th>\n",
       "      <th></th>\n",
       "      <th></th>\n",
       "      <th></th>\n",
       "      <th></th>\n",
       "      <th></th>\n",
       "      <th></th>\n",
       "      <th></th>\n",
       "      <th></th>\n",
       "      <th></th>\n",
       "    </tr>\n",
       "  </thead>\n",
       "  <tbody>\n",
       "    <tr>\n",
       "      <th>1993-01-29</th>\n",
       "      <td>43.968750</td>\n",
       "      <td>43.968750</td>\n",
       "      <td>43.750000</td>\n",
       "      <td>43.937500</td>\n",
       "      <td>25.218218</td>\n",
       "      <td>1003200</td>\n",
       "      <td>4</td>\n",
       "      <td>1</td>\n",
       "      <td>1993</td>\n",
       "    </tr>\n",
       "    <tr>\n",
       "      <th>1993-02-01</th>\n",
       "      <td>43.968750</td>\n",
       "      <td>44.250000</td>\n",
       "      <td>43.968750</td>\n",
       "      <td>44.250000</td>\n",
       "      <td>25.397581</td>\n",
       "      <td>480500</td>\n",
       "      <td>5</td>\n",
       "      <td>2</td>\n",
       "      <td>1993</td>\n",
       "    </tr>\n",
       "    <tr>\n",
       "      <th>1993-02-02</th>\n",
       "      <td>44.218750</td>\n",
       "      <td>44.375000</td>\n",
       "      <td>44.125000</td>\n",
       "      <td>44.343750</td>\n",
       "      <td>25.451393</td>\n",
       "      <td>201300</td>\n",
       "      <td>5</td>\n",
       "      <td>2</td>\n",
       "      <td>1993</td>\n",
       "    </tr>\n",
       "    <tr>\n",
       "      <th>1993-02-03</th>\n",
       "      <td>44.406250</td>\n",
       "      <td>44.843750</td>\n",
       "      <td>44.375000</td>\n",
       "      <td>44.812500</td>\n",
       "      <td>25.720423</td>\n",
       "      <td>529400</td>\n",
       "      <td>5</td>\n",
       "      <td>2</td>\n",
       "      <td>1993</td>\n",
       "    </tr>\n",
       "    <tr>\n",
       "      <th>1993-02-04</th>\n",
       "      <td>44.968750</td>\n",
       "      <td>45.093750</td>\n",
       "      <td>44.468750</td>\n",
       "      <td>45.000000</td>\n",
       "      <td>25.828054</td>\n",
       "      <td>531500</td>\n",
       "      <td>5</td>\n",
       "      <td>2</td>\n",
       "      <td>1993</td>\n",
       "    </tr>\n",
       "    <tr>\n",
       "      <th>...</th>\n",
       "      <td>...</td>\n",
       "      <td>...</td>\n",
       "      <td>...</td>\n",
       "      <td>...</td>\n",
       "      <td>...</td>\n",
       "      <td>...</td>\n",
       "      <td>...</td>\n",
       "      <td>...</td>\n",
       "      <td>...</td>\n",
       "    </tr>\n",
       "    <tr>\n",
       "      <th>2022-12-22</th>\n",
       "      <td>383.049988</td>\n",
       "      <td>386.209991</td>\n",
       "      <td>374.769989</td>\n",
       "      <td>380.720001</td>\n",
       "      <td>380.720001</td>\n",
       "      <td>100120900</td>\n",
       "      <td>51</td>\n",
       "      <td>12</td>\n",
       "      <td>2022</td>\n",
       "    </tr>\n",
       "    <tr>\n",
       "      <th>2022-12-23</th>\n",
       "      <td>379.649994</td>\n",
       "      <td>383.059998</td>\n",
       "      <td>378.029999</td>\n",
       "      <td>382.910004</td>\n",
       "      <td>382.910004</td>\n",
       "      <td>59761100</td>\n",
       "      <td>51</td>\n",
       "      <td>12</td>\n",
       "      <td>2022</td>\n",
       "    </tr>\n",
       "    <tr>\n",
       "      <th>2022-12-27</th>\n",
       "      <td>382.790009</td>\n",
       "      <td>383.149994</td>\n",
       "      <td>379.649994</td>\n",
       "      <td>381.399994</td>\n",
       "      <td>381.399994</td>\n",
       "      <td>51638200</td>\n",
       "      <td>52</td>\n",
       "      <td>12</td>\n",
       "      <td>2022</td>\n",
       "    </tr>\n",
       "    <tr>\n",
       "      <th>2022-12-28</th>\n",
       "      <td>381.329987</td>\n",
       "      <td>383.390015</td>\n",
       "      <td>376.420013</td>\n",
       "      <td>376.660004</td>\n",
       "      <td>376.660004</td>\n",
       "      <td>70911500</td>\n",
       "      <td>52</td>\n",
       "      <td>12</td>\n",
       "      <td>2022</td>\n",
       "    </tr>\n",
       "    <tr>\n",
       "      <th>2022-12-29</th>\n",
       "      <td>379.630005</td>\n",
       "      <td>384.339996</td>\n",
       "      <td>379.079987</td>\n",
       "      <td>383.440002</td>\n",
       "      <td>383.440002</td>\n",
       "      <td>65947901</td>\n",
       "      <td>52</td>\n",
       "      <td>12</td>\n",
       "      <td>2022</td>\n",
       "    </tr>\n",
       "  </tbody>\n",
       "</table>\n",
       "<p>7535 rows × 9 columns</p>\n",
       "</div>"
      ],
      "text/plain": [
       "                  Open        High         Low       Close   Adj Close  \\\n",
       "Date                                                                     \n",
       "1993-01-29   43.968750   43.968750   43.750000   43.937500   25.218218   \n",
       "1993-02-01   43.968750   44.250000   43.968750   44.250000   25.397581   \n",
       "1993-02-02   44.218750   44.375000   44.125000   44.343750   25.451393   \n",
       "1993-02-03   44.406250   44.843750   44.375000   44.812500   25.720423   \n",
       "1993-02-04   44.968750   45.093750   44.468750   45.000000   25.828054   \n",
       "...                ...         ...         ...         ...         ...   \n",
       "2022-12-22  383.049988  386.209991  374.769989  380.720001  380.720001   \n",
       "2022-12-23  379.649994  383.059998  378.029999  382.910004  382.910004   \n",
       "2022-12-27  382.790009  383.149994  379.649994  381.399994  381.399994   \n",
       "2022-12-28  381.329987  383.390015  376.420013  376.660004  376.660004   \n",
       "2022-12-29  379.630005  384.339996  379.079987  383.440002  383.440002   \n",
       "\n",
       "               Volume  week  month  year  \n",
       "Date                                      \n",
       "1993-01-29    1003200     4      1  1993  \n",
       "1993-02-01     480500     5      2  1993  \n",
       "1993-02-02     201300     5      2  1993  \n",
       "1993-02-03     529400     5      2  1993  \n",
       "1993-02-04     531500     5      2  1993  \n",
       "...               ...   ...    ...   ...  \n",
       "2022-12-22  100120900    51     12  2022  \n",
       "2022-12-23   59761100    51     12  2022  \n",
       "2022-12-27   51638200    52     12  2022  \n",
       "2022-12-28   70911500    52     12  2022  \n",
       "2022-12-29   65947901    52     12  2022  \n",
       "\n",
       "[7535 rows x 9 columns]"
      ]
     },
     "execution_count": 22,
     "metadata": {},
     "output_type": "execute_result"
    }
   ],
   "source": [
    "stock_daily"
   ]
  },
  {
   "cell_type": "code",
   "execution_count": 23,
   "id": "e9daccbc",
   "metadata": {},
   "outputs": [
    {
     "name": "stderr",
     "output_type": "stream",
     "text": [
      "/var/folders/0d/2q3_g9bj7tn1m1t1w5crmtvh0000gn/T/ipykernel_11288/37262271.py:1: FutureWarning: weekofyear and week have been deprecated, please use DatetimeIndex.isocalendar().week instead, which returns a Series. To exactly reproduce the behavior of week and weekofyear and return an Index, you may call pd.Int64Index(idx.isocalendar().week)\n",
      "  stock_weekly[\"week\"]=stock_weekly.index.week\n"
     ]
    }
   ],
   "source": [
    "stock_weekly[\"week\"]=stock_weekly.index.week\n",
    "stock_weekly[\"year\"]=stock_weekly.index.year"
   ]
  },
  {
   "cell_type": "code",
   "execution_count": 24,
   "id": "28bac539",
   "metadata": {},
   "outputs": [
    {
     "data": {
      "text/html": [
       "<div>\n",
       "<style scoped>\n",
       "    .dataframe tbody tr th:only-of-type {\n",
       "        vertical-align: middle;\n",
       "    }\n",
       "\n",
       "    .dataframe tbody tr th {\n",
       "        vertical-align: top;\n",
       "    }\n",
       "\n",
       "    .dataframe thead th {\n",
       "        text-align: right;\n",
       "    }\n",
       "</style>\n",
       "<table border=\"1\" class=\"dataframe\">\n",
       "  <thead>\n",
       "    <tr style=\"text-align: right;\">\n",
       "      <th></th>\n",
       "      <th>Open</th>\n",
       "      <th>High</th>\n",
       "      <th>Low</th>\n",
       "      <th>Close</th>\n",
       "      <th>Adj Close</th>\n",
       "      <th>Volume</th>\n",
       "      <th>week</th>\n",
       "      <th>year</th>\n",
       "    </tr>\n",
       "    <tr>\n",
       "      <th>Date</th>\n",
       "      <th></th>\n",
       "      <th></th>\n",
       "      <th></th>\n",
       "      <th></th>\n",
       "      <th></th>\n",
       "      <th></th>\n",
       "      <th></th>\n",
       "      <th></th>\n",
       "    </tr>\n",
       "  </thead>\n",
       "  <tbody>\n",
       "    <tr>\n",
       "      <th>1993-01-25</th>\n",
       "      <td>43.968750</td>\n",
       "      <td>43.968750</td>\n",
       "      <td>43.750000</td>\n",
       "      <td>43.937500</td>\n",
       "      <td>25.218233</td>\n",
       "      <td>1003200.0</td>\n",
       "      <td>4</td>\n",
       "      <td>1993</td>\n",
       "    </tr>\n",
       "    <tr>\n",
       "      <th>1993-02-01</th>\n",
       "      <td>43.968750</td>\n",
       "      <td>45.093750</td>\n",
       "      <td>43.968750</td>\n",
       "      <td>44.968750</td>\n",
       "      <td>25.810123</td>\n",
       "      <td>2234800.0</td>\n",
       "      <td>5</td>\n",
       "      <td>1993</td>\n",
       "    </tr>\n",
       "    <tr>\n",
       "      <th>1993-02-08</th>\n",
       "      <td>44.968750</td>\n",
       "      <td>45.125000</td>\n",
       "      <td>44.531250</td>\n",
       "      <td>44.593750</td>\n",
       "      <td>25.594873</td>\n",
       "      <td>1159800.0</td>\n",
       "      <td>6</td>\n",
       "      <td>1993</td>\n",
       "    </tr>\n",
       "    <tr>\n",
       "      <th>1993-02-15</th>\n",
       "      <td>44.468750</td>\n",
       "      <td>44.468750</td>\n",
       "      <td>42.812500</td>\n",
       "      <td>43.562500</td>\n",
       "      <td>25.002989</td>\n",
       "      <td>998700.0</td>\n",
       "      <td>7</td>\n",
       "      <td>1993</td>\n",
       "    </tr>\n",
       "    <tr>\n",
       "      <th>1993-02-22</th>\n",
       "      <td>43.687500</td>\n",
       "      <td>44.437500</td>\n",
       "      <td>43.468750</td>\n",
       "      <td>44.406250</td>\n",
       "      <td>25.487267</td>\n",
       "      <td>1024300.0</td>\n",
       "      <td>8</td>\n",
       "      <td>1993</td>\n",
       "    </tr>\n",
       "    <tr>\n",
       "      <th>...</th>\n",
       "      <td>...</td>\n",
       "      <td>...</td>\n",
       "      <td>...</td>\n",
       "      <td>...</td>\n",
       "      <td>...</td>\n",
       "      <td>...</td>\n",
       "      <td>...</td>\n",
       "      <td>...</td>\n",
       "    </tr>\n",
       "    <tr>\n",
       "      <th>2022-12-12</th>\n",
       "      <td>394.109985</td>\n",
       "      <td>410.489990</td>\n",
       "      <td>381.040009</td>\n",
       "      <td>383.269989</td>\n",
       "      <td>381.518066</td>\n",
       "      <td>544770000.0</td>\n",
       "      <td>50</td>\n",
       "      <td>2022</td>\n",
       "    </tr>\n",
       "    <tr>\n",
       "      <th>2022-12-16</th>\n",
       "      <td>NaN</td>\n",
       "      <td>NaN</td>\n",
       "      <td>NaN</td>\n",
       "      <td>NaN</td>\n",
       "      <td>NaN</td>\n",
       "      <td>NaN</td>\n",
       "      <td>50</td>\n",
       "      <td>2022</td>\n",
       "    </tr>\n",
       "    <tr>\n",
       "      <th>2022-12-19</th>\n",
       "      <td>383.470001</td>\n",
       "      <td>387.410004</td>\n",
       "      <td>374.769989</td>\n",
       "      <td>382.910004</td>\n",
       "      <td>382.910004</td>\n",
       "      <td>392354700.0</td>\n",
       "      <td>51</td>\n",
       "      <td>2022</td>\n",
       "    </tr>\n",
       "    <tr>\n",
       "      <th>2022-12-26</th>\n",
       "      <td>382.790009</td>\n",
       "      <td>383.390015</td>\n",
       "      <td>376.420013</td>\n",
       "      <td>376.660004</td>\n",
       "      <td>376.660004</td>\n",
       "      <td>122549700.0</td>\n",
       "      <td>52</td>\n",
       "      <td>2022</td>\n",
       "    </tr>\n",
       "    <tr>\n",
       "      <th>2022-12-29</th>\n",
       "      <td>379.630005</td>\n",
       "      <td>384.339996</td>\n",
       "      <td>379.079987</td>\n",
       "      <td>383.440002</td>\n",
       "      <td>383.440002</td>\n",
       "      <td>65947901.0</td>\n",
       "      <td>52</td>\n",
       "      <td>2022</td>\n",
       "    </tr>\n",
       "  </tbody>\n",
       "</table>\n",
       "<p>1683 rows × 8 columns</p>\n",
       "</div>"
      ],
      "text/plain": [
       "                  Open        High         Low       Close   Adj Close  \\\n",
       "Date                                                                     \n",
       "1993-01-25   43.968750   43.968750   43.750000   43.937500   25.218233   \n",
       "1993-02-01   43.968750   45.093750   43.968750   44.968750   25.810123   \n",
       "1993-02-08   44.968750   45.125000   44.531250   44.593750   25.594873   \n",
       "1993-02-15   44.468750   44.468750   42.812500   43.562500   25.002989   \n",
       "1993-02-22   43.687500   44.437500   43.468750   44.406250   25.487267   \n",
       "...                ...         ...         ...         ...         ...   \n",
       "2022-12-12  394.109985  410.489990  381.040009  383.269989  381.518066   \n",
       "2022-12-16         NaN         NaN         NaN         NaN         NaN   \n",
       "2022-12-19  383.470001  387.410004  374.769989  382.910004  382.910004   \n",
       "2022-12-26  382.790009  383.390015  376.420013  376.660004  376.660004   \n",
       "2022-12-29  379.630005  384.339996  379.079987  383.440002  383.440002   \n",
       "\n",
       "                 Volume  week  year  \n",
       "Date                                 \n",
       "1993-01-25    1003200.0     4  1993  \n",
       "1993-02-01    2234800.0     5  1993  \n",
       "1993-02-08    1159800.0     6  1993  \n",
       "1993-02-15     998700.0     7  1993  \n",
       "1993-02-22    1024300.0     8  1993  \n",
       "...                 ...   ...   ...  \n",
       "2022-12-12  544770000.0    50  2022  \n",
       "2022-12-16          NaN    50  2022  \n",
       "2022-12-19  392354700.0    51  2022  \n",
       "2022-12-26  122549700.0    52  2022  \n",
       "2022-12-29   65947901.0    52  2022  \n",
       "\n",
       "[1683 rows x 8 columns]"
      ]
     },
     "execution_count": 24,
     "metadata": {},
     "output_type": "execute_result"
    }
   ],
   "source": [
    "stock_weekly"
   ]
  },
  {
   "cell_type": "code",
   "execution_count": 25,
   "id": "1a29f68d",
   "metadata": {},
   "outputs": [],
   "source": [
    "stock_monthly[\"month\"]=stock_monthly.index.month\n",
    "stock_monthly[\"year\"]=stock_monthly.index.year"
   ]
  },
  {
   "cell_type": "code",
   "execution_count": 26,
   "id": "da55dad5",
   "metadata": {},
   "outputs": [
    {
     "data": {
      "text/html": [
       "<div>\n",
       "<style scoped>\n",
       "    .dataframe tbody tr th:only-of-type {\n",
       "        vertical-align: middle;\n",
       "    }\n",
       "\n",
       "    .dataframe tbody tr th {\n",
       "        vertical-align: top;\n",
       "    }\n",
       "\n",
       "    .dataframe thead th {\n",
       "        text-align: right;\n",
       "    }\n",
       "</style>\n",
       "<table border=\"1\" class=\"dataframe\">\n",
       "  <thead>\n",
       "    <tr style=\"text-align: right;\">\n",
       "      <th></th>\n",
       "      <th>Open</th>\n",
       "      <th>High</th>\n",
       "      <th>Low</th>\n",
       "      <th>Close</th>\n",
       "      <th>Adj Close</th>\n",
       "      <th>Volume</th>\n",
       "      <th>month</th>\n",
       "      <th>year</th>\n",
       "    </tr>\n",
       "    <tr>\n",
       "      <th>Date</th>\n",
       "      <th></th>\n",
       "      <th></th>\n",
       "      <th></th>\n",
       "      <th></th>\n",
       "      <th></th>\n",
       "      <th></th>\n",
       "      <th></th>\n",
       "      <th></th>\n",
       "    </tr>\n",
       "  </thead>\n",
       "  <tbody>\n",
       "    <tr>\n",
       "      <th>1993-02-01</th>\n",
       "      <td>43.968750</td>\n",
       "      <td>45.125000</td>\n",
       "      <td>42.812500</td>\n",
       "      <td>44.406250</td>\n",
       "      <td>25.487261</td>\n",
       "      <td>5.417600e+06</td>\n",
       "      <td>2</td>\n",
       "      <td>1993</td>\n",
       "    </tr>\n",
       "    <tr>\n",
       "      <th>1993-03-01</th>\n",
       "      <td>44.562500</td>\n",
       "      <td>45.843750</td>\n",
       "      <td>44.218750</td>\n",
       "      <td>45.187500</td>\n",
       "      <td>25.935667</td>\n",
       "      <td>3.019200e+06</td>\n",
       "      <td>3</td>\n",
       "      <td>1993</td>\n",
       "    </tr>\n",
       "    <tr>\n",
       "      <th>1993-03-19</th>\n",
       "      <td>NaN</td>\n",
       "      <td>NaN</td>\n",
       "      <td>NaN</td>\n",
       "      <td>NaN</td>\n",
       "      <td>NaN</td>\n",
       "      <td>NaN</td>\n",
       "      <td>3</td>\n",
       "      <td>1993</td>\n",
       "    </tr>\n",
       "    <tr>\n",
       "      <th>1993-04-01</th>\n",
       "      <td>45.250000</td>\n",
       "      <td>45.250000</td>\n",
       "      <td>43.281250</td>\n",
       "      <td>44.031250</td>\n",
       "      <td>25.391378</td>\n",
       "      <td>2.697200e+06</td>\n",
       "      <td>4</td>\n",
       "      <td>1993</td>\n",
       "    </tr>\n",
       "    <tr>\n",
       "      <th>1993-05-01</th>\n",
       "      <td>44.093750</td>\n",
       "      <td>45.656250</td>\n",
       "      <td>43.843750</td>\n",
       "      <td>45.218750</td>\n",
       "      <td>26.076191</td>\n",
       "      <td>1.808000e+06</td>\n",
       "      <td>5</td>\n",
       "      <td>1993</td>\n",
       "    </tr>\n",
       "    <tr>\n",
       "      <th>...</th>\n",
       "      <td>...</td>\n",
       "      <td>...</td>\n",
       "      <td>...</td>\n",
       "      <td>...</td>\n",
       "      <td>...</td>\n",
       "      <td>...</td>\n",
       "      <td>...</td>\n",
       "      <td>...</td>\n",
       "    </tr>\n",
       "    <tr>\n",
       "      <th>2022-10-01</th>\n",
       "      <td>361.079987</td>\n",
       "      <td>389.519989</td>\n",
       "      <td>348.109985</td>\n",
       "      <td>386.209991</td>\n",
       "      <td>384.444611</td>\n",
       "      <td>2.024732e+09</td>\n",
       "      <td>10</td>\n",
       "      <td>2022</td>\n",
       "    </tr>\n",
       "    <tr>\n",
       "      <th>2022-11-01</th>\n",
       "      <td>390.140015</td>\n",
       "      <td>407.679993</td>\n",
       "      <td>368.790009</td>\n",
       "      <td>407.679993</td>\n",
       "      <td>405.816467</td>\n",
       "      <td>1.745985e+09</td>\n",
       "      <td>11</td>\n",
       "      <td>2022</td>\n",
       "    </tr>\n",
       "    <tr>\n",
       "      <th>2022-12-01</th>\n",
       "      <td>408.769989</td>\n",
       "      <td>410.489990</td>\n",
       "      <td>374.769989</td>\n",
       "      <td>376.660004</td>\n",
       "      <td>374.938293</td>\n",
       "      <td>1.584548e+09</td>\n",
       "      <td>12</td>\n",
       "      <td>2022</td>\n",
       "    </tr>\n",
       "    <tr>\n",
       "      <th>2022-12-16</th>\n",
       "      <td>NaN</td>\n",
       "      <td>NaN</td>\n",
       "      <td>NaN</td>\n",
       "      <td>NaN</td>\n",
       "      <td>NaN</td>\n",
       "      <td>NaN</td>\n",
       "      <td>12</td>\n",
       "      <td>2022</td>\n",
       "    </tr>\n",
       "    <tr>\n",
       "      <th>2022-12-29</th>\n",
       "      <td>379.630005</td>\n",
       "      <td>384.339996</td>\n",
       "      <td>379.079987</td>\n",
       "      <td>383.440002</td>\n",
       "      <td>383.440002</td>\n",
       "      <td>6.594790e+07</td>\n",
       "      <td>12</td>\n",
       "      <td>2022</td>\n",
       "    </tr>\n",
       "  </tbody>\n",
       "</table>\n",
       "<p>481 rows × 8 columns</p>\n",
       "</div>"
      ],
      "text/plain": [
       "                  Open        High         Low       Close   Adj Close  \\\n",
       "Date                                                                     \n",
       "1993-02-01   43.968750   45.125000   42.812500   44.406250   25.487261   \n",
       "1993-03-01   44.562500   45.843750   44.218750   45.187500   25.935667   \n",
       "1993-03-19         NaN         NaN         NaN         NaN         NaN   \n",
       "1993-04-01   45.250000   45.250000   43.281250   44.031250   25.391378   \n",
       "1993-05-01   44.093750   45.656250   43.843750   45.218750   26.076191   \n",
       "...                ...         ...         ...         ...         ...   \n",
       "2022-10-01  361.079987  389.519989  348.109985  386.209991  384.444611   \n",
       "2022-11-01  390.140015  407.679993  368.790009  407.679993  405.816467   \n",
       "2022-12-01  408.769989  410.489990  374.769989  376.660004  374.938293   \n",
       "2022-12-16         NaN         NaN         NaN         NaN         NaN   \n",
       "2022-12-29  379.630005  384.339996  379.079987  383.440002  383.440002   \n",
       "\n",
       "                  Volume  month  year  \n",
       "Date                                   \n",
       "1993-02-01  5.417600e+06      2  1993  \n",
       "1993-03-01  3.019200e+06      3  1993  \n",
       "1993-03-19           NaN      3  1993  \n",
       "1993-04-01  2.697200e+06      4  1993  \n",
       "1993-05-01  1.808000e+06      5  1993  \n",
       "...                  ...    ...   ...  \n",
       "2022-10-01  2.024732e+09     10  2022  \n",
       "2022-11-01  1.745985e+09     11  2022  \n",
       "2022-12-01  1.584548e+09     12  2022  \n",
       "2022-12-16           NaN     12  2022  \n",
       "2022-12-29  6.594790e+07     12  2022  \n",
       "\n",
       "[481 rows x 8 columns]"
      ]
     },
     "execution_count": 26,
     "metadata": {},
     "output_type": "execute_result"
    }
   ],
   "source": [
    "stock_monthly"
   ]
  },
  {
   "cell_type": "code",
   "execution_count": 27,
   "id": "af86e11d",
   "metadata": {},
   "outputs": [
    {
     "data": {
      "text/plain": [
       "7535"
      ]
     },
     "execution_count": 27,
     "metadata": {},
     "output_type": "execute_result"
    }
   ],
   "source": [
    "len(stock_daily)"
   ]
  },
  {
   "cell_type": "code",
   "execution_count": 28,
   "id": "3f00f141",
   "metadata": {},
   "outputs": [
    {
     "data": {
      "text/plain": [
       "<function __main__.pivot_daily(df)>"
      ]
     },
     "execution_count": 28,
     "metadata": {},
     "output_type": "execute_result"
    }
   ],
   "source": [
    "pivot_daily"
   ]
  },
  {
   "cell_type": "code",
   "execution_count": 29,
   "id": "719770dd",
   "metadata": {},
   "outputs": [],
   "source": [
    "daily_pivot=pivot_daily(stock_daily)\n",
    "weekly_pivot=pivot_weekly(stock_weekly)\n",
    "monthly_pivot=pivot_monthly(stock_monthly)"
   ]
  },
  {
   "cell_type": "code",
   "execution_count": 30,
   "id": "461b6de7",
   "metadata": {},
   "outputs": [
    {
     "data": {
      "text/html": [
       "<div>\n",
       "<style scoped>\n",
       "    .dataframe tbody tr th:only-of-type {\n",
       "        vertical-align: middle;\n",
       "    }\n",
       "\n",
       "    .dataframe tbody tr th {\n",
       "        vertical-align: top;\n",
       "    }\n",
       "\n",
       "    .dataframe thead th {\n",
       "        text-align: right;\n",
       "    }\n",
       "</style>\n",
       "<table border=\"1\" class=\"dataframe\">\n",
       "  <thead>\n",
       "    <tr style=\"text-align: right;\">\n",
       "      <th></th>\n",
       "      <th>Open</th>\n",
       "      <th>High</th>\n",
       "      <th>Low</th>\n",
       "      <th>Close</th>\n",
       "      <th>Adj Close</th>\n",
       "      <th>Volume</th>\n",
       "      <th>week</th>\n",
       "      <th>month</th>\n",
       "      <th>year</th>\n",
       "      <th>PP</th>\n",
       "      <th>BC</th>\n",
       "      <th>TC</th>\n",
       "      <th>R1</th>\n",
       "      <th>S1</th>\n",
       "      <th>R2</th>\n",
       "      <th>S2</th>\n",
       "      <th>R3</th>\n",
       "      <th>S3</th>\n",
       "      <th>R4</th>\n",
       "      <th>S4</th>\n",
       "    </tr>\n",
       "    <tr>\n",
       "      <th>Date</th>\n",
       "      <th></th>\n",
       "      <th></th>\n",
       "      <th></th>\n",
       "      <th></th>\n",
       "      <th></th>\n",
       "      <th></th>\n",
       "      <th></th>\n",
       "      <th></th>\n",
       "      <th></th>\n",
       "      <th></th>\n",
       "      <th></th>\n",
       "      <th></th>\n",
       "      <th></th>\n",
       "      <th></th>\n",
       "      <th></th>\n",
       "      <th></th>\n",
       "      <th></th>\n",
       "      <th></th>\n",
       "      <th></th>\n",
       "      <th></th>\n",
       "    </tr>\n",
       "  </thead>\n",
       "  <tbody>\n",
       "    <tr>\n",
       "      <th>1993-01-29</th>\n",
       "      <td>43.968750</td>\n",
       "      <td>43.968750</td>\n",
       "      <td>43.750000</td>\n",
       "      <td>43.937500</td>\n",
       "      <td>25.218218</td>\n",
       "      <td>1003200</td>\n",
       "      <td>4</td>\n",
       "      <td>1</td>\n",
       "      <td>1993</td>\n",
       "      <td>NaN</td>\n",
       "      <td>NaN</td>\n",
       "      <td>NaN</td>\n",
       "      <td>NaN</td>\n",
       "      <td>NaN</td>\n",
       "      <td>NaN</td>\n",
       "      <td>NaN</td>\n",
       "      <td>NaN</td>\n",
       "      <td>NaN</td>\n",
       "      <td>NaN</td>\n",
       "      <td>NaN</td>\n",
       "    </tr>\n",
       "    <tr>\n",
       "      <th>1993-02-01</th>\n",
       "      <td>43.968750</td>\n",
       "      <td>44.250000</td>\n",
       "      <td>43.968750</td>\n",
       "      <td>44.250000</td>\n",
       "      <td>25.397581</td>\n",
       "      <td>480500</td>\n",
       "      <td>5</td>\n",
       "      <td>2</td>\n",
       "      <td>1993</td>\n",
       "      <td>43.89</td>\n",
       "      <td>43.86</td>\n",
       "      <td>43.92</td>\n",
       "      <td>44.03</td>\n",
       "      <td>43.81</td>\n",
       "      <td>44.11</td>\n",
       "      <td>43.67</td>\n",
       "      <td>44.25</td>\n",
       "      <td>43.59</td>\n",
       "      <td>44.33</td>\n",
       "      <td>43.45</td>\n",
       "    </tr>\n",
       "    <tr>\n",
       "      <th>1993-02-02</th>\n",
       "      <td>44.218750</td>\n",
       "      <td>44.375000</td>\n",
       "      <td>44.125000</td>\n",
       "      <td>44.343750</td>\n",
       "      <td>25.451393</td>\n",
       "      <td>201300</td>\n",
       "      <td>5</td>\n",
       "      <td>2</td>\n",
       "      <td>1993</td>\n",
       "      <td>44.16</td>\n",
       "      <td>44.11</td>\n",
       "      <td>44.21</td>\n",
       "      <td>44.35</td>\n",
       "      <td>44.07</td>\n",
       "      <td>44.44</td>\n",
       "      <td>43.88</td>\n",
       "      <td>44.63</td>\n",
       "      <td>43.79</td>\n",
       "      <td>44.72</td>\n",
       "      <td>43.60</td>\n",
       "    </tr>\n",
       "    <tr>\n",
       "      <th>1993-02-03</th>\n",
       "      <td>44.406250</td>\n",
       "      <td>44.843750</td>\n",
       "      <td>44.375000</td>\n",
       "      <td>44.812500</td>\n",
       "      <td>25.720423</td>\n",
       "      <td>529400</td>\n",
       "      <td>5</td>\n",
       "      <td>2</td>\n",
       "      <td>1993</td>\n",
       "      <td>44.28</td>\n",
       "      <td>44.25</td>\n",
       "      <td>44.31</td>\n",
       "      <td>44.44</td>\n",
       "      <td>44.18</td>\n",
       "      <td>44.53</td>\n",
       "      <td>44.03</td>\n",
       "      <td>44.68</td>\n",
       "      <td>43.94</td>\n",
       "      <td>44.77</td>\n",
       "      <td>43.79</td>\n",
       "    </tr>\n",
       "    <tr>\n",
       "      <th>1993-02-04</th>\n",
       "      <td>44.968750</td>\n",
       "      <td>45.093750</td>\n",
       "      <td>44.468750</td>\n",
       "      <td>45.000000</td>\n",
       "      <td>25.828054</td>\n",
       "      <td>531500</td>\n",
       "      <td>5</td>\n",
       "      <td>2</td>\n",
       "      <td>1993</td>\n",
       "      <td>44.68</td>\n",
       "      <td>44.61</td>\n",
       "      <td>44.75</td>\n",
       "      <td>44.98</td>\n",
       "      <td>44.52</td>\n",
       "      <td>45.15</td>\n",
       "      <td>44.21</td>\n",
       "      <td>45.45</td>\n",
       "      <td>44.05</td>\n",
       "      <td>45.62</td>\n",
       "      <td>43.74</td>\n",
       "    </tr>\n",
       "    <tr>\n",
       "      <th>...</th>\n",
       "      <td>...</td>\n",
       "      <td>...</td>\n",
       "      <td>...</td>\n",
       "      <td>...</td>\n",
       "      <td>...</td>\n",
       "      <td>...</td>\n",
       "      <td>...</td>\n",
       "      <td>...</td>\n",
       "      <td>...</td>\n",
       "      <td>...</td>\n",
       "      <td>...</td>\n",
       "      <td>...</td>\n",
       "      <td>...</td>\n",
       "      <td>...</td>\n",
       "      <td>...</td>\n",
       "      <td>...</td>\n",
       "      <td>...</td>\n",
       "      <td>...</td>\n",
       "      <td>...</td>\n",
       "      <td>...</td>\n",
       "    </tr>\n",
       "    <tr>\n",
       "      <th>2022-12-22</th>\n",
       "      <td>383.049988</td>\n",
       "      <td>386.209991</td>\n",
       "      <td>374.769989</td>\n",
       "      <td>380.720001</td>\n",
       "      <td>380.720001</td>\n",
       "      <td>100120900</td>\n",
       "      <td>51</td>\n",
       "      <td>12</td>\n",
       "      <td>2022</td>\n",
       "      <td>385.44</td>\n",
       "      <td>385.05</td>\n",
       "      <td>385.83</td>\n",
       "      <td>388.19</td>\n",
       "      <td>383.47</td>\n",
       "      <td>390.16</td>\n",
       "      <td>380.72</td>\n",
       "      <td>392.91</td>\n",
       "      <td>378.75</td>\n",
       "      <td>394.88</td>\n",
       "      <td>376.00</td>\n",
       "    </tr>\n",
       "    <tr>\n",
       "      <th>2022-12-23</th>\n",
       "      <td>379.649994</td>\n",
       "      <td>383.059998</td>\n",
       "      <td>378.029999</td>\n",
       "      <td>382.910004</td>\n",
       "      <td>382.910004</td>\n",
       "      <td>59761100</td>\n",
       "      <td>51</td>\n",
       "      <td>12</td>\n",
       "      <td>2022</td>\n",
       "      <td>380.57</td>\n",
       "      <td>380.49</td>\n",
       "      <td>380.65</td>\n",
       "      <td>386.37</td>\n",
       "      <td>374.93</td>\n",
       "      <td>392.01</td>\n",
       "      <td>369.13</td>\n",
       "      <td>397.81</td>\n",
       "      <td>363.49</td>\n",
       "      <td>403.45</td>\n",
       "      <td>357.69</td>\n",
       "    </tr>\n",
       "    <tr>\n",
       "      <th>2022-12-27</th>\n",
       "      <td>382.790009</td>\n",
       "      <td>383.149994</td>\n",
       "      <td>379.649994</td>\n",
       "      <td>381.399994</td>\n",
       "      <td>381.399994</td>\n",
       "      <td>51638200</td>\n",
       "      <td>52</td>\n",
       "      <td>12</td>\n",
       "      <td>2022</td>\n",
       "      <td>381.33</td>\n",
       "      <td>380.54</td>\n",
       "      <td>382.12</td>\n",
       "      <td>384.63</td>\n",
       "      <td>379.60</td>\n",
       "      <td>386.36</td>\n",
       "      <td>376.30</td>\n",
       "      <td>389.66</td>\n",
       "      <td>374.57</td>\n",
       "      <td>391.39</td>\n",
       "      <td>371.27</td>\n",
       "    </tr>\n",
       "    <tr>\n",
       "      <th>2022-12-28</th>\n",
       "      <td>381.329987</td>\n",
       "      <td>383.390015</td>\n",
       "      <td>376.420013</td>\n",
       "      <td>376.660004</td>\n",
       "      <td>376.660004</td>\n",
       "      <td>70911500</td>\n",
       "      <td>52</td>\n",
       "      <td>12</td>\n",
       "      <td>2022</td>\n",
       "      <td>381.40</td>\n",
       "      <td>381.40</td>\n",
       "      <td>381.40</td>\n",
       "      <td>383.15</td>\n",
       "      <td>379.65</td>\n",
       "      <td>384.90</td>\n",
       "      <td>377.90</td>\n",
       "      <td>386.65</td>\n",
       "      <td>376.15</td>\n",
       "      <td>388.40</td>\n",
       "      <td>374.40</td>\n",
       "    </tr>\n",
       "    <tr>\n",
       "      <th>2022-12-29</th>\n",
       "      <td>379.630005</td>\n",
       "      <td>384.339996</td>\n",
       "      <td>379.079987</td>\n",
       "      <td>383.440002</td>\n",
       "      <td>383.440002</td>\n",
       "      <td>65947901</td>\n",
       "      <td>52</td>\n",
       "      <td>12</td>\n",
       "      <td>2022</td>\n",
       "      <td>378.82</td>\n",
       "      <td>379.91</td>\n",
       "      <td>377.73</td>\n",
       "      <td>381.22</td>\n",
       "      <td>374.25</td>\n",
       "      <td>385.79</td>\n",
       "      <td>371.85</td>\n",
       "      <td>388.19</td>\n",
       "      <td>367.28</td>\n",
       "      <td>392.76</td>\n",
       "      <td>364.88</td>\n",
       "    </tr>\n",
       "  </tbody>\n",
       "</table>\n",
       "<p>7535 rows × 20 columns</p>\n",
       "</div>"
      ],
      "text/plain": [
       "                  Open        High         Low       Close   Adj Close  \\\n",
       "Date                                                                     \n",
       "1993-01-29   43.968750   43.968750   43.750000   43.937500   25.218218   \n",
       "1993-02-01   43.968750   44.250000   43.968750   44.250000   25.397581   \n",
       "1993-02-02   44.218750   44.375000   44.125000   44.343750   25.451393   \n",
       "1993-02-03   44.406250   44.843750   44.375000   44.812500   25.720423   \n",
       "1993-02-04   44.968750   45.093750   44.468750   45.000000   25.828054   \n",
       "...                ...         ...         ...         ...         ...   \n",
       "2022-12-22  383.049988  386.209991  374.769989  380.720001  380.720001   \n",
       "2022-12-23  379.649994  383.059998  378.029999  382.910004  382.910004   \n",
       "2022-12-27  382.790009  383.149994  379.649994  381.399994  381.399994   \n",
       "2022-12-28  381.329987  383.390015  376.420013  376.660004  376.660004   \n",
       "2022-12-29  379.630005  384.339996  379.079987  383.440002  383.440002   \n",
       "\n",
       "               Volume  week  month  year      PP      BC      TC      R1  \\\n",
       "Date                                                                       \n",
       "1993-01-29    1003200     4      1  1993     NaN     NaN     NaN     NaN   \n",
       "1993-02-01     480500     5      2  1993   43.89   43.86   43.92   44.03   \n",
       "1993-02-02     201300     5      2  1993   44.16   44.11   44.21   44.35   \n",
       "1993-02-03     529400     5      2  1993   44.28   44.25   44.31   44.44   \n",
       "1993-02-04     531500     5      2  1993   44.68   44.61   44.75   44.98   \n",
       "...               ...   ...    ...   ...     ...     ...     ...     ...   \n",
       "2022-12-22  100120900    51     12  2022  385.44  385.05  385.83  388.19   \n",
       "2022-12-23   59761100    51     12  2022  380.57  380.49  380.65  386.37   \n",
       "2022-12-27   51638200    52     12  2022  381.33  380.54  382.12  384.63   \n",
       "2022-12-28   70911500    52     12  2022  381.40  381.40  381.40  383.15   \n",
       "2022-12-29   65947901    52     12  2022  378.82  379.91  377.73  381.22   \n",
       "\n",
       "                S1      R2      S2      R3      S3      R4      S4  \n",
       "Date                                                                \n",
       "1993-01-29     NaN     NaN     NaN     NaN     NaN     NaN     NaN  \n",
       "1993-02-01   43.81   44.11   43.67   44.25   43.59   44.33   43.45  \n",
       "1993-02-02   44.07   44.44   43.88   44.63   43.79   44.72   43.60  \n",
       "1993-02-03   44.18   44.53   44.03   44.68   43.94   44.77   43.79  \n",
       "1993-02-04   44.52   45.15   44.21   45.45   44.05   45.62   43.74  \n",
       "...            ...     ...     ...     ...     ...     ...     ...  \n",
       "2022-12-22  383.47  390.16  380.72  392.91  378.75  394.88  376.00  \n",
       "2022-12-23  374.93  392.01  369.13  397.81  363.49  403.45  357.69  \n",
       "2022-12-27  379.60  386.36  376.30  389.66  374.57  391.39  371.27  \n",
       "2022-12-28  379.65  384.90  377.90  386.65  376.15  388.40  374.40  \n",
       "2022-12-29  374.25  385.79  371.85  388.19  367.28  392.76  364.88  \n",
       "\n",
       "[7535 rows x 20 columns]"
      ]
     },
     "execution_count": 30,
     "metadata": {},
     "output_type": "execute_result"
    }
   ],
   "source": [
    "daily_pivot"
   ]
  },
  {
   "cell_type": "code",
   "execution_count": 31,
   "id": "14d2ae27",
   "metadata": {},
   "outputs": [
    {
     "data": {
      "text/html": [
       "<div>\n",
       "<style scoped>\n",
       "    .dataframe tbody tr th:only-of-type {\n",
       "        vertical-align: middle;\n",
       "    }\n",
       "\n",
       "    .dataframe tbody tr th {\n",
       "        vertical-align: top;\n",
       "    }\n",
       "\n",
       "    .dataframe thead th {\n",
       "        text-align: right;\n",
       "    }\n",
       "</style>\n",
       "<table border=\"1\" class=\"dataframe\">\n",
       "  <thead>\n",
       "    <tr style=\"text-align: right;\">\n",
       "      <th></th>\n",
       "      <th>Open</th>\n",
       "      <th>High</th>\n",
       "      <th>Low</th>\n",
       "      <th>Close</th>\n",
       "      <th>Adj Close</th>\n",
       "      <th>Volume</th>\n",
       "      <th>week</th>\n",
       "      <th>year</th>\n",
       "      <th>PP</th>\n",
       "      <th>R1</th>\n",
       "      <th>S1</th>\n",
       "      <th>R2</th>\n",
       "      <th>S2</th>\n",
       "      <th>R3</th>\n",
       "      <th>S3</th>\n",
       "    </tr>\n",
       "    <tr>\n",
       "      <th>Date</th>\n",
       "      <th></th>\n",
       "      <th></th>\n",
       "      <th></th>\n",
       "      <th></th>\n",
       "      <th></th>\n",
       "      <th></th>\n",
       "      <th></th>\n",
       "      <th></th>\n",
       "      <th></th>\n",
       "      <th></th>\n",
       "      <th></th>\n",
       "      <th></th>\n",
       "      <th></th>\n",
       "      <th></th>\n",
       "      <th></th>\n",
       "    </tr>\n",
       "  </thead>\n",
       "  <tbody>\n",
       "    <tr>\n",
       "      <th>1993-01-25</th>\n",
       "      <td>43.968750</td>\n",
       "      <td>43.968750</td>\n",
       "      <td>43.750000</td>\n",
       "      <td>43.937500</td>\n",
       "      <td>25.218233</td>\n",
       "      <td>1003200.0</td>\n",
       "      <td>4</td>\n",
       "      <td>1993</td>\n",
       "      <td>NaN</td>\n",
       "      <td>NaN</td>\n",
       "      <td>NaN</td>\n",
       "      <td>NaN</td>\n",
       "      <td>NaN</td>\n",
       "      <td>NaN</td>\n",
       "      <td>NaN</td>\n",
       "    </tr>\n",
       "    <tr>\n",
       "      <th>1993-02-01</th>\n",
       "      <td>43.968750</td>\n",
       "      <td>45.093750</td>\n",
       "      <td>43.968750</td>\n",
       "      <td>44.968750</td>\n",
       "      <td>25.810123</td>\n",
       "      <td>2234800.0</td>\n",
       "      <td>5</td>\n",
       "      <td>1993</td>\n",
       "      <td>43.89</td>\n",
       "      <td>44.03</td>\n",
       "      <td>43.81</td>\n",
       "      <td>44.11</td>\n",
       "      <td>43.67</td>\n",
       "      <td>44.25</td>\n",
       "      <td>43.59</td>\n",
       "    </tr>\n",
       "    <tr>\n",
       "      <th>1993-02-08</th>\n",
       "      <td>44.968750</td>\n",
       "      <td>45.125000</td>\n",
       "      <td>44.531250</td>\n",
       "      <td>44.593750</td>\n",
       "      <td>25.594873</td>\n",
       "      <td>1159800.0</td>\n",
       "      <td>6</td>\n",
       "      <td>1993</td>\n",
       "      <td>44.68</td>\n",
       "      <td>45.39</td>\n",
       "      <td>44.27</td>\n",
       "      <td>45.80</td>\n",
       "      <td>43.56</td>\n",
       "      <td>46.52</td>\n",
       "      <td>43.14</td>\n",
       "    </tr>\n",
       "    <tr>\n",
       "      <th>1993-02-15</th>\n",
       "      <td>44.468750</td>\n",
       "      <td>44.468750</td>\n",
       "      <td>42.812500</td>\n",
       "      <td>43.562500</td>\n",
       "      <td>25.002989</td>\n",
       "      <td>998700.0</td>\n",
       "      <td>7</td>\n",
       "      <td>1993</td>\n",
       "      <td>44.75</td>\n",
       "      <td>44.97</td>\n",
       "      <td>44.38</td>\n",
       "      <td>45.34</td>\n",
       "      <td>44.16</td>\n",
       "      <td>45.56</td>\n",
       "      <td>43.78</td>\n",
       "    </tr>\n",
       "    <tr>\n",
       "      <th>1993-02-22</th>\n",
       "      <td>43.687500</td>\n",
       "      <td>44.437500</td>\n",
       "      <td>43.468750</td>\n",
       "      <td>44.406250</td>\n",
       "      <td>25.487267</td>\n",
       "      <td>1024300.0</td>\n",
       "      <td>8</td>\n",
       "      <td>1993</td>\n",
       "      <td>43.61</td>\n",
       "      <td>44.41</td>\n",
       "      <td>42.75</td>\n",
       "      <td>45.27</td>\n",
       "      <td>41.95</td>\n",
       "      <td>46.06</td>\n",
       "      <td>41.10</td>\n",
       "    </tr>\n",
       "    <tr>\n",
       "      <th>...</th>\n",
       "      <td>...</td>\n",
       "      <td>...</td>\n",
       "      <td>...</td>\n",
       "      <td>...</td>\n",
       "      <td>...</td>\n",
       "      <td>...</td>\n",
       "      <td>...</td>\n",
       "      <td>...</td>\n",
       "      <td>...</td>\n",
       "      <td>...</td>\n",
       "      <td>...</td>\n",
       "      <td>...</td>\n",
       "      <td>...</td>\n",
       "      <td>...</td>\n",
       "      <td>...</td>\n",
       "    </tr>\n",
       "    <tr>\n",
       "      <th>2022-12-12</th>\n",
       "      <td>394.109985</td>\n",
       "      <td>410.489990</td>\n",
       "      <td>381.040009</td>\n",
       "      <td>383.269989</td>\n",
       "      <td>381.518066</td>\n",
       "      <td>544770000.0</td>\n",
       "      <td>50</td>\n",
       "      <td>2022</td>\n",
       "      <td>396.62</td>\n",
       "      <td>401.60</td>\n",
       "      <td>388.31</td>\n",
       "      <td>409.91</td>\n",
       "      <td>383.33</td>\n",
       "      <td>414.89</td>\n",
       "      <td>375.02</td>\n",
       "    </tr>\n",
       "    <tr>\n",
       "      <th>2022-12-16</th>\n",
       "      <td>NaN</td>\n",
       "      <td>NaN</td>\n",
       "      <td>NaN</td>\n",
       "      <td>NaN</td>\n",
       "      <td>NaN</td>\n",
       "      <td>NaN</td>\n",
       "      <td>50</td>\n",
       "      <td>2022</td>\n",
       "      <td>391.60</td>\n",
       "      <td>402.16</td>\n",
       "      <td>372.71</td>\n",
       "      <td>421.05</td>\n",
       "      <td>362.15</td>\n",
       "      <td>431.61</td>\n",
       "      <td>343.26</td>\n",
       "    </tr>\n",
       "    <tr>\n",
       "      <th>2022-12-19</th>\n",
       "      <td>383.470001</td>\n",
       "      <td>387.410004</td>\n",
       "      <td>374.769989</td>\n",
       "      <td>382.910004</td>\n",
       "      <td>382.910004</td>\n",
       "      <td>392354700.0</td>\n",
       "      <td>51</td>\n",
       "      <td>2022</td>\n",
       "      <td>NaN</td>\n",
       "      <td>NaN</td>\n",
       "      <td>NaN</td>\n",
       "      <td>NaN</td>\n",
       "      <td>NaN</td>\n",
       "      <td>NaN</td>\n",
       "      <td>NaN</td>\n",
       "    </tr>\n",
       "    <tr>\n",
       "      <th>2022-12-26</th>\n",
       "      <td>382.790009</td>\n",
       "      <td>383.390015</td>\n",
       "      <td>376.420013</td>\n",
       "      <td>376.660004</td>\n",
       "      <td>376.660004</td>\n",
       "      <td>122549700.0</td>\n",
       "      <td>52</td>\n",
       "      <td>2022</td>\n",
       "      <td>381.70</td>\n",
       "      <td>388.63</td>\n",
       "      <td>375.99</td>\n",
       "      <td>394.34</td>\n",
       "      <td>369.06</td>\n",
       "      <td>401.27</td>\n",
       "      <td>363.35</td>\n",
       "    </tr>\n",
       "    <tr>\n",
       "      <th>2022-12-29</th>\n",
       "      <td>379.630005</td>\n",
       "      <td>384.339996</td>\n",
       "      <td>379.079987</td>\n",
       "      <td>383.440002</td>\n",
       "      <td>383.440002</td>\n",
       "      <td>65947901.0</td>\n",
       "      <td>52</td>\n",
       "      <td>2022</td>\n",
       "      <td>378.82</td>\n",
       "      <td>381.22</td>\n",
       "      <td>374.25</td>\n",
       "      <td>385.79</td>\n",
       "      <td>371.85</td>\n",
       "      <td>388.19</td>\n",
       "      <td>367.28</td>\n",
       "    </tr>\n",
       "  </tbody>\n",
       "</table>\n",
       "<p>1683 rows × 15 columns</p>\n",
       "</div>"
      ],
      "text/plain": [
       "                  Open        High         Low       Close   Adj Close  \\\n",
       "Date                                                                     \n",
       "1993-01-25   43.968750   43.968750   43.750000   43.937500   25.218233   \n",
       "1993-02-01   43.968750   45.093750   43.968750   44.968750   25.810123   \n",
       "1993-02-08   44.968750   45.125000   44.531250   44.593750   25.594873   \n",
       "1993-02-15   44.468750   44.468750   42.812500   43.562500   25.002989   \n",
       "1993-02-22   43.687500   44.437500   43.468750   44.406250   25.487267   \n",
       "...                ...         ...         ...         ...         ...   \n",
       "2022-12-12  394.109985  410.489990  381.040009  383.269989  381.518066   \n",
       "2022-12-16         NaN         NaN         NaN         NaN         NaN   \n",
       "2022-12-19  383.470001  387.410004  374.769989  382.910004  382.910004   \n",
       "2022-12-26  382.790009  383.390015  376.420013  376.660004  376.660004   \n",
       "2022-12-29  379.630005  384.339996  379.079987  383.440002  383.440002   \n",
       "\n",
       "                 Volume  week  year      PP      R1      S1      R2      S2  \\\n",
       "Date                                                                          \n",
       "1993-01-25    1003200.0     4  1993     NaN     NaN     NaN     NaN     NaN   \n",
       "1993-02-01    2234800.0     5  1993   43.89   44.03   43.81   44.11   43.67   \n",
       "1993-02-08    1159800.0     6  1993   44.68   45.39   44.27   45.80   43.56   \n",
       "1993-02-15     998700.0     7  1993   44.75   44.97   44.38   45.34   44.16   \n",
       "1993-02-22    1024300.0     8  1993   43.61   44.41   42.75   45.27   41.95   \n",
       "...                 ...   ...   ...     ...     ...     ...     ...     ...   \n",
       "2022-12-12  544770000.0    50  2022  396.62  401.60  388.31  409.91  383.33   \n",
       "2022-12-16          NaN    50  2022  391.60  402.16  372.71  421.05  362.15   \n",
       "2022-12-19  392354700.0    51  2022     NaN     NaN     NaN     NaN     NaN   \n",
       "2022-12-26  122549700.0    52  2022  381.70  388.63  375.99  394.34  369.06   \n",
       "2022-12-29   65947901.0    52  2022  378.82  381.22  374.25  385.79  371.85   \n",
       "\n",
       "                R3      S3  \n",
       "Date                        \n",
       "1993-01-25     NaN     NaN  \n",
       "1993-02-01   44.25   43.59  \n",
       "1993-02-08   46.52   43.14  \n",
       "1993-02-15   45.56   43.78  \n",
       "1993-02-22   46.06   41.10  \n",
       "...            ...     ...  \n",
       "2022-12-12  414.89  375.02  \n",
       "2022-12-16  431.61  343.26  \n",
       "2022-12-19     NaN     NaN  \n",
       "2022-12-26  401.27  363.35  \n",
       "2022-12-29  388.19  367.28  \n",
       "\n",
       "[1683 rows x 15 columns]"
      ]
     },
     "execution_count": 31,
     "metadata": {},
     "output_type": "execute_result"
    }
   ],
   "source": [
    "weekly_pivot"
   ]
  },
  {
   "cell_type": "code",
   "execution_count": 32,
   "id": "308e0ca5",
   "metadata": {},
   "outputs": [],
   "source": [
    "weekly_pivot=weekly_pivot[:-1]"
   ]
  },
  {
   "cell_type": "code",
   "execution_count": 33,
   "id": "8ed3348d",
   "metadata": {},
   "outputs": [
    {
     "data": {
      "text/html": [
       "<div>\n",
       "<style scoped>\n",
       "    .dataframe tbody tr th:only-of-type {\n",
       "        vertical-align: middle;\n",
       "    }\n",
       "\n",
       "    .dataframe tbody tr th {\n",
       "        vertical-align: top;\n",
       "    }\n",
       "\n",
       "    .dataframe thead th {\n",
       "        text-align: right;\n",
       "    }\n",
       "</style>\n",
       "<table border=\"1\" class=\"dataframe\">\n",
       "  <thead>\n",
       "    <tr style=\"text-align: right;\">\n",
       "      <th></th>\n",
       "      <th>Open</th>\n",
       "      <th>High</th>\n",
       "      <th>Low</th>\n",
       "      <th>Close</th>\n",
       "      <th>Adj Close</th>\n",
       "      <th>Volume</th>\n",
       "      <th>month</th>\n",
       "      <th>year</th>\n",
       "      <th>PP</th>\n",
       "      <th>R1</th>\n",
       "      <th>S1</th>\n",
       "      <th>R2</th>\n",
       "      <th>S2</th>\n",
       "      <th>R3</th>\n",
       "      <th>S3</th>\n",
       "    </tr>\n",
       "    <tr>\n",
       "      <th>Date</th>\n",
       "      <th></th>\n",
       "      <th></th>\n",
       "      <th></th>\n",
       "      <th></th>\n",
       "      <th></th>\n",
       "      <th></th>\n",
       "      <th></th>\n",
       "      <th></th>\n",
       "      <th></th>\n",
       "      <th></th>\n",
       "      <th></th>\n",
       "      <th></th>\n",
       "      <th></th>\n",
       "      <th></th>\n",
       "      <th></th>\n",
       "    </tr>\n",
       "  </thead>\n",
       "  <tbody>\n",
       "    <tr>\n",
       "      <th>1993-02-01</th>\n",
       "      <td>43.968750</td>\n",
       "      <td>45.125000</td>\n",
       "      <td>42.812500</td>\n",
       "      <td>44.406250</td>\n",
       "      <td>25.487261</td>\n",
       "      <td>5.417600e+06</td>\n",
       "      <td>2</td>\n",
       "      <td>1993</td>\n",
       "      <td>NaN</td>\n",
       "      <td>NaN</td>\n",
       "      <td>NaN</td>\n",
       "      <td>NaN</td>\n",
       "      <td>NaN</td>\n",
       "      <td>NaN</td>\n",
       "      <td>NaN</td>\n",
       "    </tr>\n",
       "    <tr>\n",
       "      <th>1993-03-01</th>\n",
       "      <td>44.562500</td>\n",
       "      <td>45.843750</td>\n",
       "      <td>44.218750</td>\n",
       "      <td>45.187500</td>\n",
       "      <td>25.935667</td>\n",
       "      <td>3.019200e+06</td>\n",
       "      <td>3</td>\n",
       "      <td>1993</td>\n",
       "      <td>44.11</td>\n",
       "      <td>45.41</td>\n",
       "      <td>43.10</td>\n",
       "      <td>46.42</td>\n",
       "      <td>41.80</td>\n",
       "      <td>47.72</td>\n",
       "      <td>40.78</td>\n",
       "    </tr>\n",
       "    <tr>\n",
       "      <th>1993-03-19</th>\n",
       "      <td>NaN</td>\n",
       "      <td>NaN</td>\n",
       "      <td>NaN</td>\n",
       "      <td>NaN</td>\n",
       "      <td>NaN</td>\n",
       "      <td>NaN</td>\n",
       "      <td>3</td>\n",
       "      <td>1993</td>\n",
       "      <td>45.08</td>\n",
       "      <td>45.94</td>\n",
       "      <td>44.32</td>\n",
       "      <td>46.70</td>\n",
       "      <td>43.46</td>\n",
       "      <td>47.57</td>\n",
       "      <td>42.69</td>\n",
       "    </tr>\n",
       "    <tr>\n",
       "      <th>1993-04-01</th>\n",
       "      <td>45.250000</td>\n",
       "      <td>45.250000</td>\n",
       "      <td>43.281250</td>\n",
       "      <td>44.031250</td>\n",
       "      <td>25.391378</td>\n",
       "      <td>2.697200e+06</td>\n",
       "      <td>4</td>\n",
       "      <td>1993</td>\n",
       "      <td>NaN</td>\n",
       "      <td>NaN</td>\n",
       "      <td>NaN</td>\n",
       "      <td>NaN</td>\n",
       "      <td>NaN</td>\n",
       "      <td>NaN</td>\n",
       "      <td>NaN</td>\n",
       "    </tr>\n",
       "    <tr>\n",
       "      <th>1993-05-01</th>\n",
       "      <td>44.093750</td>\n",
       "      <td>45.656250</td>\n",
       "      <td>43.843750</td>\n",
       "      <td>45.218750</td>\n",
       "      <td>26.076191</td>\n",
       "      <td>1.808000e+06</td>\n",
       "      <td>5</td>\n",
       "      <td>1993</td>\n",
       "      <td>44.19</td>\n",
       "      <td>45.10</td>\n",
       "      <td>43.13</td>\n",
       "      <td>46.16</td>\n",
       "      <td>42.22</td>\n",
       "      <td>47.07</td>\n",
       "      <td>41.16</td>\n",
       "    </tr>\n",
       "    <tr>\n",
       "      <th>...</th>\n",
       "      <td>...</td>\n",
       "      <td>...</td>\n",
       "      <td>...</td>\n",
       "      <td>...</td>\n",
       "      <td>...</td>\n",
       "      <td>...</td>\n",
       "      <td>...</td>\n",
       "      <td>...</td>\n",
       "      <td>...</td>\n",
       "      <td>...</td>\n",
       "      <td>...</td>\n",
       "      <td>...</td>\n",
       "      <td>...</td>\n",
       "      <td>...</td>\n",
       "      <td>...</td>\n",
       "    </tr>\n",
       "    <tr>\n",
       "      <th>2022-10-01</th>\n",
       "      <td>361.079987</td>\n",
       "      <td>389.519989</td>\n",
       "      <td>348.109985</td>\n",
       "      <td>386.209991</td>\n",
       "      <td>384.444611</td>\n",
       "      <td>2.024732e+09</td>\n",
       "      <td>10</td>\n",
       "      <td>2022</td>\n",
       "      <td>NaN</td>\n",
       "      <td>NaN</td>\n",
       "      <td>NaN</td>\n",
       "      <td>NaN</td>\n",
       "      <td>NaN</td>\n",
       "      <td>NaN</td>\n",
       "      <td>NaN</td>\n",
       "    </tr>\n",
       "    <tr>\n",
       "      <th>2022-11-01</th>\n",
       "      <td>390.140015</td>\n",
       "      <td>407.679993</td>\n",
       "      <td>368.790009</td>\n",
       "      <td>407.679993</td>\n",
       "      <td>405.816467</td>\n",
       "      <td>1.745985e+09</td>\n",
       "      <td>11</td>\n",
       "      <td>2022</td>\n",
       "      <td>374.61</td>\n",
       "      <td>401.11</td>\n",
       "      <td>359.70</td>\n",
       "      <td>416.02</td>\n",
       "      <td>333.20</td>\n",
       "      <td>442.52</td>\n",
       "      <td>318.29</td>\n",
       "    </tr>\n",
       "    <tr>\n",
       "      <th>2022-12-01</th>\n",
       "      <td>408.769989</td>\n",
       "      <td>410.489990</td>\n",
       "      <td>374.769989</td>\n",
       "      <td>376.660004</td>\n",
       "      <td>374.938293</td>\n",
       "      <td>1.584548e+09</td>\n",
       "      <td>12</td>\n",
       "      <td>2022</td>\n",
       "      <td>394.72</td>\n",
       "      <td>420.65</td>\n",
       "      <td>381.76</td>\n",
       "      <td>433.61</td>\n",
       "      <td>355.83</td>\n",
       "      <td>459.54</td>\n",
       "      <td>342.87</td>\n",
       "    </tr>\n",
       "    <tr>\n",
       "      <th>2022-12-16</th>\n",
       "      <td>NaN</td>\n",
       "      <td>NaN</td>\n",
       "      <td>NaN</td>\n",
       "      <td>NaN</td>\n",
       "      <td>NaN</td>\n",
       "      <td>NaN</td>\n",
       "      <td>12</td>\n",
       "      <td>2022</td>\n",
       "      <td>387.31</td>\n",
       "      <td>399.85</td>\n",
       "      <td>364.13</td>\n",
       "      <td>423.03</td>\n",
       "      <td>351.59</td>\n",
       "      <td>435.57</td>\n",
       "      <td>328.41</td>\n",
       "    </tr>\n",
       "    <tr>\n",
       "      <th>2022-12-29</th>\n",
       "      <td>379.630005</td>\n",
       "      <td>384.339996</td>\n",
       "      <td>379.079987</td>\n",
       "      <td>383.440002</td>\n",
       "      <td>383.440002</td>\n",
       "      <td>6.594790e+07</td>\n",
       "      <td>12</td>\n",
       "      <td>2022</td>\n",
       "      <td>NaN</td>\n",
       "      <td>NaN</td>\n",
       "      <td>NaN</td>\n",
       "      <td>NaN</td>\n",
       "      <td>NaN</td>\n",
       "      <td>NaN</td>\n",
       "      <td>NaN</td>\n",
       "    </tr>\n",
       "  </tbody>\n",
       "</table>\n",
       "<p>481 rows × 15 columns</p>\n",
       "</div>"
      ],
      "text/plain": [
       "                  Open        High         Low       Close   Adj Close  \\\n",
       "Date                                                                     \n",
       "1993-02-01   43.968750   45.125000   42.812500   44.406250   25.487261   \n",
       "1993-03-01   44.562500   45.843750   44.218750   45.187500   25.935667   \n",
       "1993-03-19         NaN         NaN         NaN         NaN         NaN   \n",
       "1993-04-01   45.250000   45.250000   43.281250   44.031250   25.391378   \n",
       "1993-05-01   44.093750   45.656250   43.843750   45.218750   26.076191   \n",
       "...                ...         ...         ...         ...         ...   \n",
       "2022-10-01  361.079987  389.519989  348.109985  386.209991  384.444611   \n",
       "2022-11-01  390.140015  407.679993  368.790009  407.679993  405.816467   \n",
       "2022-12-01  408.769989  410.489990  374.769989  376.660004  374.938293   \n",
       "2022-12-16         NaN         NaN         NaN         NaN         NaN   \n",
       "2022-12-29  379.630005  384.339996  379.079987  383.440002  383.440002   \n",
       "\n",
       "                  Volume  month  year      PP      R1      S1      R2      S2  \\\n",
       "Date                                                                            \n",
       "1993-02-01  5.417600e+06      2  1993     NaN     NaN     NaN     NaN     NaN   \n",
       "1993-03-01  3.019200e+06      3  1993   44.11   45.41   43.10   46.42   41.80   \n",
       "1993-03-19           NaN      3  1993   45.08   45.94   44.32   46.70   43.46   \n",
       "1993-04-01  2.697200e+06      4  1993     NaN     NaN     NaN     NaN     NaN   \n",
       "1993-05-01  1.808000e+06      5  1993   44.19   45.10   43.13   46.16   42.22   \n",
       "...                  ...    ...   ...     ...     ...     ...     ...     ...   \n",
       "2022-10-01  2.024732e+09     10  2022     NaN     NaN     NaN     NaN     NaN   \n",
       "2022-11-01  1.745985e+09     11  2022  374.61  401.11  359.70  416.02  333.20   \n",
       "2022-12-01  1.584548e+09     12  2022  394.72  420.65  381.76  433.61  355.83   \n",
       "2022-12-16           NaN     12  2022  387.31  399.85  364.13  423.03  351.59   \n",
       "2022-12-29  6.594790e+07     12  2022     NaN     NaN     NaN     NaN     NaN   \n",
       "\n",
       "                R3      S3  \n",
       "Date                        \n",
       "1993-02-01     NaN     NaN  \n",
       "1993-03-01   47.72   40.78  \n",
       "1993-03-19   47.57   42.69  \n",
       "1993-04-01     NaN     NaN  \n",
       "1993-05-01   47.07   41.16  \n",
       "...            ...     ...  \n",
       "2022-10-01     NaN     NaN  \n",
       "2022-11-01  442.52  318.29  \n",
       "2022-12-01  459.54  342.87  \n",
       "2022-12-16  435.57  328.41  \n",
       "2022-12-29     NaN     NaN  \n",
       "\n",
       "[481 rows x 15 columns]"
      ]
     },
     "execution_count": 33,
     "metadata": {},
     "output_type": "execute_result"
    }
   ],
   "source": [
    "monthly_pivot"
   ]
  },
  {
   "cell_type": "code",
   "execution_count": 34,
   "id": "75b596ed",
   "metadata": {},
   "outputs": [],
   "source": [
    "monthly_pivot=monthly_pivot[:-1]"
   ]
  },
  {
   "cell_type": "code",
   "execution_count": 35,
   "id": "74869fda",
   "metadata": {},
   "outputs": [
    {
     "name": "stdout",
     "output_type": "stream",
     "text": [
      "2022-11-25 00:00:00\n",
      "2022\n",
      "11\n",
      "25\n",
      "47\n"
     ]
    }
   ],
   "source": [
    "import datetime as dt\n",
    "today=dt.datetime(2022,11,25)\n",
    "print(today)\n",
    "print(today.year)\n",
    "print(today.month)\n",
    "print(today.day)\n",
    "print(today.isocalendar().week)    #getting the week of the year"
   ]
  },
  {
   "cell_type": "code",
   "execution_count": 36,
   "id": "0cbe29ce",
   "metadata": {},
   "outputs": [
    {
     "data": {
      "text/plain": [
       "Date\n",
       "1993-01-25    False\n",
       "1993-02-01    False\n",
       "1993-02-08    False\n",
       "1993-02-15    False\n",
       "1993-02-22    False\n",
       "              ...  \n",
       "2022-12-05    False\n",
       "2022-12-12    False\n",
       "2022-12-16    False\n",
       "2022-12-19    False\n",
       "2022-12-26    False\n",
       "Name: week, Length: 1682, dtype: bool"
      ]
     },
     "execution_count": 36,
     "metadata": {},
     "output_type": "execute_result"
    }
   ],
   "source": [
    "weekly_pivot[\"week\"]==today.isocalendar().week"
   ]
  },
  {
   "cell_type": "code",
   "execution_count": 37,
   "id": "735b18df",
   "metadata": {},
   "outputs": [
    {
     "data": {
      "text/plain": [
       "Date\n",
       "1993-01-25    False\n",
       "1993-02-01    False\n",
       "1993-02-08    False\n",
       "1993-02-15    False\n",
       "1993-02-22    False\n",
       "              ...  \n",
       "2022-12-05     True\n",
       "2022-12-12     True\n",
       "2022-12-16     True\n",
       "2022-12-19     True\n",
       "2022-12-26     True\n",
       "Name: year, Length: 1682, dtype: bool"
      ]
     },
     "execution_count": 37,
     "metadata": {},
     "output_type": "execute_result"
    }
   ],
   "source": [
    "weekly_pivot[\"year\"]==today.year"
   ]
  },
  {
   "cell_type": "code",
   "execution_count": 38,
   "id": "488d2550",
   "metadata": {},
   "outputs": [],
   "source": [
    "for i in range(len(weekly_pivot)):\n",
    "    if weekly_pivot[\"week\"][i]==today.isocalendar().week and weekly_pivot[\"year\"][i]==today.year:\n",
    "        week_index=i"
   ]
  },
  {
   "cell_type": "code",
   "execution_count": 39,
   "id": "74ba7a4d",
   "metadata": {},
   "outputs": [
    {
     "data": {
      "text/plain": [
       "Open         3.946400e+02\n",
       "High         4.029300e+02\n",
       "Low          3.926600e+02\n",
       "Close        4.023300e+02\n",
       "Adj Close    4.004909e+02\n",
       "Volume       2.104792e+08\n",
       "week         4.700000e+01\n",
       "year         2.022000e+03\n",
       "PP           3.961600e+02\n",
       "R1           4.021800e+02\n",
       "S1           3.900100e+02\n",
       "R2           4.083300e+02\n",
       "S2           3.839900e+02\n",
       "R3           4.143500e+02\n",
       "S3           3.778400e+02\n",
       "Name: 2022-11-21 00:00:00, dtype: float64"
      ]
     },
     "execution_count": 39,
     "metadata": {},
     "output_type": "execute_result"
    }
   ],
   "source": [
    "weekly_pivot.iloc[week_index]"
   ]
  },
  {
   "cell_type": "code",
   "execution_count": 40,
   "id": "35128bbf",
   "metadata": {},
   "outputs": [
    {
     "data": {
      "text/plain": [
       "402.18"
      ]
     },
     "execution_count": 40,
     "metadata": {},
     "output_type": "execute_result"
    }
   ],
   "source": [
    "weekly_pivot.iloc[week_index:][\"R1\"][0]\n"
   ]
  },
  {
   "cell_type": "code",
   "execution_count": 41,
   "id": "615a22df",
   "metadata": {},
   "outputs": [
    {
     "data": {
      "text/plain": [
       "390.01"
      ]
     },
     "execution_count": 41,
     "metadata": {},
     "output_type": "execute_result"
    }
   ],
   "source": [
    "weekly_pivot.iloc[week_index:][\"S1\"][0]\n"
   ]
  },
  {
   "cell_type": "code",
   "execution_count": 42,
   "id": "fc5f7c8c",
   "metadata": {},
   "outputs": [
    {
     "data": {
      "text/plain": [
       "396.16"
      ]
     },
     "execution_count": 42,
     "metadata": {},
     "output_type": "execute_result"
    }
   ],
   "source": [
    "weekly_pivot.iloc[week_index:][\"PP\"][0]\n"
   ]
  },
  {
   "cell_type": "code",
   "execution_count": 43,
   "id": "4e31c94e",
   "metadata": {},
   "outputs": [],
   "source": [
    "for j in range(len(monthly_pivot)):\n",
    "    if monthly_pivot[\"month\"][j]==today.month and monthly_pivot[\"year\"][j]==today.year:\n",
    "        month_index=j\n",
    "        "
   ]
  },
  {
   "cell_type": "code",
   "execution_count": 44,
   "id": "225cc38e",
   "metadata": {},
   "outputs": [
    {
     "data": {
      "text/plain": [
       "Open         3.901400e+02\n",
       "High         4.076800e+02\n",
       "Low          3.687900e+02\n",
       "Close        4.076800e+02\n",
       "Adj Close    4.058165e+02\n",
       "Volume       1.745985e+09\n",
       "month        1.100000e+01\n",
       "year         2.022000e+03\n",
       "PP           3.746100e+02\n",
       "R1           4.011100e+02\n",
       "S1           3.597000e+02\n",
       "R2           4.160200e+02\n",
       "S2           3.332000e+02\n",
       "R3           4.425200e+02\n",
       "S3           3.182900e+02\n",
       "Name: 2022-11-01 00:00:00, dtype: float64"
      ]
     },
     "execution_count": 44,
     "metadata": {},
     "output_type": "execute_result"
    }
   ],
   "source": [
    "monthly_pivot.iloc[month_index]"
   ]
  },
  {
   "cell_type": "code",
   "execution_count": 45,
   "id": "32c2b139",
   "metadata": {},
   "outputs": [
    {
     "data": {
      "text/plain": [
       "374.61"
      ]
     },
     "execution_count": 45,
     "metadata": {},
     "output_type": "execute_result"
    }
   ],
   "source": [
    "monthly_pivot.iloc[month_index:]['PP'][0]"
   ]
  },
  {
   "cell_type": "code",
   "execution_count": 46,
   "id": "4ecac66f",
   "metadata": {},
   "outputs": [
    {
     "data": {
      "text/plain": [
       "359.7"
      ]
     },
     "execution_count": 46,
     "metadata": {},
     "output_type": "execute_result"
    }
   ],
   "source": [
    "monthly_pivot.iloc[month_index:][\"S1\"][0]"
   ]
  },
  {
   "cell_type": "code",
   "execution_count": 47,
   "id": "d9a8adc0",
   "metadata": {},
   "outputs": [
    {
     "data": {
      "text/plain": [
       "401.11"
      ]
     },
     "execution_count": 47,
     "metadata": {},
     "output_type": "execute_result"
    }
   ],
   "source": [
    "monthly_pivot.iloc[month_index:][\"R1\"][0]"
   ]
  },
  {
   "cell_type": "code",
   "execution_count": 48,
   "id": "3b8f50c7",
   "metadata": {},
   "outputs": [
    {
     "data": {
      "text/plain": [
       "401.5400085449219"
      ]
     },
     "execution_count": 48,
     "metadata": {},
     "output_type": "execute_result"
    }
   ],
   "source": [
    "date='2022-11-25'\n",
    "daily_pivot.loc[date][\"Low\"]"
   ]
  },
  {
   "cell_type": "code",
   "execution_count": 44,
   "id": "013b25b5",
   "metadata": {},
   "outputs": [
    {
     "data": {
      "text/plain": [
       "401.55"
      ]
     },
     "execution_count": 44,
     "metadata": {},
     "output_type": "execute_result"
    }
   ],
   "source": [
    "daily_pivot.loc[date][\"PP\"]"
   ]
  },
  {
   "cell_type": "code",
   "execution_count": 45,
   "id": "b247fc8e",
   "metadata": {},
   "outputs": [
    {
     "data": {
      "text/plain": [
       "401.98"
      ]
     },
     "execution_count": 45,
     "metadata": {},
     "output_type": "execute_result"
    }
   ],
   "source": [
    "daily_pivot.loc[date][\"TC\"]"
   ]
  },
  {
   "cell_type": "code",
   "execution_count": 46,
   "id": "9850353a",
   "metadata": {},
   "outputs": [
    {
     "data": {
      "text/plain": [
       "401.12"
      ]
     },
     "execution_count": 46,
     "metadata": {},
     "output_type": "execute_result"
    }
   ],
   "source": [
    "daily_pivot.loc[date][\"BC\"]"
   ]
  },
  {
   "cell_type": "code",
   "execution_count": 47,
   "id": "b7e15c34",
   "metadata": {},
   "outputs": [
    {
     "data": {
      "text/plain": [
       "400.17"
      ]
     },
     "execution_count": 47,
     "metadata": {},
     "output_type": "execute_result"
    }
   ],
   "source": [
    "daily_pivot.loc[date][\"S1\"]"
   ]
  },
  {
   "cell_type": "code",
   "execution_count": 48,
   "id": "f1128033",
   "metadata": {},
   "outputs": [
    {
     "data": {
      "text/plain": [
       "403.79"
      ]
     },
     "execution_count": 48,
     "metadata": {},
     "output_type": "execute_result"
    }
   ],
   "source": [
    "daily_pivot.loc[date][\"R1\"]"
   ]
  },
  {
   "cell_type": "code",
   "execution_count": 49,
   "id": "02808441",
   "metadata": {},
   "outputs": [
    {
     "data": {
      "text/plain": [
       "405.17"
      ]
     },
     "execution_count": 49,
     "metadata": {},
     "output_type": "execute_result"
    }
   ],
   "source": [
    "daily_pivot.loc[date][\"R2\"]"
   ]
  },
  {
   "cell_type": "code",
   "execution_count": 50,
   "id": "80c9d64e",
   "metadata": {},
   "outputs": [
    {
     "data": {
      "text/plain": [
       "397.93"
      ]
     },
     "execution_count": 50,
     "metadata": {},
     "output_type": "execute_result"
    }
   ],
   "source": [
    "daily_pivot.loc[date][\"S2\"]"
   ]
  },
  {
   "cell_type": "code",
   "execution_count": 51,
   "id": "3ec92649",
   "metadata": {},
   "outputs": [
    {
     "data": {
      "text/plain": [
       "402.92999267578125"
      ]
     },
     "execution_count": 51,
     "metadata": {},
     "output_type": "execute_result"
    }
   ],
   "source": [
    "daily_pivot.shift(1).loc[date][\"High\"]"
   ]
  },
  {
   "cell_type": "code",
   "execution_count": 52,
   "id": "e5d20e63",
   "metadata": {},
   "outputs": [],
   "source": [
    "#plot the candle stick"
   ]
  },
  {
   "cell_type": "code",
   "execution_count": 54,
   "id": "0a322043",
   "metadata": {},
   "outputs": [],
   "source": [
    "# import numpy as np\n",
    "# import mplfinance as mpf\n",
    "# mpf.plot(stock_intraday[date],type='candle',hlines=[400,np.nan])\n"
   ]
  },
  {
   "cell_type": "code",
   "execution_count": 55,
   "id": "e475f4ba",
   "metadata": {
    "scrolled": false
   },
   "outputs": [
    {
     "ename": "KeyError",
     "evalue": "'2022-11-25'",
     "output_type": "error",
     "traceback": [
      "\u001b[0;31m---------------------------------------------------------------------------\u001b[0m",
      "\u001b[0;31mKeyError\u001b[0m                                  Traceback (most recent call last)",
      "\u001b[0;32m~/opt/anaconda3/lib/python3.9/site-packages/pandas/core/indexes/base.py\u001b[0m in \u001b[0;36mget_loc\u001b[0;34m(self, key, method, tolerance)\u001b[0m\n\u001b[1;32m   3628\u001b[0m             \u001b[0;32mtry\u001b[0m\u001b[0;34m:\u001b[0m\u001b[0;34m\u001b[0m\u001b[0;34m\u001b[0m\u001b[0m\n\u001b[0;32m-> 3629\u001b[0;31m                 \u001b[0;32mreturn\u001b[0m \u001b[0mself\u001b[0m\u001b[0;34m.\u001b[0m\u001b[0m_engine\u001b[0m\u001b[0;34m.\u001b[0m\u001b[0mget_loc\u001b[0m\u001b[0;34m(\u001b[0m\u001b[0mcasted_key\u001b[0m\u001b[0;34m)\u001b[0m\u001b[0;34m\u001b[0m\u001b[0;34m\u001b[0m\u001b[0m\n\u001b[0m\u001b[1;32m   3630\u001b[0m             \u001b[0;32mexcept\u001b[0m \u001b[0mKeyError\u001b[0m \u001b[0;32mas\u001b[0m \u001b[0merr\u001b[0m\u001b[0;34m:\u001b[0m\u001b[0;34m\u001b[0m\u001b[0;34m\u001b[0m\u001b[0m\n",
      "\u001b[0;32m~/opt/anaconda3/lib/python3.9/site-packages/pandas/_libs/index.pyx\u001b[0m in \u001b[0;36mpandas._libs.index.IndexEngine.get_loc\u001b[0;34m()\u001b[0m\n",
      "\u001b[0;32m~/opt/anaconda3/lib/python3.9/site-packages/pandas/_libs/index.pyx\u001b[0m in \u001b[0;36mpandas._libs.index.IndexEngine.get_loc\u001b[0;34m()\u001b[0m\n",
      "\u001b[0;32mpandas/_libs/hashtable_class_helper.pxi\u001b[0m in \u001b[0;36mpandas._libs.hashtable.PyObjectHashTable.get_item\u001b[0;34m()\u001b[0m\n",
      "\u001b[0;32mpandas/_libs/hashtable_class_helper.pxi\u001b[0m in \u001b[0;36mpandas._libs.hashtable.PyObjectHashTable.get_item\u001b[0;34m()\u001b[0m\n",
      "\u001b[0;31mKeyError\u001b[0m: '2022-11-25'",
      "\nThe above exception was the direct cause of the following exception:\n",
      "\u001b[0;31mKeyError\u001b[0m                                  Traceback (most recent call last)",
      "\u001b[0;32m/var/folders/0d/2q3_g9bj7tn1m1t1w5crmtvh0000gn/T/ipykernel_60235/687684407.py\u001b[0m in \u001b[0;36m<module>\u001b[0;34m\u001b[0m\n\u001b[1;32m     76\u001b[0m \u001b[0myes_low\u001b[0m\u001b[0;34m=\u001b[0m\u001b[0mdaily_pivot\u001b[0m\u001b[0;34m.\u001b[0m\u001b[0mshift\u001b[0m\u001b[0;34m(\u001b[0m\u001b[0;36m1\u001b[0m\u001b[0;34m)\u001b[0m\u001b[0;34m.\u001b[0m\u001b[0mloc\u001b[0m\u001b[0;34m[\u001b[0m\u001b[0mdate\u001b[0m\u001b[0;34m]\u001b[0m\u001b[0;34m[\u001b[0m\u001b[0;34m\"Low\"\u001b[0m\u001b[0;34m]\u001b[0m\u001b[0;34m\u001b[0m\u001b[0;34m\u001b[0m\u001b[0m\n\u001b[1;32m     77\u001b[0m \u001b[0;34m\u001b[0m\u001b[0m\n\u001b[0;32m---> 78\u001b[0;31m mpf.plot(stock_intraday[date],type='candle',\n\u001b[0m\u001b[1;32m     79\u001b[0m          hlines=dict(hlines=[daily_pp,daily_bc,daily_tc,daily_r1,daily_s1,weekly_pp,weekly_r1,weekly_s1,monthly_pp,monthly_r1,monthly_s1,yes_high,yes_low],\n\u001b[1;32m     80\u001b[0m                     \u001b[0mcolors\u001b[0m\u001b[0;34m=\u001b[0m\u001b[0;34m[\u001b[0m\u001b[0;34m'b'\u001b[0m\u001b[0;34m,\u001b[0m\u001b[0;34m'b'\u001b[0m\u001b[0;34m,\u001b[0m\u001b[0;34m'b'\u001b[0m\u001b[0;34m,\u001b[0m\u001b[0;34m'b'\u001b[0m\u001b[0;34m,\u001b[0m\u001b[0;34m'b'\u001b[0m\u001b[0;34m,\u001b[0m\u001b[0;34m'r'\u001b[0m\u001b[0;34m,\u001b[0m\u001b[0;34m'r'\u001b[0m\u001b[0;34m,\u001b[0m\u001b[0;34m'r'\u001b[0m\u001b[0;34m,\u001b[0m\u001b[0;34m'g'\u001b[0m\u001b[0;34m,\u001b[0m\u001b[0;34m'g'\u001b[0m\u001b[0;34m,\u001b[0m\u001b[0;34m'g'\u001b[0m\u001b[0;34m,\u001b[0m\u001b[0;34m'k'\u001b[0m\u001b[0;34m,\u001b[0m\u001b[0;34m'k'\u001b[0m\u001b[0;34m]\u001b[0m\u001b[0;34m,\u001b[0m\u001b[0;34m\u001b[0m\u001b[0;34m\u001b[0m\u001b[0m\n",
      "\u001b[0;32m~/opt/anaconda3/lib/python3.9/site-packages/pandas/core/frame.py\u001b[0m in \u001b[0;36m__getitem__\u001b[0;34m(self, key)\u001b[0m\n\u001b[1;32m   3503\u001b[0m             \u001b[0;32mif\u001b[0m \u001b[0mself\u001b[0m\u001b[0;34m.\u001b[0m\u001b[0mcolumns\u001b[0m\u001b[0;34m.\u001b[0m\u001b[0mnlevels\u001b[0m \u001b[0;34m>\u001b[0m \u001b[0;36m1\u001b[0m\u001b[0;34m:\u001b[0m\u001b[0;34m\u001b[0m\u001b[0;34m\u001b[0m\u001b[0m\n\u001b[1;32m   3504\u001b[0m                 \u001b[0;32mreturn\u001b[0m \u001b[0mself\u001b[0m\u001b[0;34m.\u001b[0m\u001b[0m_getitem_multilevel\u001b[0m\u001b[0;34m(\u001b[0m\u001b[0mkey\u001b[0m\u001b[0;34m)\u001b[0m\u001b[0;34m\u001b[0m\u001b[0;34m\u001b[0m\u001b[0m\n\u001b[0;32m-> 3505\u001b[0;31m             \u001b[0mindexer\u001b[0m \u001b[0;34m=\u001b[0m \u001b[0mself\u001b[0m\u001b[0;34m.\u001b[0m\u001b[0mcolumns\u001b[0m\u001b[0;34m.\u001b[0m\u001b[0mget_loc\u001b[0m\u001b[0;34m(\u001b[0m\u001b[0mkey\u001b[0m\u001b[0;34m)\u001b[0m\u001b[0;34m\u001b[0m\u001b[0;34m\u001b[0m\u001b[0m\n\u001b[0m\u001b[1;32m   3506\u001b[0m             \u001b[0;32mif\u001b[0m \u001b[0mis_integer\u001b[0m\u001b[0;34m(\u001b[0m\u001b[0mindexer\u001b[0m\u001b[0;34m)\u001b[0m\u001b[0;34m:\u001b[0m\u001b[0;34m\u001b[0m\u001b[0;34m\u001b[0m\u001b[0m\n\u001b[1;32m   3507\u001b[0m                 \u001b[0mindexer\u001b[0m \u001b[0;34m=\u001b[0m \u001b[0;34m[\u001b[0m\u001b[0mindexer\u001b[0m\u001b[0;34m]\u001b[0m\u001b[0;34m\u001b[0m\u001b[0;34m\u001b[0m\u001b[0m\n",
      "\u001b[0;32m~/opt/anaconda3/lib/python3.9/site-packages/pandas/core/indexes/base.py\u001b[0m in \u001b[0;36mget_loc\u001b[0;34m(self, key, method, tolerance)\u001b[0m\n\u001b[1;32m   3629\u001b[0m                 \u001b[0;32mreturn\u001b[0m \u001b[0mself\u001b[0m\u001b[0;34m.\u001b[0m\u001b[0m_engine\u001b[0m\u001b[0;34m.\u001b[0m\u001b[0mget_loc\u001b[0m\u001b[0;34m(\u001b[0m\u001b[0mcasted_key\u001b[0m\u001b[0;34m)\u001b[0m\u001b[0;34m\u001b[0m\u001b[0;34m\u001b[0m\u001b[0m\n\u001b[1;32m   3630\u001b[0m             \u001b[0;32mexcept\u001b[0m \u001b[0mKeyError\u001b[0m \u001b[0;32mas\u001b[0m \u001b[0merr\u001b[0m\u001b[0;34m:\u001b[0m\u001b[0;34m\u001b[0m\u001b[0;34m\u001b[0m\u001b[0m\n\u001b[0;32m-> 3631\u001b[0;31m                 \u001b[0;32mraise\u001b[0m \u001b[0mKeyError\u001b[0m\u001b[0;34m(\u001b[0m\u001b[0mkey\u001b[0m\u001b[0;34m)\u001b[0m \u001b[0;32mfrom\u001b[0m \u001b[0merr\u001b[0m\u001b[0;34m\u001b[0m\u001b[0;34m\u001b[0m\u001b[0m\n\u001b[0m\u001b[1;32m   3632\u001b[0m             \u001b[0;32mexcept\u001b[0m \u001b[0mTypeError\u001b[0m\u001b[0;34m:\u001b[0m\u001b[0;34m\u001b[0m\u001b[0;34m\u001b[0m\u001b[0m\n\u001b[1;32m   3633\u001b[0m                 \u001b[0;31m# If we have a listlike key, _check_indexing_error will raise\u001b[0m\u001b[0;34m\u001b[0m\u001b[0;34m\u001b[0m\u001b[0m\n",
      "\u001b[0;31mKeyError\u001b[0m: '2022-11-25'"
     ]
    }
   ],
   "source": [
    "import datetime as dt\n",
    "\n",
    "date1=dt.datetime(2022,11,25)\n",
    "date='2022-11-25'\n",
    "\n",
    "#stock_intraday[date][\"Adj Close\"].plot()\n",
    "#plot daily pivots\n",
    "daily_pp=daily_pivot.loc[date][\"PP\"]\n",
    "daily_bc=daily_pivot.loc[date][\"BC\"]\n",
    "daily_tc=daily_pivot.loc[date][\"TC\"]\n",
    "\n",
    "daily_r1=daily_pivot.loc[date][\"R1\"]\n",
    "daily_s1=daily_pivot.loc[date][\"S1\"]\n",
    "\n",
    "#if stock_daily.loc[date][\"Low\"]<daily_pivot.loc[date][\"R2\"]<stock_daily.loc[date][\"High\"]:\n",
    "daily_r2=daily_pivot.loc[date][\"R2\"]\n",
    "#else:\n",
    "#daily_r2=np.nan\n",
    "        \n",
    "#if stock_daily.loc[date][\"Low\"]<daily_pivot.loc[date][\"S2\"]<stock_daily.loc[date][\"High\"]:\n",
    "daily_s2=daily_pivot.loc[date][\"S2\"]\n",
    "#else:\n",
    "#daily_s2=np.nan\n",
    "\n",
    "    \n",
    "    \n",
    "\n",
    "#plt.axhline(y=daily_pivot.loc[date][\"PP\"],color='b',linestyle='-')\n",
    "#plt.axhline(y=daily_pivot.loc[date][\"TC\"],color='b',linestyle='--')\n",
    "#plt.axhline(y=daily_pivot.loc[date][\"BC\"],color='b',linestyle='--')\n",
    "\n",
    "#plt.axhline(y=daily_pivot.loc[date][\"R1\"],color='b',linestyle='--')\n",
    "#plt.axhline(y=daily_pivot.loc[date][\"S1\"],color='b',linestyle='--')\n",
    "\n",
    "i=0\n",
    "j=0\n",
    "#plot weekly pivots\n",
    "for i in range(len(weekly_pivot)):\n",
    "    if weekly_pivot[\"week\"][i]==date1.isocalendar().week and weekly_pivot[\"year\"][i]==date1.year:\n",
    "        index_week=i\n",
    "if stock_daily.loc[date][\"Low\"]<weekly_pivot.iloc[index_week:][\"PP\"][0]<stock_daily.loc[date][\"High\"]:\n",
    "    weekly_pp=weekly_pivot.iloc[index_week:][\"PP\"][0]\n",
    "else:\n",
    "    weekly_pp=np.nan\n",
    "    \n",
    "if stock_daily.loc[date][\"Low\"]<weekly_pivot.iloc[index_week:][\"R1\"][0]<stock_daily.loc[date][\"High\"]:\n",
    "    weekly_r1=weekly_pivot.iloc[index_week:][\"R1\"][0]\n",
    "else:\n",
    "    weekly_r1=np.nan\n",
    "if stock_daily.loc[date][\"Low\"]<weekly_pivot.iloc[index_week:][\"S1\"][0]<stock_daily.loc[date][\"High\"]:\n",
    "    weekly_s1=weekly_pivot.iloc[index_week:][\"S1\"][0]\n",
    "else:\n",
    "    weekly_s1=np.nan\n",
    "\n",
    "    \n",
    "for j in range(len(monthly_pivot)):\n",
    "    if monthly_pivot[\"month\"][j]==date1.month and monthly_pivot[\"year\"][j]==date1.year:\n",
    "        index_month=j\n",
    "        \n",
    "#plot monthly pivots\n",
    "if stock_daily.loc[date][\"Low\"]<monthly_pivot.iloc[index_month:]['PP'][0]<stock_daily.loc[date][\"High\"]:\n",
    "    monthly_pp=monthly_pivot.iloc[index_month:]['PP'][0]\n",
    "else:\n",
    "    monthly_pp=np.nan\n",
    "if stock_daily.loc[date][\"Low\"]<monthly_pivot.iloc[index_month:]['R1'][0]<stock_daily.loc[date][\"High\"]:\n",
    "    monthly_r1=monthly_pivot.iloc[index_month:]['R1'][0]\n",
    "else:\n",
    "    monthly_r1=np.nan\n",
    "if stock_daily.loc[date][\"Low\"]<monthly_pivot.iloc[index_month:]['S1'][0]<stock_daily.loc[date][\"High\"]:\n",
    "    monthly_s1=monthly_pivot.iloc[index_month:]['S1'][0]\n",
    "else:\n",
    "    monthly_s1=np.nan\n",
    "\n",
    "    \n",
    "yes_high=daily_pivot.shift(1).loc[date][\"High\"]\n",
    "yes_low=daily_pivot.shift(1).loc[date][\"Low\"]\n",
    "\n",
    "mpf.plot(stock_intraday[date],type='candle',\n",
    "         hlines=dict(hlines=[daily_pp,daily_bc,daily_tc,daily_r1,daily_s1,weekly_pp,weekly_r1,weekly_s1,monthly_pp,monthly_r1,monthly_s1,yes_high,yes_low],\n",
    "                    colors=['b','b','b','b','b','r','r','r','g','g','g','k','k'],\n",
    "                    linestyle=['-','--','--','--','--','-','--','--','-','--','--','-','-']),\n",
    "         title=date,\n",
    "        savefig='testsave.png')"
   ]
  },
  {
   "cell_type": "code",
   "execution_count": 56,
   "id": "2b74759c",
   "metadata": {},
   "outputs": [
    {
     "name": "stderr",
     "output_type": "stream",
     "text": [
      "/var/folders/0d/2q3_g9bj7tn1m1t1w5crmtvh0000gn/T/ipykernel_60235/412655975.py:2: FutureWarning: Indexing a DataFrame with a datetimelike index using a single string to slice the rows, like `frame[string]`, is deprecated and will be removed in a future version. Use `frame.loc[string]` instead.\n",
      "  stock_daily=stock_daily[\"2022\"]\n"
     ]
    },
    {
     "data": {
      "text/html": [
       "<div>\n",
       "<style scoped>\n",
       "    .dataframe tbody tr th:only-of-type {\n",
       "        vertical-align: middle;\n",
       "    }\n",
       "\n",
       "    .dataframe tbody tr th {\n",
       "        vertical-align: top;\n",
       "    }\n",
       "\n",
       "    .dataframe thead th {\n",
       "        text-align: right;\n",
       "    }\n",
       "</style>\n",
       "<table border=\"1\" class=\"dataframe\">\n",
       "  <thead>\n",
       "    <tr style=\"text-align: right;\">\n",
       "      <th></th>\n",
       "      <th>Open</th>\n",
       "      <th>High</th>\n",
       "      <th>Low</th>\n",
       "      <th>Close</th>\n",
       "      <th>Adj Close</th>\n",
       "      <th>Volume</th>\n",
       "      <th>week</th>\n",
       "      <th>month</th>\n",
       "      <th>year</th>\n",
       "      <th>PP</th>\n",
       "      <th>BC</th>\n",
       "      <th>TC</th>\n",
       "      <th>R1</th>\n",
       "      <th>S1</th>\n",
       "      <th>R2</th>\n",
       "      <th>S2</th>\n",
       "      <th>R3</th>\n",
       "      <th>S3</th>\n",
       "    </tr>\n",
       "    <tr>\n",
       "      <th>Date</th>\n",
       "      <th></th>\n",
       "      <th></th>\n",
       "      <th></th>\n",
       "      <th></th>\n",
       "      <th></th>\n",
       "      <th></th>\n",
       "      <th></th>\n",
       "      <th></th>\n",
       "      <th></th>\n",
       "      <th></th>\n",
       "      <th></th>\n",
       "      <th></th>\n",
       "      <th></th>\n",
       "      <th></th>\n",
       "      <th></th>\n",
       "      <th></th>\n",
       "      <th></th>\n",
       "      <th></th>\n",
       "    </tr>\n",
       "  </thead>\n",
       "  <tbody>\n",
       "    <tr>\n",
       "      <th>2022-01-03</th>\n",
       "      <td>476.299988</td>\n",
       "      <td>477.850006</td>\n",
       "      <td>473.850006</td>\n",
       "      <td>477.709991</td>\n",
       "      <td>470.083679</td>\n",
       "      <td>72668200</td>\n",
       "      <td>1</td>\n",
       "      <td>1</td>\n",
       "      <td>2022</td>\n",
       "      <td>475.50</td>\n",
       "      <td>475.76</td>\n",
       "      <td>475.24</td>\n",
       "      <td>476.33</td>\n",
       "      <td>474.14</td>\n",
       "      <td>477.69</td>\n",
       "      <td>473.31</td>\n",
       "      <td>478.52</td>\n",
       "      <td>471.95</td>\n",
       "    </tr>\n",
       "    <tr>\n",
       "      <th>2022-01-04</th>\n",
       "      <td>479.220001</td>\n",
       "      <td>479.980011</td>\n",
       "      <td>475.579987</td>\n",
       "      <td>477.549988</td>\n",
       "      <td>469.926208</td>\n",
       "      <td>71178700</td>\n",
       "      <td>1</td>\n",
       "      <td>1</td>\n",
       "      <td>2022</td>\n",
       "      <td>476.47</td>\n",
       "      <td>475.85</td>\n",
       "      <td>477.09</td>\n",
       "      <td>479.09</td>\n",
       "      <td>475.09</td>\n",
       "      <td>480.47</td>\n",
       "      <td>472.47</td>\n",
       "      <td>483.09</td>\n",
       "      <td>471.09</td>\n",
       "    </tr>\n",
       "    <tr>\n",
       "      <th>2022-01-05</th>\n",
       "      <td>477.160004</td>\n",
       "      <td>477.980011</td>\n",
       "      <td>468.279999</td>\n",
       "      <td>468.380005</td>\n",
       "      <td>460.902618</td>\n",
       "      <td>104538900</td>\n",
       "      <td>1</td>\n",
       "      <td>1</td>\n",
       "      <td>2022</td>\n",
       "      <td>477.70</td>\n",
       "      <td>477.78</td>\n",
       "      <td>477.62</td>\n",
       "      <td>479.82</td>\n",
       "      <td>475.42</td>\n",
       "      <td>482.10</td>\n",
       "      <td>473.30</td>\n",
       "      <td>484.22</td>\n",
       "      <td>471.02</td>\n",
       "    </tr>\n",
       "    <tr>\n",
       "      <th>2022-01-06</th>\n",
       "      <td>467.890015</td>\n",
       "      <td>470.820007</td>\n",
       "      <td>465.429993</td>\n",
       "      <td>467.940002</td>\n",
       "      <td>460.469666</td>\n",
       "      <td>86858900</td>\n",
       "      <td>1</td>\n",
       "      <td>1</td>\n",
       "      <td>2022</td>\n",
       "      <td>471.55</td>\n",
       "      <td>473.13</td>\n",
       "      <td>469.97</td>\n",
       "      <td>474.82</td>\n",
       "      <td>465.12</td>\n",
       "      <td>481.25</td>\n",
       "      <td>461.85</td>\n",
       "      <td>484.52</td>\n",
       "      <td>455.42</td>\n",
       "    </tr>\n",
       "    <tr>\n",
       "      <th>2022-01-07</th>\n",
       "      <td>467.950012</td>\n",
       "      <td>469.200012</td>\n",
       "      <td>464.649994</td>\n",
       "      <td>466.089996</td>\n",
       "      <td>458.649200</td>\n",
       "      <td>85111600</td>\n",
       "      <td>1</td>\n",
       "      <td>1</td>\n",
       "      <td>2022</td>\n",
       "      <td>468.06</td>\n",
       "      <td>468.12</td>\n",
       "      <td>468.00</td>\n",
       "      <td>470.69</td>\n",
       "      <td>465.30</td>\n",
       "      <td>473.45</td>\n",
       "      <td>462.67</td>\n",
       "      <td>476.08</td>\n",
       "      <td>459.91</td>\n",
       "    </tr>\n",
       "    <tr>\n",
       "      <th>...</th>\n",
       "      <td>...</td>\n",
       "      <td>...</td>\n",
       "      <td>...</td>\n",
       "      <td>...</td>\n",
       "      <td>...</td>\n",
       "      <td>...</td>\n",
       "      <td>...</td>\n",
       "      <td>...</td>\n",
       "      <td>...</td>\n",
       "      <td>...</td>\n",
       "      <td>...</td>\n",
       "      <td>...</td>\n",
       "      <td>...</td>\n",
       "      <td>...</td>\n",
       "      <td>...</td>\n",
       "      <td>...</td>\n",
       "      <td>...</td>\n",
       "      <td>...</td>\n",
       "    </tr>\n",
       "    <tr>\n",
       "      <th>2022-12-16</th>\n",
       "      <td>385.179993</td>\n",
       "      <td>386.579987</td>\n",
       "      <td>381.040009</td>\n",
       "      <td>383.269989</td>\n",
       "      <td>383.269989</td>\n",
       "      <td>119764500</td>\n",
       "      <td>50</td>\n",
       "      <td>12</td>\n",
       "      <td>2022</td>\n",
       "      <td>390.92</td>\n",
       "      <td>391.57</td>\n",
       "      <td>390.27</td>\n",
       "      <td>393.95</td>\n",
       "      <td>386.59</td>\n",
       "      <td>398.28</td>\n",
       "      <td>383.56</td>\n",
       "      <td>401.31</td>\n",
       "      <td>379.23</td>\n",
       "    </tr>\n",
       "    <tr>\n",
       "      <th>2022-12-19</th>\n",
       "      <td>383.470001</td>\n",
       "      <td>383.820007</td>\n",
       "      <td>378.279999</td>\n",
       "      <td>380.019989</td>\n",
       "      <td>380.019989</td>\n",
       "      <td>79878100</td>\n",
       "      <td>51</td>\n",
       "      <td>12</td>\n",
       "      <td>2022</td>\n",
       "      <td>383.63</td>\n",
       "      <td>383.81</td>\n",
       "      <td>383.45</td>\n",
       "      <td>386.22</td>\n",
       "      <td>380.68</td>\n",
       "      <td>389.17</td>\n",
       "      <td>378.09</td>\n",
       "      <td>391.76</td>\n",
       "      <td>375.14</td>\n",
       "    </tr>\n",
       "    <tr>\n",
       "      <th>2022-12-20</th>\n",
       "      <td>379.230011</td>\n",
       "      <td>382.230011</td>\n",
       "      <td>377.850006</td>\n",
       "      <td>380.540009</td>\n",
       "      <td>380.540009</td>\n",
       "      <td>74427200</td>\n",
       "      <td>51</td>\n",
       "      <td>12</td>\n",
       "      <td>2022</td>\n",
       "      <td>380.71</td>\n",
       "      <td>381.05</td>\n",
       "      <td>380.37</td>\n",
       "      <td>383.14</td>\n",
       "      <td>377.60</td>\n",
       "      <td>386.25</td>\n",
       "      <td>375.17</td>\n",
       "      <td>388.68</td>\n",
       "      <td>372.06</td>\n",
       "    </tr>\n",
       "    <tr>\n",
       "      <th>2022-12-21</th>\n",
       "      <td>383.250000</td>\n",
       "      <td>387.410004</td>\n",
       "      <td>382.690002</td>\n",
       "      <td>386.230011</td>\n",
       "      <td>386.230011</td>\n",
       "      <td>78167400</td>\n",
       "      <td>51</td>\n",
       "      <td>12</td>\n",
       "      <td>2022</td>\n",
       "      <td>380.21</td>\n",
       "      <td>380.04</td>\n",
       "      <td>380.38</td>\n",
       "      <td>382.57</td>\n",
       "      <td>378.19</td>\n",
       "      <td>384.59</td>\n",
       "      <td>375.83</td>\n",
       "      <td>386.95</td>\n",
       "      <td>373.81</td>\n",
       "    </tr>\n",
       "    <tr>\n",
       "      <th>2022-12-22</th>\n",
       "      <td>383.049988</td>\n",
       "      <td>386.209991</td>\n",
       "      <td>374.769989</td>\n",
       "      <td>380.720001</td>\n",
       "      <td>380.720001</td>\n",
       "      <td>99922600</td>\n",
       "      <td>51</td>\n",
       "      <td>12</td>\n",
       "      <td>2022</td>\n",
       "      <td>385.44</td>\n",
       "      <td>385.05</td>\n",
       "      <td>385.83</td>\n",
       "      <td>388.19</td>\n",
       "      <td>383.47</td>\n",
       "      <td>390.16</td>\n",
       "      <td>380.72</td>\n",
       "      <td>392.91</td>\n",
       "      <td>378.75</td>\n",
       "    </tr>\n",
       "  </tbody>\n",
       "</table>\n",
       "<p>246 rows × 18 columns</p>\n",
       "</div>"
      ],
      "text/plain": [
       "                  Open        High         Low       Close   Adj Close  \\\n",
       "Date                                                                     \n",
       "2022-01-03  476.299988  477.850006  473.850006  477.709991  470.083679   \n",
       "2022-01-04  479.220001  479.980011  475.579987  477.549988  469.926208   \n",
       "2022-01-05  477.160004  477.980011  468.279999  468.380005  460.902618   \n",
       "2022-01-06  467.890015  470.820007  465.429993  467.940002  460.469666   \n",
       "2022-01-07  467.950012  469.200012  464.649994  466.089996  458.649200   \n",
       "...                ...         ...         ...         ...         ...   \n",
       "2022-12-16  385.179993  386.579987  381.040009  383.269989  383.269989   \n",
       "2022-12-19  383.470001  383.820007  378.279999  380.019989  380.019989   \n",
       "2022-12-20  379.230011  382.230011  377.850006  380.540009  380.540009   \n",
       "2022-12-21  383.250000  387.410004  382.690002  386.230011  386.230011   \n",
       "2022-12-22  383.049988  386.209991  374.769989  380.720001  380.720001   \n",
       "\n",
       "               Volume  week  month  year      PP      BC      TC      R1  \\\n",
       "Date                                                                       \n",
       "2022-01-03   72668200     1      1  2022  475.50  475.76  475.24  476.33   \n",
       "2022-01-04   71178700     1      1  2022  476.47  475.85  477.09  479.09   \n",
       "2022-01-05  104538900     1      1  2022  477.70  477.78  477.62  479.82   \n",
       "2022-01-06   86858900     1      1  2022  471.55  473.13  469.97  474.82   \n",
       "2022-01-07   85111600     1      1  2022  468.06  468.12  468.00  470.69   \n",
       "...               ...   ...    ...   ...     ...     ...     ...     ...   \n",
       "2022-12-16  119764500    50     12  2022  390.92  391.57  390.27  393.95   \n",
       "2022-12-19   79878100    51     12  2022  383.63  383.81  383.45  386.22   \n",
       "2022-12-20   74427200    51     12  2022  380.71  381.05  380.37  383.14   \n",
       "2022-12-21   78167400    51     12  2022  380.21  380.04  380.38  382.57   \n",
       "2022-12-22   99922600    51     12  2022  385.44  385.05  385.83  388.19   \n",
       "\n",
       "                S1      R2      S2      R3      S3  \n",
       "Date                                                \n",
       "2022-01-03  474.14  477.69  473.31  478.52  471.95  \n",
       "2022-01-04  475.09  480.47  472.47  483.09  471.09  \n",
       "2022-01-05  475.42  482.10  473.30  484.22  471.02  \n",
       "2022-01-06  465.12  481.25  461.85  484.52  455.42  \n",
       "2022-01-07  465.30  473.45  462.67  476.08  459.91  \n",
       "...            ...     ...     ...     ...     ...  \n",
       "2022-12-16  386.59  398.28  383.56  401.31  379.23  \n",
       "2022-12-19  380.68  389.17  378.09  391.76  375.14  \n",
       "2022-12-20  377.60  386.25  375.17  388.68  372.06  \n",
       "2022-12-21  378.19  384.59  375.83  386.95  373.81  \n",
       "2022-12-22  383.47  390.16  380.72  392.91  378.75  \n",
       "\n",
       "[246 rows x 18 columns]"
      ]
     },
     "execution_count": 56,
     "metadata": {},
     "output_type": "execute_result"
    }
   ],
   "source": [
    "#subset the stock\n",
    "stock_daily=stock_daily[\"2022\"]\n",
    "stock_daily"
   ]
  },
  {
   "cell_type": "code",
   "execution_count": 57,
   "id": "35622b0f",
   "metadata": {},
   "outputs": [],
   "source": [
    "# for i in range(len(stock_daily)):\n",
    "#     date=stock_daily.index[i]\n",
    "#     break"
   ]
  },
  {
   "cell_type": "code",
   "execution_count": 58,
   "id": "40e40f29",
   "metadata": {},
   "outputs": [],
   "source": [
    "# #now.strftime(\"%m/%d/%Y, %H:%M:%S\")\n",
    "# date=date.strftime(\"%Y-%m-%d\")\n",
    "# date"
   ]
  },
  {
   "cell_type": "code",
   "execution_count": 59,
   "id": "ac4c3269",
   "metadata": {},
   "outputs": [],
   "source": [
    "#stock_intraday[date][\"Adj Close\"].plot()"
   ]
  },
  {
   "cell_type": "code",
   "execution_count": 61,
   "id": "2a41f12e",
   "metadata": {},
   "outputs": [
    {
     "name": "stdout",
     "output_type": "stream",
     "text": [
      "2022-01-03\n",
      "2022-01-04\n",
      "2022-01-05\n"
     ]
    },
    {
     "name": "stderr",
     "output_type": "stream",
     "text": [
      "/var/folders/0d/2q3_g9bj7tn1m1t1w5crmtvh0000gn/T/ipykernel_60235/2961503273.py:65: FutureWarning: Indexing a DataFrame with a datetimelike index using a single string to slice the rows, like `frame[string]`, is deprecated and will be removed in a future version. Use `frame.loc[string]` instead.\n",
      "  mpf.plot(stock_intraday[date],type='candle',\n",
      "/var/folders/0d/2q3_g9bj7tn1m1t1w5crmtvh0000gn/T/ipykernel_60235/2961503273.py:65: FutureWarning: Indexing a DataFrame with a datetimelike index using a single string to slice the rows, like `frame[string]`, is deprecated and will be removed in a future version. Use `frame.loc[string]` instead.\n",
      "  mpf.plot(stock_intraday[date],type='candle',\n",
      "/var/folders/0d/2q3_g9bj7tn1m1t1w5crmtvh0000gn/T/ipykernel_60235/2961503273.py:65: FutureWarning: Indexing a DataFrame with a datetimelike index using a single string to slice the rows, like `frame[string]`, is deprecated and will be removed in a future version. Use `frame.loc[string]` instead.\n",
      "  mpf.plot(stock_intraday[date],type='candle',\n"
     ]
    },
    {
     "name": "stdout",
     "output_type": "stream",
     "text": [
      "2022-01-06\n",
      "2022-01-07\n",
      "2022-01-10\n",
      "2022-01-11\n"
     ]
    },
    {
     "name": "stderr",
     "output_type": "stream",
     "text": [
      "/var/folders/0d/2q3_g9bj7tn1m1t1w5crmtvh0000gn/T/ipykernel_60235/2961503273.py:65: FutureWarning: Indexing a DataFrame with a datetimelike index using a single string to slice the rows, like `frame[string]`, is deprecated and will be removed in a future version. Use `frame.loc[string]` instead.\n",
      "  mpf.plot(stock_intraday[date],type='candle',\n",
      "/var/folders/0d/2q3_g9bj7tn1m1t1w5crmtvh0000gn/T/ipykernel_60235/2961503273.py:65: FutureWarning: Indexing a DataFrame with a datetimelike index using a single string to slice the rows, like `frame[string]`, is deprecated and will be removed in a future version. Use `frame.loc[string]` instead.\n",
      "  mpf.plot(stock_intraday[date],type='candle',\n",
      "/var/folders/0d/2q3_g9bj7tn1m1t1w5crmtvh0000gn/T/ipykernel_60235/2961503273.py:65: FutureWarning: Indexing a DataFrame with a datetimelike index using a single string to slice the rows, like `frame[string]`, is deprecated and will be removed in a future version. Use `frame.loc[string]` instead.\n",
      "  mpf.plot(stock_intraday[date],type='candle',\n",
      "/var/folders/0d/2q3_g9bj7tn1m1t1w5crmtvh0000gn/T/ipykernel_60235/2961503273.py:65: FutureWarning: Indexing a DataFrame with a datetimelike index using a single string to slice the rows, like `frame[string]`, is deprecated and will be removed in a future version. Use `frame.loc[string]` instead.\n",
      "  mpf.plot(stock_intraday[date],type='candle',\n"
     ]
    },
    {
     "name": "stdout",
     "output_type": "stream",
     "text": [
      "2022-01-12\n",
      "2022-01-13\n",
      "2022-01-14\n"
     ]
    },
    {
     "name": "stderr",
     "output_type": "stream",
     "text": [
      "/var/folders/0d/2q3_g9bj7tn1m1t1w5crmtvh0000gn/T/ipykernel_60235/2961503273.py:65: FutureWarning: Indexing a DataFrame with a datetimelike index using a single string to slice the rows, like `frame[string]`, is deprecated and will be removed in a future version. Use `frame.loc[string]` instead.\n",
      "  mpf.plot(stock_intraday[date],type='candle',\n",
      "/var/folders/0d/2q3_g9bj7tn1m1t1w5crmtvh0000gn/T/ipykernel_60235/2961503273.py:65: FutureWarning: Indexing a DataFrame with a datetimelike index using a single string to slice the rows, like `frame[string]`, is deprecated and will be removed in a future version. Use `frame.loc[string]` instead.\n",
      "  mpf.plot(stock_intraday[date],type='candle',\n",
      "/var/folders/0d/2q3_g9bj7tn1m1t1w5crmtvh0000gn/T/ipykernel_60235/2961503273.py:65: FutureWarning: Indexing a DataFrame with a datetimelike index using a single string to slice the rows, like `frame[string]`, is deprecated and will be removed in a future version. Use `frame.loc[string]` instead.\n",
      "  mpf.plot(stock_intraday[date],type='candle',\n"
     ]
    },
    {
     "name": "stdout",
     "output_type": "stream",
     "text": [
      "2022-01-18\n",
      "2022-01-19\n",
      "2022-01-20\n"
     ]
    },
    {
     "name": "stderr",
     "output_type": "stream",
     "text": [
      "/var/folders/0d/2q3_g9bj7tn1m1t1w5crmtvh0000gn/T/ipykernel_60235/2961503273.py:65: FutureWarning: Indexing a DataFrame with a datetimelike index using a single string to slice the rows, like `frame[string]`, is deprecated and will be removed in a future version. Use `frame.loc[string]` instead.\n",
      "  mpf.plot(stock_intraday[date],type='candle',\n",
      "/var/folders/0d/2q3_g9bj7tn1m1t1w5crmtvh0000gn/T/ipykernel_60235/2961503273.py:65: FutureWarning: Indexing a DataFrame with a datetimelike index using a single string to slice the rows, like `frame[string]`, is deprecated and will be removed in a future version. Use `frame.loc[string]` instead.\n",
      "  mpf.plot(stock_intraday[date],type='candle',\n",
      "/var/folders/0d/2q3_g9bj7tn1m1t1w5crmtvh0000gn/T/ipykernel_60235/2961503273.py:65: FutureWarning: Indexing a DataFrame with a datetimelike index using a single string to slice the rows, like `frame[string]`, is deprecated and will be removed in a future version. Use `frame.loc[string]` instead.\n",
      "  mpf.plot(stock_intraday[date],type='candle',\n"
     ]
    },
    {
     "name": "stdout",
     "output_type": "stream",
     "text": [
      "2022-01-21\n",
      "2022-01-24\n",
      "2022-01-25\n"
     ]
    },
    {
     "name": "stderr",
     "output_type": "stream",
     "text": [
      "/var/folders/0d/2q3_g9bj7tn1m1t1w5crmtvh0000gn/T/ipykernel_60235/2961503273.py:65: FutureWarning: Indexing a DataFrame with a datetimelike index using a single string to slice the rows, like `frame[string]`, is deprecated and will be removed in a future version. Use `frame.loc[string]` instead.\n",
      "  mpf.plot(stock_intraday[date],type='candle',\n",
      "/var/folders/0d/2q3_g9bj7tn1m1t1w5crmtvh0000gn/T/ipykernel_60235/2961503273.py:65: FutureWarning: Indexing a DataFrame with a datetimelike index using a single string to slice the rows, like `frame[string]`, is deprecated and will be removed in a future version. Use `frame.loc[string]` instead.\n",
      "  mpf.plot(stock_intraday[date],type='candle',\n",
      "/var/folders/0d/2q3_g9bj7tn1m1t1w5crmtvh0000gn/T/ipykernel_60235/2961503273.py:65: FutureWarning: Indexing a DataFrame with a datetimelike index using a single string to slice the rows, like `frame[string]`, is deprecated and will be removed in a future version. Use `frame.loc[string]` instead.\n",
      "  mpf.plot(stock_intraday[date],type='candle',\n"
     ]
    },
    {
     "name": "stdout",
     "output_type": "stream",
     "text": [
      "2022-01-26\n",
      "2022-01-27\n",
      "2022-01-28\n"
     ]
    },
    {
     "name": "stderr",
     "output_type": "stream",
     "text": [
      "/var/folders/0d/2q3_g9bj7tn1m1t1w5crmtvh0000gn/T/ipykernel_60235/2961503273.py:65: FutureWarning: Indexing a DataFrame with a datetimelike index using a single string to slice the rows, like `frame[string]`, is deprecated and will be removed in a future version. Use `frame.loc[string]` instead.\n",
      "  mpf.plot(stock_intraday[date],type='candle',\n",
      "/var/folders/0d/2q3_g9bj7tn1m1t1w5crmtvh0000gn/T/ipykernel_60235/2961503273.py:65: FutureWarning: Indexing a DataFrame with a datetimelike index using a single string to slice the rows, like `frame[string]`, is deprecated and will be removed in a future version. Use `frame.loc[string]` instead.\n",
      "  mpf.plot(stock_intraday[date],type='candle',\n",
      "/var/folders/0d/2q3_g9bj7tn1m1t1w5crmtvh0000gn/T/ipykernel_60235/2961503273.py:65: FutureWarning: Indexing a DataFrame with a datetimelike index using a single string to slice the rows, like `frame[string]`, is deprecated and will be removed in a future version. Use `frame.loc[string]` instead.\n",
      "  mpf.plot(stock_intraday[date],type='candle',\n"
     ]
    },
    {
     "name": "stdout",
     "output_type": "stream",
     "text": [
      "2022-01-31\n",
      "2022-02-01\n",
      "2022-02-02\n"
     ]
    },
    {
     "name": "stderr",
     "output_type": "stream",
     "text": [
      "/var/folders/0d/2q3_g9bj7tn1m1t1w5crmtvh0000gn/T/ipykernel_60235/2961503273.py:65: FutureWarning: Indexing a DataFrame with a datetimelike index using a single string to slice the rows, like `frame[string]`, is deprecated and will be removed in a future version. Use `frame.loc[string]` instead.\n",
      "  mpf.plot(stock_intraday[date],type='candle',\n",
      "/var/folders/0d/2q3_g9bj7tn1m1t1w5crmtvh0000gn/T/ipykernel_60235/2961503273.py:65: FutureWarning: Indexing a DataFrame with a datetimelike index using a single string to slice the rows, like `frame[string]`, is deprecated and will be removed in a future version. Use `frame.loc[string]` instead.\n",
      "  mpf.plot(stock_intraday[date],type='candle',\n",
      "/var/folders/0d/2q3_g9bj7tn1m1t1w5crmtvh0000gn/T/ipykernel_60235/2961503273.py:65: FutureWarning: Indexing a DataFrame with a datetimelike index using a single string to slice the rows, like `frame[string]`, is deprecated and will be removed in a future version. Use `frame.loc[string]` instead.\n",
      "  mpf.plot(stock_intraday[date],type='candle',\n",
      "/var/folders/0d/2q3_g9bj7tn1m1t1w5crmtvh0000gn/T/ipykernel_60235/2961503273.py:65: FutureWarning: Indexing a DataFrame with a datetimelike index using a single string to slice the rows, like `frame[string]`, is deprecated and will be removed in a future version. Use `frame.loc[string]` instead.\n",
      "  mpf.plot(stock_intraday[date],type='candle',\n"
     ]
    },
    {
     "name": "stdout",
     "output_type": "stream",
     "text": [
      "2022-02-03\n",
      "2022-02-04\n",
      "2022-02-07\n"
     ]
    },
    {
     "name": "stderr",
     "output_type": "stream",
     "text": [
      "/var/folders/0d/2q3_g9bj7tn1m1t1w5crmtvh0000gn/T/ipykernel_60235/2961503273.py:65: FutureWarning: Indexing a DataFrame with a datetimelike index using a single string to slice the rows, like `frame[string]`, is deprecated and will be removed in a future version. Use `frame.loc[string]` instead.\n",
      "  mpf.plot(stock_intraday[date],type='candle',\n",
      "/var/folders/0d/2q3_g9bj7tn1m1t1w5crmtvh0000gn/T/ipykernel_60235/2961503273.py:65: FutureWarning: Indexing a DataFrame with a datetimelike index using a single string to slice the rows, like `frame[string]`, is deprecated and will be removed in a future version. Use `frame.loc[string]` instead.\n",
      "  mpf.plot(stock_intraday[date],type='candle',\n",
      "/var/folders/0d/2q3_g9bj7tn1m1t1w5crmtvh0000gn/T/ipykernel_60235/2961503273.py:65: FutureWarning: Indexing a DataFrame with a datetimelike index using a single string to slice the rows, like `frame[string]`, is deprecated and will be removed in a future version. Use `frame.loc[string]` instead.\n",
      "  mpf.plot(stock_intraday[date],type='candle',\n",
      "/var/folders/0d/2q3_g9bj7tn1m1t1w5crmtvh0000gn/T/ipykernel_60235/2961503273.py:65: FutureWarning: Indexing a DataFrame with a datetimelike index using a single string to slice the rows, like `frame[string]`, is deprecated and will be removed in a future version. Use `frame.loc[string]` instead.\n",
      "  mpf.plot(stock_intraday[date],type='candle',\n"
     ]
    },
    {
     "name": "stdout",
     "output_type": "stream",
     "text": [
      "2022-02-08\n",
      "2022-02-09\n",
      "2022-02-10\n"
     ]
    },
    {
     "name": "stderr",
     "output_type": "stream",
     "text": [
      "/var/folders/0d/2q3_g9bj7tn1m1t1w5crmtvh0000gn/T/ipykernel_60235/2961503273.py:65: FutureWarning: Indexing a DataFrame with a datetimelike index using a single string to slice the rows, like `frame[string]`, is deprecated and will be removed in a future version. Use `frame.loc[string]` instead.\n",
      "  mpf.plot(stock_intraday[date],type='candle',\n",
      "/var/folders/0d/2q3_g9bj7tn1m1t1w5crmtvh0000gn/T/ipykernel_60235/2961503273.py:65: FutureWarning: Indexing a DataFrame with a datetimelike index using a single string to slice the rows, like `frame[string]`, is deprecated and will be removed in a future version. Use `frame.loc[string]` instead.\n",
      "  mpf.plot(stock_intraday[date],type='candle',\n",
      "/var/folders/0d/2q3_g9bj7tn1m1t1w5crmtvh0000gn/T/ipykernel_60235/2961503273.py:65: FutureWarning: Indexing a DataFrame with a datetimelike index using a single string to slice the rows, like `frame[string]`, is deprecated and will be removed in a future version. Use `frame.loc[string]` instead.\n",
      "  mpf.plot(stock_intraday[date],type='candle',\n"
     ]
    },
    {
     "name": "stdout",
     "output_type": "stream",
     "text": [
      "2022-02-11\n",
      "2022-02-14\n",
      "2022-02-15\n",
      "2022-02-16\n"
     ]
    },
    {
     "name": "stderr",
     "output_type": "stream",
     "text": [
      "/var/folders/0d/2q3_g9bj7tn1m1t1w5crmtvh0000gn/T/ipykernel_60235/2961503273.py:65: FutureWarning: Indexing a DataFrame with a datetimelike index using a single string to slice the rows, like `frame[string]`, is deprecated and will be removed in a future version. Use `frame.loc[string]` instead.\n",
      "  mpf.plot(stock_intraday[date],type='candle',\n",
      "/var/folders/0d/2q3_g9bj7tn1m1t1w5crmtvh0000gn/T/ipykernel_60235/2961503273.py:65: FutureWarning: Indexing a DataFrame with a datetimelike index using a single string to slice the rows, like `frame[string]`, is deprecated and will be removed in a future version. Use `frame.loc[string]` instead.\n",
      "  mpf.plot(stock_intraday[date],type='candle',\n",
      "/var/folders/0d/2q3_g9bj7tn1m1t1w5crmtvh0000gn/T/ipykernel_60235/2961503273.py:65: FutureWarning: Indexing a DataFrame with a datetimelike index using a single string to slice the rows, like `frame[string]`, is deprecated and will be removed in a future version. Use `frame.loc[string]` instead.\n",
      "  mpf.plot(stock_intraday[date],type='candle',\n"
     ]
    },
    {
     "name": "stdout",
     "output_type": "stream",
     "text": [
      "2022-02-17\n",
      "2022-02-18\n",
      "2022-02-22\n"
     ]
    },
    {
     "name": "stderr",
     "output_type": "stream",
     "text": [
      "/var/folders/0d/2q3_g9bj7tn1m1t1w5crmtvh0000gn/T/ipykernel_60235/2961503273.py:65: FutureWarning: Indexing a DataFrame with a datetimelike index using a single string to slice the rows, like `frame[string]`, is deprecated and will be removed in a future version. Use `frame.loc[string]` instead.\n",
      "  mpf.plot(stock_intraday[date],type='candle',\n",
      "/var/folders/0d/2q3_g9bj7tn1m1t1w5crmtvh0000gn/T/ipykernel_60235/2961503273.py:65: FutureWarning: Indexing a DataFrame with a datetimelike index using a single string to slice the rows, like `frame[string]`, is deprecated and will be removed in a future version. Use `frame.loc[string]` instead.\n",
      "  mpf.plot(stock_intraday[date],type='candle',\n",
      "/var/folders/0d/2q3_g9bj7tn1m1t1w5crmtvh0000gn/T/ipykernel_60235/2961503273.py:65: FutureWarning: Indexing a DataFrame with a datetimelike index using a single string to slice the rows, like `frame[string]`, is deprecated and will be removed in a future version. Use `frame.loc[string]` instead.\n",
      "  mpf.plot(stock_intraday[date],type='candle',\n"
     ]
    },
    {
     "name": "stdout",
     "output_type": "stream",
     "text": [
      "2022-02-23\n",
      "2022-02-24\n",
      "2022-02-25\n"
     ]
    },
    {
     "name": "stderr",
     "output_type": "stream",
     "text": [
      "/var/folders/0d/2q3_g9bj7tn1m1t1w5crmtvh0000gn/T/ipykernel_60235/2961503273.py:65: FutureWarning: Indexing a DataFrame with a datetimelike index using a single string to slice the rows, like `frame[string]`, is deprecated and will be removed in a future version. Use `frame.loc[string]` instead.\n",
      "  mpf.plot(stock_intraday[date],type='candle',\n",
      "/var/folders/0d/2q3_g9bj7tn1m1t1w5crmtvh0000gn/T/ipykernel_60235/2961503273.py:65: FutureWarning: Indexing a DataFrame with a datetimelike index using a single string to slice the rows, like `frame[string]`, is deprecated and will be removed in a future version. Use `frame.loc[string]` instead.\n",
      "  mpf.plot(stock_intraday[date],type='candle',\n",
      "/var/folders/0d/2q3_g9bj7tn1m1t1w5crmtvh0000gn/T/ipykernel_60235/2961503273.py:65: FutureWarning: Indexing a DataFrame with a datetimelike index using a single string to slice the rows, like `frame[string]`, is deprecated and will be removed in a future version. Use `frame.loc[string]` instead.\n",
      "  mpf.plot(stock_intraday[date],type='candle',\n"
     ]
    },
    {
     "name": "stdout",
     "output_type": "stream",
     "text": [
      "2022-02-28\n",
      "2022-03-01\n",
      "2022-03-02\n"
     ]
    },
    {
     "name": "stderr",
     "output_type": "stream",
     "text": [
      "/var/folders/0d/2q3_g9bj7tn1m1t1w5crmtvh0000gn/T/ipykernel_60235/2961503273.py:65: FutureWarning: Indexing a DataFrame with a datetimelike index using a single string to slice the rows, like `frame[string]`, is deprecated and will be removed in a future version. Use `frame.loc[string]` instead.\n",
      "  mpf.plot(stock_intraday[date],type='candle',\n",
      "/var/folders/0d/2q3_g9bj7tn1m1t1w5crmtvh0000gn/T/ipykernel_60235/2961503273.py:65: FutureWarning: Indexing a DataFrame with a datetimelike index using a single string to slice the rows, like `frame[string]`, is deprecated and will be removed in a future version. Use `frame.loc[string]` instead.\n",
      "  mpf.plot(stock_intraday[date],type='candle',\n",
      "/var/folders/0d/2q3_g9bj7tn1m1t1w5crmtvh0000gn/T/ipykernel_60235/2961503273.py:65: FutureWarning: Indexing a DataFrame with a datetimelike index using a single string to slice the rows, like `frame[string]`, is deprecated and will be removed in a future version. Use `frame.loc[string]` instead.\n",
      "  mpf.plot(stock_intraday[date],type='candle',\n"
     ]
    },
    {
     "name": "stdout",
     "output_type": "stream",
     "text": [
      "2022-03-03\n",
      "2022-03-04\n",
      "2022-03-07\n"
     ]
    },
    {
     "name": "stderr",
     "output_type": "stream",
     "text": [
      "/var/folders/0d/2q3_g9bj7tn1m1t1w5crmtvh0000gn/T/ipykernel_60235/2961503273.py:65: FutureWarning: Indexing a DataFrame with a datetimelike index using a single string to slice the rows, like `frame[string]`, is deprecated and will be removed in a future version. Use `frame.loc[string]` instead.\n",
      "  mpf.plot(stock_intraday[date],type='candle',\n",
      "/var/folders/0d/2q3_g9bj7tn1m1t1w5crmtvh0000gn/T/ipykernel_60235/2961503273.py:65: FutureWarning: Indexing a DataFrame with a datetimelike index using a single string to slice the rows, like `frame[string]`, is deprecated and will be removed in a future version. Use `frame.loc[string]` instead.\n",
      "  mpf.plot(stock_intraday[date],type='candle',\n",
      "/var/folders/0d/2q3_g9bj7tn1m1t1w5crmtvh0000gn/T/ipykernel_60235/2961503273.py:65: FutureWarning: Indexing a DataFrame with a datetimelike index using a single string to slice the rows, like `frame[string]`, is deprecated and will be removed in a future version. Use `frame.loc[string]` instead.\n",
      "  mpf.plot(stock_intraday[date],type='candle',\n"
     ]
    },
    {
     "name": "stdout",
     "output_type": "stream",
     "text": [
      "2022-03-08\n",
      "2022-03-09\n",
      "2022-03-10\n"
     ]
    },
    {
     "name": "stderr",
     "output_type": "stream",
     "text": [
      "/var/folders/0d/2q3_g9bj7tn1m1t1w5crmtvh0000gn/T/ipykernel_60235/2961503273.py:65: FutureWarning: Indexing a DataFrame with a datetimelike index using a single string to slice the rows, like `frame[string]`, is deprecated and will be removed in a future version. Use `frame.loc[string]` instead.\n",
      "  mpf.plot(stock_intraday[date],type='candle',\n",
      "/var/folders/0d/2q3_g9bj7tn1m1t1w5crmtvh0000gn/T/ipykernel_60235/2961503273.py:65: FutureWarning: Indexing a DataFrame with a datetimelike index using a single string to slice the rows, like `frame[string]`, is deprecated and will be removed in a future version. Use `frame.loc[string]` instead.\n",
      "  mpf.plot(stock_intraday[date],type='candle',\n",
      "/var/folders/0d/2q3_g9bj7tn1m1t1w5crmtvh0000gn/T/ipykernel_60235/2961503273.py:65: FutureWarning: Indexing a DataFrame with a datetimelike index using a single string to slice the rows, like `frame[string]`, is deprecated and will be removed in a future version. Use `frame.loc[string]` instead.\n",
      "  mpf.plot(stock_intraday[date],type='candle',\n"
     ]
    },
    {
     "name": "stdout",
     "output_type": "stream",
     "text": [
      "2022-03-11\n",
      "2022-03-14\n"
     ]
    },
    {
     "name": "stderr",
     "output_type": "stream",
     "text": [
      "/var/folders/0d/2q3_g9bj7tn1m1t1w5crmtvh0000gn/T/ipykernel_60235/2961503273.py:65: FutureWarning: Indexing a DataFrame with a datetimelike index using a single string to slice the rows, like `frame[string]`, is deprecated and will be removed in a future version. Use `frame.loc[string]` instead.\n",
      "  mpf.plot(stock_intraday[date],type='candle',\n",
      "/var/folders/0d/2q3_g9bj7tn1m1t1w5crmtvh0000gn/T/ipykernel_60235/2961503273.py:65: FutureWarning: Indexing a DataFrame with a datetimelike index using a single string to slice the rows, like `frame[string]`, is deprecated and will be removed in a future version. Use `frame.loc[string]` instead.\n",
      "  mpf.plot(stock_intraday[date],type='candle',\n",
      "/var/folders/0d/2q3_g9bj7tn1m1t1w5crmtvh0000gn/T/ipykernel_60235/2961503273.py:65: FutureWarning: Indexing a DataFrame with a datetimelike index using a single string to slice the rows, like `frame[string]`, is deprecated and will be removed in a future version. Use `frame.loc[string]` instead.\n",
      "  mpf.plot(stock_intraday[date],type='candle',\n"
     ]
    },
    {
     "name": "stdout",
     "output_type": "stream",
     "text": [
      "2022-03-15\n",
      "2022-03-16\n",
      "2022-03-17\n",
      "2022-03-18\n"
     ]
    },
    {
     "name": "stderr",
     "output_type": "stream",
     "text": [
      "/var/folders/0d/2q3_g9bj7tn1m1t1w5crmtvh0000gn/T/ipykernel_60235/2961503273.py:65: FutureWarning: Indexing a DataFrame with a datetimelike index using a single string to slice the rows, like `frame[string]`, is deprecated and will be removed in a future version. Use `frame.loc[string]` instead.\n",
      "  mpf.plot(stock_intraday[date],type='candle',\n",
      "/var/folders/0d/2q3_g9bj7tn1m1t1w5crmtvh0000gn/T/ipykernel_60235/2961503273.py:65: FutureWarning: Indexing a DataFrame with a datetimelike index using a single string to slice the rows, like `frame[string]`, is deprecated and will be removed in a future version. Use `frame.loc[string]` instead.\n",
      "  mpf.plot(stock_intraday[date],type='candle',\n",
      "/var/folders/0d/2q3_g9bj7tn1m1t1w5crmtvh0000gn/T/ipykernel_60235/2961503273.py:65: FutureWarning: Indexing a DataFrame with a datetimelike index using a single string to slice the rows, like `frame[string]`, is deprecated and will be removed in a future version. Use `frame.loc[string]` instead.\n",
      "  mpf.plot(stock_intraday[date],type='candle',\n"
     ]
    },
    {
     "name": "stdout",
     "output_type": "stream",
     "text": [
      "2022-03-21\n",
      "2022-03-22\n",
      "2022-03-23\n"
     ]
    },
    {
     "name": "stderr",
     "output_type": "stream",
     "text": [
      "/var/folders/0d/2q3_g9bj7tn1m1t1w5crmtvh0000gn/T/ipykernel_60235/2961503273.py:65: FutureWarning: Indexing a DataFrame with a datetimelike index using a single string to slice the rows, like `frame[string]`, is deprecated and will be removed in a future version. Use `frame.loc[string]` instead.\n",
      "  mpf.plot(stock_intraday[date],type='candle',\n",
      "/var/folders/0d/2q3_g9bj7tn1m1t1w5crmtvh0000gn/T/ipykernel_60235/2961503273.py:65: FutureWarning: Indexing a DataFrame with a datetimelike index using a single string to slice the rows, like `frame[string]`, is deprecated and will be removed in a future version. Use `frame.loc[string]` instead.\n",
      "  mpf.plot(stock_intraday[date],type='candle',\n",
      "/var/folders/0d/2q3_g9bj7tn1m1t1w5crmtvh0000gn/T/ipykernel_60235/2961503273.py:65: FutureWarning: Indexing a DataFrame with a datetimelike index using a single string to slice the rows, like `frame[string]`, is deprecated and will be removed in a future version. Use `frame.loc[string]` instead.\n",
      "  mpf.plot(stock_intraday[date],type='candle',\n",
      "/var/folders/0d/2q3_g9bj7tn1m1t1w5crmtvh0000gn/T/ipykernel_60235/2961503273.py:65: FutureWarning: Indexing a DataFrame with a datetimelike index using a single string to slice the rows, like `frame[string]`, is deprecated and will be removed in a future version. Use `frame.loc[string]` instead.\n",
      "  mpf.plot(stock_intraday[date],type='candle',\n"
     ]
    },
    {
     "name": "stdout",
     "output_type": "stream",
     "text": [
      "2022-03-24\n",
      "2022-03-25\n",
      "2022-03-28\n",
      "2022-03-29\n"
     ]
    },
    {
     "name": "stderr",
     "output_type": "stream",
     "text": [
      "/var/folders/0d/2q3_g9bj7tn1m1t1w5crmtvh0000gn/T/ipykernel_60235/2961503273.py:65: FutureWarning: Indexing a DataFrame with a datetimelike index using a single string to slice the rows, like `frame[string]`, is deprecated and will be removed in a future version. Use `frame.loc[string]` instead.\n",
      "  mpf.plot(stock_intraday[date],type='candle',\n",
      "/var/folders/0d/2q3_g9bj7tn1m1t1w5crmtvh0000gn/T/ipykernel_60235/2961503273.py:65: FutureWarning: Indexing a DataFrame with a datetimelike index using a single string to slice the rows, like `frame[string]`, is deprecated and will be removed in a future version. Use `frame.loc[string]` instead.\n",
      "  mpf.plot(stock_intraday[date],type='candle',\n",
      "/var/folders/0d/2q3_g9bj7tn1m1t1w5crmtvh0000gn/T/ipykernel_60235/2961503273.py:65: FutureWarning: Indexing a DataFrame with a datetimelike index using a single string to slice the rows, like `frame[string]`, is deprecated and will be removed in a future version. Use `frame.loc[string]` instead.\n",
      "  mpf.plot(stock_intraday[date],type='candle',\n"
     ]
    },
    {
     "name": "stdout",
     "output_type": "stream",
     "text": [
      "2022-03-30\n",
      "2022-03-31\n",
      "2022-04-01\n"
     ]
    },
    {
     "name": "stderr",
     "output_type": "stream",
     "text": [
      "/var/folders/0d/2q3_g9bj7tn1m1t1w5crmtvh0000gn/T/ipykernel_60235/2961503273.py:65: FutureWarning: Indexing a DataFrame with a datetimelike index using a single string to slice the rows, like `frame[string]`, is deprecated and will be removed in a future version. Use `frame.loc[string]` instead.\n",
      "  mpf.plot(stock_intraday[date],type='candle',\n",
      "/var/folders/0d/2q3_g9bj7tn1m1t1w5crmtvh0000gn/T/ipykernel_60235/2961503273.py:65: FutureWarning: Indexing a DataFrame with a datetimelike index using a single string to slice the rows, like `frame[string]`, is deprecated and will be removed in a future version. Use `frame.loc[string]` instead.\n",
      "  mpf.plot(stock_intraday[date],type='candle',\n",
      "/var/folders/0d/2q3_g9bj7tn1m1t1w5crmtvh0000gn/T/ipykernel_60235/2961503273.py:65: FutureWarning: Indexing a DataFrame with a datetimelike index using a single string to slice the rows, like `frame[string]`, is deprecated and will be removed in a future version. Use `frame.loc[string]` instead.\n",
      "  mpf.plot(stock_intraday[date],type='candle',\n",
      "/var/folders/0d/2q3_g9bj7tn1m1t1w5crmtvh0000gn/T/ipykernel_60235/2961503273.py:65: FutureWarning: Indexing a DataFrame with a datetimelike index using a single string to slice the rows, like `frame[string]`, is deprecated and will be removed in a future version. Use `frame.loc[string]` instead.\n",
      "  mpf.plot(stock_intraday[date],type='candle',\n"
     ]
    },
    {
     "name": "stdout",
     "output_type": "stream",
     "text": [
      "2022-04-04\n",
      "2022-04-05\n",
      "2022-04-06\n"
     ]
    },
    {
     "name": "stderr",
     "output_type": "stream",
     "text": [
      "/var/folders/0d/2q3_g9bj7tn1m1t1w5crmtvh0000gn/T/ipykernel_60235/2961503273.py:65: FutureWarning: Indexing a DataFrame with a datetimelike index using a single string to slice the rows, like `frame[string]`, is deprecated and will be removed in a future version. Use `frame.loc[string]` instead.\n",
      "  mpf.plot(stock_intraday[date],type='candle',\n",
      "/var/folders/0d/2q3_g9bj7tn1m1t1w5crmtvh0000gn/T/ipykernel_60235/2961503273.py:65: FutureWarning: Indexing a DataFrame with a datetimelike index using a single string to slice the rows, like `frame[string]`, is deprecated and will be removed in a future version. Use `frame.loc[string]` instead.\n",
      "  mpf.plot(stock_intraday[date],type='candle',\n",
      "/var/folders/0d/2q3_g9bj7tn1m1t1w5crmtvh0000gn/T/ipykernel_60235/2961503273.py:65: FutureWarning: Indexing a DataFrame with a datetimelike index using a single string to slice the rows, like `frame[string]`, is deprecated and will be removed in a future version. Use `frame.loc[string]` instead.\n",
      "  mpf.plot(stock_intraday[date],type='candle',\n"
     ]
    },
    {
     "name": "stdout",
     "output_type": "stream",
     "text": [
      "2022-04-07\n",
      "2022-04-08\n",
      "2022-04-11\n",
      "2022-04-12\n",
      "2022-04-13\n",
      "2022-04-14\n"
     ]
    },
    {
     "name": "stderr",
     "output_type": "stream",
     "text": [
      "/var/folders/0d/2q3_g9bj7tn1m1t1w5crmtvh0000gn/T/ipykernel_60235/2961503273.py:65: FutureWarning: Indexing a DataFrame with a datetimelike index using a single string to slice the rows, like `frame[string]`, is deprecated and will be removed in a future version. Use `frame.loc[string]` instead.\n",
      "  mpf.plot(stock_intraday[date],type='candle',\n",
      "/var/folders/0d/2q3_g9bj7tn1m1t1w5crmtvh0000gn/T/ipykernel_60235/2961503273.py:65: FutureWarning: Indexing a DataFrame with a datetimelike index using a single string to slice the rows, like `frame[string]`, is deprecated and will be removed in a future version. Use `frame.loc[string]` instead.\n",
      "  mpf.plot(stock_intraday[date],type='candle',\n",
      "/var/folders/0d/2q3_g9bj7tn1m1t1w5crmtvh0000gn/T/ipykernel_60235/2961503273.py:65: FutureWarning: Indexing a DataFrame with a datetimelike index using a single string to slice the rows, like `frame[string]`, is deprecated and will be removed in a future version. Use `frame.loc[string]` instead.\n",
      "  mpf.plot(stock_intraday[date],type='candle',\n",
      "/var/folders/0d/2q3_g9bj7tn1m1t1w5crmtvh0000gn/T/ipykernel_60235/2961503273.py:65: FutureWarning: Indexing a DataFrame with a datetimelike index using a single string to slice the rows, like `frame[string]`, is deprecated and will be removed in a future version. Use `frame.loc[string]` instead.\n",
      "  mpf.plot(stock_intraday[date],type='candle',\n",
      "/var/folders/0d/2q3_g9bj7tn1m1t1w5crmtvh0000gn/T/ipykernel_60235/2961503273.py:65: FutureWarning: Indexing a DataFrame with a datetimelike index using a single string to slice the rows, like `frame[string]`, is deprecated and will be removed in a future version. Use `frame.loc[string]` instead.\n",
      "  mpf.plot(stock_intraday[date],type='candle',\n",
      "/var/folders/0d/2q3_g9bj7tn1m1t1w5crmtvh0000gn/T/ipykernel_60235/2961503273.py:65: FutureWarning: Indexing a DataFrame with a datetimelike index using a single string to slice the rows, like `frame[string]`, is deprecated and will be removed in a future version. Use `frame.loc[string]` instead.\n",
      "  mpf.plot(stock_intraday[date],type='candle',\n",
      "/var/folders/0d/2q3_g9bj7tn1m1t1w5crmtvh0000gn/T/ipykernel_60235/2961503273.py:65: FutureWarning: Indexing a DataFrame with a datetimelike index using a single string to slice the rows, like `frame[string]`, is deprecated and will be removed in a future version. Use `frame.loc[string]` instead.\n",
      "  mpf.plot(stock_intraday[date],type='candle',\n"
     ]
    },
    {
     "name": "stdout",
     "output_type": "stream",
     "text": [
      "2022-04-18\n",
      "2022-04-19\n",
      "2022-04-20\n",
      "2022-04-21\n",
      "2022-04-22\n",
      "2022-04-25\n"
     ]
    },
    {
     "name": "stderr",
     "output_type": "stream",
     "text": [
      "/var/folders/0d/2q3_g9bj7tn1m1t1w5crmtvh0000gn/T/ipykernel_60235/2961503273.py:65: FutureWarning: Indexing a DataFrame with a datetimelike index using a single string to slice the rows, like `frame[string]`, is deprecated and will be removed in a future version. Use `frame.loc[string]` instead.\n",
      "  mpf.plot(stock_intraday[date],type='candle',\n",
      "/var/folders/0d/2q3_g9bj7tn1m1t1w5crmtvh0000gn/T/ipykernel_60235/2961503273.py:65: FutureWarning: Indexing a DataFrame with a datetimelike index using a single string to slice the rows, like `frame[string]`, is deprecated and will be removed in a future version. Use `frame.loc[string]` instead.\n",
      "  mpf.plot(stock_intraday[date],type='candle',\n",
      "/var/folders/0d/2q3_g9bj7tn1m1t1w5crmtvh0000gn/T/ipykernel_60235/2961503273.py:65: FutureWarning: Indexing a DataFrame with a datetimelike index using a single string to slice the rows, like `frame[string]`, is deprecated and will be removed in a future version. Use `frame.loc[string]` instead.\n",
      "  mpf.plot(stock_intraday[date],type='candle',\n"
     ]
    },
    {
     "name": "stdout",
     "output_type": "stream",
     "text": [
      "2022-04-26\n",
      "2022-04-27\n",
      "2022-04-28\n"
     ]
    },
    {
     "name": "stderr",
     "output_type": "stream",
     "text": [
      "/var/folders/0d/2q3_g9bj7tn1m1t1w5crmtvh0000gn/T/ipykernel_60235/2961503273.py:65: FutureWarning: Indexing a DataFrame with a datetimelike index using a single string to slice the rows, like `frame[string]`, is deprecated and will be removed in a future version. Use `frame.loc[string]` instead.\n",
      "  mpf.plot(stock_intraday[date],type='candle',\n",
      "/var/folders/0d/2q3_g9bj7tn1m1t1w5crmtvh0000gn/T/ipykernel_60235/2961503273.py:65: FutureWarning: Indexing a DataFrame with a datetimelike index using a single string to slice the rows, like `frame[string]`, is deprecated and will be removed in a future version. Use `frame.loc[string]` instead.\n",
      "  mpf.plot(stock_intraday[date],type='candle',\n",
      "/var/folders/0d/2q3_g9bj7tn1m1t1w5crmtvh0000gn/T/ipykernel_60235/2961503273.py:65: FutureWarning: Indexing a DataFrame with a datetimelike index using a single string to slice the rows, like `frame[string]`, is deprecated and will be removed in a future version. Use `frame.loc[string]` instead.\n",
      "  mpf.plot(stock_intraday[date],type='candle',\n"
     ]
    },
    {
     "name": "stdout",
     "output_type": "stream",
     "text": [
      "2022-04-29\n",
      "2022-05-02\n",
      "2022-05-03\n"
     ]
    },
    {
     "name": "stderr",
     "output_type": "stream",
     "text": [
      "/var/folders/0d/2q3_g9bj7tn1m1t1w5crmtvh0000gn/T/ipykernel_60235/2961503273.py:65: FutureWarning: Indexing a DataFrame with a datetimelike index using a single string to slice the rows, like `frame[string]`, is deprecated and will be removed in a future version. Use `frame.loc[string]` instead.\n",
      "  mpf.plot(stock_intraday[date],type='candle',\n",
      "/var/folders/0d/2q3_g9bj7tn1m1t1w5crmtvh0000gn/T/ipykernel_60235/2961503273.py:65: FutureWarning: Indexing a DataFrame with a datetimelike index using a single string to slice the rows, like `frame[string]`, is deprecated and will be removed in a future version. Use `frame.loc[string]` instead.\n",
      "  mpf.plot(stock_intraday[date],type='candle',\n",
      "/var/folders/0d/2q3_g9bj7tn1m1t1w5crmtvh0000gn/T/ipykernel_60235/2961503273.py:65: FutureWarning: Indexing a DataFrame with a datetimelike index using a single string to slice the rows, like `frame[string]`, is deprecated and will be removed in a future version. Use `frame.loc[string]` instead.\n",
      "  mpf.plot(stock_intraday[date],type='candle',\n"
     ]
    },
    {
     "name": "stdout",
     "output_type": "stream",
     "text": [
      "2022-05-04\n",
      "2022-05-05\n",
      "2022-05-06\n"
     ]
    },
    {
     "name": "stderr",
     "output_type": "stream",
     "text": [
      "/var/folders/0d/2q3_g9bj7tn1m1t1w5crmtvh0000gn/T/ipykernel_60235/2961503273.py:65: FutureWarning: Indexing a DataFrame with a datetimelike index using a single string to slice the rows, like `frame[string]`, is deprecated and will be removed in a future version. Use `frame.loc[string]` instead.\n",
      "  mpf.plot(stock_intraday[date],type='candle',\n",
      "/var/folders/0d/2q3_g9bj7tn1m1t1w5crmtvh0000gn/T/ipykernel_60235/2961503273.py:65: FutureWarning: Indexing a DataFrame with a datetimelike index using a single string to slice the rows, like `frame[string]`, is deprecated and will be removed in a future version. Use `frame.loc[string]` instead.\n",
      "  mpf.plot(stock_intraday[date],type='candle',\n",
      "/var/folders/0d/2q3_g9bj7tn1m1t1w5crmtvh0000gn/T/ipykernel_60235/2961503273.py:65: FutureWarning: Indexing a DataFrame with a datetimelike index using a single string to slice the rows, like `frame[string]`, is deprecated and will be removed in a future version. Use `frame.loc[string]` instead.\n",
      "  mpf.plot(stock_intraday[date],type='candle',\n"
     ]
    },
    {
     "name": "stdout",
     "output_type": "stream",
     "text": [
      "2022-05-09\n",
      "2022-05-10\n",
      "2022-05-11\n"
     ]
    },
    {
     "name": "stderr",
     "output_type": "stream",
     "text": [
      "/var/folders/0d/2q3_g9bj7tn1m1t1w5crmtvh0000gn/T/ipykernel_60235/2961503273.py:65: FutureWarning: Indexing a DataFrame with a datetimelike index using a single string to slice the rows, like `frame[string]`, is deprecated and will be removed in a future version. Use `frame.loc[string]` instead.\n",
      "  mpf.plot(stock_intraday[date],type='candle',\n",
      "/var/folders/0d/2q3_g9bj7tn1m1t1w5crmtvh0000gn/T/ipykernel_60235/2961503273.py:65: FutureWarning: Indexing a DataFrame with a datetimelike index using a single string to slice the rows, like `frame[string]`, is deprecated and will be removed in a future version. Use `frame.loc[string]` instead.\n",
      "  mpf.plot(stock_intraday[date],type='candle',\n",
      "/var/folders/0d/2q3_g9bj7tn1m1t1w5crmtvh0000gn/T/ipykernel_60235/2961503273.py:65: FutureWarning: Indexing a DataFrame with a datetimelike index using a single string to slice the rows, like `frame[string]`, is deprecated and will be removed in a future version. Use `frame.loc[string]` instead.\n",
      "  mpf.plot(stock_intraday[date],type='candle',\n"
     ]
    },
    {
     "name": "stdout",
     "output_type": "stream",
     "text": [
      "2022-05-12\n"
     ]
    },
    {
     "name": "stderr",
     "output_type": "stream",
     "text": [
      "/var/folders/0d/2q3_g9bj7tn1m1t1w5crmtvh0000gn/T/ipykernel_60235/2961503273.py:65: FutureWarning: Indexing a DataFrame with a datetimelike index using a single string to slice the rows, like `frame[string]`, is deprecated and will be removed in a future version. Use `frame.loc[string]` instead.\n",
      "  mpf.plot(stock_intraday[date],type='candle',\n"
     ]
    },
    {
     "name": "stdout",
     "output_type": "stream",
     "text": [
      "2022-05-13\n",
      "2022-05-16\n",
      "2022-05-17\n"
     ]
    },
    {
     "name": "stderr",
     "output_type": "stream",
     "text": [
      "/var/folders/0d/2q3_g9bj7tn1m1t1w5crmtvh0000gn/T/ipykernel_60235/2961503273.py:65: FutureWarning: Indexing a DataFrame with a datetimelike index using a single string to slice the rows, like `frame[string]`, is deprecated and will be removed in a future version. Use `frame.loc[string]` instead.\n",
      "  mpf.plot(stock_intraday[date],type='candle',\n",
      "/var/folders/0d/2q3_g9bj7tn1m1t1w5crmtvh0000gn/T/ipykernel_60235/2961503273.py:65: FutureWarning: Indexing a DataFrame with a datetimelike index using a single string to slice the rows, like `frame[string]`, is deprecated and will be removed in a future version. Use `frame.loc[string]` instead.\n",
      "  mpf.plot(stock_intraday[date],type='candle',\n",
      "/var/folders/0d/2q3_g9bj7tn1m1t1w5crmtvh0000gn/T/ipykernel_60235/2961503273.py:65: FutureWarning: Indexing a DataFrame with a datetimelike index using a single string to slice the rows, like `frame[string]`, is deprecated and will be removed in a future version. Use `frame.loc[string]` instead.\n",
      "  mpf.plot(stock_intraday[date],type='candle',\n"
     ]
    },
    {
     "name": "stdout",
     "output_type": "stream",
     "text": [
      "2022-05-18\n",
      "2022-05-19\n",
      "2022-05-20\n"
     ]
    },
    {
     "name": "stderr",
     "output_type": "stream",
     "text": [
      "/var/folders/0d/2q3_g9bj7tn1m1t1w5crmtvh0000gn/T/ipykernel_60235/2961503273.py:65: FutureWarning: Indexing a DataFrame with a datetimelike index using a single string to slice the rows, like `frame[string]`, is deprecated and will be removed in a future version. Use `frame.loc[string]` instead.\n",
      "  mpf.plot(stock_intraday[date],type='candle',\n",
      "/var/folders/0d/2q3_g9bj7tn1m1t1w5crmtvh0000gn/T/ipykernel_60235/2961503273.py:65: FutureWarning: Indexing a DataFrame with a datetimelike index using a single string to slice the rows, like `frame[string]`, is deprecated and will be removed in a future version. Use `frame.loc[string]` instead.\n",
      "  mpf.plot(stock_intraday[date],type='candle',\n",
      "/var/folders/0d/2q3_g9bj7tn1m1t1w5crmtvh0000gn/T/ipykernel_60235/2961503273.py:65: FutureWarning: Indexing a DataFrame with a datetimelike index using a single string to slice the rows, like `frame[string]`, is deprecated and will be removed in a future version. Use `frame.loc[string]` instead.\n",
      "  mpf.plot(stock_intraday[date],type='candle',\n"
     ]
    },
    {
     "name": "stdout",
     "output_type": "stream",
     "text": [
      "2022-05-23\n",
      "2022-05-24\n",
      "2022-05-25\n"
     ]
    },
    {
     "name": "stderr",
     "output_type": "stream",
     "text": [
      "/var/folders/0d/2q3_g9bj7tn1m1t1w5crmtvh0000gn/T/ipykernel_60235/2961503273.py:65: FutureWarning: Indexing a DataFrame with a datetimelike index using a single string to slice the rows, like `frame[string]`, is deprecated and will be removed in a future version. Use `frame.loc[string]` instead.\n",
      "  mpf.plot(stock_intraday[date],type='candle',\n",
      "/var/folders/0d/2q3_g9bj7tn1m1t1w5crmtvh0000gn/T/ipykernel_60235/2961503273.py:65: FutureWarning: Indexing a DataFrame with a datetimelike index using a single string to slice the rows, like `frame[string]`, is deprecated and will be removed in a future version. Use `frame.loc[string]` instead.\n",
      "  mpf.plot(stock_intraday[date],type='candle',\n",
      "/var/folders/0d/2q3_g9bj7tn1m1t1w5crmtvh0000gn/T/ipykernel_60235/2961503273.py:65: FutureWarning: Indexing a DataFrame with a datetimelike index using a single string to slice the rows, like `frame[string]`, is deprecated and will be removed in a future version. Use `frame.loc[string]` instead.\n",
      "  mpf.plot(stock_intraday[date],type='candle',\n"
     ]
    },
    {
     "name": "stdout",
     "output_type": "stream",
     "text": [
      "2022-05-26\n",
      "2022-05-27\n",
      "2022-05-31\n"
     ]
    },
    {
     "name": "stderr",
     "output_type": "stream",
     "text": [
      "/var/folders/0d/2q3_g9bj7tn1m1t1w5crmtvh0000gn/T/ipykernel_60235/2961503273.py:65: FutureWarning: Indexing a DataFrame with a datetimelike index using a single string to slice the rows, like `frame[string]`, is deprecated and will be removed in a future version. Use `frame.loc[string]` instead.\n",
      "  mpf.plot(stock_intraday[date],type='candle',\n",
      "/var/folders/0d/2q3_g9bj7tn1m1t1w5crmtvh0000gn/T/ipykernel_60235/2961503273.py:65: FutureWarning: Indexing a DataFrame with a datetimelike index using a single string to slice the rows, like `frame[string]`, is deprecated and will be removed in a future version. Use `frame.loc[string]` instead.\n",
      "  mpf.plot(stock_intraday[date],type='candle',\n",
      "/var/folders/0d/2q3_g9bj7tn1m1t1w5crmtvh0000gn/T/ipykernel_60235/2961503273.py:65: FutureWarning: Indexing a DataFrame with a datetimelike index using a single string to slice the rows, like `frame[string]`, is deprecated and will be removed in a future version. Use `frame.loc[string]` instead.\n",
      "  mpf.plot(stock_intraday[date],type='candle',\n"
     ]
    },
    {
     "name": "stdout",
     "output_type": "stream",
     "text": [
      "2022-06-01\n",
      "2022-06-02\n",
      "2022-06-03\n",
      "2022-06-06\n"
     ]
    },
    {
     "name": "stderr",
     "output_type": "stream",
     "text": [
      "/var/folders/0d/2q3_g9bj7tn1m1t1w5crmtvh0000gn/T/ipykernel_60235/2961503273.py:65: FutureWarning: Indexing a DataFrame with a datetimelike index using a single string to slice the rows, like `frame[string]`, is deprecated and will be removed in a future version. Use `frame.loc[string]` instead.\n",
      "  mpf.plot(stock_intraday[date],type='candle',\n",
      "/var/folders/0d/2q3_g9bj7tn1m1t1w5crmtvh0000gn/T/ipykernel_60235/2961503273.py:65: FutureWarning: Indexing a DataFrame with a datetimelike index using a single string to slice the rows, like `frame[string]`, is deprecated and will be removed in a future version. Use `frame.loc[string]` instead.\n",
      "  mpf.plot(stock_intraday[date],type='candle',\n",
      "/var/folders/0d/2q3_g9bj7tn1m1t1w5crmtvh0000gn/T/ipykernel_60235/2961503273.py:65: FutureWarning: Indexing a DataFrame with a datetimelike index using a single string to slice the rows, like `frame[string]`, is deprecated and will be removed in a future version. Use `frame.loc[string]` instead.\n",
      "  mpf.plot(stock_intraday[date],type='candle',\n",
      "/var/folders/0d/2q3_g9bj7tn1m1t1w5crmtvh0000gn/T/ipykernel_60235/2961503273.py:65: FutureWarning: Indexing a DataFrame with a datetimelike index using a single string to slice the rows, like `frame[string]`, is deprecated and will be removed in a future version. Use `frame.loc[string]` instead.\n",
      "  mpf.plot(stock_intraday[date],type='candle',\n",
      "/var/folders/0d/2q3_g9bj7tn1m1t1w5crmtvh0000gn/T/ipykernel_60235/2961503273.py:65: FutureWarning: Indexing a DataFrame with a datetimelike index using a single string to slice the rows, like `frame[string]`, is deprecated and will be removed in a future version. Use `frame.loc[string]` instead.\n",
      "  mpf.plot(stock_intraday[date],type='candle',\n",
      "/var/folders/0d/2q3_g9bj7tn1m1t1w5crmtvh0000gn/T/ipykernel_60235/2961503273.py:65: FutureWarning: Indexing a DataFrame with a datetimelike index using a single string to slice the rows, like `frame[string]`, is deprecated and will be removed in a future version. Use `frame.loc[string]` instead.\n",
      "  mpf.plot(stock_intraday[date],type='candle',\n"
     ]
    },
    {
     "name": "stdout",
     "output_type": "stream",
     "text": [
      "2022-06-07\n",
      "2022-06-08\n",
      "2022-06-09\n"
     ]
    },
    {
     "name": "stderr",
     "output_type": "stream",
     "text": [
      "/var/folders/0d/2q3_g9bj7tn1m1t1w5crmtvh0000gn/T/ipykernel_60235/2961503273.py:65: FutureWarning: Indexing a DataFrame with a datetimelike index using a single string to slice the rows, like `frame[string]`, is deprecated and will be removed in a future version. Use `frame.loc[string]` instead.\n",
      "  mpf.plot(stock_intraday[date],type='candle',\n",
      "/var/folders/0d/2q3_g9bj7tn1m1t1w5crmtvh0000gn/T/ipykernel_60235/2961503273.py:65: FutureWarning: Indexing a DataFrame with a datetimelike index using a single string to slice the rows, like `frame[string]`, is deprecated and will be removed in a future version. Use `frame.loc[string]` instead.\n",
      "  mpf.plot(stock_intraday[date],type='candle',\n",
      "/var/folders/0d/2q3_g9bj7tn1m1t1w5crmtvh0000gn/T/ipykernel_60235/2961503273.py:65: FutureWarning: Indexing a DataFrame with a datetimelike index using a single string to slice the rows, like `frame[string]`, is deprecated and will be removed in a future version. Use `frame.loc[string]` instead.\n",
      "  mpf.plot(stock_intraday[date],type='candle',\n"
     ]
    },
    {
     "name": "stdout",
     "output_type": "stream",
     "text": [
      "2022-06-10\n",
      "2022-06-13\n",
      "2022-06-14\n"
     ]
    },
    {
     "name": "stderr",
     "output_type": "stream",
     "text": [
      "/var/folders/0d/2q3_g9bj7tn1m1t1w5crmtvh0000gn/T/ipykernel_60235/2961503273.py:65: FutureWarning: Indexing a DataFrame with a datetimelike index using a single string to slice the rows, like `frame[string]`, is deprecated and will be removed in a future version. Use `frame.loc[string]` instead.\n",
      "  mpf.plot(stock_intraday[date],type='candle',\n",
      "/var/folders/0d/2q3_g9bj7tn1m1t1w5crmtvh0000gn/T/ipykernel_60235/2961503273.py:65: FutureWarning: Indexing a DataFrame with a datetimelike index using a single string to slice the rows, like `frame[string]`, is deprecated and will be removed in a future version. Use `frame.loc[string]` instead.\n",
      "  mpf.plot(stock_intraday[date],type='candle',\n",
      "/var/folders/0d/2q3_g9bj7tn1m1t1w5crmtvh0000gn/T/ipykernel_60235/2961503273.py:65: FutureWarning: Indexing a DataFrame with a datetimelike index using a single string to slice the rows, like `frame[string]`, is deprecated and will be removed in a future version. Use `frame.loc[string]` instead.\n",
      "  mpf.plot(stock_intraday[date],type='candle',\n",
      "/var/folders/0d/2q3_g9bj7tn1m1t1w5crmtvh0000gn/T/ipykernel_60235/2961503273.py:65: FutureWarning: Indexing a DataFrame with a datetimelike index using a single string to slice the rows, like `frame[string]`, is deprecated and will be removed in a future version. Use `frame.loc[string]` instead.\n",
      "  mpf.plot(stock_intraday[date],type='candle',\n"
     ]
    },
    {
     "name": "stdout",
     "output_type": "stream",
     "text": [
      "2022-06-15\n",
      "2022-06-16\n",
      "2022-06-17\n",
      "2022-06-21\n",
      "2022-06-22\n",
      "2022-06-23\n"
     ]
    },
    {
     "name": "stderr",
     "output_type": "stream",
     "text": [
      "/var/folders/0d/2q3_g9bj7tn1m1t1w5crmtvh0000gn/T/ipykernel_60235/2961503273.py:65: FutureWarning: Indexing a DataFrame with a datetimelike index using a single string to slice the rows, like `frame[string]`, is deprecated and will be removed in a future version. Use `frame.loc[string]` instead.\n",
      "  mpf.plot(stock_intraday[date],type='candle',\n",
      "/var/folders/0d/2q3_g9bj7tn1m1t1w5crmtvh0000gn/T/ipykernel_60235/2961503273.py:65: FutureWarning: Indexing a DataFrame with a datetimelike index using a single string to slice the rows, like `frame[string]`, is deprecated and will be removed in a future version. Use `frame.loc[string]` instead.\n",
      "  mpf.plot(stock_intraday[date],type='candle',\n",
      "/var/folders/0d/2q3_g9bj7tn1m1t1w5crmtvh0000gn/T/ipykernel_60235/2961503273.py:65: FutureWarning: Indexing a DataFrame with a datetimelike index using a single string to slice the rows, like `frame[string]`, is deprecated and will be removed in a future version. Use `frame.loc[string]` instead.\n",
      "  mpf.plot(stock_intraday[date],type='candle',\n"
     ]
    },
    {
     "name": "stdout",
     "output_type": "stream",
     "text": [
      "2022-06-24\n"
     ]
    },
    {
     "name": "stderr",
     "output_type": "stream",
     "text": [
      "/var/folders/0d/2q3_g9bj7tn1m1t1w5crmtvh0000gn/T/ipykernel_60235/2961503273.py:65: FutureWarning: Indexing a DataFrame with a datetimelike index using a single string to slice the rows, like `frame[string]`, is deprecated and will be removed in a future version. Use `frame.loc[string]` instead.\n",
      "  mpf.plot(stock_intraday[date],type='candle',\n"
     ]
    },
    {
     "name": "stdout",
     "output_type": "stream",
     "text": [
      "2022-06-27\n",
      "2022-06-28\n",
      "2022-06-29\n",
      "2022-06-30\n"
     ]
    },
    {
     "name": "stderr",
     "output_type": "stream",
     "text": [
      "/var/folders/0d/2q3_g9bj7tn1m1t1w5crmtvh0000gn/T/ipykernel_60235/2961503273.py:65: FutureWarning: Indexing a DataFrame with a datetimelike index using a single string to slice the rows, like `frame[string]`, is deprecated and will be removed in a future version. Use `frame.loc[string]` instead.\n",
      "  mpf.plot(stock_intraday[date],type='candle',\n",
      "/var/folders/0d/2q3_g9bj7tn1m1t1w5crmtvh0000gn/T/ipykernel_60235/2961503273.py:65: FutureWarning: Indexing a DataFrame with a datetimelike index using a single string to slice the rows, like `frame[string]`, is deprecated and will be removed in a future version. Use `frame.loc[string]` instead.\n",
      "  mpf.plot(stock_intraday[date],type='candle',\n",
      "/var/folders/0d/2q3_g9bj7tn1m1t1w5crmtvh0000gn/T/ipykernel_60235/2961503273.py:65: FutureWarning: Indexing a DataFrame with a datetimelike index using a single string to slice the rows, like `frame[string]`, is deprecated and will be removed in a future version. Use `frame.loc[string]` instead.\n",
      "  mpf.plot(stock_intraday[date],type='candle',\n",
      "/var/folders/0d/2q3_g9bj7tn1m1t1w5crmtvh0000gn/T/ipykernel_60235/2961503273.py:65: FutureWarning: Indexing a DataFrame with a datetimelike index using a single string to slice the rows, like `frame[string]`, is deprecated and will be removed in a future version. Use `frame.loc[string]` instead.\n",
      "  mpf.plot(stock_intraday[date],type='candle',\n"
     ]
    },
    {
     "name": "stdout",
     "output_type": "stream",
     "text": [
      "2022-07-01\n",
      "2022-07-05\n",
      "2022-07-06\n"
     ]
    },
    {
     "name": "stderr",
     "output_type": "stream",
     "text": [
      "/var/folders/0d/2q3_g9bj7tn1m1t1w5crmtvh0000gn/T/ipykernel_60235/2961503273.py:65: FutureWarning: Indexing a DataFrame with a datetimelike index using a single string to slice the rows, like `frame[string]`, is deprecated and will be removed in a future version. Use `frame.loc[string]` instead.\n",
      "  mpf.plot(stock_intraday[date],type='candle',\n",
      "/var/folders/0d/2q3_g9bj7tn1m1t1w5crmtvh0000gn/T/ipykernel_60235/2961503273.py:65: FutureWarning: Indexing a DataFrame with a datetimelike index using a single string to slice the rows, like `frame[string]`, is deprecated and will be removed in a future version. Use `frame.loc[string]` instead.\n",
      "  mpf.plot(stock_intraday[date],type='candle',\n",
      "/var/folders/0d/2q3_g9bj7tn1m1t1w5crmtvh0000gn/T/ipykernel_60235/2961503273.py:65: FutureWarning: Indexing a DataFrame with a datetimelike index using a single string to slice the rows, like `frame[string]`, is deprecated and will be removed in a future version. Use `frame.loc[string]` instead.\n",
      "  mpf.plot(stock_intraday[date],type='candle',\n"
     ]
    },
    {
     "name": "stdout",
     "output_type": "stream",
     "text": [
      "2022-07-07\n",
      "2022-07-08\n",
      "2022-07-11\n",
      "2022-07-12\n"
     ]
    },
    {
     "name": "stderr",
     "output_type": "stream",
     "text": [
      "/var/folders/0d/2q3_g9bj7tn1m1t1w5crmtvh0000gn/T/ipykernel_60235/2961503273.py:65: FutureWarning: Indexing a DataFrame with a datetimelike index using a single string to slice the rows, like `frame[string]`, is deprecated and will be removed in a future version. Use `frame.loc[string]` instead.\n",
      "  mpf.plot(stock_intraday[date],type='candle',\n",
      "/var/folders/0d/2q3_g9bj7tn1m1t1w5crmtvh0000gn/T/ipykernel_60235/2961503273.py:65: FutureWarning: Indexing a DataFrame with a datetimelike index using a single string to slice the rows, like `frame[string]`, is deprecated and will be removed in a future version. Use `frame.loc[string]` instead.\n",
      "  mpf.plot(stock_intraday[date],type='candle',\n",
      "/var/folders/0d/2q3_g9bj7tn1m1t1w5crmtvh0000gn/T/ipykernel_60235/2961503273.py:65: FutureWarning: Indexing a DataFrame with a datetimelike index using a single string to slice the rows, like `frame[string]`, is deprecated and will be removed in a future version. Use `frame.loc[string]` instead.\n",
      "  mpf.plot(stock_intraday[date],type='candle',\n",
      "/var/folders/0d/2q3_g9bj7tn1m1t1w5crmtvh0000gn/T/ipykernel_60235/2961503273.py:65: FutureWarning: Indexing a DataFrame with a datetimelike index using a single string to slice the rows, like `frame[string]`, is deprecated and will be removed in a future version. Use `frame.loc[string]` instead.\n",
      "  mpf.plot(stock_intraday[date],type='candle',\n"
     ]
    },
    {
     "name": "stdout",
     "output_type": "stream",
     "text": [
      "2022-07-13\n",
      "2022-07-14\n",
      "2022-07-15\n",
      "2022-07-18\n"
     ]
    },
    {
     "name": "stderr",
     "output_type": "stream",
     "text": [
      "/var/folders/0d/2q3_g9bj7tn1m1t1w5crmtvh0000gn/T/ipykernel_60235/2961503273.py:65: FutureWarning: Indexing a DataFrame with a datetimelike index using a single string to slice the rows, like `frame[string]`, is deprecated and will be removed in a future version. Use `frame.loc[string]` instead.\n",
      "  mpf.plot(stock_intraday[date],type='candle',\n",
      "/var/folders/0d/2q3_g9bj7tn1m1t1w5crmtvh0000gn/T/ipykernel_60235/2961503273.py:65: FutureWarning: Indexing a DataFrame with a datetimelike index using a single string to slice the rows, like `frame[string]`, is deprecated and will be removed in a future version. Use `frame.loc[string]` instead.\n",
      "  mpf.plot(stock_intraday[date],type='candle',\n",
      "/var/folders/0d/2q3_g9bj7tn1m1t1w5crmtvh0000gn/T/ipykernel_60235/2961503273.py:65: FutureWarning: Indexing a DataFrame with a datetimelike index using a single string to slice the rows, like `frame[string]`, is deprecated and will be removed in a future version. Use `frame.loc[string]` instead.\n",
      "  mpf.plot(stock_intraday[date],type='candle',\n",
      "/var/folders/0d/2q3_g9bj7tn1m1t1w5crmtvh0000gn/T/ipykernel_60235/2961503273.py:65: FutureWarning: Indexing a DataFrame with a datetimelike index using a single string to slice the rows, like `frame[string]`, is deprecated and will be removed in a future version. Use `frame.loc[string]` instead.\n",
      "  mpf.plot(stock_intraday[date],type='candle',\n",
      "/var/folders/0d/2q3_g9bj7tn1m1t1w5crmtvh0000gn/T/ipykernel_60235/2961503273.py:65: FutureWarning: Indexing a DataFrame with a datetimelike index using a single string to slice the rows, like `frame[string]`, is deprecated and will be removed in a future version. Use `frame.loc[string]` instead.\n",
      "  mpf.plot(stock_intraday[date],type='candle',\n",
      "/var/folders/0d/2q3_g9bj7tn1m1t1w5crmtvh0000gn/T/ipykernel_60235/2961503273.py:65: FutureWarning: Indexing a DataFrame with a datetimelike index using a single string to slice the rows, like `frame[string]`, is deprecated and will be removed in a future version. Use `frame.loc[string]` instead.\n",
      "  mpf.plot(stock_intraday[date],type='candle',\n",
      "/var/folders/0d/2q3_g9bj7tn1m1t1w5crmtvh0000gn/T/ipykernel_60235/2961503273.py:65: FutureWarning: Indexing a DataFrame with a datetimelike index using a single string to slice the rows, like `frame[string]`, is deprecated and will be removed in a future version. Use `frame.loc[string]` instead.\n",
      "  mpf.plot(stock_intraday[date],type='candle',\n"
     ]
    },
    {
     "name": "stdout",
     "output_type": "stream",
     "text": [
      "2022-07-19\n",
      "2022-07-20\n",
      "2022-07-21\n",
      "2022-07-22\n"
     ]
    },
    {
     "name": "stderr",
     "output_type": "stream",
     "text": [
      "/var/folders/0d/2q3_g9bj7tn1m1t1w5crmtvh0000gn/T/ipykernel_60235/2961503273.py:65: FutureWarning: Indexing a DataFrame with a datetimelike index using a single string to slice the rows, like `frame[string]`, is deprecated and will be removed in a future version. Use `frame.loc[string]` instead.\n",
      "  mpf.plot(stock_intraday[date],type='candle',\n",
      "/var/folders/0d/2q3_g9bj7tn1m1t1w5crmtvh0000gn/T/ipykernel_60235/2961503273.py:65: FutureWarning: Indexing a DataFrame with a datetimelike index using a single string to slice the rows, like `frame[string]`, is deprecated and will be removed in a future version. Use `frame.loc[string]` instead.\n",
      "  mpf.plot(stock_intraday[date],type='candle',\n",
      "/var/folders/0d/2q3_g9bj7tn1m1t1w5crmtvh0000gn/T/ipykernel_60235/2961503273.py:65: FutureWarning: Indexing a DataFrame with a datetimelike index using a single string to slice the rows, like `frame[string]`, is deprecated and will be removed in a future version. Use `frame.loc[string]` instead.\n",
      "  mpf.plot(stock_intraday[date],type='candle',\n"
     ]
    },
    {
     "name": "stdout",
     "output_type": "stream",
     "text": [
      "2022-07-25\n",
      "2022-07-26\n",
      "2022-07-27\n",
      "2022-07-28\n"
     ]
    },
    {
     "name": "stderr",
     "output_type": "stream",
     "text": [
      "/var/folders/0d/2q3_g9bj7tn1m1t1w5crmtvh0000gn/T/ipykernel_60235/2961503273.py:65: FutureWarning: Indexing a DataFrame with a datetimelike index using a single string to slice the rows, like `frame[string]`, is deprecated and will be removed in a future version. Use `frame.loc[string]` instead.\n",
      "  mpf.plot(stock_intraday[date],type='candle',\n",
      "/var/folders/0d/2q3_g9bj7tn1m1t1w5crmtvh0000gn/T/ipykernel_60235/2961503273.py:65: FutureWarning: Indexing a DataFrame with a datetimelike index using a single string to slice the rows, like `frame[string]`, is deprecated and will be removed in a future version. Use `frame.loc[string]` instead.\n",
      "  mpf.plot(stock_intraday[date],type='candle',\n",
      "/var/folders/0d/2q3_g9bj7tn1m1t1w5crmtvh0000gn/T/ipykernel_60235/2961503273.py:65: FutureWarning: Indexing a DataFrame with a datetimelike index using a single string to slice the rows, like `frame[string]`, is deprecated and will be removed in a future version. Use `frame.loc[string]` instead.\n",
      "  mpf.plot(stock_intraday[date],type='candle',\n"
     ]
    },
    {
     "name": "stdout",
     "output_type": "stream",
     "text": [
      "2022-07-29\n",
      "2022-08-01\n",
      "2022-08-02\n",
      "2022-08-03\n"
     ]
    },
    {
     "name": "stderr",
     "output_type": "stream",
     "text": [
      "/var/folders/0d/2q3_g9bj7tn1m1t1w5crmtvh0000gn/T/ipykernel_60235/2961503273.py:65: FutureWarning: Indexing a DataFrame with a datetimelike index using a single string to slice the rows, like `frame[string]`, is deprecated and will be removed in a future version. Use `frame.loc[string]` instead.\n",
      "  mpf.plot(stock_intraday[date],type='candle',\n",
      "/var/folders/0d/2q3_g9bj7tn1m1t1w5crmtvh0000gn/T/ipykernel_60235/2961503273.py:65: FutureWarning: Indexing a DataFrame with a datetimelike index using a single string to slice the rows, like `frame[string]`, is deprecated and will be removed in a future version. Use `frame.loc[string]` instead.\n",
      "  mpf.plot(stock_intraday[date],type='candle',\n",
      "/var/folders/0d/2q3_g9bj7tn1m1t1w5crmtvh0000gn/T/ipykernel_60235/2961503273.py:65: FutureWarning: Indexing a DataFrame with a datetimelike index using a single string to slice the rows, like `frame[string]`, is deprecated and will be removed in a future version. Use `frame.loc[string]` instead.\n",
      "  mpf.plot(stock_intraday[date],type='candle',\n",
      "/var/folders/0d/2q3_g9bj7tn1m1t1w5crmtvh0000gn/T/ipykernel_60235/2961503273.py:65: FutureWarning: Indexing a DataFrame with a datetimelike index using a single string to slice the rows, like `frame[string]`, is deprecated and will be removed in a future version. Use `frame.loc[string]` instead.\n",
      "  mpf.plot(stock_intraday[date],type='candle',\n"
     ]
    },
    {
     "name": "stdout",
     "output_type": "stream",
     "text": [
      "2022-08-04\n",
      "2022-08-05\n",
      "2022-08-08\n",
      "2022-08-09\n"
     ]
    },
    {
     "name": "stderr",
     "output_type": "stream",
     "text": [
      "/var/folders/0d/2q3_g9bj7tn1m1t1w5crmtvh0000gn/T/ipykernel_60235/2961503273.py:65: FutureWarning: Indexing a DataFrame with a datetimelike index using a single string to slice the rows, like `frame[string]`, is deprecated and will be removed in a future version. Use `frame.loc[string]` instead.\n",
      "  mpf.plot(stock_intraday[date],type='candle',\n",
      "/var/folders/0d/2q3_g9bj7tn1m1t1w5crmtvh0000gn/T/ipykernel_60235/2961503273.py:65: FutureWarning: Indexing a DataFrame with a datetimelike index using a single string to slice the rows, like `frame[string]`, is deprecated and will be removed in a future version. Use `frame.loc[string]` instead.\n",
      "  mpf.plot(stock_intraday[date],type='candle',\n",
      "/var/folders/0d/2q3_g9bj7tn1m1t1w5crmtvh0000gn/T/ipykernel_60235/2961503273.py:65: FutureWarning: Indexing a DataFrame with a datetimelike index using a single string to slice the rows, like `frame[string]`, is deprecated and will be removed in a future version. Use `frame.loc[string]` instead.\n",
      "  mpf.plot(stock_intraday[date],type='candle',\n"
     ]
    },
    {
     "name": "stdout",
     "output_type": "stream",
     "text": [
      "2022-08-10\n",
      "2022-08-11\n",
      "2022-08-12\n",
      "2022-08-15\n"
     ]
    },
    {
     "name": "stderr",
     "output_type": "stream",
     "text": [
      "/var/folders/0d/2q3_g9bj7tn1m1t1w5crmtvh0000gn/T/ipykernel_60235/2961503273.py:65: FutureWarning: Indexing a DataFrame with a datetimelike index using a single string to slice the rows, like `frame[string]`, is deprecated and will be removed in a future version. Use `frame.loc[string]` instead.\n",
      "  mpf.plot(stock_intraday[date],type='candle',\n",
      "/var/folders/0d/2q3_g9bj7tn1m1t1w5crmtvh0000gn/T/ipykernel_60235/2961503273.py:65: FutureWarning: Indexing a DataFrame with a datetimelike index using a single string to slice the rows, like `frame[string]`, is deprecated and will be removed in a future version. Use `frame.loc[string]` instead.\n",
      "  mpf.plot(stock_intraday[date],type='candle',\n",
      "/var/folders/0d/2q3_g9bj7tn1m1t1w5crmtvh0000gn/T/ipykernel_60235/2961503273.py:65: FutureWarning: Indexing a DataFrame with a datetimelike index using a single string to slice the rows, like `frame[string]`, is deprecated and will be removed in a future version. Use `frame.loc[string]` instead.\n",
      "  mpf.plot(stock_intraday[date],type='candle',\n",
      "/var/folders/0d/2q3_g9bj7tn1m1t1w5crmtvh0000gn/T/ipykernel_60235/2961503273.py:65: FutureWarning: Indexing a DataFrame with a datetimelike index using a single string to slice the rows, like `frame[string]`, is deprecated and will be removed in a future version. Use `frame.loc[string]` instead.\n",
      "  mpf.plot(stock_intraday[date],type='candle',\n"
     ]
    },
    {
     "name": "stdout",
     "output_type": "stream",
     "text": [
      "2022-08-16\n",
      "2022-08-17\n",
      "2022-08-18\n",
      "2022-08-19\n"
     ]
    },
    {
     "name": "stderr",
     "output_type": "stream",
     "text": [
      "/var/folders/0d/2q3_g9bj7tn1m1t1w5crmtvh0000gn/T/ipykernel_60235/2961503273.py:65: FutureWarning: Indexing a DataFrame with a datetimelike index using a single string to slice the rows, like `frame[string]`, is deprecated and will be removed in a future version. Use `frame.loc[string]` instead.\n",
      "  mpf.plot(stock_intraday[date],type='candle',\n",
      "/var/folders/0d/2q3_g9bj7tn1m1t1w5crmtvh0000gn/T/ipykernel_60235/2961503273.py:65: FutureWarning: Indexing a DataFrame with a datetimelike index using a single string to slice the rows, like `frame[string]`, is deprecated and will be removed in a future version. Use `frame.loc[string]` instead.\n",
      "  mpf.plot(stock_intraday[date],type='candle',\n",
      "/var/folders/0d/2q3_g9bj7tn1m1t1w5crmtvh0000gn/T/ipykernel_60235/2961503273.py:65: FutureWarning: Indexing a DataFrame with a datetimelike index using a single string to slice the rows, like `frame[string]`, is deprecated and will be removed in a future version. Use `frame.loc[string]` instead.\n",
      "  mpf.plot(stock_intraday[date],type='candle',\n",
      "/var/folders/0d/2q3_g9bj7tn1m1t1w5crmtvh0000gn/T/ipykernel_60235/2961503273.py:65: FutureWarning: Indexing a DataFrame with a datetimelike index using a single string to slice the rows, like `frame[string]`, is deprecated and will be removed in a future version. Use `frame.loc[string]` instead.\n",
      "  mpf.plot(stock_intraday[date],type='candle',\n"
     ]
    },
    {
     "name": "stdout",
     "output_type": "stream",
     "text": [
      "2022-08-22\n",
      "2022-08-23\n",
      "2022-08-24\n",
      "2022-08-25\n"
     ]
    },
    {
     "name": "stderr",
     "output_type": "stream",
     "text": [
      "/var/folders/0d/2q3_g9bj7tn1m1t1w5crmtvh0000gn/T/ipykernel_60235/2961503273.py:65: FutureWarning: Indexing a DataFrame with a datetimelike index using a single string to slice the rows, like `frame[string]`, is deprecated and will be removed in a future version. Use `frame.loc[string]` instead.\n",
      "  mpf.plot(stock_intraday[date],type='candle',\n",
      "/var/folders/0d/2q3_g9bj7tn1m1t1w5crmtvh0000gn/T/ipykernel_60235/2961503273.py:65: FutureWarning: Indexing a DataFrame with a datetimelike index using a single string to slice the rows, like `frame[string]`, is deprecated and will be removed in a future version. Use `frame.loc[string]` instead.\n",
      "  mpf.plot(stock_intraday[date],type='candle',\n",
      "/var/folders/0d/2q3_g9bj7tn1m1t1w5crmtvh0000gn/T/ipykernel_60235/2961503273.py:65: FutureWarning: Indexing a DataFrame with a datetimelike index using a single string to slice the rows, like `frame[string]`, is deprecated and will be removed in a future version. Use `frame.loc[string]` instead.\n",
      "  mpf.plot(stock_intraday[date],type='candle',\n",
      "/var/folders/0d/2q3_g9bj7tn1m1t1w5crmtvh0000gn/T/ipykernel_60235/2961503273.py:65: FutureWarning: Indexing a DataFrame with a datetimelike index using a single string to slice the rows, like `frame[string]`, is deprecated and will be removed in a future version. Use `frame.loc[string]` instead.\n",
      "  mpf.plot(stock_intraday[date],type='candle',\n"
     ]
    },
    {
     "name": "stdout",
     "output_type": "stream",
     "text": [
      "2022-08-26\n",
      "2022-08-29\n",
      "2022-08-30\n"
     ]
    },
    {
     "name": "stderr",
     "output_type": "stream",
     "text": [
      "/var/folders/0d/2q3_g9bj7tn1m1t1w5crmtvh0000gn/T/ipykernel_60235/2961503273.py:65: FutureWarning: Indexing a DataFrame with a datetimelike index using a single string to slice the rows, like `frame[string]`, is deprecated and will be removed in a future version. Use `frame.loc[string]` instead.\n",
      "  mpf.plot(stock_intraday[date],type='candle',\n",
      "/var/folders/0d/2q3_g9bj7tn1m1t1w5crmtvh0000gn/T/ipykernel_60235/2961503273.py:65: FutureWarning: Indexing a DataFrame with a datetimelike index using a single string to slice the rows, like `frame[string]`, is deprecated and will be removed in a future version. Use `frame.loc[string]` instead.\n",
      "  mpf.plot(stock_intraday[date],type='candle',\n",
      "/var/folders/0d/2q3_g9bj7tn1m1t1w5crmtvh0000gn/T/ipykernel_60235/2961503273.py:65: FutureWarning: Indexing a DataFrame with a datetimelike index using a single string to slice the rows, like `frame[string]`, is deprecated and will be removed in a future version. Use `frame.loc[string]` instead.\n",
      "  mpf.plot(stock_intraday[date],type='candle',\n"
     ]
    },
    {
     "name": "stdout",
     "output_type": "stream",
     "text": [
      "2022-08-31\n",
      "2022-09-01\n",
      "2022-09-02\n"
     ]
    },
    {
     "name": "stderr",
     "output_type": "stream",
     "text": [
      "/var/folders/0d/2q3_g9bj7tn1m1t1w5crmtvh0000gn/T/ipykernel_60235/2961503273.py:65: FutureWarning: Indexing a DataFrame with a datetimelike index using a single string to slice the rows, like `frame[string]`, is deprecated and will be removed in a future version. Use `frame.loc[string]` instead.\n",
      "  mpf.plot(stock_intraday[date],type='candle',\n",
      "/var/folders/0d/2q3_g9bj7tn1m1t1w5crmtvh0000gn/T/ipykernel_60235/2961503273.py:65: FutureWarning: Indexing a DataFrame with a datetimelike index using a single string to slice the rows, like `frame[string]`, is deprecated and will be removed in a future version. Use `frame.loc[string]` instead.\n",
      "  mpf.plot(stock_intraday[date],type='candle',\n",
      "/var/folders/0d/2q3_g9bj7tn1m1t1w5crmtvh0000gn/T/ipykernel_60235/2961503273.py:65: FutureWarning: Indexing a DataFrame with a datetimelike index using a single string to slice the rows, like `frame[string]`, is deprecated and will be removed in a future version. Use `frame.loc[string]` instead.\n",
      "  mpf.plot(stock_intraday[date],type='candle',\n"
     ]
    },
    {
     "name": "stdout",
     "output_type": "stream",
     "text": [
      "2022-09-06\n",
      "2022-09-07\n",
      "2022-09-08\n"
     ]
    },
    {
     "name": "stderr",
     "output_type": "stream",
     "text": [
      "/var/folders/0d/2q3_g9bj7tn1m1t1w5crmtvh0000gn/T/ipykernel_60235/2961503273.py:65: FutureWarning: Indexing a DataFrame with a datetimelike index using a single string to slice the rows, like `frame[string]`, is deprecated and will be removed in a future version. Use `frame.loc[string]` instead.\n",
      "  mpf.plot(stock_intraday[date],type='candle',\n",
      "/var/folders/0d/2q3_g9bj7tn1m1t1w5crmtvh0000gn/T/ipykernel_60235/2961503273.py:65: FutureWarning: Indexing a DataFrame with a datetimelike index using a single string to slice the rows, like `frame[string]`, is deprecated and will be removed in a future version. Use `frame.loc[string]` instead.\n",
      "  mpf.plot(stock_intraday[date],type='candle',\n",
      "/var/folders/0d/2q3_g9bj7tn1m1t1w5crmtvh0000gn/T/ipykernel_60235/2961503273.py:65: FutureWarning: Indexing a DataFrame with a datetimelike index using a single string to slice the rows, like `frame[string]`, is deprecated and will be removed in a future version. Use `frame.loc[string]` instead.\n",
      "  mpf.plot(stock_intraday[date],type='candle',\n"
     ]
    },
    {
     "name": "stdout",
     "output_type": "stream",
     "text": [
      "2022-09-09\n",
      "2022-09-12\n",
      "2022-09-13\n"
     ]
    },
    {
     "name": "stderr",
     "output_type": "stream",
     "text": [
      "/var/folders/0d/2q3_g9bj7tn1m1t1w5crmtvh0000gn/T/ipykernel_60235/2961503273.py:65: FutureWarning: Indexing a DataFrame with a datetimelike index using a single string to slice the rows, like `frame[string]`, is deprecated and will be removed in a future version. Use `frame.loc[string]` instead.\n",
      "  mpf.plot(stock_intraday[date],type='candle',\n",
      "/var/folders/0d/2q3_g9bj7tn1m1t1w5crmtvh0000gn/T/ipykernel_60235/2961503273.py:65: FutureWarning: Indexing a DataFrame with a datetimelike index using a single string to slice the rows, like `frame[string]`, is deprecated and will be removed in a future version. Use `frame.loc[string]` instead.\n",
      "  mpf.plot(stock_intraday[date],type='candle',\n",
      "/var/folders/0d/2q3_g9bj7tn1m1t1w5crmtvh0000gn/T/ipykernel_60235/2961503273.py:65: FutureWarning: Indexing a DataFrame with a datetimelike index using a single string to slice the rows, like `frame[string]`, is deprecated and will be removed in a future version. Use `frame.loc[string]` instead.\n",
      "  mpf.plot(stock_intraday[date],type='candle',\n",
      "/var/folders/0d/2q3_g9bj7tn1m1t1w5crmtvh0000gn/T/ipykernel_60235/2961503273.py:65: FutureWarning: Indexing a DataFrame with a datetimelike index using a single string to slice the rows, like `frame[string]`, is deprecated and will be removed in a future version. Use `frame.loc[string]` instead.\n",
      "  mpf.plot(stock_intraday[date],type='candle',\n"
     ]
    },
    {
     "name": "stdout",
     "output_type": "stream",
     "text": [
      "2022-09-14\n",
      "2022-09-15\n",
      "2022-09-16\n",
      "2022-09-19\n"
     ]
    },
    {
     "name": "stderr",
     "output_type": "stream",
     "text": [
      "/var/folders/0d/2q3_g9bj7tn1m1t1w5crmtvh0000gn/T/ipykernel_60235/2961503273.py:65: FutureWarning: Indexing a DataFrame with a datetimelike index using a single string to slice the rows, like `frame[string]`, is deprecated and will be removed in a future version. Use `frame.loc[string]` instead.\n",
      "  mpf.plot(stock_intraday[date],type='candle',\n",
      "/var/folders/0d/2q3_g9bj7tn1m1t1w5crmtvh0000gn/T/ipykernel_60235/2961503273.py:65: FutureWarning: Indexing a DataFrame with a datetimelike index using a single string to slice the rows, like `frame[string]`, is deprecated and will be removed in a future version. Use `frame.loc[string]` instead.\n",
      "  mpf.plot(stock_intraday[date],type='candle',\n",
      "/var/folders/0d/2q3_g9bj7tn1m1t1w5crmtvh0000gn/T/ipykernel_60235/2961503273.py:65: FutureWarning: Indexing a DataFrame with a datetimelike index using a single string to slice the rows, like `frame[string]`, is deprecated and will be removed in a future version. Use `frame.loc[string]` instead.\n",
      "  mpf.plot(stock_intraday[date],type='candle',\n"
     ]
    },
    {
     "name": "stdout",
     "output_type": "stream",
     "text": [
      "2022-09-20\n",
      "2022-09-21\n",
      "2022-09-22\n"
     ]
    },
    {
     "name": "stderr",
     "output_type": "stream",
     "text": [
      "/var/folders/0d/2q3_g9bj7tn1m1t1w5crmtvh0000gn/T/ipykernel_60235/2961503273.py:65: FutureWarning: Indexing a DataFrame with a datetimelike index using a single string to slice the rows, like `frame[string]`, is deprecated and will be removed in a future version. Use `frame.loc[string]` instead.\n",
      "  mpf.plot(stock_intraday[date],type='candle',\n",
      "/var/folders/0d/2q3_g9bj7tn1m1t1w5crmtvh0000gn/T/ipykernel_60235/2961503273.py:65: FutureWarning: Indexing a DataFrame with a datetimelike index using a single string to slice the rows, like `frame[string]`, is deprecated and will be removed in a future version. Use `frame.loc[string]` instead.\n",
      "  mpf.plot(stock_intraday[date],type='candle',\n",
      "/var/folders/0d/2q3_g9bj7tn1m1t1w5crmtvh0000gn/T/ipykernel_60235/2961503273.py:65: FutureWarning: Indexing a DataFrame with a datetimelike index using a single string to slice the rows, like `frame[string]`, is deprecated and will be removed in a future version. Use `frame.loc[string]` instead.\n",
      "  mpf.plot(stock_intraday[date],type='candle',\n",
      "/var/folders/0d/2q3_g9bj7tn1m1t1w5crmtvh0000gn/T/ipykernel_60235/2961503273.py:65: FutureWarning: Indexing a DataFrame with a datetimelike index using a single string to slice the rows, like `frame[string]`, is deprecated and will be removed in a future version. Use `frame.loc[string]` instead.\n",
      "  mpf.plot(stock_intraday[date],type='candle',\n"
     ]
    },
    {
     "name": "stdout",
     "output_type": "stream",
     "text": [
      "2022-09-23\n",
      "2022-09-26\n",
      "2022-09-27\n"
     ]
    },
    {
     "name": "stderr",
     "output_type": "stream",
     "text": [
      "/var/folders/0d/2q3_g9bj7tn1m1t1w5crmtvh0000gn/T/ipykernel_60235/2961503273.py:65: FutureWarning: Indexing a DataFrame with a datetimelike index using a single string to slice the rows, like `frame[string]`, is deprecated and will be removed in a future version. Use `frame.loc[string]` instead.\n",
      "  mpf.plot(stock_intraday[date],type='candle',\n",
      "/var/folders/0d/2q3_g9bj7tn1m1t1w5crmtvh0000gn/T/ipykernel_60235/2961503273.py:65: FutureWarning: Indexing a DataFrame with a datetimelike index using a single string to slice the rows, like `frame[string]`, is deprecated and will be removed in a future version. Use `frame.loc[string]` instead.\n",
      "  mpf.plot(stock_intraday[date],type='candle',\n",
      "/var/folders/0d/2q3_g9bj7tn1m1t1w5crmtvh0000gn/T/ipykernel_60235/2961503273.py:65: FutureWarning: Indexing a DataFrame with a datetimelike index using a single string to slice the rows, like `frame[string]`, is deprecated and will be removed in a future version. Use `frame.loc[string]` instead.\n",
      "  mpf.plot(stock_intraday[date],type='candle',\n"
     ]
    },
    {
     "name": "stdout",
     "output_type": "stream",
     "text": [
      "2022-09-28\n",
      "2022-09-29\n",
      "2022-09-30\n"
     ]
    },
    {
     "name": "stderr",
     "output_type": "stream",
     "text": [
      "/var/folders/0d/2q3_g9bj7tn1m1t1w5crmtvh0000gn/T/ipykernel_60235/2961503273.py:65: FutureWarning: Indexing a DataFrame with a datetimelike index using a single string to slice the rows, like `frame[string]`, is deprecated and will be removed in a future version. Use `frame.loc[string]` instead.\n",
      "  mpf.plot(stock_intraday[date],type='candle',\n",
      "/var/folders/0d/2q3_g9bj7tn1m1t1w5crmtvh0000gn/T/ipykernel_60235/2961503273.py:65: FutureWarning: Indexing a DataFrame with a datetimelike index using a single string to slice the rows, like `frame[string]`, is deprecated and will be removed in a future version. Use `frame.loc[string]` instead.\n",
      "  mpf.plot(stock_intraday[date],type='candle',\n",
      "/var/folders/0d/2q3_g9bj7tn1m1t1w5crmtvh0000gn/T/ipykernel_60235/2961503273.py:65: FutureWarning: Indexing a DataFrame with a datetimelike index using a single string to slice the rows, like `frame[string]`, is deprecated and will be removed in a future version. Use `frame.loc[string]` instead.\n",
      "  mpf.plot(stock_intraday[date],type='candle',\n",
      "/var/folders/0d/2q3_g9bj7tn1m1t1w5crmtvh0000gn/T/ipykernel_60235/2961503273.py:65: FutureWarning: Indexing a DataFrame with a datetimelike index using a single string to slice the rows, like `frame[string]`, is deprecated and will be removed in a future version. Use `frame.loc[string]` instead.\n",
      "  mpf.plot(stock_intraday[date],type='candle',\n"
     ]
    },
    {
     "name": "stdout",
     "output_type": "stream",
     "text": [
      "2022-10-03\n",
      "2022-10-04\n",
      "2022-10-05\n",
      "2022-10-06\n"
     ]
    },
    {
     "name": "stderr",
     "output_type": "stream",
     "text": [
      "/var/folders/0d/2q3_g9bj7tn1m1t1w5crmtvh0000gn/T/ipykernel_60235/2961503273.py:65: FutureWarning: Indexing a DataFrame with a datetimelike index using a single string to slice the rows, like `frame[string]`, is deprecated and will be removed in a future version. Use `frame.loc[string]` instead.\n",
      "  mpf.plot(stock_intraday[date],type='candle',\n",
      "/var/folders/0d/2q3_g9bj7tn1m1t1w5crmtvh0000gn/T/ipykernel_60235/2961503273.py:65: FutureWarning: Indexing a DataFrame with a datetimelike index using a single string to slice the rows, like `frame[string]`, is deprecated and will be removed in a future version. Use `frame.loc[string]` instead.\n",
      "  mpf.plot(stock_intraday[date],type='candle',\n",
      "/var/folders/0d/2q3_g9bj7tn1m1t1w5crmtvh0000gn/T/ipykernel_60235/2961503273.py:65: FutureWarning: Indexing a DataFrame with a datetimelike index using a single string to slice the rows, like `frame[string]`, is deprecated and will be removed in a future version. Use `frame.loc[string]` instead.\n",
      "  mpf.plot(stock_intraday[date],type='candle',\n"
     ]
    },
    {
     "name": "stdout",
     "output_type": "stream",
     "text": [
      "2022-10-07\n",
      "2022-10-10\n",
      "2022-10-11\n"
     ]
    },
    {
     "name": "stderr",
     "output_type": "stream",
     "text": [
      "/var/folders/0d/2q3_g9bj7tn1m1t1w5crmtvh0000gn/T/ipykernel_60235/2961503273.py:65: FutureWarning: Indexing a DataFrame with a datetimelike index using a single string to slice the rows, like `frame[string]`, is deprecated and will be removed in a future version. Use `frame.loc[string]` instead.\n",
      "  mpf.plot(stock_intraday[date],type='candle',\n",
      "/var/folders/0d/2q3_g9bj7tn1m1t1w5crmtvh0000gn/T/ipykernel_60235/2961503273.py:65: FutureWarning: Indexing a DataFrame with a datetimelike index using a single string to slice the rows, like `frame[string]`, is deprecated and will be removed in a future version. Use `frame.loc[string]` instead.\n",
      "  mpf.plot(stock_intraday[date],type='candle',\n",
      "/var/folders/0d/2q3_g9bj7tn1m1t1w5crmtvh0000gn/T/ipykernel_60235/2961503273.py:65: FutureWarning: Indexing a DataFrame with a datetimelike index using a single string to slice the rows, like `frame[string]`, is deprecated and will be removed in a future version. Use `frame.loc[string]` instead.\n",
      "  mpf.plot(stock_intraday[date],type='candle',\n",
      "/var/folders/0d/2q3_g9bj7tn1m1t1w5crmtvh0000gn/T/ipykernel_60235/2961503273.py:65: FutureWarning: Indexing a DataFrame with a datetimelike index using a single string to slice the rows, like `frame[string]`, is deprecated and will be removed in a future version. Use `frame.loc[string]` instead.\n",
      "  mpf.plot(stock_intraday[date],type='candle',\n"
     ]
    },
    {
     "name": "stdout",
     "output_type": "stream",
     "text": [
      "2022-10-12\n",
      "2022-10-13\n",
      "2022-10-14\n"
     ]
    },
    {
     "name": "stderr",
     "output_type": "stream",
     "text": [
      "/var/folders/0d/2q3_g9bj7tn1m1t1w5crmtvh0000gn/T/ipykernel_60235/2961503273.py:65: FutureWarning: Indexing a DataFrame with a datetimelike index using a single string to slice the rows, like `frame[string]`, is deprecated and will be removed in a future version. Use `frame.loc[string]` instead.\n",
      "  mpf.plot(stock_intraday[date],type='candle',\n",
      "/var/folders/0d/2q3_g9bj7tn1m1t1w5crmtvh0000gn/T/ipykernel_60235/2961503273.py:65: FutureWarning: Indexing a DataFrame with a datetimelike index using a single string to slice the rows, like `frame[string]`, is deprecated and will be removed in a future version. Use `frame.loc[string]` instead.\n",
      "  mpf.plot(stock_intraday[date],type='candle',\n"
     ]
    },
    {
     "name": "stdout",
     "output_type": "stream",
     "text": [
      "2022-10-17\n",
      "2022-10-18\n",
      "2022-10-19\n",
      "2022-10-20\n",
      "2022-10-21\n"
     ]
    },
    {
     "name": "stderr",
     "output_type": "stream",
     "text": [
      "/var/folders/0d/2q3_g9bj7tn1m1t1w5crmtvh0000gn/T/ipykernel_60235/2961503273.py:65: FutureWarning: Indexing a DataFrame with a datetimelike index using a single string to slice the rows, like `frame[string]`, is deprecated and will be removed in a future version. Use `frame.loc[string]` instead.\n",
      "  mpf.plot(stock_intraday[date],type='candle',\n",
      "/var/folders/0d/2q3_g9bj7tn1m1t1w5crmtvh0000gn/T/ipykernel_60235/2961503273.py:65: FutureWarning: Indexing a DataFrame with a datetimelike index using a single string to slice the rows, like `frame[string]`, is deprecated and will be removed in a future version. Use `frame.loc[string]` instead.\n",
      "  mpf.plot(stock_intraday[date],type='candle',\n",
      "/var/folders/0d/2q3_g9bj7tn1m1t1w5crmtvh0000gn/T/ipykernel_60235/2961503273.py:65: FutureWarning: Indexing a DataFrame with a datetimelike index using a single string to slice the rows, like `frame[string]`, is deprecated and will be removed in a future version. Use `frame.loc[string]` instead.\n",
      "  mpf.plot(stock_intraday[date],type='candle',\n",
      "/var/folders/0d/2q3_g9bj7tn1m1t1w5crmtvh0000gn/T/ipykernel_60235/2961503273.py:65: FutureWarning: Indexing a DataFrame with a datetimelike index using a single string to slice the rows, like `frame[string]`, is deprecated and will be removed in a future version. Use `frame.loc[string]` instead.\n",
      "  mpf.plot(stock_intraday[date],type='candle',\n"
     ]
    },
    {
     "name": "stdout",
     "output_type": "stream",
     "text": [
      "2022-10-24\n",
      "2022-10-25\n",
      "2022-10-26\n"
     ]
    },
    {
     "name": "stderr",
     "output_type": "stream",
     "text": [
      "/var/folders/0d/2q3_g9bj7tn1m1t1w5crmtvh0000gn/T/ipykernel_60235/2961503273.py:65: FutureWarning: Indexing a DataFrame with a datetimelike index using a single string to slice the rows, like `frame[string]`, is deprecated and will be removed in a future version. Use `frame.loc[string]` instead.\n",
      "  mpf.plot(stock_intraday[date],type='candle',\n",
      "/var/folders/0d/2q3_g9bj7tn1m1t1w5crmtvh0000gn/T/ipykernel_60235/2961503273.py:65: FutureWarning: Indexing a DataFrame with a datetimelike index using a single string to slice the rows, like `frame[string]`, is deprecated and will be removed in a future version. Use `frame.loc[string]` instead.\n",
      "  mpf.plot(stock_intraday[date],type='candle',\n",
      "/var/folders/0d/2q3_g9bj7tn1m1t1w5crmtvh0000gn/T/ipykernel_60235/2961503273.py:65: FutureWarning: Indexing a DataFrame with a datetimelike index using a single string to slice the rows, like `frame[string]`, is deprecated and will be removed in a future version. Use `frame.loc[string]` instead.\n",
      "  mpf.plot(stock_intraday[date],type='candle',\n"
     ]
    },
    {
     "name": "stdout",
     "output_type": "stream",
     "text": [
      "2022-10-27\n",
      "2022-10-28\n",
      "2022-10-31\n"
     ]
    },
    {
     "name": "stderr",
     "output_type": "stream",
     "text": [
      "/var/folders/0d/2q3_g9bj7tn1m1t1w5crmtvh0000gn/T/ipykernel_60235/2961503273.py:65: FutureWarning: Indexing a DataFrame with a datetimelike index using a single string to slice the rows, like `frame[string]`, is deprecated and will be removed in a future version. Use `frame.loc[string]` instead.\n",
      "  mpf.plot(stock_intraday[date],type='candle',\n",
      "/var/folders/0d/2q3_g9bj7tn1m1t1w5crmtvh0000gn/T/ipykernel_60235/2961503273.py:65: FutureWarning: Indexing a DataFrame with a datetimelike index using a single string to slice the rows, like `frame[string]`, is deprecated and will be removed in a future version. Use `frame.loc[string]` instead.\n",
      "  mpf.plot(stock_intraday[date],type='candle',\n",
      "/var/folders/0d/2q3_g9bj7tn1m1t1w5crmtvh0000gn/T/ipykernel_60235/2961503273.py:65: FutureWarning: Indexing a DataFrame with a datetimelike index using a single string to slice the rows, like `frame[string]`, is deprecated and will be removed in a future version. Use `frame.loc[string]` instead.\n",
      "  mpf.plot(stock_intraday[date],type='candle',\n",
      "/var/folders/0d/2q3_g9bj7tn1m1t1w5crmtvh0000gn/T/ipykernel_60235/2961503273.py:65: FutureWarning: Indexing a DataFrame with a datetimelike index using a single string to slice the rows, like `frame[string]`, is deprecated and will be removed in a future version. Use `frame.loc[string]` instead.\n",
      "  mpf.plot(stock_intraday[date],type='candle',\n"
     ]
    },
    {
     "name": "stdout",
     "output_type": "stream",
     "text": [
      "2022-11-01\n",
      "2022-11-02\n",
      "2022-11-03\n"
     ]
    },
    {
     "name": "stderr",
     "output_type": "stream",
     "text": [
      "/var/folders/0d/2q3_g9bj7tn1m1t1w5crmtvh0000gn/T/ipykernel_60235/2961503273.py:65: FutureWarning: Indexing a DataFrame with a datetimelike index using a single string to slice the rows, like `frame[string]`, is deprecated and will be removed in a future version. Use `frame.loc[string]` instead.\n",
      "  mpf.plot(stock_intraday[date],type='candle',\n",
      "/var/folders/0d/2q3_g9bj7tn1m1t1w5crmtvh0000gn/T/ipykernel_60235/2961503273.py:65: FutureWarning: Indexing a DataFrame with a datetimelike index using a single string to slice the rows, like `frame[string]`, is deprecated and will be removed in a future version. Use `frame.loc[string]` instead.\n",
      "  mpf.plot(stock_intraday[date],type='candle',\n",
      "/var/folders/0d/2q3_g9bj7tn1m1t1w5crmtvh0000gn/T/ipykernel_60235/2961503273.py:65: FutureWarning: Indexing a DataFrame with a datetimelike index using a single string to slice the rows, like `frame[string]`, is deprecated and will be removed in a future version. Use `frame.loc[string]` instead.\n",
      "  mpf.plot(stock_intraday[date],type='candle',\n"
     ]
    },
    {
     "name": "stdout",
     "output_type": "stream",
     "text": [
      "2022-11-04\n",
      "2022-11-07\n",
      "2022-11-08\n"
     ]
    },
    {
     "name": "stderr",
     "output_type": "stream",
     "text": [
      "/var/folders/0d/2q3_g9bj7tn1m1t1w5crmtvh0000gn/T/ipykernel_60235/2961503273.py:65: FutureWarning: Indexing a DataFrame with a datetimelike index using a single string to slice the rows, like `frame[string]`, is deprecated and will be removed in a future version. Use `frame.loc[string]` instead.\n",
      "  mpf.plot(stock_intraday[date],type='candle',\n",
      "/var/folders/0d/2q3_g9bj7tn1m1t1w5crmtvh0000gn/T/ipykernel_60235/2961503273.py:65: FutureWarning: Indexing a DataFrame with a datetimelike index using a single string to slice the rows, like `frame[string]`, is deprecated and will be removed in a future version. Use `frame.loc[string]` instead.\n",
      "  mpf.plot(stock_intraday[date],type='candle',\n",
      "/var/folders/0d/2q3_g9bj7tn1m1t1w5crmtvh0000gn/T/ipykernel_60235/2961503273.py:65: FutureWarning: Indexing a DataFrame with a datetimelike index using a single string to slice the rows, like `frame[string]`, is deprecated and will be removed in a future version. Use `frame.loc[string]` instead.\n",
      "  mpf.plot(stock_intraday[date],type='candle',\n",
      "/var/folders/0d/2q3_g9bj7tn1m1t1w5crmtvh0000gn/T/ipykernel_60235/2961503273.py:65: FutureWarning: Indexing a DataFrame with a datetimelike index using a single string to slice the rows, like `frame[string]`, is deprecated and will be removed in a future version. Use `frame.loc[string]` instead.\n",
      "  mpf.plot(stock_intraday[date],type='candle',\n"
     ]
    },
    {
     "name": "stdout",
     "output_type": "stream",
     "text": [
      "2022-11-09\n",
      "2022-11-10\n",
      "2022-11-11\n",
      "2022-11-14\n"
     ]
    },
    {
     "name": "stderr",
     "output_type": "stream",
     "text": [
      "/var/folders/0d/2q3_g9bj7tn1m1t1w5crmtvh0000gn/T/ipykernel_60235/2961503273.py:65: FutureWarning: Indexing a DataFrame with a datetimelike index using a single string to slice the rows, like `frame[string]`, is deprecated and will be removed in a future version. Use `frame.loc[string]` instead.\n",
      "  mpf.plot(stock_intraday[date],type='candle',\n"
     ]
    },
    {
     "ename": "KeyError",
     "evalue": "'2022-11-14'",
     "output_type": "error",
     "traceback": [
      "\u001b[0;31m---------------------------------------------------------------------------\u001b[0m",
      "\u001b[0;31mKeyError\u001b[0m                                  Traceback (most recent call last)",
      "\u001b[0;32m~/opt/anaconda3/lib/python3.9/site-packages/pandas/core/indexes/base.py\u001b[0m in \u001b[0;36mget_loc\u001b[0;34m(self, key, method, tolerance)\u001b[0m\n\u001b[1;32m   3628\u001b[0m             \u001b[0;32mtry\u001b[0m\u001b[0;34m:\u001b[0m\u001b[0;34m\u001b[0m\u001b[0;34m\u001b[0m\u001b[0m\n\u001b[0;32m-> 3629\u001b[0;31m                 \u001b[0;32mreturn\u001b[0m \u001b[0mself\u001b[0m\u001b[0;34m.\u001b[0m\u001b[0m_engine\u001b[0m\u001b[0;34m.\u001b[0m\u001b[0mget_loc\u001b[0m\u001b[0;34m(\u001b[0m\u001b[0mcasted_key\u001b[0m\u001b[0;34m)\u001b[0m\u001b[0;34m\u001b[0m\u001b[0;34m\u001b[0m\u001b[0m\n\u001b[0m\u001b[1;32m   3630\u001b[0m             \u001b[0;32mexcept\u001b[0m \u001b[0mKeyError\u001b[0m \u001b[0;32mas\u001b[0m \u001b[0merr\u001b[0m\u001b[0;34m:\u001b[0m\u001b[0;34m\u001b[0m\u001b[0;34m\u001b[0m\u001b[0m\n",
      "\u001b[0;32m~/opt/anaconda3/lib/python3.9/site-packages/pandas/_libs/index.pyx\u001b[0m in \u001b[0;36mpandas._libs.index.IndexEngine.get_loc\u001b[0;34m()\u001b[0m\n",
      "\u001b[0;32m~/opt/anaconda3/lib/python3.9/site-packages/pandas/_libs/index.pyx\u001b[0m in \u001b[0;36mpandas._libs.index.IndexEngine.get_loc\u001b[0;34m()\u001b[0m\n",
      "\u001b[0;32mpandas/_libs/hashtable_class_helper.pxi\u001b[0m in \u001b[0;36mpandas._libs.hashtable.PyObjectHashTable.get_item\u001b[0;34m()\u001b[0m\n",
      "\u001b[0;32mpandas/_libs/hashtable_class_helper.pxi\u001b[0m in \u001b[0;36mpandas._libs.hashtable.PyObjectHashTable.get_item\u001b[0;34m()\u001b[0m\n",
      "\u001b[0;31mKeyError\u001b[0m: '2022-11-14'",
      "\nThe above exception was the direct cause of the following exception:\n",
      "\u001b[0;31mKeyError\u001b[0m                                  Traceback (most recent call last)",
      "\u001b[0;32m/var/folders/0d/2q3_g9bj7tn1m1t1w5crmtvh0000gn/T/ipykernel_60235/2961503273.py\u001b[0m in \u001b[0;36m<module>\u001b[0;34m\u001b[0m\n\u001b[1;32m     63\u001b[0m     \u001b[0myes_low\u001b[0m\u001b[0;34m=\u001b[0m\u001b[0mdaily_pivot\u001b[0m\u001b[0;34m.\u001b[0m\u001b[0mshift\u001b[0m\u001b[0;34m(\u001b[0m\u001b[0;36m1\u001b[0m\u001b[0;34m)\u001b[0m\u001b[0;34m.\u001b[0m\u001b[0mloc\u001b[0m\u001b[0;34m[\u001b[0m\u001b[0mdate\u001b[0m\u001b[0;34m]\u001b[0m\u001b[0;34m[\u001b[0m\u001b[0;34m\"Low\"\u001b[0m\u001b[0;34m]\u001b[0m\u001b[0;34m\u001b[0m\u001b[0;34m\u001b[0m\u001b[0m\n\u001b[1;32m     64\u001b[0m \u001b[0;34m\u001b[0m\u001b[0m\n\u001b[0;32m---> 65\u001b[0;31m     mpf.plot(stock_intraday[date],type='candle',\n\u001b[0m\u001b[1;32m     66\u001b[0m              hlines=dict(hlines=[daily_pp,daily_bc,daily_tc,daily_r1,daily_s1,daily_r2,daily_s2,weekly_pp,weekly_r1,weekly_s1,monthly_pp,monthly_r1,monthly_s1,yes_high,yes_low],\n\u001b[1;32m     67\u001b[0m                         \u001b[0mcolors\u001b[0m\u001b[0;34m=\u001b[0m\u001b[0;34m[\u001b[0m\u001b[0;34m'b'\u001b[0m\u001b[0;34m,\u001b[0m\u001b[0;34m'b'\u001b[0m\u001b[0;34m,\u001b[0m\u001b[0;34m'b'\u001b[0m\u001b[0;34m,\u001b[0m\u001b[0;34m'b'\u001b[0m\u001b[0;34m,\u001b[0m\u001b[0;34m'b'\u001b[0m\u001b[0;34m,\u001b[0m\u001b[0;34m'c'\u001b[0m\u001b[0;34m,\u001b[0m\u001b[0;34m'c'\u001b[0m\u001b[0;34m,\u001b[0m\u001b[0;34m'r'\u001b[0m\u001b[0;34m,\u001b[0m\u001b[0;34m'r'\u001b[0m\u001b[0;34m,\u001b[0m\u001b[0;34m'r'\u001b[0m\u001b[0;34m,\u001b[0m\u001b[0;34m'g'\u001b[0m\u001b[0;34m,\u001b[0m\u001b[0;34m'g'\u001b[0m\u001b[0;34m,\u001b[0m\u001b[0;34m'g'\u001b[0m\u001b[0;34m,\u001b[0m\u001b[0;34m'k'\u001b[0m\u001b[0;34m,\u001b[0m\u001b[0;34m'k'\u001b[0m\u001b[0;34m]\u001b[0m\u001b[0;34m,\u001b[0m\u001b[0;34m\u001b[0m\u001b[0;34m\u001b[0m\u001b[0m\n",
      "\u001b[0;32m~/opt/anaconda3/lib/python3.9/site-packages/pandas/core/frame.py\u001b[0m in \u001b[0;36m__getitem__\u001b[0;34m(self, key)\u001b[0m\n\u001b[1;32m   3503\u001b[0m             \u001b[0;32mif\u001b[0m \u001b[0mself\u001b[0m\u001b[0;34m.\u001b[0m\u001b[0mcolumns\u001b[0m\u001b[0;34m.\u001b[0m\u001b[0mnlevels\u001b[0m \u001b[0;34m>\u001b[0m \u001b[0;36m1\u001b[0m\u001b[0;34m:\u001b[0m\u001b[0;34m\u001b[0m\u001b[0;34m\u001b[0m\u001b[0m\n\u001b[1;32m   3504\u001b[0m                 \u001b[0;32mreturn\u001b[0m \u001b[0mself\u001b[0m\u001b[0;34m.\u001b[0m\u001b[0m_getitem_multilevel\u001b[0m\u001b[0;34m(\u001b[0m\u001b[0mkey\u001b[0m\u001b[0;34m)\u001b[0m\u001b[0;34m\u001b[0m\u001b[0;34m\u001b[0m\u001b[0m\n\u001b[0;32m-> 3505\u001b[0;31m             \u001b[0mindexer\u001b[0m \u001b[0;34m=\u001b[0m \u001b[0mself\u001b[0m\u001b[0;34m.\u001b[0m\u001b[0mcolumns\u001b[0m\u001b[0;34m.\u001b[0m\u001b[0mget_loc\u001b[0m\u001b[0;34m(\u001b[0m\u001b[0mkey\u001b[0m\u001b[0;34m)\u001b[0m\u001b[0;34m\u001b[0m\u001b[0;34m\u001b[0m\u001b[0m\n\u001b[0m\u001b[1;32m   3506\u001b[0m             \u001b[0;32mif\u001b[0m \u001b[0mis_integer\u001b[0m\u001b[0;34m(\u001b[0m\u001b[0mindexer\u001b[0m\u001b[0;34m)\u001b[0m\u001b[0;34m:\u001b[0m\u001b[0;34m\u001b[0m\u001b[0;34m\u001b[0m\u001b[0m\n\u001b[1;32m   3507\u001b[0m                 \u001b[0mindexer\u001b[0m \u001b[0;34m=\u001b[0m \u001b[0;34m[\u001b[0m\u001b[0mindexer\u001b[0m\u001b[0;34m]\u001b[0m\u001b[0;34m\u001b[0m\u001b[0;34m\u001b[0m\u001b[0m\n",
      "\u001b[0;32m~/opt/anaconda3/lib/python3.9/site-packages/pandas/core/indexes/base.py\u001b[0m in \u001b[0;36mget_loc\u001b[0;34m(self, key, method, tolerance)\u001b[0m\n\u001b[1;32m   3629\u001b[0m                 \u001b[0;32mreturn\u001b[0m \u001b[0mself\u001b[0m\u001b[0;34m.\u001b[0m\u001b[0m_engine\u001b[0m\u001b[0;34m.\u001b[0m\u001b[0mget_loc\u001b[0m\u001b[0;34m(\u001b[0m\u001b[0mcasted_key\u001b[0m\u001b[0;34m)\u001b[0m\u001b[0;34m\u001b[0m\u001b[0;34m\u001b[0m\u001b[0m\n\u001b[1;32m   3630\u001b[0m             \u001b[0;32mexcept\u001b[0m \u001b[0mKeyError\u001b[0m \u001b[0;32mas\u001b[0m \u001b[0merr\u001b[0m\u001b[0;34m:\u001b[0m\u001b[0;34m\u001b[0m\u001b[0;34m\u001b[0m\u001b[0m\n\u001b[0;32m-> 3631\u001b[0;31m                 \u001b[0;32mraise\u001b[0m \u001b[0mKeyError\u001b[0m\u001b[0;34m(\u001b[0m\u001b[0mkey\u001b[0m\u001b[0;34m)\u001b[0m \u001b[0;32mfrom\u001b[0m \u001b[0merr\u001b[0m\u001b[0;34m\u001b[0m\u001b[0;34m\u001b[0m\u001b[0m\n\u001b[0m\u001b[1;32m   3632\u001b[0m             \u001b[0;32mexcept\u001b[0m \u001b[0mTypeError\u001b[0m\u001b[0;34m:\u001b[0m\u001b[0;34m\u001b[0m\u001b[0;34m\u001b[0m\u001b[0m\n\u001b[1;32m   3633\u001b[0m                 \u001b[0;31m# If we have a listlike key, _check_indexing_error will raise\u001b[0m\u001b[0;34m\u001b[0m\u001b[0;34m\u001b[0m\u001b[0m\n",
      "\u001b[0;31mKeyError\u001b[0m: '2022-11-14'"
     ]
    }
   ],
   "source": [
    "for i in range(len(stock_daily)):\n",
    "    date_datetime=stock_daily.index[i]\n",
    "    date=date_datetime.strftime(\"%Y-%m-%d\")\n",
    "    \n",
    "    print(date)\n",
    "    #plot daily pivots\n",
    "    daily_pp=daily_pivot.loc[date][\"PP\"]\n",
    "    daily_bc=daily_pivot.loc[date][\"BC\"]\n",
    "    daily_tc=daily_pivot.loc[date][\"TC\"]\n",
    "\n",
    "    daily_r1=daily_pivot.loc[date][\"R1\"]\n",
    "    daily_s1=daily_pivot.loc[date][\"S1\"]\n",
    "    \n",
    "    #if stock_daily.loc[date][\"Low\"]<daily_pivot.loc[date][\"R2\"]<stock_daily.loc[date][\"High\"]:\n",
    "    daily_r2=daily_pivot.loc[date][\"R2\"]\n",
    "    #else:\n",
    "    #daily_r2=np.nan\n",
    "        \n",
    "    #if stock_daily.loc[date][\"Low\"]<daily_pivot.loc[date][\"S2\"]<stock_daily.loc[date][\"High\"]:\n",
    "    daily_s2=daily_pivot.loc[date][\"S2\"]\n",
    "    #else:\n",
    "    #daily_s2=np.nan    \n",
    "\n",
    "    i=0\n",
    "    j=0\n",
    "    #plot weekly pivots\n",
    "    for i in range(len(weekly_pivot)):\n",
    "        if weekly_pivot[\"week\"][i]==date1.isocalendar().week and weekly_pivot[\"year\"][i]==date1.year:\n",
    "            index_week=i\n",
    "    if stock_daily.loc[date][\"Low\"]<weekly_pivot.iloc[index_week:][\"PP\"][0]<stock_daily.loc[date][\"High\"]:\n",
    "        weekly_pp=weekly_pivot.iloc[index_week:][\"PP\"][0]\n",
    "    else:\n",
    "        weekly_pp=np.nan\n",
    "\n",
    "    if stock_daily.loc[date][\"Low\"]<weekly_pivot.iloc[index_week:][\"R1\"][0]<stock_daily.loc[date][\"High\"]:\n",
    "        weekly_r1=weekly_pivot.iloc[index_week:][\"R1\"][0]\n",
    "    else:\n",
    "        weekly_r1=np.nan\n",
    "    if stock_daily.loc[date][\"Low\"]<weekly_pivot.iloc[index_week:][\"S1\"][0]<stock_daily.loc[date][\"High\"]:\n",
    "        weekly_s1=weekly_pivot.iloc[index_week:][\"S1\"][0]\n",
    "    else:\n",
    "        weekly_s1=np.nan\n",
    "\n",
    "    for j in range(len(monthly_pivot)):\n",
    "        if monthly_pivot[\"month\"][j]==date1.month and monthly_pivot[\"year\"][j]==date1.year:\n",
    "            index_month=j\n",
    "\n",
    "    #plot monthly pivots\n",
    "    if stock_daily.loc[date][\"Low\"]<monthly_pivot.iloc[index_month:]['PP'][0]<stock_daily.loc[date][\"High\"]:\n",
    "        monthly_pp=monthly_pivot.iloc[index_month:]['PP'][0]\n",
    "    else:\n",
    "        monthly_pp=np.nan\n",
    "    if stock_daily.loc[date][\"Low\"]<monthly_pivot.iloc[index_month:]['R1'][0]<stock_daily.loc[date][\"High\"]:\n",
    "        monthly_r1=monthly_pivot.iloc[index_month:]['R1'][0]\n",
    "    else:\n",
    "        monthly_r1=np.nan\n",
    "    if stock_daily.loc[date][\"Low\"]<monthly_pivot.iloc[index_month:]['S1'][0]<stock_daily.loc[date][\"High\"]:\n",
    "        monthly_s1=monthly_pivot.iloc[index_month:]['S1'][0]\n",
    "    else:\n",
    "        monthly_s1=np.nan\n",
    "\n",
    "    yes_high=daily_pivot.shift(1).loc[date][\"High\"]\n",
    "    yes_low=daily_pivot.shift(1).loc[date][\"Low\"]\n",
    "\n",
    "    mpf.plot(stock_intraday[date],type='candle',\n",
    "             hlines=dict(hlines=[daily_pp,daily_bc,daily_tc,daily_r1,daily_s1,daily_r2,daily_s2,weekly_pp,weekly_r1,weekly_s1,monthly_pp,monthly_r1,monthly_s1,yes_high,yes_low],\n",
    "                        colors=['b','b','b','b','b','c','c','r','r','r','g','g','g','k','k'],\n",
    "                        linestyle=['-','--','--','--','--','--','--','-','--','--','-','--','--','-','-']),\n",
    "             title=date,\n",
    "            savefig='pivot_candle_all_level_visible/2022/'+date+'.png')\n",
    "    #plt.clf()\n",
    "    "
   ]
  },
  {
   "cell_type": "code",
   "execution_count": null,
   "id": "9e15f89b",
   "metadata": {},
   "outputs": [],
   "source": []
  },
  {
   "cell_type": "code",
   "execution_count": null,
   "id": "b8c15a0f",
   "metadata": {},
   "outputs": [],
   "source": []
  }
 ],
 "metadata": {
  "kernelspec": {
   "display_name": "Python 3 (ipykernel)",
   "language": "python",
   "name": "python3"
  },
  "language_info": {
   "codemirror_mode": {
    "name": "ipython",
    "version": 3
   },
   "file_extension": ".py",
   "mimetype": "text/x-python",
   "name": "python",
   "nbconvert_exporter": "python",
   "pygments_lexer": "ipython3",
   "version": "3.9.7"
  }
 },
 "nbformat": 4,
 "nbformat_minor": 5
}
