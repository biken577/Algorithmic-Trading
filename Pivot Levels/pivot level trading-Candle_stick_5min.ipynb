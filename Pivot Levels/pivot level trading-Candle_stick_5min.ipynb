{
 "cells": [
  {
   "cell_type": "code",
   "execution_count": 1,
   "id": "b255e692",
   "metadata": {},
   "outputs": [],
   "source": [
    "import matplotlib.pyplot as plt\n",
    "import yfinance as yf\n",
    "import pandas as pd"
   ]
  },
  {
   "cell_type": "code",
   "execution_count": 2,
   "id": "005ab6c4",
   "metadata": {},
   "outputs": [],
   "source": [
    "def VWAP(DF):\n",
    "    df=DF.copy()\n",
    "    df[\"typ\"]=(df[\"High\"]+df[\"Low\"]+df[\"Close\"])/3\n",
    "    df[\"typ_vol\"]=df[\"typ\"]*df[\"Volume\"]\n",
    "    df[\"cum_typ_vol\"]=df[\"typ_vol\"].cumsum()\n",
    "    df[\"cum_vol\"]=df[\"Volume\"].cumsum()\n",
    "    df[\"vwap\"]=df[\"cum_typ_vol\"]/df[\"cum_vol\"]\n",
    "    return df[\"vwap\"]"
   ]
  },
  {
   "cell_type": "code",
   "execution_count": 3,
   "id": "92e33e7f",
   "metadata": {},
   "outputs": [],
   "source": [
    "ticker='spy'"
   ]
  },
  {
   "cell_type": "code",
   "execution_count": 4,
   "id": "87c5c60b",
   "metadata": {},
   "outputs": [
    {
     "data": {
      "text/html": [
       "<div>\n",
       "<style scoped>\n",
       "    .dataframe tbody tr th:only-of-type {\n",
       "        vertical-align: middle;\n",
       "    }\n",
       "\n",
       "    .dataframe tbody tr th {\n",
       "        vertical-align: top;\n",
       "    }\n",
       "\n",
       "    .dataframe thead th {\n",
       "        text-align: right;\n",
       "    }\n",
       "</style>\n",
       "<table border=\"1\" class=\"dataframe\">\n",
       "  <thead>\n",
       "    <tr style=\"text-align: right;\">\n",
       "      <th></th>\n",
       "      <th>Datetime</th>\n",
       "      <th>Open</th>\n",
       "      <th>High</th>\n",
       "      <th>Low</th>\n",
       "      <th>Close</th>\n",
       "      <th>Volume</th>\n",
       "      <th>hours</th>\n",
       "      <th>Adj Close</th>\n",
       "    </tr>\n",
       "    <tr>\n",
       "      <th>Datetime</th>\n",
       "      <th></th>\n",
       "      <th></th>\n",
       "      <th></th>\n",
       "      <th></th>\n",
       "      <th></th>\n",
       "      <th></th>\n",
       "      <th></th>\n",
       "      <th></th>\n",
       "    </tr>\n",
       "  </thead>\n",
       "  <tbody>\n",
       "    <tr>\n",
       "      <th>2005-01-03 09:30:00</th>\n",
       "      <td>2005-01-03 09:30:00</td>\n",
       "      <td>87.0610</td>\n",
       "      <td>87.1326</td>\n",
       "      <td>87.0109</td>\n",
       "      <td>87.1111</td>\n",
       "      <td>1251700</td>\n",
       "      <td>intraday</td>\n",
       "      <td>87.1111</td>\n",
       "    </tr>\n",
       "    <tr>\n",
       "      <th>2005-01-03 09:35:00</th>\n",
       "      <td>2005-01-03 09:35:00</td>\n",
       "      <td>87.1111</td>\n",
       "      <td>87.2042</td>\n",
       "      <td>87.0968</td>\n",
       "      <td>87.1827</td>\n",
       "      <td>934900</td>\n",
       "      <td>intraday</td>\n",
       "      <td>87.1827</td>\n",
       "    </tr>\n",
       "    <tr>\n",
       "      <th>2005-01-03 09:40:00</th>\n",
       "      <td>2005-01-03 09:40:00</td>\n",
       "      <td>87.1541</td>\n",
       "      <td>87.1684</td>\n",
       "      <td>87.0968</td>\n",
       "      <td>87.1326</td>\n",
       "      <td>865500</td>\n",
       "      <td>intraday</td>\n",
       "      <td>87.1326</td>\n",
       "    </tr>\n",
       "    <tr>\n",
       "      <th>2005-01-03 09:45:00</th>\n",
       "      <td>2005-01-03 09:45:00</td>\n",
       "      <td>87.1326</td>\n",
       "      <td>87.1684</td>\n",
       "      <td>87.0753</td>\n",
       "      <td>87.0968</td>\n",
       "      <td>584700</td>\n",
       "      <td>intraday</td>\n",
       "      <td>87.0968</td>\n",
       "    </tr>\n",
       "    <tr>\n",
       "      <th>2005-01-03 09:50:00</th>\n",
       "      <td>2005-01-03 09:50:00</td>\n",
       "      <td>87.1326</td>\n",
       "      <td>87.1326</td>\n",
       "      <td>87.0180</td>\n",
       "      <td>87.0180</td>\n",
       "      <td>621600</td>\n",
       "      <td>intraday</td>\n",
       "      <td>87.0180</td>\n",
       "    </tr>\n",
       "    <tr>\n",
       "      <th>...</th>\n",
       "      <td>...</td>\n",
       "      <td>...</td>\n",
       "      <td>...</td>\n",
       "      <td>...</td>\n",
       "      <td>...</td>\n",
       "      <td>...</td>\n",
       "      <td>...</td>\n",
       "      <td>...</td>\n",
       "    </tr>\n",
       "    <tr>\n",
       "      <th>2022-11-25 15:30:00</th>\n",
       "      <td>2022-11-25 15:30:00</td>\n",
       "      <td>402.3600</td>\n",
       "      <td>402.3600</td>\n",
       "      <td>402.3600</td>\n",
       "      <td>402.3600</td>\n",
       "      <td>100</td>\n",
       "      <td>intraday</td>\n",
       "      <td>402.3600</td>\n",
       "    </tr>\n",
       "    <tr>\n",
       "      <th>2022-11-25 15:35:00</th>\n",
       "      <td>2022-11-25 15:35:00</td>\n",
       "      <td>402.4800</td>\n",
       "      <td>402.4800</td>\n",
       "      <td>402.4800</td>\n",
       "      <td>402.4800</td>\n",
       "      <td>900</td>\n",
       "      <td>intraday</td>\n",
       "      <td>402.4800</td>\n",
       "    </tr>\n",
       "    <tr>\n",
       "      <th>2022-11-25 15:40:00</th>\n",
       "      <td>2022-11-25 15:40:00</td>\n",
       "      <td>402.4800</td>\n",
       "      <td>402.4800</td>\n",
       "      <td>402.3900</td>\n",
       "      <td>402.3900</td>\n",
       "      <td>611</td>\n",
       "      <td>intraday</td>\n",
       "      <td>402.3900</td>\n",
       "    </tr>\n",
       "    <tr>\n",
       "      <th>2022-11-25 15:50:00</th>\n",
       "      <td>2022-11-25 15:50:00</td>\n",
       "      <td>402.4700</td>\n",
       "      <td>402.4700</td>\n",
       "      <td>402.3500</td>\n",
       "      <td>402.3500</td>\n",
       "      <td>1023</td>\n",
       "      <td>intraday</td>\n",
       "      <td>402.3500</td>\n",
       "    </tr>\n",
       "    <tr>\n",
       "      <th>2022-11-25 15:55:00</th>\n",
       "      <td>2022-11-25 15:55:00</td>\n",
       "      <td>402.3700</td>\n",
       "      <td>402.3700</td>\n",
       "      <td>402.3700</td>\n",
       "      <td>402.3700</td>\n",
       "      <td>100</td>\n",
       "      <td>intraday</td>\n",
       "      <td>402.3700</td>\n",
       "    </tr>\n",
       "  </tbody>\n",
       "</table>\n",
       "<p>351269 rows × 8 columns</p>\n",
       "</div>"
      ],
      "text/plain": [
       "                               Datetime      Open      High       Low  \\\n",
       "Datetime                                                                \n",
       "2005-01-03 09:30:00 2005-01-03 09:30:00   87.0610   87.1326   87.0109   \n",
       "2005-01-03 09:35:00 2005-01-03 09:35:00   87.1111   87.2042   87.0968   \n",
       "2005-01-03 09:40:00 2005-01-03 09:40:00   87.1541   87.1684   87.0968   \n",
       "2005-01-03 09:45:00 2005-01-03 09:45:00   87.1326   87.1684   87.0753   \n",
       "2005-01-03 09:50:00 2005-01-03 09:50:00   87.1326   87.1326   87.0180   \n",
       "...                                 ...       ...       ...       ...   \n",
       "2022-11-25 15:30:00 2022-11-25 15:30:00  402.3600  402.3600  402.3600   \n",
       "2022-11-25 15:35:00 2022-11-25 15:35:00  402.4800  402.4800  402.4800   \n",
       "2022-11-25 15:40:00 2022-11-25 15:40:00  402.4800  402.4800  402.3900   \n",
       "2022-11-25 15:50:00 2022-11-25 15:50:00  402.4700  402.4700  402.3500   \n",
       "2022-11-25 15:55:00 2022-11-25 15:55:00  402.3700  402.3700  402.3700   \n",
       "\n",
       "                        Close   Volume     hours  Adj Close  \n",
       "Datetime                                                     \n",
       "2005-01-03 09:30:00   87.1111  1251700  intraday    87.1111  \n",
       "2005-01-03 09:35:00   87.1827   934900  intraday    87.1827  \n",
       "2005-01-03 09:40:00   87.1326   865500  intraday    87.1326  \n",
       "2005-01-03 09:45:00   87.0968   584700  intraday    87.0968  \n",
       "2005-01-03 09:50:00   87.0180   621600  intraday    87.0180  \n",
       "...                       ...      ...       ...        ...  \n",
       "2022-11-25 15:30:00  402.3600      100  intraday   402.3600  \n",
       "2022-11-25 15:35:00  402.4800      900  intraday   402.4800  \n",
       "2022-11-25 15:40:00  402.3900      611  intraday   402.3900  \n",
       "2022-11-25 15:50:00  402.3500     1023  intraday   402.3500  \n",
       "2022-11-25 15:55:00  402.3700      100  intraday   402.3700  \n",
       "\n",
       "[351269 rows x 8 columns]"
      ]
     },
     "execution_count": 4,
     "metadata": {},
     "output_type": "execute_result"
    }
   ],
   "source": [
    "stock_intraday=pd.read_csv(\"SPY_intraday.csv\")\n",
    "stock_intraday[\"Datetime\"]=pd.to_datetime(stock_intraday[\"Datetime\"])\n",
    "stock_intraday[\"Adj Close\"]=stock_intraday[\"Close\"]\n",
    "#might drop \"Close\"\n",
    "stock_intraday.index=stock_intraday[\"Datetime\"]\n",
    "#might drop \"Datetime\"\n",
    "stock_intraday"
   ]
  },
  {
   "cell_type": "code",
   "execution_count": 5,
   "id": "3be25161",
   "metadata": {},
   "outputs": [],
   "source": [
    "#stock_intraday=yf.download(ticker,period='60d',interval='5m')\n",
    "#stock_intraday"
   ]
  },
  {
   "cell_type": "code",
   "execution_count": 6,
   "id": "90c2380c",
   "metadata": {},
   "outputs": [
    {
     "name": "stdout",
     "output_type": "stream",
     "text": [
      "[*********************100%***********************]  1 of 1 completed\n"
     ]
    },
    {
     "data": {
      "text/html": [
       "<div>\n",
       "<style scoped>\n",
       "    .dataframe tbody tr th:only-of-type {\n",
       "        vertical-align: middle;\n",
       "    }\n",
       "\n",
       "    .dataframe tbody tr th {\n",
       "        vertical-align: top;\n",
       "    }\n",
       "\n",
       "    .dataframe thead th {\n",
       "        text-align: right;\n",
       "    }\n",
       "</style>\n",
       "<table border=\"1\" class=\"dataframe\">\n",
       "  <thead>\n",
       "    <tr style=\"text-align: right;\">\n",
       "      <th></th>\n",
       "      <th>Open</th>\n",
       "      <th>High</th>\n",
       "      <th>Low</th>\n",
       "      <th>Close</th>\n",
       "      <th>Adj Close</th>\n",
       "      <th>Volume</th>\n",
       "    </tr>\n",
       "    <tr>\n",
       "      <th>Date</th>\n",
       "      <th></th>\n",
       "      <th></th>\n",
       "      <th></th>\n",
       "      <th></th>\n",
       "      <th></th>\n",
       "      <th></th>\n",
       "    </tr>\n",
       "  </thead>\n",
       "  <tbody>\n",
       "    <tr>\n",
       "      <th>1993-01-29</th>\n",
       "      <td>43.968750</td>\n",
       "      <td>43.968750</td>\n",
       "      <td>43.750000</td>\n",
       "      <td>43.937500</td>\n",
       "      <td>25.218220</td>\n",
       "      <td>1003200</td>\n",
       "    </tr>\n",
       "    <tr>\n",
       "      <th>1993-02-01</th>\n",
       "      <td>43.968750</td>\n",
       "      <td>44.250000</td>\n",
       "      <td>43.968750</td>\n",
       "      <td>44.250000</td>\n",
       "      <td>25.397587</td>\n",
       "      <td>480500</td>\n",
       "    </tr>\n",
       "    <tr>\n",
       "      <th>1993-02-02</th>\n",
       "      <td>44.218750</td>\n",
       "      <td>44.375000</td>\n",
       "      <td>44.125000</td>\n",
       "      <td>44.343750</td>\n",
       "      <td>25.451391</td>\n",
       "      <td>201300</td>\n",
       "    </tr>\n",
       "    <tr>\n",
       "      <th>1993-02-03</th>\n",
       "      <td>44.406250</td>\n",
       "      <td>44.843750</td>\n",
       "      <td>44.375000</td>\n",
       "      <td>44.812500</td>\n",
       "      <td>25.720444</td>\n",
       "      <td>529400</td>\n",
       "    </tr>\n",
       "    <tr>\n",
       "      <th>1993-02-04</th>\n",
       "      <td>44.968750</td>\n",
       "      <td>45.093750</td>\n",
       "      <td>44.468750</td>\n",
       "      <td>45.000000</td>\n",
       "      <td>25.828070</td>\n",
       "      <td>531500</td>\n",
       "    </tr>\n",
       "    <tr>\n",
       "      <th>...</th>\n",
       "      <td>...</td>\n",
       "      <td>...</td>\n",
       "      <td>...</td>\n",
       "      <td>...</td>\n",
       "      <td>...</td>\n",
       "      <td>...</td>\n",
       "    </tr>\n",
       "    <tr>\n",
       "      <th>2022-12-13</th>\n",
       "      <td>410.220001</td>\n",
       "      <td>410.489990</td>\n",
       "      <td>399.070007</td>\n",
       "      <td>401.970001</td>\n",
       "      <td>400.132599</td>\n",
       "      <td>123782500</td>\n",
       "    </tr>\n",
       "    <tr>\n",
       "      <th>2022-12-14</th>\n",
       "      <td>401.609985</td>\n",
       "      <td>405.500000</td>\n",
       "      <td>396.309998</td>\n",
       "      <td>399.399994</td>\n",
       "      <td>397.574341</td>\n",
       "      <td>108111300</td>\n",
       "    </tr>\n",
       "    <tr>\n",
       "      <th>2022-12-15</th>\n",
       "      <td>394.299988</td>\n",
       "      <td>395.250000</td>\n",
       "      <td>387.890015</td>\n",
       "      <td>389.630005</td>\n",
       "      <td>387.848999</td>\n",
       "      <td>117705900</td>\n",
       "    </tr>\n",
       "    <tr>\n",
       "      <th>2022-12-16</th>\n",
       "      <td>385.179993</td>\n",
       "      <td>386.579987</td>\n",
       "      <td>381.040009</td>\n",
       "      <td>383.269989</td>\n",
       "      <td>383.269989</td>\n",
       "      <td>119764500</td>\n",
       "    </tr>\n",
       "    <tr>\n",
       "      <th>2022-12-19</th>\n",
       "      <td>383.470001</td>\n",
       "      <td>383.820007</td>\n",
       "      <td>378.279999</td>\n",
       "      <td>380.019989</td>\n",
       "      <td>380.019989</td>\n",
       "      <td>79738100</td>\n",
       "    </tr>\n",
       "  </tbody>\n",
       "</table>\n",
       "<p>7528 rows × 6 columns</p>\n",
       "</div>"
      ],
      "text/plain": [
       "                  Open        High         Low       Close   Adj Close  \\\n",
       "Date                                                                     \n",
       "1993-01-29   43.968750   43.968750   43.750000   43.937500   25.218220   \n",
       "1993-02-01   43.968750   44.250000   43.968750   44.250000   25.397587   \n",
       "1993-02-02   44.218750   44.375000   44.125000   44.343750   25.451391   \n",
       "1993-02-03   44.406250   44.843750   44.375000   44.812500   25.720444   \n",
       "1993-02-04   44.968750   45.093750   44.468750   45.000000   25.828070   \n",
       "...                ...         ...         ...         ...         ...   \n",
       "2022-12-13  410.220001  410.489990  399.070007  401.970001  400.132599   \n",
       "2022-12-14  401.609985  405.500000  396.309998  399.399994  397.574341   \n",
       "2022-12-15  394.299988  395.250000  387.890015  389.630005  387.848999   \n",
       "2022-12-16  385.179993  386.579987  381.040009  383.269989  383.269989   \n",
       "2022-12-19  383.470001  383.820007  378.279999  380.019989  380.019989   \n",
       "\n",
       "               Volume  \n",
       "Date                   \n",
       "1993-01-29    1003200  \n",
       "1993-02-01     480500  \n",
       "1993-02-02     201300  \n",
       "1993-02-03     529400  \n",
       "1993-02-04     531500  \n",
       "...               ...  \n",
       "2022-12-13  123782500  \n",
       "2022-12-14  108111300  \n",
       "2022-12-15  117705900  \n",
       "2022-12-16  119764500  \n",
       "2022-12-19   79738100  \n",
       "\n",
       "[7528 rows x 6 columns]"
      ]
     },
     "execution_count": 6,
     "metadata": {},
     "output_type": "execute_result"
    }
   ],
   "source": [
    "import yfinance as yf\n",
    "stock_daily=yf.download(ticker,period='max',interval='1d')\n",
    "stock_daily"
   ]
  },
  {
   "cell_type": "code",
   "execution_count": 7,
   "id": "51c8753b",
   "metadata": {},
   "outputs": [
    {
     "data": {
      "text/plain": [
       "Timestamp('1993-01-29 00:00:00')"
      ]
     },
     "execution_count": 7,
     "metadata": {},
     "output_type": "execute_result"
    }
   ],
   "source": [
    "stock_daily.index[0]"
   ]
  },
  {
   "cell_type": "code",
   "execution_count": 8,
   "id": "d5847084",
   "metadata": {},
   "outputs": [
    {
     "name": "stdout",
     "output_type": "stream",
     "text": [
      "[*********************100%***********************]  1 of 1 completed\n"
     ]
    },
    {
     "data": {
      "text/html": [
       "<div>\n",
       "<style scoped>\n",
       "    .dataframe tbody tr th:only-of-type {\n",
       "        vertical-align: middle;\n",
       "    }\n",
       "\n",
       "    .dataframe tbody tr th {\n",
       "        vertical-align: top;\n",
       "    }\n",
       "\n",
       "    .dataframe thead th {\n",
       "        text-align: right;\n",
       "    }\n",
       "</style>\n",
       "<table border=\"1\" class=\"dataframe\">\n",
       "  <thead>\n",
       "    <tr style=\"text-align: right;\">\n",
       "      <th></th>\n",
       "      <th>Open</th>\n",
       "      <th>High</th>\n",
       "      <th>Low</th>\n",
       "      <th>Close</th>\n",
       "      <th>Adj Close</th>\n",
       "      <th>Volume</th>\n",
       "    </tr>\n",
       "    <tr>\n",
       "      <th>Date</th>\n",
       "      <th></th>\n",
       "      <th></th>\n",
       "      <th></th>\n",
       "      <th></th>\n",
       "      <th></th>\n",
       "      <th></th>\n",
       "    </tr>\n",
       "  </thead>\n",
       "  <tbody>\n",
       "    <tr>\n",
       "      <th>1993-01-25</th>\n",
       "      <td>43.968750</td>\n",
       "      <td>43.968750</td>\n",
       "      <td>43.750000</td>\n",
       "      <td>43.937500</td>\n",
       "      <td>25.218220</td>\n",
       "      <td>1003200.0</td>\n",
       "    </tr>\n",
       "    <tr>\n",
       "      <th>1993-02-01</th>\n",
       "      <td>43.968750</td>\n",
       "      <td>45.093750</td>\n",
       "      <td>43.968750</td>\n",
       "      <td>44.968750</td>\n",
       "      <td>25.810123</td>\n",
       "      <td>2234800.0</td>\n",
       "    </tr>\n",
       "    <tr>\n",
       "      <th>1993-02-08</th>\n",
       "      <td>44.968750</td>\n",
       "      <td>45.125000</td>\n",
       "      <td>44.531250</td>\n",
       "      <td>44.593750</td>\n",
       "      <td>25.594887</td>\n",
       "      <td>1159800.0</td>\n",
       "    </tr>\n",
       "    <tr>\n",
       "      <th>1993-02-15</th>\n",
       "      <td>44.468750</td>\n",
       "      <td>44.468750</td>\n",
       "      <td>42.812500</td>\n",
       "      <td>43.562500</td>\n",
       "      <td>25.003000</td>\n",
       "      <td>998700.0</td>\n",
       "    </tr>\n",
       "    <tr>\n",
       "      <th>1993-02-22</th>\n",
       "      <td>43.687500</td>\n",
       "      <td>44.437500</td>\n",
       "      <td>43.468750</td>\n",
       "      <td>44.406250</td>\n",
       "      <td>25.487270</td>\n",
       "      <td>1024300.0</td>\n",
       "    </tr>\n",
       "    <tr>\n",
       "      <th>...</th>\n",
       "      <td>...</td>\n",
       "      <td>...</td>\n",
       "      <td>...</td>\n",
       "      <td>...</td>\n",
       "      <td>...</td>\n",
       "      <td>...</td>\n",
       "    </tr>\n",
       "    <tr>\n",
       "      <th>2022-11-28</th>\n",
       "      <td>399.089996</td>\n",
       "      <td>410.000000</td>\n",
       "      <td>393.299988</td>\n",
       "      <td>406.910004</td>\n",
       "      <td>405.050018</td>\n",
       "      <td>426430400.0</td>\n",
       "    </tr>\n",
       "    <tr>\n",
       "      <th>2022-12-05</th>\n",
       "      <td>403.950012</td>\n",
       "      <td>404.929993</td>\n",
       "      <td>391.640015</td>\n",
       "      <td>393.279999</td>\n",
       "      <td>391.482300</td>\n",
       "      <td>363295300.0</td>\n",
       "    </tr>\n",
       "    <tr>\n",
       "      <th>2022-12-12</th>\n",
       "      <td>394.109985</td>\n",
       "      <td>410.489990</td>\n",
       "      <td>381.040009</td>\n",
       "      <td>383.269989</td>\n",
       "      <td>381.518066</td>\n",
       "      <td>544770000.0</td>\n",
       "    </tr>\n",
       "    <tr>\n",
       "      <th>2022-12-16</th>\n",
       "      <td>NaN</td>\n",
       "      <td>NaN</td>\n",
       "      <td>NaN</td>\n",
       "      <td>NaN</td>\n",
       "      <td>NaN</td>\n",
       "      <td>NaN</td>\n",
       "    </tr>\n",
       "    <tr>\n",
       "      <th>2022-12-19</th>\n",
       "      <td>383.470001</td>\n",
       "      <td>383.820007</td>\n",
       "      <td>378.279999</td>\n",
       "      <td>380.019989</td>\n",
       "      <td>380.019989</td>\n",
       "      <td>79738100.0</td>\n",
       "    </tr>\n",
       "  </tbody>\n",
       "</table>\n",
       "<p>1681 rows × 6 columns</p>\n",
       "</div>"
      ],
      "text/plain": [
       "                  Open        High         Low       Close   Adj Close  \\\n",
       "Date                                                                     \n",
       "1993-01-25   43.968750   43.968750   43.750000   43.937500   25.218220   \n",
       "1993-02-01   43.968750   45.093750   43.968750   44.968750   25.810123   \n",
       "1993-02-08   44.968750   45.125000   44.531250   44.593750   25.594887   \n",
       "1993-02-15   44.468750   44.468750   42.812500   43.562500   25.003000   \n",
       "1993-02-22   43.687500   44.437500   43.468750   44.406250   25.487270   \n",
       "...                ...         ...         ...         ...         ...   \n",
       "2022-11-28  399.089996  410.000000  393.299988  406.910004  405.050018   \n",
       "2022-12-05  403.950012  404.929993  391.640015  393.279999  391.482300   \n",
       "2022-12-12  394.109985  410.489990  381.040009  383.269989  381.518066   \n",
       "2022-12-16         NaN         NaN         NaN         NaN         NaN   \n",
       "2022-12-19  383.470001  383.820007  378.279999  380.019989  380.019989   \n",
       "\n",
       "                 Volume  \n",
       "Date                     \n",
       "1993-01-25    1003200.0  \n",
       "1993-02-01    2234800.0  \n",
       "1993-02-08    1159800.0  \n",
       "1993-02-15     998700.0  \n",
       "1993-02-22    1024300.0  \n",
       "...                 ...  \n",
       "2022-11-28  426430400.0  \n",
       "2022-12-05  363295300.0  \n",
       "2022-12-12  544770000.0  \n",
       "2022-12-16          NaN  \n",
       "2022-12-19   79738100.0  \n",
       "\n",
       "[1681 rows x 6 columns]"
      ]
     },
     "execution_count": 8,
     "metadata": {},
     "output_type": "execute_result"
    }
   ],
   "source": [
    "stock_weekly=yf.download(ticker,period=\"max\",interval='1wk')\n",
    "stock_weekly"
   ]
  },
  {
   "cell_type": "code",
   "execution_count": 9,
   "id": "5938351b",
   "metadata": {},
   "outputs": [
    {
     "name": "stdout",
     "output_type": "stream",
     "text": [
      "[*********************100%***********************]  1 of 1 completed\n"
     ]
    }
   ],
   "source": [
    "stock_monthly=yf.download(ticker,period=\"max\",interval='1mo')"
   ]
  },
  {
   "cell_type": "code",
   "execution_count": 10,
   "id": "565c703e",
   "metadata": {},
   "outputs": [],
   "source": [
    "def pivot_daily(df):\n",
    "    \"\"\"\n",
    "    input=1d dataframe\n",
    "    \"\"\"\n",
    "    df[\"PP\"]=round((df[\"High\"].shift(1)+df[\"Low\"].shift(1)+df[\"Close\"].shift(1))/3,2)\n",
    "    df[\"BC\"]=round((df[\"High\"].shift(1)+df[\"Low\"].shift(1))/2,2)\n",
    "    df[\"TC\"]=round((df[\"PP\"]-df[\"BC\"])+df[\"PP\"],2)\n",
    "    df[\"R1\"]=round(df[\"PP\"]*2-df[\"Low\"].shift(1),2)\n",
    "    df[\"S1\"]=round(df[\"PP\"]*2-df[\"High\"].shift(1),2)\n",
    "    df[\"R2\"]=round(df[\"PP\"]+(df[\"High\"].shift(1)-df[\"Low\"].shift(1)),2)\n",
    "    df[\"S2\"]=round(df[\"PP\"]-(df[\"High\"].shift(1)-df[\"Low\"].shift(1)),2)\n",
    "    df[\"R3\"]=round(df[\"PP\"]*2+(df[\"High\"].shift(1)-2*df[\"Low\"].shift(1)),2)\n",
    "    df[\"S3\"]=round(df[\"PP\"]*2-(2*df[\"High\"].shift(1)-df[\"Low\"].shift(1)),2)\n",
    "    return df"
   ]
  },
  {
   "cell_type": "code",
   "execution_count": 11,
   "id": "26eb16dd",
   "metadata": {},
   "outputs": [],
   "source": [
    "def pivot_weekly(df):\n",
    "    \"\"\"\n",
    "    input=1 week dataframe\n",
    "    \"\"\"\n",
    "    df[\"PP\"]=round((df[\"High\"].shift(1)+df[\"Low\"].shift(1)+df[\"Close\"].shift(1))/3,2)\n",
    "    #df[\"BC\"]=round((df[\"High\"].shift(1)+df[\"Low\"].shift(1))/2,2)\n",
    "    #df[\"TC\"]=round((df[\"PP\"]-df[\"BC\"])+df[\"PP\"],2)\n",
    "    df[\"R1\"]=round(df[\"PP\"]*2-df[\"Low\"].shift(1),2)\n",
    "    df[\"S1\"]=round(df[\"PP\"]*2-df[\"High\"].shift(1),2)\n",
    "    df[\"R2\"]=round(df[\"PP\"]+(df[\"High\"].shift(1)-df[\"Low\"].shift(1)),2)\n",
    "    df[\"S2\"]=round(df[\"PP\"]-(df[\"High\"].shift(1)-df[\"Low\"].shift(1)),2)\n",
    "    df[\"R3\"]=round(df[\"PP\"]*2+(df[\"High\"].shift(1)-2*df[\"Low\"].shift(1)),2)\n",
    "    df[\"S3\"]=round(df[\"PP\"]*2-(2*df[\"High\"].shift(1)-df[\"Low\"].shift(1)),2)\n",
    "    return df"
   ]
  },
  {
   "cell_type": "code",
   "execution_count": 12,
   "id": "b9a5a54b",
   "metadata": {},
   "outputs": [],
   "source": [
    "def pivot_monthly(df):\n",
    "    \"\"\"\n",
    "    input=1 month dataframe\n",
    "    \"\"\"\n",
    "    df[\"PP\"]=round((df[\"High\"].shift(1)+df[\"Low\"].shift(1)+df[\"Close\"].shift(1))/3,2)\n",
    "    #df[\"BC\"]=round((df[\"High\"].shift(1)+df[\"Low\"].shift(1))/2,2)\n",
    "    #df[\"TC\"]=round((df[\"PP\"]-df[\"BC\"])+df[\"PP\"],2)\n",
    "    df[\"R1\"]=round(df[\"PP\"]*2-df[\"Low\"].shift(1),2)\n",
    "    df[\"S1\"]=round(df[\"PP\"]*2-df[\"High\"].shift(1),2)\n",
    "    df[\"R2\"]=round(df[\"PP\"]+(df[\"High\"].shift(1)-df[\"Low\"].shift(1)),2)\n",
    "    df[\"S2\"]=round(df[\"PP\"]-(df[\"High\"].shift(1)-df[\"Low\"].shift(1)),2)\n",
    "    df[\"R3\"]=round(df[\"PP\"]*2+(df[\"High\"].shift(1)-2*df[\"Low\"].shift(1)),2)\n",
    "    df[\"S3\"]=round(df[\"PP\"]*2-(2*df[\"High\"].shift(1)-df[\"Low\"].shift(1)),2)\n",
    "    return df"
   ]
  },
  {
   "cell_type": "code",
   "execution_count": 13,
   "id": "3311072c",
   "metadata": {},
   "outputs": [],
   "source": [
    "# call the pivot in daily timeframe daily"
   ]
  },
  {
   "cell_type": "code",
   "execution_count": 14,
   "id": "04f1c9df",
   "metadata": {},
   "outputs": [
    {
     "name": "stderr",
     "output_type": "stream",
     "text": [
      "/var/folders/0d/2q3_g9bj7tn1m1t1w5crmtvh0000gn/T/ipykernel_30857/2912323420.py:1: FutureWarning: weekofyear and week have been deprecated, please use DatetimeIndex.isocalendar().week instead, which returns a Series. To exactly reproduce the behavior of week and weekofyear and return an Index, you may call pd.Int64Index(idx.isocalendar().week)\n",
      "  stock_daily[\"week\"]=stock_daily.index.week\n"
     ]
    }
   ],
   "source": [
    "stock_daily[\"week\"]=stock_daily.index.week"
   ]
  },
  {
   "cell_type": "code",
   "execution_count": 15,
   "id": "48344216",
   "metadata": {},
   "outputs": [],
   "source": [
    "stock_daily[\"month\"]=stock_daily.index.month"
   ]
  },
  {
   "cell_type": "code",
   "execution_count": 16,
   "id": "f8871e00",
   "metadata": {},
   "outputs": [],
   "source": [
    "stock_daily[\"year\"]=stock_daily.index.year"
   ]
  },
  {
   "cell_type": "code",
   "execution_count": 17,
   "id": "54407a4a",
   "metadata": {},
   "outputs": [
    {
     "data": {
      "text/html": [
       "<div>\n",
       "<style scoped>\n",
       "    .dataframe tbody tr th:only-of-type {\n",
       "        vertical-align: middle;\n",
       "    }\n",
       "\n",
       "    .dataframe tbody tr th {\n",
       "        vertical-align: top;\n",
       "    }\n",
       "\n",
       "    .dataframe thead th {\n",
       "        text-align: right;\n",
       "    }\n",
       "</style>\n",
       "<table border=\"1\" class=\"dataframe\">\n",
       "  <thead>\n",
       "    <tr style=\"text-align: right;\">\n",
       "      <th></th>\n",
       "      <th>Open</th>\n",
       "      <th>High</th>\n",
       "      <th>Low</th>\n",
       "      <th>Close</th>\n",
       "      <th>Adj Close</th>\n",
       "      <th>Volume</th>\n",
       "      <th>week</th>\n",
       "      <th>month</th>\n",
       "      <th>year</th>\n",
       "    </tr>\n",
       "    <tr>\n",
       "      <th>Date</th>\n",
       "      <th></th>\n",
       "      <th></th>\n",
       "      <th></th>\n",
       "      <th></th>\n",
       "      <th></th>\n",
       "      <th></th>\n",
       "      <th></th>\n",
       "      <th></th>\n",
       "      <th></th>\n",
       "    </tr>\n",
       "  </thead>\n",
       "  <tbody>\n",
       "    <tr>\n",
       "      <th>1993-01-29</th>\n",
       "      <td>43.968750</td>\n",
       "      <td>43.968750</td>\n",
       "      <td>43.750000</td>\n",
       "      <td>43.937500</td>\n",
       "      <td>25.218220</td>\n",
       "      <td>1003200</td>\n",
       "      <td>4</td>\n",
       "      <td>1</td>\n",
       "      <td>1993</td>\n",
       "    </tr>\n",
       "    <tr>\n",
       "      <th>1993-02-01</th>\n",
       "      <td>43.968750</td>\n",
       "      <td>44.250000</td>\n",
       "      <td>43.968750</td>\n",
       "      <td>44.250000</td>\n",
       "      <td>25.397587</td>\n",
       "      <td>480500</td>\n",
       "      <td>5</td>\n",
       "      <td>2</td>\n",
       "      <td>1993</td>\n",
       "    </tr>\n",
       "    <tr>\n",
       "      <th>1993-02-02</th>\n",
       "      <td>44.218750</td>\n",
       "      <td>44.375000</td>\n",
       "      <td>44.125000</td>\n",
       "      <td>44.343750</td>\n",
       "      <td>25.451391</td>\n",
       "      <td>201300</td>\n",
       "      <td>5</td>\n",
       "      <td>2</td>\n",
       "      <td>1993</td>\n",
       "    </tr>\n",
       "    <tr>\n",
       "      <th>1993-02-03</th>\n",
       "      <td>44.406250</td>\n",
       "      <td>44.843750</td>\n",
       "      <td>44.375000</td>\n",
       "      <td>44.812500</td>\n",
       "      <td>25.720444</td>\n",
       "      <td>529400</td>\n",
       "      <td>5</td>\n",
       "      <td>2</td>\n",
       "      <td>1993</td>\n",
       "    </tr>\n",
       "    <tr>\n",
       "      <th>1993-02-04</th>\n",
       "      <td>44.968750</td>\n",
       "      <td>45.093750</td>\n",
       "      <td>44.468750</td>\n",
       "      <td>45.000000</td>\n",
       "      <td>25.828070</td>\n",
       "      <td>531500</td>\n",
       "      <td>5</td>\n",
       "      <td>2</td>\n",
       "      <td>1993</td>\n",
       "    </tr>\n",
       "    <tr>\n",
       "      <th>...</th>\n",
       "      <td>...</td>\n",
       "      <td>...</td>\n",
       "      <td>...</td>\n",
       "      <td>...</td>\n",
       "      <td>...</td>\n",
       "      <td>...</td>\n",
       "      <td>...</td>\n",
       "      <td>...</td>\n",
       "      <td>...</td>\n",
       "    </tr>\n",
       "    <tr>\n",
       "      <th>2022-12-13</th>\n",
       "      <td>410.220001</td>\n",
       "      <td>410.489990</td>\n",
       "      <td>399.070007</td>\n",
       "      <td>401.970001</td>\n",
       "      <td>400.132599</td>\n",
       "      <td>123782500</td>\n",
       "      <td>50</td>\n",
       "      <td>12</td>\n",
       "      <td>2022</td>\n",
       "    </tr>\n",
       "    <tr>\n",
       "      <th>2022-12-14</th>\n",
       "      <td>401.609985</td>\n",
       "      <td>405.500000</td>\n",
       "      <td>396.309998</td>\n",
       "      <td>399.399994</td>\n",
       "      <td>397.574341</td>\n",
       "      <td>108111300</td>\n",
       "      <td>50</td>\n",
       "      <td>12</td>\n",
       "      <td>2022</td>\n",
       "    </tr>\n",
       "    <tr>\n",
       "      <th>2022-12-15</th>\n",
       "      <td>394.299988</td>\n",
       "      <td>395.250000</td>\n",
       "      <td>387.890015</td>\n",
       "      <td>389.630005</td>\n",
       "      <td>387.848999</td>\n",
       "      <td>117705900</td>\n",
       "      <td>50</td>\n",
       "      <td>12</td>\n",
       "      <td>2022</td>\n",
       "    </tr>\n",
       "    <tr>\n",
       "      <th>2022-12-16</th>\n",
       "      <td>385.179993</td>\n",
       "      <td>386.579987</td>\n",
       "      <td>381.040009</td>\n",
       "      <td>383.269989</td>\n",
       "      <td>383.269989</td>\n",
       "      <td>119764500</td>\n",
       "      <td>50</td>\n",
       "      <td>12</td>\n",
       "      <td>2022</td>\n",
       "    </tr>\n",
       "    <tr>\n",
       "      <th>2022-12-19</th>\n",
       "      <td>383.470001</td>\n",
       "      <td>383.820007</td>\n",
       "      <td>378.279999</td>\n",
       "      <td>380.019989</td>\n",
       "      <td>380.019989</td>\n",
       "      <td>79738100</td>\n",
       "      <td>51</td>\n",
       "      <td>12</td>\n",
       "      <td>2022</td>\n",
       "    </tr>\n",
       "  </tbody>\n",
       "</table>\n",
       "<p>7528 rows × 9 columns</p>\n",
       "</div>"
      ],
      "text/plain": [
       "                  Open        High         Low       Close   Adj Close  \\\n",
       "Date                                                                     \n",
       "1993-01-29   43.968750   43.968750   43.750000   43.937500   25.218220   \n",
       "1993-02-01   43.968750   44.250000   43.968750   44.250000   25.397587   \n",
       "1993-02-02   44.218750   44.375000   44.125000   44.343750   25.451391   \n",
       "1993-02-03   44.406250   44.843750   44.375000   44.812500   25.720444   \n",
       "1993-02-04   44.968750   45.093750   44.468750   45.000000   25.828070   \n",
       "...                ...         ...         ...         ...         ...   \n",
       "2022-12-13  410.220001  410.489990  399.070007  401.970001  400.132599   \n",
       "2022-12-14  401.609985  405.500000  396.309998  399.399994  397.574341   \n",
       "2022-12-15  394.299988  395.250000  387.890015  389.630005  387.848999   \n",
       "2022-12-16  385.179993  386.579987  381.040009  383.269989  383.269989   \n",
       "2022-12-19  383.470001  383.820007  378.279999  380.019989  380.019989   \n",
       "\n",
       "               Volume  week  month  year  \n",
       "Date                                      \n",
       "1993-01-29    1003200     4      1  1993  \n",
       "1993-02-01     480500     5      2  1993  \n",
       "1993-02-02     201300     5      2  1993  \n",
       "1993-02-03     529400     5      2  1993  \n",
       "1993-02-04     531500     5      2  1993  \n",
       "...               ...   ...    ...   ...  \n",
       "2022-12-13  123782500    50     12  2022  \n",
       "2022-12-14  108111300    50     12  2022  \n",
       "2022-12-15  117705900    50     12  2022  \n",
       "2022-12-16  119764500    50     12  2022  \n",
       "2022-12-19   79738100    51     12  2022  \n",
       "\n",
       "[7528 rows x 9 columns]"
      ]
     },
     "execution_count": 17,
     "metadata": {},
     "output_type": "execute_result"
    }
   ],
   "source": [
    "stock_daily"
   ]
  },
  {
   "cell_type": "code",
   "execution_count": 18,
   "id": "e9daccbc",
   "metadata": {},
   "outputs": [
    {
     "name": "stderr",
     "output_type": "stream",
     "text": [
      "/var/folders/0d/2q3_g9bj7tn1m1t1w5crmtvh0000gn/T/ipykernel_30857/37262271.py:1: FutureWarning: weekofyear and week have been deprecated, please use DatetimeIndex.isocalendar().week instead, which returns a Series. To exactly reproduce the behavior of week and weekofyear and return an Index, you may call pd.Int64Index(idx.isocalendar().week)\n",
      "  stock_weekly[\"week\"]=stock_weekly.index.week\n"
     ]
    }
   ],
   "source": [
    "stock_weekly[\"week\"]=stock_weekly.index.week\n",
    "stock_weekly[\"year\"]=stock_weekly.index.year"
   ]
  },
  {
   "cell_type": "code",
   "execution_count": 19,
   "id": "28bac539",
   "metadata": {},
   "outputs": [
    {
     "data": {
      "text/html": [
       "<div>\n",
       "<style scoped>\n",
       "    .dataframe tbody tr th:only-of-type {\n",
       "        vertical-align: middle;\n",
       "    }\n",
       "\n",
       "    .dataframe tbody tr th {\n",
       "        vertical-align: top;\n",
       "    }\n",
       "\n",
       "    .dataframe thead th {\n",
       "        text-align: right;\n",
       "    }\n",
       "</style>\n",
       "<table border=\"1\" class=\"dataframe\">\n",
       "  <thead>\n",
       "    <tr style=\"text-align: right;\">\n",
       "      <th></th>\n",
       "      <th>Open</th>\n",
       "      <th>High</th>\n",
       "      <th>Low</th>\n",
       "      <th>Close</th>\n",
       "      <th>Adj Close</th>\n",
       "      <th>Volume</th>\n",
       "      <th>week</th>\n",
       "      <th>year</th>\n",
       "    </tr>\n",
       "    <tr>\n",
       "      <th>Date</th>\n",
       "      <th></th>\n",
       "      <th></th>\n",
       "      <th></th>\n",
       "      <th></th>\n",
       "      <th></th>\n",
       "      <th></th>\n",
       "      <th></th>\n",
       "      <th></th>\n",
       "    </tr>\n",
       "  </thead>\n",
       "  <tbody>\n",
       "    <tr>\n",
       "      <th>1993-01-25</th>\n",
       "      <td>43.968750</td>\n",
       "      <td>43.968750</td>\n",
       "      <td>43.750000</td>\n",
       "      <td>43.937500</td>\n",
       "      <td>25.218220</td>\n",
       "      <td>1003200.0</td>\n",
       "      <td>4</td>\n",
       "      <td>1993</td>\n",
       "    </tr>\n",
       "    <tr>\n",
       "      <th>1993-02-01</th>\n",
       "      <td>43.968750</td>\n",
       "      <td>45.093750</td>\n",
       "      <td>43.968750</td>\n",
       "      <td>44.968750</td>\n",
       "      <td>25.810123</td>\n",
       "      <td>2234800.0</td>\n",
       "      <td>5</td>\n",
       "      <td>1993</td>\n",
       "    </tr>\n",
       "    <tr>\n",
       "      <th>1993-02-08</th>\n",
       "      <td>44.968750</td>\n",
       "      <td>45.125000</td>\n",
       "      <td>44.531250</td>\n",
       "      <td>44.593750</td>\n",
       "      <td>25.594887</td>\n",
       "      <td>1159800.0</td>\n",
       "      <td>6</td>\n",
       "      <td>1993</td>\n",
       "    </tr>\n",
       "    <tr>\n",
       "      <th>1993-02-15</th>\n",
       "      <td>44.468750</td>\n",
       "      <td>44.468750</td>\n",
       "      <td>42.812500</td>\n",
       "      <td>43.562500</td>\n",
       "      <td>25.003000</td>\n",
       "      <td>998700.0</td>\n",
       "      <td>7</td>\n",
       "      <td>1993</td>\n",
       "    </tr>\n",
       "    <tr>\n",
       "      <th>1993-02-22</th>\n",
       "      <td>43.687500</td>\n",
       "      <td>44.437500</td>\n",
       "      <td>43.468750</td>\n",
       "      <td>44.406250</td>\n",
       "      <td>25.487270</td>\n",
       "      <td>1024300.0</td>\n",
       "      <td>8</td>\n",
       "      <td>1993</td>\n",
       "    </tr>\n",
       "    <tr>\n",
       "      <th>...</th>\n",
       "      <td>...</td>\n",
       "      <td>...</td>\n",
       "      <td>...</td>\n",
       "      <td>...</td>\n",
       "      <td>...</td>\n",
       "      <td>...</td>\n",
       "      <td>...</td>\n",
       "      <td>...</td>\n",
       "    </tr>\n",
       "    <tr>\n",
       "      <th>2022-11-28</th>\n",
       "      <td>399.089996</td>\n",
       "      <td>410.000000</td>\n",
       "      <td>393.299988</td>\n",
       "      <td>406.910004</td>\n",
       "      <td>405.050018</td>\n",
       "      <td>426430400.0</td>\n",
       "      <td>48</td>\n",
       "      <td>2022</td>\n",
       "    </tr>\n",
       "    <tr>\n",
       "      <th>2022-12-05</th>\n",
       "      <td>403.950012</td>\n",
       "      <td>404.929993</td>\n",
       "      <td>391.640015</td>\n",
       "      <td>393.279999</td>\n",
       "      <td>391.482300</td>\n",
       "      <td>363295300.0</td>\n",
       "      <td>49</td>\n",
       "      <td>2022</td>\n",
       "    </tr>\n",
       "    <tr>\n",
       "      <th>2022-12-12</th>\n",
       "      <td>394.109985</td>\n",
       "      <td>410.489990</td>\n",
       "      <td>381.040009</td>\n",
       "      <td>383.269989</td>\n",
       "      <td>381.518066</td>\n",
       "      <td>544770000.0</td>\n",
       "      <td>50</td>\n",
       "      <td>2022</td>\n",
       "    </tr>\n",
       "    <tr>\n",
       "      <th>2022-12-16</th>\n",
       "      <td>NaN</td>\n",
       "      <td>NaN</td>\n",
       "      <td>NaN</td>\n",
       "      <td>NaN</td>\n",
       "      <td>NaN</td>\n",
       "      <td>NaN</td>\n",
       "      <td>50</td>\n",
       "      <td>2022</td>\n",
       "    </tr>\n",
       "    <tr>\n",
       "      <th>2022-12-19</th>\n",
       "      <td>383.470001</td>\n",
       "      <td>383.820007</td>\n",
       "      <td>378.279999</td>\n",
       "      <td>380.019989</td>\n",
       "      <td>380.019989</td>\n",
       "      <td>79738100.0</td>\n",
       "      <td>51</td>\n",
       "      <td>2022</td>\n",
       "    </tr>\n",
       "  </tbody>\n",
       "</table>\n",
       "<p>1681 rows × 8 columns</p>\n",
       "</div>"
      ],
      "text/plain": [
       "                  Open        High         Low       Close   Adj Close  \\\n",
       "Date                                                                     \n",
       "1993-01-25   43.968750   43.968750   43.750000   43.937500   25.218220   \n",
       "1993-02-01   43.968750   45.093750   43.968750   44.968750   25.810123   \n",
       "1993-02-08   44.968750   45.125000   44.531250   44.593750   25.594887   \n",
       "1993-02-15   44.468750   44.468750   42.812500   43.562500   25.003000   \n",
       "1993-02-22   43.687500   44.437500   43.468750   44.406250   25.487270   \n",
       "...                ...         ...         ...         ...         ...   \n",
       "2022-11-28  399.089996  410.000000  393.299988  406.910004  405.050018   \n",
       "2022-12-05  403.950012  404.929993  391.640015  393.279999  391.482300   \n",
       "2022-12-12  394.109985  410.489990  381.040009  383.269989  381.518066   \n",
       "2022-12-16         NaN         NaN         NaN         NaN         NaN   \n",
       "2022-12-19  383.470001  383.820007  378.279999  380.019989  380.019989   \n",
       "\n",
       "                 Volume  week  year  \n",
       "Date                                 \n",
       "1993-01-25    1003200.0     4  1993  \n",
       "1993-02-01    2234800.0     5  1993  \n",
       "1993-02-08    1159800.0     6  1993  \n",
       "1993-02-15     998700.0     7  1993  \n",
       "1993-02-22    1024300.0     8  1993  \n",
       "...                 ...   ...   ...  \n",
       "2022-11-28  426430400.0    48  2022  \n",
       "2022-12-05  363295300.0    49  2022  \n",
       "2022-12-12  544770000.0    50  2022  \n",
       "2022-12-16          NaN    50  2022  \n",
       "2022-12-19   79738100.0    51  2022  \n",
       "\n",
       "[1681 rows x 8 columns]"
      ]
     },
     "execution_count": 19,
     "metadata": {},
     "output_type": "execute_result"
    }
   ],
   "source": [
    "stock_weekly"
   ]
  },
  {
   "cell_type": "code",
   "execution_count": 20,
   "id": "1a29f68d",
   "metadata": {},
   "outputs": [],
   "source": [
    "stock_monthly[\"month\"]=stock_monthly.index.month\n",
    "stock_monthly[\"year\"]=stock_monthly.index.year"
   ]
  },
  {
   "cell_type": "code",
   "execution_count": 21,
   "id": "da55dad5",
   "metadata": {},
   "outputs": [
    {
     "data": {
      "text/html": [
       "<div>\n",
       "<style scoped>\n",
       "    .dataframe tbody tr th:only-of-type {\n",
       "        vertical-align: middle;\n",
       "    }\n",
       "\n",
       "    .dataframe tbody tr th {\n",
       "        vertical-align: top;\n",
       "    }\n",
       "\n",
       "    .dataframe thead th {\n",
       "        text-align: right;\n",
       "    }\n",
       "</style>\n",
       "<table border=\"1\" class=\"dataframe\">\n",
       "  <thead>\n",
       "    <tr style=\"text-align: right;\">\n",
       "      <th></th>\n",
       "      <th>Open</th>\n",
       "      <th>High</th>\n",
       "      <th>Low</th>\n",
       "      <th>Close</th>\n",
       "      <th>Adj Close</th>\n",
       "      <th>Volume</th>\n",
       "      <th>month</th>\n",
       "      <th>year</th>\n",
       "    </tr>\n",
       "    <tr>\n",
       "      <th>Date</th>\n",
       "      <th></th>\n",
       "      <th></th>\n",
       "      <th></th>\n",
       "      <th></th>\n",
       "      <th></th>\n",
       "      <th></th>\n",
       "      <th></th>\n",
       "      <th></th>\n",
       "    </tr>\n",
       "  </thead>\n",
       "  <tbody>\n",
       "    <tr>\n",
       "      <th>1993-02-01</th>\n",
       "      <td>43.968750</td>\n",
       "      <td>45.125000</td>\n",
       "      <td>42.812500</td>\n",
       "      <td>44.406250</td>\n",
       "      <td>25.487270</td>\n",
       "      <td>5.417600e+06</td>\n",
       "      <td>2</td>\n",
       "      <td>1993</td>\n",
       "    </tr>\n",
       "    <tr>\n",
       "      <th>1993-03-01</th>\n",
       "      <td>44.562500</td>\n",
       "      <td>45.843750</td>\n",
       "      <td>44.218750</td>\n",
       "      <td>45.187500</td>\n",
       "      <td>25.935667</td>\n",
       "      <td>3.019200e+06</td>\n",
       "      <td>3</td>\n",
       "      <td>1993</td>\n",
       "    </tr>\n",
       "    <tr>\n",
       "      <th>1993-03-19</th>\n",
       "      <td>NaN</td>\n",
       "      <td>NaN</td>\n",
       "      <td>NaN</td>\n",
       "      <td>NaN</td>\n",
       "      <td>NaN</td>\n",
       "      <td>NaN</td>\n",
       "      <td>3</td>\n",
       "      <td>1993</td>\n",
       "    </tr>\n",
       "    <tr>\n",
       "      <th>1993-04-01</th>\n",
       "      <td>45.250000</td>\n",
       "      <td>45.250000</td>\n",
       "      <td>43.281250</td>\n",
       "      <td>44.031250</td>\n",
       "      <td>25.391386</td>\n",
       "      <td>2.697200e+06</td>\n",
       "      <td>4</td>\n",
       "      <td>1993</td>\n",
       "    </tr>\n",
       "    <tr>\n",
       "      <th>1993-05-01</th>\n",
       "      <td>44.093750</td>\n",
       "      <td>45.656250</td>\n",
       "      <td>43.843750</td>\n",
       "      <td>45.218750</td>\n",
       "      <td>26.076176</td>\n",
       "      <td>1.808000e+06</td>\n",
       "      <td>5</td>\n",
       "      <td>1993</td>\n",
       "    </tr>\n",
       "    <tr>\n",
       "      <th>...</th>\n",
       "      <td>...</td>\n",
       "      <td>...</td>\n",
       "      <td>...</td>\n",
       "      <td>...</td>\n",
       "      <td>...</td>\n",
       "      <td>...</td>\n",
       "      <td>...</td>\n",
       "      <td>...</td>\n",
       "    </tr>\n",
       "    <tr>\n",
       "      <th>2022-10-01</th>\n",
       "      <td>361.079987</td>\n",
       "      <td>389.519989</td>\n",
       "      <td>348.109985</td>\n",
       "      <td>386.209991</td>\n",
       "      <td>384.444611</td>\n",
       "      <td>2.024732e+09</td>\n",
       "      <td>10</td>\n",
       "      <td>2022</td>\n",
       "    </tr>\n",
       "    <tr>\n",
       "      <th>2022-11-01</th>\n",
       "      <td>390.140015</td>\n",
       "      <td>407.679993</td>\n",
       "      <td>368.790009</td>\n",
       "      <td>407.679993</td>\n",
       "      <td>405.816467</td>\n",
       "      <td>1.745985e+09</td>\n",
       "      <td>11</td>\n",
       "      <td>2022</td>\n",
       "    </tr>\n",
       "    <tr>\n",
       "      <th>2022-12-01</th>\n",
       "      <td>408.769989</td>\n",
       "      <td>410.489990</td>\n",
       "      <td>378.279999</td>\n",
       "      <td>380.019989</td>\n",
       "      <td>378.282898</td>\n",
       "      <td>1.149476e+09</td>\n",
       "      <td>12</td>\n",
       "      <td>2022</td>\n",
       "    </tr>\n",
       "    <tr>\n",
       "      <th>2022-12-16</th>\n",
       "      <td>NaN</td>\n",
       "      <td>NaN</td>\n",
       "      <td>NaN</td>\n",
       "      <td>NaN</td>\n",
       "      <td>NaN</td>\n",
       "      <td>NaN</td>\n",
       "      <td>12</td>\n",
       "      <td>2022</td>\n",
       "    </tr>\n",
       "    <tr>\n",
       "      <th>2022-12-19</th>\n",
       "      <td>383.470001</td>\n",
       "      <td>383.809998</td>\n",
       "      <td>378.279999</td>\n",
       "      <td>380.019989</td>\n",
       "      <td>380.019989</td>\n",
       "      <td>7.987810e+07</td>\n",
       "      <td>12</td>\n",
       "      <td>2022</td>\n",
       "    </tr>\n",
       "  </tbody>\n",
       "</table>\n",
       "<p>481 rows × 8 columns</p>\n",
       "</div>"
      ],
      "text/plain": [
       "                  Open        High         Low       Close   Adj Close  \\\n",
       "Date                                                                     \n",
       "1993-02-01   43.968750   45.125000   42.812500   44.406250   25.487270   \n",
       "1993-03-01   44.562500   45.843750   44.218750   45.187500   25.935667   \n",
       "1993-03-19         NaN         NaN         NaN         NaN         NaN   \n",
       "1993-04-01   45.250000   45.250000   43.281250   44.031250   25.391386   \n",
       "1993-05-01   44.093750   45.656250   43.843750   45.218750   26.076176   \n",
       "...                ...         ...         ...         ...         ...   \n",
       "2022-10-01  361.079987  389.519989  348.109985  386.209991  384.444611   \n",
       "2022-11-01  390.140015  407.679993  368.790009  407.679993  405.816467   \n",
       "2022-12-01  408.769989  410.489990  378.279999  380.019989  378.282898   \n",
       "2022-12-16         NaN         NaN         NaN         NaN         NaN   \n",
       "2022-12-19  383.470001  383.809998  378.279999  380.019989  380.019989   \n",
       "\n",
       "                  Volume  month  year  \n",
       "Date                                   \n",
       "1993-02-01  5.417600e+06      2  1993  \n",
       "1993-03-01  3.019200e+06      3  1993  \n",
       "1993-03-19           NaN      3  1993  \n",
       "1993-04-01  2.697200e+06      4  1993  \n",
       "1993-05-01  1.808000e+06      5  1993  \n",
       "...                  ...    ...   ...  \n",
       "2022-10-01  2.024732e+09     10  2022  \n",
       "2022-11-01  1.745985e+09     11  2022  \n",
       "2022-12-01  1.149476e+09     12  2022  \n",
       "2022-12-16           NaN     12  2022  \n",
       "2022-12-19  7.987810e+07     12  2022  \n",
       "\n",
       "[481 rows x 8 columns]"
      ]
     },
     "execution_count": 21,
     "metadata": {},
     "output_type": "execute_result"
    }
   ],
   "source": [
    "stock_monthly"
   ]
  },
  {
   "cell_type": "code",
   "execution_count": 22,
   "id": "af86e11d",
   "metadata": {},
   "outputs": [
    {
     "data": {
      "text/plain": [
       "7528"
      ]
     },
     "execution_count": 22,
     "metadata": {},
     "output_type": "execute_result"
    }
   ],
   "source": [
    "len(stock_daily)"
   ]
  },
  {
   "cell_type": "code",
   "execution_count": 23,
   "id": "3f00f141",
   "metadata": {},
   "outputs": [
    {
     "data": {
      "text/plain": [
       "<function __main__.pivot_daily(df)>"
      ]
     },
     "execution_count": 23,
     "metadata": {},
     "output_type": "execute_result"
    }
   ],
   "source": [
    "pivot_daily"
   ]
  },
  {
   "cell_type": "code",
   "execution_count": 24,
   "id": "719770dd",
   "metadata": {},
   "outputs": [],
   "source": [
    "daily_pivot=pivot_daily(stock_daily)\n",
    "weekly_pivot=pivot_weekly(stock_weekly)\n",
    "monthly_pivot=pivot_monthly(stock_monthly)"
   ]
  },
  {
   "cell_type": "code",
   "execution_count": 25,
   "id": "461b6de7",
   "metadata": {},
   "outputs": [
    {
     "data": {
      "text/html": [
       "<div>\n",
       "<style scoped>\n",
       "    .dataframe tbody tr th:only-of-type {\n",
       "        vertical-align: middle;\n",
       "    }\n",
       "\n",
       "    .dataframe tbody tr th {\n",
       "        vertical-align: top;\n",
       "    }\n",
       "\n",
       "    .dataframe thead th {\n",
       "        text-align: right;\n",
       "    }\n",
       "</style>\n",
       "<table border=\"1\" class=\"dataframe\">\n",
       "  <thead>\n",
       "    <tr style=\"text-align: right;\">\n",
       "      <th></th>\n",
       "      <th>Open</th>\n",
       "      <th>High</th>\n",
       "      <th>Low</th>\n",
       "      <th>Close</th>\n",
       "      <th>Adj Close</th>\n",
       "      <th>Volume</th>\n",
       "      <th>week</th>\n",
       "      <th>month</th>\n",
       "      <th>year</th>\n",
       "      <th>PP</th>\n",
       "      <th>BC</th>\n",
       "      <th>TC</th>\n",
       "      <th>R1</th>\n",
       "      <th>S1</th>\n",
       "      <th>R2</th>\n",
       "      <th>S2</th>\n",
       "      <th>R3</th>\n",
       "      <th>S3</th>\n",
       "    </tr>\n",
       "    <tr>\n",
       "      <th>Date</th>\n",
       "      <th></th>\n",
       "      <th></th>\n",
       "      <th></th>\n",
       "      <th></th>\n",
       "      <th></th>\n",
       "      <th></th>\n",
       "      <th></th>\n",
       "      <th></th>\n",
       "      <th></th>\n",
       "      <th></th>\n",
       "      <th></th>\n",
       "      <th></th>\n",
       "      <th></th>\n",
       "      <th></th>\n",
       "      <th></th>\n",
       "      <th></th>\n",
       "      <th></th>\n",
       "      <th></th>\n",
       "    </tr>\n",
       "  </thead>\n",
       "  <tbody>\n",
       "    <tr>\n",
       "      <th>1993-01-29</th>\n",
       "      <td>43.968750</td>\n",
       "      <td>43.968750</td>\n",
       "      <td>43.750000</td>\n",
       "      <td>43.937500</td>\n",
       "      <td>25.218220</td>\n",
       "      <td>1003200</td>\n",
       "      <td>4</td>\n",
       "      <td>1</td>\n",
       "      <td>1993</td>\n",
       "      <td>NaN</td>\n",
       "      <td>NaN</td>\n",
       "      <td>NaN</td>\n",
       "      <td>NaN</td>\n",
       "      <td>NaN</td>\n",
       "      <td>NaN</td>\n",
       "      <td>NaN</td>\n",
       "      <td>NaN</td>\n",
       "      <td>NaN</td>\n",
       "    </tr>\n",
       "    <tr>\n",
       "      <th>1993-02-01</th>\n",
       "      <td>43.968750</td>\n",
       "      <td>44.250000</td>\n",
       "      <td>43.968750</td>\n",
       "      <td>44.250000</td>\n",
       "      <td>25.397587</td>\n",
       "      <td>480500</td>\n",
       "      <td>5</td>\n",
       "      <td>2</td>\n",
       "      <td>1993</td>\n",
       "      <td>43.89</td>\n",
       "      <td>43.86</td>\n",
       "      <td>43.92</td>\n",
       "      <td>44.03</td>\n",
       "      <td>43.81</td>\n",
       "      <td>44.11</td>\n",
       "      <td>43.67</td>\n",
       "      <td>44.25</td>\n",
       "      <td>43.59</td>\n",
       "    </tr>\n",
       "    <tr>\n",
       "      <th>1993-02-02</th>\n",
       "      <td>44.218750</td>\n",
       "      <td>44.375000</td>\n",
       "      <td>44.125000</td>\n",
       "      <td>44.343750</td>\n",
       "      <td>25.451391</td>\n",
       "      <td>201300</td>\n",
       "      <td>5</td>\n",
       "      <td>2</td>\n",
       "      <td>1993</td>\n",
       "      <td>44.16</td>\n",
       "      <td>44.11</td>\n",
       "      <td>44.21</td>\n",
       "      <td>44.35</td>\n",
       "      <td>44.07</td>\n",
       "      <td>44.44</td>\n",
       "      <td>43.88</td>\n",
       "      <td>44.63</td>\n",
       "      <td>43.79</td>\n",
       "    </tr>\n",
       "    <tr>\n",
       "      <th>1993-02-03</th>\n",
       "      <td>44.406250</td>\n",
       "      <td>44.843750</td>\n",
       "      <td>44.375000</td>\n",
       "      <td>44.812500</td>\n",
       "      <td>25.720444</td>\n",
       "      <td>529400</td>\n",
       "      <td>5</td>\n",
       "      <td>2</td>\n",
       "      <td>1993</td>\n",
       "      <td>44.28</td>\n",
       "      <td>44.25</td>\n",
       "      <td>44.31</td>\n",
       "      <td>44.44</td>\n",
       "      <td>44.18</td>\n",
       "      <td>44.53</td>\n",
       "      <td>44.03</td>\n",
       "      <td>44.68</td>\n",
       "      <td>43.94</td>\n",
       "    </tr>\n",
       "    <tr>\n",
       "      <th>1993-02-04</th>\n",
       "      <td>44.968750</td>\n",
       "      <td>45.093750</td>\n",
       "      <td>44.468750</td>\n",
       "      <td>45.000000</td>\n",
       "      <td>25.828070</td>\n",
       "      <td>531500</td>\n",
       "      <td>5</td>\n",
       "      <td>2</td>\n",
       "      <td>1993</td>\n",
       "      <td>44.68</td>\n",
       "      <td>44.61</td>\n",
       "      <td>44.75</td>\n",
       "      <td>44.98</td>\n",
       "      <td>44.52</td>\n",
       "      <td>45.15</td>\n",
       "      <td>44.21</td>\n",
       "      <td>45.45</td>\n",
       "      <td>44.05</td>\n",
       "    </tr>\n",
       "    <tr>\n",
       "      <th>...</th>\n",
       "      <td>...</td>\n",
       "      <td>...</td>\n",
       "      <td>...</td>\n",
       "      <td>...</td>\n",
       "      <td>...</td>\n",
       "      <td>...</td>\n",
       "      <td>...</td>\n",
       "      <td>...</td>\n",
       "      <td>...</td>\n",
       "      <td>...</td>\n",
       "      <td>...</td>\n",
       "      <td>...</td>\n",
       "      <td>...</td>\n",
       "      <td>...</td>\n",
       "      <td>...</td>\n",
       "      <td>...</td>\n",
       "      <td>...</td>\n",
       "      <td>...</td>\n",
       "    </tr>\n",
       "    <tr>\n",
       "      <th>2022-12-13</th>\n",
       "      <td>410.220001</td>\n",
       "      <td>410.489990</td>\n",
       "      <td>399.070007</td>\n",
       "      <td>401.970001</td>\n",
       "      <td>400.132599</td>\n",
       "      <td>123782500</td>\n",
       "      <td>50</td>\n",
       "      <td>12</td>\n",
       "      <td>2022</td>\n",
       "      <td>397.10</td>\n",
       "      <td>396.18</td>\n",
       "      <td>398.02</td>\n",
       "      <td>400.79</td>\n",
       "      <td>395.25</td>\n",
       "      <td>402.64</td>\n",
       "      <td>391.56</td>\n",
       "      <td>406.33</td>\n",
       "      <td>389.71</td>\n",
       "    </tr>\n",
       "    <tr>\n",
       "      <th>2022-12-14</th>\n",
       "      <td>401.609985</td>\n",
       "      <td>405.500000</td>\n",
       "      <td>396.309998</td>\n",
       "      <td>399.399994</td>\n",
       "      <td>397.574341</td>\n",
       "      <td>108111300</td>\n",
       "      <td>50</td>\n",
       "      <td>12</td>\n",
       "      <td>2022</td>\n",
       "      <td>403.84</td>\n",
       "      <td>404.78</td>\n",
       "      <td>402.90</td>\n",
       "      <td>408.61</td>\n",
       "      <td>397.19</td>\n",
       "      <td>415.26</td>\n",
       "      <td>392.42</td>\n",
       "      <td>420.03</td>\n",
       "      <td>385.77</td>\n",
       "    </tr>\n",
       "    <tr>\n",
       "      <th>2022-12-15</th>\n",
       "      <td>394.299988</td>\n",
       "      <td>395.250000</td>\n",
       "      <td>387.890015</td>\n",
       "      <td>389.630005</td>\n",
       "      <td>387.848999</td>\n",
       "      <td>117705900</td>\n",
       "      <td>50</td>\n",
       "      <td>12</td>\n",
       "      <td>2022</td>\n",
       "      <td>400.40</td>\n",
       "      <td>400.90</td>\n",
       "      <td>399.90</td>\n",
       "      <td>404.49</td>\n",
       "      <td>395.30</td>\n",
       "      <td>409.59</td>\n",
       "      <td>391.21</td>\n",
       "      <td>413.68</td>\n",
       "      <td>386.11</td>\n",
       "    </tr>\n",
       "    <tr>\n",
       "      <th>2022-12-16</th>\n",
       "      <td>385.179993</td>\n",
       "      <td>386.579987</td>\n",
       "      <td>381.040009</td>\n",
       "      <td>383.269989</td>\n",
       "      <td>383.269989</td>\n",
       "      <td>119764500</td>\n",
       "      <td>50</td>\n",
       "      <td>12</td>\n",
       "      <td>2022</td>\n",
       "      <td>390.92</td>\n",
       "      <td>391.57</td>\n",
       "      <td>390.27</td>\n",
       "      <td>393.95</td>\n",
       "      <td>386.59</td>\n",
       "      <td>398.28</td>\n",
       "      <td>383.56</td>\n",
       "      <td>401.31</td>\n",
       "      <td>379.23</td>\n",
       "    </tr>\n",
       "    <tr>\n",
       "      <th>2022-12-19</th>\n",
       "      <td>383.470001</td>\n",
       "      <td>383.820007</td>\n",
       "      <td>378.279999</td>\n",
       "      <td>380.019989</td>\n",
       "      <td>380.019989</td>\n",
       "      <td>79738100</td>\n",
       "      <td>51</td>\n",
       "      <td>12</td>\n",
       "      <td>2022</td>\n",
       "      <td>383.63</td>\n",
       "      <td>383.81</td>\n",
       "      <td>383.45</td>\n",
       "      <td>386.22</td>\n",
       "      <td>380.68</td>\n",
       "      <td>389.17</td>\n",
       "      <td>378.09</td>\n",
       "      <td>391.76</td>\n",
       "      <td>375.14</td>\n",
       "    </tr>\n",
       "  </tbody>\n",
       "</table>\n",
       "<p>7528 rows × 18 columns</p>\n",
       "</div>"
      ],
      "text/plain": [
       "                  Open        High         Low       Close   Adj Close  \\\n",
       "Date                                                                     \n",
       "1993-01-29   43.968750   43.968750   43.750000   43.937500   25.218220   \n",
       "1993-02-01   43.968750   44.250000   43.968750   44.250000   25.397587   \n",
       "1993-02-02   44.218750   44.375000   44.125000   44.343750   25.451391   \n",
       "1993-02-03   44.406250   44.843750   44.375000   44.812500   25.720444   \n",
       "1993-02-04   44.968750   45.093750   44.468750   45.000000   25.828070   \n",
       "...                ...         ...         ...         ...         ...   \n",
       "2022-12-13  410.220001  410.489990  399.070007  401.970001  400.132599   \n",
       "2022-12-14  401.609985  405.500000  396.309998  399.399994  397.574341   \n",
       "2022-12-15  394.299988  395.250000  387.890015  389.630005  387.848999   \n",
       "2022-12-16  385.179993  386.579987  381.040009  383.269989  383.269989   \n",
       "2022-12-19  383.470001  383.820007  378.279999  380.019989  380.019989   \n",
       "\n",
       "               Volume  week  month  year      PP      BC      TC      R1  \\\n",
       "Date                                                                       \n",
       "1993-01-29    1003200     4      1  1993     NaN     NaN     NaN     NaN   \n",
       "1993-02-01     480500     5      2  1993   43.89   43.86   43.92   44.03   \n",
       "1993-02-02     201300     5      2  1993   44.16   44.11   44.21   44.35   \n",
       "1993-02-03     529400     5      2  1993   44.28   44.25   44.31   44.44   \n",
       "1993-02-04     531500     5      2  1993   44.68   44.61   44.75   44.98   \n",
       "...               ...   ...    ...   ...     ...     ...     ...     ...   \n",
       "2022-12-13  123782500    50     12  2022  397.10  396.18  398.02  400.79   \n",
       "2022-12-14  108111300    50     12  2022  403.84  404.78  402.90  408.61   \n",
       "2022-12-15  117705900    50     12  2022  400.40  400.90  399.90  404.49   \n",
       "2022-12-16  119764500    50     12  2022  390.92  391.57  390.27  393.95   \n",
       "2022-12-19   79738100    51     12  2022  383.63  383.81  383.45  386.22   \n",
       "\n",
       "                S1      R2      S2      R3      S3  \n",
       "Date                                                \n",
       "1993-01-29     NaN     NaN     NaN     NaN     NaN  \n",
       "1993-02-01   43.81   44.11   43.67   44.25   43.59  \n",
       "1993-02-02   44.07   44.44   43.88   44.63   43.79  \n",
       "1993-02-03   44.18   44.53   44.03   44.68   43.94  \n",
       "1993-02-04   44.52   45.15   44.21   45.45   44.05  \n",
       "...            ...     ...     ...     ...     ...  \n",
       "2022-12-13  395.25  402.64  391.56  406.33  389.71  \n",
       "2022-12-14  397.19  415.26  392.42  420.03  385.77  \n",
       "2022-12-15  395.30  409.59  391.21  413.68  386.11  \n",
       "2022-12-16  386.59  398.28  383.56  401.31  379.23  \n",
       "2022-12-19  380.68  389.17  378.09  391.76  375.14  \n",
       "\n",
       "[7528 rows x 18 columns]"
      ]
     },
     "execution_count": 25,
     "metadata": {},
     "output_type": "execute_result"
    }
   ],
   "source": [
    "daily_pivot"
   ]
  },
  {
   "cell_type": "code",
   "execution_count": 26,
   "id": "14d2ae27",
   "metadata": {},
   "outputs": [
    {
     "data": {
      "text/html": [
       "<div>\n",
       "<style scoped>\n",
       "    .dataframe tbody tr th:only-of-type {\n",
       "        vertical-align: middle;\n",
       "    }\n",
       "\n",
       "    .dataframe tbody tr th {\n",
       "        vertical-align: top;\n",
       "    }\n",
       "\n",
       "    .dataframe thead th {\n",
       "        text-align: right;\n",
       "    }\n",
       "</style>\n",
       "<table border=\"1\" class=\"dataframe\">\n",
       "  <thead>\n",
       "    <tr style=\"text-align: right;\">\n",
       "      <th></th>\n",
       "      <th>Open</th>\n",
       "      <th>High</th>\n",
       "      <th>Low</th>\n",
       "      <th>Close</th>\n",
       "      <th>Adj Close</th>\n",
       "      <th>Volume</th>\n",
       "      <th>week</th>\n",
       "      <th>year</th>\n",
       "      <th>PP</th>\n",
       "      <th>R1</th>\n",
       "      <th>S1</th>\n",
       "      <th>R2</th>\n",
       "      <th>S2</th>\n",
       "      <th>R3</th>\n",
       "      <th>S3</th>\n",
       "    </tr>\n",
       "    <tr>\n",
       "      <th>Date</th>\n",
       "      <th></th>\n",
       "      <th></th>\n",
       "      <th></th>\n",
       "      <th></th>\n",
       "      <th></th>\n",
       "      <th></th>\n",
       "      <th></th>\n",
       "      <th></th>\n",
       "      <th></th>\n",
       "      <th></th>\n",
       "      <th></th>\n",
       "      <th></th>\n",
       "      <th></th>\n",
       "      <th></th>\n",
       "      <th></th>\n",
       "    </tr>\n",
       "  </thead>\n",
       "  <tbody>\n",
       "    <tr>\n",
       "      <th>1993-01-25</th>\n",
       "      <td>43.968750</td>\n",
       "      <td>43.968750</td>\n",
       "      <td>43.750000</td>\n",
       "      <td>43.937500</td>\n",
       "      <td>25.218220</td>\n",
       "      <td>1003200.0</td>\n",
       "      <td>4</td>\n",
       "      <td>1993</td>\n",
       "      <td>NaN</td>\n",
       "      <td>NaN</td>\n",
       "      <td>NaN</td>\n",
       "      <td>NaN</td>\n",
       "      <td>NaN</td>\n",
       "      <td>NaN</td>\n",
       "      <td>NaN</td>\n",
       "    </tr>\n",
       "    <tr>\n",
       "      <th>1993-02-01</th>\n",
       "      <td>43.968750</td>\n",
       "      <td>45.093750</td>\n",
       "      <td>43.968750</td>\n",
       "      <td>44.968750</td>\n",
       "      <td>25.810123</td>\n",
       "      <td>2234800.0</td>\n",
       "      <td>5</td>\n",
       "      <td>1993</td>\n",
       "      <td>43.89</td>\n",
       "      <td>44.03</td>\n",
       "      <td>43.81</td>\n",
       "      <td>44.11</td>\n",
       "      <td>43.67</td>\n",
       "      <td>44.25</td>\n",
       "      <td>43.59</td>\n",
       "    </tr>\n",
       "    <tr>\n",
       "      <th>1993-02-08</th>\n",
       "      <td>44.968750</td>\n",
       "      <td>45.125000</td>\n",
       "      <td>44.531250</td>\n",
       "      <td>44.593750</td>\n",
       "      <td>25.594887</td>\n",
       "      <td>1159800.0</td>\n",
       "      <td>6</td>\n",
       "      <td>1993</td>\n",
       "      <td>44.68</td>\n",
       "      <td>45.39</td>\n",
       "      <td>44.27</td>\n",
       "      <td>45.80</td>\n",
       "      <td>43.56</td>\n",
       "      <td>46.52</td>\n",
       "      <td>43.14</td>\n",
       "    </tr>\n",
       "    <tr>\n",
       "      <th>1993-02-15</th>\n",
       "      <td>44.468750</td>\n",
       "      <td>44.468750</td>\n",
       "      <td>42.812500</td>\n",
       "      <td>43.562500</td>\n",
       "      <td>25.003000</td>\n",
       "      <td>998700.0</td>\n",
       "      <td>7</td>\n",
       "      <td>1993</td>\n",
       "      <td>44.75</td>\n",
       "      <td>44.97</td>\n",
       "      <td>44.38</td>\n",
       "      <td>45.34</td>\n",
       "      <td>44.16</td>\n",
       "      <td>45.56</td>\n",
       "      <td>43.78</td>\n",
       "    </tr>\n",
       "    <tr>\n",
       "      <th>1993-02-22</th>\n",
       "      <td>43.687500</td>\n",
       "      <td>44.437500</td>\n",
       "      <td>43.468750</td>\n",
       "      <td>44.406250</td>\n",
       "      <td>25.487270</td>\n",
       "      <td>1024300.0</td>\n",
       "      <td>8</td>\n",
       "      <td>1993</td>\n",
       "      <td>43.61</td>\n",
       "      <td>44.41</td>\n",
       "      <td>42.75</td>\n",
       "      <td>45.27</td>\n",
       "      <td>41.95</td>\n",
       "      <td>46.06</td>\n",
       "      <td>41.10</td>\n",
       "    </tr>\n",
       "    <tr>\n",
       "      <th>...</th>\n",
       "      <td>...</td>\n",
       "      <td>...</td>\n",
       "      <td>...</td>\n",
       "      <td>...</td>\n",
       "      <td>...</td>\n",
       "      <td>...</td>\n",
       "      <td>...</td>\n",
       "      <td>...</td>\n",
       "      <td>...</td>\n",
       "      <td>...</td>\n",
       "      <td>...</td>\n",
       "      <td>...</td>\n",
       "      <td>...</td>\n",
       "      <td>...</td>\n",
       "      <td>...</td>\n",
       "    </tr>\n",
       "    <tr>\n",
       "      <th>2022-11-28</th>\n",
       "      <td>399.089996</td>\n",
       "      <td>410.000000</td>\n",
       "      <td>393.299988</td>\n",
       "      <td>406.910004</td>\n",
       "      <td>405.050018</td>\n",
       "      <td>426430400.0</td>\n",
       "      <td>48</td>\n",
       "      <td>2022</td>\n",
       "      <td>399.31</td>\n",
       "      <td>405.96</td>\n",
       "      <td>395.69</td>\n",
       "      <td>409.58</td>\n",
       "      <td>389.04</td>\n",
       "      <td>416.23</td>\n",
       "      <td>385.42</td>\n",
       "    </tr>\n",
       "    <tr>\n",
       "      <th>2022-12-05</th>\n",
       "      <td>403.950012</td>\n",
       "      <td>404.929993</td>\n",
       "      <td>391.640015</td>\n",
       "      <td>393.279999</td>\n",
       "      <td>391.482300</td>\n",
       "      <td>363295300.0</td>\n",
       "      <td>49</td>\n",
       "      <td>2022</td>\n",
       "      <td>403.40</td>\n",
       "      <td>413.50</td>\n",
       "      <td>396.80</td>\n",
       "      <td>420.10</td>\n",
       "      <td>386.70</td>\n",
       "      <td>430.20</td>\n",
       "      <td>380.10</td>\n",
       "    </tr>\n",
       "    <tr>\n",
       "      <th>2022-12-12</th>\n",
       "      <td>394.109985</td>\n",
       "      <td>410.489990</td>\n",
       "      <td>381.040009</td>\n",
       "      <td>383.269989</td>\n",
       "      <td>381.518066</td>\n",
       "      <td>544770000.0</td>\n",
       "      <td>50</td>\n",
       "      <td>2022</td>\n",
       "      <td>396.62</td>\n",
       "      <td>401.60</td>\n",
       "      <td>388.31</td>\n",
       "      <td>409.91</td>\n",
       "      <td>383.33</td>\n",
       "      <td>414.89</td>\n",
       "      <td>375.02</td>\n",
       "    </tr>\n",
       "    <tr>\n",
       "      <th>2022-12-16</th>\n",
       "      <td>NaN</td>\n",
       "      <td>NaN</td>\n",
       "      <td>NaN</td>\n",
       "      <td>NaN</td>\n",
       "      <td>NaN</td>\n",
       "      <td>NaN</td>\n",
       "      <td>50</td>\n",
       "      <td>2022</td>\n",
       "      <td>391.60</td>\n",
       "      <td>402.16</td>\n",
       "      <td>372.71</td>\n",
       "      <td>421.05</td>\n",
       "      <td>362.15</td>\n",
       "      <td>431.61</td>\n",
       "      <td>343.26</td>\n",
       "    </tr>\n",
       "    <tr>\n",
       "      <th>2022-12-19</th>\n",
       "      <td>383.470001</td>\n",
       "      <td>383.820007</td>\n",
       "      <td>378.279999</td>\n",
       "      <td>380.019989</td>\n",
       "      <td>380.019989</td>\n",
       "      <td>79738100.0</td>\n",
       "      <td>51</td>\n",
       "      <td>2022</td>\n",
       "      <td>NaN</td>\n",
       "      <td>NaN</td>\n",
       "      <td>NaN</td>\n",
       "      <td>NaN</td>\n",
       "      <td>NaN</td>\n",
       "      <td>NaN</td>\n",
       "      <td>NaN</td>\n",
       "    </tr>\n",
       "  </tbody>\n",
       "</table>\n",
       "<p>1681 rows × 15 columns</p>\n",
       "</div>"
      ],
      "text/plain": [
       "                  Open        High         Low       Close   Adj Close  \\\n",
       "Date                                                                     \n",
       "1993-01-25   43.968750   43.968750   43.750000   43.937500   25.218220   \n",
       "1993-02-01   43.968750   45.093750   43.968750   44.968750   25.810123   \n",
       "1993-02-08   44.968750   45.125000   44.531250   44.593750   25.594887   \n",
       "1993-02-15   44.468750   44.468750   42.812500   43.562500   25.003000   \n",
       "1993-02-22   43.687500   44.437500   43.468750   44.406250   25.487270   \n",
       "...                ...         ...         ...         ...         ...   \n",
       "2022-11-28  399.089996  410.000000  393.299988  406.910004  405.050018   \n",
       "2022-12-05  403.950012  404.929993  391.640015  393.279999  391.482300   \n",
       "2022-12-12  394.109985  410.489990  381.040009  383.269989  381.518066   \n",
       "2022-12-16         NaN         NaN         NaN         NaN         NaN   \n",
       "2022-12-19  383.470001  383.820007  378.279999  380.019989  380.019989   \n",
       "\n",
       "                 Volume  week  year      PP      R1      S1      R2      S2  \\\n",
       "Date                                                                          \n",
       "1993-01-25    1003200.0     4  1993     NaN     NaN     NaN     NaN     NaN   \n",
       "1993-02-01    2234800.0     5  1993   43.89   44.03   43.81   44.11   43.67   \n",
       "1993-02-08    1159800.0     6  1993   44.68   45.39   44.27   45.80   43.56   \n",
       "1993-02-15     998700.0     7  1993   44.75   44.97   44.38   45.34   44.16   \n",
       "1993-02-22    1024300.0     8  1993   43.61   44.41   42.75   45.27   41.95   \n",
       "...                 ...   ...   ...     ...     ...     ...     ...     ...   \n",
       "2022-11-28  426430400.0    48  2022  399.31  405.96  395.69  409.58  389.04   \n",
       "2022-12-05  363295300.0    49  2022  403.40  413.50  396.80  420.10  386.70   \n",
       "2022-12-12  544770000.0    50  2022  396.62  401.60  388.31  409.91  383.33   \n",
       "2022-12-16          NaN    50  2022  391.60  402.16  372.71  421.05  362.15   \n",
       "2022-12-19   79738100.0    51  2022     NaN     NaN     NaN     NaN     NaN   \n",
       "\n",
       "                R3      S3  \n",
       "Date                        \n",
       "1993-01-25     NaN     NaN  \n",
       "1993-02-01   44.25   43.59  \n",
       "1993-02-08   46.52   43.14  \n",
       "1993-02-15   45.56   43.78  \n",
       "1993-02-22   46.06   41.10  \n",
       "...            ...     ...  \n",
       "2022-11-28  416.23  385.42  \n",
       "2022-12-05  430.20  380.10  \n",
       "2022-12-12  414.89  375.02  \n",
       "2022-12-16  431.61  343.26  \n",
       "2022-12-19     NaN     NaN  \n",
       "\n",
       "[1681 rows x 15 columns]"
      ]
     },
     "execution_count": 26,
     "metadata": {},
     "output_type": "execute_result"
    }
   ],
   "source": [
    "weekly_pivot"
   ]
  },
  {
   "cell_type": "code",
   "execution_count": 27,
   "id": "308e0ca5",
   "metadata": {},
   "outputs": [],
   "source": [
    "weekly_pivot=weekly_pivot[:-1]"
   ]
  },
  {
   "cell_type": "code",
   "execution_count": 28,
   "id": "8ed3348d",
   "metadata": {},
   "outputs": [
    {
     "data": {
      "text/html": [
       "<div>\n",
       "<style scoped>\n",
       "    .dataframe tbody tr th:only-of-type {\n",
       "        vertical-align: middle;\n",
       "    }\n",
       "\n",
       "    .dataframe tbody tr th {\n",
       "        vertical-align: top;\n",
       "    }\n",
       "\n",
       "    .dataframe thead th {\n",
       "        text-align: right;\n",
       "    }\n",
       "</style>\n",
       "<table border=\"1\" class=\"dataframe\">\n",
       "  <thead>\n",
       "    <tr style=\"text-align: right;\">\n",
       "      <th></th>\n",
       "      <th>Open</th>\n",
       "      <th>High</th>\n",
       "      <th>Low</th>\n",
       "      <th>Close</th>\n",
       "      <th>Adj Close</th>\n",
       "      <th>Volume</th>\n",
       "      <th>month</th>\n",
       "      <th>year</th>\n",
       "      <th>PP</th>\n",
       "      <th>R1</th>\n",
       "      <th>S1</th>\n",
       "      <th>R2</th>\n",
       "      <th>S2</th>\n",
       "      <th>R3</th>\n",
       "      <th>S3</th>\n",
       "    </tr>\n",
       "    <tr>\n",
       "      <th>Date</th>\n",
       "      <th></th>\n",
       "      <th></th>\n",
       "      <th></th>\n",
       "      <th></th>\n",
       "      <th></th>\n",
       "      <th></th>\n",
       "      <th></th>\n",
       "      <th></th>\n",
       "      <th></th>\n",
       "      <th></th>\n",
       "      <th></th>\n",
       "      <th></th>\n",
       "      <th></th>\n",
       "      <th></th>\n",
       "      <th></th>\n",
       "    </tr>\n",
       "  </thead>\n",
       "  <tbody>\n",
       "    <tr>\n",
       "      <th>1993-02-01</th>\n",
       "      <td>43.968750</td>\n",
       "      <td>45.125000</td>\n",
       "      <td>42.812500</td>\n",
       "      <td>44.406250</td>\n",
       "      <td>25.487270</td>\n",
       "      <td>5.417600e+06</td>\n",
       "      <td>2</td>\n",
       "      <td>1993</td>\n",
       "      <td>NaN</td>\n",
       "      <td>NaN</td>\n",
       "      <td>NaN</td>\n",
       "      <td>NaN</td>\n",
       "      <td>NaN</td>\n",
       "      <td>NaN</td>\n",
       "      <td>NaN</td>\n",
       "    </tr>\n",
       "    <tr>\n",
       "      <th>1993-03-01</th>\n",
       "      <td>44.562500</td>\n",
       "      <td>45.843750</td>\n",
       "      <td>44.218750</td>\n",
       "      <td>45.187500</td>\n",
       "      <td>25.935667</td>\n",
       "      <td>3.019200e+06</td>\n",
       "      <td>3</td>\n",
       "      <td>1993</td>\n",
       "      <td>44.11</td>\n",
       "      <td>45.41</td>\n",
       "      <td>43.10</td>\n",
       "      <td>46.42</td>\n",
       "      <td>41.80</td>\n",
       "      <td>47.72</td>\n",
       "      <td>40.78</td>\n",
       "    </tr>\n",
       "    <tr>\n",
       "      <th>1993-03-19</th>\n",
       "      <td>NaN</td>\n",
       "      <td>NaN</td>\n",
       "      <td>NaN</td>\n",
       "      <td>NaN</td>\n",
       "      <td>NaN</td>\n",
       "      <td>NaN</td>\n",
       "      <td>3</td>\n",
       "      <td>1993</td>\n",
       "      <td>45.08</td>\n",
       "      <td>45.94</td>\n",
       "      <td>44.32</td>\n",
       "      <td>46.70</td>\n",
       "      <td>43.46</td>\n",
       "      <td>47.57</td>\n",
       "      <td>42.69</td>\n",
       "    </tr>\n",
       "    <tr>\n",
       "      <th>1993-04-01</th>\n",
       "      <td>45.250000</td>\n",
       "      <td>45.250000</td>\n",
       "      <td>43.281250</td>\n",
       "      <td>44.031250</td>\n",
       "      <td>25.391386</td>\n",
       "      <td>2.697200e+06</td>\n",
       "      <td>4</td>\n",
       "      <td>1993</td>\n",
       "      <td>NaN</td>\n",
       "      <td>NaN</td>\n",
       "      <td>NaN</td>\n",
       "      <td>NaN</td>\n",
       "      <td>NaN</td>\n",
       "      <td>NaN</td>\n",
       "      <td>NaN</td>\n",
       "    </tr>\n",
       "    <tr>\n",
       "      <th>1993-05-01</th>\n",
       "      <td>44.093750</td>\n",
       "      <td>45.656250</td>\n",
       "      <td>43.843750</td>\n",
       "      <td>45.218750</td>\n",
       "      <td>26.076176</td>\n",
       "      <td>1.808000e+06</td>\n",
       "      <td>5</td>\n",
       "      <td>1993</td>\n",
       "      <td>44.19</td>\n",
       "      <td>45.10</td>\n",
       "      <td>43.13</td>\n",
       "      <td>46.16</td>\n",
       "      <td>42.22</td>\n",
       "      <td>47.07</td>\n",
       "      <td>41.16</td>\n",
       "    </tr>\n",
       "    <tr>\n",
       "      <th>...</th>\n",
       "      <td>...</td>\n",
       "      <td>...</td>\n",
       "      <td>...</td>\n",
       "      <td>...</td>\n",
       "      <td>...</td>\n",
       "      <td>...</td>\n",
       "      <td>...</td>\n",
       "      <td>...</td>\n",
       "      <td>...</td>\n",
       "      <td>...</td>\n",
       "      <td>...</td>\n",
       "      <td>...</td>\n",
       "      <td>...</td>\n",
       "      <td>...</td>\n",
       "      <td>...</td>\n",
       "    </tr>\n",
       "    <tr>\n",
       "      <th>2022-10-01</th>\n",
       "      <td>361.079987</td>\n",
       "      <td>389.519989</td>\n",
       "      <td>348.109985</td>\n",
       "      <td>386.209991</td>\n",
       "      <td>384.444611</td>\n",
       "      <td>2.024732e+09</td>\n",
       "      <td>10</td>\n",
       "      <td>2022</td>\n",
       "      <td>NaN</td>\n",
       "      <td>NaN</td>\n",
       "      <td>NaN</td>\n",
       "      <td>NaN</td>\n",
       "      <td>NaN</td>\n",
       "      <td>NaN</td>\n",
       "      <td>NaN</td>\n",
       "    </tr>\n",
       "    <tr>\n",
       "      <th>2022-11-01</th>\n",
       "      <td>390.140015</td>\n",
       "      <td>407.679993</td>\n",
       "      <td>368.790009</td>\n",
       "      <td>407.679993</td>\n",
       "      <td>405.816467</td>\n",
       "      <td>1.745985e+09</td>\n",
       "      <td>11</td>\n",
       "      <td>2022</td>\n",
       "      <td>374.61</td>\n",
       "      <td>401.11</td>\n",
       "      <td>359.70</td>\n",
       "      <td>416.02</td>\n",
       "      <td>333.20</td>\n",
       "      <td>442.52</td>\n",
       "      <td>318.29</td>\n",
       "    </tr>\n",
       "    <tr>\n",
       "      <th>2022-12-01</th>\n",
       "      <td>408.769989</td>\n",
       "      <td>410.489990</td>\n",
       "      <td>378.279999</td>\n",
       "      <td>380.019989</td>\n",
       "      <td>378.282898</td>\n",
       "      <td>1.149476e+09</td>\n",
       "      <td>12</td>\n",
       "      <td>2022</td>\n",
       "      <td>394.72</td>\n",
       "      <td>420.65</td>\n",
       "      <td>381.76</td>\n",
       "      <td>433.61</td>\n",
       "      <td>355.83</td>\n",
       "      <td>459.54</td>\n",
       "      <td>342.87</td>\n",
       "    </tr>\n",
       "    <tr>\n",
       "      <th>2022-12-16</th>\n",
       "      <td>NaN</td>\n",
       "      <td>NaN</td>\n",
       "      <td>NaN</td>\n",
       "      <td>NaN</td>\n",
       "      <td>NaN</td>\n",
       "      <td>NaN</td>\n",
       "      <td>12</td>\n",
       "      <td>2022</td>\n",
       "      <td>389.60</td>\n",
       "      <td>400.92</td>\n",
       "      <td>368.71</td>\n",
       "      <td>421.81</td>\n",
       "      <td>357.39</td>\n",
       "      <td>433.13</td>\n",
       "      <td>336.50</td>\n",
       "    </tr>\n",
       "    <tr>\n",
       "      <th>2022-12-19</th>\n",
       "      <td>383.470001</td>\n",
       "      <td>383.809998</td>\n",
       "      <td>378.279999</td>\n",
       "      <td>380.019989</td>\n",
       "      <td>380.019989</td>\n",
       "      <td>7.987810e+07</td>\n",
       "      <td>12</td>\n",
       "      <td>2022</td>\n",
       "      <td>NaN</td>\n",
       "      <td>NaN</td>\n",
       "      <td>NaN</td>\n",
       "      <td>NaN</td>\n",
       "      <td>NaN</td>\n",
       "      <td>NaN</td>\n",
       "      <td>NaN</td>\n",
       "    </tr>\n",
       "  </tbody>\n",
       "</table>\n",
       "<p>481 rows × 15 columns</p>\n",
       "</div>"
      ],
      "text/plain": [
       "                  Open        High         Low       Close   Adj Close  \\\n",
       "Date                                                                     \n",
       "1993-02-01   43.968750   45.125000   42.812500   44.406250   25.487270   \n",
       "1993-03-01   44.562500   45.843750   44.218750   45.187500   25.935667   \n",
       "1993-03-19         NaN         NaN         NaN         NaN         NaN   \n",
       "1993-04-01   45.250000   45.250000   43.281250   44.031250   25.391386   \n",
       "1993-05-01   44.093750   45.656250   43.843750   45.218750   26.076176   \n",
       "...                ...         ...         ...         ...         ...   \n",
       "2022-10-01  361.079987  389.519989  348.109985  386.209991  384.444611   \n",
       "2022-11-01  390.140015  407.679993  368.790009  407.679993  405.816467   \n",
       "2022-12-01  408.769989  410.489990  378.279999  380.019989  378.282898   \n",
       "2022-12-16         NaN         NaN         NaN         NaN         NaN   \n",
       "2022-12-19  383.470001  383.809998  378.279999  380.019989  380.019989   \n",
       "\n",
       "                  Volume  month  year      PP      R1      S1      R2      S2  \\\n",
       "Date                                                                            \n",
       "1993-02-01  5.417600e+06      2  1993     NaN     NaN     NaN     NaN     NaN   \n",
       "1993-03-01  3.019200e+06      3  1993   44.11   45.41   43.10   46.42   41.80   \n",
       "1993-03-19           NaN      3  1993   45.08   45.94   44.32   46.70   43.46   \n",
       "1993-04-01  2.697200e+06      4  1993     NaN     NaN     NaN     NaN     NaN   \n",
       "1993-05-01  1.808000e+06      5  1993   44.19   45.10   43.13   46.16   42.22   \n",
       "...                  ...    ...   ...     ...     ...     ...     ...     ...   \n",
       "2022-10-01  2.024732e+09     10  2022     NaN     NaN     NaN     NaN     NaN   \n",
       "2022-11-01  1.745985e+09     11  2022  374.61  401.11  359.70  416.02  333.20   \n",
       "2022-12-01  1.149476e+09     12  2022  394.72  420.65  381.76  433.61  355.83   \n",
       "2022-12-16           NaN     12  2022  389.60  400.92  368.71  421.81  357.39   \n",
       "2022-12-19  7.987810e+07     12  2022     NaN     NaN     NaN     NaN     NaN   \n",
       "\n",
       "                R3      S3  \n",
       "Date                        \n",
       "1993-02-01     NaN     NaN  \n",
       "1993-03-01   47.72   40.78  \n",
       "1993-03-19   47.57   42.69  \n",
       "1993-04-01     NaN     NaN  \n",
       "1993-05-01   47.07   41.16  \n",
       "...            ...     ...  \n",
       "2022-10-01     NaN     NaN  \n",
       "2022-11-01  442.52  318.29  \n",
       "2022-12-01  459.54  342.87  \n",
       "2022-12-16  433.13  336.50  \n",
       "2022-12-19     NaN     NaN  \n",
       "\n",
       "[481 rows x 15 columns]"
      ]
     },
     "execution_count": 28,
     "metadata": {},
     "output_type": "execute_result"
    }
   ],
   "source": [
    "monthly_pivot"
   ]
  },
  {
   "cell_type": "code",
   "execution_count": 29,
   "id": "75b596ed",
   "metadata": {},
   "outputs": [],
   "source": [
    "monthly_pivot=monthly_pivot[:-1]"
   ]
  },
  {
   "cell_type": "code",
   "execution_count": 30,
   "id": "74869fda",
   "metadata": {},
   "outputs": [
    {
     "name": "stdout",
     "output_type": "stream",
     "text": [
      "2022-11-25 00:00:00\n",
      "2022\n",
      "11\n",
      "25\n",
      "47\n"
     ]
    }
   ],
   "source": [
    "import datetime as dt\n",
    "today=dt.datetime(2022,11,25)\n",
    "print(today)\n",
    "print(today.year)\n",
    "print(today.month)\n",
    "print(today.day)\n",
    "print(today.isocalendar().week)    #getting the week of the year"
   ]
  },
  {
   "cell_type": "code",
   "execution_count": 31,
   "id": "0cbe29ce",
   "metadata": {},
   "outputs": [
    {
     "data": {
      "text/plain": [
       "Date\n",
       "1993-01-25    False\n",
       "1993-02-01    False\n",
       "1993-02-08    False\n",
       "1993-02-15    False\n",
       "1993-02-22    False\n",
       "              ...  \n",
       "2022-11-21     True\n",
       "2022-11-28    False\n",
       "2022-12-05    False\n",
       "2022-12-12    False\n",
       "2022-12-16    False\n",
       "Name: week, Length: 1680, dtype: bool"
      ]
     },
     "execution_count": 31,
     "metadata": {},
     "output_type": "execute_result"
    }
   ],
   "source": [
    "weekly_pivot[\"week\"]==today.isocalendar().week"
   ]
  },
  {
   "cell_type": "code",
   "execution_count": 32,
   "id": "735b18df",
   "metadata": {},
   "outputs": [
    {
     "data": {
      "text/plain": [
       "Date\n",
       "1993-01-25    False\n",
       "1993-02-01    False\n",
       "1993-02-08    False\n",
       "1993-02-15    False\n",
       "1993-02-22    False\n",
       "              ...  \n",
       "2022-11-21     True\n",
       "2022-11-28     True\n",
       "2022-12-05     True\n",
       "2022-12-12     True\n",
       "2022-12-16     True\n",
       "Name: year, Length: 1680, dtype: bool"
      ]
     },
     "execution_count": 32,
     "metadata": {},
     "output_type": "execute_result"
    }
   ],
   "source": [
    "weekly_pivot[\"year\"]==today.year"
   ]
  },
  {
   "cell_type": "code",
   "execution_count": 33,
   "id": "488d2550",
   "metadata": {},
   "outputs": [],
   "source": [
    "for i in range(len(weekly_pivot)):\n",
    "    if weekly_pivot[\"week\"][i]==today.isocalendar().week and weekly_pivot[\"year\"][i]==today.year:\n",
    "        week_index=i"
   ]
  },
  {
   "cell_type": "code",
   "execution_count": 34,
   "id": "74ba7a4d",
   "metadata": {},
   "outputs": [
    {
     "data": {
      "text/plain": [
       "Open         3.946400e+02\n",
       "High         4.029300e+02\n",
       "Low          3.926600e+02\n",
       "Close        4.023300e+02\n",
       "Adj Close    4.004909e+02\n",
       "Volume       2.104792e+08\n",
       "week         4.700000e+01\n",
       "year         2.022000e+03\n",
       "PP           3.961600e+02\n",
       "R1           4.021800e+02\n",
       "S1           3.900100e+02\n",
       "R2           4.083300e+02\n",
       "S2           3.839900e+02\n",
       "R3           4.143500e+02\n",
       "S3           3.778400e+02\n",
       "Name: 2022-11-21 00:00:00, dtype: float64"
      ]
     },
     "execution_count": 34,
     "metadata": {},
     "output_type": "execute_result"
    }
   ],
   "source": [
    "weekly_pivot.iloc[week_index]"
   ]
  },
  {
   "cell_type": "code",
   "execution_count": 35,
   "id": "35128bbf",
   "metadata": {},
   "outputs": [
    {
     "data": {
      "text/plain": [
       "402.18"
      ]
     },
     "execution_count": 35,
     "metadata": {},
     "output_type": "execute_result"
    }
   ],
   "source": [
    "weekly_pivot.iloc[week_index:][\"R1\"][0]\n"
   ]
  },
  {
   "cell_type": "code",
   "execution_count": 36,
   "id": "615a22df",
   "metadata": {},
   "outputs": [
    {
     "data": {
      "text/plain": [
       "390.01"
      ]
     },
     "execution_count": 36,
     "metadata": {},
     "output_type": "execute_result"
    }
   ],
   "source": [
    "weekly_pivot.iloc[week_index:][\"S1\"][0]\n"
   ]
  },
  {
   "cell_type": "code",
   "execution_count": 37,
   "id": "fc5f7c8c",
   "metadata": {},
   "outputs": [
    {
     "data": {
      "text/plain": [
       "396.16"
      ]
     },
     "execution_count": 37,
     "metadata": {},
     "output_type": "execute_result"
    }
   ],
   "source": [
    "weekly_pivot.iloc[week_index:][\"PP\"][0]\n"
   ]
  },
  {
   "cell_type": "code",
   "execution_count": 38,
   "id": "4e31c94e",
   "metadata": {},
   "outputs": [],
   "source": [
    "for j in range(len(monthly_pivot)):\n",
    "    if monthly_pivot[\"month\"][j]==today.month and monthly_pivot[\"year\"][j]==today.year:\n",
    "        month_index=j\n",
    "        "
   ]
  },
  {
   "cell_type": "code",
   "execution_count": 39,
   "id": "225cc38e",
   "metadata": {},
   "outputs": [
    {
     "data": {
      "text/plain": [
       "Open         3.901400e+02\n",
       "High         4.076800e+02\n",
       "Low          3.687900e+02\n",
       "Close        4.076800e+02\n",
       "Adj Close    4.058165e+02\n",
       "Volume       1.745985e+09\n",
       "month        1.100000e+01\n",
       "year         2.022000e+03\n",
       "PP           3.746100e+02\n",
       "R1           4.011100e+02\n",
       "S1           3.597000e+02\n",
       "R2           4.160200e+02\n",
       "S2           3.332000e+02\n",
       "R3           4.425200e+02\n",
       "S3           3.182900e+02\n",
       "Name: 2022-11-01 00:00:00, dtype: float64"
      ]
     },
     "execution_count": 39,
     "metadata": {},
     "output_type": "execute_result"
    }
   ],
   "source": [
    "monthly_pivot.iloc[month_index]"
   ]
  },
  {
   "cell_type": "code",
   "execution_count": 40,
   "id": "32c2b139",
   "metadata": {},
   "outputs": [
    {
     "data": {
      "text/plain": [
       "374.61"
      ]
     },
     "execution_count": 40,
     "metadata": {},
     "output_type": "execute_result"
    }
   ],
   "source": [
    "monthly_pivot.iloc[month_index:]['PP'][0]"
   ]
  },
  {
   "cell_type": "code",
   "execution_count": 41,
   "id": "4ecac66f",
   "metadata": {},
   "outputs": [
    {
     "data": {
      "text/plain": [
       "359.7"
      ]
     },
     "execution_count": 41,
     "metadata": {},
     "output_type": "execute_result"
    }
   ],
   "source": [
    "monthly_pivot.iloc[month_index:][\"S1\"][0]"
   ]
  },
  {
   "cell_type": "code",
   "execution_count": 42,
   "id": "d9a8adc0",
   "metadata": {},
   "outputs": [
    {
     "data": {
      "text/plain": [
       "401.11"
      ]
     },
     "execution_count": 42,
     "metadata": {},
     "output_type": "execute_result"
    }
   ],
   "source": [
    "monthly_pivot.iloc[month_index:][\"R1\"][0]"
   ]
  },
  {
   "cell_type": "code",
   "execution_count": 43,
   "id": "3b8f50c7",
   "metadata": {},
   "outputs": [
    {
     "data": {
      "text/plain": [
       "401.5400085449219"
      ]
     },
     "execution_count": 43,
     "metadata": {},
     "output_type": "execute_result"
    }
   ],
   "source": [
    "date='2022-11-25'\n",
    "daily_pivot.loc[date][\"Low\"]"
   ]
  },
  {
   "cell_type": "code",
   "execution_count": 44,
   "id": "013b25b5",
   "metadata": {},
   "outputs": [
    {
     "data": {
      "text/plain": [
       "401.55"
      ]
     },
     "execution_count": 44,
     "metadata": {},
     "output_type": "execute_result"
    }
   ],
   "source": [
    "daily_pivot.loc[date][\"PP\"]"
   ]
  },
  {
   "cell_type": "code",
   "execution_count": 45,
   "id": "b247fc8e",
   "metadata": {},
   "outputs": [
    {
     "data": {
      "text/plain": [
       "401.98"
      ]
     },
     "execution_count": 45,
     "metadata": {},
     "output_type": "execute_result"
    }
   ],
   "source": [
    "daily_pivot.loc[date][\"TC\"]"
   ]
  },
  {
   "cell_type": "code",
   "execution_count": 46,
   "id": "9850353a",
   "metadata": {},
   "outputs": [
    {
     "data": {
      "text/plain": [
       "401.12"
      ]
     },
     "execution_count": 46,
     "metadata": {},
     "output_type": "execute_result"
    }
   ],
   "source": [
    "daily_pivot.loc[date][\"BC\"]"
   ]
  },
  {
   "cell_type": "code",
   "execution_count": 47,
   "id": "b7e15c34",
   "metadata": {},
   "outputs": [
    {
     "data": {
      "text/plain": [
       "400.17"
      ]
     },
     "execution_count": 47,
     "metadata": {},
     "output_type": "execute_result"
    }
   ],
   "source": [
    "daily_pivot.loc[date][\"S1\"]"
   ]
  },
  {
   "cell_type": "code",
   "execution_count": 48,
   "id": "f1128033",
   "metadata": {},
   "outputs": [
    {
     "data": {
      "text/plain": [
       "403.79"
      ]
     },
     "execution_count": 48,
     "metadata": {},
     "output_type": "execute_result"
    }
   ],
   "source": [
    "daily_pivot.loc[date][\"R1\"]"
   ]
  },
  {
   "cell_type": "code",
   "execution_count": 63,
   "id": "02808441",
   "metadata": {},
   "outputs": [
    {
     "data": {
      "text/plain": [
       "376.69"
      ]
     },
     "execution_count": 63,
     "metadata": {},
     "output_type": "execute_result"
    }
   ],
   "source": [
    "daily_pivot.loc[date][\"R2\"]"
   ]
  },
  {
   "cell_type": "code",
   "execution_count": 64,
   "id": "80c9d64e",
   "metadata": {},
   "outputs": [
    {
     "data": {
      "text/plain": [
       "369.83"
      ]
     },
     "execution_count": 64,
     "metadata": {},
     "output_type": "execute_result"
    }
   ],
   "source": [
    "daily_pivot.loc[date][\"S2\"]"
   ]
  },
  {
   "cell_type": "code",
   "execution_count": 49,
   "id": "3ec92649",
   "metadata": {},
   "outputs": [
    {
     "data": {
      "text/plain": [
       "402.92999267578125"
      ]
     },
     "execution_count": 49,
     "metadata": {},
     "output_type": "execute_result"
    }
   ],
   "source": [
    "daily_pivot.shift(1).loc[date][\"High\"]"
   ]
  },
  {
   "cell_type": "code",
   "execution_count": 50,
   "id": "e5d20e63",
   "metadata": {},
   "outputs": [],
   "source": [
    "#plot the candle stick"
   ]
  },
  {
   "cell_type": "code",
   "execution_count": 51,
   "id": "0a322043",
   "metadata": {},
   "outputs": [
    {
     "name": "stderr",
     "output_type": "stream",
     "text": [
      "/var/folders/0d/2q3_g9bj7tn1m1t1w5crmtvh0000gn/T/ipykernel_30857/255381238.py:3: FutureWarning: Indexing a DataFrame with a datetimelike index using a single string to slice the rows, like `frame[string]`, is deprecated and will be removed in a future version. Use `frame.loc[string]` instead.\n",
      "  mpf.plot(stock_intraday[date],type='candle',hlines=[400,np.nan])\n"
     ]
    },
    {
     "data": {
      "image/png": "[encoded data removed]",
      "text/plain": [
       "<Figure size 800x575 with 2 Axes>"
      ]
     },
     "metadata": {},
     "output_type": "display_data"
    }
   ],
   "source": [
    "import numpy as np\n",
    "import mplfinance as mpf\n",
    "mpf.plot(stock_intraday[date],type='candle',hlines=[400,np.nan])\n"
   ]
  },
  {
   "cell_type": "code",
   "execution_count": 61,
   "id": "e475f4ba",
   "metadata": {
    "scrolled": false
   },
   "outputs": [
    {
     "ename": "KeyError",
     "evalue": "'2022-11-25'",
     "output_type": "error",
     "traceback": [
      "\u001b[0;31m---------------------------------------------------------------------------\u001b[0m",
      "\u001b[0;31mKeyError\u001b[0m                                  Traceback (most recent call last)",
      "\u001b[0;32m~/opt/anaconda3/lib/python3.9/site-packages/pandas/_libs/index.pyx\u001b[0m in \u001b[0;36mpandas._libs.index.DatetimeEngine.get_loc\u001b[0;34m()\u001b[0m\n",
      "\u001b[0;32mpandas/_libs/hashtable_class_helper.pxi\u001b[0m in \u001b[0;36mpandas._libs.hashtable.Int64HashTable.get_item\u001b[0;34m()\u001b[0m\n",
      "\u001b[0;32mpandas/_libs/hashtable_class_helper.pxi\u001b[0m in \u001b[0;36mpandas._libs.hashtable.Int64HashTable.get_item\u001b[0;34m()\u001b[0m\n",
      "\u001b[0;31mKeyError\u001b[0m: 1669334400000000000",
      "\nDuring handling of the above exception, another exception occurred:\n",
      "\u001b[0;31mKeyError\u001b[0m                                  Traceback (most recent call last)",
      "\u001b[0;32m~/opt/anaconda3/lib/python3.9/site-packages/pandas/core/indexes/base.py\u001b[0m in \u001b[0;36mget_loc\u001b[0;34m(self, key, method, tolerance)\u001b[0m\n\u001b[1;32m   3628\u001b[0m             \u001b[0;32mtry\u001b[0m\u001b[0;34m:\u001b[0m\u001b[0;34m\u001b[0m\u001b[0;34m\u001b[0m\u001b[0m\n\u001b[0;32m-> 3629\u001b[0;31m                 \u001b[0;32mreturn\u001b[0m \u001b[0mself\u001b[0m\u001b[0;34m.\u001b[0m\u001b[0m_engine\u001b[0m\u001b[0;34m.\u001b[0m\u001b[0mget_loc\u001b[0m\u001b[0;34m(\u001b[0m\u001b[0mcasted_key\u001b[0m\u001b[0;34m)\u001b[0m\u001b[0;34m\u001b[0m\u001b[0;34m\u001b[0m\u001b[0m\n\u001b[0m\u001b[1;32m   3630\u001b[0m             \u001b[0;32mexcept\u001b[0m \u001b[0mKeyError\u001b[0m \u001b[0;32mas\u001b[0m \u001b[0merr\u001b[0m\u001b[0;34m:\u001b[0m\u001b[0;34m\u001b[0m\u001b[0;34m\u001b[0m\u001b[0m\n",
      "\u001b[0;32m~/opt/anaconda3/lib/python3.9/site-packages/pandas/_libs/index.pyx\u001b[0m in \u001b[0;36mpandas._libs.index.DatetimeEngine.get_loc\u001b[0;34m()\u001b[0m\n",
      "\u001b[0;32m~/opt/anaconda3/lib/python3.9/site-packages/pandas/_libs/index.pyx\u001b[0m in \u001b[0;36mpandas._libs.index.DatetimeEngine.get_loc\u001b[0;34m()\u001b[0m\n",
      "\u001b[0;31mKeyError\u001b[0m: Timestamp('2022-11-25 00:00:00')",
      "\nThe above exception was the direct cause of the following exception:\n",
      "\u001b[0;31mKeyError\u001b[0m                                  Traceback (most recent call last)",
      "\u001b[0;32m~/opt/anaconda3/lib/python3.9/site-packages/pandas/core/indexes/datetimes.py\u001b[0m in \u001b[0;36mget_loc\u001b[0;34m(self, key, method, tolerance)\u001b[0m\n\u001b[1;32m    695\u001b[0m         \u001b[0;32mtry\u001b[0m\u001b[0;34m:\u001b[0m\u001b[0;34m\u001b[0m\u001b[0;34m\u001b[0m\u001b[0m\n\u001b[0;32m--> 696\u001b[0;31m             \u001b[0;32mreturn\u001b[0m \u001b[0mIndex\u001b[0m\u001b[0;34m.\u001b[0m\u001b[0mget_loc\u001b[0m\u001b[0;34m(\u001b[0m\u001b[0mself\u001b[0m\u001b[0;34m,\u001b[0m \u001b[0mkey\u001b[0m\u001b[0;34m,\u001b[0m \u001b[0mmethod\u001b[0m\u001b[0;34m,\u001b[0m \u001b[0mtolerance\u001b[0m\u001b[0;34m)\u001b[0m\u001b[0;34m\u001b[0m\u001b[0;34m\u001b[0m\u001b[0m\n\u001b[0m\u001b[1;32m    697\u001b[0m         \u001b[0;32mexcept\u001b[0m \u001b[0mKeyError\u001b[0m \u001b[0;32mas\u001b[0m \u001b[0merr\u001b[0m\u001b[0;34m:\u001b[0m\u001b[0;34m\u001b[0m\u001b[0;34m\u001b[0m\u001b[0m\n",
      "\u001b[0;32m~/opt/anaconda3/lib/python3.9/site-packages/pandas/core/indexes/base.py\u001b[0m in \u001b[0;36mget_loc\u001b[0;34m(self, key, method, tolerance)\u001b[0m\n\u001b[1;32m   3630\u001b[0m             \u001b[0;32mexcept\u001b[0m \u001b[0mKeyError\u001b[0m \u001b[0;32mas\u001b[0m \u001b[0merr\u001b[0m\u001b[0;34m:\u001b[0m\u001b[0;34m\u001b[0m\u001b[0;34m\u001b[0m\u001b[0m\n\u001b[0;32m-> 3631\u001b[0;31m                 \u001b[0;32mraise\u001b[0m \u001b[0mKeyError\u001b[0m\u001b[0;34m(\u001b[0m\u001b[0mkey\u001b[0m\u001b[0;34m)\u001b[0m \u001b[0;32mfrom\u001b[0m \u001b[0merr\u001b[0m\u001b[0;34m\u001b[0m\u001b[0;34m\u001b[0m\u001b[0m\n\u001b[0m\u001b[1;32m   3632\u001b[0m             \u001b[0;32mexcept\u001b[0m \u001b[0mTypeError\u001b[0m\u001b[0;34m:\u001b[0m\u001b[0;34m\u001b[0m\u001b[0;34m\u001b[0m\u001b[0m\n",
      "\u001b[0;31mKeyError\u001b[0m: Timestamp('2022-11-25 00:00:00')",
      "\nThe above exception was the direct cause of the following exception:\n",
      "\u001b[0;31mKeyError\u001b[0m                                  Traceback (most recent call last)",
      "\u001b[0;32m/var/folders/0d/2q3_g9bj7tn1m1t1w5crmtvh0000gn/T/ipykernel_30857/46901082.py\u001b[0m in \u001b[0;36m<module>\u001b[0;34m\u001b[0m\n\u001b[1;32m     13\u001b[0m \u001b[0mdaily_s1\u001b[0m\u001b[0;34m=\u001b[0m\u001b[0mdaily_pivot\u001b[0m\u001b[0;34m.\u001b[0m\u001b[0mloc\u001b[0m\u001b[0;34m[\u001b[0m\u001b[0mdate\u001b[0m\u001b[0;34m]\u001b[0m\u001b[0;34m[\u001b[0m\u001b[0;34m\"S1\"\u001b[0m\u001b[0;34m]\u001b[0m\u001b[0;34m\u001b[0m\u001b[0;34m\u001b[0m\u001b[0m\n\u001b[1;32m     14\u001b[0m \u001b[0;34m\u001b[0m\u001b[0m\n\u001b[0;32m---> 15\u001b[0;31m \u001b[0;32mif\u001b[0m \u001b[0mstock_daily\u001b[0m\u001b[0;34m.\u001b[0m\u001b[0mloc\u001b[0m\u001b[0;34m[\u001b[0m\u001b[0mdate\u001b[0m\u001b[0;34m]\u001b[0m\u001b[0;34m[\u001b[0m\u001b[0;34m\"Low\"\u001b[0m\u001b[0;34m]\u001b[0m\u001b[0;34m<\u001b[0m\u001b[0mdaily_pivot\u001b[0m\u001b[0;34m.\u001b[0m\u001b[0mloc\u001b[0m\u001b[0;34m[\u001b[0m\u001b[0mdate\u001b[0m\u001b[0;34m]\u001b[0m\u001b[0;34m[\u001b[0m\u001b[0;34m\"R2\"\u001b[0m\u001b[0;34m]\u001b[0m\u001b[0;34m[\u001b[0m\u001b[0;36m0\u001b[0m\u001b[0;34m]\u001b[0m\u001b[0;34m<\u001b[0m\u001b[0mstock_daily\u001b[0m\u001b[0;34m.\u001b[0m\u001b[0mloc\u001b[0m\u001b[0;34m[\u001b[0m\u001b[0mdate\u001b[0m\u001b[0;34m]\u001b[0m\u001b[0;34m[\u001b[0m\u001b[0;34m\"High\"\u001b[0m\u001b[0;34m]\u001b[0m\u001b[0;34m:\u001b[0m\u001b[0;34m\u001b[0m\u001b[0;34m\u001b[0m\u001b[0m\n\u001b[0m\u001b[1;32m     16\u001b[0m     \u001b[0mdaily_r2\u001b[0m\u001b[0;34m=\u001b[0m\u001b[0mdaily_pivot\u001b[0m\u001b[0;34m.\u001b[0m\u001b[0mloc\u001b[0m\u001b[0;34m[\u001b[0m\u001b[0mdate\u001b[0m\u001b[0;34m]\u001b[0m\u001b[0;34m[\u001b[0m\u001b[0;34m\"R2\"\u001b[0m\u001b[0;34m]\u001b[0m\u001b[0;34m[\u001b[0m\u001b[0;36m0\u001b[0m\u001b[0;34m]\u001b[0m\u001b[0;34m\u001b[0m\u001b[0;34m\u001b[0m\u001b[0m\n\u001b[1;32m     17\u001b[0m \u001b[0;32melse\u001b[0m\u001b[0;34m:\u001b[0m\u001b[0;34m\u001b[0m\u001b[0;34m\u001b[0m\u001b[0m\n",
      "\u001b[0;32m~/opt/anaconda3/lib/python3.9/site-packages/pandas/core/indexing.py\u001b[0m in \u001b[0;36m__getitem__\u001b[0;34m(self, key)\u001b[0m\n\u001b[1;32m    965\u001b[0m \u001b[0;34m\u001b[0m\u001b[0m\n\u001b[1;32m    966\u001b[0m             \u001b[0mmaybe_callable\u001b[0m \u001b[0;34m=\u001b[0m \u001b[0mcom\u001b[0m\u001b[0;34m.\u001b[0m\u001b[0mapply_if_callable\u001b[0m\u001b[0;34m(\u001b[0m\u001b[0mkey\u001b[0m\u001b[0;34m,\u001b[0m \u001b[0mself\u001b[0m\u001b[0;34m.\u001b[0m\u001b[0mobj\u001b[0m\u001b[0;34m)\u001b[0m\u001b[0;34m\u001b[0m\u001b[0;34m\u001b[0m\u001b[0m\n\u001b[0;32m--> 967\u001b[0;31m             \u001b[0;32mreturn\u001b[0m \u001b[0mself\u001b[0m\u001b[0;34m.\u001b[0m\u001b[0m_getitem_axis\u001b[0m\u001b[0;34m(\u001b[0m\u001b[0mmaybe_callable\u001b[0m\u001b[0;34m,\u001b[0m \u001b[0maxis\u001b[0m\u001b[0;34m=\u001b[0m\u001b[0maxis\u001b[0m\u001b[0;34m)\u001b[0m\u001b[0;34m\u001b[0m\u001b[0;34m\u001b[0m\u001b[0m\n\u001b[0m\u001b[1;32m    968\u001b[0m \u001b[0;34m\u001b[0m\u001b[0m\n\u001b[1;32m    969\u001b[0m     \u001b[0;32mdef\u001b[0m \u001b[0m_is_scalar_access\u001b[0m\u001b[0;34m(\u001b[0m\u001b[0mself\u001b[0m\u001b[0;34m,\u001b[0m \u001b[0mkey\u001b[0m\u001b[0;34m:\u001b[0m \u001b[0mtuple\u001b[0m\u001b[0;34m)\u001b[0m\u001b[0;34m:\u001b[0m\u001b[0;34m\u001b[0m\u001b[0;34m\u001b[0m\u001b[0m\n",
      "\u001b[0;32m~/opt/anaconda3/lib/python3.9/site-packages/pandas/core/indexing.py\u001b[0m in \u001b[0;36m_getitem_axis\u001b[0;34m(self, key, axis)\u001b[0m\n\u001b[1;32m   1203\u001b[0m         \u001b[0;31m# fall thru to straight lookup\u001b[0m\u001b[0;34m\u001b[0m\u001b[0;34m\u001b[0m\u001b[0m\n\u001b[1;32m   1204\u001b[0m         \u001b[0mself\u001b[0m\u001b[0;34m.\u001b[0m\u001b[0m_validate_key\u001b[0m\u001b[0;34m(\u001b[0m\u001b[0mkey\u001b[0m\u001b[0;34m,\u001b[0m \u001b[0maxis\u001b[0m\u001b[0;34m)\u001b[0m\u001b[0;34m\u001b[0m\u001b[0;34m\u001b[0m\u001b[0m\n\u001b[0;32m-> 1205\u001b[0;31m         \u001b[0;32mreturn\u001b[0m \u001b[0mself\u001b[0m\u001b[0;34m.\u001b[0m\u001b[0m_get_label\u001b[0m\u001b[0;34m(\u001b[0m\u001b[0mkey\u001b[0m\u001b[0;34m,\u001b[0m \u001b[0maxis\u001b[0m\u001b[0;34m=\u001b[0m\u001b[0maxis\u001b[0m\u001b[0;34m)\u001b[0m\u001b[0;34m\u001b[0m\u001b[0;34m\u001b[0m\u001b[0m\n\u001b[0m\u001b[1;32m   1206\u001b[0m \u001b[0;34m\u001b[0m\u001b[0m\n\u001b[1;32m   1207\u001b[0m     \u001b[0;32mdef\u001b[0m \u001b[0m_get_slice_axis\u001b[0m\u001b[0;34m(\u001b[0m\u001b[0mself\u001b[0m\u001b[0;34m,\u001b[0m \u001b[0mslice_obj\u001b[0m\u001b[0;34m:\u001b[0m \u001b[0mslice\u001b[0m\u001b[0;34m,\u001b[0m \u001b[0maxis\u001b[0m\u001b[0;34m:\u001b[0m \u001b[0mint\u001b[0m\u001b[0;34m)\u001b[0m\u001b[0;34m:\u001b[0m\u001b[0;34m\u001b[0m\u001b[0;34m\u001b[0m\u001b[0m\n",
      "\u001b[0;32m~/opt/anaconda3/lib/python3.9/site-packages/pandas/core/indexing.py\u001b[0m in \u001b[0;36m_get_label\u001b[0;34m(self, label, axis)\u001b[0m\n\u001b[1;32m   1151\u001b[0m     \u001b[0;32mdef\u001b[0m \u001b[0m_get_label\u001b[0m\u001b[0;34m(\u001b[0m\u001b[0mself\u001b[0m\u001b[0;34m,\u001b[0m \u001b[0mlabel\u001b[0m\u001b[0;34m,\u001b[0m \u001b[0maxis\u001b[0m\u001b[0;34m:\u001b[0m \u001b[0mint\u001b[0m\u001b[0;34m)\u001b[0m\u001b[0;34m:\u001b[0m\u001b[0;34m\u001b[0m\u001b[0;34m\u001b[0m\u001b[0m\n\u001b[1;32m   1152\u001b[0m         \u001b[0;31m# GH#5667 this will fail if the label is not present in the axis.\u001b[0m\u001b[0;34m\u001b[0m\u001b[0;34m\u001b[0m\u001b[0m\n\u001b[0;32m-> 1153\u001b[0;31m         \u001b[0;32mreturn\u001b[0m \u001b[0mself\u001b[0m\u001b[0;34m.\u001b[0m\u001b[0mobj\u001b[0m\u001b[0;34m.\u001b[0m\u001b[0mxs\u001b[0m\u001b[0;34m(\u001b[0m\u001b[0mlabel\u001b[0m\u001b[0;34m,\u001b[0m \u001b[0maxis\u001b[0m\u001b[0;34m=\u001b[0m\u001b[0maxis\u001b[0m\u001b[0;34m)\u001b[0m\u001b[0;34m\u001b[0m\u001b[0;34m\u001b[0m\u001b[0m\n\u001b[0m\u001b[1;32m   1154\u001b[0m \u001b[0;34m\u001b[0m\u001b[0m\n\u001b[1;32m   1155\u001b[0m     \u001b[0;32mdef\u001b[0m \u001b[0m_handle_lowerdim_multi_index_axis0\u001b[0m\u001b[0;34m(\u001b[0m\u001b[0mself\u001b[0m\u001b[0;34m,\u001b[0m \u001b[0mtup\u001b[0m\u001b[0;34m:\u001b[0m \u001b[0mtuple\u001b[0m\u001b[0;34m)\u001b[0m\u001b[0;34m:\u001b[0m\u001b[0;34m\u001b[0m\u001b[0;34m\u001b[0m\u001b[0m\n",
      "\u001b[0;32m~/opt/anaconda3/lib/python3.9/site-packages/pandas/core/generic.py\u001b[0m in \u001b[0;36mxs\u001b[0;34m(self, key, axis, level, drop_level)\u001b[0m\n\u001b[1;32m   3862\u001b[0m                     \u001b[0mnew_index\u001b[0m \u001b[0;34m=\u001b[0m \u001b[0mindex\u001b[0m\u001b[0;34m[\u001b[0m\u001b[0mloc\u001b[0m\u001b[0;34m]\u001b[0m\u001b[0;34m\u001b[0m\u001b[0;34m\u001b[0m\u001b[0m\n\u001b[1;32m   3863\u001b[0m         \u001b[0;32melse\u001b[0m\u001b[0;34m:\u001b[0m\u001b[0;34m\u001b[0m\u001b[0;34m\u001b[0m\u001b[0m\n\u001b[0;32m-> 3864\u001b[0;31m             \u001b[0mloc\u001b[0m \u001b[0;34m=\u001b[0m \u001b[0mindex\u001b[0m\u001b[0;34m.\u001b[0m\u001b[0mget_loc\u001b[0m\u001b[0;34m(\u001b[0m\u001b[0mkey\u001b[0m\u001b[0;34m)\u001b[0m\u001b[0;34m\u001b[0m\u001b[0;34m\u001b[0m\u001b[0m\n\u001b[0m\u001b[1;32m   3865\u001b[0m \u001b[0;34m\u001b[0m\u001b[0m\n\u001b[1;32m   3866\u001b[0m             \u001b[0;32mif\u001b[0m \u001b[0misinstance\u001b[0m\u001b[0;34m(\u001b[0m\u001b[0mloc\u001b[0m\u001b[0;34m,\u001b[0m \u001b[0mnp\u001b[0m\u001b[0;34m.\u001b[0m\u001b[0mndarray\u001b[0m\u001b[0;34m)\u001b[0m\u001b[0;34m:\u001b[0m\u001b[0;34m\u001b[0m\u001b[0;34m\u001b[0m\u001b[0m\n",
      "\u001b[0;32m~/opt/anaconda3/lib/python3.9/site-packages/pandas/core/indexes/datetimes.py\u001b[0m in \u001b[0;36mget_loc\u001b[0;34m(self, key, method, tolerance)\u001b[0m\n\u001b[1;32m    696\u001b[0m             \u001b[0;32mreturn\u001b[0m \u001b[0mIndex\u001b[0m\u001b[0;34m.\u001b[0m\u001b[0mget_loc\u001b[0m\u001b[0;34m(\u001b[0m\u001b[0mself\u001b[0m\u001b[0;34m,\u001b[0m \u001b[0mkey\u001b[0m\u001b[0;34m,\u001b[0m \u001b[0mmethod\u001b[0m\u001b[0;34m,\u001b[0m \u001b[0mtolerance\u001b[0m\u001b[0;34m)\u001b[0m\u001b[0;34m\u001b[0m\u001b[0;34m\u001b[0m\u001b[0m\n\u001b[1;32m    697\u001b[0m         \u001b[0;32mexcept\u001b[0m \u001b[0mKeyError\u001b[0m \u001b[0;32mas\u001b[0m \u001b[0merr\u001b[0m\u001b[0;34m:\u001b[0m\u001b[0;34m\u001b[0m\u001b[0;34m\u001b[0m\u001b[0m\n\u001b[0;32m--> 698\u001b[0;31m             \u001b[0;32mraise\u001b[0m \u001b[0mKeyError\u001b[0m\u001b[0;34m(\u001b[0m\u001b[0morig_key\u001b[0m\u001b[0;34m)\u001b[0m \u001b[0;32mfrom\u001b[0m \u001b[0merr\u001b[0m\u001b[0;34m\u001b[0m\u001b[0;34m\u001b[0m\u001b[0m\n\u001b[0m\u001b[1;32m    699\u001b[0m \u001b[0;34m\u001b[0m\u001b[0m\n\u001b[1;32m    700\u001b[0m     \u001b[0;32mdef\u001b[0m \u001b[0m_maybe_cast_for_get_loc\u001b[0m\u001b[0;34m(\u001b[0m\u001b[0mself\u001b[0m\u001b[0;34m,\u001b[0m \u001b[0mkey\u001b[0m\u001b[0;34m)\u001b[0m \u001b[0;34m->\u001b[0m \u001b[0mTimestamp\u001b[0m\u001b[0;34m:\u001b[0m\u001b[0;34m\u001b[0m\u001b[0;34m\u001b[0m\u001b[0m\n",
      "\u001b[0;31mKeyError\u001b[0m: '2022-11-25'"
     ]
    }
   ],
   "source": [
    "import datetime as dt\n",
    "\n",
    "date1=dt.datetime(2022,11,25)\n",
    "date='2022-11-25'\n",
    "\n",
    "#stock_intraday[date][\"Adj Close\"].plot()\n",
    "#plot daily pivots\n",
    "daily_pp=daily_pivot.loc[date][\"PP\"]\n",
    "daily_bc=daily_pivot.loc[date][\"BC\"]\n",
    "daily_tc=daily_pivot.loc[date][\"TC\"]\n",
    "\n",
    "daily_r1=daily_pivot.loc[date][\"R1\"]\n",
    "daily_s1=daily_pivot.loc[date][\"S1\"]\n",
    "\n",
    "if stock_daily.loc[date][\"Low\"]<daily_pivot.loc[date][\"R2\"][0]<stock_daily.loc[date][\"High\"]:\n",
    "    daily_r2=daily_pivot.loc[date][\"R2\"][0]\n",
    "else:\n",
    "    daily_r2=np.nan\n",
    "        \n",
    "if stock_daily.loc[date][\"Low\"]<daily_pivot.loc[date][\"S2\"][0]<stock_daily.loc[date][\"High\"]:\n",
    "    daily_s2=daily_pivot.loc[date][\"S2\"][0]\n",
    "else:\n",
    "    daily_s2=np.nan   \n",
    "#plt.axhline(y=daily_pivot.loc[date][\"PP\"],color='b',linestyle='-')\n",
    "#plt.axhline(y=daily_pivot.loc[date][\"TC\"],color='b',linestyle='--')\n",
    "#plt.axhline(y=daily_pivot.loc[date][\"BC\"],color='b',linestyle='--')\n",
    "\n",
    "#plt.axhline(y=daily_pivot.loc[date][\"R1\"],color='b',linestyle='--')\n",
    "#plt.axhline(y=daily_pivot.loc[date][\"S1\"],color='b',linestyle='--')\n",
    "\n",
    "i=0\n",
    "j=0\n",
    "#plot weekly pivots\n",
    "for i in range(len(weekly_pivot)):\n",
    "    if weekly_pivot[\"week\"][i]==date1.isocalendar().week and weekly_pivot[\"year\"][i]==date1.year:\n",
    "        index_week=i\n",
    "if stock_daily.loc[date][\"Low\"]<weekly_pivot.iloc[index_week:][\"PP\"][0]<stock_daily.loc[date][\"High\"]:\n",
    "    weekly_pp=weekly_pivot.iloc[index_week:][\"PP\"][0]\n",
    "else:\n",
    "    weekly_pp=np.nan\n",
    "    \n",
    "if stock_daily.loc[date][\"Low\"]<weekly_pivot.iloc[index_week:][\"R1\"][0]<stock_daily.loc[date][\"High\"]:\n",
    "    weekly_r1=weekly_pivot.iloc[index_week:][\"R1\"][0]\n",
    "else:\n",
    "    weekly_r1=np.nan\n",
    "if stock_daily.loc[date][\"Low\"]<weekly_pivot.iloc[index_week:][\"S1\"][0]<stock_daily.loc[date][\"High\"]:\n",
    "    weekly_s1=weekly_pivot.iloc[index_week:][\"S1\"][0]\n",
    "else:\n",
    "    weekly_s1=np.nan\n",
    "    \n",
    "for j in range(len(monthly_pivot)):\n",
    "    if monthly_pivot[\"month\"][j]==date1.month and monthly_pivot[\"year\"][j]==date1.year:\n",
    "        index_month=j\n",
    "        \n",
    "#plot monthly pivots\n",
    "if stock_daily.loc[date][\"Low\"]<monthly_pivot.iloc[index_month:]['PP'][0]<stock_daily.loc[date][\"High\"]:\n",
    "    monthly_pp=monthly_pivot.iloc[index_month:]['PP'][0]\n",
    "else:\n",
    "    monthly_pp=np.nan\n",
    "if stock_daily.loc[date][\"Low\"]<monthly_pivot.iloc[index_month:]['R1'][0]<stock_daily.loc[date][\"High\"]:\n",
    "    monthly_r1=monthly_pivot.iloc[index_month:]['R1'][0]\n",
    "else:\n",
    "    monthly_r1=np.nan\n",
    "if stock_daily.loc[date][\"Low\"]<monthly_pivot.iloc[index_month:]['S1'][0]<stock_daily.loc[date][\"High\"]:\n",
    "    monthly_s1=monthly_pivot.iloc[index_month:]['S1'][0]\n",
    "else:\n",
    "    monthly_s1=np.nan\n",
    "    \n",
    "yes_high=daily_pivot.shift(1).loc[date][\"High\"]\n",
    "yes_low=daily_pivot.shift(1).loc[date][\"Low\"]\n",
    "\n",
    "mpf.plot(stock_intraday[date],type='candle',\n",
    "         hlines=dict(hlines=[daily_pp,daily_bc,daily_tc,daily_r1,daily_s1,weekly_pp,weekly_r1,weekly_s1,monthly_pp,monthly_r1,monthly_s1,yes_high,yes_low],\n",
    "                    colors=['b','b','b','b','b','r','r','r','g','g','g','k','k'],\n",
    "                    linestyle=['-','--','--','--','--','-','--','--','-','--','--','-','-']),\n",
    "         title=date,\n",
    "        savefig='testsave.png')"
   ]
  },
  {
   "cell_type": "code",
   "execution_count": 53,
   "id": "2b74759c",
   "metadata": {},
   "outputs": [
    {
     "name": "stderr",
     "output_type": "stream",
     "text": [
      "/var/folders/0d/2q3_g9bj7tn1m1t1w5crmtvh0000gn/T/ipykernel_30857/2630729883.py:2: FutureWarning: Indexing a DataFrame with a datetimelike index using a single string to slice the rows, like `frame[string]`, is deprecated and will be removed in a future version. Use `frame.loc[string]` instead.\n",
      "  stock_daily=stock_daily[\"2021\"]\n"
     ]
    },
    {
     "data": {
      "text/html": [
       "<div>\n",
       "<style scoped>\n",
       "    .dataframe tbody tr th:only-of-type {\n",
       "        vertical-align: middle;\n",
       "    }\n",
       "\n",
       "    .dataframe tbody tr th {\n",
       "        vertical-align: top;\n",
       "    }\n",
       "\n",
       "    .dataframe thead th {\n",
       "        text-align: right;\n",
       "    }\n",
       "</style>\n",
       "<table border=\"1\" class=\"dataframe\">\n",
       "  <thead>\n",
       "    <tr style=\"text-align: right;\">\n",
       "      <th></th>\n",
       "      <th>Open</th>\n",
       "      <th>High</th>\n",
       "      <th>Low</th>\n",
       "      <th>Close</th>\n",
       "      <th>Adj Close</th>\n",
       "      <th>Volume</th>\n",
       "      <th>week</th>\n",
       "      <th>month</th>\n",
       "      <th>year</th>\n",
       "      <th>PP</th>\n",
       "      <th>BC</th>\n",
       "      <th>TC</th>\n",
       "      <th>R1</th>\n",
       "      <th>S1</th>\n",
       "      <th>R2</th>\n",
       "      <th>S2</th>\n",
       "      <th>R3</th>\n",
       "      <th>S3</th>\n",
       "    </tr>\n",
       "    <tr>\n",
       "      <th>Date</th>\n",
       "      <th></th>\n",
       "      <th></th>\n",
       "      <th></th>\n",
       "      <th></th>\n",
       "      <th></th>\n",
       "      <th></th>\n",
       "      <th></th>\n",
       "      <th></th>\n",
       "      <th></th>\n",
       "      <th></th>\n",
       "      <th></th>\n",
       "      <th></th>\n",
       "      <th></th>\n",
       "      <th></th>\n",
       "      <th></th>\n",
       "      <th></th>\n",
       "      <th></th>\n",
       "      <th></th>\n",
       "    </tr>\n",
       "  </thead>\n",
       "  <tbody>\n",
       "    <tr>\n",
       "      <th>2021-01-04</th>\n",
       "      <td>375.309998</td>\n",
       "      <td>375.450012</td>\n",
       "      <td>364.820007</td>\n",
       "      <td>368.790009</td>\n",
       "      <td>358.128723</td>\n",
       "      <td>110210800</td>\n",
       "      <td>1</td>\n",
       "      <td>1</td>\n",
       "      <td>2021</td>\n",
       "      <td>373.26</td>\n",
       "      <td>372.95</td>\n",
       "      <td>373.57</td>\n",
       "      <td>375.29</td>\n",
       "      <td>371.86</td>\n",
       "      <td>376.69</td>\n",
       "      <td>369.83</td>\n",
       "      <td>378.72</td>\n",
       "      <td>368.43</td>\n",
       "    </tr>\n",
       "    <tr>\n",
       "      <th>2021-01-05</th>\n",
       "      <td>368.100006</td>\n",
       "      <td>372.500000</td>\n",
       "      <td>368.049988</td>\n",
       "      <td>371.329987</td>\n",
       "      <td>360.595245</td>\n",
       "      <td>66426200</td>\n",
       "      <td>1</td>\n",
       "      <td>1</td>\n",
       "      <td>2021</td>\n",
       "      <td>369.69</td>\n",
       "      <td>370.14</td>\n",
       "      <td>369.24</td>\n",
       "      <td>374.56</td>\n",
       "      <td>363.93</td>\n",
       "      <td>380.32</td>\n",
       "      <td>359.06</td>\n",
       "      <td>385.19</td>\n",
       "      <td>353.30</td>\n",
       "    </tr>\n",
       "    <tr>\n",
       "      <th>2021-01-06</th>\n",
       "      <td>369.709991</td>\n",
       "      <td>376.980011</td>\n",
       "      <td>369.119995</td>\n",
       "      <td>373.549988</td>\n",
       "      <td>362.751099</td>\n",
       "      <td>107997700</td>\n",
       "      <td>1</td>\n",
       "      <td>1</td>\n",
       "      <td>2021</td>\n",
       "      <td>370.63</td>\n",
       "      <td>370.27</td>\n",
       "      <td>370.99</td>\n",
       "      <td>373.21</td>\n",
       "      <td>368.76</td>\n",
       "      <td>375.08</td>\n",
       "      <td>366.18</td>\n",
       "      <td>377.66</td>\n",
       "      <td>364.31</td>\n",
       "    </tr>\n",
       "    <tr>\n",
       "      <th>2021-01-07</th>\n",
       "      <td>376.100006</td>\n",
       "      <td>379.899994</td>\n",
       "      <td>375.910004</td>\n",
       "      <td>379.100006</td>\n",
       "      <td>368.140686</td>\n",
       "      <td>68766800</td>\n",
       "      <td>1</td>\n",
       "      <td>1</td>\n",
       "      <td>2021</td>\n",
       "      <td>373.22</td>\n",
       "      <td>373.05</td>\n",
       "      <td>373.39</td>\n",
       "      <td>377.32</td>\n",
       "      <td>369.46</td>\n",
       "      <td>381.08</td>\n",
       "      <td>365.36</td>\n",
       "      <td>385.18</td>\n",
       "      <td>361.60</td>\n",
       "    </tr>\n",
       "    <tr>\n",
       "      <th>2021-01-08</th>\n",
       "      <td>380.589996</td>\n",
       "      <td>381.489990</td>\n",
       "      <td>377.100006</td>\n",
       "      <td>381.260010</td>\n",
       "      <td>370.238251</td>\n",
       "      <td>71677200</td>\n",
       "      <td>1</td>\n",
       "      <td>1</td>\n",
       "      <td>2021</td>\n",
       "      <td>378.30</td>\n",
       "      <td>377.90</td>\n",
       "      <td>378.70</td>\n",
       "      <td>380.69</td>\n",
       "      <td>376.70</td>\n",
       "      <td>382.29</td>\n",
       "      <td>374.31</td>\n",
       "      <td>384.68</td>\n",
       "      <td>372.71</td>\n",
       "    </tr>\n",
       "    <tr>\n",
       "      <th>...</th>\n",
       "      <td>...</td>\n",
       "      <td>...</td>\n",
       "      <td>...</td>\n",
       "      <td>...</td>\n",
       "      <td>...</td>\n",
       "      <td>...</td>\n",
       "      <td>...</td>\n",
       "      <td>...</td>\n",
       "      <td>...</td>\n",
       "      <td>...</td>\n",
       "      <td>...</td>\n",
       "      <td>...</td>\n",
       "      <td>...</td>\n",
       "      <td>...</td>\n",
       "      <td>...</td>\n",
       "      <td>...</td>\n",
       "      <td>...</td>\n",
       "      <td>...</td>\n",
       "    </tr>\n",
       "    <tr>\n",
       "      <th>2021-12-27</th>\n",
       "      <td>472.059998</td>\n",
       "      <td>477.309998</td>\n",
       "      <td>472.010010</td>\n",
       "      <td>477.260010</td>\n",
       "      <td>469.640900</td>\n",
       "      <td>56808600</td>\n",
       "      <td>52</td>\n",
       "      <td>12</td>\n",
       "      <td>2021</td>\n",
       "      <td>470.48</td>\n",
       "      <td>470.42</td>\n",
       "      <td>470.54</td>\n",
       "      <td>472.32</td>\n",
       "      <td>468.77</td>\n",
       "      <td>474.03</td>\n",
       "      <td>466.93</td>\n",
       "      <td>475.87</td>\n",
       "      <td>465.22</td>\n",
       "    </tr>\n",
       "    <tr>\n",
       "      <th>2021-12-28</th>\n",
       "      <td>477.720001</td>\n",
       "      <td>478.809998</td>\n",
       "      <td>476.059998</td>\n",
       "      <td>476.869995</td>\n",
       "      <td>469.257050</td>\n",
       "      <td>47274600</td>\n",
       "      <td>52</td>\n",
       "      <td>12</td>\n",
       "      <td>2021</td>\n",
       "      <td>475.53</td>\n",
       "      <td>474.66</td>\n",
       "      <td>476.40</td>\n",
       "      <td>479.05</td>\n",
       "      <td>473.75</td>\n",
       "      <td>480.83</td>\n",
       "      <td>470.23</td>\n",
       "      <td>484.35</td>\n",
       "      <td>468.45</td>\n",
       "    </tr>\n",
       "    <tr>\n",
       "      <th>2021-12-29</th>\n",
       "      <td>476.980011</td>\n",
       "      <td>478.559998</td>\n",
       "      <td>475.920013</td>\n",
       "      <td>477.480011</td>\n",
       "      <td>469.857361</td>\n",
       "      <td>54503000</td>\n",
       "      <td>52</td>\n",
       "      <td>12</td>\n",
       "      <td>2021</td>\n",
       "      <td>477.25</td>\n",
       "      <td>477.43</td>\n",
       "      <td>477.07</td>\n",
       "      <td>478.44</td>\n",
       "      <td>475.69</td>\n",
       "      <td>480.00</td>\n",
       "      <td>474.50</td>\n",
       "      <td>481.19</td>\n",
       "      <td>472.94</td>\n",
       "    </tr>\n",
       "    <tr>\n",
       "      <th>2021-12-30</th>\n",
       "      <td>477.929993</td>\n",
       "      <td>479.000000</td>\n",
       "      <td>475.670013</td>\n",
       "      <td>476.160004</td>\n",
       "      <td>468.558472</td>\n",
       "      <td>55329000</td>\n",
       "      <td>52</td>\n",
       "      <td>12</td>\n",
       "      <td>2021</td>\n",
       "      <td>477.32</td>\n",
       "      <td>477.24</td>\n",
       "      <td>477.40</td>\n",
       "      <td>478.72</td>\n",
       "      <td>476.08</td>\n",
       "      <td>479.96</td>\n",
       "      <td>474.68</td>\n",
       "      <td>481.36</td>\n",
       "      <td>473.44</td>\n",
       "    </tr>\n",
       "    <tr>\n",
       "      <th>2021-12-31</th>\n",
       "      <td>475.640015</td>\n",
       "      <td>476.859985</td>\n",
       "      <td>474.670013</td>\n",
       "      <td>474.959991</td>\n",
       "      <td>467.377563</td>\n",
       "      <td>65237400</td>\n",
       "      <td>52</td>\n",
       "      <td>12</td>\n",
       "      <td>2021</td>\n",
       "      <td>476.94</td>\n",
       "      <td>477.34</td>\n",
       "      <td>476.54</td>\n",
       "      <td>478.21</td>\n",
       "      <td>474.88</td>\n",
       "      <td>480.27</td>\n",
       "      <td>473.61</td>\n",
       "      <td>481.54</td>\n",
       "      <td>471.55</td>\n",
       "    </tr>\n",
       "  </tbody>\n",
       "</table>\n",
       "<p>252 rows × 18 columns</p>\n",
       "</div>"
      ],
      "text/plain": [
       "                  Open        High         Low       Close   Adj Close  \\\n",
       "Date                                                                     \n",
       "2021-01-04  375.309998  375.450012  364.820007  368.790009  358.128723   \n",
       "2021-01-05  368.100006  372.500000  368.049988  371.329987  360.595245   \n",
       "2021-01-06  369.709991  376.980011  369.119995  373.549988  362.751099   \n",
       "2021-01-07  376.100006  379.899994  375.910004  379.100006  368.140686   \n",
       "2021-01-08  380.589996  381.489990  377.100006  381.260010  370.238251   \n",
       "...                ...         ...         ...         ...         ...   \n",
       "2021-12-27  472.059998  477.309998  472.010010  477.260010  469.640900   \n",
       "2021-12-28  477.720001  478.809998  476.059998  476.869995  469.257050   \n",
       "2021-12-29  476.980011  478.559998  475.920013  477.480011  469.857361   \n",
       "2021-12-30  477.929993  479.000000  475.670013  476.160004  468.558472   \n",
       "2021-12-31  475.640015  476.859985  474.670013  474.959991  467.377563   \n",
       "\n",
       "               Volume  week  month  year      PP      BC      TC      R1  \\\n",
       "Date                                                                       \n",
       "2021-01-04  110210800     1      1  2021  373.26  372.95  373.57  375.29   \n",
       "2021-01-05   66426200     1      1  2021  369.69  370.14  369.24  374.56   \n",
       "2021-01-06  107997700     1      1  2021  370.63  370.27  370.99  373.21   \n",
       "2021-01-07   68766800     1      1  2021  373.22  373.05  373.39  377.32   \n",
       "2021-01-08   71677200     1      1  2021  378.30  377.90  378.70  380.69   \n",
       "...               ...   ...    ...   ...     ...     ...     ...     ...   \n",
       "2021-12-27   56808600    52     12  2021  470.48  470.42  470.54  472.32   \n",
       "2021-12-28   47274600    52     12  2021  475.53  474.66  476.40  479.05   \n",
       "2021-12-29   54503000    52     12  2021  477.25  477.43  477.07  478.44   \n",
       "2021-12-30   55329000    52     12  2021  477.32  477.24  477.40  478.72   \n",
       "2021-12-31   65237400    52     12  2021  476.94  477.34  476.54  478.21   \n",
       "\n",
       "                S1      R2      S2      R3      S3  \n",
       "Date                                                \n",
       "2021-01-04  371.86  376.69  369.83  378.72  368.43  \n",
       "2021-01-05  363.93  380.32  359.06  385.19  353.30  \n",
       "2021-01-06  368.76  375.08  366.18  377.66  364.31  \n",
       "2021-01-07  369.46  381.08  365.36  385.18  361.60  \n",
       "2021-01-08  376.70  382.29  374.31  384.68  372.71  \n",
       "...            ...     ...     ...     ...     ...  \n",
       "2021-12-27  468.77  474.03  466.93  475.87  465.22  \n",
       "2021-12-28  473.75  480.83  470.23  484.35  468.45  \n",
       "2021-12-29  475.69  480.00  474.50  481.19  472.94  \n",
       "2021-12-30  476.08  479.96  474.68  481.36  473.44  \n",
       "2021-12-31  474.88  480.27  473.61  481.54  471.55  \n",
       "\n",
       "[252 rows x 18 columns]"
      ]
     },
     "execution_count": 53,
     "metadata": {},
     "output_type": "execute_result"
    }
   ],
   "source": [
    "#subset the stock\n",
    "stock_daily=stock_daily[\"2021\"]\n",
    "stock_daily"
   ]
  },
  {
   "cell_type": "code",
   "execution_count": 54,
   "id": "35622b0f",
   "metadata": {},
   "outputs": [],
   "source": [
    "# for i in range(len(stock_daily)):\n",
    "#     date=stock_daily.index[i]\n",
    "#     break"
   ]
  },
  {
   "cell_type": "code",
   "execution_count": 55,
   "id": "40e40f29",
   "metadata": {},
   "outputs": [],
   "source": [
    "# #now.strftime(\"%m/%d/%Y, %H:%M:%S\")\n",
    "# date=date.strftime(\"%Y-%m-%d\")\n",
    "# date"
   ]
  },
  {
   "cell_type": "code",
   "execution_count": 56,
   "id": "ac4c3269",
   "metadata": {},
   "outputs": [],
   "source": [
    "#stock_intraday[date][\"Adj Close\"].plot()"
   ]
  },
  {
   "cell_type": "code",
   "execution_count": 67,
   "id": "2a41f12e",
   "metadata": {},
   "outputs": [
    {
     "name": "stdout",
     "output_type": "stream",
     "text": [
      "2021-01-04\n",
      "2021-01-05\n",
      "2021-01-06\n"
     ]
    },
    {
     "name": "stderr",
     "output_type": "stream",
     "text": [
      "/var/folders/0d/2q3_g9bj7tn1m1t1w5crmtvh0000gn/T/ipykernel_30857/2902404513.py:65: FutureWarning: Indexing a DataFrame with a datetimelike index using a single string to slice the rows, like `frame[string]`, is deprecated and will be removed in a future version. Use `frame.loc[string]` instead.\n",
      "  mpf.plot(stock_intraday[date],type='candle',\n",
      "/var/folders/0d/2q3_g9bj7tn1m1t1w5crmtvh0000gn/T/ipykernel_30857/2902404513.py:65: FutureWarning: Indexing a DataFrame with a datetimelike index using a single string to slice the rows, like `frame[string]`, is deprecated and will be removed in a future version. Use `frame.loc[string]` instead.\n",
      "  mpf.plot(stock_intraday[date],type='candle',\n",
      "/var/folders/0d/2q3_g9bj7tn1m1t1w5crmtvh0000gn/T/ipykernel_30857/2902404513.py:65: FutureWarning: Indexing a DataFrame with a datetimelike index using a single string to slice the rows, like `frame[string]`, is deprecated and will be removed in a future version. Use `frame.loc[string]` instead.\n",
      "  mpf.plot(stock_intraday[date],type='candle',\n"
     ]
    },
    {
     "name": "stdout",
     "output_type": "stream",
     "text": [
      "2021-01-07\n",
      "2021-01-08\n",
      "2021-01-11\n",
      "2021-01-12\n"
     ]
    },
    {
     "name": "stderr",
     "output_type": "stream",
     "text": [
      "/var/folders/0d/2q3_g9bj7tn1m1t1w5crmtvh0000gn/T/ipykernel_30857/2902404513.py:65: FutureWarning: Indexing a DataFrame with a datetimelike index using a single string to slice the rows, like `frame[string]`, is deprecated and will be removed in a future version. Use `frame.loc[string]` instead.\n",
      "  mpf.plot(stock_intraday[date],type='candle',\n",
      "/var/folders/0d/2q3_g9bj7tn1m1t1w5crmtvh0000gn/T/ipykernel_30857/2902404513.py:65: FutureWarning: Indexing a DataFrame with a datetimelike index using a single string to slice the rows, like `frame[string]`, is deprecated and will be removed in a future version. Use `frame.loc[string]` instead.\n",
      "  mpf.plot(stock_intraday[date],type='candle',\n",
      "/var/folders/0d/2q3_g9bj7tn1m1t1w5crmtvh0000gn/T/ipykernel_30857/2902404513.py:65: FutureWarning: Indexing a DataFrame with a datetimelike index using a single string to slice the rows, like `frame[string]`, is deprecated and will be removed in a future version. Use `frame.loc[string]` instead.\n",
      "  mpf.plot(stock_intraday[date],type='candle',\n",
      "/var/folders/0d/2q3_g9bj7tn1m1t1w5crmtvh0000gn/T/ipykernel_30857/2902404513.py:65: FutureWarning: Indexing a DataFrame with a datetimelike index using a single string to slice the rows, like `frame[string]`, is deprecated and will be removed in a future version. Use `frame.loc[string]` instead.\n",
      "  mpf.plot(stock_intraday[date],type='candle',\n"
     ]
    },
    {
     "name": "stdout",
     "output_type": "stream",
     "text": [
      "2021-01-13\n",
      "2021-01-14\n",
      "2021-01-15\n",
      "2021-01-19\n"
     ]
    },
    {
     "name": "stderr",
     "output_type": "stream",
     "text": [
      "/var/folders/0d/2q3_g9bj7tn1m1t1w5crmtvh0000gn/T/ipykernel_30857/2902404513.py:65: FutureWarning: Indexing a DataFrame with a datetimelike index using a single string to slice the rows, like `frame[string]`, is deprecated and will be removed in a future version. Use `frame.loc[string]` instead.\n",
      "  mpf.plot(stock_intraday[date],type='candle',\n",
      "/var/folders/0d/2q3_g9bj7tn1m1t1w5crmtvh0000gn/T/ipykernel_30857/2902404513.py:65: FutureWarning: Indexing a DataFrame with a datetimelike index using a single string to slice the rows, like `frame[string]`, is deprecated and will be removed in a future version. Use `frame.loc[string]` instead.\n",
      "  mpf.plot(stock_intraday[date],type='candle',\n",
      "/var/folders/0d/2q3_g9bj7tn1m1t1w5crmtvh0000gn/T/ipykernel_30857/2902404513.py:65: FutureWarning: Indexing a DataFrame with a datetimelike index using a single string to slice the rows, like `frame[string]`, is deprecated and will be removed in a future version. Use `frame.loc[string]` instead.\n",
      "  mpf.plot(stock_intraday[date],type='candle',\n",
      "/var/folders/0d/2q3_g9bj7tn1m1t1w5crmtvh0000gn/T/ipykernel_30857/2902404513.py:65: FutureWarning: Indexing a DataFrame with a datetimelike index using a single string to slice the rows, like `frame[string]`, is deprecated and will be removed in a future version. Use `frame.loc[string]` instead.\n",
      "  mpf.plot(stock_intraday[date],type='candle',\n"
     ]
    },
    {
     "name": "stdout",
     "output_type": "stream",
     "text": [
      "2021-01-20\n",
      "2021-01-21\n",
      "2021-01-22\n",
      "2021-01-25\n"
     ]
    },
    {
     "name": "stderr",
     "output_type": "stream",
     "text": [
      "/var/folders/0d/2q3_g9bj7tn1m1t1w5crmtvh0000gn/T/ipykernel_30857/2902404513.py:65: FutureWarning: Indexing a DataFrame with a datetimelike index using a single string to slice the rows, like `frame[string]`, is deprecated and will be removed in a future version. Use `frame.loc[string]` instead.\n",
      "  mpf.plot(stock_intraday[date],type='candle',\n",
      "/var/folders/0d/2q3_g9bj7tn1m1t1w5crmtvh0000gn/T/ipykernel_30857/2902404513.py:65: FutureWarning: Indexing a DataFrame with a datetimelike index using a single string to slice the rows, like `frame[string]`, is deprecated and will be removed in a future version. Use `frame.loc[string]` instead.\n",
      "  mpf.plot(stock_intraday[date],type='candle',\n",
      "/var/folders/0d/2q3_g9bj7tn1m1t1w5crmtvh0000gn/T/ipykernel_30857/2902404513.py:65: FutureWarning: Indexing a DataFrame with a datetimelike index using a single string to slice the rows, like `frame[string]`, is deprecated and will be removed in a future version. Use `frame.loc[string]` instead.\n",
      "  mpf.plot(stock_intraday[date],type='candle',\n",
      "/var/folders/0d/2q3_g9bj7tn1m1t1w5crmtvh0000gn/T/ipykernel_30857/2902404513.py:65: FutureWarning: Indexing a DataFrame with a datetimelike index using a single string to slice the rows, like `frame[string]`, is deprecated and will be removed in a future version. Use `frame.loc[string]` instead.\n",
      "  mpf.plot(stock_intraday[date],type='candle',\n"
     ]
    },
    {
     "name": "stdout",
     "output_type": "stream",
     "text": [
      "2021-01-26\n",
      "2021-01-27\n",
      "2021-01-28\n"
     ]
    },
    {
     "name": "stderr",
     "output_type": "stream",
     "text": [
      "/var/folders/0d/2q3_g9bj7tn1m1t1w5crmtvh0000gn/T/ipykernel_30857/2902404513.py:65: FutureWarning: Indexing a DataFrame with a datetimelike index using a single string to slice the rows, like `frame[string]`, is deprecated and will be removed in a future version. Use `frame.loc[string]` instead.\n",
      "  mpf.plot(stock_intraday[date],type='candle',\n",
      "/var/folders/0d/2q3_g9bj7tn1m1t1w5crmtvh0000gn/T/ipykernel_30857/2902404513.py:65: FutureWarning: Indexing a DataFrame with a datetimelike index using a single string to slice the rows, like `frame[string]`, is deprecated and will be removed in a future version. Use `frame.loc[string]` instead.\n",
      "  mpf.plot(stock_intraday[date],type='candle',\n",
      "/var/folders/0d/2q3_g9bj7tn1m1t1w5crmtvh0000gn/T/ipykernel_30857/2902404513.py:65: FutureWarning: Indexing a DataFrame with a datetimelike index using a single string to slice the rows, like `frame[string]`, is deprecated and will be removed in a future version. Use `frame.loc[string]` instead.\n",
      "  mpf.plot(stock_intraday[date],type='candle',\n",
      "/var/folders/0d/2q3_g9bj7tn1m1t1w5crmtvh0000gn/T/ipykernel_30857/2902404513.py:65: FutureWarning: Indexing a DataFrame with a datetimelike index using a single string to slice the rows, like `frame[string]`, is deprecated and will be removed in a future version. Use `frame.loc[string]` instead.\n",
      "  mpf.plot(stock_intraday[date],type='candle',\n"
     ]
    },
    {
     "name": "stdout",
     "output_type": "stream",
     "text": [
      "2021-01-29\n",
      "2021-02-01\n",
      "2021-02-02\n"
     ]
    },
    {
     "name": "stderr",
     "output_type": "stream",
     "text": [
      "/var/folders/0d/2q3_g9bj7tn1m1t1w5crmtvh0000gn/T/ipykernel_30857/2902404513.py:65: FutureWarning: Indexing a DataFrame with a datetimelike index using a single string to slice the rows, like `frame[string]`, is deprecated and will be removed in a future version. Use `frame.loc[string]` instead.\n",
      "  mpf.plot(stock_intraday[date],type='candle',\n",
      "/var/folders/0d/2q3_g9bj7tn1m1t1w5crmtvh0000gn/T/ipykernel_30857/2902404513.py:65: FutureWarning: Indexing a DataFrame with a datetimelike index using a single string to slice the rows, like `frame[string]`, is deprecated and will be removed in a future version. Use `frame.loc[string]` instead.\n",
      "  mpf.plot(stock_intraday[date],type='candle',\n",
      "/var/folders/0d/2q3_g9bj7tn1m1t1w5crmtvh0000gn/T/ipykernel_30857/2902404513.py:65: FutureWarning: Indexing a DataFrame with a datetimelike index using a single string to slice the rows, like `frame[string]`, is deprecated and will be removed in a future version. Use `frame.loc[string]` instead.\n",
      "  mpf.plot(stock_intraday[date],type='candle',\n",
      "/var/folders/0d/2q3_g9bj7tn1m1t1w5crmtvh0000gn/T/ipykernel_30857/2902404513.py:65: FutureWarning: Indexing a DataFrame with a datetimelike index using a single string to slice the rows, like `frame[string]`, is deprecated and will be removed in a future version. Use `frame.loc[string]` instead.\n",
      "  mpf.plot(stock_intraday[date],type='candle',\n"
     ]
    },
    {
     "name": "stdout",
     "output_type": "stream",
     "text": [
      "2021-02-03\n",
      "2021-02-04\n",
      "2021-02-05\n",
      "2021-02-08\n"
     ]
    },
    {
     "name": "stderr",
     "output_type": "stream",
     "text": [
      "/var/folders/0d/2q3_g9bj7tn1m1t1w5crmtvh0000gn/T/ipykernel_30857/2902404513.py:65: FutureWarning: Indexing a DataFrame with a datetimelike index using a single string to slice the rows, like `frame[string]`, is deprecated and will be removed in a future version. Use `frame.loc[string]` instead.\n",
      "  mpf.plot(stock_intraday[date],type='candle',\n",
      "/var/folders/0d/2q3_g9bj7tn1m1t1w5crmtvh0000gn/T/ipykernel_30857/2902404513.py:65: FutureWarning: Indexing a DataFrame with a datetimelike index using a single string to slice the rows, like `frame[string]`, is deprecated and will be removed in a future version. Use `frame.loc[string]` instead.\n",
      "  mpf.plot(stock_intraday[date],type='candle',\n",
      "/var/folders/0d/2q3_g9bj7tn1m1t1w5crmtvh0000gn/T/ipykernel_30857/2902404513.py:65: FutureWarning: Indexing a DataFrame with a datetimelike index using a single string to slice the rows, like `frame[string]`, is deprecated and will be removed in a future version. Use `frame.loc[string]` instead.\n",
      "  mpf.plot(stock_intraday[date],type='candle',\n",
      "/var/folders/0d/2q3_g9bj7tn1m1t1w5crmtvh0000gn/T/ipykernel_30857/2902404513.py:65: FutureWarning: Indexing a DataFrame with a datetimelike index using a single string to slice the rows, like `frame[string]`, is deprecated and will be removed in a future version. Use `frame.loc[string]` instead.\n",
      "  mpf.plot(stock_intraday[date],type='candle',\n"
     ]
    },
    {
     "name": "stdout",
     "output_type": "stream",
     "text": [
      "2021-02-09\n",
      "2021-02-10\n",
      "2021-02-11\n",
      "2021-02-12\n"
     ]
    },
    {
     "name": "stderr",
     "output_type": "stream",
     "text": [
      "/var/folders/0d/2q3_g9bj7tn1m1t1w5crmtvh0000gn/T/ipykernel_30857/2902404513.py:65: FutureWarning: Indexing a DataFrame with a datetimelike index using a single string to slice the rows, like `frame[string]`, is deprecated and will be removed in a future version. Use `frame.loc[string]` instead.\n",
      "  mpf.plot(stock_intraday[date],type='candle',\n",
      "/var/folders/0d/2q3_g9bj7tn1m1t1w5crmtvh0000gn/T/ipykernel_30857/2902404513.py:65: FutureWarning: Indexing a DataFrame with a datetimelike index using a single string to slice the rows, like `frame[string]`, is deprecated and will be removed in a future version. Use `frame.loc[string]` instead.\n",
      "  mpf.plot(stock_intraday[date],type='candle',\n",
      "/var/folders/0d/2q3_g9bj7tn1m1t1w5crmtvh0000gn/T/ipykernel_30857/2902404513.py:65: FutureWarning: Indexing a DataFrame with a datetimelike index using a single string to slice the rows, like `frame[string]`, is deprecated and will be removed in a future version. Use `frame.loc[string]` instead.\n",
      "  mpf.plot(stock_intraday[date],type='candle',\n",
      "/var/folders/0d/2q3_g9bj7tn1m1t1w5crmtvh0000gn/T/ipykernel_30857/2902404513.py:65: FutureWarning: Indexing a DataFrame with a datetimelike index using a single string to slice the rows, like `frame[string]`, is deprecated and will be removed in a future version. Use `frame.loc[string]` instead.\n",
      "  mpf.plot(stock_intraday[date],type='candle',\n"
     ]
    },
    {
     "name": "stdout",
     "output_type": "stream",
     "text": [
      "2021-02-16\n",
      "2021-02-17\n",
      "2021-02-18\n",
      "2021-02-19\n"
     ]
    },
    {
     "name": "stderr",
     "output_type": "stream",
     "text": [
      "/var/folders/0d/2q3_g9bj7tn1m1t1w5crmtvh0000gn/T/ipykernel_30857/2902404513.py:65: FutureWarning: Indexing a DataFrame with a datetimelike index using a single string to slice the rows, like `frame[string]`, is deprecated and will be removed in a future version. Use `frame.loc[string]` instead.\n",
      "  mpf.plot(stock_intraday[date],type='candle',\n",
      "/var/folders/0d/2q3_g9bj7tn1m1t1w5crmtvh0000gn/T/ipykernel_30857/2902404513.py:65: FutureWarning: Indexing a DataFrame with a datetimelike index using a single string to slice the rows, like `frame[string]`, is deprecated and will be removed in a future version. Use `frame.loc[string]` instead.\n",
      "  mpf.plot(stock_intraday[date],type='candle',\n",
      "/var/folders/0d/2q3_g9bj7tn1m1t1w5crmtvh0000gn/T/ipykernel_30857/2902404513.py:65: FutureWarning: Indexing a DataFrame with a datetimelike index using a single string to slice the rows, like `frame[string]`, is deprecated and will be removed in a future version. Use `frame.loc[string]` instead.\n",
      "  mpf.plot(stock_intraday[date],type='candle',\n",
      "/var/folders/0d/2q3_g9bj7tn1m1t1w5crmtvh0000gn/T/ipykernel_30857/2902404513.py:65: FutureWarning: Indexing a DataFrame with a datetimelike index using a single string to slice the rows, like `frame[string]`, is deprecated and will be removed in a future version. Use `frame.loc[string]` instead.\n",
      "  mpf.plot(stock_intraday[date],type='candle',\n"
     ]
    },
    {
     "name": "stdout",
     "output_type": "stream",
     "text": [
      "2021-02-22\n",
      "2021-02-23\n",
      "2021-02-24\n"
     ]
    },
    {
     "name": "stderr",
     "output_type": "stream",
     "text": [
      "/var/folders/0d/2q3_g9bj7tn1m1t1w5crmtvh0000gn/T/ipykernel_30857/2902404513.py:65: FutureWarning: Indexing a DataFrame with a datetimelike index using a single string to slice the rows, like `frame[string]`, is deprecated and will be removed in a future version. Use `frame.loc[string]` instead.\n",
      "  mpf.plot(stock_intraday[date],type='candle',\n",
      "/var/folders/0d/2q3_g9bj7tn1m1t1w5crmtvh0000gn/T/ipykernel_30857/2902404513.py:65: FutureWarning: Indexing a DataFrame with a datetimelike index using a single string to slice the rows, like `frame[string]`, is deprecated and will be removed in a future version. Use `frame.loc[string]` instead.\n",
      "  mpf.plot(stock_intraday[date],type='candle',\n",
      "/var/folders/0d/2q3_g9bj7tn1m1t1w5crmtvh0000gn/T/ipykernel_30857/2902404513.py:65: FutureWarning: Indexing a DataFrame with a datetimelike index using a single string to slice the rows, like `frame[string]`, is deprecated and will be removed in a future version. Use `frame.loc[string]` instead.\n",
      "  mpf.plot(stock_intraday[date],type='candle',\n",
      "/var/folders/0d/2q3_g9bj7tn1m1t1w5crmtvh0000gn/T/ipykernel_30857/2902404513.py:65: FutureWarning: Indexing a DataFrame with a datetimelike index using a single string to slice the rows, like `frame[string]`, is deprecated and will be removed in a future version. Use `frame.loc[string]` instead.\n",
      "  mpf.plot(stock_intraday[date],type='candle',\n"
     ]
    },
    {
     "name": "stdout",
     "output_type": "stream",
     "text": [
      "2021-02-25\n",
      "2021-02-26\n",
      "2021-03-01\n",
      "2021-03-02\n"
     ]
    },
    {
     "name": "stderr",
     "output_type": "stream",
     "text": [
      "/var/folders/0d/2q3_g9bj7tn1m1t1w5crmtvh0000gn/T/ipykernel_30857/2902404513.py:65: FutureWarning: Indexing a DataFrame with a datetimelike index using a single string to slice the rows, like `frame[string]`, is deprecated and will be removed in a future version. Use `frame.loc[string]` instead.\n",
      "  mpf.plot(stock_intraday[date],type='candle',\n",
      "/var/folders/0d/2q3_g9bj7tn1m1t1w5crmtvh0000gn/T/ipykernel_30857/2902404513.py:65: FutureWarning: Indexing a DataFrame with a datetimelike index using a single string to slice the rows, like `frame[string]`, is deprecated and will be removed in a future version. Use `frame.loc[string]` instead.\n",
      "  mpf.plot(stock_intraday[date],type='candle',\n",
      "/var/folders/0d/2q3_g9bj7tn1m1t1w5crmtvh0000gn/T/ipykernel_30857/2902404513.py:65: FutureWarning: Indexing a DataFrame with a datetimelike index using a single string to slice the rows, like `frame[string]`, is deprecated and will be removed in a future version. Use `frame.loc[string]` instead.\n",
      "  mpf.plot(stock_intraday[date],type='candle',\n",
      "/var/folders/0d/2q3_g9bj7tn1m1t1w5crmtvh0000gn/T/ipykernel_30857/2902404513.py:65: FutureWarning: Indexing a DataFrame with a datetimelike index using a single string to slice the rows, like `frame[string]`, is deprecated and will be removed in a future version. Use `frame.loc[string]` instead.\n",
      "  mpf.plot(stock_intraday[date],type='candle',\n"
     ]
    },
    {
     "name": "stdout",
     "output_type": "stream",
     "text": [
      "2021-03-03\n",
      "2021-03-04\n",
      "2021-03-05\n",
      "2021-03-08\n",
      "2021-03-09\n",
      "2021-03-10\n",
      "2021-03-11\n"
     ]
    },
    {
     "name": "stderr",
     "output_type": "stream",
     "text": [
      "/var/folders/0d/2q3_g9bj7tn1m1t1w5crmtvh0000gn/T/ipykernel_30857/2902404513.py:65: FutureWarning: Indexing a DataFrame with a datetimelike index using a single string to slice the rows, like `frame[string]`, is deprecated and will be removed in a future version. Use `frame.loc[string]` instead.\n",
      "  mpf.plot(stock_intraday[date],type='candle',\n",
      "/var/folders/0d/2q3_g9bj7tn1m1t1w5crmtvh0000gn/T/ipykernel_30857/2902404513.py:65: FutureWarning: Indexing a DataFrame with a datetimelike index using a single string to slice the rows, like `frame[string]`, is deprecated and will be removed in a future version. Use `frame.loc[string]` instead.\n",
      "  mpf.plot(stock_intraday[date],type='candle',\n",
      "/var/folders/0d/2q3_g9bj7tn1m1t1w5crmtvh0000gn/T/ipykernel_30857/2902404513.py:65: FutureWarning: Indexing a DataFrame with a datetimelike index using a single string to slice the rows, like `frame[string]`, is deprecated and will be removed in a future version. Use `frame.loc[string]` instead.\n",
      "  mpf.plot(stock_intraday[date],type='candle',\n",
      "/var/folders/0d/2q3_g9bj7tn1m1t1w5crmtvh0000gn/T/ipykernel_30857/2902404513.py:65: FutureWarning: Indexing a DataFrame with a datetimelike index using a single string to slice the rows, like `frame[string]`, is deprecated and will be removed in a future version. Use `frame.loc[string]` instead.\n",
      "  mpf.plot(stock_intraday[date],type='candle',\n"
     ]
    },
    {
     "name": "stdout",
     "output_type": "stream",
     "text": [
      "2021-03-12\n",
      "2021-03-15\n",
      "2021-03-16\n",
      "2021-03-17\n"
     ]
    },
    {
     "name": "stderr",
     "output_type": "stream",
     "text": [
      "/var/folders/0d/2q3_g9bj7tn1m1t1w5crmtvh0000gn/T/ipykernel_30857/2902404513.py:65: FutureWarning: Indexing a DataFrame with a datetimelike index using a single string to slice the rows, like `frame[string]`, is deprecated and will be removed in a future version. Use `frame.loc[string]` instead.\n",
      "  mpf.plot(stock_intraday[date],type='candle',\n",
      "/var/folders/0d/2q3_g9bj7tn1m1t1w5crmtvh0000gn/T/ipykernel_30857/2902404513.py:65: FutureWarning: Indexing a DataFrame with a datetimelike index using a single string to slice the rows, like `frame[string]`, is deprecated and will be removed in a future version. Use `frame.loc[string]` instead.\n",
      "  mpf.plot(stock_intraday[date],type='candle',\n",
      "/var/folders/0d/2q3_g9bj7tn1m1t1w5crmtvh0000gn/T/ipykernel_30857/2902404513.py:65: FutureWarning: Indexing a DataFrame with a datetimelike index using a single string to slice the rows, like `frame[string]`, is deprecated and will be removed in a future version. Use `frame.loc[string]` instead.\n",
      "  mpf.plot(stock_intraday[date],type='candle',\n",
      "/var/folders/0d/2q3_g9bj7tn1m1t1w5crmtvh0000gn/T/ipykernel_30857/2902404513.py:65: FutureWarning: Indexing a DataFrame with a datetimelike index using a single string to slice the rows, like `frame[string]`, is deprecated and will be removed in a future version. Use `frame.loc[string]` instead.\n",
      "  mpf.plot(stock_intraday[date],type='candle',\n"
     ]
    },
    {
     "name": "stdout",
     "output_type": "stream",
     "text": [
      "2021-03-18\n",
      "2021-03-19\n",
      "2021-03-22\n",
      "2021-03-23\n"
     ]
    },
    {
     "name": "stderr",
     "output_type": "stream",
     "text": [
      "/var/folders/0d/2q3_g9bj7tn1m1t1w5crmtvh0000gn/T/ipykernel_30857/2902404513.py:65: FutureWarning: Indexing a DataFrame with a datetimelike index using a single string to slice the rows, like `frame[string]`, is deprecated and will be removed in a future version. Use `frame.loc[string]` instead.\n",
      "  mpf.plot(stock_intraday[date],type='candle',\n",
      "/var/folders/0d/2q3_g9bj7tn1m1t1w5crmtvh0000gn/T/ipykernel_30857/2902404513.py:65: FutureWarning: Indexing a DataFrame with a datetimelike index using a single string to slice the rows, like `frame[string]`, is deprecated and will be removed in a future version. Use `frame.loc[string]` instead.\n",
      "  mpf.plot(stock_intraday[date],type='candle',\n",
      "/var/folders/0d/2q3_g9bj7tn1m1t1w5crmtvh0000gn/T/ipykernel_30857/2902404513.py:65: FutureWarning: Indexing a DataFrame with a datetimelike index using a single string to slice the rows, like `frame[string]`, is deprecated and will be removed in a future version. Use `frame.loc[string]` instead.\n",
      "  mpf.plot(stock_intraday[date],type='candle',\n",
      "/var/folders/0d/2q3_g9bj7tn1m1t1w5crmtvh0000gn/T/ipykernel_30857/2902404513.py:65: FutureWarning: Indexing a DataFrame with a datetimelike index using a single string to slice the rows, like `frame[string]`, is deprecated and will be removed in a future version. Use `frame.loc[string]` instead.\n",
      "  mpf.plot(stock_intraday[date],type='candle',\n",
      "/var/folders/0d/2q3_g9bj7tn1m1t1w5crmtvh0000gn/T/ipykernel_30857/2902404513.py:65: FutureWarning: Indexing a DataFrame with a datetimelike index using a single string to slice the rows, like `frame[string]`, is deprecated and will be removed in a future version. Use `frame.loc[string]` instead.\n",
      "  mpf.plot(stock_intraday[date],type='candle',\n",
      "/var/folders/0d/2q3_g9bj7tn1m1t1w5crmtvh0000gn/T/ipykernel_30857/2902404513.py:65: FutureWarning: Indexing a DataFrame with a datetimelike index using a single string to slice the rows, like `frame[string]`, is deprecated and will be removed in a future version. Use `frame.loc[string]` instead.\n",
      "  mpf.plot(stock_intraday[date],type='candle',\n",
      "/var/folders/0d/2q3_g9bj7tn1m1t1w5crmtvh0000gn/T/ipykernel_30857/2902404513.py:65: FutureWarning: Indexing a DataFrame with a datetimelike index using a single string to slice the rows, like `frame[string]`, is deprecated and will be removed in a future version. Use `frame.loc[string]` instead.\n",
      "  mpf.plot(stock_intraday[date],type='candle',\n"
     ]
    },
    {
     "name": "stdout",
     "output_type": "stream",
     "text": [
      "2021-03-24\n",
      "2021-03-25\n",
      "2021-03-26\n",
      "2021-03-29\n",
      "2021-03-30\n"
     ]
    },
    {
     "name": "stderr",
     "output_type": "stream",
     "text": [
      "/var/folders/0d/2q3_g9bj7tn1m1t1w5crmtvh0000gn/T/ipykernel_30857/2902404513.py:65: FutureWarning: Indexing a DataFrame with a datetimelike index using a single string to slice the rows, like `frame[string]`, is deprecated and will be removed in a future version. Use `frame.loc[string]` instead.\n",
      "  mpf.plot(stock_intraday[date],type='candle',\n",
      "/var/folders/0d/2q3_g9bj7tn1m1t1w5crmtvh0000gn/T/ipykernel_30857/2902404513.py:65: FutureWarning: Indexing a DataFrame with a datetimelike index using a single string to slice the rows, like `frame[string]`, is deprecated and will be removed in a future version. Use `frame.loc[string]` instead.\n",
      "  mpf.plot(stock_intraday[date],type='candle',\n"
     ]
    },
    {
     "name": "stdout",
     "output_type": "stream",
     "text": [
      "2021-03-31\n",
      "2021-04-01\n",
      "2021-04-05\n",
      "2021-04-06\n"
     ]
    },
    {
     "name": "stderr",
     "output_type": "stream",
     "text": [
      "/var/folders/0d/2q3_g9bj7tn1m1t1w5crmtvh0000gn/T/ipykernel_30857/2902404513.py:65: FutureWarning: Indexing a DataFrame with a datetimelike index using a single string to slice the rows, like `frame[string]`, is deprecated and will be removed in a future version. Use `frame.loc[string]` instead.\n",
      "  mpf.plot(stock_intraday[date],type='candle',\n",
      "/var/folders/0d/2q3_g9bj7tn1m1t1w5crmtvh0000gn/T/ipykernel_30857/2902404513.py:65: FutureWarning: Indexing a DataFrame with a datetimelike index using a single string to slice the rows, like `frame[string]`, is deprecated and will be removed in a future version. Use `frame.loc[string]` instead.\n",
      "  mpf.plot(stock_intraday[date],type='candle',\n",
      "/var/folders/0d/2q3_g9bj7tn1m1t1w5crmtvh0000gn/T/ipykernel_30857/2902404513.py:65: FutureWarning: Indexing a DataFrame with a datetimelike index using a single string to slice the rows, like `frame[string]`, is deprecated and will be removed in a future version. Use `frame.loc[string]` instead.\n",
      "  mpf.plot(stock_intraday[date],type='candle',\n",
      "/var/folders/0d/2q3_g9bj7tn1m1t1w5crmtvh0000gn/T/ipykernel_30857/2902404513.py:65: FutureWarning: Indexing a DataFrame with a datetimelike index using a single string to slice the rows, like `frame[string]`, is deprecated and will be removed in a future version. Use `frame.loc[string]` instead.\n",
      "  mpf.plot(stock_intraday[date],type='candle',\n"
     ]
    },
    {
     "name": "stdout",
     "output_type": "stream",
     "text": [
      "2021-04-07\n",
      "2021-04-08\n",
      "2021-04-09\n",
      "2021-04-12\n"
     ]
    },
    {
     "name": "stderr",
     "output_type": "stream",
     "text": [
      "/var/folders/0d/2q3_g9bj7tn1m1t1w5crmtvh0000gn/T/ipykernel_30857/2902404513.py:65: FutureWarning: Indexing a DataFrame with a datetimelike index using a single string to slice the rows, like `frame[string]`, is deprecated and will be removed in a future version. Use `frame.loc[string]` instead.\n",
      "  mpf.plot(stock_intraday[date],type='candle',\n",
      "/var/folders/0d/2q3_g9bj7tn1m1t1w5crmtvh0000gn/T/ipykernel_30857/2902404513.py:65: FutureWarning: Indexing a DataFrame with a datetimelike index using a single string to slice the rows, like `frame[string]`, is deprecated and will be removed in a future version. Use `frame.loc[string]` instead.\n",
      "  mpf.plot(stock_intraday[date],type='candle',\n",
      "/var/folders/0d/2q3_g9bj7tn1m1t1w5crmtvh0000gn/T/ipykernel_30857/2902404513.py:65: FutureWarning: Indexing a DataFrame with a datetimelike index using a single string to slice the rows, like `frame[string]`, is deprecated and will be removed in a future version. Use `frame.loc[string]` instead.\n",
      "  mpf.plot(stock_intraday[date],type='candle',\n",
      "/var/folders/0d/2q3_g9bj7tn1m1t1w5crmtvh0000gn/T/ipykernel_30857/2902404513.py:65: FutureWarning: Indexing a DataFrame with a datetimelike index using a single string to slice the rows, like `frame[string]`, is deprecated and will be removed in a future version. Use `frame.loc[string]` instead.\n",
      "  mpf.plot(stock_intraday[date],type='candle',\n"
     ]
    },
    {
     "name": "stdout",
     "output_type": "stream",
     "text": [
      "2021-04-13\n",
      "2021-04-14\n",
      "2021-04-15\n"
     ]
    },
    {
     "name": "stderr",
     "output_type": "stream",
     "text": [
      "/var/folders/0d/2q3_g9bj7tn1m1t1w5crmtvh0000gn/T/ipykernel_30857/2902404513.py:65: FutureWarning: Indexing a DataFrame with a datetimelike index using a single string to slice the rows, like `frame[string]`, is deprecated and will be removed in a future version. Use `frame.loc[string]` instead.\n",
      "  mpf.plot(stock_intraday[date],type='candle',\n",
      "/var/folders/0d/2q3_g9bj7tn1m1t1w5crmtvh0000gn/T/ipykernel_30857/2902404513.py:65: FutureWarning: Indexing a DataFrame with a datetimelike index using a single string to slice the rows, like `frame[string]`, is deprecated and will be removed in a future version. Use `frame.loc[string]` instead.\n",
      "  mpf.plot(stock_intraday[date],type='candle',\n",
      "/var/folders/0d/2q3_g9bj7tn1m1t1w5crmtvh0000gn/T/ipykernel_30857/2902404513.py:65: FutureWarning: Indexing a DataFrame with a datetimelike index using a single string to slice the rows, like `frame[string]`, is deprecated and will be removed in a future version. Use `frame.loc[string]` instead.\n",
      "  mpf.plot(stock_intraday[date],type='candle',\n",
      "/var/folders/0d/2q3_g9bj7tn1m1t1w5crmtvh0000gn/T/ipykernel_30857/2902404513.py:65: FutureWarning: Indexing a DataFrame with a datetimelike index using a single string to slice the rows, like `frame[string]`, is deprecated and will be removed in a future version. Use `frame.loc[string]` instead.\n",
      "  mpf.plot(stock_intraday[date],type='candle',\n"
     ]
    },
    {
     "name": "stdout",
     "output_type": "stream",
     "text": [
      "2021-04-16\n",
      "2021-04-19\n",
      "2021-04-20\n",
      "2021-04-21\n"
     ]
    },
    {
     "name": "stderr",
     "output_type": "stream",
     "text": [
      "/var/folders/0d/2q3_g9bj7tn1m1t1w5crmtvh0000gn/T/ipykernel_30857/2902404513.py:65: FutureWarning: Indexing a DataFrame with a datetimelike index using a single string to slice the rows, like `frame[string]`, is deprecated and will be removed in a future version. Use `frame.loc[string]` instead.\n",
      "  mpf.plot(stock_intraday[date],type='candle',\n",
      "/var/folders/0d/2q3_g9bj7tn1m1t1w5crmtvh0000gn/T/ipykernel_30857/2902404513.py:65: FutureWarning: Indexing a DataFrame with a datetimelike index using a single string to slice the rows, like `frame[string]`, is deprecated and will be removed in a future version. Use `frame.loc[string]` instead.\n",
      "  mpf.plot(stock_intraday[date],type='candle',\n",
      "/var/folders/0d/2q3_g9bj7tn1m1t1w5crmtvh0000gn/T/ipykernel_30857/2902404513.py:65: FutureWarning: Indexing a DataFrame with a datetimelike index using a single string to slice the rows, like `frame[string]`, is deprecated and will be removed in a future version. Use `frame.loc[string]` instead.\n",
      "  mpf.plot(stock_intraday[date],type='candle',\n",
      "/var/folders/0d/2q3_g9bj7tn1m1t1w5crmtvh0000gn/T/ipykernel_30857/2902404513.py:65: FutureWarning: Indexing a DataFrame with a datetimelike index using a single string to slice the rows, like `frame[string]`, is deprecated and will be removed in a future version. Use `frame.loc[string]` instead.\n",
      "  mpf.plot(stock_intraday[date],type='candle',\n"
     ]
    },
    {
     "name": "stdout",
     "output_type": "stream",
     "text": [
      "2021-04-22\n",
      "2021-04-23\n",
      "2021-04-26\n"
     ]
    },
    {
     "name": "stderr",
     "output_type": "stream",
     "text": [
      "/var/folders/0d/2q3_g9bj7tn1m1t1w5crmtvh0000gn/T/ipykernel_30857/2902404513.py:65: FutureWarning: Indexing a DataFrame with a datetimelike index using a single string to slice the rows, like `frame[string]`, is deprecated and will be removed in a future version. Use `frame.loc[string]` instead.\n",
      "  mpf.plot(stock_intraday[date],type='candle',\n",
      "/var/folders/0d/2q3_g9bj7tn1m1t1w5crmtvh0000gn/T/ipykernel_30857/2902404513.py:65: FutureWarning: Indexing a DataFrame with a datetimelike index using a single string to slice the rows, like `frame[string]`, is deprecated and will be removed in a future version. Use `frame.loc[string]` instead.\n",
      "  mpf.plot(stock_intraday[date],type='candle',\n",
      "/var/folders/0d/2q3_g9bj7tn1m1t1w5crmtvh0000gn/T/ipykernel_30857/2902404513.py:65: FutureWarning: Indexing a DataFrame with a datetimelike index using a single string to slice the rows, like `frame[string]`, is deprecated and will be removed in a future version. Use `frame.loc[string]` instead.\n",
      "  mpf.plot(stock_intraday[date],type='candle',\n"
     ]
    },
    {
     "name": "stdout",
     "output_type": "stream",
     "text": [
      "2021-04-27\n",
      "2021-04-28\n",
      "2021-04-29\n",
      "2021-04-30\n"
     ]
    },
    {
     "name": "stderr",
     "output_type": "stream",
     "text": [
      "/var/folders/0d/2q3_g9bj7tn1m1t1w5crmtvh0000gn/T/ipykernel_30857/2902404513.py:65: FutureWarning: Indexing a DataFrame with a datetimelike index using a single string to slice the rows, like `frame[string]`, is deprecated and will be removed in a future version. Use `frame.loc[string]` instead.\n",
      "  mpf.plot(stock_intraday[date],type='candle',\n",
      "/var/folders/0d/2q3_g9bj7tn1m1t1w5crmtvh0000gn/T/ipykernel_30857/2902404513.py:65: FutureWarning: Indexing a DataFrame with a datetimelike index using a single string to slice the rows, like `frame[string]`, is deprecated and will be removed in a future version. Use `frame.loc[string]` instead.\n",
      "  mpf.plot(stock_intraday[date],type='candle',\n",
      "/var/folders/0d/2q3_g9bj7tn1m1t1w5crmtvh0000gn/T/ipykernel_30857/2902404513.py:65: FutureWarning: Indexing a DataFrame with a datetimelike index using a single string to slice the rows, like `frame[string]`, is deprecated and will be removed in a future version. Use `frame.loc[string]` instead.\n",
      "  mpf.plot(stock_intraday[date],type='candle',\n"
     ]
    },
    {
     "name": "stdout",
     "output_type": "stream",
     "text": [
      "2021-05-03\n",
      "2021-05-04\n",
      "2021-05-05\n"
     ]
    },
    {
     "name": "stderr",
     "output_type": "stream",
     "text": [
      "/var/folders/0d/2q3_g9bj7tn1m1t1w5crmtvh0000gn/T/ipykernel_30857/2902404513.py:65: FutureWarning: Indexing a DataFrame with a datetimelike index using a single string to slice the rows, like `frame[string]`, is deprecated and will be removed in a future version. Use `frame.loc[string]` instead.\n",
      "  mpf.plot(stock_intraday[date],type='candle',\n",
      "/var/folders/0d/2q3_g9bj7tn1m1t1w5crmtvh0000gn/T/ipykernel_30857/2902404513.py:65: FutureWarning: Indexing a DataFrame with a datetimelike index using a single string to slice the rows, like `frame[string]`, is deprecated and will be removed in a future version. Use `frame.loc[string]` instead.\n",
      "  mpf.plot(stock_intraday[date],type='candle',\n",
      "/var/folders/0d/2q3_g9bj7tn1m1t1w5crmtvh0000gn/T/ipykernel_30857/2902404513.py:65: FutureWarning: Indexing a DataFrame with a datetimelike index using a single string to slice the rows, like `frame[string]`, is deprecated and will be removed in a future version. Use `frame.loc[string]` instead.\n",
      "  mpf.plot(stock_intraday[date],type='candle',\n"
     ]
    },
    {
     "name": "stdout",
     "output_type": "stream",
     "text": [
      "2021-05-06\n",
      "2021-05-07\n",
      "2021-05-10\n"
     ]
    },
    {
     "name": "stderr",
     "output_type": "stream",
     "text": [
      "/var/folders/0d/2q3_g9bj7tn1m1t1w5crmtvh0000gn/T/ipykernel_30857/2902404513.py:65: FutureWarning: Indexing a DataFrame with a datetimelike index using a single string to slice the rows, like `frame[string]`, is deprecated and will be removed in a future version. Use `frame.loc[string]` instead.\n",
      "  mpf.plot(stock_intraday[date],type='candle',\n",
      "/var/folders/0d/2q3_g9bj7tn1m1t1w5crmtvh0000gn/T/ipykernel_30857/2902404513.py:65: FutureWarning: Indexing a DataFrame with a datetimelike index using a single string to slice the rows, like `frame[string]`, is deprecated and will be removed in a future version. Use `frame.loc[string]` instead.\n",
      "  mpf.plot(stock_intraday[date],type='candle',\n",
      "/var/folders/0d/2q3_g9bj7tn1m1t1w5crmtvh0000gn/T/ipykernel_30857/2902404513.py:65: FutureWarning: Indexing a DataFrame with a datetimelike index using a single string to slice the rows, like `frame[string]`, is deprecated and will be removed in a future version. Use `frame.loc[string]` instead.\n",
      "  mpf.plot(stock_intraday[date],type='candle',\n"
     ]
    },
    {
     "name": "stdout",
     "output_type": "stream",
     "text": [
      "2021-05-11\n",
      "2021-05-12\n",
      "2021-05-13\n",
      "2021-05-14\n"
     ]
    },
    {
     "name": "stderr",
     "output_type": "stream",
     "text": [
      "/var/folders/0d/2q3_g9bj7tn1m1t1w5crmtvh0000gn/T/ipykernel_30857/2902404513.py:65: FutureWarning: Indexing a DataFrame with a datetimelike index using a single string to slice the rows, like `frame[string]`, is deprecated and will be removed in a future version. Use `frame.loc[string]` instead.\n",
      "  mpf.plot(stock_intraday[date],type='candle',\n",
      "/var/folders/0d/2q3_g9bj7tn1m1t1w5crmtvh0000gn/T/ipykernel_30857/2902404513.py:65: FutureWarning: Indexing a DataFrame with a datetimelike index using a single string to slice the rows, like `frame[string]`, is deprecated and will be removed in a future version. Use `frame.loc[string]` instead.\n",
      "  mpf.plot(stock_intraday[date],type='candle',\n",
      "/var/folders/0d/2q3_g9bj7tn1m1t1w5crmtvh0000gn/T/ipykernel_30857/2902404513.py:65: FutureWarning: Indexing a DataFrame with a datetimelike index using a single string to slice the rows, like `frame[string]`, is deprecated and will be removed in a future version. Use `frame.loc[string]` instead.\n",
      "  mpf.plot(stock_intraday[date],type='candle',\n",
      "/var/folders/0d/2q3_g9bj7tn1m1t1w5crmtvh0000gn/T/ipykernel_30857/2902404513.py:65: FutureWarning: Indexing a DataFrame with a datetimelike index using a single string to slice the rows, like `frame[string]`, is deprecated and will be removed in a future version. Use `frame.loc[string]` instead.\n",
      "  mpf.plot(stock_intraday[date],type='candle',\n"
     ]
    },
    {
     "name": "stdout",
     "output_type": "stream",
     "text": [
      "2021-05-17\n",
      "2021-05-18\n",
      "2021-05-19\n",
      "2021-05-20\n"
     ]
    },
    {
     "name": "stderr",
     "output_type": "stream",
     "text": [
      "/var/folders/0d/2q3_g9bj7tn1m1t1w5crmtvh0000gn/T/ipykernel_30857/2902404513.py:65: FutureWarning: Indexing a DataFrame with a datetimelike index using a single string to slice the rows, like `frame[string]`, is deprecated and will be removed in a future version. Use `frame.loc[string]` instead.\n",
      "  mpf.plot(stock_intraday[date],type='candle',\n",
      "/var/folders/0d/2q3_g9bj7tn1m1t1w5crmtvh0000gn/T/ipykernel_30857/2902404513.py:65: FutureWarning: Indexing a DataFrame with a datetimelike index using a single string to slice the rows, like `frame[string]`, is deprecated and will be removed in a future version. Use `frame.loc[string]` instead.\n",
      "  mpf.plot(stock_intraday[date],type='candle',\n",
      "/var/folders/0d/2q3_g9bj7tn1m1t1w5crmtvh0000gn/T/ipykernel_30857/2902404513.py:65: FutureWarning: Indexing a DataFrame with a datetimelike index using a single string to slice the rows, like `frame[string]`, is deprecated and will be removed in a future version. Use `frame.loc[string]` instead.\n",
      "  mpf.plot(stock_intraday[date],type='candle',\n",
      "/var/folders/0d/2q3_g9bj7tn1m1t1w5crmtvh0000gn/T/ipykernel_30857/2902404513.py:65: FutureWarning: Indexing a DataFrame with a datetimelike index using a single string to slice the rows, like `frame[string]`, is deprecated and will be removed in a future version. Use `frame.loc[string]` instead.\n",
      "  mpf.plot(stock_intraday[date],type='candle',\n"
     ]
    },
    {
     "name": "stdout",
     "output_type": "stream",
     "text": [
      "2021-05-21\n",
      "2021-05-24\n",
      "2021-05-25\n",
      "2021-05-26\n"
     ]
    },
    {
     "name": "stderr",
     "output_type": "stream",
     "text": [
      "/var/folders/0d/2q3_g9bj7tn1m1t1w5crmtvh0000gn/T/ipykernel_30857/2902404513.py:65: FutureWarning: Indexing a DataFrame with a datetimelike index using a single string to slice the rows, like `frame[string]`, is deprecated and will be removed in a future version. Use `frame.loc[string]` instead.\n",
      "  mpf.plot(stock_intraday[date],type='candle',\n",
      "/var/folders/0d/2q3_g9bj7tn1m1t1w5crmtvh0000gn/T/ipykernel_30857/2902404513.py:65: FutureWarning: Indexing a DataFrame with a datetimelike index using a single string to slice the rows, like `frame[string]`, is deprecated and will be removed in a future version. Use `frame.loc[string]` instead.\n",
      "  mpf.plot(stock_intraday[date],type='candle',\n",
      "/var/folders/0d/2q3_g9bj7tn1m1t1w5crmtvh0000gn/T/ipykernel_30857/2902404513.py:65: FutureWarning: Indexing a DataFrame with a datetimelike index using a single string to slice the rows, like `frame[string]`, is deprecated and will be removed in a future version. Use `frame.loc[string]` instead.\n",
      "  mpf.plot(stock_intraday[date],type='candle',\n",
      "/var/folders/0d/2q3_g9bj7tn1m1t1w5crmtvh0000gn/T/ipykernel_30857/2902404513.py:65: FutureWarning: Indexing a DataFrame with a datetimelike index using a single string to slice the rows, like `frame[string]`, is deprecated and will be removed in a future version. Use `frame.loc[string]` instead.\n",
      "  mpf.plot(stock_intraday[date],type='candle',\n"
     ]
    },
    {
     "name": "stdout",
     "output_type": "stream",
     "text": [
      "2021-05-27\n",
      "2021-05-28\n",
      "2021-06-01\n",
      "2021-06-02\n"
     ]
    },
    {
     "name": "stderr",
     "output_type": "stream",
     "text": [
      "/var/folders/0d/2q3_g9bj7tn1m1t1w5crmtvh0000gn/T/ipykernel_30857/2902404513.py:65: FutureWarning: Indexing a DataFrame with a datetimelike index using a single string to slice the rows, like `frame[string]`, is deprecated and will be removed in a future version. Use `frame.loc[string]` instead.\n",
      "  mpf.plot(stock_intraday[date],type='candle',\n",
      "/var/folders/0d/2q3_g9bj7tn1m1t1w5crmtvh0000gn/T/ipykernel_30857/2902404513.py:65: FutureWarning: Indexing a DataFrame with a datetimelike index using a single string to slice the rows, like `frame[string]`, is deprecated and will be removed in a future version. Use `frame.loc[string]` instead.\n",
      "  mpf.plot(stock_intraday[date],type='candle',\n",
      "/var/folders/0d/2q3_g9bj7tn1m1t1w5crmtvh0000gn/T/ipykernel_30857/2902404513.py:65: FutureWarning: Indexing a DataFrame with a datetimelike index using a single string to slice the rows, like `frame[string]`, is deprecated and will be removed in a future version. Use `frame.loc[string]` instead.\n",
      "  mpf.plot(stock_intraday[date],type='candle',\n",
      "/var/folders/0d/2q3_g9bj7tn1m1t1w5crmtvh0000gn/T/ipykernel_30857/2902404513.py:65: FutureWarning: Indexing a DataFrame with a datetimelike index using a single string to slice the rows, like `frame[string]`, is deprecated and will be removed in a future version. Use `frame.loc[string]` instead.\n",
      "  mpf.plot(stock_intraday[date],type='candle',\n"
     ]
    },
    {
     "name": "stdout",
     "output_type": "stream",
     "text": [
      "2021-06-03\n",
      "2021-06-04\n",
      "2021-06-07\n",
      "2021-06-08\n"
     ]
    },
    {
     "name": "stderr",
     "output_type": "stream",
     "text": [
      "/var/folders/0d/2q3_g9bj7tn1m1t1w5crmtvh0000gn/T/ipykernel_30857/2902404513.py:65: FutureWarning: Indexing a DataFrame with a datetimelike index using a single string to slice the rows, like `frame[string]`, is deprecated and will be removed in a future version. Use `frame.loc[string]` instead.\n",
      "  mpf.plot(stock_intraday[date],type='candle',\n",
      "/var/folders/0d/2q3_g9bj7tn1m1t1w5crmtvh0000gn/T/ipykernel_30857/2902404513.py:65: FutureWarning: Indexing a DataFrame with a datetimelike index using a single string to slice the rows, like `frame[string]`, is deprecated and will be removed in a future version. Use `frame.loc[string]` instead.\n",
      "  mpf.plot(stock_intraday[date],type='candle',\n",
      "/var/folders/0d/2q3_g9bj7tn1m1t1w5crmtvh0000gn/T/ipykernel_30857/2902404513.py:65: FutureWarning: Indexing a DataFrame with a datetimelike index using a single string to slice the rows, like `frame[string]`, is deprecated and will be removed in a future version. Use `frame.loc[string]` instead.\n",
      "  mpf.plot(stock_intraday[date],type='candle',\n",
      "/var/folders/0d/2q3_g9bj7tn1m1t1w5crmtvh0000gn/T/ipykernel_30857/2902404513.py:65: FutureWarning: Indexing a DataFrame with a datetimelike index using a single string to slice the rows, like `frame[string]`, is deprecated and will be removed in a future version. Use `frame.loc[string]` instead.\n",
      "  mpf.plot(stock_intraday[date],type='candle',\n"
     ]
    },
    {
     "name": "stdout",
     "output_type": "stream",
     "text": [
      "2021-06-09\n"
     ]
    },
    {
     "name": "stderr",
     "output_type": "stream",
     "text": [
      "/var/folders/0d/2q3_g9bj7tn1m1t1w5crmtvh0000gn/T/ipykernel_30857/2902404513.py:65: FutureWarning: Indexing a DataFrame with a datetimelike index using a single string to slice the rows, like `frame[string]`, is deprecated and will be removed in a future version. Use `frame.loc[string]` instead.\n",
      "  mpf.plot(stock_intraday[date],type='candle',\n",
      "/var/folders/0d/2q3_g9bj7tn1m1t1w5crmtvh0000gn/T/ipykernel_30857/2902404513.py:65: FutureWarning: Indexing a DataFrame with a datetimelike index using a single string to slice the rows, like `frame[string]`, is deprecated and will be removed in a future version. Use `frame.loc[string]` instead.\n",
      "  mpf.plot(stock_intraday[date],type='candle',\n",
      "/var/folders/0d/2q3_g9bj7tn1m1t1w5crmtvh0000gn/T/ipykernel_30857/2902404513.py:65: FutureWarning: Indexing a DataFrame with a datetimelike index using a single string to slice the rows, like `frame[string]`, is deprecated and will be removed in a future version. Use `frame.loc[string]` instead.\n",
      "  mpf.plot(stock_intraday[date],type='candle',\n",
      "/var/folders/0d/2q3_g9bj7tn1m1t1w5crmtvh0000gn/T/ipykernel_30857/2902404513.py:65: FutureWarning: Indexing a DataFrame with a datetimelike index using a single string to slice the rows, like `frame[string]`, is deprecated and will be removed in a future version. Use `frame.loc[string]` instead.\n",
      "  mpf.plot(stock_intraday[date],type='candle',\n"
     ]
    },
    {
     "name": "stdout",
     "output_type": "stream",
     "text": [
      "2021-06-10\n",
      "2021-06-11\n",
      "2021-06-14\n",
      "2021-06-15\n"
     ]
    },
    {
     "name": "stderr",
     "output_type": "stream",
     "text": [
      "/var/folders/0d/2q3_g9bj7tn1m1t1w5crmtvh0000gn/T/ipykernel_30857/2902404513.py:65: FutureWarning: Indexing a DataFrame with a datetimelike index using a single string to slice the rows, like `frame[string]`, is deprecated and will be removed in a future version. Use `frame.loc[string]` instead.\n",
      "  mpf.plot(stock_intraday[date],type='candle',\n",
      "/var/folders/0d/2q3_g9bj7tn1m1t1w5crmtvh0000gn/T/ipykernel_30857/2902404513.py:65: FutureWarning: Indexing a DataFrame with a datetimelike index using a single string to slice the rows, like `frame[string]`, is deprecated and will be removed in a future version. Use `frame.loc[string]` instead.\n",
      "  mpf.plot(stock_intraday[date],type='candle',\n",
      "/var/folders/0d/2q3_g9bj7tn1m1t1w5crmtvh0000gn/T/ipykernel_30857/2902404513.py:65: FutureWarning: Indexing a DataFrame with a datetimelike index using a single string to slice the rows, like `frame[string]`, is deprecated and will be removed in a future version. Use `frame.loc[string]` instead.\n",
      "  mpf.plot(stock_intraday[date],type='candle',\n",
      "/var/folders/0d/2q3_g9bj7tn1m1t1w5crmtvh0000gn/T/ipykernel_30857/2902404513.py:65: FutureWarning: Indexing a DataFrame with a datetimelike index using a single string to slice the rows, like `frame[string]`, is deprecated and will be removed in a future version. Use `frame.loc[string]` instead.\n",
      "  mpf.plot(stock_intraday[date],type='candle',\n"
     ]
    },
    {
     "name": "stdout",
     "output_type": "stream",
     "text": [
      "2021-06-16\n",
      "2021-06-17\n",
      "2021-06-18\n",
      "2021-06-21\n",
      "2021-06-22\n",
      "2021-06-23\n",
      "2021-06-24\n"
     ]
    },
    {
     "name": "stderr",
     "output_type": "stream",
     "text": [
      "/var/folders/0d/2q3_g9bj7tn1m1t1w5crmtvh0000gn/T/ipykernel_30857/2902404513.py:65: FutureWarning: Indexing a DataFrame with a datetimelike index using a single string to slice the rows, like `frame[string]`, is deprecated and will be removed in a future version. Use `frame.loc[string]` instead.\n",
      "  mpf.plot(stock_intraday[date],type='candle',\n",
      "/var/folders/0d/2q3_g9bj7tn1m1t1w5crmtvh0000gn/T/ipykernel_30857/2902404513.py:65: FutureWarning: Indexing a DataFrame with a datetimelike index using a single string to slice the rows, like `frame[string]`, is deprecated and will be removed in a future version. Use `frame.loc[string]` instead.\n",
      "  mpf.plot(stock_intraday[date],type='candle',\n",
      "/var/folders/0d/2q3_g9bj7tn1m1t1w5crmtvh0000gn/T/ipykernel_30857/2902404513.py:65: FutureWarning: Indexing a DataFrame with a datetimelike index using a single string to slice the rows, like `frame[string]`, is deprecated and will be removed in a future version. Use `frame.loc[string]` instead.\n",
      "  mpf.plot(stock_intraday[date],type='candle',\n",
      "/var/folders/0d/2q3_g9bj7tn1m1t1w5crmtvh0000gn/T/ipykernel_30857/2902404513.py:65: FutureWarning: Indexing a DataFrame with a datetimelike index using a single string to slice the rows, like `frame[string]`, is deprecated and will be removed in a future version. Use `frame.loc[string]` instead.\n",
      "  mpf.plot(stock_intraday[date],type='candle',\n"
     ]
    },
    {
     "name": "stdout",
     "output_type": "stream",
     "text": [
      "2021-06-25\n",
      "2021-06-28\n",
      "2021-06-29\n",
      "2021-06-30\n"
     ]
    },
    {
     "name": "stderr",
     "output_type": "stream",
     "text": [
      "/var/folders/0d/2q3_g9bj7tn1m1t1w5crmtvh0000gn/T/ipykernel_30857/2902404513.py:65: FutureWarning: Indexing a DataFrame with a datetimelike index using a single string to slice the rows, like `frame[string]`, is deprecated and will be removed in a future version. Use `frame.loc[string]` instead.\n",
      "  mpf.plot(stock_intraday[date],type='candle',\n",
      "/var/folders/0d/2q3_g9bj7tn1m1t1w5crmtvh0000gn/T/ipykernel_30857/2902404513.py:65: FutureWarning: Indexing a DataFrame with a datetimelike index using a single string to slice the rows, like `frame[string]`, is deprecated and will be removed in a future version. Use `frame.loc[string]` instead.\n",
      "  mpf.plot(stock_intraday[date],type='candle',\n",
      "/var/folders/0d/2q3_g9bj7tn1m1t1w5crmtvh0000gn/T/ipykernel_30857/2902404513.py:65: FutureWarning: Indexing a DataFrame with a datetimelike index using a single string to slice the rows, like `frame[string]`, is deprecated and will be removed in a future version. Use `frame.loc[string]` instead.\n",
      "  mpf.plot(stock_intraday[date],type='candle',\n",
      "/var/folders/0d/2q3_g9bj7tn1m1t1w5crmtvh0000gn/T/ipykernel_30857/2902404513.py:65: FutureWarning: Indexing a DataFrame with a datetimelike index using a single string to slice the rows, like `frame[string]`, is deprecated and will be removed in a future version. Use `frame.loc[string]` instead.\n",
      "  mpf.plot(stock_intraday[date],type='candle',\n"
     ]
    },
    {
     "name": "stdout",
     "output_type": "stream",
     "text": [
      "2021-07-01\n",
      "2021-07-02\n",
      "2021-07-06\n",
      "2021-07-07\n"
     ]
    },
    {
     "name": "stderr",
     "output_type": "stream",
     "text": [
      "/var/folders/0d/2q3_g9bj7tn1m1t1w5crmtvh0000gn/T/ipykernel_30857/2902404513.py:65: FutureWarning: Indexing a DataFrame with a datetimelike index using a single string to slice the rows, like `frame[string]`, is deprecated and will be removed in a future version. Use `frame.loc[string]` instead.\n",
      "  mpf.plot(stock_intraday[date],type='candle',\n",
      "/var/folders/0d/2q3_g9bj7tn1m1t1w5crmtvh0000gn/T/ipykernel_30857/2902404513.py:65: FutureWarning: Indexing a DataFrame with a datetimelike index using a single string to slice the rows, like `frame[string]`, is deprecated and will be removed in a future version. Use `frame.loc[string]` instead.\n",
      "  mpf.plot(stock_intraday[date],type='candle',\n",
      "/var/folders/0d/2q3_g9bj7tn1m1t1w5crmtvh0000gn/T/ipykernel_30857/2902404513.py:65: FutureWarning: Indexing a DataFrame with a datetimelike index using a single string to slice the rows, like `frame[string]`, is deprecated and will be removed in a future version. Use `frame.loc[string]` instead.\n",
      "  mpf.plot(stock_intraday[date],type='candle',\n",
      "/var/folders/0d/2q3_g9bj7tn1m1t1w5crmtvh0000gn/T/ipykernel_30857/2902404513.py:65: FutureWarning: Indexing a DataFrame with a datetimelike index using a single string to slice the rows, like `frame[string]`, is deprecated and will be removed in a future version. Use `frame.loc[string]` instead.\n",
      "  mpf.plot(stock_intraday[date],type='candle',\n"
     ]
    },
    {
     "name": "stdout",
     "output_type": "stream",
     "text": [
      "2021-07-08\n",
      "2021-07-09\n",
      "2021-07-12\n",
      "2021-07-13\n"
     ]
    },
    {
     "name": "stderr",
     "output_type": "stream",
     "text": [
      "/var/folders/0d/2q3_g9bj7tn1m1t1w5crmtvh0000gn/T/ipykernel_30857/2902404513.py:65: FutureWarning: Indexing a DataFrame with a datetimelike index using a single string to slice the rows, like `frame[string]`, is deprecated and will be removed in a future version. Use `frame.loc[string]` instead.\n",
      "  mpf.plot(stock_intraday[date],type='candle',\n",
      "/var/folders/0d/2q3_g9bj7tn1m1t1w5crmtvh0000gn/T/ipykernel_30857/2902404513.py:65: FutureWarning: Indexing a DataFrame with a datetimelike index using a single string to slice the rows, like `frame[string]`, is deprecated and will be removed in a future version. Use `frame.loc[string]` instead.\n",
      "  mpf.plot(stock_intraday[date],type='candle',\n",
      "/var/folders/0d/2q3_g9bj7tn1m1t1w5crmtvh0000gn/T/ipykernel_30857/2902404513.py:65: FutureWarning: Indexing a DataFrame with a datetimelike index using a single string to slice the rows, like `frame[string]`, is deprecated and will be removed in a future version. Use `frame.loc[string]` instead.\n",
      "  mpf.plot(stock_intraday[date],type='candle',\n",
      "/var/folders/0d/2q3_g9bj7tn1m1t1w5crmtvh0000gn/T/ipykernel_30857/2902404513.py:65: FutureWarning: Indexing a DataFrame with a datetimelike index using a single string to slice the rows, like `frame[string]`, is deprecated and will be removed in a future version. Use `frame.loc[string]` instead.\n",
      "  mpf.plot(stock_intraday[date],type='candle',\n"
     ]
    },
    {
     "name": "stdout",
     "output_type": "stream",
     "text": [
      "2021-07-14\n",
      "2021-07-15\n",
      "2021-07-16\n",
      "2021-07-19\n"
     ]
    },
    {
     "name": "stderr",
     "output_type": "stream",
     "text": [
      "/var/folders/0d/2q3_g9bj7tn1m1t1w5crmtvh0000gn/T/ipykernel_30857/2902404513.py:65: FutureWarning: Indexing a DataFrame with a datetimelike index using a single string to slice the rows, like `frame[string]`, is deprecated and will be removed in a future version. Use `frame.loc[string]` instead.\n",
      "  mpf.plot(stock_intraday[date],type='candle',\n",
      "/var/folders/0d/2q3_g9bj7tn1m1t1w5crmtvh0000gn/T/ipykernel_30857/2902404513.py:65: FutureWarning: Indexing a DataFrame with a datetimelike index using a single string to slice the rows, like `frame[string]`, is deprecated and will be removed in a future version. Use `frame.loc[string]` instead.\n",
      "  mpf.plot(stock_intraday[date],type='candle',\n",
      "/var/folders/0d/2q3_g9bj7tn1m1t1w5crmtvh0000gn/T/ipykernel_30857/2902404513.py:65: FutureWarning: Indexing a DataFrame with a datetimelike index using a single string to slice the rows, like `frame[string]`, is deprecated and will be removed in a future version. Use `frame.loc[string]` instead.\n",
      "  mpf.plot(stock_intraday[date],type='candle',\n",
      "/var/folders/0d/2q3_g9bj7tn1m1t1w5crmtvh0000gn/T/ipykernel_30857/2902404513.py:65: FutureWarning: Indexing a DataFrame with a datetimelike index using a single string to slice the rows, like `frame[string]`, is deprecated and will be removed in a future version. Use `frame.loc[string]` instead.\n",
      "  mpf.plot(stock_intraday[date],type='candle',\n",
      "/var/folders/0d/2q3_g9bj7tn1m1t1w5crmtvh0000gn/T/ipykernel_30857/2902404513.py:65: FutureWarning: Indexing a DataFrame with a datetimelike index using a single string to slice the rows, like `frame[string]`, is deprecated and will be removed in a future version. Use `frame.loc[string]` instead.\n",
      "  mpf.plot(stock_intraday[date],type='candle',\n",
      "/var/folders/0d/2q3_g9bj7tn1m1t1w5crmtvh0000gn/T/ipykernel_30857/2902404513.py:65: FutureWarning: Indexing a DataFrame with a datetimelike index using a single string to slice the rows, like `frame[string]`, is deprecated and will be removed in a future version. Use `frame.loc[string]` instead.\n",
      "  mpf.plot(stock_intraday[date],type='candle',\n",
      "/var/folders/0d/2q3_g9bj7tn1m1t1w5crmtvh0000gn/T/ipykernel_30857/2902404513.py:65: FutureWarning: Indexing a DataFrame with a datetimelike index using a single string to slice the rows, like `frame[string]`, is deprecated and will be removed in a future version. Use `frame.loc[string]` instead.\n",
      "  mpf.plot(stock_intraday[date],type='candle',\n"
     ]
    },
    {
     "name": "stdout",
     "output_type": "stream",
     "text": [
      "2021-07-20\n",
      "2021-07-21\n",
      "2021-07-22\n",
      "2021-07-23\n",
      "2021-07-26\n",
      "2021-07-27\n"
     ]
    },
    {
     "name": "stderr",
     "output_type": "stream",
     "text": [
      "/var/folders/0d/2q3_g9bj7tn1m1t1w5crmtvh0000gn/T/ipykernel_30857/2902404513.py:65: FutureWarning: Indexing a DataFrame with a datetimelike index using a single string to slice the rows, like `frame[string]`, is deprecated and will be removed in a future version. Use `frame.loc[string]` instead.\n",
      "  mpf.plot(stock_intraday[date],type='candle',\n",
      "/var/folders/0d/2q3_g9bj7tn1m1t1w5crmtvh0000gn/T/ipykernel_30857/2902404513.py:65: FutureWarning: Indexing a DataFrame with a datetimelike index using a single string to slice the rows, like `frame[string]`, is deprecated and will be removed in a future version. Use `frame.loc[string]` instead.\n",
      "  mpf.plot(stock_intraday[date],type='candle',\n",
      "/var/folders/0d/2q3_g9bj7tn1m1t1w5crmtvh0000gn/T/ipykernel_30857/2902404513.py:65: FutureWarning: Indexing a DataFrame with a datetimelike index using a single string to slice the rows, like `frame[string]`, is deprecated and will be removed in a future version. Use `frame.loc[string]` instead.\n",
      "  mpf.plot(stock_intraday[date],type='candle',\n"
     ]
    },
    {
     "name": "stdout",
     "output_type": "stream",
     "text": [
      "2021-07-28\n",
      "2021-07-29\n",
      "2021-07-30\n",
      "2021-08-02\n"
     ]
    },
    {
     "name": "stderr",
     "output_type": "stream",
     "text": [
      "/var/folders/0d/2q3_g9bj7tn1m1t1w5crmtvh0000gn/T/ipykernel_30857/2902404513.py:65: FutureWarning: Indexing a DataFrame with a datetimelike index using a single string to slice the rows, like `frame[string]`, is deprecated and will be removed in a future version. Use `frame.loc[string]` instead.\n",
      "  mpf.plot(stock_intraday[date],type='candle',\n",
      "/var/folders/0d/2q3_g9bj7tn1m1t1w5crmtvh0000gn/T/ipykernel_30857/2902404513.py:65: FutureWarning: Indexing a DataFrame with a datetimelike index using a single string to slice the rows, like `frame[string]`, is deprecated and will be removed in a future version. Use `frame.loc[string]` instead.\n",
      "  mpf.plot(stock_intraday[date],type='candle',\n",
      "/var/folders/0d/2q3_g9bj7tn1m1t1w5crmtvh0000gn/T/ipykernel_30857/2902404513.py:65: FutureWarning: Indexing a DataFrame with a datetimelike index using a single string to slice the rows, like `frame[string]`, is deprecated and will be removed in a future version. Use `frame.loc[string]` instead.\n",
      "  mpf.plot(stock_intraday[date],type='candle',\n",
      "/var/folders/0d/2q3_g9bj7tn1m1t1w5crmtvh0000gn/T/ipykernel_30857/2902404513.py:65: FutureWarning: Indexing a DataFrame with a datetimelike index using a single string to slice the rows, like `frame[string]`, is deprecated and will be removed in a future version. Use `frame.loc[string]` instead.\n",
      "  mpf.plot(stock_intraday[date],type='candle',\n"
     ]
    },
    {
     "name": "stdout",
     "output_type": "stream",
     "text": [
      "2021-08-03\n",
      "2021-08-04\n",
      "2021-08-05\n",
      "2021-08-06\n"
     ]
    },
    {
     "name": "stderr",
     "output_type": "stream",
     "text": [
      "/var/folders/0d/2q3_g9bj7tn1m1t1w5crmtvh0000gn/T/ipykernel_30857/2902404513.py:65: FutureWarning: Indexing a DataFrame with a datetimelike index using a single string to slice the rows, like `frame[string]`, is deprecated and will be removed in a future version. Use `frame.loc[string]` instead.\n",
      "  mpf.plot(stock_intraday[date],type='candle',\n",
      "/var/folders/0d/2q3_g9bj7tn1m1t1w5crmtvh0000gn/T/ipykernel_30857/2902404513.py:65: FutureWarning: Indexing a DataFrame with a datetimelike index using a single string to slice the rows, like `frame[string]`, is deprecated and will be removed in a future version. Use `frame.loc[string]` instead.\n",
      "  mpf.plot(stock_intraday[date],type='candle',\n",
      "/var/folders/0d/2q3_g9bj7tn1m1t1w5crmtvh0000gn/T/ipykernel_30857/2902404513.py:65: FutureWarning: Indexing a DataFrame with a datetimelike index using a single string to slice the rows, like `frame[string]`, is deprecated and will be removed in a future version. Use `frame.loc[string]` instead.\n",
      "  mpf.plot(stock_intraday[date],type='candle',\n",
      "/var/folders/0d/2q3_g9bj7tn1m1t1w5crmtvh0000gn/T/ipykernel_30857/2902404513.py:65: FutureWarning: Indexing a DataFrame with a datetimelike index using a single string to slice the rows, like `frame[string]`, is deprecated and will be removed in a future version. Use `frame.loc[string]` instead.\n",
      "  mpf.plot(stock_intraday[date],type='candle',\n"
     ]
    },
    {
     "name": "stdout",
     "output_type": "stream",
     "text": [
      "2021-08-09\n",
      "2021-08-10\n",
      "2021-08-11\n",
      "2021-08-12\n"
     ]
    },
    {
     "name": "stderr",
     "output_type": "stream",
     "text": [
      "/var/folders/0d/2q3_g9bj7tn1m1t1w5crmtvh0000gn/T/ipykernel_30857/2902404513.py:65: FutureWarning: Indexing a DataFrame with a datetimelike index using a single string to slice the rows, like `frame[string]`, is deprecated and will be removed in a future version. Use `frame.loc[string]` instead.\n",
      "  mpf.plot(stock_intraday[date],type='candle',\n",
      "/var/folders/0d/2q3_g9bj7tn1m1t1w5crmtvh0000gn/T/ipykernel_30857/2902404513.py:65: FutureWarning: Indexing a DataFrame with a datetimelike index using a single string to slice the rows, like `frame[string]`, is deprecated and will be removed in a future version. Use `frame.loc[string]` instead.\n",
      "  mpf.plot(stock_intraday[date],type='candle',\n",
      "/var/folders/0d/2q3_g9bj7tn1m1t1w5crmtvh0000gn/T/ipykernel_30857/2902404513.py:65: FutureWarning: Indexing a DataFrame with a datetimelike index using a single string to slice the rows, like `frame[string]`, is deprecated and will be removed in a future version. Use `frame.loc[string]` instead.\n",
      "  mpf.plot(stock_intraday[date],type='candle',\n",
      "/var/folders/0d/2q3_g9bj7tn1m1t1w5crmtvh0000gn/T/ipykernel_30857/2902404513.py:65: FutureWarning: Indexing a DataFrame with a datetimelike index using a single string to slice the rows, like `frame[string]`, is deprecated and will be removed in a future version. Use `frame.loc[string]` instead.\n",
      "  mpf.plot(stock_intraday[date],type='candle',\n"
     ]
    },
    {
     "name": "stdout",
     "output_type": "stream",
     "text": [
      "2021-08-13\n",
      "2021-08-16\n",
      "2021-08-17\n",
      "2021-08-18\n"
     ]
    },
    {
     "name": "stderr",
     "output_type": "stream",
     "text": [
      "/var/folders/0d/2q3_g9bj7tn1m1t1w5crmtvh0000gn/T/ipykernel_30857/2902404513.py:65: FutureWarning: Indexing a DataFrame with a datetimelike index using a single string to slice the rows, like `frame[string]`, is deprecated and will be removed in a future version. Use `frame.loc[string]` instead.\n",
      "  mpf.plot(stock_intraday[date],type='candle',\n",
      "/var/folders/0d/2q3_g9bj7tn1m1t1w5crmtvh0000gn/T/ipykernel_30857/2902404513.py:65: FutureWarning: Indexing a DataFrame with a datetimelike index using a single string to slice the rows, like `frame[string]`, is deprecated and will be removed in a future version. Use `frame.loc[string]` instead.\n",
      "  mpf.plot(stock_intraday[date],type='candle',\n",
      "/var/folders/0d/2q3_g9bj7tn1m1t1w5crmtvh0000gn/T/ipykernel_30857/2902404513.py:65: FutureWarning: Indexing a DataFrame with a datetimelike index using a single string to slice the rows, like `frame[string]`, is deprecated and will be removed in a future version. Use `frame.loc[string]` instead.\n",
      "  mpf.plot(stock_intraday[date],type='candle',\n",
      "/var/folders/0d/2q3_g9bj7tn1m1t1w5crmtvh0000gn/T/ipykernel_30857/2902404513.py:65: FutureWarning: Indexing a DataFrame with a datetimelike index using a single string to slice the rows, like `frame[string]`, is deprecated and will be removed in a future version. Use `frame.loc[string]` instead.\n",
      "  mpf.plot(stock_intraday[date],type='candle',\n"
     ]
    },
    {
     "name": "stdout",
     "output_type": "stream",
     "text": [
      "2021-08-19\n",
      "2021-08-20\n",
      "2021-08-23\n",
      "2021-08-24\n"
     ]
    },
    {
     "name": "stderr",
     "output_type": "stream",
     "text": [
      "/var/folders/0d/2q3_g9bj7tn1m1t1w5crmtvh0000gn/T/ipykernel_30857/2902404513.py:65: FutureWarning: Indexing a DataFrame with a datetimelike index using a single string to slice the rows, like `frame[string]`, is deprecated and will be removed in a future version. Use `frame.loc[string]` instead.\n",
      "  mpf.plot(stock_intraday[date],type='candle',\n",
      "/var/folders/0d/2q3_g9bj7tn1m1t1w5crmtvh0000gn/T/ipykernel_30857/2902404513.py:65: FutureWarning: Indexing a DataFrame with a datetimelike index using a single string to slice the rows, like `frame[string]`, is deprecated and will be removed in a future version. Use `frame.loc[string]` instead.\n",
      "  mpf.plot(stock_intraday[date],type='candle',\n",
      "/var/folders/0d/2q3_g9bj7tn1m1t1w5crmtvh0000gn/T/ipykernel_30857/2902404513.py:65: FutureWarning: Indexing a DataFrame with a datetimelike index using a single string to slice the rows, like `frame[string]`, is deprecated and will be removed in a future version. Use `frame.loc[string]` instead.\n",
      "  mpf.plot(stock_intraday[date],type='candle',\n",
      "/var/folders/0d/2q3_g9bj7tn1m1t1w5crmtvh0000gn/T/ipykernel_30857/2902404513.py:65: FutureWarning: Indexing a DataFrame with a datetimelike index using a single string to slice the rows, like `frame[string]`, is deprecated and will be removed in a future version. Use `frame.loc[string]` instead.\n",
      "  mpf.plot(stock_intraday[date],type='candle',\n"
     ]
    },
    {
     "name": "stdout",
     "output_type": "stream",
     "text": [
      "2021-08-25\n",
      "2021-08-26\n",
      "2021-08-27\n",
      "2021-08-30\n"
     ]
    },
    {
     "name": "stderr",
     "output_type": "stream",
     "text": [
      "/var/folders/0d/2q3_g9bj7tn1m1t1w5crmtvh0000gn/T/ipykernel_30857/2902404513.py:65: FutureWarning: Indexing a DataFrame with a datetimelike index using a single string to slice the rows, like `frame[string]`, is deprecated and will be removed in a future version. Use `frame.loc[string]` instead.\n",
      "  mpf.plot(stock_intraday[date],type='candle',\n",
      "/var/folders/0d/2q3_g9bj7tn1m1t1w5crmtvh0000gn/T/ipykernel_30857/2902404513.py:65: FutureWarning: Indexing a DataFrame with a datetimelike index using a single string to slice the rows, like `frame[string]`, is deprecated and will be removed in a future version. Use `frame.loc[string]` instead.\n",
      "  mpf.plot(stock_intraday[date],type='candle',\n",
      "/var/folders/0d/2q3_g9bj7tn1m1t1w5crmtvh0000gn/T/ipykernel_30857/2902404513.py:65: FutureWarning: Indexing a DataFrame with a datetimelike index using a single string to slice the rows, like `frame[string]`, is deprecated and will be removed in a future version. Use `frame.loc[string]` instead.\n",
      "  mpf.plot(stock_intraday[date],type='candle',\n",
      "/var/folders/0d/2q3_g9bj7tn1m1t1w5crmtvh0000gn/T/ipykernel_30857/2902404513.py:65: FutureWarning: Indexing a DataFrame with a datetimelike index using a single string to slice the rows, like `frame[string]`, is deprecated and will be removed in a future version. Use `frame.loc[string]` instead.\n",
      "  mpf.plot(stock_intraday[date],type='candle',\n"
     ]
    },
    {
     "name": "stdout",
     "output_type": "stream",
     "text": [
      "2021-08-31\n",
      "2021-09-01\n",
      "2021-09-02\n",
      "2021-09-03\n"
     ]
    },
    {
     "name": "stderr",
     "output_type": "stream",
     "text": [
      "/var/folders/0d/2q3_g9bj7tn1m1t1w5crmtvh0000gn/T/ipykernel_30857/2902404513.py:65: FutureWarning: Indexing a DataFrame with a datetimelike index using a single string to slice the rows, like `frame[string]`, is deprecated and will be removed in a future version. Use `frame.loc[string]` instead.\n",
      "  mpf.plot(stock_intraday[date],type='candle',\n",
      "/var/folders/0d/2q3_g9bj7tn1m1t1w5crmtvh0000gn/T/ipykernel_30857/2902404513.py:65: FutureWarning: Indexing a DataFrame with a datetimelike index using a single string to slice the rows, like `frame[string]`, is deprecated and will be removed in a future version. Use `frame.loc[string]` instead.\n",
      "  mpf.plot(stock_intraday[date],type='candle',\n",
      "/var/folders/0d/2q3_g9bj7tn1m1t1w5crmtvh0000gn/T/ipykernel_30857/2902404513.py:65: FutureWarning: Indexing a DataFrame with a datetimelike index using a single string to slice the rows, like `frame[string]`, is deprecated and will be removed in a future version. Use `frame.loc[string]` instead.\n",
      "  mpf.plot(stock_intraday[date],type='candle',\n",
      "/var/folders/0d/2q3_g9bj7tn1m1t1w5crmtvh0000gn/T/ipykernel_30857/2902404513.py:65: FutureWarning: Indexing a DataFrame with a datetimelike index using a single string to slice the rows, like `frame[string]`, is deprecated and will be removed in a future version. Use `frame.loc[string]` instead.\n",
      "  mpf.plot(stock_intraday[date],type='candle',\n"
     ]
    },
    {
     "name": "stdout",
     "output_type": "stream",
     "text": [
      "2021-09-07\n",
      "2021-09-08\n",
      "2021-09-09\n",
      "2021-09-10\n"
     ]
    },
    {
     "name": "stderr",
     "output_type": "stream",
     "text": [
      "/var/folders/0d/2q3_g9bj7tn1m1t1w5crmtvh0000gn/T/ipykernel_30857/2902404513.py:65: FutureWarning: Indexing a DataFrame with a datetimelike index using a single string to slice the rows, like `frame[string]`, is deprecated and will be removed in a future version. Use `frame.loc[string]` instead.\n",
      "  mpf.plot(stock_intraday[date],type='candle',\n",
      "/var/folders/0d/2q3_g9bj7tn1m1t1w5crmtvh0000gn/T/ipykernel_30857/2902404513.py:65: FutureWarning: Indexing a DataFrame with a datetimelike index using a single string to slice the rows, like `frame[string]`, is deprecated and will be removed in a future version. Use `frame.loc[string]` instead.\n",
      "  mpf.plot(stock_intraday[date],type='candle',\n",
      "/var/folders/0d/2q3_g9bj7tn1m1t1w5crmtvh0000gn/T/ipykernel_30857/2902404513.py:65: FutureWarning: Indexing a DataFrame with a datetimelike index using a single string to slice the rows, like `frame[string]`, is deprecated and will be removed in a future version. Use `frame.loc[string]` instead.\n",
      "  mpf.plot(stock_intraday[date],type='candle',\n",
      "/var/folders/0d/2q3_g9bj7tn1m1t1w5crmtvh0000gn/T/ipykernel_30857/2902404513.py:65: FutureWarning: Indexing a DataFrame with a datetimelike index using a single string to slice the rows, like `frame[string]`, is deprecated and will be removed in a future version. Use `frame.loc[string]` instead.\n",
      "  mpf.plot(stock_intraday[date],type='candle',\n"
     ]
    },
    {
     "name": "stdout",
     "output_type": "stream",
     "text": [
      "2021-09-13\n",
      "2021-09-14\n",
      "2021-09-15\n",
      "2021-09-16\n"
     ]
    },
    {
     "name": "stderr",
     "output_type": "stream",
     "text": [
      "/var/folders/0d/2q3_g9bj7tn1m1t1w5crmtvh0000gn/T/ipykernel_30857/2902404513.py:65: FutureWarning: Indexing a DataFrame with a datetimelike index using a single string to slice the rows, like `frame[string]`, is deprecated and will be removed in a future version. Use `frame.loc[string]` instead.\n",
      "  mpf.plot(stock_intraday[date],type='candle',\n",
      "/var/folders/0d/2q3_g9bj7tn1m1t1w5crmtvh0000gn/T/ipykernel_30857/2902404513.py:65: FutureWarning: Indexing a DataFrame with a datetimelike index using a single string to slice the rows, like `frame[string]`, is deprecated and will be removed in a future version. Use `frame.loc[string]` instead.\n",
      "  mpf.plot(stock_intraday[date],type='candle',\n",
      "/var/folders/0d/2q3_g9bj7tn1m1t1w5crmtvh0000gn/T/ipykernel_30857/2902404513.py:65: FutureWarning: Indexing a DataFrame with a datetimelike index using a single string to slice the rows, like `frame[string]`, is deprecated and will be removed in a future version. Use `frame.loc[string]` instead.\n",
      "  mpf.plot(stock_intraday[date],type='candle',\n",
      "/var/folders/0d/2q3_g9bj7tn1m1t1w5crmtvh0000gn/T/ipykernel_30857/2902404513.py:65: FutureWarning: Indexing a DataFrame with a datetimelike index using a single string to slice the rows, like `frame[string]`, is deprecated and will be removed in a future version. Use `frame.loc[string]` instead.\n",
      "  mpf.plot(stock_intraday[date],type='candle',\n"
     ]
    },
    {
     "name": "stdout",
     "output_type": "stream",
     "text": [
      "2021-09-17\n",
      "2021-09-20\n",
      "2021-09-21\n",
      "2021-09-22\n"
     ]
    },
    {
     "name": "stderr",
     "output_type": "stream",
     "text": [
      "/var/folders/0d/2q3_g9bj7tn1m1t1w5crmtvh0000gn/T/ipykernel_30857/2902404513.py:65: FutureWarning: Indexing a DataFrame with a datetimelike index using a single string to slice the rows, like `frame[string]`, is deprecated and will be removed in a future version. Use `frame.loc[string]` instead.\n",
      "  mpf.plot(stock_intraday[date],type='candle',\n",
      "/var/folders/0d/2q3_g9bj7tn1m1t1w5crmtvh0000gn/T/ipykernel_30857/2902404513.py:65: FutureWarning: Indexing a DataFrame with a datetimelike index using a single string to slice the rows, like `frame[string]`, is deprecated and will be removed in a future version. Use `frame.loc[string]` instead.\n",
      "  mpf.plot(stock_intraday[date],type='candle',\n",
      "/var/folders/0d/2q3_g9bj7tn1m1t1w5crmtvh0000gn/T/ipykernel_30857/2902404513.py:65: FutureWarning: Indexing a DataFrame with a datetimelike index using a single string to slice the rows, like `frame[string]`, is deprecated and will be removed in a future version. Use `frame.loc[string]` instead.\n",
      "  mpf.plot(stock_intraday[date],type='candle',\n",
      "/var/folders/0d/2q3_g9bj7tn1m1t1w5crmtvh0000gn/T/ipykernel_30857/2902404513.py:65: FutureWarning: Indexing a DataFrame with a datetimelike index using a single string to slice the rows, like `frame[string]`, is deprecated and will be removed in a future version. Use `frame.loc[string]` instead.\n",
      "  mpf.plot(stock_intraday[date],type='candle',\n"
     ]
    },
    {
     "name": "stdout",
     "output_type": "stream",
     "text": [
      "2021-09-23\n"
     ]
    },
    {
     "name": "stderr",
     "output_type": "stream",
     "text": [
      "/var/folders/0d/2q3_g9bj7tn1m1t1w5crmtvh0000gn/T/ipykernel_30857/2902404513.py:65: FutureWarning: Indexing a DataFrame with a datetimelike index using a single string to slice the rows, like `frame[string]`, is deprecated and will be removed in a future version. Use `frame.loc[string]` instead.\n",
      "  mpf.plot(stock_intraday[date],type='candle',\n",
      "/var/folders/0d/2q3_g9bj7tn1m1t1w5crmtvh0000gn/T/ipykernel_30857/2902404513.py:65: FutureWarning: Indexing a DataFrame with a datetimelike index using a single string to slice the rows, like `frame[string]`, is deprecated and will be removed in a future version. Use `frame.loc[string]` instead.\n",
      "  mpf.plot(stock_intraday[date],type='candle',\n",
      "/var/folders/0d/2q3_g9bj7tn1m1t1w5crmtvh0000gn/T/ipykernel_30857/2902404513.py:65: FutureWarning: Indexing a DataFrame with a datetimelike index using a single string to slice the rows, like `frame[string]`, is deprecated and will be removed in a future version. Use `frame.loc[string]` instead.\n",
      "  mpf.plot(stock_intraday[date],type='candle',\n",
      "/var/folders/0d/2q3_g9bj7tn1m1t1w5crmtvh0000gn/T/ipykernel_30857/2902404513.py:65: FutureWarning: Indexing a DataFrame with a datetimelike index using a single string to slice the rows, like `frame[string]`, is deprecated and will be removed in a future version. Use `frame.loc[string]` instead.\n",
      "  mpf.plot(stock_intraday[date],type='candle',\n"
     ]
    },
    {
     "name": "stdout",
     "output_type": "stream",
     "text": [
      "2021-09-24\n",
      "2021-09-27\n",
      "2021-09-28\n",
      "2021-09-29\n"
     ]
    },
    {
     "name": "stderr",
     "output_type": "stream",
     "text": [
      "/var/folders/0d/2q3_g9bj7tn1m1t1w5crmtvh0000gn/T/ipykernel_30857/2902404513.py:65: FutureWarning: Indexing a DataFrame with a datetimelike index using a single string to slice the rows, like `frame[string]`, is deprecated and will be removed in a future version. Use `frame.loc[string]` instead.\n",
      "  mpf.plot(stock_intraday[date],type='candle',\n",
      "/var/folders/0d/2q3_g9bj7tn1m1t1w5crmtvh0000gn/T/ipykernel_30857/2902404513.py:65: FutureWarning: Indexing a DataFrame with a datetimelike index using a single string to slice the rows, like `frame[string]`, is deprecated and will be removed in a future version. Use `frame.loc[string]` instead.\n",
      "  mpf.plot(stock_intraday[date],type='candle',\n",
      "/var/folders/0d/2q3_g9bj7tn1m1t1w5crmtvh0000gn/T/ipykernel_30857/2902404513.py:65: FutureWarning: Indexing a DataFrame with a datetimelike index using a single string to slice the rows, like `frame[string]`, is deprecated and will be removed in a future version. Use `frame.loc[string]` instead.\n",
      "  mpf.plot(stock_intraday[date],type='candle',\n",
      "/var/folders/0d/2q3_g9bj7tn1m1t1w5crmtvh0000gn/T/ipykernel_30857/2902404513.py:65: FutureWarning: Indexing a DataFrame with a datetimelike index using a single string to slice the rows, like `frame[string]`, is deprecated and will be removed in a future version. Use `frame.loc[string]` instead.\n",
      "  mpf.plot(stock_intraday[date],type='candle',\n"
     ]
    },
    {
     "name": "stdout",
     "output_type": "stream",
     "text": [
      "2021-09-30\n",
      "2021-10-01\n",
      "2021-10-04\n",
      "2021-10-05\n"
     ]
    },
    {
     "name": "stderr",
     "output_type": "stream",
     "text": [
      "/var/folders/0d/2q3_g9bj7tn1m1t1w5crmtvh0000gn/T/ipykernel_30857/2902404513.py:65: FutureWarning: Indexing a DataFrame with a datetimelike index using a single string to slice the rows, like `frame[string]`, is deprecated and will be removed in a future version. Use `frame.loc[string]` instead.\n",
      "  mpf.plot(stock_intraday[date],type='candle',\n",
      "/var/folders/0d/2q3_g9bj7tn1m1t1w5crmtvh0000gn/T/ipykernel_30857/2902404513.py:65: FutureWarning: Indexing a DataFrame with a datetimelike index using a single string to slice the rows, like `frame[string]`, is deprecated and will be removed in a future version. Use `frame.loc[string]` instead.\n",
      "  mpf.plot(stock_intraday[date],type='candle',\n",
      "/var/folders/0d/2q3_g9bj7tn1m1t1w5crmtvh0000gn/T/ipykernel_30857/2902404513.py:65: FutureWarning: Indexing a DataFrame with a datetimelike index using a single string to slice the rows, like `frame[string]`, is deprecated and will be removed in a future version. Use `frame.loc[string]` instead.\n",
      "  mpf.plot(stock_intraday[date],type='candle',\n",
      "/var/folders/0d/2q3_g9bj7tn1m1t1w5crmtvh0000gn/T/ipykernel_30857/2902404513.py:65: FutureWarning: Indexing a DataFrame with a datetimelike index using a single string to slice the rows, like `frame[string]`, is deprecated and will be removed in a future version. Use `frame.loc[string]` instead.\n",
      "  mpf.plot(stock_intraday[date],type='candle',\n"
     ]
    },
    {
     "name": "stdout",
     "output_type": "stream",
     "text": [
      "2021-10-06\n",
      "2021-10-07\n",
      "2021-10-08\n",
      "2021-10-11\n"
     ]
    },
    {
     "name": "stderr",
     "output_type": "stream",
     "text": [
      "/var/folders/0d/2q3_g9bj7tn1m1t1w5crmtvh0000gn/T/ipykernel_30857/2902404513.py:65: FutureWarning: Indexing a DataFrame with a datetimelike index using a single string to slice the rows, like `frame[string]`, is deprecated and will be removed in a future version. Use `frame.loc[string]` instead.\n",
      "  mpf.plot(stock_intraday[date],type='candle',\n",
      "/var/folders/0d/2q3_g9bj7tn1m1t1w5crmtvh0000gn/T/ipykernel_30857/2902404513.py:65: FutureWarning: Indexing a DataFrame with a datetimelike index using a single string to slice the rows, like `frame[string]`, is deprecated and will be removed in a future version. Use `frame.loc[string]` instead.\n",
      "  mpf.plot(stock_intraday[date],type='candle',\n",
      "/var/folders/0d/2q3_g9bj7tn1m1t1w5crmtvh0000gn/T/ipykernel_30857/2902404513.py:65: FutureWarning: Indexing a DataFrame with a datetimelike index using a single string to slice the rows, like `frame[string]`, is deprecated and will be removed in a future version. Use `frame.loc[string]` instead.\n",
      "  mpf.plot(stock_intraday[date],type='candle',\n",
      "/var/folders/0d/2q3_g9bj7tn1m1t1w5crmtvh0000gn/T/ipykernel_30857/2902404513.py:65: FutureWarning: Indexing a DataFrame with a datetimelike index using a single string to slice the rows, like `frame[string]`, is deprecated and will be removed in a future version. Use `frame.loc[string]` instead.\n",
      "  mpf.plot(stock_intraday[date],type='candle',\n"
     ]
    },
    {
     "name": "stdout",
     "output_type": "stream",
     "text": [
      "2021-10-12\n",
      "2021-10-13\n",
      "2021-10-14\n",
      "2021-10-15\n"
     ]
    },
    {
     "name": "stderr",
     "output_type": "stream",
     "text": [
      "/var/folders/0d/2q3_g9bj7tn1m1t1w5crmtvh0000gn/T/ipykernel_30857/2902404513.py:65: FutureWarning: Indexing a DataFrame with a datetimelike index using a single string to slice the rows, like `frame[string]`, is deprecated and will be removed in a future version. Use `frame.loc[string]` instead.\n",
      "  mpf.plot(stock_intraday[date],type='candle',\n",
      "/var/folders/0d/2q3_g9bj7tn1m1t1w5crmtvh0000gn/T/ipykernel_30857/2902404513.py:65: FutureWarning: Indexing a DataFrame with a datetimelike index using a single string to slice the rows, like `frame[string]`, is deprecated and will be removed in a future version. Use `frame.loc[string]` instead.\n",
      "  mpf.plot(stock_intraday[date],type='candle',\n",
      "/var/folders/0d/2q3_g9bj7tn1m1t1w5crmtvh0000gn/T/ipykernel_30857/2902404513.py:65: FutureWarning: Indexing a DataFrame with a datetimelike index using a single string to slice the rows, like `frame[string]`, is deprecated and will be removed in a future version. Use `frame.loc[string]` instead.\n",
      "  mpf.plot(stock_intraday[date],type='candle',\n",
      "/var/folders/0d/2q3_g9bj7tn1m1t1w5crmtvh0000gn/T/ipykernel_30857/2902404513.py:65: FutureWarning: Indexing a DataFrame with a datetimelike index using a single string to slice the rows, like `frame[string]`, is deprecated and will be removed in a future version. Use `frame.loc[string]` instead.\n",
      "  mpf.plot(stock_intraday[date],type='candle',\n"
     ]
    },
    {
     "name": "stdout",
     "output_type": "stream",
     "text": [
      "2021-10-18\n",
      "2021-10-19\n",
      "2021-10-20\n",
      "2021-10-21\n"
     ]
    },
    {
     "name": "stderr",
     "output_type": "stream",
     "text": [
      "/var/folders/0d/2q3_g9bj7tn1m1t1w5crmtvh0000gn/T/ipykernel_30857/2902404513.py:65: FutureWarning: Indexing a DataFrame with a datetimelike index using a single string to slice the rows, like `frame[string]`, is deprecated and will be removed in a future version. Use `frame.loc[string]` instead.\n",
      "  mpf.plot(stock_intraday[date],type='candle',\n",
      "/var/folders/0d/2q3_g9bj7tn1m1t1w5crmtvh0000gn/T/ipykernel_30857/2902404513.py:65: FutureWarning: Indexing a DataFrame with a datetimelike index using a single string to slice the rows, like `frame[string]`, is deprecated and will be removed in a future version. Use `frame.loc[string]` instead.\n",
      "  mpf.plot(stock_intraday[date],type='candle',\n",
      "/var/folders/0d/2q3_g9bj7tn1m1t1w5crmtvh0000gn/T/ipykernel_30857/2902404513.py:65: FutureWarning: Indexing a DataFrame with a datetimelike index using a single string to slice the rows, like `frame[string]`, is deprecated and will be removed in a future version. Use `frame.loc[string]` instead.\n",
      "  mpf.plot(stock_intraday[date],type='candle',\n",
      "/var/folders/0d/2q3_g9bj7tn1m1t1w5crmtvh0000gn/T/ipykernel_30857/2902404513.py:65: FutureWarning: Indexing a DataFrame with a datetimelike index using a single string to slice the rows, like `frame[string]`, is deprecated and will be removed in a future version. Use `frame.loc[string]` instead.\n",
      "  mpf.plot(stock_intraday[date],type='candle',\n"
     ]
    },
    {
     "name": "stdout",
     "output_type": "stream",
     "text": [
      "2021-10-22\n",
      "2021-10-25\n",
      "2021-10-26\n",
      "2021-10-27\n"
     ]
    },
    {
     "name": "stderr",
     "output_type": "stream",
     "text": [
      "/var/folders/0d/2q3_g9bj7tn1m1t1w5crmtvh0000gn/T/ipykernel_30857/2902404513.py:65: FutureWarning: Indexing a DataFrame with a datetimelike index using a single string to slice the rows, like `frame[string]`, is deprecated and will be removed in a future version. Use `frame.loc[string]` instead.\n",
      "  mpf.plot(stock_intraday[date],type='candle',\n",
      "/var/folders/0d/2q3_g9bj7tn1m1t1w5crmtvh0000gn/T/ipykernel_30857/2902404513.py:65: FutureWarning: Indexing a DataFrame with a datetimelike index using a single string to slice the rows, like `frame[string]`, is deprecated and will be removed in a future version. Use `frame.loc[string]` instead.\n",
      "  mpf.plot(stock_intraday[date],type='candle',\n",
      "/var/folders/0d/2q3_g9bj7tn1m1t1w5crmtvh0000gn/T/ipykernel_30857/2902404513.py:65: FutureWarning: Indexing a DataFrame with a datetimelike index using a single string to slice the rows, like `frame[string]`, is deprecated and will be removed in a future version. Use `frame.loc[string]` instead.\n",
      "  mpf.plot(stock_intraday[date],type='candle',\n",
      "/var/folders/0d/2q3_g9bj7tn1m1t1w5crmtvh0000gn/T/ipykernel_30857/2902404513.py:65: FutureWarning: Indexing a DataFrame with a datetimelike index using a single string to slice the rows, like `frame[string]`, is deprecated and will be removed in a future version. Use `frame.loc[string]` instead.\n",
      "  mpf.plot(stock_intraday[date],type='candle',\n"
     ]
    },
    {
     "name": "stdout",
     "output_type": "stream",
     "text": [
      "2021-10-28\n",
      "2021-10-29\n",
      "2021-11-01\n",
      "2021-11-02\n"
     ]
    },
    {
     "name": "stderr",
     "output_type": "stream",
     "text": [
      "/var/folders/0d/2q3_g9bj7tn1m1t1w5crmtvh0000gn/T/ipykernel_30857/2902404513.py:65: FutureWarning: Indexing a DataFrame with a datetimelike index using a single string to slice the rows, like `frame[string]`, is deprecated and will be removed in a future version. Use `frame.loc[string]` instead.\n",
      "  mpf.plot(stock_intraday[date],type='candle',\n",
      "/var/folders/0d/2q3_g9bj7tn1m1t1w5crmtvh0000gn/T/ipykernel_30857/2902404513.py:65: FutureWarning: Indexing a DataFrame with a datetimelike index using a single string to slice the rows, like `frame[string]`, is deprecated and will be removed in a future version. Use `frame.loc[string]` instead.\n",
      "  mpf.plot(stock_intraday[date],type='candle',\n",
      "/var/folders/0d/2q3_g9bj7tn1m1t1w5crmtvh0000gn/T/ipykernel_30857/2902404513.py:65: FutureWarning: Indexing a DataFrame with a datetimelike index using a single string to slice the rows, like `frame[string]`, is deprecated and will be removed in a future version. Use `frame.loc[string]` instead.\n",
      "  mpf.plot(stock_intraday[date],type='candle',\n",
      "/var/folders/0d/2q3_g9bj7tn1m1t1w5crmtvh0000gn/T/ipykernel_30857/2902404513.py:65: FutureWarning: Indexing a DataFrame with a datetimelike index using a single string to slice the rows, like `frame[string]`, is deprecated and will be removed in a future version. Use `frame.loc[string]` instead.\n",
      "  mpf.plot(stock_intraday[date],type='candle',\n"
     ]
    },
    {
     "name": "stdout",
     "output_type": "stream",
     "text": [
      "2021-11-03\n",
      "2021-11-04\n",
      "2021-11-05\n",
      "2021-11-08\n"
     ]
    },
    {
     "name": "stderr",
     "output_type": "stream",
     "text": [
      "/var/folders/0d/2q3_g9bj7tn1m1t1w5crmtvh0000gn/T/ipykernel_30857/2902404513.py:65: FutureWarning: Indexing a DataFrame with a datetimelike index using a single string to slice the rows, like `frame[string]`, is deprecated and will be removed in a future version. Use `frame.loc[string]` instead.\n",
      "  mpf.plot(stock_intraday[date],type='candle',\n",
      "/var/folders/0d/2q3_g9bj7tn1m1t1w5crmtvh0000gn/T/ipykernel_30857/2902404513.py:65: FutureWarning: Indexing a DataFrame with a datetimelike index using a single string to slice the rows, like `frame[string]`, is deprecated and will be removed in a future version. Use `frame.loc[string]` instead.\n",
      "  mpf.plot(stock_intraday[date],type='candle',\n",
      "/var/folders/0d/2q3_g9bj7tn1m1t1w5crmtvh0000gn/T/ipykernel_30857/2902404513.py:65: FutureWarning: Indexing a DataFrame with a datetimelike index using a single string to slice the rows, like `frame[string]`, is deprecated and will be removed in a future version. Use `frame.loc[string]` instead.\n",
      "  mpf.plot(stock_intraday[date],type='candle',\n",
      "/var/folders/0d/2q3_g9bj7tn1m1t1w5crmtvh0000gn/T/ipykernel_30857/2902404513.py:65: FutureWarning: Indexing a DataFrame with a datetimelike index using a single string to slice the rows, like `frame[string]`, is deprecated and will be removed in a future version. Use `frame.loc[string]` instead.\n",
      "  mpf.plot(stock_intraday[date],type='candle',\n"
     ]
    },
    {
     "name": "stdout",
     "output_type": "stream",
     "text": [
      "2021-11-09\n",
      "2021-11-10\n",
      "2021-11-11\n",
      "2021-11-12\n"
     ]
    },
    {
     "name": "stderr",
     "output_type": "stream",
     "text": [
      "/var/folders/0d/2q3_g9bj7tn1m1t1w5crmtvh0000gn/T/ipykernel_30857/2902404513.py:65: FutureWarning: Indexing a DataFrame with a datetimelike index using a single string to slice the rows, like `frame[string]`, is deprecated and will be removed in a future version. Use `frame.loc[string]` instead.\n",
      "  mpf.plot(stock_intraday[date],type='candle',\n",
      "/var/folders/0d/2q3_g9bj7tn1m1t1w5crmtvh0000gn/T/ipykernel_30857/2902404513.py:65: FutureWarning: Indexing a DataFrame with a datetimelike index using a single string to slice the rows, like `frame[string]`, is deprecated and will be removed in a future version. Use `frame.loc[string]` instead.\n",
      "  mpf.plot(stock_intraday[date],type='candle',\n",
      "/var/folders/0d/2q3_g9bj7tn1m1t1w5crmtvh0000gn/T/ipykernel_30857/2902404513.py:65: FutureWarning: Indexing a DataFrame with a datetimelike index using a single string to slice the rows, like `frame[string]`, is deprecated and will be removed in a future version. Use `frame.loc[string]` instead.\n",
      "  mpf.plot(stock_intraday[date],type='candle',\n",
      "/var/folders/0d/2q3_g9bj7tn1m1t1w5crmtvh0000gn/T/ipykernel_30857/2902404513.py:65: FutureWarning: Indexing a DataFrame with a datetimelike index using a single string to slice the rows, like `frame[string]`, is deprecated and will be removed in a future version. Use `frame.loc[string]` instead.\n",
      "  mpf.plot(stock_intraday[date],type='candle',\n"
     ]
    },
    {
     "name": "stdout",
     "output_type": "stream",
     "text": [
      "2021-11-15\n",
      "2021-11-16\n",
      "2021-11-17\n",
      "2021-11-18\n"
     ]
    },
    {
     "name": "stderr",
     "output_type": "stream",
     "text": [
      "/var/folders/0d/2q3_g9bj7tn1m1t1w5crmtvh0000gn/T/ipykernel_30857/2902404513.py:65: FutureWarning: Indexing a DataFrame with a datetimelike index using a single string to slice the rows, like `frame[string]`, is deprecated and will be removed in a future version. Use `frame.loc[string]` instead.\n",
      "  mpf.plot(stock_intraday[date],type='candle',\n",
      "/var/folders/0d/2q3_g9bj7tn1m1t1w5crmtvh0000gn/T/ipykernel_30857/2902404513.py:65: FutureWarning: Indexing a DataFrame with a datetimelike index using a single string to slice the rows, like `frame[string]`, is deprecated and will be removed in a future version. Use `frame.loc[string]` instead.\n",
      "  mpf.plot(stock_intraday[date],type='candle',\n",
      "/var/folders/0d/2q3_g9bj7tn1m1t1w5crmtvh0000gn/T/ipykernel_30857/2902404513.py:65: FutureWarning: Indexing a DataFrame with a datetimelike index using a single string to slice the rows, like `frame[string]`, is deprecated and will be removed in a future version. Use `frame.loc[string]` instead.\n",
      "  mpf.plot(stock_intraday[date],type='candle',\n"
     ]
    },
    {
     "name": "stdout",
     "output_type": "stream",
     "text": [
      "2021-11-19\n",
      "2021-11-22\n",
      "2021-11-23\n",
      "2021-11-24\n"
     ]
    },
    {
     "name": "stderr",
     "output_type": "stream",
     "text": [
      "/var/folders/0d/2q3_g9bj7tn1m1t1w5crmtvh0000gn/T/ipykernel_30857/2902404513.py:65: FutureWarning: Indexing a DataFrame with a datetimelike index using a single string to slice the rows, like `frame[string]`, is deprecated and will be removed in a future version. Use `frame.loc[string]` instead.\n",
      "  mpf.plot(stock_intraday[date],type='candle',\n",
      "/var/folders/0d/2q3_g9bj7tn1m1t1w5crmtvh0000gn/T/ipykernel_30857/2902404513.py:65: FutureWarning: Indexing a DataFrame with a datetimelike index using a single string to slice the rows, like `frame[string]`, is deprecated and will be removed in a future version. Use `frame.loc[string]` instead.\n",
      "  mpf.plot(stock_intraday[date],type='candle',\n",
      "/var/folders/0d/2q3_g9bj7tn1m1t1w5crmtvh0000gn/T/ipykernel_30857/2902404513.py:65: FutureWarning: Indexing a DataFrame with a datetimelike index using a single string to slice the rows, like `frame[string]`, is deprecated and will be removed in a future version. Use `frame.loc[string]` instead.\n",
      "  mpf.plot(stock_intraday[date],type='candle',\n",
      "/var/folders/0d/2q3_g9bj7tn1m1t1w5crmtvh0000gn/T/ipykernel_30857/2902404513.py:65: FutureWarning: Indexing a DataFrame with a datetimelike index using a single string to slice the rows, like `frame[string]`, is deprecated and will be removed in a future version. Use `frame.loc[string]` instead.\n",
      "  mpf.plot(stock_intraday[date],type='candle',\n"
     ]
    },
    {
     "name": "stdout",
     "output_type": "stream",
     "text": [
      "2021-11-26\n",
      "2021-11-29\n",
      "2021-11-30\n",
      "2021-12-01\n"
     ]
    },
    {
     "name": "stderr",
     "output_type": "stream",
     "text": [
      "/var/folders/0d/2q3_g9bj7tn1m1t1w5crmtvh0000gn/T/ipykernel_30857/2902404513.py:65: FutureWarning: Indexing a DataFrame with a datetimelike index using a single string to slice the rows, like `frame[string]`, is deprecated and will be removed in a future version. Use `frame.loc[string]` instead.\n",
      "  mpf.plot(stock_intraday[date],type='candle',\n",
      "/var/folders/0d/2q3_g9bj7tn1m1t1w5crmtvh0000gn/T/ipykernel_30857/2902404513.py:65: FutureWarning: Indexing a DataFrame with a datetimelike index using a single string to slice the rows, like `frame[string]`, is deprecated and will be removed in a future version. Use `frame.loc[string]` instead.\n",
      "  mpf.plot(stock_intraday[date],type='candle',\n",
      "/var/folders/0d/2q3_g9bj7tn1m1t1w5crmtvh0000gn/T/ipykernel_30857/2902404513.py:65: FutureWarning: Indexing a DataFrame with a datetimelike index using a single string to slice the rows, like `frame[string]`, is deprecated and will be removed in a future version. Use `frame.loc[string]` instead.\n",
      "  mpf.plot(stock_intraday[date],type='candle',\n",
      "/var/folders/0d/2q3_g9bj7tn1m1t1w5crmtvh0000gn/T/ipykernel_30857/2902404513.py:65: FutureWarning: Indexing a DataFrame with a datetimelike index using a single string to slice the rows, like `frame[string]`, is deprecated and will be removed in a future version. Use `frame.loc[string]` instead.\n",
      "  mpf.plot(stock_intraday[date],type='candle',\n"
     ]
    },
    {
     "name": "stdout",
     "output_type": "stream",
     "text": [
      "2021-12-02\n",
      "2021-12-03\n",
      "2021-12-06\n"
     ]
    },
    {
     "name": "stderr",
     "output_type": "stream",
     "text": [
      "/var/folders/0d/2q3_g9bj7tn1m1t1w5crmtvh0000gn/T/ipykernel_30857/2902404513.py:65: FutureWarning: Indexing a DataFrame with a datetimelike index using a single string to slice the rows, like `frame[string]`, is deprecated and will be removed in a future version. Use `frame.loc[string]` instead.\n",
      "  mpf.plot(stock_intraday[date],type='candle',\n",
      "/var/folders/0d/2q3_g9bj7tn1m1t1w5crmtvh0000gn/T/ipykernel_30857/2902404513.py:65: FutureWarning: Indexing a DataFrame with a datetimelike index using a single string to slice the rows, like `frame[string]`, is deprecated and will be removed in a future version. Use `frame.loc[string]` instead.\n",
      "  mpf.plot(stock_intraday[date],type='candle',\n",
      "/var/folders/0d/2q3_g9bj7tn1m1t1w5crmtvh0000gn/T/ipykernel_30857/2902404513.py:65: FutureWarning: Indexing a DataFrame with a datetimelike index using a single string to slice the rows, like `frame[string]`, is deprecated and will be removed in a future version. Use `frame.loc[string]` instead.\n",
      "  mpf.plot(stock_intraday[date],type='candle',\n",
      "/var/folders/0d/2q3_g9bj7tn1m1t1w5crmtvh0000gn/T/ipykernel_30857/2902404513.py:65: FutureWarning: Indexing a DataFrame with a datetimelike index using a single string to slice the rows, like `frame[string]`, is deprecated and will be removed in a future version. Use `frame.loc[string]` instead.\n",
      "  mpf.plot(stock_intraday[date],type='candle',\n"
     ]
    },
    {
     "name": "stdout",
     "output_type": "stream",
     "text": [
      "2021-12-07\n",
      "2021-12-08\n",
      "2021-12-09\n",
      "2021-12-10\n"
     ]
    },
    {
     "name": "stderr",
     "output_type": "stream",
     "text": [
      "/var/folders/0d/2q3_g9bj7tn1m1t1w5crmtvh0000gn/T/ipykernel_30857/2902404513.py:65: FutureWarning: Indexing a DataFrame with a datetimelike index using a single string to slice the rows, like `frame[string]`, is deprecated and will be removed in a future version. Use `frame.loc[string]` instead.\n",
      "  mpf.plot(stock_intraday[date],type='candle',\n",
      "/var/folders/0d/2q3_g9bj7tn1m1t1w5crmtvh0000gn/T/ipykernel_30857/2902404513.py:65: FutureWarning: Indexing a DataFrame with a datetimelike index using a single string to slice the rows, like `frame[string]`, is deprecated and will be removed in a future version. Use `frame.loc[string]` instead.\n",
      "  mpf.plot(stock_intraday[date],type='candle',\n",
      "/var/folders/0d/2q3_g9bj7tn1m1t1w5crmtvh0000gn/T/ipykernel_30857/2902404513.py:65: FutureWarning: Indexing a DataFrame with a datetimelike index using a single string to slice the rows, like `frame[string]`, is deprecated and will be removed in a future version. Use `frame.loc[string]` instead.\n",
      "  mpf.plot(stock_intraday[date],type='candle',\n",
      "/var/folders/0d/2q3_g9bj7tn1m1t1w5crmtvh0000gn/T/ipykernel_30857/2902404513.py:65: FutureWarning: Indexing a DataFrame with a datetimelike index using a single string to slice the rows, like `frame[string]`, is deprecated and will be removed in a future version. Use `frame.loc[string]` instead.\n",
      "  mpf.plot(stock_intraday[date],type='candle',\n"
     ]
    },
    {
     "name": "stdout",
     "output_type": "stream",
     "text": [
      "2021-12-13\n",
      "2021-12-14\n",
      "2021-12-15\n",
      "2021-12-16\n"
     ]
    },
    {
     "name": "stderr",
     "output_type": "stream",
     "text": [
      "/var/folders/0d/2q3_g9bj7tn1m1t1w5crmtvh0000gn/T/ipykernel_30857/2902404513.py:65: FutureWarning: Indexing a DataFrame with a datetimelike index using a single string to slice the rows, like `frame[string]`, is deprecated and will be removed in a future version. Use `frame.loc[string]` instead.\n",
      "  mpf.plot(stock_intraday[date],type='candle',\n",
      "/var/folders/0d/2q3_g9bj7tn1m1t1w5crmtvh0000gn/T/ipykernel_30857/2902404513.py:65: FutureWarning: Indexing a DataFrame with a datetimelike index using a single string to slice the rows, like `frame[string]`, is deprecated and will be removed in a future version. Use `frame.loc[string]` instead.\n",
      "  mpf.plot(stock_intraday[date],type='candle',\n",
      "/var/folders/0d/2q3_g9bj7tn1m1t1w5crmtvh0000gn/T/ipykernel_30857/2902404513.py:65: FutureWarning: Indexing a DataFrame with a datetimelike index using a single string to slice the rows, like `frame[string]`, is deprecated and will be removed in a future version. Use `frame.loc[string]` instead.\n",
      "  mpf.plot(stock_intraday[date],type='candle',\n"
     ]
    },
    {
     "name": "stdout",
     "output_type": "stream",
     "text": [
      "2021-12-17\n",
      "2021-12-20\n",
      "2021-12-21\n"
     ]
    },
    {
     "name": "stderr",
     "output_type": "stream",
     "text": [
      "/var/folders/0d/2q3_g9bj7tn1m1t1w5crmtvh0000gn/T/ipykernel_30857/2902404513.py:65: FutureWarning: Indexing a DataFrame with a datetimelike index using a single string to slice the rows, like `frame[string]`, is deprecated and will be removed in a future version. Use `frame.loc[string]` instead.\n",
      "  mpf.plot(stock_intraday[date],type='candle',\n",
      "/var/folders/0d/2q3_g9bj7tn1m1t1w5crmtvh0000gn/T/ipykernel_30857/2902404513.py:65: FutureWarning: Indexing a DataFrame with a datetimelike index using a single string to slice the rows, like `frame[string]`, is deprecated and will be removed in a future version. Use `frame.loc[string]` instead.\n",
      "  mpf.plot(stock_intraday[date],type='candle',\n",
      "/var/folders/0d/2q3_g9bj7tn1m1t1w5crmtvh0000gn/T/ipykernel_30857/2902404513.py:65: FutureWarning: Indexing a DataFrame with a datetimelike index using a single string to slice the rows, like `frame[string]`, is deprecated and will be removed in a future version. Use `frame.loc[string]` instead.\n",
      "  mpf.plot(stock_intraday[date],type='candle',\n",
      "/var/folders/0d/2q3_g9bj7tn1m1t1w5crmtvh0000gn/T/ipykernel_30857/2902404513.py:65: FutureWarning: Indexing a DataFrame with a datetimelike index using a single string to slice the rows, like `frame[string]`, is deprecated and will be removed in a future version. Use `frame.loc[string]` instead.\n",
      "  mpf.plot(stock_intraday[date],type='candle',\n"
     ]
    },
    {
     "name": "stdout",
     "output_type": "stream",
     "text": [
      "2021-12-22\n",
      "2021-12-23\n",
      "2021-12-27\n",
      "2021-12-28\n"
     ]
    },
    {
     "name": "stderr",
     "output_type": "stream",
     "text": [
      "/var/folders/0d/2q3_g9bj7tn1m1t1w5crmtvh0000gn/T/ipykernel_30857/2902404513.py:65: FutureWarning: Indexing a DataFrame with a datetimelike index using a single string to slice the rows, like `frame[string]`, is deprecated and will be removed in a future version. Use `frame.loc[string]` instead.\n",
      "  mpf.plot(stock_intraday[date],type='candle',\n",
      "/var/folders/0d/2q3_g9bj7tn1m1t1w5crmtvh0000gn/T/ipykernel_30857/2902404513.py:65: FutureWarning: Indexing a DataFrame with a datetimelike index using a single string to slice the rows, like `frame[string]`, is deprecated and will be removed in a future version. Use `frame.loc[string]` instead.\n",
      "  mpf.plot(stock_intraday[date],type='candle',\n",
      "/var/folders/0d/2q3_g9bj7tn1m1t1w5crmtvh0000gn/T/ipykernel_30857/2902404513.py:65: FutureWarning: Indexing a DataFrame with a datetimelike index using a single string to slice the rows, like `frame[string]`, is deprecated and will be removed in a future version. Use `frame.loc[string]` instead.\n",
      "  mpf.plot(stock_intraday[date],type='candle',\n",
      "/var/folders/0d/2q3_g9bj7tn1m1t1w5crmtvh0000gn/T/ipykernel_30857/2902404513.py:65: FutureWarning: Indexing a DataFrame with a datetimelike index using a single string to slice the rows, like `frame[string]`, is deprecated and will be removed in a future version. Use `frame.loc[string]` instead.\n",
      "  mpf.plot(stock_intraday[date],type='candle',\n"
     ]
    },
    {
     "name": "stdout",
     "output_type": "stream",
     "text": [
      "2021-12-29\n",
      "2021-12-30\n",
      "2021-12-31\n"
     ]
    }
   ],
   "source": [
    "for i in range(len(stock_daily)):\n",
    "    date_datetime=stock_daily.index[i]\n",
    "    date=date_datetime.strftime(\"%Y-%m-%d\")\n",
    "    \n",
    "    print(date)\n",
    "    #plot daily pivots\n",
    "    daily_pp=daily_pivot.loc[date][\"PP\"]\n",
    "    daily_bc=daily_pivot.loc[date][\"BC\"]\n",
    "    daily_tc=daily_pivot.loc[date][\"TC\"]\n",
    "\n",
    "    daily_r1=daily_pivot.loc[date][\"R1\"]\n",
    "    daily_s1=daily_pivot.loc[date][\"S1\"]\n",
    "    \n",
    "    if stock_daily.loc[date][\"Low\"]<daily_pivot.loc[date][\"R2\"]<stock_daily.loc[date][\"High\"]:\n",
    "        daily_r2=daily_pivot.loc[date][\"R2\"]\n",
    "    else:\n",
    "        daily_r2=np.nan\n",
    "        \n",
    "    if stock_daily.loc[date][\"Low\"]<daily_pivot.loc[date][\"S2\"]<stock_daily.loc[date][\"High\"]:\n",
    "        daily_s2=daily_pivot.loc[date][\"S2\"]\n",
    "    else:\n",
    "        daily_s2=np.nan    \n",
    "\n",
    "    i=0\n",
    "    j=0\n",
    "    #plot weekly pivots\n",
    "    for i in range(len(weekly_pivot)):\n",
    "        if weekly_pivot[\"week\"][i]==date1.isocalendar().week and weekly_pivot[\"year\"][i]==date1.year:\n",
    "            index_week=i\n",
    "    if stock_daily.loc[date][\"Low\"]<weekly_pivot.iloc[index_week:][\"PP\"][0]<stock_daily.loc[date][\"High\"]:\n",
    "        weekly_pp=weekly_pivot.iloc[index_week:][\"PP\"][0]\n",
    "    else:\n",
    "        weekly_pp=np.nan\n",
    "\n",
    "    if stock_daily.loc[date][\"Low\"]<weekly_pivot.iloc[index_week:][\"R1\"][0]<stock_daily.loc[date][\"High\"]:\n",
    "        weekly_r1=weekly_pivot.iloc[index_week:][\"R1\"][0]\n",
    "    else:\n",
    "        weekly_r1=np.nan\n",
    "    if stock_daily.loc[date][\"Low\"]<weekly_pivot.iloc[index_week:][\"S1\"][0]<stock_daily.loc[date][\"High\"]:\n",
    "        weekly_s1=weekly_pivot.iloc[index_week:][\"S1\"][0]\n",
    "    else:\n",
    "        weekly_s1=np.nan\n",
    "\n",
    "    for j in range(len(monthly_pivot)):\n",
    "        if monthly_pivot[\"month\"][j]==date1.month and monthly_pivot[\"year\"][j]==date1.year:\n",
    "            index_month=j\n",
    "\n",
    "    #plot monthly pivots\n",
    "    if stock_daily.loc[date][\"Low\"]<monthly_pivot.iloc[index_month:]['PP'][0]<stock_daily.loc[date][\"High\"]:\n",
    "        monthly_pp=monthly_pivot.iloc[index_month:]['PP'][0]\n",
    "    else:\n",
    "        monthly_pp=np.nan\n",
    "    if stock_daily.loc[date][\"Low\"]<monthly_pivot.iloc[index_month:]['R1'][0]<stock_daily.loc[date][\"High\"]:\n",
    "        monthly_r1=monthly_pivot.iloc[index_month:]['R1'][0]\n",
    "    else:\n",
    "        monthly_r1=np.nan\n",
    "    if stock_daily.loc[date][\"Low\"]<monthly_pivot.iloc[index_month:]['S1'][0]<stock_daily.loc[date][\"High\"]:\n",
    "        monthly_s1=monthly_pivot.iloc[index_month:]['S1'][0]\n",
    "    else:\n",
    "        monthly_s1=np.nan\n",
    "\n",
    "    yes_high=daily_pivot.shift(1).loc[date][\"High\"]\n",
    "    yes_low=daily_pivot.shift(1).loc[date][\"Low\"]\n",
    "\n",
    "    mpf.plot(stock_intraday[date],type='candle',\n",
    "             hlines=dict(hlines=[daily_pp,daily_bc,daily_tc,daily_r1,daily_s1,daily_r2,daily_s2,weekly_pp,weekly_r1,weekly_s1,monthly_pp,monthly_r1,monthly_s1,yes_high,yes_low],\n",
    "                        colors=['b','b','b','b','b','c','c','r','r','r','g','g','g','k','k'],\n",
    "                        linestyle=['-','--','--','--','--','--','--','-','--','--','-','--','--','-','-']),\n",
    "             title=date,\n",
    "            savefig='pivot_candle/2021/'+date+'.png')\n",
    "    #plt.clf()\n",
    "    "
   ]
  },
  {
   "cell_type": "code",
   "execution_count": null,
   "id": "9e15f89b",
   "metadata": {},
   "outputs": [],
   "source": []
  },
  {
   "cell_type": "code",
   "execution_count": null,
   "id": "b8c15a0f",
   "metadata": {},
   "outputs": [],
   "source": []
  }
 ],
 "metadata": {
  "kernelspec": {
   "display_name": "Python 3 (ipykernel)",
   "language": "python",
   "name": "python3"
  },
  "language_info": {
   "codemirror_mode": {
    "name": "ipython",
    "version": 3
   },
   "file_extension": ".py",
   "mimetype": "text/x-python",
   "name": "python",
   "nbconvert_exporter": "python",
   "pygments_lexer": "ipython3",
   "version": "3.9.7"
  }
 },
 "nbformat": 4,
 "nbformat_minor": 5
}
