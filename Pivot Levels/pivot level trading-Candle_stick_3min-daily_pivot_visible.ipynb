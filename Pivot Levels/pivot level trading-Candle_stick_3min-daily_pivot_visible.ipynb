{
 "cells": [
  {
   "cell_type": "code",
   "execution_count": 1,
   "id": "b255e692",
   "metadata": {},
   "outputs": [],
   "source": [
    "import matplotlib.pyplot as plt\n",
    "import yfinance as yf\n",
    "import pandas as pd\n",
    "import mplfinance as mpf\n",
    "import numpy as np"
   ]
  },
  {
   "cell_type": "code",
   "execution_count": 2,
   "id": "005ab6c4",
   "metadata": {},
   "outputs": [],
   "source": [
    "def VWAP(DF):\n",
    "    df=DF.copy()\n",
    "    df[\"typ\"]=(df[\"High\"]+df[\"Low\"]+df[\"Close\"])/3\n",
    "    df[\"typ_vol\"]=df[\"typ\"]*df[\"Volume\"]\n",
    "    df[\"cum_typ_vol\"]=df[\"typ_vol\"].cumsum()\n",
    "    df[\"cum_vol\"]=df[\"Volume\"].cumsum()\n",
    "    df[\"vwap\"]=df[\"cum_typ_vol\"]/df[\"cum_vol\"]\n",
    "    return df[\"vwap\"]"
   ]
  },
  {
   "cell_type": "code",
   "execution_count": 3,
   "id": "92e33e7f",
   "metadata": {},
   "outputs": [],
   "source": [
    "ticker='tsla'"
   ]
  },
  {
   "cell_type": "code",
   "execution_count": 4,
   "id": "87c5c60b",
   "metadata": {},
   "outputs": [
    {
     "data": {
      "text/html": [
       "<div>\n",
       "<style scoped>\n",
       "    .dataframe tbody tr th:only-of-type {\n",
       "        vertical-align: middle;\n",
       "    }\n",
       "\n",
       "    .dataframe tbody tr th {\n",
       "        vertical-align: top;\n",
       "    }\n",
       "\n",
       "    .dataframe thead th {\n",
       "        text-align: right;\n",
       "    }\n",
       "</style>\n",
       "<table border=\"1\" class=\"dataframe\">\n",
       "  <thead>\n",
       "    <tr style=\"text-align: right;\">\n",
       "      <th></th>\n",
       "      <th>Datetime</th>\n",
       "      <th>Open</th>\n",
       "      <th>High</th>\n",
       "      <th>Low</th>\n",
       "      <th>Close</th>\n",
       "      <th>Volume</th>\n",
       "      <th>hours</th>\n",
       "      <th>Adj Close</th>\n",
       "    </tr>\n",
       "    <tr>\n",
       "      <th>Datetime</th>\n",
       "      <th></th>\n",
       "      <th></th>\n",
       "      <th></th>\n",
       "      <th></th>\n",
       "      <th></th>\n",
       "      <th></th>\n",
       "      <th></th>\n",
       "      <th></th>\n",
       "    </tr>\n",
       "  </thead>\n",
       "  <tbody>\n",
       "    <tr>\n",
       "      <th>2010-06-30 09:30:00</th>\n",
       "      <td>2010-06-30 09:30:00</td>\n",
       "      <td>25.880</td>\n",
       "      <td>26.050</td>\n",
       "      <td>25.400</td>\n",
       "      <td>25.5800</td>\n",
       "      <td>578051</td>\n",
       "      <td>intraday</td>\n",
       "      <td>25.5800</td>\n",
       "    </tr>\n",
       "    <tr>\n",
       "      <th>2010-06-30 09:31:00</th>\n",
       "      <td>2010-06-30 09:31:00</td>\n",
       "      <td>25.596</td>\n",
       "      <td>25.700</td>\n",
       "      <td>25.200</td>\n",
       "      <td>25.3000</td>\n",
       "      <td>176255</td>\n",
       "      <td>intraday</td>\n",
       "      <td>25.3000</td>\n",
       "    </tr>\n",
       "    <tr>\n",
       "      <th>2010-06-30 09:32:00</th>\n",
       "      <td>2010-06-30 09:32:00</td>\n",
       "      <td>25.300</td>\n",
       "      <td>25.360</td>\n",
       "      <td>25.060</td>\n",
       "      <td>25.1500</td>\n",
       "      <td>91341</td>\n",
       "      <td>intraday</td>\n",
       "      <td>25.1500</td>\n",
       "    </tr>\n",
       "    <tr>\n",
       "      <th>2010-06-30 09:33:00</th>\n",
       "      <td>2010-06-30 09:33:00</td>\n",
       "      <td>25.169</td>\n",
       "      <td>25.169</td>\n",
       "      <td>24.550</td>\n",
       "      <td>24.5500</td>\n",
       "      <td>172021</td>\n",
       "      <td>intraday</td>\n",
       "      <td>24.5500</td>\n",
       "    </tr>\n",
       "    <tr>\n",
       "      <th>2010-06-30 09:34:00</th>\n",
       "      <td>2010-06-30 09:34:00</td>\n",
       "      <td>24.550</td>\n",
       "      <td>24.980</td>\n",
       "      <td>24.550</td>\n",
       "      <td>24.8300</td>\n",
       "      <td>82318</td>\n",
       "      <td>intraday</td>\n",
       "      <td>24.8300</td>\n",
       "    </tr>\n",
       "    <tr>\n",
       "      <th>...</th>\n",
       "      <td>...</td>\n",
       "      <td>...</td>\n",
       "      <td>...</td>\n",
       "      <td>...</td>\n",
       "      <td>...</td>\n",
       "      <td>...</td>\n",
       "      <td>...</td>\n",
       "      <td>...</td>\n",
       "    </tr>\n",
       "    <tr>\n",
       "      <th>2022-12-23 10:55:00</th>\n",
       "      <td>2022-12-23 10:55:00</td>\n",
       "      <td>123.420</td>\n",
       "      <td>123.940</td>\n",
       "      <td>123.300</td>\n",
       "      <td>123.8601</td>\n",
       "      <td>551481</td>\n",
       "      <td>intraday</td>\n",
       "      <td>123.8601</td>\n",
       "    </tr>\n",
       "    <tr>\n",
       "      <th>2022-12-23 10:56:00</th>\n",
       "      <td>2022-12-23 10:56:00</td>\n",
       "      <td>123.880</td>\n",
       "      <td>123.880</td>\n",
       "      <td>123.560</td>\n",
       "      <td>123.8404</td>\n",
       "      <td>345444</td>\n",
       "      <td>intraday</td>\n",
       "      <td>123.8404</td>\n",
       "    </tr>\n",
       "    <tr>\n",
       "      <th>2022-12-23 10:57:00</th>\n",
       "      <td>2022-12-23 10:57:00</td>\n",
       "      <td>123.835</td>\n",
       "      <td>123.890</td>\n",
       "      <td>123.100</td>\n",
       "      <td>123.3600</td>\n",
       "      <td>446254</td>\n",
       "      <td>intraday</td>\n",
       "      <td>123.3600</td>\n",
       "    </tr>\n",
       "    <tr>\n",
       "      <th>2022-12-23 10:58:00</th>\n",
       "      <td>2022-12-23 10:58:00</td>\n",
       "      <td>123.359</td>\n",
       "      <td>123.440</td>\n",
       "      <td>122.400</td>\n",
       "      <td>122.4800</td>\n",
       "      <td>756099</td>\n",
       "      <td>intraday</td>\n",
       "      <td>122.4800</td>\n",
       "    </tr>\n",
       "    <tr>\n",
       "      <th>2022-12-23 10:59:00</th>\n",
       "      <td>2022-12-23 10:59:00</td>\n",
       "      <td>122.485</td>\n",
       "      <td>122.700</td>\n",
       "      <td>122.414</td>\n",
       "      <td>122.4917</td>\n",
       "      <td>454603</td>\n",
       "      <td>intraday</td>\n",
       "      <td>122.4917</td>\n",
       "    </tr>\n",
       "  </tbody>\n",
       "</table>\n",
       "<p>279885 rows × 8 columns</p>\n",
       "</div>"
      ],
      "text/plain": [
       "                               Datetime     Open     High      Low     Close  \\\n",
       "Datetime                                                                       \n",
       "2010-06-30 09:30:00 2010-06-30 09:30:00   25.880   26.050   25.400   25.5800   \n",
       "2010-06-30 09:31:00 2010-06-30 09:31:00   25.596   25.700   25.200   25.3000   \n",
       "2010-06-30 09:32:00 2010-06-30 09:32:00   25.300   25.360   25.060   25.1500   \n",
       "2010-06-30 09:33:00 2010-06-30 09:33:00   25.169   25.169   24.550   24.5500   \n",
       "2010-06-30 09:34:00 2010-06-30 09:34:00   24.550   24.980   24.550   24.8300   \n",
       "...                                 ...      ...      ...      ...       ...   \n",
       "2022-12-23 10:55:00 2022-12-23 10:55:00  123.420  123.940  123.300  123.8601   \n",
       "2022-12-23 10:56:00 2022-12-23 10:56:00  123.880  123.880  123.560  123.8404   \n",
       "2022-12-23 10:57:00 2022-12-23 10:57:00  123.835  123.890  123.100  123.3600   \n",
       "2022-12-23 10:58:00 2022-12-23 10:58:00  123.359  123.440  122.400  122.4800   \n",
       "2022-12-23 10:59:00 2022-12-23 10:59:00  122.485  122.700  122.414  122.4917   \n",
       "\n",
       "                     Volume     hours  Adj Close  \n",
       "Datetime                                          \n",
       "2010-06-30 09:30:00  578051  intraday    25.5800  \n",
       "2010-06-30 09:31:00  176255  intraday    25.3000  \n",
       "2010-06-30 09:32:00   91341  intraday    25.1500  \n",
       "2010-06-30 09:33:00  172021  intraday    24.5500  \n",
       "2010-06-30 09:34:00   82318  intraday    24.8300  \n",
       "...                     ...       ...        ...  \n",
       "2022-12-23 10:55:00  551481  intraday   123.8601  \n",
       "2022-12-23 10:56:00  345444  intraday   123.8404  \n",
       "2022-12-23 10:57:00  446254  intraday   123.3600  \n",
       "2022-12-23 10:58:00  756099  intraday   122.4800  \n",
       "2022-12-23 10:59:00  454603  intraday   122.4917  \n",
       "\n",
       "[279885 rows x 8 columns]"
      ]
     },
     "execution_count": 4,
     "metadata": {},
     "output_type": "execute_result"
    }
   ],
   "source": [
    "stock_intraday=pd.read_csv(\"tsla_intraday_1min_till_11.csv\")\n",
    "stock_intraday[\"Datetime\"]=pd.to_datetime(stock_intraday[\"Datetime\"])\n",
    "stock_intraday[\"Adj Close\"]=stock_intraday[\"Close\"]\n",
    "#might drop \"Close\"\n",
    "stock_intraday.index=stock_intraday[\"Datetime\"]\n",
    "#might drop \"Datetime\"\n",
    "stock_intraday"
   ]
  },
  {
   "cell_type": "code",
   "execution_count": 5,
   "id": "f1f01c4c",
   "metadata": {},
   "outputs": [
    {
     "data": {
      "text/plain": [
       "<AxesSubplot:xlabel='Datetime'>"
      ]
     },
     "execution_count": 5,
     "metadata": {},
     "output_type": "execute_result"
    },
    {
     "data": {
      "image/png": "[encoded data removed]",
      "text/plain": [
       "<Figure size 640x480 with 1 Axes>"
      ]
     },
     "metadata": {},
     "output_type": "display_data"
    }
   ],
   "source": [
    "stock_intraday.loc['2022-12-21']['Close'].plot()"
   ]
  },
  {
   "cell_type": "code",
   "execution_count": 6,
   "id": "3be25161",
   "metadata": {},
   "outputs": [],
   "source": [
    "#stock_intraday=yf.download(ticker,period='60d',interval='5m')\n",
    "#stock_intraday"
   ]
  },
  {
   "cell_type": "code",
   "execution_count": 7,
   "id": "90c2380c",
   "metadata": {},
   "outputs": [
    {
     "name": "stdout",
     "output_type": "stream",
     "text": [
      "[*********************100%***********************]  1 of 1 completed\n"
     ]
    },
    {
     "data": {
      "text/html": [
       "<div>\n",
       "<style scoped>\n",
       "    .dataframe tbody tr th:only-of-type {\n",
       "        vertical-align: middle;\n",
       "    }\n",
       "\n",
       "    .dataframe tbody tr th {\n",
       "        vertical-align: top;\n",
       "    }\n",
       "\n",
       "    .dataframe thead th {\n",
       "        text-align: right;\n",
       "    }\n",
       "</style>\n",
       "<table border=\"1\" class=\"dataframe\">\n",
       "  <thead>\n",
       "    <tr style=\"text-align: right;\">\n",
       "      <th></th>\n",
       "      <th>Open</th>\n",
       "      <th>High</th>\n",
       "      <th>Low</th>\n",
       "      <th>Close</th>\n",
       "      <th>Adj Close</th>\n",
       "      <th>Volume</th>\n",
       "    </tr>\n",
       "    <tr>\n",
       "      <th>Date</th>\n",
       "      <th></th>\n",
       "      <th></th>\n",
       "      <th></th>\n",
       "      <th></th>\n",
       "      <th></th>\n",
       "      <th></th>\n",
       "    </tr>\n",
       "  </thead>\n",
       "  <tbody>\n",
       "    <tr>\n",
       "      <th>2010-06-29</th>\n",
       "      <td>1.266667</td>\n",
       "      <td>1.666667</td>\n",
       "      <td>1.169333</td>\n",
       "      <td>1.592667</td>\n",
       "      <td>1.592667</td>\n",
       "      <td>281494500</td>\n",
       "    </tr>\n",
       "    <tr>\n",
       "      <th>2010-06-30</th>\n",
       "      <td>1.719333</td>\n",
       "      <td>2.028000</td>\n",
       "      <td>1.553333</td>\n",
       "      <td>1.588667</td>\n",
       "      <td>1.588667</td>\n",
       "      <td>257806500</td>\n",
       "    </tr>\n",
       "    <tr>\n",
       "      <th>2010-07-01</th>\n",
       "      <td>1.666667</td>\n",
       "      <td>1.728000</td>\n",
       "      <td>1.351333</td>\n",
       "      <td>1.464000</td>\n",
       "      <td>1.464000</td>\n",
       "      <td>123282000</td>\n",
       "    </tr>\n",
       "    <tr>\n",
       "      <th>2010-07-02</th>\n",
       "      <td>1.533333</td>\n",
       "      <td>1.540000</td>\n",
       "      <td>1.247333</td>\n",
       "      <td>1.280000</td>\n",
       "      <td>1.280000</td>\n",
       "      <td>77097000</td>\n",
       "    </tr>\n",
       "    <tr>\n",
       "      <th>2010-07-06</th>\n",
       "      <td>1.333333</td>\n",
       "      <td>1.333333</td>\n",
       "      <td>1.055333</td>\n",
       "      <td>1.074000</td>\n",
       "      <td>1.074000</td>\n",
       "      <td>103003500</td>\n",
       "    </tr>\n",
       "    <tr>\n",
       "      <th>...</th>\n",
       "      <td>...</td>\n",
       "      <td>...</td>\n",
       "      <td>...</td>\n",
       "      <td>...</td>\n",
       "      <td>...</td>\n",
       "      <td>...</td>\n",
       "    </tr>\n",
       "    <tr>\n",
       "      <th>2022-12-22</th>\n",
       "      <td>136.000000</td>\n",
       "      <td>136.630005</td>\n",
       "      <td>122.260002</td>\n",
       "      <td>125.349998</td>\n",
       "      <td>125.349998</td>\n",
       "      <td>210090300</td>\n",
       "    </tr>\n",
       "    <tr>\n",
       "      <th>2022-12-23</th>\n",
       "      <td>126.370003</td>\n",
       "      <td>128.619995</td>\n",
       "      <td>121.019997</td>\n",
       "      <td>123.150002</td>\n",
       "      <td>123.150002</td>\n",
       "      <td>166396100</td>\n",
       "    </tr>\n",
       "    <tr>\n",
       "      <th>2022-12-27</th>\n",
       "      <td>117.500000</td>\n",
       "      <td>119.669998</td>\n",
       "      <td>108.760002</td>\n",
       "      <td>109.099998</td>\n",
       "      <td>109.099998</td>\n",
       "      <td>208643400</td>\n",
       "    </tr>\n",
       "    <tr>\n",
       "      <th>2022-12-28</th>\n",
       "      <td>110.349998</td>\n",
       "      <td>116.269997</td>\n",
       "      <td>108.239998</td>\n",
       "      <td>112.709999</td>\n",
       "      <td>112.709999</td>\n",
       "      <td>221070500</td>\n",
       "    </tr>\n",
       "    <tr>\n",
       "      <th>2022-12-29</th>\n",
       "      <td>120.389999</td>\n",
       "      <td>123.570000</td>\n",
       "      <td>117.500000</td>\n",
       "      <td>121.820000</td>\n",
       "      <td>121.820000</td>\n",
       "      <td>219151900</td>\n",
       "    </tr>\n",
       "  </tbody>\n",
       "</table>\n",
       "<p>3149 rows × 6 columns</p>\n",
       "</div>"
      ],
      "text/plain": [
       "                  Open        High         Low       Close   Adj Close  \\\n",
       "Date                                                                     \n",
       "2010-06-29    1.266667    1.666667    1.169333    1.592667    1.592667   \n",
       "2010-06-30    1.719333    2.028000    1.553333    1.588667    1.588667   \n",
       "2010-07-01    1.666667    1.728000    1.351333    1.464000    1.464000   \n",
       "2010-07-02    1.533333    1.540000    1.247333    1.280000    1.280000   \n",
       "2010-07-06    1.333333    1.333333    1.055333    1.074000    1.074000   \n",
       "...                ...         ...         ...         ...         ...   \n",
       "2022-12-22  136.000000  136.630005  122.260002  125.349998  125.349998   \n",
       "2022-12-23  126.370003  128.619995  121.019997  123.150002  123.150002   \n",
       "2022-12-27  117.500000  119.669998  108.760002  109.099998  109.099998   \n",
       "2022-12-28  110.349998  116.269997  108.239998  112.709999  112.709999   \n",
       "2022-12-29  120.389999  123.570000  117.500000  121.820000  121.820000   \n",
       "\n",
       "               Volume  \n",
       "Date                   \n",
       "2010-06-29  281494500  \n",
       "2010-06-30  257806500  \n",
       "2010-07-01  123282000  \n",
       "2010-07-02   77097000  \n",
       "2010-07-06  103003500  \n",
       "...               ...  \n",
       "2022-12-22  210090300  \n",
       "2022-12-23  166396100  \n",
       "2022-12-27  208643400  \n",
       "2022-12-28  221070500  \n",
       "2022-12-29  219151900  \n",
       "\n",
       "[3149 rows x 6 columns]"
      ]
     },
     "execution_count": 7,
     "metadata": {},
     "output_type": "execute_result"
    }
   ],
   "source": [
    "import yfinance as yf\n",
    "stock_daily=yf.download(ticker,period='max',interval='1d')\n",
    "stock_daily"
   ]
  },
  {
   "cell_type": "code",
   "execution_count": 8,
   "id": "51c8753b",
   "metadata": {},
   "outputs": [
    {
     "data": {
      "text/plain": [
       "Timestamp('2010-06-29 00:00:00')"
      ]
     },
     "execution_count": 8,
     "metadata": {},
     "output_type": "execute_result"
    }
   ],
   "source": [
    "stock_daily.index[0]"
   ]
  },
  {
   "cell_type": "code",
   "execution_count": 9,
   "id": "d5847084",
   "metadata": {},
   "outputs": [
    {
     "name": "stdout",
     "output_type": "stream",
     "text": [
      "[*********************100%***********************]  1 of 1 completed\n"
     ]
    },
    {
     "data": {
      "text/html": [
       "<div>\n",
       "<style scoped>\n",
       "    .dataframe tbody tr th:only-of-type {\n",
       "        vertical-align: middle;\n",
       "    }\n",
       "\n",
       "    .dataframe tbody tr th {\n",
       "        vertical-align: top;\n",
       "    }\n",
       "\n",
       "    .dataframe thead th {\n",
       "        text-align: right;\n",
       "    }\n",
       "</style>\n",
       "<table border=\"1\" class=\"dataframe\">\n",
       "  <thead>\n",
       "    <tr style=\"text-align: right;\">\n",
       "      <th></th>\n",
       "      <th>Open</th>\n",
       "      <th>High</th>\n",
       "      <th>Low</th>\n",
       "      <th>Close</th>\n",
       "      <th>Adj Close</th>\n",
       "      <th>Volume</th>\n",
       "    </tr>\n",
       "    <tr>\n",
       "      <th>Date</th>\n",
       "      <th></th>\n",
       "      <th></th>\n",
       "      <th></th>\n",
       "      <th></th>\n",
       "      <th></th>\n",
       "      <th></th>\n",
       "    </tr>\n",
       "  </thead>\n",
       "  <tbody>\n",
       "    <tr>\n",
       "      <th>2010-06-28</th>\n",
       "      <td>1.266667</td>\n",
       "      <td>2.028000</td>\n",
       "      <td>1.169333</td>\n",
       "      <td>1.280000</td>\n",
       "      <td>1.280000</td>\n",
       "      <td>739680000.0</td>\n",
       "    </tr>\n",
       "    <tr>\n",
       "      <th>2010-07-05</th>\n",
       "      <td>1.333333</td>\n",
       "      <td>1.333333</td>\n",
       "      <td>0.998667</td>\n",
       "      <td>1.160000</td>\n",
       "      <td>1.160000</td>\n",
       "      <td>383259000.0</td>\n",
       "    </tr>\n",
       "    <tr>\n",
       "      <th>2010-07-12</th>\n",
       "      <td>1.196667</td>\n",
       "      <td>1.433333</td>\n",
       "      <td>1.126667</td>\n",
       "      <td>1.376000</td>\n",
       "      <td>1.376000</td>\n",
       "      <td>231583500.0</td>\n",
       "    </tr>\n",
       "    <tr>\n",
       "      <th>2010-07-19</th>\n",
       "      <td>1.424667</td>\n",
       "      <td>1.483333</td>\n",
       "      <td>1.300000</td>\n",
       "      <td>1.419333</td>\n",
       "      <td>1.419333</td>\n",
       "      <td>107635500.0</td>\n",
       "    </tr>\n",
       "    <tr>\n",
       "      <th>2010-07-26</th>\n",
       "      <td>1.433333</td>\n",
       "      <td>1.433333</td>\n",
       "      <td>1.303333</td>\n",
       "      <td>1.329333</td>\n",
       "      <td>1.329333</td>\n",
       "      <td>45780000.0</td>\n",
       "    </tr>\n",
       "    <tr>\n",
       "      <th>...</th>\n",
       "      <td>...</td>\n",
       "      <td>...</td>\n",
       "      <td>...</td>\n",
       "      <td>...</td>\n",
       "      <td>...</td>\n",
       "      <td>...</td>\n",
       "    </tr>\n",
       "    <tr>\n",
       "      <th>2022-12-05</th>\n",
       "      <td>189.440002</td>\n",
       "      <td>191.270004</td>\n",
       "      <td>169.059998</td>\n",
       "      <td>179.050003</td>\n",
       "      <td>179.050003</td>\n",
       "      <td>471857900.0</td>\n",
       "    </tr>\n",
       "    <tr>\n",
       "      <th>2022-12-12</th>\n",
       "      <td>176.100006</td>\n",
       "      <td>177.369995</td>\n",
       "      <td>150.039993</td>\n",
       "      <td>150.229996</td>\n",
       "      <td>150.229996</td>\n",
       "      <td>687133600.0</td>\n",
       "    </tr>\n",
       "    <tr>\n",
       "      <th>2022-12-19</th>\n",
       "      <td>154.000000</td>\n",
       "      <td>155.250000</td>\n",
       "      <td>121.019997</td>\n",
       "      <td>123.150002</td>\n",
       "      <td>123.150002</td>\n",
       "      <td>820857700.0</td>\n",
       "    </tr>\n",
       "    <tr>\n",
       "      <th>2022-12-26</th>\n",
       "      <td>117.500000</td>\n",
       "      <td>123.570000</td>\n",
       "      <td>108.239998</td>\n",
       "      <td>121.820000</td>\n",
       "      <td>121.820000</td>\n",
       "      <td>648865800.0</td>\n",
       "    </tr>\n",
       "    <tr>\n",
       "      <th>2022-12-29</th>\n",
       "      <td>120.385002</td>\n",
       "      <td>123.570000</td>\n",
       "      <td>117.495003</td>\n",
       "      <td>121.820000</td>\n",
       "      <td>121.820000</td>\n",
       "      <td>219517411.0</td>\n",
       "    </tr>\n",
       "  </tbody>\n",
       "</table>\n",
       "<p>655 rows × 6 columns</p>\n",
       "</div>"
      ],
      "text/plain": [
       "                  Open        High         Low       Close   Adj Close  \\\n",
       "Date                                                                     \n",
       "2010-06-28    1.266667    2.028000    1.169333    1.280000    1.280000   \n",
       "2010-07-05    1.333333    1.333333    0.998667    1.160000    1.160000   \n",
       "2010-07-12    1.196667    1.433333    1.126667    1.376000    1.376000   \n",
       "2010-07-19    1.424667    1.483333    1.300000    1.419333    1.419333   \n",
       "2010-07-26    1.433333    1.433333    1.303333    1.329333    1.329333   \n",
       "...                ...         ...         ...         ...         ...   \n",
       "2022-12-05  189.440002  191.270004  169.059998  179.050003  179.050003   \n",
       "2022-12-12  176.100006  177.369995  150.039993  150.229996  150.229996   \n",
       "2022-12-19  154.000000  155.250000  121.019997  123.150002  123.150002   \n",
       "2022-12-26  117.500000  123.570000  108.239998  121.820000  121.820000   \n",
       "2022-12-29  120.385002  123.570000  117.495003  121.820000  121.820000   \n",
       "\n",
       "                 Volume  \n",
       "Date                     \n",
       "2010-06-28  739680000.0  \n",
       "2010-07-05  383259000.0  \n",
       "2010-07-12  231583500.0  \n",
       "2010-07-19  107635500.0  \n",
       "2010-07-26   45780000.0  \n",
       "...                 ...  \n",
       "2022-12-05  471857900.0  \n",
       "2022-12-12  687133600.0  \n",
       "2022-12-19  820857700.0  \n",
       "2022-12-26  648865800.0  \n",
       "2022-12-29  219517411.0  \n",
       "\n",
       "[655 rows x 6 columns]"
      ]
     },
     "execution_count": 9,
     "metadata": {},
     "output_type": "execute_result"
    }
   ],
   "source": [
    "stock_weekly=yf.download(ticker,period=\"max\",interval='1wk')\n",
    "stock_weekly"
   ]
  },
  {
   "cell_type": "code",
   "execution_count": 10,
   "id": "5938351b",
   "metadata": {},
   "outputs": [
    {
     "name": "stdout",
     "output_type": "stream",
     "text": [
      "[*********************100%***********************]  1 of 1 completed\n"
     ]
    }
   ],
   "source": [
    "stock_monthly=yf.download(ticker,period=\"max\",interval='1mo')"
   ]
  },
  {
   "cell_type": "code",
   "execution_count": 11,
   "id": "565c703e",
   "metadata": {},
   "outputs": [],
   "source": [
    "def pivot_daily(df):\n",
    "    \"\"\"\n",
    "    input=1d dataframe\n",
    "    \"\"\"\n",
    "    df[\"PP\"]=round((df[\"High\"].shift(1)+df[\"Low\"].shift(1)+df[\"Close\"].shift(1))/3,2)\n",
    "    df[\"BC\"]=round((df[\"High\"].shift(1)+df[\"Low\"].shift(1))/2,2)\n",
    "    df[\"TC\"]=round((df[\"PP\"]-df[\"BC\"])+df[\"PP\"],2)\n",
    "    df[\"R1\"]=round(df[\"PP\"]*2-df[\"Low\"].shift(1),2)\n",
    "    df[\"S1\"]=round(df[\"PP\"]*2-df[\"High\"].shift(1),2)\n",
    "    df[\"R2\"]=round(df[\"PP\"]+(df[\"High\"].shift(1)-df[\"Low\"].shift(1)),2)\n",
    "    df[\"S2\"]=round(df[\"PP\"]-(df[\"High\"].shift(1)-df[\"Low\"].shift(1)),2)\n",
    "    df[\"R3\"]=round(df[\"PP\"]*2+(df[\"High\"].shift(1)-2*df[\"Low\"].shift(1)),2)\n",
    "    df[\"S3\"]=round(df[\"PP\"]*2-(2*df[\"High\"].shift(1)-df[\"Low\"].shift(1)),2)\n",
    "    df[\"R4\"]=round(df[\"R3\"]+(df[\"R2\"]-df[\"R1\"]),2)\n",
    "    df[\"S4\"]=round(df[\"S3\"]-(df[\"S1\"]-df[\"S2\"]),2)\n",
    "    return df"
   ]
  },
  {
   "cell_type": "code",
   "execution_count": 12,
   "id": "26eb16dd",
   "metadata": {},
   "outputs": [],
   "source": [
    "def pivot_weekly(df):\n",
    "    \"\"\"\n",
    "    input=1 week dataframe\n",
    "    \"\"\"\n",
    "    df[\"PP\"]=round((df[\"High\"].shift(1)+df[\"Low\"].shift(1)+df[\"Close\"].shift(1))/3,2)\n",
    "    #df[\"BC\"]=round((df[\"High\"].shift(1)+df[\"Low\"].shift(1))/2,2)\n",
    "    #df[\"TC\"]=round((df[\"PP\"]-df[\"BC\"])+df[\"PP\"],2)\n",
    "    df[\"R1\"]=round(df[\"PP\"]*2-df[\"Low\"].shift(1),2)\n",
    "    df[\"S1\"]=round(df[\"PP\"]*2-df[\"High\"].shift(1),2)\n",
    "    df[\"R2\"]=round(df[\"PP\"]+(df[\"High\"].shift(1)-df[\"Low\"].shift(1)),2)\n",
    "    df[\"S2\"]=round(df[\"PP\"]-(df[\"High\"].shift(1)-df[\"Low\"].shift(1)),2)\n",
    "    df[\"R3\"]=round(df[\"PP\"]*2+(df[\"High\"].shift(1)-2*df[\"Low\"].shift(1)),2)\n",
    "    df[\"S3\"]=round(df[\"PP\"]*2-(2*df[\"High\"].shift(1)-df[\"Low\"].shift(1)),2)\n",
    "    return df"
   ]
  },
  {
   "cell_type": "code",
   "execution_count": 13,
   "id": "b9a5a54b",
   "metadata": {},
   "outputs": [],
   "source": [
    "def pivot_monthly(df):\n",
    "    \"\"\"\n",
    "    input=1 month dataframe\n",
    "    \"\"\"\n",
    "    df[\"PP\"]=round((df[\"High\"].shift(1)+df[\"Low\"].shift(1)+df[\"Close\"].shift(1))/3,2)\n",
    "    #df[\"BC\"]=round((df[\"High\"].shift(1)+df[\"Low\"].shift(1))/2,2)\n",
    "    #df[\"TC\"]=round((df[\"PP\"]-df[\"BC\"])+df[\"PP\"],2)\n",
    "    df[\"R1\"]=round(df[\"PP\"]*2-df[\"Low\"].shift(1),2)\n",
    "    df[\"S1\"]=round(df[\"PP\"]*2-df[\"High\"].shift(1),2)\n",
    "    df[\"R2\"]=round(df[\"PP\"]+(df[\"High\"].shift(1)-df[\"Low\"].shift(1)),2)\n",
    "    df[\"S2\"]=round(df[\"PP\"]-(df[\"High\"].shift(1)-df[\"Low\"].shift(1)),2)\n",
    "    df[\"R3\"]=round(df[\"PP\"]*2+(df[\"High\"].shift(1)-2*df[\"Low\"].shift(1)),2)\n",
    "    df[\"S3\"]=round(df[\"PP\"]*2-(2*df[\"High\"].shift(1)-df[\"Low\"].shift(1)),2)\n",
    "    return df"
   ]
  },
  {
   "cell_type": "code",
   "execution_count": 14,
   "id": "3311072c",
   "metadata": {},
   "outputs": [],
   "source": [
    "# call the pivot in daily timeframe daily"
   ]
  },
  {
   "cell_type": "code",
   "execution_count": 15,
   "id": "04f1c9df",
   "metadata": {},
   "outputs": [
    {
     "name": "stderr",
     "output_type": "stream",
     "text": [
      "/var/folders/0d/2q3_g9bj7tn1m1t1w5crmtvh0000gn/T/ipykernel_1222/2912323420.py:1: FutureWarning: weekofyear and week have been deprecated, please use DatetimeIndex.isocalendar().week instead, which returns a Series. To exactly reproduce the behavior of week and weekofyear and return an Index, you may call pd.Int64Index(idx.isocalendar().week)\n",
      "  stock_daily[\"week\"]=stock_daily.index.week\n"
     ]
    }
   ],
   "source": [
    "stock_daily[\"week\"]=stock_daily.index.week"
   ]
  },
  {
   "cell_type": "code",
   "execution_count": 16,
   "id": "48344216",
   "metadata": {},
   "outputs": [],
   "source": [
    "stock_daily[\"month\"]=stock_daily.index.month"
   ]
  },
  {
   "cell_type": "code",
   "execution_count": 17,
   "id": "f8871e00",
   "metadata": {},
   "outputs": [],
   "source": [
    "stock_daily[\"year\"]=stock_daily.index.year"
   ]
  },
  {
   "cell_type": "code",
   "execution_count": 18,
   "id": "54407a4a",
   "metadata": {},
   "outputs": [
    {
     "data": {
      "text/html": [
       "<div>\n",
       "<style scoped>\n",
       "    .dataframe tbody tr th:only-of-type {\n",
       "        vertical-align: middle;\n",
       "    }\n",
       "\n",
       "    .dataframe tbody tr th {\n",
       "        vertical-align: top;\n",
       "    }\n",
       "\n",
       "    .dataframe thead th {\n",
       "        text-align: right;\n",
       "    }\n",
       "</style>\n",
       "<table border=\"1\" class=\"dataframe\">\n",
       "  <thead>\n",
       "    <tr style=\"text-align: right;\">\n",
       "      <th></th>\n",
       "      <th>Open</th>\n",
       "      <th>High</th>\n",
       "      <th>Low</th>\n",
       "      <th>Close</th>\n",
       "      <th>Adj Close</th>\n",
       "      <th>Volume</th>\n",
       "      <th>week</th>\n",
       "      <th>month</th>\n",
       "      <th>year</th>\n",
       "    </tr>\n",
       "    <tr>\n",
       "      <th>Date</th>\n",
       "      <th></th>\n",
       "      <th></th>\n",
       "      <th></th>\n",
       "      <th></th>\n",
       "      <th></th>\n",
       "      <th></th>\n",
       "      <th></th>\n",
       "      <th></th>\n",
       "      <th></th>\n",
       "    </tr>\n",
       "  </thead>\n",
       "  <tbody>\n",
       "    <tr>\n",
       "      <th>2010-06-29</th>\n",
       "      <td>1.266667</td>\n",
       "      <td>1.666667</td>\n",
       "      <td>1.169333</td>\n",
       "      <td>1.592667</td>\n",
       "      <td>1.592667</td>\n",
       "      <td>281494500</td>\n",
       "      <td>26</td>\n",
       "      <td>6</td>\n",
       "      <td>2010</td>\n",
       "    </tr>\n",
       "    <tr>\n",
       "      <th>2010-06-30</th>\n",
       "      <td>1.719333</td>\n",
       "      <td>2.028000</td>\n",
       "      <td>1.553333</td>\n",
       "      <td>1.588667</td>\n",
       "      <td>1.588667</td>\n",
       "      <td>257806500</td>\n",
       "      <td>26</td>\n",
       "      <td>6</td>\n",
       "      <td>2010</td>\n",
       "    </tr>\n",
       "    <tr>\n",
       "      <th>2010-07-01</th>\n",
       "      <td>1.666667</td>\n",
       "      <td>1.728000</td>\n",
       "      <td>1.351333</td>\n",
       "      <td>1.464000</td>\n",
       "      <td>1.464000</td>\n",
       "      <td>123282000</td>\n",
       "      <td>26</td>\n",
       "      <td>7</td>\n",
       "      <td>2010</td>\n",
       "    </tr>\n",
       "    <tr>\n",
       "      <th>2010-07-02</th>\n",
       "      <td>1.533333</td>\n",
       "      <td>1.540000</td>\n",
       "      <td>1.247333</td>\n",
       "      <td>1.280000</td>\n",
       "      <td>1.280000</td>\n",
       "      <td>77097000</td>\n",
       "      <td>26</td>\n",
       "      <td>7</td>\n",
       "      <td>2010</td>\n",
       "    </tr>\n",
       "    <tr>\n",
       "      <th>2010-07-06</th>\n",
       "      <td>1.333333</td>\n",
       "      <td>1.333333</td>\n",
       "      <td>1.055333</td>\n",
       "      <td>1.074000</td>\n",
       "      <td>1.074000</td>\n",
       "      <td>103003500</td>\n",
       "      <td>27</td>\n",
       "      <td>7</td>\n",
       "      <td>2010</td>\n",
       "    </tr>\n",
       "    <tr>\n",
       "      <th>...</th>\n",
       "      <td>...</td>\n",
       "      <td>...</td>\n",
       "      <td>...</td>\n",
       "      <td>...</td>\n",
       "      <td>...</td>\n",
       "      <td>...</td>\n",
       "      <td>...</td>\n",
       "      <td>...</td>\n",
       "      <td>...</td>\n",
       "    </tr>\n",
       "    <tr>\n",
       "      <th>2022-12-22</th>\n",
       "      <td>136.000000</td>\n",
       "      <td>136.630005</td>\n",
       "      <td>122.260002</td>\n",
       "      <td>125.349998</td>\n",
       "      <td>125.349998</td>\n",
       "      <td>210090300</td>\n",
       "      <td>51</td>\n",
       "      <td>12</td>\n",
       "      <td>2022</td>\n",
       "    </tr>\n",
       "    <tr>\n",
       "      <th>2022-12-23</th>\n",
       "      <td>126.370003</td>\n",
       "      <td>128.619995</td>\n",
       "      <td>121.019997</td>\n",
       "      <td>123.150002</td>\n",
       "      <td>123.150002</td>\n",
       "      <td>166396100</td>\n",
       "      <td>51</td>\n",
       "      <td>12</td>\n",
       "      <td>2022</td>\n",
       "    </tr>\n",
       "    <tr>\n",
       "      <th>2022-12-27</th>\n",
       "      <td>117.500000</td>\n",
       "      <td>119.669998</td>\n",
       "      <td>108.760002</td>\n",
       "      <td>109.099998</td>\n",
       "      <td>109.099998</td>\n",
       "      <td>208643400</td>\n",
       "      <td>52</td>\n",
       "      <td>12</td>\n",
       "      <td>2022</td>\n",
       "    </tr>\n",
       "    <tr>\n",
       "      <th>2022-12-28</th>\n",
       "      <td>110.349998</td>\n",
       "      <td>116.269997</td>\n",
       "      <td>108.239998</td>\n",
       "      <td>112.709999</td>\n",
       "      <td>112.709999</td>\n",
       "      <td>221070500</td>\n",
       "      <td>52</td>\n",
       "      <td>12</td>\n",
       "      <td>2022</td>\n",
       "    </tr>\n",
       "    <tr>\n",
       "      <th>2022-12-29</th>\n",
       "      <td>120.389999</td>\n",
       "      <td>123.570000</td>\n",
       "      <td>117.500000</td>\n",
       "      <td>121.820000</td>\n",
       "      <td>121.820000</td>\n",
       "      <td>219151900</td>\n",
       "      <td>52</td>\n",
       "      <td>12</td>\n",
       "      <td>2022</td>\n",
       "    </tr>\n",
       "  </tbody>\n",
       "</table>\n",
       "<p>3149 rows × 9 columns</p>\n",
       "</div>"
      ],
      "text/plain": [
       "                  Open        High         Low       Close   Adj Close  \\\n",
       "Date                                                                     \n",
       "2010-06-29    1.266667    1.666667    1.169333    1.592667    1.592667   \n",
       "2010-06-30    1.719333    2.028000    1.553333    1.588667    1.588667   \n",
       "2010-07-01    1.666667    1.728000    1.351333    1.464000    1.464000   \n",
       "2010-07-02    1.533333    1.540000    1.247333    1.280000    1.280000   \n",
       "2010-07-06    1.333333    1.333333    1.055333    1.074000    1.074000   \n",
       "...                ...         ...         ...         ...         ...   \n",
       "2022-12-22  136.000000  136.630005  122.260002  125.349998  125.349998   \n",
       "2022-12-23  126.370003  128.619995  121.019997  123.150002  123.150002   \n",
       "2022-12-27  117.500000  119.669998  108.760002  109.099998  109.099998   \n",
       "2022-12-28  110.349998  116.269997  108.239998  112.709999  112.709999   \n",
       "2022-12-29  120.389999  123.570000  117.500000  121.820000  121.820000   \n",
       "\n",
       "               Volume  week  month  year  \n",
       "Date                                      \n",
       "2010-06-29  281494500    26      6  2010  \n",
       "2010-06-30  257806500    26      6  2010  \n",
       "2010-07-01  123282000    26      7  2010  \n",
       "2010-07-02   77097000    26      7  2010  \n",
       "2010-07-06  103003500    27      7  2010  \n",
       "...               ...   ...    ...   ...  \n",
       "2022-12-22  210090300    51     12  2022  \n",
       "2022-12-23  166396100    51     12  2022  \n",
       "2022-12-27  208643400    52     12  2022  \n",
       "2022-12-28  221070500    52     12  2022  \n",
       "2022-12-29  219151900    52     12  2022  \n",
       "\n",
       "[3149 rows x 9 columns]"
      ]
     },
     "execution_count": 18,
     "metadata": {},
     "output_type": "execute_result"
    }
   ],
   "source": [
    "stock_daily"
   ]
  },
  {
   "cell_type": "code",
   "execution_count": 19,
   "id": "e9daccbc",
   "metadata": {},
   "outputs": [
    {
     "name": "stderr",
     "output_type": "stream",
     "text": [
      "/var/folders/0d/2q3_g9bj7tn1m1t1w5crmtvh0000gn/T/ipykernel_1222/37262271.py:1: FutureWarning: weekofyear and week have been deprecated, please use DatetimeIndex.isocalendar().week instead, which returns a Series. To exactly reproduce the behavior of week and weekofyear and return an Index, you may call pd.Int64Index(idx.isocalendar().week)\n",
      "  stock_weekly[\"week\"]=stock_weekly.index.week\n"
     ]
    }
   ],
   "source": [
    "stock_weekly[\"week\"]=stock_weekly.index.week\n",
    "stock_weekly[\"year\"]=stock_weekly.index.year"
   ]
  },
  {
   "cell_type": "code",
   "execution_count": 20,
   "id": "28bac539",
   "metadata": {},
   "outputs": [
    {
     "data": {
      "text/html": [
       "<div>\n",
       "<style scoped>\n",
       "    .dataframe tbody tr th:only-of-type {\n",
       "        vertical-align: middle;\n",
       "    }\n",
       "\n",
       "    .dataframe tbody tr th {\n",
       "        vertical-align: top;\n",
       "    }\n",
       "\n",
       "    .dataframe thead th {\n",
       "        text-align: right;\n",
       "    }\n",
       "</style>\n",
       "<table border=\"1\" class=\"dataframe\">\n",
       "  <thead>\n",
       "    <tr style=\"text-align: right;\">\n",
       "      <th></th>\n",
       "      <th>Open</th>\n",
       "      <th>High</th>\n",
       "      <th>Low</th>\n",
       "      <th>Close</th>\n",
       "      <th>Adj Close</th>\n",
       "      <th>Volume</th>\n",
       "      <th>week</th>\n",
       "      <th>year</th>\n",
       "    </tr>\n",
       "    <tr>\n",
       "      <th>Date</th>\n",
       "      <th></th>\n",
       "      <th></th>\n",
       "      <th></th>\n",
       "      <th></th>\n",
       "      <th></th>\n",
       "      <th></th>\n",
       "      <th></th>\n",
       "      <th></th>\n",
       "    </tr>\n",
       "  </thead>\n",
       "  <tbody>\n",
       "    <tr>\n",
       "      <th>2010-06-28</th>\n",
       "      <td>1.266667</td>\n",
       "      <td>2.028000</td>\n",
       "      <td>1.169333</td>\n",
       "      <td>1.280000</td>\n",
       "      <td>1.280000</td>\n",
       "      <td>739680000.0</td>\n",
       "      <td>26</td>\n",
       "      <td>2010</td>\n",
       "    </tr>\n",
       "    <tr>\n",
       "      <th>2010-07-05</th>\n",
       "      <td>1.333333</td>\n",
       "      <td>1.333333</td>\n",
       "      <td>0.998667</td>\n",
       "      <td>1.160000</td>\n",
       "      <td>1.160000</td>\n",
       "      <td>383259000.0</td>\n",
       "      <td>27</td>\n",
       "      <td>2010</td>\n",
       "    </tr>\n",
       "    <tr>\n",
       "      <th>2010-07-12</th>\n",
       "      <td>1.196667</td>\n",
       "      <td>1.433333</td>\n",
       "      <td>1.126667</td>\n",
       "      <td>1.376000</td>\n",
       "      <td>1.376000</td>\n",
       "      <td>231583500.0</td>\n",
       "      <td>28</td>\n",
       "      <td>2010</td>\n",
       "    </tr>\n",
       "    <tr>\n",
       "      <th>2010-07-19</th>\n",
       "      <td>1.424667</td>\n",
       "      <td>1.483333</td>\n",
       "      <td>1.300000</td>\n",
       "      <td>1.419333</td>\n",
       "      <td>1.419333</td>\n",
       "      <td>107635500.0</td>\n",
       "      <td>29</td>\n",
       "      <td>2010</td>\n",
       "    </tr>\n",
       "    <tr>\n",
       "      <th>2010-07-26</th>\n",
       "      <td>1.433333</td>\n",
       "      <td>1.433333</td>\n",
       "      <td>1.303333</td>\n",
       "      <td>1.329333</td>\n",
       "      <td>1.329333</td>\n",
       "      <td>45780000.0</td>\n",
       "      <td>30</td>\n",
       "      <td>2010</td>\n",
       "    </tr>\n",
       "    <tr>\n",
       "      <th>...</th>\n",
       "      <td>...</td>\n",
       "      <td>...</td>\n",
       "      <td>...</td>\n",
       "      <td>...</td>\n",
       "      <td>...</td>\n",
       "      <td>...</td>\n",
       "      <td>...</td>\n",
       "      <td>...</td>\n",
       "    </tr>\n",
       "    <tr>\n",
       "      <th>2022-12-05</th>\n",
       "      <td>189.440002</td>\n",
       "      <td>191.270004</td>\n",
       "      <td>169.059998</td>\n",
       "      <td>179.050003</td>\n",
       "      <td>179.050003</td>\n",
       "      <td>471857900.0</td>\n",
       "      <td>49</td>\n",
       "      <td>2022</td>\n",
       "    </tr>\n",
       "    <tr>\n",
       "      <th>2022-12-12</th>\n",
       "      <td>176.100006</td>\n",
       "      <td>177.369995</td>\n",
       "      <td>150.039993</td>\n",
       "      <td>150.229996</td>\n",
       "      <td>150.229996</td>\n",
       "      <td>687133600.0</td>\n",
       "      <td>50</td>\n",
       "      <td>2022</td>\n",
       "    </tr>\n",
       "    <tr>\n",
       "      <th>2022-12-19</th>\n",
       "      <td>154.000000</td>\n",
       "      <td>155.250000</td>\n",
       "      <td>121.019997</td>\n",
       "      <td>123.150002</td>\n",
       "      <td>123.150002</td>\n",
       "      <td>820857700.0</td>\n",
       "      <td>51</td>\n",
       "      <td>2022</td>\n",
       "    </tr>\n",
       "    <tr>\n",
       "      <th>2022-12-26</th>\n",
       "      <td>117.500000</td>\n",
       "      <td>123.570000</td>\n",
       "      <td>108.239998</td>\n",
       "      <td>121.820000</td>\n",
       "      <td>121.820000</td>\n",
       "      <td>648865800.0</td>\n",
       "      <td>52</td>\n",
       "      <td>2022</td>\n",
       "    </tr>\n",
       "    <tr>\n",
       "      <th>2022-12-29</th>\n",
       "      <td>120.385002</td>\n",
       "      <td>123.570000</td>\n",
       "      <td>117.495003</td>\n",
       "      <td>121.820000</td>\n",
       "      <td>121.820000</td>\n",
       "      <td>219517411.0</td>\n",
       "      <td>52</td>\n",
       "      <td>2022</td>\n",
       "    </tr>\n",
       "  </tbody>\n",
       "</table>\n",
       "<p>655 rows × 8 columns</p>\n",
       "</div>"
      ],
      "text/plain": [
       "                  Open        High         Low       Close   Adj Close  \\\n",
       "Date                                                                     \n",
       "2010-06-28    1.266667    2.028000    1.169333    1.280000    1.280000   \n",
       "2010-07-05    1.333333    1.333333    0.998667    1.160000    1.160000   \n",
       "2010-07-12    1.196667    1.433333    1.126667    1.376000    1.376000   \n",
       "2010-07-19    1.424667    1.483333    1.300000    1.419333    1.419333   \n",
       "2010-07-26    1.433333    1.433333    1.303333    1.329333    1.329333   \n",
       "...                ...         ...         ...         ...         ...   \n",
       "2022-12-05  189.440002  191.270004  169.059998  179.050003  179.050003   \n",
       "2022-12-12  176.100006  177.369995  150.039993  150.229996  150.229996   \n",
       "2022-12-19  154.000000  155.250000  121.019997  123.150002  123.150002   \n",
       "2022-12-26  117.500000  123.570000  108.239998  121.820000  121.820000   \n",
       "2022-12-29  120.385002  123.570000  117.495003  121.820000  121.820000   \n",
       "\n",
       "                 Volume  week  year  \n",
       "Date                                 \n",
       "2010-06-28  739680000.0    26  2010  \n",
       "2010-07-05  383259000.0    27  2010  \n",
       "2010-07-12  231583500.0    28  2010  \n",
       "2010-07-19  107635500.0    29  2010  \n",
       "2010-07-26   45780000.0    30  2010  \n",
       "...                 ...   ...   ...  \n",
       "2022-12-05  471857900.0    49  2022  \n",
       "2022-12-12  687133600.0    50  2022  \n",
       "2022-12-19  820857700.0    51  2022  \n",
       "2022-12-26  648865800.0    52  2022  \n",
       "2022-12-29  219517411.0    52  2022  \n",
       "\n",
       "[655 rows x 8 columns]"
      ]
     },
     "execution_count": 20,
     "metadata": {},
     "output_type": "execute_result"
    }
   ],
   "source": [
    "stock_weekly"
   ]
  },
  {
   "cell_type": "code",
   "execution_count": 21,
   "id": "1a29f68d",
   "metadata": {},
   "outputs": [],
   "source": [
    "stock_monthly[\"month\"]=stock_monthly.index.month\n",
    "stock_monthly[\"year\"]=stock_monthly.index.year"
   ]
  },
  {
   "cell_type": "code",
   "execution_count": 22,
   "id": "da55dad5",
   "metadata": {},
   "outputs": [
    {
     "data": {
      "text/html": [
       "<div>\n",
       "<style scoped>\n",
       "    .dataframe tbody tr th:only-of-type {\n",
       "        vertical-align: middle;\n",
       "    }\n",
       "\n",
       "    .dataframe tbody tr th {\n",
       "        vertical-align: top;\n",
       "    }\n",
       "\n",
       "    .dataframe thead th {\n",
       "        text-align: right;\n",
       "    }\n",
       "</style>\n",
       "<table border=\"1\" class=\"dataframe\">\n",
       "  <thead>\n",
       "    <tr style=\"text-align: right;\">\n",
       "      <th></th>\n",
       "      <th>Open</th>\n",
       "      <th>High</th>\n",
       "      <th>Low</th>\n",
       "      <th>Close</th>\n",
       "      <th>Adj Close</th>\n",
       "      <th>Volume</th>\n",
       "      <th>month</th>\n",
       "      <th>year</th>\n",
       "    </tr>\n",
       "    <tr>\n",
       "      <th>Date</th>\n",
       "      <th></th>\n",
       "      <th></th>\n",
       "      <th></th>\n",
       "      <th></th>\n",
       "      <th></th>\n",
       "      <th></th>\n",
       "      <th></th>\n",
       "      <th></th>\n",
       "    </tr>\n",
       "  </thead>\n",
       "  <tbody>\n",
       "    <tr>\n",
       "      <th>2010-07-01</th>\n",
       "      <td>1.666667</td>\n",
       "      <td>1.728000</td>\n",
       "      <td>0.998667</td>\n",
       "      <td>1.329333</td>\n",
       "      <td>1.329333</td>\n",
       "      <td>9.686370e+08</td>\n",
       "      <td>7</td>\n",
       "      <td>2010</td>\n",
       "    </tr>\n",
       "    <tr>\n",
       "      <th>2010-08-01</th>\n",
       "      <td>1.366667</td>\n",
       "      <td>1.478667</td>\n",
       "      <td>1.159333</td>\n",
       "      <td>1.298667</td>\n",
       "      <td>1.298667</td>\n",
       "      <td>2.255730e+08</td>\n",
       "      <td>8</td>\n",
       "      <td>2010</td>\n",
       "    </tr>\n",
       "    <tr>\n",
       "      <th>2010-09-01</th>\n",
       "      <td>1.308000</td>\n",
       "      <td>1.544000</td>\n",
       "      <td>1.300000</td>\n",
       "      <td>1.360667</td>\n",
       "      <td>1.360667</td>\n",
       "      <td>2.706885e+08</td>\n",
       "      <td>9</td>\n",
       "      <td>2010</td>\n",
       "    </tr>\n",
       "    <tr>\n",
       "      <th>2010-10-01</th>\n",
       "      <td>1.379333</td>\n",
       "      <td>1.458000</td>\n",
       "      <td>1.333333</td>\n",
       "      <td>1.456000</td>\n",
       "      <td>1.456000</td>\n",
       "      <td>9.821700e+07</td>\n",
       "      <td>10</td>\n",
       "      <td>2010</td>\n",
       "    </tr>\n",
       "    <tr>\n",
       "      <th>2010-11-01</th>\n",
       "      <td>1.462667</td>\n",
       "      <td>2.400000</td>\n",
       "      <td>1.403333</td>\n",
       "      <td>2.355333</td>\n",
       "      <td>2.355333</td>\n",
       "      <td>4.247265e+08</td>\n",
       "      <td>11</td>\n",
       "      <td>2010</td>\n",
       "    </tr>\n",
       "    <tr>\n",
       "      <th>...</th>\n",
       "      <td>...</td>\n",
       "      <td>...</td>\n",
       "      <td>...</td>\n",
       "      <td>...</td>\n",
       "      <td>...</td>\n",
       "      <td>...</td>\n",
       "      <td>...</td>\n",
       "      <td>...</td>\n",
       "    </tr>\n",
       "    <tr>\n",
       "      <th>2022-09-01</th>\n",
       "      <td>272.579987</td>\n",
       "      <td>313.799988</td>\n",
       "      <td>262.470001</td>\n",
       "      <td>265.250000</td>\n",
       "      <td>265.250000</td>\n",
       "      <td>1.299271e+09</td>\n",
       "      <td>9</td>\n",
       "      <td>2022</td>\n",
       "    </tr>\n",
       "    <tr>\n",
       "      <th>2022-10-01</th>\n",
       "      <td>254.500000</td>\n",
       "      <td>257.500000</td>\n",
       "      <td>198.589996</td>\n",
       "      <td>227.539993</td>\n",
       "      <td>227.539993</td>\n",
       "      <td>1.735263e+09</td>\n",
       "      <td>10</td>\n",
       "      <td>2022</td>\n",
       "    </tr>\n",
       "    <tr>\n",
       "      <th>2022-11-01</th>\n",
       "      <td>234.050003</td>\n",
       "      <td>237.399994</td>\n",
       "      <td>166.190002</td>\n",
       "      <td>194.699997</td>\n",
       "      <td>194.699997</td>\n",
       "      <td>1.885275e+09</td>\n",
       "      <td>11</td>\n",
       "      <td>2022</td>\n",
       "    </tr>\n",
       "    <tr>\n",
       "      <th>2022-12-01</th>\n",
       "      <td>197.080002</td>\n",
       "      <td>198.919998</td>\n",
       "      <td>108.239998</td>\n",
       "      <td>121.820000</td>\n",
       "      <td>121.820000</td>\n",
       "      <td>2.782295e+09</td>\n",
       "      <td>12</td>\n",
       "      <td>2022</td>\n",
       "    </tr>\n",
       "    <tr>\n",
       "      <th>2022-12-29</th>\n",
       "      <td>120.385002</td>\n",
       "      <td>123.570000</td>\n",
       "      <td>117.495003</td>\n",
       "      <td>121.820000</td>\n",
       "      <td>121.820000</td>\n",
       "      <td>2.195174e+08</td>\n",
       "      <td>12</td>\n",
       "      <td>2022</td>\n",
       "    </tr>\n",
       "  </tbody>\n",
       "</table>\n",
       "<p>153 rows × 8 columns</p>\n",
       "</div>"
      ],
      "text/plain": [
       "                  Open        High         Low       Close   Adj Close  \\\n",
       "Date                                                                     \n",
       "2010-07-01    1.666667    1.728000    0.998667    1.329333    1.329333   \n",
       "2010-08-01    1.366667    1.478667    1.159333    1.298667    1.298667   \n",
       "2010-09-01    1.308000    1.544000    1.300000    1.360667    1.360667   \n",
       "2010-10-01    1.379333    1.458000    1.333333    1.456000    1.456000   \n",
       "2010-11-01    1.462667    2.400000    1.403333    2.355333    2.355333   \n",
       "...                ...         ...         ...         ...         ...   \n",
       "2022-09-01  272.579987  313.799988  262.470001  265.250000  265.250000   \n",
       "2022-10-01  254.500000  257.500000  198.589996  227.539993  227.539993   \n",
       "2022-11-01  234.050003  237.399994  166.190002  194.699997  194.699997   \n",
       "2022-12-01  197.080002  198.919998  108.239998  121.820000  121.820000   \n",
       "2022-12-29  120.385002  123.570000  117.495003  121.820000  121.820000   \n",
       "\n",
       "                  Volume  month  year  \n",
       "Date                                   \n",
       "2010-07-01  9.686370e+08      7  2010  \n",
       "2010-08-01  2.255730e+08      8  2010  \n",
       "2010-09-01  2.706885e+08      9  2010  \n",
       "2010-10-01  9.821700e+07     10  2010  \n",
       "2010-11-01  4.247265e+08     11  2010  \n",
       "...                  ...    ...   ...  \n",
       "2022-09-01  1.299271e+09      9  2022  \n",
       "2022-10-01  1.735263e+09     10  2022  \n",
       "2022-11-01  1.885275e+09     11  2022  \n",
       "2022-12-01  2.782295e+09     12  2022  \n",
       "2022-12-29  2.195174e+08     12  2022  \n",
       "\n",
       "[153 rows x 8 columns]"
      ]
     },
     "execution_count": 22,
     "metadata": {},
     "output_type": "execute_result"
    }
   ],
   "source": [
    "stock_monthly"
   ]
  },
  {
   "cell_type": "code",
   "execution_count": 23,
   "id": "af86e11d",
   "metadata": {},
   "outputs": [
    {
     "data": {
      "text/plain": [
       "3149"
      ]
     },
     "execution_count": 23,
     "metadata": {},
     "output_type": "execute_result"
    }
   ],
   "source": [
    "len(stock_daily)"
   ]
  },
  {
   "cell_type": "code",
   "execution_count": 24,
   "id": "3f00f141",
   "metadata": {},
   "outputs": [
    {
     "data": {
      "text/plain": [
       "<function __main__.pivot_daily(df)>"
      ]
     },
     "execution_count": 24,
     "metadata": {},
     "output_type": "execute_result"
    }
   ],
   "source": [
    "pivot_daily"
   ]
  },
  {
   "cell_type": "code",
   "execution_count": 25,
   "id": "719770dd",
   "metadata": {},
   "outputs": [],
   "source": [
    "daily_pivot=pivot_daily(stock_daily)\n",
    "weekly_pivot=pivot_weekly(stock_weekly)\n",
    "monthly_pivot=pivot_monthly(stock_monthly)"
   ]
  },
  {
   "cell_type": "code",
   "execution_count": 26,
   "id": "461b6de7",
   "metadata": {},
   "outputs": [
    {
     "data": {
      "text/html": [
       "<div>\n",
       "<style scoped>\n",
       "    .dataframe tbody tr th:only-of-type {\n",
       "        vertical-align: middle;\n",
       "    }\n",
       "\n",
       "    .dataframe tbody tr th {\n",
       "        vertical-align: top;\n",
       "    }\n",
       "\n",
       "    .dataframe thead th {\n",
       "        text-align: right;\n",
       "    }\n",
       "</style>\n",
       "<table border=\"1\" class=\"dataframe\">\n",
       "  <thead>\n",
       "    <tr style=\"text-align: right;\">\n",
       "      <th></th>\n",
       "      <th>Open</th>\n",
       "      <th>High</th>\n",
       "      <th>Low</th>\n",
       "      <th>Close</th>\n",
       "      <th>Adj Close</th>\n",
       "      <th>Volume</th>\n",
       "      <th>week</th>\n",
       "      <th>month</th>\n",
       "      <th>year</th>\n",
       "      <th>PP</th>\n",
       "      <th>BC</th>\n",
       "      <th>TC</th>\n",
       "      <th>R1</th>\n",
       "      <th>S1</th>\n",
       "      <th>R2</th>\n",
       "      <th>S2</th>\n",
       "      <th>R3</th>\n",
       "      <th>S3</th>\n",
       "      <th>R4</th>\n",
       "      <th>S4</th>\n",
       "    </tr>\n",
       "    <tr>\n",
       "      <th>Date</th>\n",
       "      <th></th>\n",
       "      <th></th>\n",
       "      <th></th>\n",
       "      <th></th>\n",
       "      <th></th>\n",
       "      <th></th>\n",
       "      <th></th>\n",
       "      <th></th>\n",
       "      <th></th>\n",
       "      <th></th>\n",
       "      <th></th>\n",
       "      <th></th>\n",
       "      <th></th>\n",
       "      <th></th>\n",
       "      <th></th>\n",
       "      <th></th>\n",
       "      <th></th>\n",
       "      <th></th>\n",
       "      <th></th>\n",
       "      <th></th>\n",
       "    </tr>\n",
       "  </thead>\n",
       "  <tbody>\n",
       "    <tr>\n",
       "      <th>2010-06-29</th>\n",
       "      <td>1.266667</td>\n",
       "      <td>1.666667</td>\n",
       "      <td>1.169333</td>\n",
       "      <td>1.592667</td>\n",
       "      <td>1.592667</td>\n",
       "      <td>281494500</td>\n",
       "      <td>26</td>\n",
       "      <td>6</td>\n",
       "      <td>2010</td>\n",
       "      <td>NaN</td>\n",
       "      <td>NaN</td>\n",
       "      <td>NaN</td>\n",
       "      <td>NaN</td>\n",
       "      <td>NaN</td>\n",
       "      <td>NaN</td>\n",
       "      <td>NaN</td>\n",
       "      <td>NaN</td>\n",
       "      <td>NaN</td>\n",
       "      <td>NaN</td>\n",
       "      <td>NaN</td>\n",
       "    </tr>\n",
       "    <tr>\n",
       "      <th>2010-06-30</th>\n",
       "      <td>1.719333</td>\n",
       "      <td>2.028000</td>\n",
       "      <td>1.553333</td>\n",
       "      <td>1.588667</td>\n",
       "      <td>1.588667</td>\n",
       "      <td>257806500</td>\n",
       "      <td>26</td>\n",
       "      <td>6</td>\n",
       "      <td>2010</td>\n",
       "      <td>1.48</td>\n",
       "      <td>1.42</td>\n",
       "      <td>1.54</td>\n",
       "      <td>1.79</td>\n",
       "      <td>1.29</td>\n",
       "      <td>1.98</td>\n",
       "      <td>0.98</td>\n",
       "      <td>2.29</td>\n",
       "      <td>0.80</td>\n",
       "      <td>2.48</td>\n",
       "      <td>0.49</td>\n",
       "    </tr>\n",
       "    <tr>\n",
       "      <th>2010-07-01</th>\n",
       "      <td>1.666667</td>\n",
       "      <td>1.728000</td>\n",
       "      <td>1.351333</td>\n",
       "      <td>1.464000</td>\n",
       "      <td>1.464000</td>\n",
       "      <td>123282000</td>\n",
       "      <td>26</td>\n",
       "      <td>7</td>\n",
       "      <td>2010</td>\n",
       "      <td>1.72</td>\n",
       "      <td>1.79</td>\n",
       "      <td>1.65</td>\n",
       "      <td>1.89</td>\n",
       "      <td>1.41</td>\n",
       "      <td>2.19</td>\n",
       "      <td>1.25</td>\n",
       "      <td>2.36</td>\n",
       "      <td>0.94</td>\n",
       "      <td>2.66</td>\n",
       "      <td>0.78</td>\n",
       "    </tr>\n",
       "    <tr>\n",
       "      <th>2010-07-02</th>\n",
       "      <td>1.533333</td>\n",
       "      <td>1.540000</td>\n",
       "      <td>1.247333</td>\n",
       "      <td>1.280000</td>\n",
       "      <td>1.280000</td>\n",
       "      <td>77097000</td>\n",
       "      <td>26</td>\n",
       "      <td>7</td>\n",
       "      <td>2010</td>\n",
       "      <td>1.51</td>\n",
       "      <td>1.54</td>\n",
       "      <td>1.48</td>\n",
       "      <td>1.67</td>\n",
       "      <td>1.29</td>\n",
       "      <td>1.89</td>\n",
       "      <td>1.13</td>\n",
       "      <td>2.05</td>\n",
       "      <td>0.92</td>\n",
       "      <td>2.27</td>\n",
       "      <td>0.76</td>\n",
       "    </tr>\n",
       "    <tr>\n",
       "      <th>2010-07-06</th>\n",
       "      <td>1.333333</td>\n",
       "      <td>1.333333</td>\n",
       "      <td>1.055333</td>\n",
       "      <td>1.074000</td>\n",
       "      <td>1.074000</td>\n",
       "      <td>103003500</td>\n",
       "      <td>27</td>\n",
       "      <td>7</td>\n",
       "      <td>2010</td>\n",
       "      <td>1.36</td>\n",
       "      <td>1.39</td>\n",
       "      <td>1.33</td>\n",
       "      <td>1.47</td>\n",
       "      <td>1.18</td>\n",
       "      <td>1.65</td>\n",
       "      <td>1.07</td>\n",
       "      <td>1.77</td>\n",
       "      <td>0.89</td>\n",
       "      <td>1.95</td>\n",
       "      <td>0.78</td>\n",
       "    </tr>\n",
       "    <tr>\n",
       "      <th>...</th>\n",
       "      <td>...</td>\n",
       "      <td>...</td>\n",
       "      <td>...</td>\n",
       "      <td>...</td>\n",
       "      <td>...</td>\n",
       "      <td>...</td>\n",
       "      <td>...</td>\n",
       "      <td>...</td>\n",
       "      <td>...</td>\n",
       "      <td>...</td>\n",
       "      <td>...</td>\n",
       "      <td>...</td>\n",
       "      <td>...</td>\n",
       "      <td>...</td>\n",
       "      <td>...</td>\n",
       "      <td>...</td>\n",
       "      <td>...</td>\n",
       "      <td>...</td>\n",
       "      <td>...</td>\n",
       "      <td>...</td>\n",
       "    </tr>\n",
       "    <tr>\n",
       "      <th>2022-12-22</th>\n",
       "      <td>136.000000</td>\n",
       "      <td>136.630005</td>\n",
       "      <td>122.260002</td>\n",
       "      <td>125.349998</td>\n",
       "      <td>125.349998</td>\n",
       "      <td>210090300</td>\n",
       "      <td>51</td>\n",
       "      <td>12</td>\n",
       "      <td>2022</td>\n",
       "      <td>138.24</td>\n",
       "      <td>138.57</td>\n",
       "      <td>137.91</td>\n",
       "      <td>140.59</td>\n",
       "      <td>135.22</td>\n",
       "      <td>143.61</td>\n",
       "      <td>132.87</td>\n",
       "      <td>145.96</td>\n",
       "      <td>129.85</td>\n",
       "      <td>148.98</td>\n",
       "      <td>127.50</td>\n",
       "    </tr>\n",
       "    <tr>\n",
       "      <th>2022-12-23</th>\n",
       "      <td>126.370003</td>\n",
       "      <td>128.619995</td>\n",
       "      <td>121.019997</td>\n",
       "      <td>123.150002</td>\n",
       "      <td>123.150002</td>\n",
       "      <td>166396100</td>\n",
       "      <td>51</td>\n",
       "      <td>12</td>\n",
       "      <td>2022</td>\n",
       "      <td>128.08</td>\n",
       "      <td>129.45</td>\n",
       "      <td>126.71</td>\n",
       "      <td>133.90</td>\n",
       "      <td>119.53</td>\n",
       "      <td>142.45</td>\n",
       "      <td>113.71</td>\n",
       "      <td>148.27</td>\n",
       "      <td>105.16</td>\n",
       "      <td>156.82</td>\n",
       "      <td>99.34</td>\n",
       "    </tr>\n",
       "    <tr>\n",
       "      <th>2022-12-27</th>\n",
       "      <td>117.500000</td>\n",
       "      <td>119.669998</td>\n",
       "      <td>108.760002</td>\n",
       "      <td>109.099998</td>\n",
       "      <td>109.099998</td>\n",
       "      <td>208643400</td>\n",
       "      <td>52</td>\n",
       "      <td>12</td>\n",
       "      <td>2022</td>\n",
       "      <td>124.26</td>\n",
       "      <td>124.82</td>\n",
       "      <td>123.70</td>\n",
       "      <td>127.50</td>\n",
       "      <td>119.90</td>\n",
       "      <td>131.86</td>\n",
       "      <td>116.66</td>\n",
       "      <td>135.10</td>\n",
       "      <td>112.30</td>\n",
       "      <td>139.46</td>\n",
       "      <td>109.06</td>\n",
       "    </tr>\n",
       "    <tr>\n",
       "      <th>2022-12-28</th>\n",
       "      <td>110.349998</td>\n",
       "      <td>116.269997</td>\n",
       "      <td>108.239998</td>\n",
       "      <td>112.709999</td>\n",
       "      <td>112.709999</td>\n",
       "      <td>221070500</td>\n",
       "      <td>52</td>\n",
       "      <td>12</td>\n",
       "      <td>2022</td>\n",
       "      <td>112.51</td>\n",
       "      <td>114.22</td>\n",
       "      <td>110.80</td>\n",
       "      <td>116.26</td>\n",
       "      <td>105.35</td>\n",
       "      <td>123.42</td>\n",
       "      <td>101.60</td>\n",
       "      <td>127.17</td>\n",
       "      <td>94.44</td>\n",
       "      <td>134.33</td>\n",
       "      <td>90.69</td>\n",
       "    </tr>\n",
       "    <tr>\n",
       "      <th>2022-12-29</th>\n",
       "      <td>120.389999</td>\n",
       "      <td>123.570000</td>\n",
       "      <td>117.500000</td>\n",
       "      <td>121.820000</td>\n",
       "      <td>121.820000</td>\n",
       "      <td>219151900</td>\n",
       "      <td>52</td>\n",
       "      <td>12</td>\n",
       "      <td>2022</td>\n",
       "      <td>112.41</td>\n",
       "      <td>112.25</td>\n",
       "      <td>112.57</td>\n",
       "      <td>116.58</td>\n",
       "      <td>108.55</td>\n",
       "      <td>120.44</td>\n",
       "      <td>104.38</td>\n",
       "      <td>124.61</td>\n",
       "      <td>100.52</td>\n",
       "      <td>128.47</td>\n",
       "      <td>96.35</td>\n",
       "    </tr>\n",
       "  </tbody>\n",
       "</table>\n",
       "<p>3149 rows × 20 columns</p>\n",
       "</div>"
      ],
      "text/plain": [
       "                  Open        High         Low       Close   Adj Close  \\\n",
       "Date                                                                     \n",
       "2010-06-29    1.266667    1.666667    1.169333    1.592667    1.592667   \n",
       "2010-06-30    1.719333    2.028000    1.553333    1.588667    1.588667   \n",
       "2010-07-01    1.666667    1.728000    1.351333    1.464000    1.464000   \n",
       "2010-07-02    1.533333    1.540000    1.247333    1.280000    1.280000   \n",
       "2010-07-06    1.333333    1.333333    1.055333    1.074000    1.074000   \n",
       "...                ...         ...         ...         ...         ...   \n",
       "2022-12-22  136.000000  136.630005  122.260002  125.349998  125.349998   \n",
       "2022-12-23  126.370003  128.619995  121.019997  123.150002  123.150002   \n",
       "2022-12-27  117.500000  119.669998  108.760002  109.099998  109.099998   \n",
       "2022-12-28  110.349998  116.269997  108.239998  112.709999  112.709999   \n",
       "2022-12-29  120.389999  123.570000  117.500000  121.820000  121.820000   \n",
       "\n",
       "               Volume  week  month  year      PP      BC      TC      R1  \\\n",
       "Date                                                                       \n",
       "2010-06-29  281494500    26      6  2010     NaN     NaN     NaN     NaN   \n",
       "2010-06-30  257806500    26      6  2010    1.48    1.42    1.54    1.79   \n",
       "2010-07-01  123282000    26      7  2010    1.72    1.79    1.65    1.89   \n",
       "2010-07-02   77097000    26      7  2010    1.51    1.54    1.48    1.67   \n",
       "2010-07-06  103003500    27      7  2010    1.36    1.39    1.33    1.47   \n",
       "...               ...   ...    ...   ...     ...     ...     ...     ...   \n",
       "2022-12-22  210090300    51     12  2022  138.24  138.57  137.91  140.59   \n",
       "2022-12-23  166396100    51     12  2022  128.08  129.45  126.71  133.90   \n",
       "2022-12-27  208643400    52     12  2022  124.26  124.82  123.70  127.50   \n",
       "2022-12-28  221070500    52     12  2022  112.51  114.22  110.80  116.26   \n",
       "2022-12-29  219151900    52     12  2022  112.41  112.25  112.57  116.58   \n",
       "\n",
       "                S1      R2      S2      R3      S3      R4      S4  \n",
       "Date                                                                \n",
       "2010-06-29     NaN     NaN     NaN     NaN     NaN     NaN     NaN  \n",
       "2010-06-30    1.29    1.98    0.98    2.29    0.80    2.48    0.49  \n",
       "2010-07-01    1.41    2.19    1.25    2.36    0.94    2.66    0.78  \n",
       "2010-07-02    1.29    1.89    1.13    2.05    0.92    2.27    0.76  \n",
       "2010-07-06    1.18    1.65    1.07    1.77    0.89    1.95    0.78  \n",
       "...            ...     ...     ...     ...     ...     ...     ...  \n",
       "2022-12-22  135.22  143.61  132.87  145.96  129.85  148.98  127.50  \n",
       "2022-12-23  119.53  142.45  113.71  148.27  105.16  156.82   99.34  \n",
       "2022-12-27  119.90  131.86  116.66  135.10  112.30  139.46  109.06  \n",
       "2022-12-28  105.35  123.42  101.60  127.17   94.44  134.33   90.69  \n",
       "2022-12-29  108.55  120.44  104.38  124.61  100.52  128.47   96.35  \n",
       "\n",
       "[3149 rows x 20 columns]"
      ]
     },
     "execution_count": 26,
     "metadata": {},
     "output_type": "execute_result"
    }
   ],
   "source": [
    "daily_pivot"
   ]
  },
  {
   "cell_type": "code",
   "execution_count": 27,
   "id": "14d2ae27",
   "metadata": {},
   "outputs": [
    {
     "data": {
      "text/html": [
       "<div>\n",
       "<style scoped>\n",
       "    .dataframe tbody tr th:only-of-type {\n",
       "        vertical-align: middle;\n",
       "    }\n",
       "\n",
       "    .dataframe tbody tr th {\n",
       "        vertical-align: top;\n",
       "    }\n",
       "\n",
       "    .dataframe thead th {\n",
       "        text-align: right;\n",
       "    }\n",
       "</style>\n",
       "<table border=\"1\" class=\"dataframe\">\n",
       "  <thead>\n",
       "    <tr style=\"text-align: right;\">\n",
       "      <th></th>\n",
       "      <th>Open</th>\n",
       "      <th>High</th>\n",
       "      <th>Low</th>\n",
       "      <th>Close</th>\n",
       "      <th>Adj Close</th>\n",
       "      <th>Volume</th>\n",
       "      <th>week</th>\n",
       "      <th>year</th>\n",
       "      <th>PP</th>\n",
       "      <th>R1</th>\n",
       "      <th>S1</th>\n",
       "      <th>R2</th>\n",
       "      <th>S2</th>\n",
       "      <th>R3</th>\n",
       "      <th>S3</th>\n",
       "    </tr>\n",
       "    <tr>\n",
       "      <th>Date</th>\n",
       "      <th></th>\n",
       "      <th></th>\n",
       "      <th></th>\n",
       "      <th></th>\n",
       "      <th></th>\n",
       "      <th></th>\n",
       "      <th></th>\n",
       "      <th></th>\n",
       "      <th></th>\n",
       "      <th></th>\n",
       "      <th></th>\n",
       "      <th></th>\n",
       "      <th></th>\n",
       "      <th></th>\n",
       "      <th></th>\n",
       "    </tr>\n",
       "  </thead>\n",
       "  <tbody>\n",
       "    <tr>\n",
       "      <th>2010-06-28</th>\n",
       "      <td>1.266667</td>\n",
       "      <td>2.028000</td>\n",
       "      <td>1.169333</td>\n",
       "      <td>1.280000</td>\n",
       "      <td>1.280000</td>\n",
       "      <td>739680000.0</td>\n",
       "      <td>26</td>\n",
       "      <td>2010</td>\n",
       "      <td>NaN</td>\n",
       "      <td>NaN</td>\n",
       "      <td>NaN</td>\n",
       "      <td>NaN</td>\n",
       "      <td>NaN</td>\n",
       "      <td>NaN</td>\n",
       "      <td>NaN</td>\n",
       "    </tr>\n",
       "    <tr>\n",
       "      <th>2010-07-05</th>\n",
       "      <td>1.333333</td>\n",
       "      <td>1.333333</td>\n",
       "      <td>0.998667</td>\n",
       "      <td>1.160000</td>\n",
       "      <td>1.160000</td>\n",
       "      <td>383259000.0</td>\n",
       "      <td>27</td>\n",
       "      <td>2010</td>\n",
       "      <td>1.49</td>\n",
       "      <td>1.81</td>\n",
       "      <td>0.95</td>\n",
       "      <td>2.35</td>\n",
       "      <td>0.63</td>\n",
       "      <td>2.67</td>\n",
       "      <td>0.09</td>\n",
       "    </tr>\n",
       "    <tr>\n",
       "      <th>2010-07-12</th>\n",
       "      <td>1.196667</td>\n",
       "      <td>1.433333</td>\n",
       "      <td>1.126667</td>\n",
       "      <td>1.376000</td>\n",
       "      <td>1.376000</td>\n",
       "      <td>231583500.0</td>\n",
       "      <td>28</td>\n",
       "      <td>2010</td>\n",
       "      <td>1.16</td>\n",
       "      <td>1.32</td>\n",
       "      <td>0.99</td>\n",
       "      <td>1.49</td>\n",
       "      <td>0.83</td>\n",
       "      <td>1.66</td>\n",
       "      <td>0.65</td>\n",
       "    </tr>\n",
       "    <tr>\n",
       "      <th>2010-07-19</th>\n",
       "      <td>1.424667</td>\n",
       "      <td>1.483333</td>\n",
       "      <td>1.300000</td>\n",
       "      <td>1.419333</td>\n",
       "      <td>1.419333</td>\n",
       "      <td>107635500.0</td>\n",
       "      <td>29</td>\n",
       "      <td>2010</td>\n",
       "      <td>1.31</td>\n",
       "      <td>1.49</td>\n",
       "      <td>1.19</td>\n",
       "      <td>1.62</td>\n",
       "      <td>1.00</td>\n",
       "      <td>1.80</td>\n",
       "      <td>0.88</td>\n",
       "    </tr>\n",
       "    <tr>\n",
       "      <th>2010-07-26</th>\n",
       "      <td>1.433333</td>\n",
       "      <td>1.433333</td>\n",
       "      <td>1.303333</td>\n",
       "      <td>1.329333</td>\n",
       "      <td>1.329333</td>\n",
       "      <td>45780000.0</td>\n",
       "      <td>30</td>\n",
       "      <td>2010</td>\n",
       "      <td>1.40</td>\n",
       "      <td>1.50</td>\n",
       "      <td>1.32</td>\n",
       "      <td>1.58</td>\n",
       "      <td>1.22</td>\n",
       "      <td>1.68</td>\n",
       "      <td>1.13</td>\n",
       "    </tr>\n",
       "    <tr>\n",
       "      <th>...</th>\n",
       "      <td>...</td>\n",
       "      <td>...</td>\n",
       "      <td>...</td>\n",
       "      <td>...</td>\n",
       "      <td>...</td>\n",
       "      <td>...</td>\n",
       "      <td>...</td>\n",
       "      <td>...</td>\n",
       "      <td>...</td>\n",
       "      <td>...</td>\n",
       "      <td>...</td>\n",
       "      <td>...</td>\n",
       "      <td>...</td>\n",
       "      <td>...</td>\n",
       "      <td>...</td>\n",
       "    </tr>\n",
       "    <tr>\n",
       "      <th>2022-12-05</th>\n",
       "      <td>189.440002</td>\n",
       "      <td>191.270004</td>\n",
       "      <td>169.059998</td>\n",
       "      <td>179.050003</td>\n",
       "      <td>179.050003</td>\n",
       "      <td>471857900.0</td>\n",
       "      <td>49</td>\n",
       "      <td>2022</td>\n",
       "      <td>190.84</td>\n",
       "      <td>202.93</td>\n",
       "      <td>182.76</td>\n",
       "      <td>211.01</td>\n",
       "      <td>170.67</td>\n",
       "      <td>223.10</td>\n",
       "      <td>162.59</td>\n",
       "    </tr>\n",
       "    <tr>\n",
       "      <th>2022-12-12</th>\n",
       "      <td>176.100006</td>\n",
       "      <td>177.369995</td>\n",
       "      <td>150.039993</td>\n",
       "      <td>150.229996</td>\n",
       "      <td>150.229996</td>\n",
       "      <td>687133600.0</td>\n",
       "      <td>50</td>\n",
       "      <td>2022</td>\n",
       "      <td>179.79</td>\n",
       "      <td>190.52</td>\n",
       "      <td>168.31</td>\n",
       "      <td>202.00</td>\n",
       "      <td>157.58</td>\n",
       "      <td>212.73</td>\n",
       "      <td>146.10</td>\n",
       "    </tr>\n",
       "    <tr>\n",
       "      <th>2022-12-19</th>\n",
       "      <td>154.000000</td>\n",
       "      <td>155.250000</td>\n",
       "      <td>121.019997</td>\n",
       "      <td>123.150002</td>\n",
       "      <td>123.150002</td>\n",
       "      <td>820857700.0</td>\n",
       "      <td>51</td>\n",
       "      <td>2022</td>\n",
       "      <td>159.21</td>\n",
       "      <td>168.38</td>\n",
       "      <td>141.05</td>\n",
       "      <td>186.54</td>\n",
       "      <td>131.88</td>\n",
       "      <td>195.71</td>\n",
       "      <td>113.72</td>\n",
       "    </tr>\n",
       "    <tr>\n",
       "      <th>2022-12-26</th>\n",
       "      <td>117.500000</td>\n",
       "      <td>123.570000</td>\n",
       "      <td>108.239998</td>\n",
       "      <td>121.820000</td>\n",
       "      <td>121.820000</td>\n",
       "      <td>648865800.0</td>\n",
       "      <td>52</td>\n",
       "      <td>2022</td>\n",
       "      <td>133.14</td>\n",
       "      <td>145.26</td>\n",
       "      <td>111.03</td>\n",
       "      <td>167.37</td>\n",
       "      <td>98.91</td>\n",
       "      <td>179.49</td>\n",
       "      <td>76.80</td>\n",
       "    </tr>\n",
       "    <tr>\n",
       "      <th>2022-12-29</th>\n",
       "      <td>120.385002</td>\n",
       "      <td>123.570000</td>\n",
       "      <td>117.495003</td>\n",
       "      <td>121.820000</td>\n",
       "      <td>121.820000</td>\n",
       "      <td>219517411.0</td>\n",
       "      <td>52</td>\n",
       "      <td>2022</td>\n",
       "      <td>117.88</td>\n",
       "      <td>127.52</td>\n",
       "      <td>112.19</td>\n",
       "      <td>133.21</td>\n",
       "      <td>102.55</td>\n",
       "      <td>142.85</td>\n",
       "      <td>96.86</td>\n",
       "    </tr>\n",
       "  </tbody>\n",
       "</table>\n",
       "<p>655 rows × 15 columns</p>\n",
       "</div>"
      ],
      "text/plain": [
       "                  Open        High         Low       Close   Adj Close  \\\n",
       "Date                                                                     \n",
       "2010-06-28    1.266667    2.028000    1.169333    1.280000    1.280000   \n",
       "2010-07-05    1.333333    1.333333    0.998667    1.160000    1.160000   \n",
       "2010-07-12    1.196667    1.433333    1.126667    1.376000    1.376000   \n",
       "2010-07-19    1.424667    1.483333    1.300000    1.419333    1.419333   \n",
       "2010-07-26    1.433333    1.433333    1.303333    1.329333    1.329333   \n",
       "...                ...         ...         ...         ...         ...   \n",
       "2022-12-05  189.440002  191.270004  169.059998  179.050003  179.050003   \n",
       "2022-12-12  176.100006  177.369995  150.039993  150.229996  150.229996   \n",
       "2022-12-19  154.000000  155.250000  121.019997  123.150002  123.150002   \n",
       "2022-12-26  117.500000  123.570000  108.239998  121.820000  121.820000   \n",
       "2022-12-29  120.385002  123.570000  117.495003  121.820000  121.820000   \n",
       "\n",
       "                 Volume  week  year      PP      R1      S1      R2      S2  \\\n",
       "Date                                                                          \n",
       "2010-06-28  739680000.0    26  2010     NaN     NaN     NaN     NaN     NaN   \n",
       "2010-07-05  383259000.0    27  2010    1.49    1.81    0.95    2.35    0.63   \n",
       "2010-07-12  231583500.0    28  2010    1.16    1.32    0.99    1.49    0.83   \n",
       "2010-07-19  107635500.0    29  2010    1.31    1.49    1.19    1.62    1.00   \n",
       "2010-07-26   45780000.0    30  2010    1.40    1.50    1.32    1.58    1.22   \n",
       "...                 ...   ...   ...     ...     ...     ...     ...     ...   \n",
       "2022-12-05  471857900.0    49  2022  190.84  202.93  182.76  211.01  170.67   \n",
       "2022-12-12  687133600.0    50  2022  179.79  190.52  168.31  202.00  157.58   \n",
       "2022-12-19  820857700.0    51  2022  159.21  168.38  141.05  186.54  131.88   \n",
       "2022-12-26  648865800.0    52  2022  133.14  145.26  111.03  167.37   98.91   \n",
       "2022-12-29  219517411.0    52  2022  117.88  127.52  112.19  133.21  102.55   \n",
       "\n",
       "                R3      S3  \n",
       "Date                        \n",
       "2010-06-28     NaN     NaN  \n",
       "2010-07-05    2.67    0.09  \n",
       "2010-07-12    1.66    0.65  \n",
       "2010-07-19    1.80    0.88  \n",
       "2010-07-26    1.68    1.13  \n",
       "...            ...     ...  \n",
       "2022-12-05  223.10  162.59  \n",
       "2022-12-12  212.73  146.10  \n",
       "2022-12-19  195.71  113.72  \n",
       "2022-12-26  179.49   76.80  \n",
       "2022-12-29  142.85   96.86  \n",
       "\n",
       "[655 rows x 15 columns]"
      ]
     },
     "execution_count": 27,
     "metadata": {},
     "output_type": "execute_result"
    }
   ],
   "source": [
    "weekly_pivot"
   ]
  },
  {
   "cell_type": "code",
   "execution_count": 28,
   "id": "308e0ca5",
   "metadata": {},
   "outputs": [],
   "source": [
    "weekly_pivot=weekly_pivot[:-1]"
   ]
  },
  {
   "cell_type": "code",
   "execution_count": 29,
   "id": "8ed3348d",
   "metadata": {},
   "outputs": [
    {
     "data": {
      "text/html": [
       "<div>\n",
       "<style scoped>\n",
       "    .dataframe tbody tr th:only-of-type {\n",
       "        vertical-align: middle;\n",
       "    }\n",
       "\n",
       "    .dataframe tbody tr th {\n",
       "        vertical-align: top;\n",
       "    }\n",
       "\n",
       "    .dataframe thead th {\n",
       "        text-align: right;\n",
       "    }\n",
       "</style>\n",
       "<table border=\"1\" class=\"dataframe\">\n",
       "  <thead>\n",
       "    <tr style=\"text-align: right;\">\n",
       "      <th></th>\n",
       "      <th>Open</th>\n",
       "      <th>High</th>\n",
       "      <th>Low</th>\n",
       "      <th>Close</th>\n",
       "      <th>Adj Close</th>\n",
       "      <th>Volume</th>\n",
       "      <th>month</th>\n",
       "      <th>year</th>\n",
       "      <th>PP</th>\n",
       "      <th>R1</th>\n",
       "      <th>S1</th>\n",
       "      <th>R2</th>\n",
       "      <th>S2</th>\n",
       "      <th>R3</th>\n",
       "      <th>S3</th>\n",
       "    </tr>\n",
       "    <tr>\n",
       "      <th>Date</th>\n",
       "      <th></th>\n",
       "      <th></th>\n",
       "      <th></th>\n",
       "      <th></th>\n",
       "      <th></th>\n",
       "      <th></th>\n",
       "      <th></th>\n",
       "      <th></th>\n",
       "      <th></th>\n",
       "      <th></th>\n",
       "      <th></th>\n",
       "      <th></th>\n",
       "      <th></th>\n",
       "      <th></th>\n",
       "      <th></th>\n",
       "    </tr>\n",
       "  </thead>\n",
       "  <tbody>\n",
       "    <tr>\n",
       "      <th>2010-07-01</th>\n",
       "      <td>1.666667</td>\n",
       "      <td>1.728000</td>\n",
       "      <td>0.998667</td>\n",
       "      <td>1.329333</td>\n",
       "      <td>1.329333</td>\n",
       "      <td>9.686370e+08</td>\n",
       "      <td>7</td>\n",
       "      <td>2010</td>\n",
       "      <td>NaN</td>\n",
       "      <td>NaN</td>\n",
       "      <td>NaN</td>\n",
       "      <td>NaN</td>\n",
       "      <td>NaN</td>\n",
       "      <td>NaN</td>\n",
       "      <td>NaN</td>\n",
       "    </tr>\n",
       "    <tr>\n",
       "      <th>2010-08-01</th>\n",
       "      <td>1.366667</td>\n",
       "      <td>1.478667</td>\n",
       "      <td>1.159333</td>\n",
       "      <td>1.298667</td>\n",
       "      <td>1.298667</td>\n",
       "      <td>2.255730e+08</td>\n",
       "      <td>8</td>\n",
       "      <td>2010</td>\n",
       "      <td>1.35</td>\n",
       "      <td>1.70</td>\n",
       "      <td>0.97</td>\n",
       "      <td>2.08</td>\n",
       "      <td>0.62</td>\n",
       "      <td>2.43</td>\n",
       "      <td>0.24</td>\n",
       "    </tr>\n",
       "    <tr>\n",
       "      <th>2010-09-01</th>\n",
       "      <td>1.308000</td>\n",
       "      <td>1.544000</td>\n",
       "      <td>1.300000</td>\n",
       "      <td>1.360667</td>\n",
       "      <td>1.360667</td>\n",
       "      <td>2.706885e+08</td>\n",
       "      <td>9</td>\n",
       "      <td>2010</td>\n",
       "      <td>1.31</td>\n",
       "      <td>1.46</td>\n",
       "      <td>1.14</td>\n",
       "      <td>1.63</td>\n",
       "      <td>0.99</td>\n",
       "      <td>1.78</td>\n",
       "      <td>0.82</td>\n",
       "    </tr>\n",
       "    <tr>\n",
       "      <th>2010-10-01</th>\n",
       "      <td>1.379333</td>\n",
       "      <td>1.458000</td>\n",
       "      <td>1.333333</td>\n",
       "      <td>1.456000</td>\n",
       "      <td>1.456000</td>\n",
       "      <td>9.821700e+07</td>\n",
       "      <td>10</td>\n",
       "      <td>2010</td>\n",
       "      <td>1.40</td>\n",
       "      <td>1.50</td>\n",
       "      <td>1.26</td>\n",
       "      <td>1.64</td>\n",
       "      <td>1.16</td>\n",
       "      <td>1.74</td>\n",
       "      <td>1.01</td>\n",
       "    </tr>\n",
       "    <tr>\n",
       "      <th>2010-11-01</th>\n",
       "      <td>1.462667</td>\n",
       "      <td>2.400000</td>\n",
       "      <td>1.403333</td>\n",
       "      <td>2.355333</td>\n",
       "      <td>2.355333</td>\n",
       "      <td>4.247265e+08</td>\n",
       "      <td>11</td>\n",
       "      <td>2010</td>\n",
       "      <td>1.42</td>\n",
       "      <td>1.51</td>\n",
       "      <td>1.38</td>\n",
       "      <td>1.54</td>\n",
       "      <td>1.30</td>\n",
       "      <td>1.63</td>\n",
       "      <td>1.26</td>\n",
       "    </tr>\n",
       "    <tr>\n",
       "      <th>...</th>\n",
       "      <td>...</td>\n",
       "      <td>...</td>\n",
       "      <td>...</td>\n",
       "      <td>...</td>\n",
       "      <td>...</td>\n",
       "      <td>...</td>\n",
       "      <td>...</td>\n",
       "      <td>...</td>\n",
       "      <td>...</td>\n",
       "      <td>...</td>\n",
       "      <td>...</td>\n",
       "      <td>...</td>\n",
       "      <td>...</td>\n",
       "      <td>...</td>\n",
       "      <td>...</td>\n",
       "    </tr>\n",
       "    <tr>\n",
       "      <th>2022-09-01</th>\n",
       "      <td>272.579987</td>\n",
       "      <td>313.799988</td>\n",
       "      <td>262.470001</td>\n",
       "      <td>265.250000</td>\n",
       "      <td>265.250000</td>\n",
       "      <td>1.299271e+09</td>\n",
       "      <td>9</td>\n",
       "      <td>2022</td>\n",
       "      <td>NaN</td>\n",
       "      <td>NaN</td>\n",
       "      <td>NaN</td>\n",
       "      <td>NaN</td>\n",
       "      <td>NaN</td>\n",
       "      <td>NaN</td>\n",
       "      <td>NaN</td>\n",
       "    </tr>\n",
       "    <tr>\n",
       "      <th>2022-10-01</th>\n",
       "      <td>254.500000</td>\n",
       "      <td>257.500000</td>\n",
       "      <td>198.589996</td>\n",
       "      <td>227.539993</td>\n",
       "      <td>227.539993</td>\n",
       "      <td>1.735263e+09</td>\n",
       "      <td>10</td>\n",
       "      <td>2022</td>\n",
       "      <td>280.51</td>\n",
       "      <td>298.55</td>\n",
       "      <td>247.22</td>\n",
       "      <td>331.84</td>\n",
       "      <td>229.18</td>\n",
       "      <td>349.88</td>\n",
       "      <td>195.89</td>\n",
       "    </tr>\n",
       "    <tr>\n",
       "      <th>2022-11-01</th>\n",
       "      <td>234.050003</td>\n",
       "      <td>237.399994</td>\n",
       "      <td>166.190002</td>\n",
       "      <td>194.699997</td>\n",
       "      <td>194.699997</td>\n",
       "      <td>1.885275e+09</td>\n",
       "      <td>11</td>\n",
       "      <td>2022</td>\n",
       "      <td>227.88</td>\n",
       "      <td>257.17</td>\n",
       "      <td>198.26</td>\n",
       "      <td>286.79</td>\n",
       "      <td>168.97</td>\n",
       "      <td>316.08</td>\n",
       "      <td>139.35</td>\n",
       "    </tr>\n",
       "    <tr>\n",
       "      <th>2022-12-01</th>\n",
       "      <td>197.080002</td>\n",
       "      <td>198.919998</td>\n",
       "      <td>108.239998</td>\n",
       "      <td>121.820000</td>\n",
       "      <td>121.820000</td>\n",
       "      <td>2.782295e+09</td>\n",
       "      <td>12</td>\n",
       "      <td>2022</td>\n",
       "      <td>199.43</td>\n",
       "      <td>232.67</td>\n",
       "      <td>161.46</td>\n",
       "      <td>270.64</td>\n",
       "      <td>128.22</td>\n",
       "      <td>303.88</td>\n",
       "      <td>90.25</td>\n",
       "    </tr>\n",
       "    <tr>\n",
       "      <th>2022-12-29</th>\n",
       "      <td>120.385002</td>\n",
       "      <td>123.570000</td>\n",
       "      <td>117.495003</td>\n",
       "      <td>121.820000</td>\n",
       "      <td>121.820000</td>\n",
       "      <td>2.195174e+08</td>\n",
       "      <td>12</td>\n",
       "      <td>2022</td>\n",
       "      <td>142.99</td>\n",
       "      <td>177.74</td>\n",
       "      <td>87.06</td>\n",
       "      <td>233.67</td>\n",
       "      <td>52.31</td>\n",
       "      <td>268.42</td>\n",
       "      <td>-3.62</td>\n",
       "    </tr>\n",
       "  </tbody>\n",
       "</table>\n",
       "<p>153 rows × 15 columns</p>\n",
       "</div>"
      ],
      "text/plain": [
       "                  Open        High         Low       Close   Adj Close  \\\n",
       "Date                                                                     \n",
       "2010-07-01    1.666667    1.728000    0.998667    1.329333    1.329333   \n",
       "2010-08-01    1.366667    1.478667    1.159333    1.298667    1.298667   \n",
       "2010-09-01    1.308000    1.544000    1.300000    1.360667    1.360667   \n",
       "2010-10-01    1.379333    1.458000    1.333333    1.456000    1.456000   \n",
       "2010-11-01    1.462667    2.400000    1.403333    2.355333    2.355333   \n",
       "...                ...         ...         ...         ...         ...   \n",
       "2022-09-01  272.579987  313.799988  262.470001  265.250000  265.250000   \n",
       "2022-10-01  254.500000  257.500000  198.589996  227.539993  227.539993   \n",
       "2022-11-01  234.050003  237.399994  166.190002  194.699997  194.699997   \n",
       "2022-12-01  197.080002  198.919998  108.239998  121.820000  121.820000   \n",
       "2022-12-29  120.385002  123.570000  117.495003  121.820000  121.820000   \n",
       "\n",
       "                  Volume  month  year      PP      R1      S1      R2      S2  \\\n",
       "Date                                                                            \n",
       "2010-07-01  9.686370e+08      7  2010     NaN     NaN     NaN     NaN     NaN   \n",
       "2010-08-01  2.255730e+08      8  2010    1.35    1.70    0.97    2.08    0.62   \n",
       "2010-09-01  2.706885e+08      9  2010    1.31    1.46    1.14    1.63    0.99   \n",
       "2010-10-01  9.821700e+07     10  2010    1.40    1.50    1.26    1.64    1.16   \n",
       "2010-11-01  4.247265e+08     11  2010    1.42    1.51    1.38    1.54    1.30   \n",
       "...                  ...    ...   ...     ...     ...     ...     ...     ...   \n",
       "2022-09-01  1.299271e+09      9  2022     NaN     NaN     NaN     NaN     NaN   \n",
       "2022-10-01  1.735263e+09     10  2022  280.51  298.55  247.22  331.84  229.18   \n",
       "2022-11-01  1.885275e+09     11  2022  227.88  257.17  198.26  286.79  168.97   \n",
       "2022-12-01  2.782295e+09     12  2022  199.43  232.67  161.46  270.64  128.22   \n",
       "2022-12-29  2.195174e+08     12  2022  142.99  177.74   87.06  233.67   52.31   \n",
       "\n",
       "                R3      S3  \n",
       "Date                        \n",
       "2010-07-01     NaN     NaN  \n",
       "2010-08-01    2.43    0.24  \n",
       "2010-09-01    1.78    0.82  \n",
       "2010-10-01    1.74    1.01  \n",
       "2010-11-01    1.63    1.26  \n",
       "...            ...     ...  \n",
       "2022-09-01     NaN     NaN  \n",
       "2022-10-01  349.88  195.89  \n",
       "2022-11-01  316.08  139.35  \n",
       "2022-12-01  303.88   90.25  \n",
       "2022-12-29  268.42   -3.62  \n",
       "\n",
       "[153 rows x 15 columns]"
      ]
     },
     "execution_count": 29,
     "metadata": {},
     "output_type": "execute_result"
    }
   ],
   "source": [
    "monthly_pivot"
   ]
  },
  {
   "cell_type": "code",
   "execution_count": 30,
   "id": "75b596ed",
   "metadata": {},
   "outputs": [],
   "source": [
    "monthly_pivot=monthly_pivot[:-1]"
   ]
  },
  {
   "cell_type": "code",
   "execution_count": 171,
   "id": "74869fda",
   "metadata": {},
   "outputs": [
    {
     "name": "stdout",
     "output_type": "stream",
     "text": [
      "2022-11-25 00:00:00\n",
      "2022\n",
      "11\n",
      "25\n",
      "47\n"
     ]
    }
   ],
   "source": [
    "import datetime as dt\n",
    "today=dt.datetime(2022,11,25)\n",
    "print(today)\n",
    "print(today.year)\n",
    "print(today.month)\n",
    "print(today.day)\n",
    "print(today.isocalendar().week)    #getting the week of the year"
   ]
  },
  {
   "cell_type": "code",
   "execution_count": 83,
   "id": "0cbe29ce",
   "metadata": {},
   "outputs": [
    {
     "data": {
      "text/plain": [
       "Date\n",
       "1993-01-25    False\n",
       "1993-02-01    False\n",
       "1993-02-08    False\n",
       "1993-02-15    False\n",
       "1993-02-22    False\n",
       "              ...  \n",
       "2022-12-05    False\n",
       "2022-12-12    False\n",
       "2022-12-16    False\n",
       "2022-12-19    False\n",
       "2022-12-26    False\n",
       "Name: week, Length: 1682, dtype: bool"
      ]
     },
     "execution_count": 83,
     "metadata": {},
     "output_type": "execute_result"
    }
   ],
   "source": [
    "weekly_pivot[\"week\"]==today.isocalendar().week"
   ]
  },
  {
   "cell_type": "code",
   "execution_count": 84,
   "id": "735b18df",
   "metadata": {},
   "outputs": [
    {
     "data": {
      "text/plain": [
       "Date\n",
       "1993-01-25    False\n",
       "1993-02-01    False\n",
       "1993-02-08    False\n",
       "1993-02-15    False\n",
       "1993-02-22    False\n",
       "              ...  \n",
       "2022-12-05     True\n",
       "2022-12-12     True\n",
       "2022-12-16     True\n",
       "2022-12-19     True\n",
       "2022-12-26     True\n",
       "Name: year, Length: 1682, dtype: bool"
      ]
     },
     "execution_count": 84,
     "metadata": {},
     "output_type": "execute_result"
    }
   ],
   "source": [
    "weekly_pivot[\"year\"]==today.year"
   ]
  },
  {
   "cell_type": "code",
   "execution_count": 85,
   "id": "488d2550",
   "metadata": {},
   "outputs": [],
   "source": [
    "for i in range(len(weekly_pivot)):\n",
    "    if weekly_pivot[\"week\"][i]==today.isocalendar().week and weekly_pivot[\"year\"][i]==today.year:\n",
    "        week_index=i"
   ]
  },
  {
   "cell_type": "code",
   "execution_count": 86,
   "id": "74ba7a4d",
   "metadata": {},
   "outputs": [
    {
     "data": {
      "text/plain": [
       "Open         3.946400e+02\n",
       "High         4.029300e+02\n",
       "Low          3.926600e+02\n",
       "Close        4.023300e+02\n",
       "Adj Close    4.004909e+02\n",
       "Volume       2.104792e+08\n",
       "week         4.700000e+01\n",
       "year         2.022000e+03\n",
       "PP           3.961600e+02\n",
       "R1           4.021800e+02\n",
       "S1           3.900100e+02\n",
       "R2           4.083300e+02\n",
       "S2           3.839900e+02\n",
       "R3           4.143500e+02\n",
       "S3           3.778400e+02\n",
       "Name: 2022-11-21 00:00:00, dtype: float64"
      ]
     },
     "execution_count": 86,
     "metadata": {},
     "output_type": "execute_result"
    }
   ],
   "source": [
    "weekly_pivot.iloc[week_index]"
   ]
  },
  {
   "cell_type": "code",
   "execution_count": 87,
   "id": "35128bbf",
   "metadata": {},
   "outputs": [
    {
     "data": {
      "text/plain": [
       "402.18"
      ]
     },
     "execution_count": 87,
     "metadata": {},
     "output_type": "execute_result"
    }
   ],
   "source": [
    "weekly_pivot.iloc[week_index:][\"R1\"][0]\n"
   ]
  },
  {
   "cell_type": "code",
   "execution_count": 88,
   "id": "615a22df",
   "metadata": {},
   "outputs": [
    {
     "data": {
      "text/plain": [
       "390.01"
      ]
     },
     "execution_count": 88,
     "metadata": {},
     "output_type": "execute_result"
    }
   ],
   "source": [
    "weekly_pivot.iloc[week_index:][\"S1\"][0]\n"
   ]
  },
  {
   "cell_type": "code",
   "execution_count": 89,
   "id": "fc5f7c8c",
   "metadata": {},
   "outputs": [
    {
     "data": {
      "text/plain": [
       "396.16"
      ]
     },
     "execution_count": 89,
     "metadata": {},
     "output_type": "execute_result"
    }
   ],
   "source": [
    "weekly_pivot.iloc[week_index:][\"PP\"][0]\n"
   ]
  },
  {
   "cell_type": "code",
   "execution_count": null,
   "id": "4e31c94e",
   "metadata": {},
   "outputs": [],
   "source": [
    "for j in range(len(monthly_pivot)):\n",
    "    if monthly_pivot[\"month\"][j]==today.month and monthly_pivot[\"year\"][j]==today.year:\n",
    "        month_index=j\n",
    "        "
   ]
  },
  {
   "cell_type": "code",
   "execution_count": null,
   "id": "225cc38e",
   "metadata": {},
   "outputs": [],
   "source": [
    "monthly_pivot.iloc[month_index]"
   ]
  },
  {
   "cell_type": "code",
   "execution_count": null,
   "id": "32c2b139",
   "metadata": {},
   "outputs": [],
   "source": [
    "monthly_pivot.iloc[month_index:]['PP'][0]"
   ]
  },
  {
   "cell_type": "code",
   "execution_count": null,
   "id": "4ecac66f",
   "metadata": {},
   "outputs": [],
   "source": [
    "monthly_pivot.iloc[month_index:][\"S1\"][0]"
   ]
  },
  {
   "cell_type": "code",
   "execution_count": null,
   "id": "d9a8adc0",
   "metadata": {},
   "outputs": [],
   "source": [
    "monthly_pivot.iloc[month_index:][\"R1\"][0]"
   ]
  },
  {
   "cell_type": "code",
   "execution_count": null,
   "id": "3b8f50c7",
   "metadata": {},
   "outputs": [],
   "source": [
    "date='2022-11-25'\n",
    "daily_pivot.loc[date][\"Low\"]"
   ]
  },
  {
   "cell_type": "code",
   "execution_count": null,
   "id": "013b25b5",
   "metadata": {},
   "outputs": [],
   "source": [
    "daily_pivot.loc[date][\"PP\"]"
   ]
  },
  {
   "cell_type": "code",
   "execution_count": null,
   "id": "b247fc8e",
   "metadata": {},
   "outputs": [],
   "source": [
    "daily_pivot.loc[date][\"TC\"]"
   ]
  },
  {
   "cell_type": "code",
   "execution_count": null,
   "id": "9850353a",
   "metadata": {},
   "outputs": [],
   "source": [
    "daily_pivot.loc[date][\"BC\"]"
   ]
  },
  {
   "cell_type": "code",
   "execution_count": null,
   "id": "b7e15c34",
   "metadata": {},
   "outputs": [],
   "source": [
    "daily_pivot.loc[date][\"S1\"]"
   ]
  },
  {
   "cell_type": "code",
   "execution_count": null,
   "id": "f1128033",
   "metadata": {},
   "outputs": [],
   "source": [
    "daily_pivot.loc[date][\"R1\"]"
   ]
  },
  {
   "cell_type": "code",
   "execution_count": null,
   "id": "02808441",
   "metadata": {},
   "outputs": [],
   "source": [
    "daily_pivot.loc[date][\"R2\"]"
   ]
  },
  {
   "cell_type": "code",
   "execution_count": null,
   "id": "80c9d64e",
   "metadata": {},
   "outputs": [],
   "source": [
    "daily_pivot.loc[date][\"S2\"]"
   ]
  },
  {
   "cell_type": "code",
   "execution_count": null,
   "id": "3ec92649",
   "metadata": {},
   "outputs": [],
   "source": [
    "daily_pivot.shift(1).loc[date][\"High\"]"
   ]
  },
  {
   "cell_type": "code",
   "execution_count": null,
   "id": "e5d20e63",
   "metadata": {},
   "outputs": [],
   "source": [
    "#plot the candle stick"
   ]
  },
  {
   "cell_type": "code",
   "execution_count": 52,
   "id": "0a322043",
   "metadata": {},
   "outputs": [
    {
     "name": "stderr",
     "output_type": "stream",
     "text": [
      "/var/folders/0d/2q3_g9bj7tn1m1t1w5crmtvh0000gn/T/ipykernel_12970/255381238.py:3: FutureWarning: Indexing a DataFrame with a datetimelike index using a single string to slice the rows, like `frame[string]`, is deprecated and will be removed in a future version. Use `frame.loc[string]` instead.\n",
      "  mpf.plot(stock_intraday[date],type='candle',hlines=[400,np.nan])\n"
     ]
    },
    {
     "data": {
      "image/png": "[encoded data removed]",
      "text/plain": [
       "<Figure size 800x575 with 2 Axes>"
      ]
     },
     "metadata": {},
     "output_type": "display_data"
    }
   ],
   "source": [
    "import numpy as np\n",
    "\n",
    "mpf.plot(stock_intraday[date],type='candle',hlines=[400,np.nan])\n"
   ]
  },
  {
   "cell_type": "code",
   "execution_count": 42,
   "id": "06a8cd6c",
   "metadata": {},
   "outputs": [
    {
     "name": "stderr",
     "output_type": "stream",
     "text": [
      "/var/folders/0d/2q3_g9bj7tn1m1t1w5crmtvh0000gn/T/ipykernel_1222/388683785.py:1: FutureWarning: Indexing a DataFrame with a datetimelike index using a single string to slice the rows, like `frame[string]`, is deprecated and will be removed in a future version. Use `frame.loc[string]` instead.\n",
      "  type(stock_intraday[date]['Close'])\n"
     ]
    },
    {
     "data": {
      "text/plain": [
       "pandas.core.series.Series"
      ]
     },
     "execution_count": 42,
     "metadata": {},
     "output_type": "execute_result"
    }
   ],
   "source": [
    "type(stock_intraday[date]['Close'])"
   ]
  },
  {
   "cell_type": "code",
   "execution_count": 44,
   "id": "e1da2aa6",
   "metadata": {},
   "outputs": [
    {
     "name": "stderr",
     "output_type": "stream",
     "text": [
      "/var/folders/0d/2q3_g9bj7tn1m1t1w5crmtvh0000gn/T/ipykernel_1222/1566723399.py:1: FutureWarning: Indexing a DataFrame with a datetimelike index using a single string to slice the rows, like `frame[string]`, is deprecated and will be removed in a future version. Use `frame.loc[string]` instead.\n",
      "  adjusted_stock_intraday=stock_intraday[date]['Close']/3\n"
     ]
    }
   ],
   "source": [
    "adjusted_stock_intraday=stock_intraday[date]['Close']/3"
   ]
  },
  {
   "cell_type": "code",
   "execution_count": 45,
   "id": "dece9655",
   "metadata": {},
   "outputs": [
    {
     "data": {
      "text/plain": [
       "<AxesSubplot:xlabel='Datetime'>"
      ]
     },
     "execution_count": 45,
     "metadata": {},
     "output_type": "execute_result"
    },
    {
     "data": {
      "image/png": "[encoded data removed]",
      "text/plain": [
       "<Figure size 640x480 with 1 Axes>"
      ]
     },
     "metadata": {},
     "output_type": "display_data"
    }
   ],
   "source": [
    "adjusted_stock_intraday.plot()"
   ]
  },
  {
   "cell_type": "code",
   "execution_count": 48,
   "id": "0d6a92e5",
   "metadata": {},
   "outputs": [],
   "source": [
    "dummy_date=dt.datetime(2022,5,25)"
   ]
  },
  {
   "cell_type": "code",
   "execution_count": 49,
   "id": "f1817d79",
   "metadata": {},
   "outputs": [
    {
     "name": "stdout",
     "output_type": "stream",
     "text": [
      "2022-05-25 00:00:00\n"
     ]
    }
   ],
   "source": [
    "if dummy_date<dt.datetime(2022,8,25):\n",
    "    stock_intraday[date][\"Close\"]"
   ]
  },
  {
   "cell_type": "code",
   "execution_count": 53,
   "id": "e475f4ba",
   "metadata": {
    "scrolled": false
   },
   "outputs": [
    {
     "name": "stderr",
     "output_type": "stream",
     "text": [
      "/var/folders/0d/2q3_g9bj7tn1m1t1w5crmtvh0000gn/T/ipykernel_1222/3013121581.py:95: FutureWarning: Indexing a DataFrame with a datetimelike index using a single string to slice the rows, like `frame[string]`, is deprecated and will be removed in a future version. Use `frame.loc[string]` instead.\n",
      "  stock_intraday[date]=stock_intraday[date]/3\n"
     ]
    },
    {
     "ename": "TypeError",
     "evalue": "cannot perform __truediv__ with this index type: DatetimeArray",
     "output_type": "error",
     "traceback": [
      "\u001b[0;31m---------------------------------------------------------------------------\u001b[0m",
      "\u001b[0;31mTypeError\u001b[0m                                 Traceback (most recent call last)",
      "\u001b[0;32m/var/folders/0d/2q3_g9bj7tn1m1t1w5crmtvh0000gn/T/ipykernel_1222/3013121581.py\u001b[0m in \u001b[0;36m<module>\u001b[0;34m\u001b[0m\n\u001b[1;32m     93\u001b[0m \u001b[0;31m##only for stock split\u001b[0m\u001b[0;34m\u001b[0m\u001b[0;34m\u001b[0m\u001b[0m\n\u001b[1;32m     94\u001b[0m \u001b[0;32mif\u001b[0m \u001b[0mdate1\u001b[0m\u001b[0;34m<\u001b[0m\u001b[0mdt\u001b[0m\u001b[0;34m.\u001b[0m\u001b[0mdatetime\u001b[0m\u001b[0;34m(\u001b[0m\u001b[0;36m2022\u001b[0m\u001b[0;34m,\u001b[0m\u001b[0;36m8\u001b[0m\u001b[0;34m,\u001b[0m\u001b[0;36m25\u001b[0m\u001b[0;34m)\u001b[0m\u001b[0;34m:\u001b[0m\u001b[0;34m\u001b[0m\u001b[0;34m\u001b[0m\u001b[0m\n\u001b[0;32m---> 95\u001b[0;31m     \u001b[0mstock_intraday\u001b[0m\u001b[0;34m[\u001b[0m\u001b[0mdate\u001b[0m\u001b[0;34m]\u001b[0m\u001b[0;34m=\u001b[0m\u001b[0mstock_intraday\u001b[0m\u001b[0;34m[\u001b[0m\u001b[0mdate\u001b[0m\u001b[0;34m]\u001b[0m\u001b[0;34m/\u001b[0m\u001b[0;36m3\u001b[0m\u001b[0;34m\u001b[0m\u001b[0;34m\u001b[0m\u001b[0m\n\u001b[0m\u001b[1;32m     96\u001b[0m \u001b[0;34m\u001b[0m\u001b[0m\n\u001b[1;32m     97\u001b[0m mpf.plot(stock_intraday[date],type='candle',\n",
      "\u001b[0;32m~/opt/anaconda3/lib/python3.9/site-packages/pandas/core/ops/common.py\u001b[0m in \u001b[0;36mnew_method\u001b[0;34m(self, other)\u001b[0m\n\u001b[1;32m     68\u001b[0m         \u001b[0mother\u001b[0m \u001b[0;34m=\u001b[0m \u001b[0mitem_from_zerodim\u001b[0m\u001b[0;34m(\u001b[0m\u001b[0mother\u001b[0m\u001b[0;34m)\u001b[0m\u001b[0;34m\u001b[0m\u001b[0;34m\u001b[0m\u001b[0m\n\u001b[1;32m     69\u001b[0m \u001b[0;34m\u001b[0m\u001b[0m\n\u001b[0;32m---> 70\u001b[0;31m         \u001b[0;32mreturn\u001b[0m \u001b[0mmethod\u001b[0m\u001b[0;34m(\u001b[0m\u001b[0mself\u001b[0m\u001b[0;34m,\u001b[0m \u001b[0mother\u001b[0m\u001b[0;34m)\u001b[0m\u001b[0;34m\u001b[0m\u001b[0;34m\u001b[0m\u001b[0m\n\u001b[0m\u001b[1;32m     71\u001b[0m \u001b[0;34m\u001b[0m\u001b[0m\n\u001b[1;32m     72\u001b[0m     \u001b[0;32mreturn\u001b[0m \u001b[0mnew_method\u001b[0m\u001b[0;34m\u001b[0m\u001b[0;34m\u001b[0m\u001b[0m\n",
      "\u001b[0;32m~/opt/anaconda3/lib/python3.9/site-packages/pandas/core/arraylike.py\u001b[0m in \u001b[0;36m__truediv__\u001b[0;34m(self, other)\u001b[0m\n\u001b[1;32m    122\u001b[0m     \u001b[0;34m@\u001b[0m\u001b[0munpack_zerodim_and_defer\u001b[0m\u001b[0;34m(\u001b[0m\u001b[0;34m\"__truediv__\"\u001b[0m\u001b[0;34m)\u001b[0m\u001b[0;34m\u001b[0m\u001b[0;34m\u001b[0m\u001b[0m\n\u001b[1;32m    123\u001b[0m     \u001b[0;32mdef\u001b[0m \u001b[0m__truediv__\u001b[0m\u001b[0;34m(\u001b[0m\u001b[0mself\u001b[0m\u001b[0;34m,\u001b[0m \u001b[0mother\u001b[0m\u001b[0;34m)\u001b[0m\u001b[0;34m:\u001b[0m\u001b[0;34m\u001b[0m\u001b[0;34m\u001b[0m\u001b[0m\n\u001b[0;32m--> 124\u001b[0;31m         \u001b[0;32mreturn\u001b[0m \u001b[0mself\u001b[0m\u001b[0;34m.\u001b[0m\u001b[0m_arith_method\u001b[0m\u001b[0;34m(\u001b[0m\u001b[0mother\u001b[0m\u001b[0;34m,\u001b[0m \u001b[0moperator\u001b[0m\u001b[0;34m.\u001b[0m\u001b[0mtruediv\u001b[0m\u001b[0;34m)\u001b[0m\u001b[0;34m\u001b[0m\u001b[0;34m\u001b[0m\u001b[0m\n\u001b[0m\u001b[1;32m    125\u001b[0m \u001b[0;34m\u001b[0m\u001b[0m\n\u001b[1;32m    126\u001b[0m     \u001b[0;34m@\u001b[0m\u001b[0munpack_zerodim_and_defer\u001b[0m\u001b[0;34m(\u001b[0m\u001b[0;34m\"__rtruediv__\"\u001b[0m\u001b[0;34m)\u001b[0m\u001b[0;34m\u001b[0m\u001b[0;34m\u001b[0m\u001b[0m\n",
      "\u001b[0;32m~/opt/anaconda3/lib/python3.9/site-packages/pandas/core/frame.py\u001b[0m in \u001b[0;36m_arith_method\u001b[0;34m(self, other, op)\u001b[0m\n\u001b[1;32m   6953\u001b[0m         \u001b[0mself\u001b[0m\u001b[0;34m,\u001b[0m \u001b[0mother\u001b[0m \u001b[0;34m=\u001b[0m \u001b[0mops\u001b[0m\u001b[0;34m.\u001b[0m\u001b[0malign_method_FRAME\u001b[0m\u001b[0;34m(\u001b[0m\u001b[0mself\u001b[0m\u001b[0;34m,\u001b[0m \u001b[0mother\u001b[0m\u001b[0;34m,\u001b[0m \u001b[0maxis\u001b[0m\u001b[0;34m,\u001b[0m \u001b[0mflex\u001b[0m\u001b[0;34m=\u001b[0m\u001b[0;32mTrue\u001b[0m\u001b[0;34m,\u001b[0m \u001b[0mlevel\u001b[0m\u001b[0;34m=\u001b[0m\u001b[0;32mNone\u001b[0m\u001b[0;34m)\u001b[0m\u001b[0;34m\u001b[0m\u001b[0;34m\u001b[0m\u001b[0m\n\u001b[1;32m   6954\u001b[0m \u001b[0;34m\u001b[0m\u001b[0m\n\u001b[0;32m-> 6955\u001b[0;31m         \u001b[0mnew_data\u001b[0m \u001b[0;34m=\u001b[0m \u001b[0mself\u001b[0m\u001b[0;34m.\u001b[0m\u001b[0m_dispatch_frame_op\u001b[0m\u001b[0;34m(\u001b[0m\u001b[0mother\u001b[0m\u001b[0;34m,\u001b[0m \u001b[0mop\u001b[0m\u001b[0;34m,\u001b[0m \u001b[0maxis\u001b[0m\u001b[0;34m=\u001b[0m\u001b[0maxis\u001b[0m\u001b[0;34m)\u001b[0m\u001b[0;34m\u001b[0m\u001b[0;34m\u001b[0m\u001b[0m\n\u001b[0m\u001b[1;32m   6956\u001b[0m         \u001b[0;32mreturn\u001b[0m \u001b[0mself\u001b[0m\u001b[0;34m.\u001b[0m\u001b[0m_construct_result\u001b[0m\u001b[0;34m(\u001b[0m\u001b[0mnew_data\u001b[0m\u001b[0;34m)\u001b[0m\u001b[0;34m\u001b[0m\u001b[0;34m\u001b[0m\u001b[0m\n\u001b[1;32m   6957\u001b[0m \u001b[0;34m\u001b[0m\u001b[0m\n",
      "\u001b[0;32m~/opt/anaconda3/lib/python3.9/site-packages/pandas/core/frame.py\u001b[0m in \u001b[0;36m_dispatch_frame_op\u001b[0;34m(self, right, func, axis)\u001b[0m\n\u001b[1;32m   6980\u001b[0m             \u001b[0;31m# i.e. scalar, faster than checking np.ndim(right) == 0\u001b[0m\u001b[0;34m\u001b[0m\u001b[0;34m\u001b[0m\u001b[0m\n\u001b[1;32m   6981\u001b[0m             \u001b[0;32mwith\u001b[0m \u001b[0mnp\u001b[0m\u001b[0;34m.\u001b[0m\u001b[0merrstate\u001b[0m\u001b[0;34m(\u001b[0m\u001b[0mall\u001b[0m\u001b[0;34m=\u001b[0m\u001b[0;34m\"ignore\"\u001b[0m\u001b[0;34m)\u001b[0m\u001b[0;34m:\u001b[0m\u001b[0;34m\u001b[0m\u001b[0;34m\u001b[0m\u001b[0m\n\u001b[0;32m-> 6982\u001b[0;31m                 \u001b[0mbm\u001b[0m \u001b[0;34m=\u001b[0m \u001b[0mself\u001b[0m\u001b[0;34m.\u001b[0m\u001b[0m_mgr\u001b[0m\u001b[0;34m.\u001b[0m\u001b[0mapply\u001b[0m\u001b[0;34m(\u001b[0m\u001b[0marray_op\u001b[0m\u001b[0;34m,\u001b[0m \u001b[0mright\u001b[0m\u001b[0;34m=\u001b[0m\u001b[0mright\u001b[0m\u001b[0;34m)\u001b[0m\u001b[0;34m\u001b[0m\u001b[0;34m\u001b[0m\u001b[0m\n\u001b[0m\u001b[1;32m   6983\u001b[0m             \u001b[0;32mreturn\u001b[0m \u001b[0mself\u001b[0m\u001b[0;34m.\u001b[0m\u001b[0m_constructor\u001b[0m\u001b[0;34m(\u001b[0m\u001b[0mbm\u001b[0m\u001b[0;34m)\u001b[0m\u001b[0;34m\u001b[0m\u001b[0;34m\u001b[0m\u001b[0m\n\u001b[1;32m   6984\u001b[0m \u001b[0;34m\u001b[0m\u001b[0m\n",
      "\u001b[0;32m~/opt/anaconda3/lib/python3.9/site-packages/pandas/core/internals/managers.py\u001b[0m in \u001b[0;36mapply\u001b[0;34m(self, f, align_keys, ignore_failures, **kwargs)\u001b[0m\n\u001b[1;32m    300\u001b[0m             \u001b[0;32mtry\u001b[0m\u001b[0;34m:\u001b[0m\u001b[0;34m\u001b[0m\u001b[0;34m\u001b[0m\u001b[0m\n\u001b[1;32m    301\u001b[0m                 \u001b[0;32mif\u001b[0m \u001b[0mcallable\u001b[0m\u001b[0;34m(\u001b[0m\u001b[0mf\u001b[0m\u001b[0;34m)\u001b[0m\u001b[0;34m:\u001b[0m\u001b[0;34m\u001b[0m\u001b[0;34m\u001b[0m\u001b[0m\n\u001b[0;32m--> 302\u001b[0;31m                     \u001b[0mapplied\u001b[0m \u001b[0;34m=\u001b[0m \u001b[0mb\u001b[0m\u001b[0;34m.\u001b[0m\u001b[0mapply\u001b[0m\u001b[0;34m(\u001b[0m\u001b[0mf\u001b[0m\u001b[0;34m,\u001b[0m \u001b[0;34m**\u001b[0m\u001b[0mkwargs\u001b[0m\u001b[0;34m)\u001b[0m\u001b[0;34m\u001b[0m\u001b[0;34m\u001b[0m\u001b[0m\n\u001b[0m\u001b[1;32m    303\u001b[0m                 \u001b[0;32melse\u001b[0m\u001b[0;34m:\u001b[0m\u001b[0;34m\u001b[0m\u001b[0;34m\u001b[0m\u001b[0m\n\u001b[1;32m    304\u001b[0m                     \u001b[0mapplied\u001b[0m \u001b[0;34m=\u001b[0m \u001b[0mgetattr\u001b[0m\u001b[0;34m(\u001b[0m\u001b[0mb\u001b[0m\u001b[0;34m,\u001b[0m \u001b[0mf\u001b[0m\u001b[0;34m)\u001b[0m\u001b[0;34m(\u001b[0m\u001b[0;34m**\u001b[0m\u001b[0mkwargs\u001b[0m\u001b[0;34m)\u001b[0m\u001b[0;34m\u001b[0m\u001b[0;34m\u001b[0m\u001b[0m\n",
      "\u001b[0;32m~/opt/anaconda3/lib/python3.9/site-packages/pandas/core/internals/blocks.py\u001b[0m in \u001b[0;36mapply\u001b[0;34m(self, func, **kwargs)\u001b[0m\n\u001b[1;32m    400\u001b[0m         \u001b[0mone\u001b[0m\u001b[0;34m\u001b[0m\u001b[0;34m\u001b[0m\u001b[0m\n\u001b[1;32m    401\u001b[0m         \"\"\"\n\u001b[0;32m--> 402\u001b[0;31m         \u001b[0mresult\u001b[0m \u001b[0;34m=\u001b[0m \u001b[0mfunc\u001b[0m\u001b[0;34m(\u001b[0m\u001b[0mself\u001b[0m\u001b[0;34m.\u001b[0m\u001b[0mvalues\u001b[0m\u001b[0;34m,\u001b[0m \u001b[0;34m**\u001b[0m\u001b[0mkwargs\u001b[0m\u001b[0;34m)\u001b[0m\u001b[0;34m\u001b[0m\u001b[0;34m\u001b[0m\u001b[0m\n\u001b[0m\u001b[1;32m    403\u001b[0m \u001b[0;34m\u001b[0m\u001b[0m\n\u001b[1;32m    404\u001b[0m         \u001b[0;32mreturn\u001b[0m \u001b[0mself\u001b[0m\u001b[0;34m.\u001b[0m\u001b[0m_split_op_result\u001b[0m\u001b[0;34m(\u001b[0m\u001b[0mresult\u001b[0m\u001b[0;34m)\u001b[0m\u001b[0;34m\u001b[0m\u001b[0;34m\u001b[0m\u001b[0m\n",
      "\u001b[0;32m~/opt/anaconda3/lib/python3.9/site-packages/pandas/core/ops/array_ops.py\u001b[0m in \u001b[0;36marithmetic_op\u001b[0;34m(left, right, op)\u001b[0m\n\u001b[1;32m    214\u001b[0m         \u001b[0;31m# Timedelta/Timestamp and other custom scalars are included in the check\u001b[0m\u001b[0;34m\u001b[0m\u001b[0;34m\u001b[0m\u001b[0m\n\u001b[1;32m    215\u001b[0m         \u001b[0;31m# because numexpr will fail on it, see GH#31457\u001b[0m\u001b[0;34m\u001b[0m\u001b[0;34m\u001b[0m\u001b[0m\n\u001b[0;32m--> 216\u001b[0;31m         \u001b[0mres_values\u001b[0m \u001b[0;34m=\u001b[0m \u001b[0mop\u001b[0m\u001b[0;34m(\u001b[0m\u001b[0mleft\u001b[0m\u001b[0;34m,\u001b[0m \u001b[0mright\u001b[0m\u001b[0;34m)\u001b[0m\u001b[0;34m\u001b[0m\u001b[0;34m\u001b[0m\u001b[0m\n\u001b[0m\u001b[1;32m    217\u001b[0m     \u001b[0;32melse\u001b[0m\u001b[0;34m:\u001b[0m\u001b[0;34m\u001b[0m\u001b[0;34m\u001b[0m\u001b[0m\n\u001b[1;32m    218\u001b[0m         \u001b[0;31m# TODO we should handle EAs consistently and move this check before the if/else\u001b[0m\u001b[0;34m\u001b[0m\u001b[0;34m\u001b[0m\u001b[0m\n",
      "\u001b[0;32m~/opt/anaconda3/lib/python3.9/site-packages/pandas/core/ops/invalid.py\u001b[0m in \u001b[0;36minvalid_op\u001b[0;34m(self, other)\u001b[0m\n\u001b[1;32m     51\u001b[0m     \u001b[0;32mdef\u001b[0m \u001b[0minvalid_op\u001b[0m\u001b[0;34m(\u001b[0m\u001b[0mself\u001b[0m\u001b[0;34m,\u001b[0m \u001b[0mother\u001b[0m\u001b[0;34m=\u001b[0m\u001b[0;32mNone\u001b[0m\u001b[0;34m)\u001b[0m\u001b[0;34m:\u001b[0m\u001b[0;34m\u001b[0m\u001b[0;34m\u001b[0m\u001b[0m\n\u001b[1;32m     52\u001b[0m         \u001b[0mtyp\u001b[0m \u001b[0;34m=\u001b[0m \u001b[0mtype\u001b[0m\u001b[0;34m(\u001b[0m\u001b[0mself\u001b[0m\u001b[0;34m)\u001b[0m\u001b[0;34m.\u001b[0m\u001b[0m__name__\u001b[0m\u001b[0;34m\u001b[0m\u001b[0;34m\u001b[0m\u001b[0m\n\u001b[0;32m---> 53\u001b[0;31m         \u001b[0;32mraise\u001b[0m \u001b[0mTypeError\u001b[0m\u001b[0;34m(\u001b[0m\u001b[0;34mf\"cannot perform {name} with this index type: {typ}\"\u001b[0m\u001b[0;34m)\u001b[0m\u001b[0;34m\u001b[0m\u001b[0;34m\u001b[0m\u001b[0m\n\u001b[0m\u001b[1;32m     54\u001b[0m \u001b[0;34m\u001b[0m\u001b[0m\n\u001b[1;32m     55\u001b[0m     \u001b[0minvalid_op\u001b[0m\u001b[0;34m.\u001b[0m\u001b[0m__name__\u001b[0m \u001b[0;34m=\u001b[0m \u001b[0mname\u001b[0m\u001b[0;34m\u001b[0m\u001b[0;34m\u001b[0m\u001b[0m\n",
      "\u001b[0;31mTypeError\u001b[0m: cannot perform __truediv__ with this index type: DatetimeArray"
     ]
    }
   ],
   "source": [
    "import datetime as dt\n",
    "\n",
    "date1=dt.datetime(2022,8,24)\n",
    "date='2022-08-24'\n",
    "\n",
    "#stock_intraday[date][\"Adj Close\"].plot()\n",
    "#plot daily pivots\n",
    "daily_pp=daily_pivot.loc[date][\"PP\"]\n",
    "daily_bc=daily_pivot.loc[date][\"BC\"]\n",
    "daily_tc=daily_pivot.loc[date][\"TC\"]\n",
    "\n",
    "daily_r1=daily_pivot.loc[date][\"R1\"]\n",
    "daily_s1=daily_pivot.loc[date][\"S1\"]\n",
    "\n",
    "if stock_daily.loc[date][\"Low\"]<daily_pivot.loc[date][\"R2\"]<stock_daily.loc[date][\"High\"]:\n",
    "    daily_r2=daily_pivot.loc[date][\"R2\"]\n",
    "else:\n",
    "    daily_r2=np.nan\n",
    "        \n",
    "if stock_daily.loc[date][\"Low\"]<daily_pivot.loc[date][\"S2\"]<stock_daily.loc[date][\"High\"]:\n",
    "    daily_s2=daily_pivot.loc[date][\"S2\"]\n",
    "else:\n",
    "    daily_s2=np.nan\n",
    "    \n",
    "if stock_daily.loc[date][\"Low\"]<daily_pivot.loc[date][\"R3\"]<stock_daily.loc[date][\"High\"]:\n",
    "    daily_r3=daily_pivot.loc[date][\"R3\"]\n",
    "else:\n",
    "    daily_r3=np.nan\n",
    "    \n",
    "if stock_daily.loc[date][\"Low\"]<daily_pivot.loc[date][\"S3\"]<stock_daily.loc[date][\"High\"]:\n",
    "    daily_s3=daily_pivot.loc[date][\"S3\"]\n",
    "else:\n",
    "    daily_s3=np.nan\n",
    "\n",
    "if stock_daily.loc[date][\"Low\"]<daily_pivot.loc[date][\"R4\"]<stock_daily.loc[date][\"High\"]:\n",
    "    daily_r4=daily_pivot.loc[date][\"R4\"]\n",
    "else:\n",
    "    daily_r4=np.nan\n",
    "    \n",
    "if stock_daily.loc[date][\"Low\"]<daily_pivot.loc[date][\"S4\"]<stock_daily.loc[date][\"High\"]:\n",
    "    daily_s4=daily_pivot.loc[date][\"S4\"]\n",
    "else:\n",
    "    daily_s4=np.nan\n",
    "    \n",
    "#plt.axhline(y=daily_pivot.loc[date][\"PP\"],color='b',linestyle='-')\n",
    "#plt.axhline(y=daily_pivot.loc[date][\"TC\"],color='b',linestyle='--')\n",
    "#plt.axhline(y=daily_pivot.loc[date][\"BC\"],color='b',linestyle='--')\n",
    "\n",
    "#plt.axhline(y=daily_pivot.loc[date][\"R1\"],color='b',linestyle='--')\n",
    "#plt.axhline(y=daily_pivot.loc[date][\"S1\"],color='b',linestyle='--')\n",
    "\n",
    "i=0\n",
    "j=0\n",
    "#plot weekly pivots\n",
    "for i in range(len(weekly_pivot)):\n",
    "    if weekly_pivot[\"week\"][i]==date1.isocalendar().week and weekly_pivot[\"year\"][i]==date1.year:\n",
    "        index_week=i\n",
    "if stock_daily.loc[date][\"Low\"]<weekly_pivot.iloc[index_week:][\"PP\"][0]<stock_daily.loc[date][\"High\"]:\n",
    "    weekly_pp=weekly_pivot.iloc[index_week:][\"PP\"][0]\n",
    "else:\n",
    "    weekly_pp=np.nan\n",
    "    \n",
    "if stock_daily.loc[date][\"Low\"]<weekly_pivot.iloc[index_week:][\"R1\"][0]<stock_daily.loc[date][\"High\"]:\n",
    "    weekly_r1=weekly_pivot.iloc[index_week:][\"R1\"][0]\n",
    "else:\n",
    "    weekly_r1=np.nan\n",
    "if stock_daily.loc[date][\"Low\"]<weekly_pivot.iloc[index_week:][\"S1\"][0]<stock_daily.loc[date][\"High\"]:\n",
    "    weekly_s1=weekly_pivot.iloc[index_week:][\"S1\"][0]\n",
    "else:\n",
    "    weekly_s1=np.nan\n",
    "    \n",
    "for j in range(len(monthly_pivot)):\n",
    "    if monthly_pivot[\"month\"][j]==date1.month and monthly_pivot[\"year\"][j]==date1.year:\n",
    "        index_month=j\n",
    "        \n",
    "#plot monthly pivots\n",
    "if stock_daily.loc[date][\"Low\"]<monthly_pivot.iloc[index_month:]['PP'][0]<stock_daily.loc[date][\"High\"]:\n",
    "    monthly_pp=monthly_pivot.iloc[index_month:]['PP'][0]\n",
    "else:\n",
    "    monthly_pp=np.nan\n",
    "if stock_daily.loc[date][\"Low\"]<monthly_pivot.iloc[index_month:]['R1'][0]<stock_daily.loc[date][\"High\"]:\n",
    "    monthly_r1=monthly_pivot.iloc[index_month:]['R1'][0]\n",
    "else:\n",
    "    monthly_r1=np.nan\n",
    "if stock_daily.loc[date][\"Low\"]<monthly_pivot.iloc[index_month:]['S1'][0]<stock_daily.loc[date][\"High\"]:\n",
    "    monthly_s1=monthly_pivot.iloc[index_month:]['S1'][0]\n",
    "else:\n",
    "    monthly_s1=np.nan\n",
    "    \n",
    "yes_high=daily_pivot.shift(1).loc[date][\"High\"]\n",
    "yes_low=daily_pivot.shift(1).loc[date][\"Low\"]\n",
    "\n",
    "##only for stock split\n",
    "if date1<dt.datetime(2022,8,25):\n",
    "    stock_intraday[date]=stock_intraday[date]/3\n",
    "\n",
    "mpf.plot(stock_intraday[date],type='candle',\n",
    "         hlines=dict(hlines=[daily_pp,daily_bc,daily_tc,daily_r1,daily_s1,daily_r2,daily_s2,daily_r3,daily_s3,daily_r4,daily_s4,weekly_pp,weekly_r1,weekly_s1,monthly_pp,monthly_r1,monthly_s1,yes_high,yes_low],\n",
    "                    colors=['b','b','b','b','b','b','b','b','b','b','b','r','r','r','g','g','g','k','k'],\n",
    "                    linestyle=['-','--','--','--','--','--','--','--','--','--','--','-','--','--','-','--','--','-','-']),\n",
    "         title=date,\n",
    "        savefig='testsave2.png')"
   ]
  },
  {
   "cell_type": "code",
   "execution_count": 31,
   "id": "2b74759c",
   "metadata": {},
   "outputs": [
    {
     "name": "stderr",
     "output_type": "stream",
     "text": [
      "/var/folders/0d/2q3_g9bj7tn1m1t1w5crmtvh0000gn/T/ipykernel_1222/3484992934.py:3: FutureWarning: Indexing a DataFrame with a datetimelike index using a single string to slice the rows, like `frame[string]`, is deprecated and will be removed in a future version. Use `frame.loc[string]` instead.\n",
      "  stock_daily=stock_daily[\"2022\"]\n"
     ]
    },
    {
     "data": {
      "text/html": [
       "<div>\n",
       "<style scoped>\n",
       "    .dataframe tbody tr th:only-of-type {\n",
       "        vertical-align: middle;\n",
       "    }\n",
       "\n",
       "    .dataframe tbody tr th {\n",
       "        vertical-align: top;\n",
       "    }\n",
       "\n",
       "    .dataframe thead th {\n",
       "        text-align: right;\n",
       "    }\n",
       "</style>\n",
       "<table border=\"1\" class=\"dataframe\">\n",
       "  <thead>\n",
       "    <tr style=\"text-align: right;\">\n",
       "      <th></th>\n",
       "      <th>Open</th>\n",
       "      <th>High</th>\n",
       "      <th>Low</th>\n",
       "      <th>Close</th>\n",
       "      <th>Adj Close</th>\n",
       "      <th>Volume</th>\n",
       "      <th>week</th>\n",
       "      <th>month</th>\n",
       "      <th>year</th>\n",
       "      <th>PP</th>\n",
       "      <th>BC</th>\n",
       "      <th>TC</th>\n",
       "      <th>R1</th>\n",
       "      <th>S1</th>\n",
       "      <th>R2</th>\n",
       "      <th>S2</th>\n",
       "      <th>R3</th>\n",
       "      <th>S3</th>\n",
       "      <th>R4</th>\n",
       "      <th>S4</th>\n",
       "    </tr>\n",
       "    <tr>\n",
       "      <th>Date</th>\n",
       "      <th></th>\n",
       "      <th></th>\n",
       "      <th></th>\n",
       "      <th></th>\n",
       "      <th></th>\n",
       "      <th></th>\n",
       "      <th></th>\n",
       "      <th></th>\n",
       "      <th></th>\n",
       "      <th></th>\n",
       "      <th></th>\n",
       "      <th></th>\n",
       "      <th></th>\n",
       "      <th></th>\n",
       "      <th></th>\n",
       "      <th></th>\n",
       "      <th></th>\n",
       "      <th></th>\n",
       "      <th></th>\n",
       "      <th></th>\n",
       "    </tr>\n",
       "  </thead>\n",
       "  <tbody>\n",
       "    <tr>\n",
       "      <th>2022-01-03</th>\n",
       "      <td>382.583344</td>\n",
       "      <td>400.356659</td>\n",
       "      <td>378.679993</td>\n",
       "      <td>399.926666</td>\n",
       "      <td>399.926666</td>\n",
       "      <td>103931400</td>\n",
       "      <td>1</td>\n",
       "      <td>1</td>\n",
       "      <td>2022</td>\n",
       "      <td>354.82</td>\n",
       "      <td>356.10</td>\n",
       "      <td>353.54</td>\n",
       "      <td>358.11</td>\n",
       "      <td>348.97</td>\n",
       "      <td>363.96</td>\n",
       "      <td>345.68</td>\n",
       "      <td>367.25</td>\n",
       "      <td>339.84</td>\n",
       "      <td>373.10</td>\n",
       "      <td>336.55</td>\n",
       "    </tr>\n",
       "    <tr>\n",
       "      <th>2022-01-04</th>\n",
       "      <td>396.516663</td>\n",
       "      <td>402.666656</td>\n",
       "      <td>374.350006</td>\n",
       "      <td>383.196655</td>\n",
       "      <td>383.196655</td>\n",
       "      <td>100248300</td>\n",
       "      <td>1</td>\n",
       "      <td>1</td>\n",
       "      <td>2022</td>\n",
       "      <td>392.99</td>\n",
       "      <td>389.52</td>\n",
       "      <td>396.46</td>\n",
       "      <td>407.30</td>\n",
       "      <td>385.62</td>\n",
       "      <td>414.67</td>\n",
       "      <td>371.31</td>\n",
       "      <td>428.98</td>\n",
       "      <td>363.95</td>\n",
       "      <td>436.35</td>\n",
       "      <td>349.64</td>\n",
       "    </tr>\n",
       "    <tr>\n",
       "      <th>2022-01-05</th>\n",
       "      <td>382.216675</td>\n",
       "      <td>390.113342</td>\n",
       "      <td>360.336670</td>\n",
       "      <td>362.706665</td>\n",
       "      <td>362.706665</td>\n",
       "      <td>80119800</td>\n",
       "      <td>1</td>\n",
       "      <td>1</td>\n",
       "      <td>2022</td>\n",
       "      <td>386.74</td>\n",
       "      <td>388.51</td>\n",
       "      <td>384.97</td>\n",
       "      <td>399.13</td>\n",
       "      <td>370.81</td>\n",
       "      <td>415.06</td>\n",
       "      <td>358.42</td>\n",
       "      <td>427.45</td>\n",
       "      <td>342.50</td>\n",
       "      <td>443.38</td>\n",
       "      <td>330.11</td>\n",
       "    </tr>\n",
       "    <tr>\n",
       "      <th>2022-01-06</th>\n",
       "      <td>359.000000</td>\n",
       "      <td>362.666656</td>\n",
       "      <td>340.166656</td>\n",
       "      <td>354.899994</td>\n",
       "      <td>354.899994</td>\n",
       "      <td>90336600</td>\n",
       "      <td>1</td>\n",
       "      <td>1</td>\n",
       "      <td>2022</td>\n",
       "      <td>371.05</td>\n",
       "      <td>375.23</td>\n",
       "      <td>366.87</td>\n",
       "      <td>381.76</td>\n",
       "      <td>351.99</td>\n",
       "      <td>400.83</td>\n",
       "      <td>341.27</td>\n",
       "      <td>411.54</td>\n",
       "      <td>322.21</td>\n",
       "      <td>430.61</td>\n",
       "      <td>311.49</td>\n",
       "    </tr>\n",
       "    <tr>\n",
       "      <th>2022-01-07</th>\n",
       "      <td>360.123322</td>\n",
       "      <td>360.309998</td>\n",
       "      <td>336.666656</td>\n",
       "      <td>342.320007</td>\n",
       "      <td>342.320007</td>\n",
       "      <td>84164700</td>\n",
       "      <td>1</td>\n",
       "      <td>1</td>\n",
       "      <td>2022</td>\n",
       "      <td>352.58</td>\n",
       "      <td>351.42</td>\n",
       "      <td>353.74</td>\n",
       "      <td>364.99</td>\n",
       "      <td>342.49</td>\n",
       "      <td>375.08</td>\n",
       "      <td>330.08</td>\n",
       "      <td>387.49</td>\n",
       "      <td>319.99</td>\n",
       "      <td>397.58</td>\n",
       "      <td>307.58</td>\n",
       "    </tr>\n",
       "    <tr>\n",
       "      <th>...</th>\n",
       "      <td>...</td>\n",
       "      <td>...</td>\n",
       "      <td>...</td>\n",
       "      <td>...</td>\n",
       "      <td>...</td>\n",
       "      <td>...</td>\n",
       "      <td>...</td>\n",
       "      <td>...</td>\n",
       "      <td>...</td>\n",
       "      <td>...</td>\n",
       "      <td>...</td>\n",
       "      <td>...</td>\n",
       "      <td>...</td>\n",
       "      <td>...</td>\n",
       "      <td>...</td>\n",
       "      <td>...</td>\n",
       "      <td>...</td>\n",
       "      <td>...</td>\n",
       "      <td>...</td>\n",
       "      <td>...</td>\n",
       "    </tr>\n",
       "    <tr>\n",
       "      <th>2022-12-22</th>\n",
       "      <td>136.000000</td>\n",
       "      <td>136.630005</td>\n",
       "      <td>122.260002</td>\n",
       "      <td>125.349998</td>\n",
       "      <td>125.349998</td>\n",
       "      <td>210090300</td>\n",
       "      <td>51</td>\n",
       "      <td>12</td>\n",
       "      <td>2022</td>\n",
       "      <td>138.24</td>\n",
       "      <td>138.57</td>\n",
       "      <td>137.91</td>\n",
       "      <td>140.59</td>\n",
       "      <td>135.22</td>\n",
       "      <td>143.61</td>\n",
       "      <td>132.87</td>\n",
       "      <td>145.96</td>\n",
       "      <td>129.85</td>\n",
       "      <td>148.98</td>\n",
       "      <td>127.50</td>\n",
       "    </tr>\n",
       "    <tr>\n",
       "      <th>2022-12-23</th>\n",
       "      <td>126.370003</td>\n",
       "      <td>128.619995</td>\n",
       "      <td>121.019997</td>\n",
       "      <td>123.150002</td>\n",
       "      <td>123.150002</td>\n",
       "      <td>166396100</td>\n",
       "      <td>51</td>\n",
       "      <td>12</td>\n",
       "      <td>2022</td>\n",
       "      <td>128.08</td>\n",
       "      <td>129.45</td>\n",
       "      <td>126.71</td>\n",
       "      <td>133.90</td>\n",
       "      <td>119.53</td>\n",
       "      <td>142.45</td>\n",
       "      <td>113.71</td>\n",
       "      <td>148.27</td>\n",
       "      <td>105.16</td>\n",
       "      <td>156.82</td>\n",
       "      <td>99.34</td>\n",
       "    </tr>\n",
       "    <tr>\n",
       "      <th>2022-12-27</th>\n",
       "      <td>117.500000</td>\n",
       "      <td>119.669998</td>\n",
       "      <td>108.760002</td>\n",
       "      <td>109.099998</td>\n",
       "      <td>109.099998</td>\n",
       "      <td>208643400</td>\n",
       "      <td>52</td>\n",
       "      <td>12</td>\n",
       "      <td>2022</td>\n",
       "      <td>124.26</td>\n",
       "      <td>124.82</td>\n",
       "      <td>123.70</td>\n",
       "      <td>127.50</td>\n",
       "      <td>119.90</td>\n",
       "      <td>131.86</td>\n",
       "      <td>116.66</td>\n",
       "      <td>135.10</td>\n",
       "      <td>112.30</td>\n",
       "      <td>139.46</td>\n",
       "      <td>109.06</td>\n",
       "    </tr>\n",
       "    <tr>\n",
       "      <th>2022-12-28</th>\n",
       "      <td>110.349998</td>\n",
       "      <td>116.269997</td>\n",
       "      <td>108.239998</td>\n",
       "      <td>112.709999</td>\n",
       "      <td>112.709999</td>\n",
       "      <td>221070500</td>\n",
       "      <td>52</td>\n",
       "      <td>12</td>\n",
       "      <td>2022</td>\n",
       "      <td>112.51</td>\n",
       "      <td>114.22</td>\n",
       "      <td>110.80</td>\n",
       "      <td>116.26</td>\n",
       "      <td>105.35</td>\n",
       "      <td>123.42</td>\n",
       "      <td>101.60</td>\n",
       "      <td>127.17</td>\n",
       "      <td>94.44</td>\n",
       "      <td>134.33</td>\n",
       "      <td>90.69</td>\n",
       "    </tr>\n",
       "    <tr>\n",
       "      <th>2022-12-29</th>\n",
       "      <td>120.389999</td>\n",
       "      <td>123.570000</td>\n",
       "      <td>117.500000</td>\n",
       "      <td>121.820000</td>\n",
       "      <td>121.820000</td>\n",
       "      <td>219151900</td>\n",
       "      <td>52</td>\n",
       "      <td>12</td>\n",
       "      <td>2022</td>\n",
       "      <td>112.41</td>\n",
       "      <td>112.25</td>\n",
       "      <td>112.57</td>\n",
       "      <td>116.58</td>\n",
       "      <td>108.55</td>\n",
       "      <td>120.44</td>\n",
       "      <td>104.38</td>\n",
       "      <td>124.61</td>\n",
       "      <td>100.52</td>\n",
       "      <td>128.47</td>\n",
       "      <td>96.35</td>\n",
       "    </tr>\n",
       "  </tbody>\n",
       "</table>\n",
       "<p>250 rows × 20 columns</p>\n",
       "</div>"
      ],
      "text/plain": [
       "                  Open        High         Low       Close   Adj Close  \\\n",
       "Date                                                                     \n",
       "2022-01-03  382.583344  400.356659  378.679993  399.926666  399.926666   \n",
       "2022-01-04  396.516663  402.666656  374.350006  383.196655  383.196655   \n",
       "2022-01-05  382.216675  390.113342  360.336670  362.706665  362.706665   \n",
       "2022-01-06  359.000000  362.666656  340.166656  354.899994  354.899994   \n",
       "2022-01-07  360.123322  360.309998  336.666656  342.320007  342.320007   \n",
       "...                ...         ...         ...         ...         ...   \n",
       "2022-12-22  136.000000  136.630005  122.260002  125.349998  125.349998   \n",
       "2022-12-23  126.370003  128.619995  121.019997  123.150002  123.150002   \n",
       "2022-12-27  117.500000  119.669998  108.760002  109.099998  109.099998   \n",
       "2022-12-28  110.349998  116.269997  108.239998  112.709999  112.709999   \n",
       "2022-12-29  120.389999  123.570000  117.500000  121.820000  121.820000   \n",
       "\n",
       "               Volume  week  month  year      PP      BC      TC      R1  \\\n",
       "Date                                                                       \n",
       "2022-01-03  103931400     1      1  2022  354.82  356.10  353.54  358.11   \n",
       "2022-01-04  100248300     1      1  2022  392.99  389.52  396.46  407.30   \n",
       "2022-01-05   80119800     1      1  2022  386.74  388.51  384.97  399.13   \n",
       "2022-01-06   90336600     1      1  2022  371.05  375.23  366.87  381.76   \n",
       "2022-01-07   84164700     1      1  2022  352.58  351.42  353.74  364.99   \n",
       "...               ...   ...    ...   ...     ...     ...     ...     ...   \n",
       "2022-12-22  210090300    51     12  2022  138.24  138.57  137.91  140.59   \n",
       "2022-12-23  166396100    51     12  2022  128.08  129.45  126.71  133.90   \n",
       "2022-12-27  208643400    52     12  2022  124.26  124.82  123.70  127.50   \n",
       "2022-12-28  221070500    52     12  2022  112.51  114.22  110.80  116.26   \n",
       "2022-12-29  219151900    52     12  2022  112.41  112.25  112.57  116.58   \n",
       "\n",
       "                S1      R2      S2      R3      S3      R4      S4  \n",
       "Date                                                                \n",
       "2022-01-03  348.97  363.96  345.68  367.25  339.84  373.10  336.55  \n",
       "2022-01-04  385.62  414.67  371.31  428.98  363.95  436.35  349.64  \n",
       "2022-01-05  370.81  415.06  358.42  427.45  342.50  443.38  330.11  \n",
       "2022-01-06  351.99  400.83  341.27  411.54  322.21  430.61  311.49  \n",
       "2022-01-07  342.49  375.08  330.08  387.49  319.99  397.58  307.58  \n",
       "...            ...     ...     ...     ...     ...     ...     ...  \n",
       "2022-12-22  135.22  143.61  132.87  145.96  129.85  148.98  127.50  \n",
       "2022-12-23  119.53  142.45  113.71  148.27  105.16  156.82   99.34  \n",
       "2022-12-27  119.90  131.86  116.66  135.10  112.30  139.46  109.06  \n",
       "2022-12-28  105.35  123.42  101.60  127.17   94.44  134.33   90.69  \n",
       "2022-12-29  108.55  120.44  104.38  124.61  100.52  128.47   96.35  \n",
       "\n",
       "[250 rows x 20 columns]"
      ]
     },
     "execution_count": 31,
     "metadata": {},
     "output_type": "execute_result"
    }
   ],
   "source": [
    "#subset the stock\n",
    "import numpy as np\n",
    "stock_daily=stock_daily[\"2022\"]\n",
    "stock_daily"
   ]
  },
  {
   "cell_type": "code",
   "execution_count": 173,
   "id": "35622b0f",
   "metadata": {},
   "outputs": [],
   "source": [
    "# for i in range(len(stock_daily)):\n",
    "#     date=stock_daily.index[i]\n",
    "#     break"
   ]
  },
  {
   "cell_type": "code",
   "execution_count": 174,
   "id": "40e40f29",
   "metadata": {},
   "outputs": [],
   "source": [
    "# #now.strftime(\"%m/%d/%Y, %H:%M:%S\")\n",
    "# date=date.strftime(\"%Y-%m-%d\")\n",
    "# date"
   ]
  },
  {
   "cell_type": "code",
   "execution_count": 175,
   "id": "ac4c3269",
   "metadata": {},
   "outputs": [],
   "source": [
    "#stock_intraday[date][\"Adj Close\"].plot()"
   ]
  },
  {
   "cell_type": "code",
   "execution_count": 33,
   "id": "2a41f12e",
   "metadata": {},
   "outputs": [
    {
     "name": "stdout",
     "output_type": "stream",
     "text": [
      "2022-01-03\n",
      "2022-01-04\n",
      "2022-01-05\n"
     ]
    },
    {
     "name": "stderr",
     "output_type": "stream",
     "text": [
      "/var/folders/0d/2q3_g9bj7tn1m1t1w5crmtvh0000gn/T/ipykernel_1222/869318549.py:85: FutureWarning: Indexing a DataFrame with a datetimelike index using a single string to slice the rows, like `frame[string]`, is deprecated and will be removed in a future version. Use `frame.loc[string]` instead.\n",
      "  mpf.plot(stock_intraday[date],type='candle',\n",
      "/var/folders/0d/2q3_g9bj7tn1m1t1w5crmtvh0000gn/T/ipykernel_1222/869318549.py:85: FutureWarning: Indexing a DataFrame with a datetimelike index using a single string to slice the rows, like `frame[string]`, is deprecated and will be removed in a future version. Use `frame.loc[string]` instead.\n",
      "  mpf.plot(stock_intraday[date],type='candle',\n",
      "/var/folders/0d/2q3_g9bj7tn1m1t1w5crmtvh0000gn/T/ipykernel_1222/869318549.py:85: FutureWarning: Indexing a DataFrame with a datetimelike index using a single string to slice the rows, like `frame[string]`, is deprecated and will be removed in a future version. Use `frame.loc[string]` instead.\n",
      "  mpf.plot(stock_intraday[date],type='candle',\n"
     ]
    },
    {
     "name": "stdout",
     "output_type": "stream",
     "text": [
      "2022-01-06\n",
      "2022-01-07\n",
      "2022-01-10\n",
      "2022-01-11\n"
     ]
    },
    {
     "name": "stderr",
     "output_type": "stream",
     "text": [
      "/var/folders/0d/2q3_g9bj7tn1m1t1w5crmtvh0000gn/T/ipykernel_1222/869318549.py:85: FutureWarning: Indexing a DataFrame with a datetimelike index using a single string to slice the rows, like `frame[string]`, is deprecated and will be removed in a future version. Use `frame.loc[string]` instead.\n",
      "  mpf.plot(stock_intraday[date],type='candle',\n",
      "/var/folders/0d/2q3_g9bj7tn1m1t1w5crmtvh0000gn/T/ipykernel_1222/869318549.py:85: FutureWarning: Indexing a DataFrame with a datetimelike index using a single string to slice the rows, like `frame[string]`, is deprecated and will be removed in a future version. Use `frame.loc[string]` instead.\n",
      "  mpf.plot(stock_intraday[date],type='candle',\n",
      "/var/folders/0d/2q3_g9bj7tn1m1t1w5crmtvh0000gn/T/ipykernel_1222/869318549.py:85: FutureWarning: Indexing a DataFrame with a datetimelike index using a single string to slice the rows, like `frame[string]`, is deprecated and will be removed in a future version. Use `frame.loc[string]` instead.\n",
      "  mpf.plot(stock_intraday[date],type='candle',\n",
      "/var/folders/0d/2q3_g9bj7tn1m1t1w5crmtvh0000gn/T/ipykernel_1222/869318549.py:85: FutureWarning: Indexing a DataFrame with a datetimelike index using a single string to slice the rows, like `frame[string]`, is deprecated and will be removed in a future version. Use `frame.loc[string]` instead.\n",
      "  mpf.plot(stock_intraday[date],type='candle',\n"
     ]
    },
    {
     "name": "stdout",
     "output_type": "stream",
     "text": [
      "2022-01-12\n",
      "2022-01-13\n",
      "2022-01-14\n",
      "2022-01-18\n"
     ]
    },
    {
     "name": "stderr",
     "output_type": "stream",
     "text": [
      "/var/folders/0d/2q3_g9bj7tn1m1t1w5crmtvh0000gn/T/ipykernel_1222/869318549.py:85: FutureWarning: Indexing a DataFrame with a datetimelike index using a single string to slice the rows, like `frame[string]`, is deprecated and will be removed in a future version. Use `frame.loc[string]` instead.\n",
      "  mpf.plot(stock_intraday[date],type='candle',\n",
      "/var/folders/0d/2q3_g9bj7tn1m1t1w5crmtvh0000gn/T/ipykernel_1222/869318549.py:85: FutureWarning: Indexing a DataFrame with a datetimelike index using a single string to slice the rows, like `frame[string]`, is deprecated and will be removed in a future version. Use `frame.loc[string]` instead.\n",
      "  mpf.plot(stock_intraday[date],type='candle',\n",
      "/var/folders/0d/2q3_g9bj7tn1m1t1w5crmtvh0000gn/T/ipykernel_1222/869318549.py:85: FutureWarning: Indexing a DataFrame with a datetimelike index using a single string to slice the rows, like `frame[string]`, is deprecated and will be removed in a future version. Use `frame.loc[string]` instead.\n",
      "  mpf.plot(stock_intraday[date],type='candle',\n",
      "/var/folders/0d/2q3_g9bj7tn1m1t1w5crmtvh0000gn/T/ipykernel_1222/869318549.py:85: FutureWarning: Indexing a DataFrame with a datetimelike index using a single string to slice the rows, like `frame[string]`, is deprecated and will be removed in a future version. Use `frame.loc[string]` instead.\n",
      "  mpf.plot(stock_intraday[date],type='candle',\n"
     ]
    },
    {
     "name": "stdout",
     "output_type": "stream",
     "text": [
      "2022-01-19\n",
      "2022-01-20\n",
      "2022-01-21\n"
     ]
    },
    {
     "name": "stderr",
     "output_type": "stream",
     "text": [
      "/var/folders/0d/2q3_g9bj7tn1m1t1w5crmtvh0000gn/T/ipykernel_1222/869318549.py:85: FutureWarning: Indexing a DataFrame with a datetimelike index using a single string to slice the rows, like `frame[string]`, is deprecated and will be removed in a future version. Use `frame.loc[string]` instead.\n",
      "  mpf.plot(stock_intraday[date],type='candle',\n",
      "/var/folders/0d/2q3_g9bj7tn1m1t1w5crmtvh0000gn/T/ipykernel_1222/869318549.py:85: FutureWarning: Indexing a DataFrame with a datetimelike index using a single string to slice the rows, like `frame[string]`, is deprecated and will be removed in a future version. Use `frame.loc[string]` instead.\n",
      "  mpf.plot(stock_intraday[date],type='candle',\n",
      "/var/folders/0d/2q3_g9bj7tn1m1t1w5crmtvh0000gn/T/ipykernel_1222/869318549.py:85: FutureWarning: Indexing a DataFrame with a datetimelike index using a single string to slice the rows, like `frame[string]`, is deprecated and will be removed in a future version. Use `frame.loc[string]` instead.\n",
      "  mpf.plot(stock_intraday[date],type='candle',\n"
     ]
    },
    {
     "name": "stdout",
     "output_type": "stream",
     "text": [
      "2022-01-24\n",
      "2022-01-25\n",
      "2022-01-26\n",
      "2022-01-27\n"
     ]
    },
    {
     "name": "stderr",
     "output_type": "stream",
     "text": [
      "/var/folders/0d/2q3_g9bj7tn1m1t1w5crmtvh0000gn/T/ipykernel_1222/869318549.py:85: FutureWarning: Indexing a DataFrame with a datetimelike index using a single string to slice the rows, like `frame[string]`, is deprecated and will be removed in a future version. Use `frame.loc[string]` instead.\n",
      "  mpf.plot(stock_intraday[date],type='candle',\n",
      "/var/folders/0d/2q3_g9bj7tn1m1t1w5crmtvh0000gn/T/ipykernel_1222/869318549.py:85: FutureWarning: Indexing a DataFrame with a datetimelike index using a single string to slice the rows, like `frame[string]`, is deprecated and will be removed in a future version. Use `frame.loc[string]` instead.\n",
      "  mpf.plot(stock_intraday[date],type='candle',\n",
      "/var/folders/0d/2q3_g9bj7tn1m1t1w5crmtvh0000gn/T/ipykernel_1222/869318549.py:85: FutureWarning: Indexing a DataFrame with a datetimelike index using a single string to slice the rows, like `frame[string]`, is deprecated and will be removed in a future version. Use `frame.loc[string]` instead.\n",
      "  mpf.plot(stock_intraday[date],type='candle',\n",
      "/var/folders/0d/2q3_g9bj7tn1m1t1w5crmtvh0000gn/T/ipykernel_1222/869318549.py:85: FutureWarning: Indexing a DataFrame with a datetimelike index using a single string to slice the rows, like `frame[string]`, is deprecated and will be removed in a future version. Use `frame.loc[string]` instead.\n",
      "  mpf.plot(stock_intraday[date],type='candle',\n"
     ]
    },
    {
     "name": "stdout",
     "output_type": "stream",
     "text": [
      "2022-01-28\n",
      "2022-01-31\n",
      "2022-02-01\n",
      "2022-02-02\n"
     ]
    },
    {
     "name": "stderr",
     "output_type": "stream",
     "text": [
      "/var/folders/0d/2q3_g9bj7tn1m1t1w5crmtvh0000gn/T/ipykernel_1222/869318549.py:85: FutureWarning: Indexing a DataFrame with a datetimelike index using a single string to slice the rows, like `frame[string]`, is deprecated and will be removed in a future version. Use `frame.loc[string]` instead.\n",
      "  mpf.plot(stock_intraday[date],type='candle',\n",
      "/var/folders/0d/2q3_g9bj7tn1m1t1w5crmtvh0000gn/T/ipykernel_1222/869318549.py:85: FutureWarning: Indexing a DataFrame with a datetimelike index using a single string to slice the rows, like `frame[string]`, is deprecated and will be removed in a future version. Use `frame.loc[string]` instead.\n",
      "  mpf.plot(stock_intraday[date],type='candle',\n",
      "/var/folders/0d/2q3_g9bj7tn1m1t1w5crmtvh0000gn/T/ipykernel_1222/869318549.py:85: FutureWarning: Indexing a DataFrame with a datetimelike index using a single string to slice the rows, like `frame[string]`, is deprecated and will be removed in a future version. Use `frame.loc[string]` instead.\n",
      "  mpf.plot(stock_intraday[date],type='candle',\n",
      "/var/folders/0d/2q3_g9bj7tn1m1t1w5crmtvh0000gn/T/ipykernel_1222/869318549.py:85: FutureWarning: Indexing a DataFrame with a datetimelike index using a single string to slice the rows, like `frame[string]`, is deprecated and will be removed in a future version. Use `frame.loc[string]` instead.\n",
      "  mpf.plot(stock_intraday[date],type='candle',\n"
     ]
    },
    {
     "name": "stdout",
     "output_type": "stream",
     "text": [
      "2022-02-03\n",
      "2022-02-04\n",
      "2022-02-07\n"
     ]
    },
    {
     "name": "stderr",
     "output_type": "stream",
     "text": [
      "/var/folders/0d/2q3_g9bj7tn1m1t1w5crmtvh0000gn/T/ipykernel_1222/869318549.py:85: FutureWarning: Indexing a DataFrame with a datetimelike index using a single string to slice the rows, like `frame[string]`, is deprecated and will be removed in a future version. Use `frame.loc[string]` instead.\n",
      "  mpf.plot(stock_intraday[date],type='candle',\n",
      "/var/folders/0d/2q3_g9bj7tn1m1t1w5crmtvh0000gn/T/ipykernel_1222/869318549.py:85: FutureWarning: Indexing a DataFrame with a datetimelike index using a single string to slice the rows, like `frame[string]`, is deprecated and will be removed in a future version. Use `frame.loc[string]` instead.\n",
      "  mpf.plot(stock_intraday[date],type='candle',\n",
      "/var/folders/0d/2q3_g9bj7tn1m1t1w5crmtvh0000gn/T/ipykernel_1222/869318549.py:85: FutureWarning: Indexing a DataFrame with a datetimelike index using a single string to slice the rows, like `frame[string]`, is deprecated and will be removed in a future version. Use `frame.loc[string]` instead.\n",
      "  mpf.plot(stock_intraday[date],type='candle',\n"
     ]
    },
    {
     "name": "stdout",
     "output_type": "stream",
     "text": [
      "2022-02-08\n",
      "2022-02-09\n",
      "2022-02-10\n",
      "2022-02-11\n"
     ]
    },
    {
     "name": "stderr",
     "output_type": "stream",
     "text": [
      "/var/folders/0d/2q3_g9bj7tn1m1t1w5crmtvh0000gn/T/ipykernel_1222/869318549.py:85: FutureWarning: Indexing a DataFrame with a datetimelike index using a single string to slice the rows, like `frame[string]`, is deprecated and will be removed in a future version. Use `frame.loc[string]` instead.\n",
      "  mpf.plot(stock_intraday[date],type='candle',\n",
      "/var/folders/0d/2q3_g9bj7tn1m1t1w5crmtvh0000gn/T/ipykernel_1222/869318549.py:85: FutureWarning: Indexing a DataFrame with a datetimelike index using a single string to slice the rows, like `frame[string]`, is deprecated and will be removed in a future version. Use `frame.loc[string]` instead.\n",
      "  mpf.plot(stock_intraday[date],type='candle',\n",
      "/var/folders/0d/2q3_g9bj7tn1m1t1w5crmtvh0000gn/T/ipykernel_1222/869318549.py:85: FutureWarning: Indexing a DataFrame with a datetimelike index using a single string to slice the rows, like `frame[string]`, is deprecated and will be removed in a future version. Use `frame.loc[string]` instead.\n",
      "  mpf.plot(stock_intraday[date],type='candle',\n",
      "/var/folders/0d/2q3_g9bj7tn1m1t1w5crmtvh0000gn/T/ipykernel_1222/869318549.py:85: FutureWarning: Indexing a DataFrame with a datetimelike index using a single string to slice the rows, like `frame[string]`, is deprecated and will be removed in a future version. Use `frame.loc[string]` instead.\n",
      "  mpf.plot(stock_intraday[date],type='candle',\n"
     ]
    },
    {
     "name": "stdout",
     "output_type": "stream",
     "text": [
      "2022-02-14\n",
      "2022-02-15\n",
      "2022-02-16\n",
      "2022-02-17\n"
     ]
    },
    {
     "name": "stderr",
     "output_type": "stream",
     "text": [
      "/var/folders/0d/2q3_g9bj7tn1m1t1w5crmtvh0000gn/T/ipykernel_1222/869318549.py:85: FutureWarning: Indexing a DataFrame with a datetimelike index using a single string to slice the rows, like `frame[string]`, is deprecated and will be removed in a future version. Use `frame.loc[string]` instead.\n",
      "  mpf.plot(stock_intraday[date],type='candle',\n",
      "/var/folders/0d/2q3_g9bj7tn1m1t1w5crmtvh0000gn/T/ipykernel_1222/869318549.py:85: FutureWarning: Indexing a DataFrame with a datetimelike index using a single string to slice the rows, like `frame[string]`, is deprecated and will be removed in a future version. Use `frame.loc[string]` instead.\n",
      "  mpf.plot(stock_intraday[date],type='candle',\n",
      "/var/folders/0d/2q3_g9bj7tn1m1t1w5crmtvh0000gn/T/ipykernel_1222/869318549.py:85: FutureWarning: Indexing a DataFrame with a datetimelike index using a single string to slice the rows, like `frame[string]`, is deprecated and will be removed in a future version. Use `frame.loc[string]` instead.\n",
      "  mpf.plot(stock_intraday[date],type='candle',\n",
      "/var/folders/0d/2q3_g9bj7tn1m1t1w5crmtvh0000gn/T/ipykernel_1222/869318549.py:85: FutureWarning: Indexing a DataFrame with a datetimelike index using a single string to slice the rows, like `frame[string]`, is deprecated and will be removed in a future version. Use `frame.loc[string]` instead.\n",
      "  mpf.plot(stock_intraday[date],type='candle',\n"
     ]
    },
    {
     "name": "stdout",
     "output_type": "stream",
     "text": [
      "2022-02-18\n",
      "2022-02-22\n",
      "2022-02-23\n",
      "2022-02-24\n"
     ]
    },
    {
     "name": "stderr",
     "output_type": "stream",
     "text": [
      "/var/folders/0d/2q3_g9bj7tn1m1t1w5crmtvh0000gn/T/ipykernel_1222/869318549.py:85: FutureWarning: Indexing a DataFrame with a datetimelike index using a single string to slice the rows, like `frame[string]`, is deprecated and will be removed in a future version. Use `frame.loc[string]` instead.\n",
      "  mpf.plot(stock_intraday[date],type='candle',\n",
      "/var/folders/0d/2q3_g9bj7tn1m1t1w5crmtvh0000gn/T/ipykernel_1222/869318549.py:85: FutureWarning: Indexing a DataFrame with a datetimelike index using a single string to slice the rows, like `frame[string]`, is deprecated and will be removed in a future version. Use `frame.loc[string]` instead.\n",
      "  mpf.plot(stock_intraday[date],type='candle',\n",
      "/var/folders/0d/2q3_g9bj7tn1m1t1w5crmtvh0000gn/T/ipykernel_1222/869318549.py:85: FutureWarning: Indexing a DataFrame with a datetimelike index using a single string to slice the rows, like `frame[string]`, is deprecated and will be removed in a future version. Use `frame.loc[string]` instead.\n",
      "  mpf.plot(stock_intraday[date],type='candle',\n",
      "/var/folders/0d/2q3_g9bj7tn1m1t1w5crmtvh0000gn/T/ipykernel_1222/869318549.py:85: FutureWarning: Indexing a DataFrame with a datetimelike index using a single string to slice the rows, like `frame[string]`, is deprecated and will be removed in a future version. Use `frame.loc[string]` instead.\n",
      "  mpf.plot(stock_intraday[date],type='candle',\n"
     ]
    },
    {
     "name": "stdout",
     "output_type": "stream",
     "text": [
      "2022-02-25\n",
      "2022-02-28\n",
      "2022-03-01\n"
     ]
    },
    {
     "name": "stderr",
     "output_type": "stream",
     "text": [
      "/var/folders/0d/2q3_g9bj7tn1m1t1w5crmtvh0000gn/T/ipykernel_1222/869318549.py:85: FutureWarning: Indexing a DataFrame with a datetimelike index using a single string to slice the rows, like `frame[string]`, is deprecated and will be removed in a future version. Use `frame.loc[string]` instead.\n",
      "  mpf.plot(stock_intraday[date],type='candle',\n",
      "/var/folders/0d/2q3_g9bj7tn1m1t1w5crmtvh0000gn/T/ipykernel_1222/869318549.py:85: FutureWarning: Indexing a DataFrame with a datetimelike index using a single string to slice the rows, like `frame[string]`, is deprecated and will be removed in a future version. Use `frame.loc[string]` instead.\n",
      "  mpf.plot(stock_intraday[date],type='candle',\n",
      "/var/folders/0d/2q3_g9bj7tn1m1t1w5crmtvh0000gn/T/ipykernel_1222/869318549.py:85: FutureWarning: Indexing a DataFrame with a datetimelike index using a single string to slice the rows, like `frame[string]`, is deprecated and will be removed in a future version. Use `frame.loc[string]` instead.\n",
      "  mpf.plot(stock_intraday[date],type='candle',\n",
      "/var/folders/0d/2q3_g9bj7tn1m1t1w5crmtvh0000gn/T/ipykernel_1222/869318549.py:85: FutureWarning: Indexing a DataFrame with a datetimelike index using a single string to slice the rows, like `frame[string]`, is deprecated and will be removed in a future version. Use `frame.loc[string]` instead.\n",
      "  mpf.plot(stock_intraday[date],type='candle',\n"
     ]
    },
    {
     "name": "stdout",
     "output_type": "stream",
     "text": [
      "2022-03-02\n",
      "2022-03-03\n",
      "2022-03-04\n",
      "2022-03-07\n"
     ]
    },
    {
     "name": "stderr",
     "output_type": "stream",
     "text": [
      "/var/folders/0d/2q3_g9bj7tn1m1t1w5crmtvh0000gn/T/ipykernel_1222/869318549.py:85: FutureWarning: Indexing a DataFrame with a datetimelike index using a single string to slice the rows, like `frame[string]`, is deprecated and will be removed in a future version. Use `frame.loc[string]` instead.\n",
      "  mpf.plot(stock_intraday[date],type='candle',\n",
      "/var/folders/0d/2q3_g9bj7tn1m1t1w5crmtvh0000gn/T/ipykernel_1222/869318549.py:85: FutureWarning: Indexing a DataFrame with a datetimelike index using a single string to slice the rows, like `frame[string]`, is deprecated and will be removed in a future version. Use `frame.loc[string]` instead.\n",
      "  mpf.plot(stock_intraday[date],type='candle',\n",
      "/var/folders/0d/2q3_g9bj7tn1m1t1w5crmtvh0000gn/T/ipykernel_1222/869318549.py:85: FutureWarning: Indexing a DataFrame with a datetimelike index using a single string to slice the rows, like `frame[string]`, is deprecated and will be removed in a future version. Use `frame.loc[string]` instead.\n",
      "  mpf.plot(stock_intraday[date],type='candle',\n",
      "/var/folders/0d/2q3_g9bj7tn1m1t1w5crmtvh0000gn/T/ipykernel_1222/869318549.py:85: FutureWarning: Indexing a DataFrame with a datetimelike index using a single string to slice the rows, like `frame[string]`, is deprecated and will be removed in a future version. Use `frame.loc[string]` instead.\n",
      "  mpf.plot(stock_intraday[date],type='candle',\n"
     ]
    },
    {
     "name": "stdout",
     "output_type": "stream",
     "text": [
      "2022-03-08\n",
      "2022-03-09\n",
      "2022-03-10\n",
      "2022-03-11\n"
     ]
    },
    {
     "name": "stderr",
     "output_type": "stream",
     "text": [
      "/var/folders/0d/2q3_g9bj7tn1m1t1w5crmtvh0000gn/T/ipykernel_1222/869318549.py:85: FutureWarning: Indexing a DataFrame with a datetimelike index using a single string to slice the rows, like `frame[string]`, is deprecated and will be removed in a future version. Use `frame.loc[string]` instead.\n",
      "  mpf.plot(stock_intraday[date],type='candle',\n",
      "/var/folders/0d/2q3_g9bj7tn1m1t1w5crmtvh0000gn/T/ipykernel_1222/869318549.py:85: FutureWarning: Indexing a DataFrame with a datetimelike index using a single string to slice the rows, like `frame[string]`, is deprecated and will be removed in a future version. Use `frame.loc[string]` instead.\n",
      "  mpf.plot(stock_intraday[date],type='candle',\n",
      "/var/folders/0d/2q3_g9bj7tn1m1t1w5crmtvh0000gn/T/ipykernel_1222/869318549.py:85: FutureWarning: Indexing a DataFrame with a datetimelike index using a single string to slice the rows, like `frame[string]`, is deprecated and will be removed in a future version. Use `frame.loc[string]` instead.\n",
      "  mpf.plot(stock_intraday[date],type='candle',\n",
      "/var/folders/0d/2q3_g9bj7tn1m1t1w5crmtvh0000gn/T/ipykernel_1222/869318549.py:85: FutureWarning: Indexing a DataFrame with a datetimelike index using a single string to slice the rows, like `frame[string]`, is deprecated and will be removed in a future version. Use `frame.loc[string]` instead.\n",
      "  mpf.plot(stock_intraday[date],type='candle',\n"
     ]
    },
    {
     "name": "stdout",
     "output_type": "stream",
     "text": [
      "2022-03-14\n",
      "2022-03-15\n",
      "2022-03-16\n",
      "2022-03-17\n"
     ]
    },
    {
     "name": "stderr",
     "output_type": "stream",
     "text": [
      "/var/folders/0d/2q3_g9bj7tn1m1t1w5crmtvh0000gn/T/ipykernel_1222/869318549.py:85: FutureWarning: Indexing a DataFrame with a datetimelike index using a single string to slice the rows, like `frame[string]`, is deprecated and will be removed in a future version. Use `frame.loc[string]` instead.\n",
      "  mpf.plot(stock_intraday[date],type='candle',\n",
      "/var/folders/0d/2q3_g9bj7tn1m1t1w5crmtvh0000gn/T/ipykernel_1222/869318549.py:85: FutureWarning: Indexing a DataFrame with a datetimelike index using a single string to slice the rows, like `frame[string]`, is deprecated and will be removed in a future version. Use `frame.loc[string]` instead.\n",
      "  mpf.plot(stock_intraday[date],type='candle',\n",
      "/var/folders/0d/2q3_g9bj7tn1m1t1w5crmtvh0000gn/T/ipykernel_1222/869318549.py:85: FutureWarning: Indexing a DataFrame with a datetimelike index using a single string to slice the rows, like `frame[string]`, is deprecated and will be removed in a future version. Use `frame.loc[string]` instead.\n",
      "  mpf.plot(stock_intraday[date],type='candle',\n",
      "/var/folders/0d/2q3_g9bj7tn1m1t1w5crmtvh0000gn/T/ipykernel_1222/869318549.py:85: FutureWarning: Indexing a DataFrame with a datetimelike index using a single string to slice the rows, like `frame[string]`, is deprecated and will be removed in a future version. Use `frame.loc[string]` instead.\n",
      "  mpf.plot(stock_intraday[date],type='candle',\n"
     ]
    },
    {
     "name": "stdout",
     "output_type": "stream",
     "text": [
      "2022-03-18\n",
      "2022-03-21\n",
      "2022-03-22\n"
     ]
    },
    {
     "name": "stderr",
     "output_type": "stream",
     "text": [
      "/var/folders/0d/2q3_g9bj7tn1m1t1w5crmtvh0000gn/T/ipykernel_1222/869318549.py:85: FutureWarning: Indexing a DataFrame with a datetimelike index using a single string to slice the rows, like `frame[string]`, is deprecated and will be removed in a future version. Use `frame.loc[string]` instead.\n",
      "  mpf.plot(stock_intraday[date],type='candle',\n",
      "/var/folders/0d/2q3_g9bj7tn1m1t1w5crmtvh0000gn/T/ipykernel_1222/869318549.py:85: FutureWarning: Indexing a DataFrame with a datetimelike index using a single string to slice the rows, like `frame[string]`, is deprecated and will be removed in a future version. Use `frame.loc[string]` instead.\n",
      "  mpf.plot(stock_intraday[date],type='candle',\n",
      "/var/folders/0d/2q3_g9bj7tn1m1t1w5crmtvh0000gn/T/ipykernel_1222/869318549.py:85: FutureWarning: Indexing a DataFrame with a datetimelike index using a single string to slice the rows, like `frame[string]`, is deprecated and will be removed in a future version. Use `frame.loc[string]` instead.\n",
      "  mpf.plot(stock_intraday[date],type='candle',\n"
     ]
    },
    {
     "name": "stdout",
     "output_type": "stream",
     "text": [
      "2022-03-23\n",
      "2022-03-24\n",
      "2022-03-25\n",
      "2022-03-28\n"
     ]
    },
    {
     "name": "stderr",
     "output_type": "stream",
     "text": [
      "/var/folders/0d/2q3_g9bj7tn1m1t1w5crmtvh0000gn/T/ipykernel_1222/869318549.py:85: FutureWarning: Indexing a DataFrame with a datetimelike index using a single string to slice the rows, like `frame[string]`, is deprecated and will be removed in a future version. Use `frame.loc[string]` instead.\n",
      "  mpf.plot(stock_intraday[date],type='candle',\n",
      "/var/folders/0d/2q3_g9bj7tn1m1t1w5crmtvh0000gn/T/ipykernel_1222/869318549.py:85: FutureWarning: Indexing a DataFrame with a datetimelike index using a single string to slice the rows, like `frame[string]`, is deprecated and will be removed in a future version. Use `frame.loc[string]` instead.\n",
      "  mpf.plot(stock_intraday[date],type='candle',\n",
      "/var/folders/0d/2q3_g9bj7tn1m1t1w5crmtvh0000gn/T/ipykernel_1222/869318549.py:85: FutureWarning: Indexing a DataFrame with a datetimelike index using a single string to slice the rows, like `frame[string]`, is deprecated and will be removed in a future version. Use `frame.loc[string]` instead.\n",
      "  mpf.plot(stock_intraday[date],type='candle',\n",
      "/var/folders/0d/2q3_g9bj7tn1m1t1w5crmtvh0000gn/T/ipykernel_1222/869318549.py:85: FutureWarning: Indexing a DataFrame with a datetimelike index using a single string to slice the rows, like `frame[string]`, is deprecated and will be removed in a future version. Use `frame.loc[string]` instead.\n",
      "  mpf.plot(stock_intraday[date],type='candle',\n"
     ]
    },
    {
     "name": "stdout",
     "output_type": "stream",
     "text": [
      "2022-03-29\n",
      "2022-03-30\n",
      "2022-03-31\n",
      "2022-04-01\n"
     ]
    },
    {
     "name": "stderr",
     "output_type": "stream",
     "text": [
      "/var/folders/0d/2q3_g9bj7tn1m1t1w5crmtvh0000gn/T/ipykernel_1222/869318549.py:85: FutureWarning: Indexing a DataFrame with a datetimelike index using a single string to slice the rows, like `frame[string]`, is deprecated and will be removed in a future version. Use `frame.loc[string]` instead.\n",
      "  mpf.plot(stock_intraday[date],type='candle',\n",
      "/var/folders/0d/2q3_g9bj7tn1m1t1w5crmtvh0000gn/T/ipykernel_1222/869318549.py:85: FutureWarning: Indexing a DataFrame with a datetimelike index using a single string to slice the rows, like `frame[string]`, is deprecated and will be removed in a future version. Use `frame.loc[string]` instead.\n",
      "  mpf.plot(stock_intraday[date],type='candle',\n",
      "/var/folders/0d/2q3_g9bj7tn1m1t1w5crmtvh0000gn/T/ipykernel_1222/869318549.py:85: FutureWarning: Indexing a DataFrame with a datetimelike index using a single string to slice the rows, like `frame[string]`, is deprecated and will be removed in a future version. Use `frame.loc[string]` instead.\n",
      "  mpf.plot(stock_intraday[date],type='candle',\n",
      "/var/folders/0d/2q3_g9bj7tn1m1t1w5crmtvh0000gn/T/ipykernel_1222/869318549.py:85: FutureWarning: Indexing a DataFrame with a datetimelike index using a single string to slice the rows, like `frame[string]`, is deprecated and will be removed in a future version. Use `frame.loc[string]` instead.\n",
      "  mpf.plot(stock_intraday[date],type='candle',\n"
     ]
    },
    {
     "name": "stdout",
     "output_type": "stream",
     "text": [
      "2022-04-04\n",
      "2022-04-05\n",
      "2022-04-06\n",
      "2022-04-07\n"
     ]
    },
    {
     "name": "stderr",
     "output_type": "stream",
     "text": [
      "/var/folders/0d/2q3_g9bj7tn1m1t1w5crmtvh0000gn/T/ipykernel_1222/869318549.py:85: FutureWarning: Indexing a DataFrame with a datetimelike index using a single string to slice the rows, like `frame[string]`, is deprecated and will be removed in a future version. Use `frame.loc[string]` instead.\n",
      "  mpf.plot(stock_intraday[date],type='candle',\n",
      "/var/folders/0d/2q3_g9bj7tn1m1t1w5crmtvh0000gn/T/ipykernel_1222/869318549.py:85: FutureWarning: Indexing a DataFrame with a datetimelike index using a single string to slice the rows, like `frame[string]`, is deprecated and will be removed in a future version. Use `frame.loc[string]` instead.\n",
      "  mpf.plot(stock_intraday[date],type='candle',\n",
      "/var/folders/0d/2q3_g9bj7tn1m1t1w5crmtvh0000gn/T/ipykernel_1222/869318549.py:85: FutureWarning: Indexing a DataFrame with a datetimelike index using a single string to slice the rows, like `frame[string]`, is deprecated and will be removed in a future version. Use `frame.loc[string]` instead.\n",
      "  mpf.plot(stock_intraday[date],type='candle',\n",
      "/var/folders/0d/2q3_g9bj7tn1m1t1w5crmtvh0000gn/T/ipykernel_1222/869318549.py:85: FutureWarning: Indexing a DataFrame with a datetimelike index using a single string to slice the rows, like `frame[string]`, is deprecated and will be removed in a future version. Use `frame.loc[string]` instead.\n",
      "  mpf.plot(stock_intraday[date],type='candle',\n"
     ]
    },
    {
     "name": "stdout",
     "output_type": "stream",
     "text": [
      "2022-04-08\n",
      "2022-04-11\n",
      "2022-04-12\n",
      "2022-04-13\n"
     ]
    },
    {
     "name": "stderr",
     "output_type": "stream",
     "text": [
      "/var/folders/0d/2q3_g9bj7tn1m1t1w5crmtvh0000gn/T/ipykernel_1222/869318549.py:85: FutureWarning: Indexing a DataFrame with a datetimelike index using a single string to slice the rows, like `frame[string]`, is deprecated and will be removed in a future version. Use `frame.loc[string]` instead.\n",
      "  mpf.plot(stock_intraday[date],type='candle',\n",
      "/var/folders/0d/2q3_g9bj7tn1m1t1w5crmtvh0000gn/T/ipykernel_1222/869318549.py:85: FutureWarning: Indexing a DataFrame with a datetimelike index using a single string to slice the rows, like `frame[string]`, is deprecated and will be removed in a future version. Use `frame.loc[string]` instead.\n",
      "  mpf.plot(stock_intraday[date],type='candle',\n",
      "/var/folders/0d/2q3_g9bj7tn1m1t1w5crmtvh0000gn/T/ipykernel_1222/869318549.py:85: FutureWarning: Indexing a DataFrame with a datetimelike index using a single string to slice the rows, like `frame[string]`, is deprecated and will be removed in a future version. Use `frame.loc[string]` instead.\n",
      "  mpf.plot(stock_intraday[date],type='candle',\n",
      "/var/folders/0d/2q3_g9bj7tn1m1t1w5crmtvh0000gn/T/ipykernel_1222/869318549.py:85: FutureWarning: Indexing a DataFrame with a datetimelike index using a single string to slice the rows, like `frame[string]`, is deprecated and will be removed in a future version. Use `frame.loc[string]` instead.\n",
      "  mpf.plot(stock_intraday[date],type='candle',\n"
     ]
    },
    {
     "name": "stdout",
     "output_type": "stream",
     "text": [
      "2022-04-14\n",
      "2022-04-18\n",
      "2022-04-19\n",
      "2022-04-20\n"
     ]
    },
    {
     "name": "stderr",
     "output_type": "stream",
     "text": [
      "/var/folders/0d/2q3_g9bj7tn1m1t1w5crmtvh0000gn/T/ipykernel_1222/869318549.py:85: FutureWarning: Indexing a DataFrame with a datetimelike index using a single string to slice the rows, like `frame[string]`, is deprecated and will be removed in a future version. Use `frame.loc[string]` instead.\n",
      "  mpf.plot(stock_intraday[date],type='candle',\n",
      "/var/folders/0d/2q3_g9bj7tn1m1t1w5crmtvh0000gn/T/ipykernel_1222/869318549.py:85: FutureWarning: Indexing a DataFrame with a datetimelike index using a single string to slice the rows, like `frame[string]`, is deprecated and will be removed in a future version. Use `frame.loc[string]` instead.\n",
      "  mpf.plot(stock_intraday[date],type='candle',\n",
      "/var/folders/0d/2q3_g9bj7tn1m1t1w5crmtvh0000gn/T/ipykernel_1222/869318549.py:85: FutureWarning: Indexing a DataFrame with a datetimelike index using a single string to slice the rows, like `frame[string]`, is deprecated and will be removed in a future version. Use `frame.loc[string]` instead.\n",
      "  mpf.plot(stock_intraday[date],type='candle',\n",
      "/var/folders/0d/2q3_g9bj7tn1m1t1w5crmtvh0000gn/T/ipykernel_1222/869318549.py:85: FutureWarning: Indexing a DataFrame with a datetimelike index using a single string to slice the rows, like `frame[string]`, is deprecated and will be removed in a future version. Use `frame.loc[string]` instead.\n",
      "  mpf.plot(stock_intraday[date],type='candle',\n"
     ]
    },
    {
     "name": "stdout",
     "output_type": "stream",
     "text": [
      "2022-04-21\n",
      "2022-04-22\n"
     ]
    },
    {
     "name": "stderr",
     "output_type": "stream",
     "text": [
      "/var/folders/0d/2q3_g9bj7tn1m1t1w5crmtvh0000gn/T/ipykernel_1222/869318549.py:85: FutureWarning: Indexing a DataFrame with a datetimelike index using a single string to slice the rows, like `frame[string]`, is deprecated and will be removed in a future version. Use `frame.loc[string]` instead.\n",
      "  mpf.plot(stock_intraday[date],type='candle',\n",
      "/var/folders/0d/2q3_g9bj7tn1m1t1w5crmtvh0000gn/T/ipykernel_1222/869318549.py:85: FutureWarning: Indexing a DataFrame with a datetimelike index using a single string to slice the rows, like `frame[string]`, is deprecated and will be removed in a future version. Use `frame.loc[string]` instead.\n",
      "  mpf.plot(stock_intraday[date],type='candle',\n",
      "/var/folders/0d/2q3_g9bj7tn1m1t1w5crmtvh0000gn/T/ipykernel_1222/869318549.py:85: FutureWarning: Indexing a DataFrame with a datetimelike index using a single string to slice the rows, like `frame[string]`, is deprecated and will be removed in a future version. Use `frame.loc[string]` instead.\n",
      "  mpf.plot(stock_intraday[date],type='candle',\n",
      "/var/folders/0d/2q3_g9bj7tn1m1t1w5crmtvh0000gn/T/ipykernel_1222/869318549.py:85: FutureWarning: Indexing a DataFrame with a datetimelike index using a single string to slice the rows, like `frame[string]`, is deprecated and will be removed in a future version. Use `frame.loc[string]` instead.\n",
      "  mpf.plot(stock_intraday[date],type='candle',\n"
     ]
    },
    {
     "name": "stdout",
     "output_type": "stream",
     "text": [
      "2022-04-25\n",
      "2022-04-26\n",
      "2022-04-27\n",
      "2022-04-28\n"
     ]
    },
    {
     "name": "stderr",
     "output_type": "stream",
     "text": [
      "/var/folders/0d/2q3_g9bj7tn1m1t1w5crmtvh0000gn/T/ipykernel_1222/869318549.py:85: FutureWarning: Indexing a DataFrame with a datetimelike index using a single string to slice the rows, like `frame[string]`, is deprecated and will be removed in a future version. Use `frame.loc[string]` instead.\n",
      "  mpf.plot(stock_intraday[date],type='candle',\n",
      "/var/folders/0d/2q3_g9bj7tn1m1t1w5crmtvh0000gn/T/ipykernel_1222/869318549.py:85: FutureWarning: Indexing a DataFrame with a datetimelike index using a single string to slice the rows, like `frame[string]`, is deprecated and will be removed in a future version. Use `frame.loc[string]` instead.\n",
      "  mpf.plot(stock_intraday[date],type='candle',\n",
      "/var/folders/0d/2q3_g9bj7tn1m1t1w5crmtvh0000gn/T/ipykernel_1222/869318549.py:85: FutureWarning: Indexing a DataFrame with a datetimelike index using a single string to slice the rows, like `frame[string]`, is deprecated and will be removed in a future version. Use `frame.loc[string]` instead.\n",
      "  mpf.plot(stock_intraday[date],type='candle',\n",
      "/var/folders/0d/2q3_g9bj7tn1m1t1w5crmtvh0000gn/T/ipykernel_1222/869318549.py:85: FutureWarning: Indexing a DataFrame with a datetimelike index using a single string to slice the rows, like `frame[string]`, is deprecated and will be removed in a future version. Use `frame.loc[string]` instead.\n",
      "  mpf.plot(stock_intraday[date],type='candle',\n"
     ]
    },
    {
     "name": "stdout",
     "output_type": "stream",
     "text": [
      "2022-04-29\n",
      "2022-05-02\n",
      "2022-05-03\n",
      "2022-05-04\n"
     ]
    },
    {
     "name": "stderr",
     "output_type": "stream",
     "text": [
      "/var/folders/0d/2q3_g9bj7tn1m1t1w5crmtvh0000gn/T/ipykernel_1222/869318549.py:85: FutureWarning: Indexing a DataFrame with a datetimelike index using a single string to slice the rows, like `frame[string]`, is deprecated and will be removed in a future version. Use `frame.loc[string]` instead.\n",
      "  mpf.plot(stock_intraday[date],type='candle',\n",
      "/var/folders/0d/2q3_g9bj7tn1m1t1w5crmtvh0000gn/T/ipykernel_1222/869318549.py:85: FutureWarning: Indexing a DataFrame with a datetimelike index using a single string to slice the rows, like `frame[string]`, is deprecated and will be removed in a future version. Use `frame.loc[string]` instead.\n",
      "  mpf.plot(stock_intraday[date],type='candle',\n",
      "/var/folders/0d/2q3_g9bj7tn1m1t1w5crmtvh0000gn/T/ipykernel_1222/869318549.py:85: FutureWarning: Indexing a DataFrame with a datetimelike index using a single string to slice the rows, like `frame[string]`, is deprecated and will be removed in a future version. Use `frame.loc[string]` instead.\n",
      "  mpf.plot(stock_intraday[date],type='candle',\n",
      "/var/folders/0d/2q3_g9bj7tn1m1t1w5crmtvh0000gn/T/ipykernel_1222/869318549.py:85: FutureWarning: Indexing a DataFrame with a datetimelike index using a single string to slice the rows, like `frame[string]`, is deprecated and will be removed in a future version. Use `frame.loc[string]` instead.\n",
      "  mpf.plot(stock_intraday[date],type='candle',\n"
     ]
    },
    {
     "name": "stdout",
     "output_type": "stream",
     "text": [
      "2022-05-05\n",
      "2022-05-06\n",
      "2022-05-09\n",
      "2022-05-10\n"
     ]
    },
    {
     "name": "stderr",
     "output_type": "stream",
     "text": [
      "/var/folders/0d/2q3_g9bj7tn1m1t1w5crmtvh0000gn/T/ipykernel_1222/869318549.py:85: FutureWarning: Indexing a DataFrame with a datetimelike index using a single string to slice the rows, like `frame[string]`, is deprecated and will be removed in a future version. Use `frame.loc[string]` instead.\n",
      "  mpf.plot(stock_intraday[date],type='candle',\n",
      "/var/folders/0d/2q3_g9bj7tn1m1t1w5crmtvh0000gn/T/ipykernel_1222/869318549.py:85: FutureWarning: Indexing a DataFrame with a datetimelike index using a single string to slice the rows, like `frame[string]`, is deprecated and will be removed in a future version. Use `frame.loc[string]` instead.\n",
      "  mpf.plot(stock_intraday[date],type='candle',\n",
      "/var/folders/0d/2q3_g9bj7tn1m1t1w5crmtvh0000gn/T/ipykernel_1222/869318549.py:85: FutureWarning: Indexing a DataFrame with a datetimelike index using a single string to slice the rows, like `frame[string]`, is deprecated and will be removed in a future version. Use `frame.loc[string]` instead.\n",
      "  mpf.plot(stock_intraday[date],type='candle',\n",
      "/var/folders/0d/2q3_g9bj7tn1m1t1w5crmtvh0000gn/T/ipykernel_1222/869318549.py:85: FutureWarning: Indexing a DataFrame with a datetimelike index using a single string to slice the rows, like `frame[string]`, is deprecated and will be removed in a future version. Use `frame.loc[string]` instead.\n",
      "  mpf.plot(stock_intraday[date],type='candle',\n"
     ]
    },
    {
     "name": "stdout",
     "output_type": "stream",
     "text": [
      "2022-05-11\n",
      "2022-05-12\n",
      "2022-05-13\n",
      "2022-05-16\n"
     ]
    },
    {
     "name": "stderr",
     "output_type": "stream",
     "text": [
      "/var/folders/0d/2q3_g9bj7tn1m1t1w5crmtvh0000gn/T/ipykernel_1222/869318549.py:85: FutureWarning: Indexing a DataFrame with a datetimelike index using a single string to slice the rows, like `frame[string]`, is deprecated and will be removed in a future version. Use `frame.loc[string]` instead.\n",
      "  mpf.plot(stock_intraday[date],type='candle',\n",
      "/var/folders/0d/2q3_g9bj7tn1m1t1w5crmtvh0000gn/T/ipykernel_1222/869318549.py:85: FutureWarning: Indexing a DataFrame with a datetimelike index using a single string to slice the rows, like `frame[string]`, is deprecated and will be removed in a future version. Use `frame.loc[string]` instead.\n",
      "  mpf.plot(stock_intraday[date],type='candle',\n",
      "/var/folders/0d/2q3_g9bj7tn1m1t1w5crmtvh0000gn/T/ipykernel_1222/869318549.py:85: FutureWarning: Indexing a DataFrame with a datetimelike index using a single string to slice the rows, like `frame[string]`, is deprecated and will be removed in a future version. Use `frame.loc[string]` instead.\n",
      "  mpf.plot(stock_intraday[date],type='candle',\n",
      "/var/folders/0d/2q3_g9bj7tn1m1t1w5crmtvh0000gn/T/ipykernel_1222/869318549.py:85: FutureWarning: Indexing a DataFrame with a datetimelike index using a single string to slice the rows, like `frame[string]`, is deprecated and will be removed in a future version. Use `frame.loc[string]` instead.\n",
      "  mpf.plot(stock_intraday[date],type='candle',\n"
     ]
    },
    {
     "name": "stdout",
     "output_type": "stream",
     "text": [
      "2022-05-17\n",
      "2022-05-18\n",
      "2022-05-19\n",
      "2022-05-20\n"
     ]
    },
    {
     "name": "stderr",
     "output_type": "stream",
     "text": [
      "/var/folders/0d/2q3_g9bj7tn1m1t1w5crmtvh0000gn/T/ipykernel_1222/869318549.py:85: FutureWarning: Indexing a DataFrame with a datetimelike index using a single string to slice the rows, like `frame[string]`, is deprecated and will be removed in a future version. Use `frame.loc[string]` instead.\n",
      "  mpf.plot(stock_intraday[date],type='candle',\n",
      "/var/folders/0d/2q3_g9bj7tn1m1t1w5crmtvh0000gn/T/ipykernel_1222/869318549.py:85: FutureWarning: Indexing a DataFrame with a datetimelike index using a single string to slice the rows, like `frame[string]`, is deprecated and will be removed in a future version. Use `frame.loc[string]` instead.\n",
      "  mpf.plot(stock_intraday[date],type='candle',\n",
      "/var/folders/0d/2q3_g9bj7tn1m1t1w5crmtvh0000gn/T/ipykernel_1222/869318549.py:85: FutureWarning: Indexing a DataFrame with a datetimelike index using a single string to slice the rows, like `frame[string]`, is deprecated and will be removed in a future version. Use `frame.loc[string]` instead.\n",
      "  mpf.plot(stock_intraday[date],type='candle',\n",
      "/var/folders/0d/2q3_g9bj7tn1m1t1w5crmtvh0000gn/T/ipykernel_1222/869318549.py:85: FutureWarning: Indexing a DataFrame with a datetimelike index using a single string to slice the rows, like `frame[string]`, is deprecated and will be removed in a future version. Use `frame.loc[string]` instead.\n",
      "  mpf.plot(stock_intraday[date],type='candle',\n"
     ]
    },
    {
     "name": "stdout",
     "output_type": "stream",
     "text": [
      "2022-05-23\n",
      "2022-05-24\n",
      "2022-05-25\n",
      "2022-05-26\n"
     ]
    },
    {
     "name": "stderr",
     "output_type": "stream",
     "text": [
      "/var/folders/0d/2q3_g9bj7tn1m1t1w5crmtvh0000gn/T/ipykernel_1222/869318549.py:85: FutureWarning: Indexing a DataFrame with a datetimelike index using a single string to slice the rows, like `frame[string]`, is deprecated and will be removed in a future version. Use `frame.loc[string]` instead.\n",
      "  mpf.plot(stock_intraday[date],type='candle',\n",
      "/var/folders/0d/2q3_g9bj7tn1m1t1w5crmtvh0000gn/T/ipykernel_1222/869318549.py:85: FutureWarning: Indexing a DataFrame with a datetimelike index using a single string to slice the rows, like `frame[string]`, is deprecated and will be removed in a future version. Use `frame.loc[string]` instead.\n",
      "  mpf.plot(stock_intraday[date],type='candle',\n"
     ]
    },
    {
     "name": "stdout",
     "output_type": "stream",
     "text": [
      "2022-05-27\n",
      "2022-05-31\n"
     ]
    },
    {
     "name": "stderr",
     "output_type": "stream",
     "text": [
      "/var/folders/0d/2q3_g9bj7tn1m1t1w5crmtvh0000gn/T/ipykernel_1222/869318549.py:85: FutureWarning: Indexing a DataFrame with a datetimelike index using a single string to slice the rows, like `frame[string]`, is deprecated and will be removed in a future version. Use `frame.loc[string]` instead.\n",
      "  mpf.plot(stock_intraday[date],type='candle',\n",
      "/var/folders/0d/2q3_g9bj7tn1m1t1w5crmtvh0000gn/T/ipykernel_1222/869318549.py:85: FutureWarning: Indexing a DataFrame with a datetimelike index using a single string to slice the rows, like `frame[string]`, is deprecated and will be removed in a future version. Use `frame.loc[string]` instead.\n",
      "  mpf.plot(stock_intraday[date],type='candle',\n",
      "/var/folders/0d/2q3_g9bj7tn1m1t1w5crmtvh0000gn/T/ipykernel_1222/869318549.py:85: FutureWarning: Indexing a DataFrame with a datetimelike index using a single string to slice the rows, like `frame[string]`, is deprecated and will be removed in a future version. Use `frame.loc[string]` instead.\n",
      "  mpf.plot(stock_intraday[date],type='candle',\n",
      "/var/folders/0d/2q3_g9bj7tn1m1t1w5crmtvh0000gn/T/ipykernel_1222/869318549.py:85: FutureWarning: Indexing a DataFrame with a datetimelike index using a single string to slice the rows, like `frame[string]`, is deprecated and will be removed in a future version. Use `frame.loc[string]` instead.\n",
      "  mpf.plot(stock_intraday[date],type='candle',\n"
     ]
    },
    {
     "name": "stdout",
     "output_type": "stream",
     "text": [
      "2022-06-01\n",
      "2022-06-02\n",
      "2022-06-03\n",
      "2022-06-06\n"
     ]
    },
    {
     "name": "stderr",
     "output_type": "stream",
     "text": [
      "/var/folders/0d/2q3_g9bj7tn1m1t1w5crmtvh0000gn/T/ipykernel_1222/869318549.py:85: FutureWarning: Indexing a DataFrame with a datetimelike index using a single string to slice the rows, like `frame[string]`, is deprecated and will be removed in a future version. Use `frame.loc[string]` instead.\n",
      "  mpf.plot(stock_intraday[date],type='candle',\n",
      "/var/folders/0d/2q3_g9bj7tn1m1t1w5crmtvh0000gn/T/ipykernel_1222/869318549.py:85: FutureWarning: Indexing a DataFrame with a datetimelike index using a single string to slice the rows, like `frame[string]`, is deprecated and will be removed in a future version. Use `frame.loc[string]` instead.\n",
      "  mpf.plot(stock_intraday[date],type='candle',\n",
      "/var/folders/0d/2q3_g9bj7tn1m1t1w5crmtvh0000gn/T/ipykernel_1222/869318549.py:85: FutureWarning: Indexing a DataFrame with a datetimelike index using a single string to slice the rows, like `frame[string]`, is deprecated and will be removed in a future version. Use `frame.loc[string]` instead.\n",
      "  mpf.plot(stock_intraday[date],type='candle',\n",
      "/var/folders/0d/2q3_g9bj7tn1m1t1w5crmtvh0000gn/T/ipykernel_1222/869318549.py:85: FutureWarning: Indexing a DataFrame with a datetimelike index using a single string to slice the rows, like `frame[string]`, is deprecated and will be removed in a future version. Use `frame.loc[string]` instead.\n",
      "  mpf.plot(stock_intraday[date],type='candle',\n"
     ]
    },
    {
     "name": "stdout",
     "output_type": "stream",
     "text": [
      "2022-06-07\n",
      "2022-06-08\n",
      "2022-06-09\n",
      "2022-06-10\n"
     ]
    },
    {
     "name": "stderr",
     "output_type": "stream",
     "text": [
      "/var/folders/0d/2q3_g9bj7tn1m1t1w5crmtvh0000gn/T/ipykernel_1222/869318549.py:85: FutureWarning: Indexing a DataFrame with a datetimelike index using a single string to slice the rows, like `frame[string]`, is deprecated and will be removed in a future version. Use `frame.loc[string]` instead.\n",
      "  mpf.plot(stock_intraday[date],type='candle',\n",
      "/var/folders/0d/2q3_g9bj7tn1m1t1w5crmtvh0000gn/T/ipykernel_1222/869318549.py:85: FutureWarning: Indexing a DataFrame with a datetimelike index using a single string to slice the rows, like `frame[string]`, is deprecated and will be removed in a future version. Use `frame.loc[string]` instead.\n",
      "  mpf.plot(stock_intraday[date],type='candle',\n",
      "/var/folders/0d/2q3_g9bj7tn1m1t1w5crmtvh0000gn/T/ipykernel_1222/869318549.py:85: FutureWarning: Indexing a DataFrame with a datetimelike index using a single string to slice the rows, like `frame[string]`, is deprecated and will be removed in a future version. Use `frame.loc[string]` instead.\n",
      "  mpf.plot(stock_intraday[date],type='candle',\n",
      "/var/folders/0d/2q3_g9bj7tn1m1t1w5crmtvh0000gn/T/ipykernel_1222/869318549.py:85: FutureWarning: Indexing a DataFrame with a datetimelike index using a single string to slice the rows, like `frame[string]`, is deprecated and will be removed in a future version. Use `frame.loc[string]` instead.\n",
      "  mpf.plot(stock_intraday[date],type='candle',\n"
     ]
    },
    {
     "name": "stdout",
     "output_type": "stream",
     "text": [
      "2022-06-13\n",
      "2022-06-14\n",
      "2022-06-15\n",
      "2022-06-16\n"
     ]
    },
    {
     "name": "stderr",
     "output_type": "stream",
     "text": [
      "/var/folders/0d/2q3_g9bj7tn1m1t1w5crmtvh0000gn/T/ipykernel_1222/869318549.py:85: FutureWarning: Indexing a DataFrame with a datetimelike index using a single string to slice the rows, like `frame[string]`, is deprecated and will be removed in a future version. Use `frame.loc[string]` instead.\n",
      "  mpf.plot(stock_intraday[date],type='candle',\n",
      "/var/folders/0d/2q3_g9bj7tn1m1t1w5crmtvh0000gn/T/ipykernel_1222/869318549.py:85: FutureWarning: Indexing a DataFrame with a datetimelike index using a single string to slice the rows, like `frame[string]`, is deprecated and will be removed in a future version. Use `frame.loc[string]` instead.\n",
      "  mpf.plot(stock_intraday[date],type='candle',\n",
      "/var/folders/0d/2q3_g9bj7tn1m1t1w5crmtvh0000gn/T/ipykernel_1222/869318549.py:85: FutureWarning: Indexing a DataFrame with a datetimelike index using a single string to slice the rows, like `frame[string]`, is deprecated and will be removed in a future version. Use `frame.loc[string]` instead.\n",
      "  mpf.plot(stock_intraday[date],type='candle',\n",
      "/var/folders/0d/2q3_g9bj7tn1m1t1w5crmtvh0000gn/T/ipykernel_1222/869318549.py:85: FutureWarning: Indexing a DataFrame with a datetimelike index using a single string to slice the rows, like `frame[string]`, is deprecated and will be removed in a future version. Use `frame.loc[string]` instead.\n",
      "  mpf.plot(stock_intraday[date],type='candle',\n"
     ]
    },
    {
     "name": "stdout",
     "output_type": "stream",
     "text": [
      "2022-06-17\n",
      "2022-06-21\n",
      "2022-06-22\n",
      "2022-06-23\n"
     ]
    },
    {
     "name": "stderr",
     "output_type": "stream",
     "text": [
      "/var/folders/0d/2q3_g9bj7tn1m1t1w5crmtvh0000gn/T/ipykernel_1222/869318549.py:85: FutureWarning: Indexing a DataFrame with a datetimelike index using a single string to slice the rows, like `frame[string]`, is deprecated and will be removed in a future version. Use `frame.loc[string]` instead.\n",
      "  mpf.plot(stock_intraday[date],type='candle',\n",
      "/var/folders/0d/2q3_g9bj7tn1m1t1w5crmtvh0000gn/T/ipykernel_1222/869318549.py:85: FutureWarning: Indexing a DataFrame with a datetimelike index using a single string to slice the rows, like `frame[string]`, is deprecated and will be removed in a future version. Use `frame.loc[string]` instead.\n",
      "  mpf.plot(stock_intraday[date],type='candle',\n",
      "/var/folders/0d/2q3_g9bj7tn1m1t1w5crmtvh0000gn/T/ipykernel_1222/869318549.py:85: FutureWarning: Indexing a DataFrame with a datetimelike index using a single string to slice the rows, like `frame[string]`, is deprecated and will be removed in a future version. Use `frame.loc[string]` instead.\n",
      "  mpf.plot(stock_intraday[date],type='candle',\n",
      "/var/folders/0d/2q3_g9bj7tn1m1t1w5crmtvh0000gn/T/ipykernel_1222/869318549.py:85: FutureWarning: Indexing a DataFrame with a datetimelike index using a single string to slice the rows, like `frame[string]`, is deprecated and will be removed in a future version. Use `frame.loc[string]` instead.\n",
      "  mpf.plot(stock_intraday[date],type='candle',\n"
     ]
    },
    {
     "name": "stdout",
     "output_type": "stream",
     "text": [
      "2022-06-24\n",
      "2022-06-27\n",
      "2022-06-28\n",
      "2022-06-29\n"
     ]
    },
    {
     "name": "stderr",
     "output_type": "stream",
     "text": [
      "/var/folders/0d/2q3_g9bj7tn1m1t1w5crmtvh0000gn/T/ipykernel_1222/869318549.py:85: FutureWarning: Indexing a DataFrame with a datetimelike index using a single string to slice the rows, like `frame[string]`, is deprecated and will be removed in a future version. Use `frame.loc[string]` instead.\n",
      "  mpf.plot(stock_intraday[date],type='candle',\n",
      "/var/folders/0d/2q3_g9bj7tn1m1t1w5crmtvh0000gn/T/ipykernel_1222/869318549.py:85: FutureWarning: Indexing a DataFrame with a datetimelike index using a single string to slice the rows, like `frame[string]`, is deprecated and will be removed in a future version. Use `frame.loc[string]` instead.\n",
      "  mpf.plot(stock_intraday[date],type='candle',\n",
      "/var/folders/0d/2q3_g9bj7tn1m1t1w5crmtvh0000gn/T/ipykernel_1222/869318549.py:85: FutureWarning: Indexing a DataFrame with a datetimelike index using a single string to slice the rows, like `frame[string]`, is deprecated and will be removed in a future version. Use `frame.loc[string]` instead.\n",
      "  mpf.plot(stock_intraday[date],type='candle',\n",
      "/var/folders/0d/2q3_g9bj7tn1m1t1w5crmtvh0000gn/T/ipykernel_1222/869318549.py:85: FutureWarning: Indexing a DataFrame with a datetimelike index using a single string to slice the rows, like `frame[string]`, is deprecated and will be removed in a future version. Use `frame.loc[string]` instead.\n",
      "  mpf.plot(stock_intraday[date],type='candle',\n"
     ]
    },
    {
     "name": "stdout",
     "output_type": "stream",
     "text": [
      "2022-06-30\n",
      "2022-07-01\n",
      "2022-07-05\n",
      "2022-07-06\n"
     ]
    },
    {
     "name": "stderr",
     "output_type": "stream",
     "text": [
      "/var/folders/0d/2q3_g9bj7tn1m1t1w5crmtvh0000gn/T/ipykernel_1222/869318549.py:85: FutureWarning: Indexing a DataFrame with a datetimelike index using a single string to slice the rows, like `frame[string]`, is deprecated and will be removed in a future version. Use `frame.loc[string]` instead.\n",
      "  mpf.plot(stock_intraday[date],type='candle',\n",
      "/var/folders/0d/2q3_g9bj7tn1m1t1w5crmtvh0000gn/T/ipykernel_1222/869318549.py:85: FutureWarning: Indexing a DataFrame with a datetimelike index using a single string to slice the rows, like `frame[string]`, is deprecated and will be removed in a future version. Use `frame.loc[string]` instead.\n",
      "  mpf.plot(stock_intraday[date],type='candle',\n",
      "/var/folders/0d/2q3_g9bj7tn1m1t1w5crmtvh0000gn/T/ipykernel_1222/869318549.py:85: FutureWarning: Indexing a DataFrame with a datetimelike index using a single string to slice the rows, like `frame[string]`, is deprecated and will be removed in a future version. Use `frame.loc[string]` instead.\n",
      "  mpf.plot(stock_intraday[date],type='candle',\n",
      "/var/folders/0d/2q3_g9bj7tn1m1t1w5crmtvh0000gn/T/ipykernel_1222/869318549.py:85: FutureWarning: Indexing a DataFrame with a datetimelike index using a single string to slice the rows, like `frame[string]`, is deprecated and will be removed in a future version. Use `frame.loc[string]` instead.\n",
      "  mpf.plot(stock_intraday[date],type='candle',\n"
     ]
    },
    {
     "name": "stdout",
     "output_type": "stream",
     "text": [
      "2022-07-07\n",
      "2022-07-08\n",
      "2022-07-11\n",
      "2022-07-12\n"
     ]
    },
    {
     "name": "stderr",
     "output_type": "stream",
     "text": [
      "/var/folders/0d/2q3_g9bj7tn1m1t1w5crmtvh0000gn/T/ipykernel_1222/869318549.py:85: FutureWarning: Indexing a DataFrame with a datetimelike index using a single string to slice the rows, like `frame[string]`, is deprecated and will be removed in a future version. Use `frame.loc[string]` instead.\n",
      "  mpf.plot(stock_intraday[date],type='candle',\n",
      "/var/folders/0d/2q3_g9bj7tn1m1t1w5crmtvh0000gn/T/ipykernel_1222/869318549.py:85: FutureWarning: Indexing a DataFrame with a datetimelike index using a single string to slice the rows, like `frame[string]`, is deprecated and will be removed in a future version. Use `frame.loc[string]` instead.\n",
      "  mpf.plot(stock_intraday[date],type='candle',\n",
      "/var/folders/0d/2q3_g9bj7tn1m1t1w5crmtvh0000gn/T/ipykernel_1222/869318549.py:85: FutureWarning: Indexing a DataFrame with a datetimelike index using a single string to slice the rows, like `frame[string]`, is deprecated and will be removed in a future version. Use `frame.loc[string]` instead.\n",
      "  mpf.plot(stock_intraday[date],type='candle',\n"
     ]
    },
    {
     "name": "stdout",
     "output_type": "stream",
     "text": [
      "2022-07-13\n",
      "2022-07-14\n",
      "2022-07-15\n"
     ]
    },
    {
     "name": "stderr",
     "output_type": "stream",
     "text": [
      "/var/folders/0d/2q3_g9bj7tn1m1t1w5crmtvh0000gn/T/ipykernel_1222/869318549.py:85: FutureWarning: Indexing a DataFrame with a datetimelike index using a single string to slice the rows, like `frame[string]`, is deprecated and will be removed in a future version. Use `frame.loc[string]` instead.\n",
      "  mpf.plot(stock_intraday[date],type='candle',\n",
      "/var/folders/0d/2q3_g9bj7tn1m1t1w5crmtvh0000gn/T/ipykernel_1222/869318549.py:85: FutureWarning: Indexing a DataFrame with a datetimelike index using a single string to slice the rows, like `frame[string]`, is deprecated and will be removed in a future version. Use `frame.loc[string]` instead.\n",
      "  mpf.plot(stock_intraday[date],type='candle',\n"
     ]
    },
    {
     "name": "stdout",
     "output_type": "stream",
     "text": [
      "2022-07-18\n",
      "2022-07-19\n",
      "2022-07-20\n",
      "2022-07-21\n",
      "2022-07-22\n"
     ]
    },
    {
     "name": "stderr",
     "output_type": "stream",
     "text": [
      "/var/folders/0d/2q3_g9bj7tn1m1t1w5crmtvh0000gn/T/ipykernel_1222/869318549.py:85: FutureWarning: Indexing a DataFrame with a datetimelike index using a single string to slice the rows, like `frame[string]`, is deprecated and will be removed in a future version. Use `frame.loc[string]` instead.\n",
      "  mpf.plot(stock_intraday[date],type='candle',\n",
      "/var/folders/0d/2q3_g9bj7tn1m1t1w5crmtvh0000gn/T/ipykernel_1222/869318549.py:85: FutureWarning: Indexing a DataFrame with a datetimelike index using a single string to slice the rows, like `frame[string]`, is deprecated and will be removed in a future version. Use `frame.loc[string]` instead.\n",
      "  mpf.plot(stock_intraday[date],type='candle',\n",
      "/var/folders/0d/2q3_g9bj7tn1m1t1w5crmtvh0000gn/T/ipykernel_1222/869318549.py:85: FutureWarning: Indexing a DataFrame with a datetimelike index using a single string to slice the rows, like `frame[string]`, is deprecated and will be removed in a future version. Use `frame.loc[string]` instead.\n",
      "  mpf.plot(stock_intraday[date],type='candle',\n",
      "/var/folders/0d/2q3_g9bj7tn1m1t1w5crmtvh0000gn/T/ipykernel_1222/869318549.py:85: FutureWarning: Indexing a DataFrame with a datetimelike index using a single string to slice the rows, like `frame[string]`, is deprecated and will be removed in a future version. Use `frame.loc[string]` instead.\n",
      "  mpf.plot(stock_intraday[date],type='candle',\n"
     ]
    },
    {
     "name": "stdout",
     "output_type": "stream",
     "text": [
      "2022-07-25\n",
      "2022-07-26\n",
      "2022-07-27\n",
      "2022-07-28\n"
     ]
    },
    {
     "name": "stderr",
     "output_type": "stream",
     "text": [
      "/var/folders/0d/2q3_g9bj7tn1m1t1w5crmtvh0000gn/T/ipykernel_1222/869318549.py:85: FutureWarning: Indexing a DataFrame with a datetimelike index using a single string to slice the rows, like `frame[string]`, is deprecated and will be removed in a future version. Use `frame.loc[string]` instead.\n",
      "  mpf.plot(stock_intraday[date],type='candle',\n",
      "/var/folders/0d/2q3_g9bj7tn1m1t1w5crmtvh0000gn/T/ipykernel_1222/869318549.py:85: FutureWarning: Indexing a DataFrame with a datetimelike index using a single string to slice the rows, like `frame[string]`, is deprecated and will be removed in a future version. Use `frame.loc[string]` instead.\n",
      "  mpf.plot(stock_intraday[date],type='candle',\n",
      "/var/folders/0d/2q3_g9bj7tn1m1t1w5crmtvh0000gn/T/ipykernel_1222/869318549.py:85: FutureWarning: Indexing a DataFrame with a datetimelike index using a single string to slice the rows, like `frame[string]`, is deprecated and will be removed in a future version. Use `frame.loc[string]` instead.\n",
      "  mpf.plot(stock_intraday[date],type='candle',\n",
      "/var/folders/0d/2q3_g9bj7tn1m1t1w5crmtvh0000gn/T/ipykernel_1222/869318549.py:85: FutureWarning: Indexing a DataFrame with a datetimelike index using a single string to slice the rows, like `frame[string]`, is deprecated and will be removed in a future version. Use `frame.loc[string]` instead.\n",
      "  mpf.plot(stock_intraday[date],type='candle',\n"
     ]
    },
    {
     "name": "stdout",
     "output_type": "stream",
     "text": [
      "2022-07-29\n",
      "2022-08-01\n",
      "2022-08-02\n"
     ]
    },
    {
     "name": "stderr",
     "output_type": "stream",
     "text": [
      "/var/folders/0d/2q3_g9bj7tn1m1t1w5crmtvh0000gn/T/ipykernel_1222/869318549.py:85: FutureWarning: Indexing a DataFrame with a datetimelike index using a single string to slice the rows, like `frame[string]`, is deprecated and will be removed in a future version. Use `frame.loc[string]` instead.\n",
      "  mpf.plot(stock_intraday[date],type='candle',\n",
      "/var/folders/0d/2q3_g9bj7tn1m1t1w5crmtvh0000gn/T/ipykernel_1222/869318549.py:85: FutureWarning: Indexing a DataFrame with a datetimelike index using a single string to slice the rows, like `frame[string]`, is deprecated and will be removed in a future version. Use `frame.loc[string]` instead.\n",
      "  mpf.plot(stock_intraday[date],type='candle',\n",
      "/var/folders/0d/2q3_g9bj7tn1m1t1w5crmtvh0000gn/T/ipykernel_1222/869318549.py:85: FutureWarning: Indexing a DataFrame with a datetimelike index using a single string to slice the rows, like `frame[string]`, is deprecated and will be removed in a future version. Use `frame.loc[string]` instead.\n",
      "  mpf.plot(stock_intraday[date],type='candle',\n"
     ]
    },
    {
     "name": "stdout",
     "output_type": "stream",
     "text": [
      "2022-08-03\n",
      "2022-08-04\n",
      "2022-08-05\n",
      "2022-08-08\n"
     ]
    },
    {
     "name": "stderr",
     "output_type": "stream",
     "text": [
      "/var/folders/0d/2q3_g9bj7tn1m1t1w5crmtvh0000gn/T/ipykernel_1222/869318549.py:85: FutureWarning: Indexing a DataFrame with a datetimelike index using a single string to slice the rows, like `frame[string]`, is deprecated and will be removed in a future version. Use `frame.loc[string]` instead.\n",
      "  mpf.plot(stock_intraday[date],type='candle',\n",
      "/var/folders/0d/2q3_g9bj7tn1m1t1w5crmtvh0000gn/T/ipykernel_1222/869318549.py:85: FutureWarning: Indexing a DataFrame with a datetimelike index using a single string to slice the rows, like `frame[string]`, is deprecated and will be removed in a future version. Use `frame.loc[string]` instead.\n",
      "  mpf.plot(stock_intraday[date],type='candle',\n",
      "/var/folders/0d/2q3_g9bj7tn1m1t1w5crmtvh0000gn/T/ipykernel_1222/869318549.py:85: FutureWarning: Indexing a DataFrame with a datetimelike index using a single string to slice the rows, like `frame[string]`, is deprecated and will be removed in a future version. Use `frame.loc[string]` instead.\n",
      "  mpf.plot(stock_intraday[date],type='candle',\n",
      "/var/folders/0d/2q3_g9bj7tn1m1t1w5crmtvh0000gn/T/ipykernel_1222/869318549.py:85: FutureWarning: Indexing a DataFrame with a datetimelike index using a single string to slice the rows, like `frame[string]`, is deprecated and will be removed in a future version. Use `frame.loc[string]` instead.\n",
      "  mpf.plot(stock_intraday[date],type='candle',\n"
     ]
    },
    {
     "name": "stdout",
     "output_type": "stream",
     "text": [
      "2022-08-09\n",
      "2022-08-10\n",
      "2022-08-11\n",
      "2022-08-12\n"
     ]
    },
    {
     "name": "stderr",
     "output_type": "stream",
     "text": [
      "/var/folders/0d/2q3_g9bj7tn1m1t1w5crmtvh0000gn/T/ipykernel_1222/869318549.py:85: FutureWarning: Indexing a DataFrame with a datetimelike index using a single string to slice the rows, like `frame[string]`, is deprecated and will be removed in a future version. Use `frame.loc[string]` instead.\n",
      "  mpf.plot(stock_intraday[date],type='candle',\n",
      "/var/folders/0d/2q3_g9bj7tn1m1t1w5crmtvh0000gn/T/ipykernel_1222/869318549.py:85: FutureWarning: Indexing a DataFrame with a datetimelike index using a single string to slice the rows, like `frame[string]`, is deprecated and will be removed in a future version. Use `frame.loc[string]` instead.\n",
      "  mpf.plot(stock_intraday[date],type='candle',\n",
      "/var/folders/0d/2q3_g9bj7tn1m1t1w5crmtvh0000gn/T/ipykernel_1222/869318549.py:85: FutureWarning: Indexing a DataFrame with a datetimelike index using a single string to slice the rows, like `frame[string]`, is deprecated and will be removed in a future version. Use `frame.loc[string]` instead.\n",
      "  mpf.plot(stock_intraday[date],type='candle',\n",
      "/var/folders/0d/2q3_g9bj7tn1m1t1w5crmtvh0000gn/T/ipykernel_1222/869318549.py:85: FutureWarning: Indexing a DataFrame with a datetimelike index using a single string to slice the rows, like `frame[string]`, is deprecated and will be removed in a future version. Use `frame.loc[string]` instead.\n",
      "  mpf.plot(stock_intraday[date],type='candle',\n"
     ]
    },
    {
     "name": "stdout",
     "output_type": "stream",
     "text": [
      "2022-08-15\n",
      "2022-08-16\n",
      "2022-08-17\n",
      "2022-08-18\n"
     ]
    },
    {
     "name": "stderr",
     "output_type": "stream",
     "text": [
      "/var/folders/0d/2q3_g9bj7tn1m1t1w5crmtvh0000gn/T/ipykernel_1222/869318549.py:85: FutureWarning: Indexing a DataFrame with a datetimelike index using a single string to slice the rows, like `frame[string]`, is deprecated and will be removed in a future version. Use `frame.loc[string]` instead.\n",
      "  mpf.plot(stock_intraday[date],type='candle',\n",
      "/var/folders/0d/2q3_g9bj7tn1m1t1w5crmtvh0000gn/T/ipykernel_1222/869318549.py:85: FutureWarning: Indexing a DataFrame with a datetimelike index using a single string to slice the rows, like `frame[string]`, is deprecated and will be removed in a future version. Use `frame.loc[string]` instead.\n",
      "  mpf.plot(stock_intraday[date],type='candle',\n",
      "/var/folders/0d/2q3_g9bj7tn1m1t1w5crmtvh0000gn/T/ipykernel_1222/869318549.py:85: FutureWarning: Indexing a DataFrame with a datetimelike index using a single string to slice the rows, like `frame[string]`, is deprecated and will be removed in a future version. Use `frame.loc[string]` instead.\n",
      "  mpf.plot(stock_intraday[date],type='candle',\n",
      "/var/folders/0d/2q3_g9bj7tn1m1t1w5crmtvh0000gn/T/ipykernel_1222/869318549.py:85: FutureWarning: Indexing a DataFrame with a datetimelike index using a single string to slice the rows, like `frame[string]`, is deprecated and will be removed in a future version. Use `frame.loc[string]` instead.\n",
      "  mpf.plot(stock_intraday[date],type='candle',\n"
     ]
    },
    {
     "name": "stdout",
     "output_type": "stream",
     "text": [
      "2022-08-19\n",
      "2022-08-22\n",
      "2022-08-23\n",
      "2022-08-24\n"
     ]
    },
    {
     "name": "stderr",
     "output_type": "stream",
     "text": [
      "/var/folders/0d/2q3_g9bj7tn1m1t1w5crmtvh0000gn/T/ipykernel_1222/869318549.py:85: FutureWarning: Indexing a DataFrame with a datetimelike index using a single string to slice the rows, like `frame[string]`, is deprecated and will be removed in a future version. Use `frame.loc[string]` instead.\n",
      "  mpf.plot(stock_intraday[date],type='candle',\n",
      "/var/folders/0d/2q3_g9bj7tn1m1t1w5crmtvh0000gn/T/ipykernel_1222/869318549.py:85: FutureWarning: Indexing a DataFrame with a datetimelike index using a single string to slice the rows, like `frame[string]`, is deprecated and will be removed in a future version. Use `frame.loc[string]` instead.\n",
      "  mpf.plot(stock_intraday[date],type='candle',\n",
      "/var/folders/0d/2q3_g9bj7tn1m1t1w5crmtvh0000gn/T/ipykernel_1222/869318549.py:85: FutureWarning: Indexing a DataFrame with a datetimelike index using a single string to slice the rows, like `frame[string]`, is deprecated and will be removed in a future version. Use `frame.loc[string]` instead.\n",
      "  mpf.plot(stock_intraday[date],type='candle',\n",
      "/var/folders/0d/2q3_g9bj7tn1m1t1w5crmtvh0000gn/T/ipykernel_1222/869318549.py:85: FutureWarning: Indexing a DataFrame with a datetimelike index using a single string to slice the rows, like `frame[string]`, is deprecated and will be removed in a future version. Use `frame.loc[string]` instead.\n",
      "  mpf.plot(stock_intraday[date],type='candle',\n"
     ]
    },
    {
     "name": "stdout",
     "output_type": "stream",
     "text": [
      "2022-08-25\n",
      "2022-08-26\n",
      "2022-08-29\n",
      "2022-08-30\n"
     ]
    },
    {
     "name": "stderr",
     "output_type": "stream",
     "text": [
      "/var/folders/0d/2q3_g9bj7tn1m1t1w5crmtvh0000gn/T/ipykernel_1222/869318549.py:85: FutureWarning: Indexing a DataFrame with a datetimelike index using a single string to slice the rows, like `frame[string]`, is deprecated and will be removed in a future version. Use `frame.loc[string]` instead.\n",
      "  mpf.plot(stock_intraday[date],type='candle',\n",
      "/var/folders/0d/2q3_g9bj7tn1m1t1w5crmtvh0000gn/T/ipykernel_1222/869318549.py:85: FutureWarning: Indexing a DataFrame with a datetimelike index using a single string to slice the rows, like `frame[string]`, is deprecated and will be removed in a future version. Use `frame.loc[string]` instead.\n",
      "  mpf.plot(stock_intraday[date],type='candle',\n",
      "/var/folders/0d/2q3_g9bj7tn1m1t1w5crmtvh0000gn/T/ipykernel_1222/869318549.py:85: FutureWarning: Indexing a DataFrame with a datetimelike index using a single string to slice the rows, like `frame[string]`, is deprecated and will be removed in a future version. Use `frame.loc[string]` instead.\n",
      "  mpf.plot(stock_intraday[date],type='candle',\n",
      "/var/folders/0d/2q3_g9bj7tn1m1t1w5crmtvh0000gn/T/ipykernel_1222/869318549.py:85: FutureWarning: Indexing a DataFrame with a datetimelike index using a single string to slice the rows, like `frame[string]`, is deprecated and will be removed in a future version. Use `frame.loc[string]` instead.\n",
      "  mpf.plot(stock_intraday[date],type='candle',\n"
     ]
    },
    {
     "name": "stdout",
     "output_type": "stream",
     "text": [
      "2022-08-31\n",
      "2022-09-01\n",
      "2022-09-02\n",
      "2022-09-06\n"
     ]
    },
    {
     "name": "stderr",
     "output_type": "stream",
     "text": [
      "/var/folders/0d/2q3_g9bj7tn1m1t1w5crmtvh0000gn/T/ipykernel_1222/869318549.py:85: FutureWarning: Indexing a DataFrame with a datetimelike index using a single string to slice the rows, like `frame[string]`, is deprecated and will be removed in a future version. Use `frame.loc[string]` instead.\n",
      "  mpf.plot(stock_intraday[date],type='candle',\n",
      "/var/folders/0d/2q3_g9bj7tn1m1t1w5crmtvh0000gn/T/ipykernel_1222/869318549.py:85: FutureWarning: Indexing a DataFrame with a datetimelike index using a single string to slice the rows, like `frame[string]`, is deprecated and will be removed in a future version. Use `frame.loc[string]` instead.\n",
      "  mpf.plot(stock_intraday[date],type='candle',\n",
      "/var/folders/0d/2q3_g9bj7tn1m1t1w5crmtvh0000gn/T/ipykernel_1222/869318549.py:85: FutureWarning: Indexing a DataFrame with a datetimelike index using a single string to slice the rows, like `frame[string]`, is deprecated and will be removed in a future version. Use `frame.loc[string]` instead.\n",
      "  mpf.plot(stock_intraday[date],type='candle',\n",
      "/var/folders/0d/2q3_g9bj7tn1m1t1w5crmtvh0000gn/T/ipykernel_1222/869318549.py:85: FutureWarning: Indexing a DataFrame with a datetimelike index using a single string to slice the rows, like `frame[string]`, is deprecated and will be removed in a future version. Use `frame.loc[string]` instead.\n",
      "  mpf.plot(stock_intraday[date],type='candle',\n"
     ]
    },
    {
     "name": "stdout",
     "output_type": "stream",
     "text": [
      "2022-09-07\n",
      "2022-09-08\n",
      "2022-09-09\n",
      "2022-09-12\n"
     ]
    },
    {
     "name": "stderr",
     "output_type": "stream",
     "text": [
      "/var/folders/0d/2q3_g9bj7tn1m1t1w5crmtvh0000gn/T/ipykernel_1222/869318549.py:85: FutureWarning: Indexing a DataFrame with a datetimelike index using a single string to slice the rows, like `frame[string]`, is deprecated and will be removed in a future version. Use `frame.loc[string]` instead.\n",
      "  mpf.plot(stock_intraday[date],type='candle',\n",
      "/var/folders/0d/2q3_g9bj7tn1m1t1w5crmtvh0000gn/T/ipykernel_1222/869318549.py:85: FutureWarning: Indexing a DataFrame with a datetimelike index using a single string to slice the rows, like `frame[string]`, is deprecated and will be removed in a future version. Use `frame.loc[string]` instead.\n",
      "  mpf.plot(stock_intraday[date],type='candle',\n",
      "/var/folders/0d/2q3_g9bj7tn1m1t1w5crmtvh0000gn/T/ipykernel_1222/869318549.py:85: FutureWarning: Indexing a DataFrame with a datetimelike index using a single string to slice the rows, like `frame[string]`, is deprecated and will be removed in a future version. Use `frame.loc[string]` instead.\n",
      "  mpf.plot(stock_intraday[date],type='candle',\n",
      "/var/folders/0d/2q3_g9bj7tn1m1t1w5crmtvh0000gn/T/ipykernel_1222/869318549.py:85: FutureWarning: Indexing a DataFrame with a datetimelike index using a single string to slice the rows, like `frame[string]`, is deprecated and will be removed in a future version. Use `frame.loc[string]` instead.\n",
      "  mpf.plot(stock_intraday[date],type='candle',\n"
     ]
    },
    {
     "name": "stdout",
     "output_type": "stream",
     "text": [
      "2022-09-13\n"
     ]
    },
    {
     "name": "stderr",
     "output_type": "stream",
     "text": [
      "/var/folders/0d/2q3_g9bj7tn1m1t1w5crmtvh0000gn/T/ipykernel_1222/869318549.py:85: FutureWarning: Indexing a DataFrame with a datetimelike index using a single string to slice the rows, like `frame[string]`, is deprecated and will be removed in a future version. Use `frame.loc[string]` instead.\n",
      "  mpf.plot(stock_intraday[date],type='candle',\n",
      "/var/folders/0d/2q3_g9bj7tn1m1t1w5crmtvh0000gn/T/ipykernel_1222/869318549.py:85: FutureWarning: Indexing a DataFrame with a datetimelike index using a single string to slice the rows, like `frame[string]`, is deprecated and will be removed in a future version. Use `frame.loc[string]` instead.\n",
      "  mpf.plot(stock_intraday[date],type='candle',\n",
      "/var/folders/0d/2q3_g9bj7tn1m1t1w5crmtvh0000gn/T/ipykernel_1222/869318549.py:85: FutureWarning: Indexing a DataFrame with a datetimelike index using a single string to slice the rows, like `frame[string]`, is deprecated and will be removed in a future version. Use `frame.loc[string]` instead.\n",
      "  mpf.plot(stock_intraday[date],type='candle',\n",
      "/var/folders/0d/2q3_g9bj7tn1m1t1w5crmtvh0000gn/T/ipykernel_1222/869318549.py:85: FutureWarning: Indexing a DataFrame with a datetimelike index using a single string to slice the rows, like `frame[string]`, is deprecated and will be removed in a future version. Use `frame.loc[string]` instead.\n",
      "  mpf.plot(stock_intraday[date],type='candle',\n"
     ]
    },
    {
     "name": "stdout",
     "output_type": "stream",
     "text": [
      "2022-09-14\n",
      "2022-09-15\n",
      "2022-09-16\n",
      "2022-09-19\n"
     ]
    },
    {
     "name": "stderr",
     "output_type": "stream",
     "text": [
      "/var/folders/0d/2q3_g9bj7tn1m1t1w5crmtvh0000gn/T/ipykernel_1222/869318549.py:85: FutureWarning: Indexing a DataFrame with a datetimelike index using a single string to slice the rows, like `frame[string]`, is deprecated and will be removed in a future version. Use `frame.loc[string]` instead.\n",
      "  mpf.plot(stock_intraday[date],type='candle',\n",
      "/var/folders/0d/2q3_g9bj7tn1m1t1w5crmtvh0000gn/T/ipykernel_1222/869318549.py:85: FutureWarning: Indexing a DataFrame with a datetimelike index using a single string to slice the rows, like `frame[string]`, is deprecated and will be removed in a future version. Use `frame.loc[string]` instead.\n",
      "  mpf.plot(stock_intraday[date],type='candle',\n",
      "/var/folders/0d/2q3_g9bj7tn1m1t1w5crmtvh0000gn/T/ipykernel_1222/869318549.py:85: FutureWarning: Indexing a DataFrame with a datetimelike index using a single string to slice the rows, like `frame[string]`, is deprecated and will be removed in a future version. Use `frame.loc[string]` instead.\n",
      "  mpf.plot(stock_intraday[date],type='candle',\n",
      "/var/folders/0d/2q3_g9bj7tn1m1t1w5crmtvh0000gn/T/ipykernel_1222/869318549.py:85: FutureWarning: Indexing a DataFrame with a datetimelike index using a single string to slice the rows, like `frame[string]`, is deprecated and will be removed in a future version. Use `frame.loc[string]` instead.\n",
      "  mpf.plot(stock_intraday[date],type='candle',\n"
     ]
    },
    {
     "name": "stdout",
     "output_type": "stream",
     "text": [
      "2022-09-20\n",
      "2022-09-21\n",
      "2022-09-22\n",
      "2022-09-23\n"
     ]
    },
    {
     "name": "stderr",
     "output_type": "stream",
     "text": [
      "/var/folders/0d/2q3_g9bj7tn1m1t1w5crmtvh0000gn/T/ipykernel_1222/869318549.py:85: FutureWarning: Indexing a DataFrame with a datetimelike index using a single string to slice the rows, like `frame[string]`, is deprecated and will be removed in a future version. Use `frame.loc[string]` instead.\n",
      "  mpf.plot(stock_intraday[date],type='candle',\n",
      "/var/folders/0d/2q3_g9bj7tn1m1t1w5crmtvh0000gn/T/ipykernel_1222/869318549.py:85: FutureWarning: Indexing a DataFrame with a datetimelike index using a single string to slice the rows, like `frame[string]`, is deprecated and will be removed in a future version. Use `frame.loc[string]` instead.\n",
      "  mpf.plot(stock_intraday[date],type='candle',\n",
      "/var/folders/0d/2q3_g9bj7tn1m1t1w5crmtvh0000gn/T/ipykernel_1222/869318549.py:85: FutureWarning: Indexing a DataFrame with a datetimelike index using a single string to slice the rows, like `frame[string]`, is deprecated and will be removed in a future version. Use `frame.loc[string]` instead.\n",
      "  mpf.plot(stock_intraday[date],type='candle',\n",
      "/var/folders/0d/2q3_g9bj7tn1m1t1w5crmtvh0000gn/T/ipykernel_1222/869318549.py:85: FutureWarning: Indexing a DataFrame with a datetimelike index using a single string to slice the rows, like `frame[string]`, is deprecated and will be removed in a future version. Use `frame.loc[string]` instead.\n",
      "  mpf.plot(stock_intraday[date],type='candle',\n"
     ]
    },
    {
     "name": "stdout",
     "output_type": "stream",
     "text": [
      "2022-09-26\n",
      "2022-09-27\n",
      "2022-09-28\n",
      "2022-09-29\n"
     ]
    },
    {
     "name": "stderr",
     "output_type": "stream",
     "text": [
      "/var/folders/0d/2q3_g9bj7tn1m1t1w5crmtvh0000gn/T/ipykernel_1222/869318549.py:85: FutureWarning: Indexing a DataFrame with a datetimelike index using a single string to slice the rows, like `frame[string]`, is deprecated and will be removed in a future version. Use `frame.loc[string]` instead.\n",
      "  mpf.plot(stock_intraday[date],type='candle',\n",
      "/var/folders/0d/2q3_g9bj7tn1m1t1w5crmtvh0000gn/T/ipykernel_1222/869318549.py:85: FutureWarning: Indexing a DataFrame with a datetimelike index using a single string to slice the rows, like `frame[string]`, is deprecated and will be removed in a future version. Use `frame.loc[string]` instead.\n",
      "  mpf.plot(stock_intraday[date],type='candle',\n",
      "/var/folders/0d/2q3_g9bj7tn1m1t1w5crmtvh0000gn/T/ipykernel_1222/869318549.py:85: FutureWarning: Indexing a DataFrame with a datetimelike index using a single string to slice the rows, like `frame[string]`, is deprecated and will be removed in a future version. Use `frame.loc[string]` instead.\n",
      "  mpf.plot(stock_intraday[date],type='candle',\n",
      "/var/folders/0d/2q3_g9bj7tn1m1t1w5crmtvh0000gn/T/ipykernel_1222/869318549.py:85: FutureWarning: Indexing a DataFrame with a datetimelike index using a single string to slice the rows, like `frame[string]`, is deprecated and will be removed in a future version. Use `frame.loc[string]` instead.\n",
      "  mpf.plot(stock_intraday[date],type='candle',\n"
     ]
    },
    {
     "name": "stdout",
     "output_type": "stream",
     "text": [
      "2022-09-30\n",
      "2022-10-03\n",
      "2022-10-04\n",
      "2022-10-05\n"
     ]
    },
    {
     "name": "stderr",
     "output_type": "stream",
     "text": [
      "/var/folders/0d/2q3_g9bj7tn1m1t1w5crmtvh0000gn/T/ipykernel_1222/869318549.py:85: FutureWarning: Indexing a DataFrame with a datetimelike index using a single string to slice the rows, like `frame[string]`, is deprecated and will be removed in a future version. Use `frame.loc[string]` instead.\n",
      "  mpf.plot(stock_intraday[date],type='candle',\n",
      "/var/folders/0d/2q3_g9bj7tn1m1t1w5crmtvh0000gn/T/ipykernel_1222/869318549.py:85: FutureWarning: Indexing a DataFrame with a datetimelike index using a single string to slice the rows, like `frame[string]`, is deprecated and will be removed in a future version. Use `frame.loc[string]` instead.\n",
      "  mpf.plot(stock_intraday[date],type='candle',\n",
      "/var/folders/0d/2q3_g9bj7tn1m1t1w5crmtvh0000gn/T/ipykernel_1222/869318549.py:85: FutureWarning: Indexing a DataFrame with a datetimelike index using a single string to slice the rows, like `frame[string]`, is deprecated and will be removed in a future version. Use `frame.loc[string]` instead.\n",
      "  mpf.plot(stock_intraday[date],type='candle',\n",
      "/var/folders/0d/2q3_g9bj7tn1m1t1w5crmtvh0000gn/T/ipykernel_1222/869318549.py:85: FutureWarning: Indexing a DataFrame with a datetimelike index using a single string to slice the rows, like `frame[string]`, is deprecated and will be removed in a future version. Use `frame.loc[string]` instead.\n",
      "  mpf.plot(stock_intraday[date],type='candle',\n"
     ]
    },
    {
     "name": "stdout",
     "output_type": "stream",
     "text": [
      "2022-10-06\n",
      "2022-10-07\n",
      "2022-10-10\n",
      "2022-10-11\n"
     ]
    },
    {
     "name": "stderr",
     "output_type": "stream",
     "text": [
      "/var/folders/0d/2q3_g9bj7tn1m1t1w5crmtvh0000gn/T/ipykernel_1222/869318549.py:85: FutureWarning: Indexing a DataFrame with a datetimelike index using a single string to slice the rows, like `frame[string]`, is deprecated and will be removed in a future version. Use `frame.loc[string]` instead.\n",
      "  mpf.plot(stock_intraday[date],type='candle',\n",
      "/var/folders/0d/2q3_g9bj7tn1m1t1w5crmtvh0000gn/T/ipykernel_1222/869318549.py:85: FutureWarning: Indexing a DataFrame with a datetimelike index using a single string to slice the rows, like `frame[string]`, is deprecated and will be removed in a future version. Use `frame.loc[string]` instead.\n",
      "  mpf.plot(stock_intraday[date],type='candle',\n",
      "/var/folders/0d/2q3_g9bj7tn1m1t1w5crmtvh0000gn/T/ipykernel_1222/869318549.py:85: FutureWarning: Indexing a DataFrame with a datetimelike index using a single string to slice the rows, like `frame[string]`, is deprecated and will be removed in a future version. Use `frame.loc[string]` instead.\n",
      "  mpf.plot(stock_intraday[date],type='candle',\n",
      "/var/folders/0d/2q3_g9bj7tn1m1t1w5crmtvh0000gn/T/ipykernel_1222/869318549.py:85: FutureWarning: Indexing a DataFrame with a datetimelike index using a single string to slice the rows, like `frame[string]`, is deprecated and will be removed in a future version. Use `frame.loc[string]` instead.\n",
      "  mpf.plot(stock_intraday[date],type='candle',\n"
     ]
    },
    {
     "name": "stdout",
     "output_type": "stream",
     "text": [
      "2022-10-12\n",
      "2022-10-13\n",
      "2022-10-14\n",
      "2022-10-17\n"
     ]
    },
    {
     "name": "stderr",
     "output_type": "stream",
     "text": [
      "/var/folders/0d/2q3_g9bj7tn1m1t1w5crmtvh0000gn/T/ipykernel_1222/869318549.py:85: FutureWarning: Indexing a DataFrame with a datetimelike index using a single string to slice the rows, like `frame[string]`, is deprecated and will be removed in a future version. Use `frame.loc[string]` instead.\n",
      "  mpf.plot(stock_intraday[date],type='candle',\n",
      "/var/folders/0d/2q3_g9bj7tn1m1t1w5crmtvh0000gn/T/ipykernel_1222/869318549.py:85: FutureWarning: Indexing a DataFrame with a datetimelike index using a single string to slice the rows, like `frame[string]`, is deprecated and will be removed in a future version. Use `frame.loc[string]` instead.\n",
      "  mpf.plot(stock_intraday[date],type='candle',\n",
      "/var/folders/0d/2q3_g9bj7tn1m1t1w5crmtvh0000gn/T/ipykernel_1222/869318549.py:85: FutureWarning: Indexing a DataFrame with a datetimelike index using a single string to slice the rows, like `frame[string]`, is deprecated and will be removed in a future version. Use `frame.loc[string]` instead.\n",
      "  mpf.plot(stock_intraday[date],type='candle',\n",
      "/var/folders/0d/2q3_g9bj7tn1m1t1w5crmtvh0000gn/T/ipykernel_1222/869318549.py:85: FutureWarning: Indexing a DataFrame with a datetimelike index using a single string to slice the rows, like `frame[string]`, is deprecated and will be removed in a future version. Use `frame.loc[string]` instead.\n",
      "  mpf.plot(stock_intraday[date],type='candle',\n"
     ]
    },
    {
     "name": "stdout",
     "output_type": "stream",
     "text": [
      "2022-10-18\n",
      "2022-10-19\n",
      "2022-10-20\n",
      "2022-10-21\n"
     ]
    },
    {
     "name": "stderr",
     "output_type": "stream",
     "text": [
      "/var/folders/0d/2q3_g9bj7tn1m1t1w5crmtvh0000gn/T/ipykernel_1222/869318549.py:85: FutureWarning: Indexing a DataFrame with a datetimelike index using a single string to slice the rows, like `frame[string]`, is deprecated and will be removed in a future version. Use `frame.loc[string]` instead.\n",
      "  mpf.plot(stock_intraday[date],type='candle',\n",
      "/var/folders/0d/2q3_g9bj7tn1m1t1w5crmtvh0000gn/T/ipykernel_1222/869318549.py:85: FutureWarning: Indexing a DataFrame with a datetimelike index using a single string to slice the rows, like `frame[string]`, is deprecated and will be removed in a future version. Use `frame.loc[string]` instead.\n",
      "  mpf.plot(stock_intraday[date],type='candle',\n",
      "/var/folders/0d/2q3_g9bj7tn1m1t1w5crmtvh0000gn/T/ipykernel_1222/869318549.py:85: FutureWarning: Indexing a DataFrame with a datetimelike index using a single string to slice the rows, like `frame[string]`, is deprecated and will be removed in a future version. Use `frame.loc[string]` instead.\n",
      "  mpf.plot(stock_intraday[date],type='candle',\n",
      "/var/folders/0d/2q3_g9bj7tn1m1t1w5crmtvh0000gn/T/ipykernel_1222/869318549.py:85: FutureWarning: Indexing a DataFrame with a datetimelike index using a single string to slice the rows, like `frame[string]`, is deprecated and will be removed in a future version. Use `frame.loc[string]` instead.\n",
      "  mpf.plot(stock_intraday[date],type='candle',\n"
     ]
    },
    {
     "name": "stdout",
     "output_type": "stream",
     "text": [
      "2022-10-24\n",
      "2022-10-25\n",
      "2022-10-26\n",
      "2022-10-27\n"
     ]
    },
    {
     "name": "stderr",
     "output_type": "stream",
     "text": [
      "/var/folders/0d/2q3_g9bj7tn1m1t1w5crmtvh0000gn/T/ipykernel_1222/869318549.py:85: FutureWarning: Indexing a DataFrame with a datetimelike index using a single string to slice the rows, like `frame[string]`, is deprecated and will be removed in a future version. Use `frame.loc[string]` instead.\n",
      "  mpf.plot(stock_intraday[date],type='candle',\n",
      "/var/folders/0d/2q3_g9bj7tn1m1t1w5crmtvh0000gn/T/ipykernel_1222/869318549.py:85: FutureWarning: Indexing a DataFrame with a datetimelike index using a single string to slice the rows, like `frame[string]`, is deprecated and will be removed in a future version. Use `frame.loc[string]` instead.\n",
      "  mpf.plot(stock_intraday[date],type='candle',\n",
      "/var/folders/0d/2q3_g9bj7tn1m1t1w5crmtvh0000gn/T/ipykernel_1222/869318549.py:85: FutureWarning: Indexing a DataFrame with a datetimelike index using a single string to slice the rows, like `frame[string]`, is deprecated and will be removed in a future version. Use `frame.loc[string]` instead.\n",
      "  mpf.plot(stock_intraday[date],type='candle',\n"
     ]
    },
    {
     "name": "stdout",
     "output_type": "stream",
     "text": [
      "2022-10-28\n",
      "2022-10-31\n",
      "2022-11-01\n"
     ]
    },
    {
     "name": "stderr",
     "output_type": "stream",
     "text": [
      "/var/folders/0d/2q3_g9bj7tn1m1t1w5crmtvh0000gn/T/ipykernel_1222/869318549.py:85: FutureWarning: Indexing a DataFrame with a datetimelike index using a single string to slice the rows, like `frame[string]`, is deprecated and will be removed in a future version. Use `frame.loc[string]` instead.\n",
      "  mpf.plot(stock_intraday[date],type='candle',\n",
      "/var/folders/0d/2q3_g9bj7tn1m1t1w5crmtvh0000gn/T/ipykernel_1222/869318549.py:85: FutureWarning: Indexing a DataFrame with a datetimelike index using a single string to slice the rows, like `frame[string]`, is deprecated and will be removed in a future version. Use `frame.loc[string]` instead.\n",
      "  mpf.plot(stock_intraday[date],type='candle',\n",
      "/var/folders/0d/2q3_g9bj7tn1m1t1w5crmtvh0000gn/T/ipykernel_1222/869318549.py:85: FutureWarning: Indexing a DataFrame with a datetimelike index using a single string to slice the rows, like `frame[string]`, is deprecated and will be removed in a future version. Use `frame.loc[string]` instead.\n",
      "  mpf.plot(stock_intraday[date],type='candle',\n",
      "/var/folders/0d/2q3_g9bj7tn1m1t1w5crmtvh0000gn/T/ipykernel_1222/869318549.py:85: FutureWarning: Indexing a DataFrame with a datetimelike index using a single string to slice the rows, like `frame[string]`, is deprecated and will be removed in a future version. Use `frame.loc[string]` instead.\n",
      "  mpf.plot(stock_intraday[date],type='candle',\n"
     ]
    },
    {
     "name": "stdout",
     "output_type": "stream",
     "text": [
      "2022-11-02\n",
      "2022-11-03\n",
      "2022-11-04\n",
      "2022-11-07\n"
     ]
    },
    {
     "name": "stderr",
     "output_type": "stream",
     "text": [
      "/var/folders/0d/2q3_g9bj7tn1m1t1w5crmtvh0000gn/T/ipykernel_1222/869318549.py:85: FutureWarning: Indexing a DataFrame with a datetimelike index using a single string to slice the rows, like `frame[string]`, is deprecated and will be removed in a future version. Use `frame.loc[string]` instead.\n",
      "  mpf.plot(stock_intraday[date],type='candle',\n",
      "/var/folders/0d/2q3_g9bj7tn1m1t1w5crmtvh0000gn/T/ipykernel_1222/869318549.py:85: FutureWarning: Indexing a DataFrame with a datetimelike index using a single string to slice the rows, like `frame[string]`, is deprecated and will be removed in a future version. Use `frame.loc[string]` instead.\n",
      "  mpf.plot(stock_intraday[date],type='candle',\n",
      "/var/folders/0d/2q3_g9bj7tn1m1t1w5crmtvh0000gn/T/ipykernel_1222/869318549.py:85: FutureWarning: Indexing a DataFrame with a datetimelike index using a single string to slice the rows, like `frame[string]`, is deprecated and will be removed in a future version. Use `frame.loc[string]` instead.\n",
      "  mpf.plot(stock_intraday[date],type='candle',\n",
      "/var/folders/0d/2q3_g9bj7tn1m1t1w5crmtvh0000gn/T/ipykernel_1222/869318549.py:85: FutureWarning: Indexing a DataFrame with a datetimelike index using a single string to slice the rows, like `frame[string]`, is deprecated and will be removed in a future version. Use `frame.loc[string]` instead.\n",
      "  mpf.plot(stock_intraday[date],type='candle',\n"
     ]
    },
    {
     "name": "stdout",
     "output_type": "stream",
     "text": [
      "2022-11-08\n",
      "2022-11-09\n",
      "2022-11-10\n",
      "2022-11-11\n"
     ]
    },
    {
     "name": "stderr",
     "output_type": "stream",
     "text": [
      "/var/folders/0d/2q3_g9bj7tn1m1t1w5crmtvh0000gn/T/ipykernel_1222/869318549.py:85: FutureWarning: Indexing a DataFrame with a datetimelike index using a single string to slice the rows, like `frame[string]`, is deprecated and will be removed in a future version. Use `frame.loc[string]` instead.\n",
      "  mpf.plot(stock_intraday[date],type='candle',\n",
      "/var/folders/0d/2q3_g9bj7tn1m1t1w5crmtvh0000gn/T/ipykernel_1222/869318549.py:85: FutureWarning: Indexing a DataFrame with a datetimelike index using a single string to slice the rows, like `frame[string]`, is deprecated and will be removed in a future version. Use `frame.loc[string]` instead.\n",
      "  mpf.plot(stock_intraday[date],type='candle',\n",
      "/var/folders/0d/2q3_g9bj7tn1m1t1w5crmtvh0000gn/T/ipykernel_1222/869318549.py:85: FutureWarning: Indexing a DataFrame with a datetimelike index using a single string to slice the rows, like `frame[string]`, is deprecated and will be removed in a future version. Use `frame.loc[string]` instead.\n",
      "  mpf.plot(stock_intraday[date],type='candle',\n",
      "/var/folders/0d/2q3_g9bj7tn1m1t1w5crmtvh0000gn/T/ipykernel_1222/869318549.py:85: FutureWarning: Indexing a DataFrame with a datetimelike index using a single string to slice the rows, like `frame[string]`, is deprecated and will be removed in a future version. Use `frame.loc[string]` instead.\n",
      "  mpf.plot(stock_intraday[date],type='candle',\n"
     ]
    },
    {
     "name": "stdout",
     "output_type": "stream",
     "text": [
      "2022-11-14\n",
      "2022-11-15\n",
      "2022-11-16\n",
      "2022-11-17\n"
     ]
    },
    {
     "name": "stderr",
     "output_type": "stream",
     "text": [
      "/var/folders/0d/2q3_g9bj7tn1m1t1w5crmtvh0000gn/T/ipykernel_1222/869318549.py:85: FutureWarning: Indexing a DataFrame with a datetimelike index using a single string to slice the rows, like `frame[string]`, is deprecated and will be removed in a future version. Use `frame.loc[string]` instead.\n",
      "  mpf.plot(stock_intraday[date],type='candle',\n",
      "/var/folders/0d/2q3_g9bj7tn1m1t1w5crmtvh0000gn/T/ipykernel_1222/869318549.py:85: FutureWarning: Indexing a DataFrame with a datetimelike index using a single string to slice the rows, like `frame[string]`, is deprecated and will be removed in a future version. Use `frame.loc[string]` instead.\n",
      "  mpf.plot(stock_intraday[date],type='candle',\n",
      "/var/folders/0d/2q3_g9bj7tn1m1t1w5crmtvh0000gn/T/ipykernel_1222/869318549.py:85: FutureWarning: Indexing a DataFrame with a datetimelike index using a single string to slice the rows, like `frame[string]`, is deprecated and will be removed in a future version. Use `frame.loc[string]` instead.\n",
      "  mpf.plot(stock_intraday[date],type='candle',\n"
     ]
    },
    {
     "name": "stdout",
     "output_type": "stream",
     "text": [
      "2022-11-18\n",
      "2022-11-21\n",
      "2022-11-22\n",
      "2022-11-23\n",
      "2022-11-25\n",
      "2022-11-28\n"
     ]
    },
    {
     "name": "stderr",
     "output_type": "stream",
     "text": [
      "/var/folders/0d/2q3_g9bj7tn1m1t1w5crmtvh0000gn/T/ipykernel_1222/869318549.py:85: FutureWarning: Indexing a DataFrame with a datetimelike index using a single string to slice the rows, like `frame[string]`, is deprecated and will be removed in a future version. Use `frame.loc[string]` instead.\n",
      "  mpf.plot(stock_intraday[date],type='candle',\n",
      "/var/folders/0d/2q3_g9bj7tn1m1t1w5crmtvh0000gn/T/ipykernel_1222/869318549.py:85: FutureWarning: Indexing a DataFrame with a datetimelike index using a single string to slice the rows, like `frame[string]`, is deprecated and will be removed in a future version. Use `frame.loc[string]` instead.\n",
      "  mpf.plot(stock_intraday[date],type='candle',\n",
      "/var/folders/0d/2q3_g9bj7tn1m1t1w5crmtvh0000gn/T/ipykernel_1222/869318549.py:85: FutureWarning: Indexing a DataFrame with a datetimelike index using a single string to slice the rows, like `frame[string]`, is deprecated and will be removed in a future version. Use `frame.loc[string]` instead.\n",
      "  mpf.plot(stock_intraday[date],type='candle',\n",
      "/var/folders/0d/2q3_g9bj7tn1m1t1w5crmtvh0000gn/T/ipykernel_1222/869318549.py:85: FutureWarning: Indexing a DataFrame with a datetimelike index using a single string to slice the rows, like `frame[string]`, is deprecated and will be removed in a future version. Use `frame.loc[string]` instead.\n",
      "  mpf.plot(stock_intraday[date],type='candle',\n"
     ]
    },
    {
     "name": "stdout",
     "output_type": "stream",
     "text": [
      "2022-11-29\n",
      "2022-11-30\n",
      "2022-12-01\n",
      "2022-12-02\n"
     ]
    },
    {
     "name": "stderr",
     "output_type": "stream",
     "text": [
      "/var/folders/0d/2q3_g9bj7tn1m1t1w5crmtvh0000gn/T/ipykernel_1222/869318549.py:85: FutureWarning: Indexing a DataFrame with a datetimelike index using a single string to slice the rows, like `frame[string]`, is deprecated and will be removed in a future version. Use `frame.loc[string]` instead.\n",
      "  mpf.plot(stock_intraday[date],type='candle',\n",
      "/var/folders/0d/2q3_g9bj7tn1m1t1w5crmtvh0000gn/T/ipykernel_1222/869318549.py:85: FutureWarning: Indexing a DataFrame with a datetimelike index using a single string to slice the rows, like `frame[string]`, is deprecated and will be removed in a future version. Use `frame.loc[string]` instead.\n",
      "  mpf.plot(stock_intraday[date],type='candle',\n",
      "/var/folders/0d/2q3_g9bj7tn1m1t1w5crmtvh0000gn/T/ipykernel_1222/869318549.py:85: FutureWarning: Indexing a DataFrame with a datetimelike index using a single string to slice the rows, like `frame[string]`, is deprecated and will be removed in a future version. Use `frame.loc[string]` instead.\n",
      "  mpf.plot(stock_intraday[date],type='candle',\n",
      "/var/folders/0d/2q3_g9bj7tn1m1t1w5crmtvh0000gn/T/ipykernel_1222/869318549.py:85: FutureWarning: Indexing a DataFrame with a datetimelike index using a single string to slice the rows, like `frame[string]`, is deprecated and will be removed in a future version. Use `frame.loc[string]` instead.\n",
      "  mpf.plot(stock_intraday[date],type='candle',\n"
     ]
    },
    {
     "name": "stdout",
     "output_type": "stream",
     "text": [
      "2022-12-05\n",
      "2022-12-06\n",
      "2022-12-07\n"
     ]
    },
    {
     "name": "stderr",
     "output_type": "stream",
     "text": [
      "/var/folders/0d/2q3_g9bj7tn1m1t1w5crmtvh0000gn/T/ipykernel_1222/869318549.py:85: FutureWarning: Indexing a DataFrame with a datetimelike index using a single string to slice the rows, like `frame[string]`, is deprecated and will be removed in a future version. Use `frame.loc[string]` instead.\n",
      "  mpf.plot(stock_intraday[date],type='candle',\n",
      "/var/folders/0d/2q3_g9bj7tn1m1t1w5crmtvh0000gn/T/ipykernel_1222/869318549.py:85: FutureWarning: Indexing a DataFrame with a datetimelike index using a single string to slice the rows, like `frame[string]`, is deprecated and will be removed in a future version. Use `frame.loc[string]` instead.\n",
      "  mpf.plot(stock_intraday[date],type='candle',\n",
      "/var/folders/0d/2q3_g9bj7tn1m1t1w5crmtvh0000gn/T/ipykernel_1222/869318549.py:85: FutureWarning: Indexing a DataFrame with a datetimelike index using a single string to slice the rows, like `frame[string]`, is deprecated and will be removed in a future version. Use `frame.loc[string]` instead.\n",
      "  mpf.plot(stock_intraday[date],type='candle',\n"
     ]
    },
    {
     "name": "stdout",
     "output_type": "stream",
     "text": [
      "2022-12-08\n",
      "2022-12-09\n",
      "2022-12-12\n",
      "2022-12-13\n"
     ]
    },
    {
     "name": "stderr",
     "output_type": "stream",
     "text": [
      "/var/folders/0d/2q3_g9bj7tn1m1t1w5crmtvh0000gn/T/ipykernel_1222/869318549.py:85: FutureWarning: Indexing a DataFrame with a datetimelike index using a single string to slice the rows, like `frame[string]`, is deprecated and will be removed in a future version. Use `frame.loc[string]` instead.\n",
      "  mpf.plot(stock_intraday[date],type='candle',\n",
      "/var/folders/0d/2q3_g9bj7tn1m1t1w5crmtvh0000gn/T/ipykernel_1222/869318549.py:85: FutureWarning: Indexing a DataFrame with a datetimelike index using a single string to slice the rows, like `frame[string]`, is deprecated and will be removed in a future version. Use `frame.loc[string]` instead.\n",
      "  mpf.plot(stock_intraday[date],type='candle',\n",
      "/var/folders/0d/2q3_g9bj7tn1m1t1w5crmtvh0000gn/T/ipykernel_1222/869318549.py:85: FutureWarning: Indexing a DataFrame with a datetimelike index using a single string to slice the rows, like `frame[string]`, is deprecated and will be removed in a future version. Use `frame.loc[string]` instead.\n",
      "  mpf.plot(stock_intraday[date],type='candle',\n",
      "/var/folders/0d/2q3_g9bj7tn1m1t1w5crmtvh0000gn/T/ipykernel_1222/869318549.py:85: FutureWarning: Indexing a DataFrame with a datetimelike index using a single string to slice the rows, like `frame[string]`, is deprecated and will be removed in a future version. Use `frame.loc[string]` instead.\n",
      "  mpf.plot(stock_intraday[date],type='candle',\n"
     ]
    },
    {
     "name": "stdout",
     "output_type": "stream",
     "text": [
      "2022-12-14\n",
      "2022-12-15\n",
      "2022-12-16\n",
      "2022-12-19\n"
     ]
    },
    {
     "name": "stderr",
     "output_type": "stream",
     "text": [
      "/var/folders/0d/2q3_g9bj7tn1m1t1w5crmtvh0000gn/T/ipykernel_1222/869318549.py:85: FutureWarning: Indexing a DataFrame with a datetimelike index using a single string to slice the rows, like `frame[string]`, is deprecated and will be removed in a future version. Use `frame.loc[string]` instead.\n",
      "  mpf.plot(stock_intraday[date],type='candle',\n",
      "/var/folders/0d/2q3_g9bj7tn1m1t1w5crmtvh0000gn/T/ipykernel_1222/869318549.py:85: FutureWarning: Indexing a DataFrame with a datetimelike index using a single string to slice the rows, like `frame[string]`, is deprecated and will be removed in a future version. Use `frame.loc[string]` instead.\n",
      "  mpf.plot(stock_intraday[date],type='candle',\n",
      "/var/folders/0d/2q3_g9bj7tn1m1t1w5crmtvh0000gn/T/ipykernel_1222/869318549.py:85: FutureWarning: Indexing a DataFrame with a datetimelike index using a single string to slice the rows, like `frame[string]`, is deprecated and will be removed in a future version. Use `frame.loc[string]` instead.\n",
      "  mpf.plot(stock_intraday[date],type='candle',\n",
      "/var/folders/0d/2q3_g9bj7tn1m1t1w5crmtvh0000gn/T/ipykernel_1222/869318549.py:85: FutureWarning: Indexing a DataFrame with a datetimelike index using a single string to slice the rows, like `frame[string]`, is deprecated and will be removed in a future version. Use `frame.loc[string]` instead.\n",
      "  mpf.plot(stock_intraday[date],type='candle',\n"
     ]
    },
    {
     "name": "stdout",
     "output_type": "stream",
     "text": [
      "2022-12-20\n",
      "2022-12-21\n",
      "2022-12-22\n",
      "2022-12-23\n"
     ]
    },
    {
     "name": "stderr",
     "output_type": "stream",
     "text": [
      "/var/folders/0d/2q3_g9bj7tn1m1t1w5crmtvh0000gn/T/ipykernel_1222/869318549.py:85: FutureWarning: Indexing a DataFrame with a datetimelike index using a single string to slice the rows, like `frame[string]`, is deprecated and will be removed in a future version. Use `frame.loc[string]` instead.\n",
      "  mpf.plot(stock_intraday[date],type='candle',\n",
      "/var/folders/0d/2q3_g9bj7tn1m1t1w5crmtvh0000gn/T/ipykernel_1222/869318549.py:85: FutureWarning: Indexing a DataFrame with a datetimelike index using a single string to slice the rows, like `frame[string]`, is deprecated and will be removed in a future version. Use `frame.loc[string]` instead.\n",
      "  mpf.plot(stock_intraday[date],type='candle',\n",
      "/var/folders/0d/2q3_g9bj7tn1m1t1w5crmtvh0000gn/T/ipykernel_1222/869318549.py:85: FutureWarning: Indexing a DataFrame with a datetimelike index using a single string to slice the rows, like `frame[string]`, is deprecated and will be removed in a future version. Use `frame.loc[string]` instead.\n",
      "  mpf.plot(stock_intraday[date],type='candle',\n",
      "/var/folders/0d/2q3_g9bj7tn1m1t1w5crmtvh0000gn/T/ipykernel_1222/869318549.py:85: FutureWarning: Indexing a DataFrame with a datetimelike index using a single string to slice the rows, like `frame[string]`, is deprecated and will be removed in a future version. Use `frame.loc[string]` instead.\n",
      "  mpf.plot(stock_intraday[date],type='candle',\n"
     ]
    },
    {
     "name": "stdout",
     "output_type": "stream",
     "text": [
      "2022-12-27\n"
     ]
    },
    {
     "ename": "KeyError",
     "evalue": "'2022-12-27'",
     "output_type": "error",
     "traceback": [
      "\u001b[0;31m---------------------------------------------------------------------------\u001b[0m",
      "\u001b[0;31mKeyError\u001b[0m                                  Traceback (most recent call last)",
      "\u001b[0;32m~/opt/anaconda3/lib/python3.9/site-packages/pandas/core/indexes/base.py\u001b[0m in \u001b[0;36mget_loc\u001b[0;34m(self, key, method, tolerance)\u001b[0m\n\u001b[1;32m   3628\u001b[0m             \u001b[0;32mtry\u001b[0m\u001b[0;34m:\u001b[0m\u001b[0;34m\u001b[0m\u001b[0;34m\u001b[0m\u001b[0m\n\u001b[0;32m-> 3629\u001b[0;31m                 \u001b[0;32mreturn\u001b[0m \u001b[0mself\u001b[0m\u001b[0;34m.\u001b[0m\u001b[0m_engine\u001b[0m\u001b[0;34m.\u001b[0m\u001b[0mget_loc\u001b[0m\u001b[0;34m(\u001b[0m\u001b[0mcasted_key\u001b[0m\u001b[0;34m)\u001b[0m\u001b[0;34m\u001b[0m\u001b[0;34m\u001b[0m\u001b[0m\n\u001b[0m\u001b[1;32m   3630\u001b[0m             \u001b[0;32mexcept\u001b[0m \u001b[0mKeyError\u001b[0m \u001b[0;32mas\u001b[0m \u001b[0merr\u001b[0m\u001b[0;34m:\u001b[0m\u001b[0;34m\u001b[0m\u001b[0;34m\u001b[0m\u001b[0m\n",
      "\u001b[0;32m~/opt/anaconda3/lib/python3.9/site-packages/pandas/_libs/index.pyx\u001b[0m in \u001b[0;36mpandas._libs.index.IndexEngine.get_loc\u001b[0;34m()\u001b[0m\n",
      "\u001b[0;32m~/opt/anaconda3/lib/python3.9/site-packages/pandas/_libs/index.pyx\u001b[0m in \u001b[0;36mpandas._libs.index.IndexEngine.get_loc\u001b[0;34m()\u001b[0m\n",
      "\u001b[0;32mpandas/_libs/hashtable_class_helper.pxi\u001b[0m in \u001b[0;36mpandas._libs.hashtable.PyObjectHashTable.get_item\u001b[0;34m()\u001b[0m\n",
      "\u001b[0;32mpandas/_libs/hashtable_class_helper.pxi\u001b[0m in \u001b[0;36mpandas._libs.hashtable.PyObjectHashTable.get_item\u001b[0;34m()\u001b[0m\n",
      "\u001b[0;31mKeyError\u001b[0m: '2022-12-27'",
      "\nThe above exception was the direct cause of the following exception:\n",
      "\u001b[0;31mKeyError\u001b[0m                                  Traceback (most recent call last)",
      "\u001b[0;32m/var/folders/0d/2q3_g9bj7tn1m1t1w5crmtvh0000gn/T/ipykernel_1222/869318549.py\u001b[0m in \u001b[0;36m<module>\u001b[0;34m\u001b[0m\n\u001b[1;32m     83\u001b[0m     \u001b[0myes_low\u001b[0m\u001b[0;34m=\u001b[0m\u001b[0mdaily_pivot\u001b[0m\u001b[0;34m.\u001b[0m\u001b[0mshift\u001b[0m\u001b[0;34m(\u001b[0m\u001b[0;36m1\u001b[0m\u001b[0;34m)\u001b[0m\u001b[0;34m.\u001b[0m\u001b[0mloc\u001b[0m\u001b[0;34m[\u001b[0m\u001b[0mdate\u001b[0m\u001b[0;34m]\u001b[0m\u001b[0;34m[\u001b[0m\u001b[0;34m\"Low\"\u001b[0m\u001b[0;34m]\u001b[0m\u001b[0;34m\u001b[0m\u001b[0;34m\u001b[0m\u001b[0m\n\u001b[1;32m     84\u001b[0m \u001b[0;34m\u001b[0m\u001b[0m\n\u001b[0;32m---> 85\u001b[0;31m     mpf.plot(stock_intraday[date],type='candle',\n\u001b[0m\u001b[1;32m     86\u001b[0m              hlines=dict(hlines=[daily_pp,daily_bc,daily_tc,daily_r1,daily_s1,daily_r2,daily_s2,daily_r3,daily_s3,daily_r4,daily_s4,weekly_pp,weekly_r1,weekly_s1,monthly_pp,monthly_r1,monthly_s1,yes_high,yes_low],\n\u001b[1;32m     87\u001b[0m                         \u001b[0mcolors\u001b[0m\u001b[0;34m=\u001b[0m\u001b[0;34m[\u001b[0m\u001b[0;34m'b'\u001b[0m\u001b[0;34m,\u001b[0m\u001b[0;34m'b'\u001b[0m\u001b[0;34m,\u001b[0m\u001b[0;34m'b'\u001b[0m\u001b[0;34m,\u001b[0m\u001b[0;34m'r'\u001b[0m\u001b[0;34m,\u001b[0m\u001b[0;34m'g'\u001b[0m\u001b[0;34m,\u001b[0m\u001b[0;34m'r'\u001b[0m\u001b[0;34m,\u001b[0m\u001b[0;34m'g'\u001b[0m\u001b[0;34m,\u001b[0m\u001b[0;34m'r'\u001b[0m\u001b[0;34m,\u001b[0m\u001b[0;34m'g'\u001b[0m\u001b[0;34m,\u001b[0m\u001b[0;34m'r'\u001b[0m\u001b[0;34m,\u001b[0m\u001b[0;34m'g'\u001b[0m\u001b[0;34m,\u001b[0m\u001b[0;34m'c'\u001b[0m\u001b[0;34m,\u001b[0m\u001b[0;34m'c'\u001b[0m\u001b[0;34m,\u001b[0m\u001b[0;34m'c'\u001b[0m\u001b[0;34m,\u001b[0m\u001b[0;34m'y'\u001b[0m\u001b[0;34m,\u001b[0m\u001b[0;34m'y'\u001b[0m\u001b[0;34m,\u001b[0m\u001b[0;34m'y'\u001b[0m\u001b[0;34m,\u001b[0m\u001b[0;34m'k'\u001b[0m\u001b[0;34m,\u001b[0m\u001b[0;34m'k'\u001b[0m\u001b[0;34m]\u001b[0m\u001b[0;34m,\u001b[0m\u001b[0;34m\u001b[0m\u001b[0;34m\u001b[0m\u001b[0m\n",
      "\u001b[0;32m~/opt/anaconda3/lib/python3.9/site-packages/pandas/core/frame.py\u001b[0m in \u001b[0;36m__getitem__\u001b[0;34m(self, key)\u001b[0m\n\u001b[1;32m   3503\u001b[0m             \u001b[0;32mif\u001b[0m \u001b[0mself\u001b[0m\u001b[0;34m.\u001b[0m\u001b[0mcolumns\u001b[0m\u001b[0;34m.\u001b[0m\u001b[0mnlevels\u001b[0m \u001b[0;34m>\u001b[0m \u001b[0;36m1\u001b[0m\u001b[0;34m:\u001b[0m\u001b[0;34m\u001b[0m\u001b[0;34m\u001b[0m\u001b[0m\n\u001b[1;32m   3504\u001b[0m                 \u001b[0;32mreturn\u001b[0m \u001b[0mself\u001b[0m\u001b[0;34m.\u001b[0m\u001b[0m_getitem_multilevel\u001b[0m\u001b[0;34m(\u001b[0m\u001b[0mkey\u001b[0m\u001b[0;34m)\u001b[0m\u001b[0;34m\u001b[0m\u001b[0;34m\u001b[0m\u001b[0m\n\u001b[0;32m-> 3505\u001b[0;31m             \u001b[0mindexer\u001b[0m \u001b[0;34m=\u001b[0m \u001b[0mself\u001b[0m\u001b[0;34m.\u001b[0m\u001b[0mcolumns\u001b[0m\u001b[0;34m.\u001b[0m\u001b[0mget_loc\u001b[0m\u001b[0;34m(\u001b[0m\u001b[0mkey\u001b[0m\u001b[0;34m)\u001b[0m\u001b[0;34m\u001b[0m\u001b[0;34m\u001b[0m\u001b[0m\n\u001b[0m\u001b[1;32m   3506\u001b[0m             \u001b[0;32mif\u001b[0m \u001b[0mis_integer\u001b[0m\u001b[0;34m(\u001b[0m\u001b[0mindexer\u001b[0m\u001b[0;34m)\u001b[0m\u001b[0;34m:\u001b[0m\u001b[0;34m\u001b[0m\u001b[0;34m\u001b[0m\u001b[0m\n\u001b[1;32m   3507\u001b[0m                 \u001b[0mindexer\u001b[0m \u001b[0;34m=\u001b[0m \u001b[0;34m[\u001b[0m\u001b[0mindexer\u001b[0m\u001b[0;34m]\u001b[0m\u001b[0;34m\u001b[0m\u001b[0;34m\u001b[0m\u001b[0m\n",
      "\u001b[0;32m~/opt/anaconda3/lib/python3.9/site-packages/pandas/core/indexes/base.py\u001b[0m in \u001b[0;36mget_loc\u001b[0;34m(self, key, method, tolerance)\u001b[0m\n\u001b[1;32m   3629\u001b[0m                 \u001b[0;32mreturn\u001b[0m \u001b[0mself\u001b[0m\u001b[0;34m.\u001b[0m\u001b[0m_engine\u001b[0m\u001b[0;34m.\u001b[0m\u001b[0mget_loc\u001b[0m\u001b[0;34m(\u001b[0m\u001b[0mcasted_key\u001b[0m\u001b[0;34m)\u001b[0m\u001b[0;34m\u001b[0m\u001b[0;34m\u001b[0m\u001b[0m\n\u001b[1;32m   3630\u001b[0m             \u001b[0;32mexcept\u001b[0m \u001b[0mKeyError\u001b[0m \u001b[0;32mas\u001b[0m \u001b[0merr\u001b[0m\u001b[0;34m:\u001b[0m\u001b[0;34m\u001b[0m\u001b[0;34m\u001b[0m\u001b[0m\n\u001b[0;32m-> 3631\u001b[0;31m                 \u001b[0;32mraise\u001b[0m \u001b[0mKeyError\u001b[0m\u001b[0;34m(\u001b[0m\u001b[0mkey\u001b[0m\u001b[0;34m)\u001b[0m \u001b[0;32mfrom\u001b[0m \u001b[0merr\u001b[0m\u001b[0;34m\u001b[0m\u001b[0;34m\u001b[0m\u001b[0m\n\u001b[0m\u001b[1;32m   3632\u001b[0m             \u001b[0;32mexcept\u001b[0m \u001b[0mTypeError\u001b[0m\u001b[0;34m:\u001b[0m\u001b[0;34m\u001b[0m\u001b[0;34m\u001b[0m\u001b[0m\n\u001b[1;32m   3633\u001b[0m                 \u001b[0;31m# If we have a listlike key, _check_indexing_error will raise\u001b[0m\u001b[0;34m\u001b[0m\u001b[0;34m\u001b[0m\u001b[0m\n",
      "\u001b[0;31mKeyError\u001b[0m: '2022-12-27'"
     ]
    }
   ],
   "source": [
    "for i in range(len(stock_daily)):\n",
    "    date_datetime=stock_daily.index[i]\n",
    "    date=date_datetime.strftime(\"%Y-%m-%d\")\n",
    "    \n",
    "    print(date)\n",
    "    #plot daily pivots\n",
    "    daily_pp=daily_pivot.loc[date][\"PP\"]\n",
    "    daily_bc=daily_pivot.loc[date][\"BC\"]\n",
    "    daily_tc=daily_pivot.loc[date][\"TC\"]\n",
    "\n",
    "    daily_r1=daily_pivot.loc[date][\"R1\"]\n",
    "    daily_s1=daily_pivot.loc[date][\"S1\"]\n",
    "    \n",
    "    if stock_daily.loc[date][\"Low\"]<daily_pivot.loc[date][\"R2\"]<stock_daily.loc[date][\"High\"]:\n",
    "        daily_r2=daily_pivot.loc[date][\"R2\"]\n",
    "    else:\n",
    "        daily_r2=np.nan\n",
    "        \n",
    "    if stock_daily.loc[date][\"Low\"]<daily_pivot.loc[date][\"S2\"]<stock_daily.loc[date][\"High\"]:\n",
    "        daily_s2=daily_pivot.loc[date][\"S2\"]\n",
    "    else:\n",
    "        daily_s2=np.nan\n",
    "    \n",
    "    if stock_daily.loc[date][\"Low\"]<daily_pivot.loc[date][\"R3\"]<stock_daily.loc[date][\"High\"]:\n",
    "        daily_r3=daily_pivot.loc[date][\"R3\"]\n",
    "    else:\n",
    "        daily_r3=np.nan\n",
    "    \n",
    "    if stock_daily.loc[date][\"Low\"]<daily_pivot.loc[date][\"S3\"]<stock_daily.loc[date][\"High\"]:\n",
    "        daily_s3=daily_pivot.loc[date][\"S3\"]\n",
    "    else:\n",
    "        daily_s3=np.nan\n",
    "\n",
    "    if stock_daily.loc[date][\"Low\"]<daily_pivot.loc[date][\"R4\"]<stock_daily.loc[date][\"High\"]:\n",
    "        daily_r4=daily_pivot.loc[date][\"R4\"]\n",
    "    else:\n",
    "        daily_r4=np.nan\n",
    "    \n",
    "    if stock_daily.loc[date][\"Low\"]<daily_pivot.loc[date][\"S4\"]<stock_daily.loc[date][\"High\"]:\n",
    "        daily_s4=daily_pivot.loc[date][\"S4\"]\n",
    "    else:\n",
    "        daily_s4=np.nan\n",
    "\n",
    "    i=0\n",
    "    j=0\n",
    "    #plot weekly pivots\n",
    "    for i in range(len(weekly_pivot)):\n",
    "        if weekly_pivot[\"week\"][i]==date_datetime.isocalendar().week and weekly_pivot[\"year\"][i]==date_datetime.year:\n",
    "            index_week=i\n",
    "    if stock_daily.loc[date][\"Low\"]<weekly_pivot.iloc[index_week:][\"PP\"][0]<stock_daily.loc[date][\"High\"]:\n",
    "        weekly_pp=weekly_pivot.iloc[index_week:][\"PP\"][0]\n",
    "    else:\n",
    "        weekly_pp=np.nan\n",
    "\n",
    "    if stock_daily.loc[date][\"Low\"]<weekly_pivot.iloc[index_week:][\"R1\"][0]<stock_daily.loc[date][\"High\"]:\n",
    "        weekly_r1=weekly_pivot.iloc[index_week:][\"R1\"][0]\n",
    "    else:\n",
    "        weekly_r1=np.nan\n",
    "    if stock_daily.loc[date][\"Low\"]<weekly_pivot.iloc[index_week:][\"S1\"][0]<stock_daily.loc[date][\"High\"]:\n",
    "        weekly_s1=weekly_pivot.iloc[index_week:][\"S1\"][0]\n",
    "    else:\n",
    "        weekly_s1=np.nan\n",
    "\n",
    "    for j in range(len(monthly_pivot)):\n",
    "        if monthly_pivot[\"month\"][j]==date_datetime.month and monthly_pivot[\"year\"][j]==date_datetime.year:\n",
    "            index_month=j\n",
    "\n",
    "    #plot monthly pivots\n",
    "    if stock_daily.loc[date][\"Low\"]<monthly_pivot.iloc[index_month:]['PP'][0]<stock_daily.loc[date][\"High\"]:\n",
    "        monthly_pp=monthly_pivot.iloc[index_month:]['PP'][0]\n",
    "    else:\n",
    "        monthly_pp=np.nan\n",
    "    if stock_daily.loc[date][\"Low\"]<monthly_pivot.iloc[index_month:]['R1'][0]<stock_daily.loc[date][\"High\"]:\n",
    "        monthly_r1=monthly_pivot.iloc[index_month:]['R1'][0]\n",
    "    else:\n",
    "        monthly_r1=np.nan\n",
    "    if stock_daily.loc[date][\"Low\"]<monthly_pivot.iloc[index_month:]['S1'][0]<stock_daily.loc[date][\"High\"]:\n",
    "        monthly_s1=monthly_pivot.iloc[index_month:]['S1'][0]\n",
    "    else:\n",
    "        monthly_s1=np.nan\n",
    "\n",
    "    yes_high=daily_pivot.shift(1).loc[date][\"High\"]\n",
    "    yes_low=daily_pivot.shift(1).loc[date][\"Low\"]\n",
    "    \n",
    "    \n",
    "    mpf.plot(stock_intraday[date],type='candle',\n",
    "             hlines=dict(hlines=[daily_pp,daily_bc,daily_tc,daily_r1,daily_s1,daily_r2,daily_s2,daily_r3,daily_s3,daily_r4,daily_s4,weekly_pp,weekly_r1,weekly_s1,monthly_pp,monthly_r1,monthly_s1,yes_high,yes_low],\n",
    "                        colors=['b','b','b','r','g','r','g','r','g','r','g','c','c','c','y','y','y','k','k'],\n",
    "                        linestyle=['-','--','--','--','--','--','--','--','--','--','--','-','--','--','-','--','--','-','-']),\n",
    "             title=date,\n",
    "            savefig='nasdaq/tsla/1min_till_11/2022/'+date+'.png')\n",
    "    #plt.clf()\n",
    "    "
   ]
  },
  {
   "cell_type": "code",
   "execution_count": null,
   "id": "9e15f89b",
   "metadata": {},
   "outputs": [],
   "source": []
  },
  {
   "cell_type": "code",
   "execution_count": null,
   "id": "b8c15a0f",
   "metadata": {},
   "outputs": [],
   "source": []
  }
 ],
 "metadata": {
  "kernelspec": {
   "display_name": "Python 3 (ipykernel)",
   "language": "python",
   "name": "python3"
  },
  "language_info": {
   "codemirror_mode": {
    "name": "ipython",
    "version": 3
   },
   "file_extension": ".py",
   "mimetype": "text/x-python",
   "name": "python",
   "nbconvert_exporter": "python",
   "pygments_lexer": "ipython3",
   "version": "3.9.7"
  }
 },
 "nbformat": 4,
 "nbformat_minor": 5
}
