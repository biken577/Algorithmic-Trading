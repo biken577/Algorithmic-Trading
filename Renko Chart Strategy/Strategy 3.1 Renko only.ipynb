{
 "cells": [
  {
   "cell_type": "markdown",
   "id": "da26e78c",
   "metadata": {},
   "source": [
    "## Renko chart Strategy"
   ]
  },
  {
   "cell_type": "markdown",
   "id": "ca6a6e0e",
   "metadata": {},
   "source": [
    "\n",
    "### Renko chart is a chart itself that came from Japan where renki means bricks\n",
    "###  It only form a brick in the chart when a stock moves by a dollar or custome value amount\n",
    "### Buy the stock when three consecutive green bricks are formed and sell when two consecutive bricks are formed"
   ]
  },
  {
   "attachments": {
    "2.png": {
     "image/png": "[encoded data removed]"
    }
   },
   "cell_type": "markdown",
   "id": "a48110d2",
   "metadata": {},
   "source": [
    "![2.png](attachment:2.png)"
   ]
  },
  {
   "cell_type": "code",
   "execution_count": 52,
   "id": "57071dc6",
   "metadata": {},
   "outputs": [],
   "source": [
    "import numpy as np\n",
    "import pandas as pd\n",
    "import copy\n",
    "import time\n",
    "import datetime as dt\n",
    "import yfinance as yf\n",
    "import statsmodels.api as sm\n",
    "import matplotlib.pyplot as plt\n",
    "from stocktrends import Renko"
   ]
  },
  {
   "cell_type": "code",
   "execution_count": 53,
   "id": "49a1b75b",
   "metadata": {},
   "outputs": [],
   "source": [
    "def ATR(DF,n):\n",
    "    \"function to calculate True Range and Average True Range\"\n",
    "    df = DF.copy()\n",
    "    df['H-L']=abs(df['High']-df['Low'])\n",
    "    df['H-PC']=abs(df['High']-df['Adj Close'].shift(1))\n",
    "    df['L-PC']=abs(df['Low']-df['Adj Close'].shift(1))\n",
    "    df['TR']=df[['H-L','H-PC','L-PC']].max(axis=1,skipna=False)\n",
    "    df['ATR'] = df['TR'].rolling(n).mean()\n",
    "    #df['ATR'] = df['TR'].ewm(span=n,adjust=False,min_periods=n).mean()\n",
    "    df2 = df.drop(['H-L','H-PC','L-PC'],axis=1)\n",
    "    return df2"
   ]
  },
  {
   "cell_type": "code",
   "execution_count": 54,
   "id": "d10220ad",
   "metadata": {},
   "outputs": [],
   "source": [
    "def slope(ser,n):\n",
    "    \"function to calculate the slope of n consecutive points on a plot\"\n",
    "    slopes = [i*0 for i in range(n-1)]\n",
    "    for i in range(n,len(ser)+1):\n",
    "        y = ser[i-n:i]\n",
    "        x = np.array(range(n))\n",
    "        y_scaled = (y - y.min())/(y.max() - y.min())\n",
    "        x_scaled = (x - x.min())/(x.max() - x.min())\n",
    "        x_scaled = sm.add_constant(x_scaled)\n",
    "        model = sm.OLS(y_scaled,x_scaled)\n",
    "        results = model.fit()\n",
    "        slopes.append(results.params[-1])\n",
    "    slope_angle = (np.rad2deg(np.arctan(np.array(slopes))))\n",
    "    return np.array(slope_angle)"
   ]
  },
  {
   "cell_type": "code",
   "execution_count": 55,
   "id": "46b5c494",
   "metadata": {},
   "outputs": [],
   "source": [
    "def renko_DF(DF):\n",
    "    \"function to convert ohlc data into renko bricks\"\n",
    "    df = DF.copy()\n",
    "    df.reset_index(inplace=True)\n",
    "    df = df.iloc[:,[0,1,2,3,4,5]]\n",
    "    df.columns = [\"date\",\"open\",\"high\",\"low\",\"close\",\"volume\"]\n",
    "    df2 = Renko(df)\n",
    "    df2.brick_size = max(0.5,round(ATR(DF,120)[\"ATR\"][-1],0))\n",
    "    renko_df = df2.get_ohlc_data()\n",
    "    renko_df[\"bar_num\"] = np.where(renko_df[\"uptrend\"]==True,1,np.where(renko_df[\"uptrend\"]==False,-1,0))\n",
    "    for i in range(1,len(renko_df[\"bar_num\"])):\n",
    "        if renko_df[\"bar_num\"][i]>0 and renko_df[\"bar_num\"][i-1]>0:\n",
    "            renko_df[\"bar_num\"][i]+=renko_df[\"bar_num\"][i-1]\n",
    "        elif renko_df[\"bar_num\"][i]<0 and renko_df[\"bar_num\"][i-1]<0:\n",
    "            renko_df[\"bar_num\"][i]+=renko_df[\"bar_num\"][i-1]\n",
    "    renko_df.drop_duplicates(subset=\"date\",keep=\"last\",inplace=True)\n",
    "    return renko_df"
   ]
  },
  {
   "cell_type": "code",
   "execution_count": 56,
   "id": "81b6e15b",
   "metadata": {},
   "outputs": [],
   "source": [
    "def OBV(DF):\n",
    "    \"\"\"function to calculate On Balance Volume\"\"\"\n",
    "    df = DF.copy()\n",
    "    df['daily_ret'] = df['Adj Close'].pct_change()\n",
    "    df['direction'] = np.where(df['daily_ret']>=0,1,-1)\n",
    "    df['direction'][0] = 0\n",
    "    df['vol_adj'] = df['Volume'] * df['direction']\n",
    "    df['obv'] = df['vol_adj'].cumsum()\n",
    "    return df['obv']"
   ]
  },
  {
   "cell_type": "code",
   "execution_count": 57,
   "id": "8a48bc10",
   "metadata": {},
   "outputs": [],
   "source": [
    "def CAGR(DF):\n",
    "    \"function to calculate the Cumulative Annual Growth Rate of a trading strategy\"\n",
    "    df = DF.copy()\n",
    "    df[\"cum_return\"] = (1 + df[\"ret\"]).cumprod()\n",
    "    n = len(df)/(252*78)\n",
    "    CAGR = (df[\"cum_return\"].tolist()[-1])**(1/n) - 1\n",
    "    return CAGR"
   ]
  },
  {
   "cell_type": "code",
   "execution_count": 58,
   "id": "ca30ac8e",
   "metadata": {},
   "outputs": [],
   "source": [
    "def volatility(DF):\n",
    "    \"function to calculate annualized volatility of a trading strategy\"\n",
    "    df = DF.copy()\n",
    "    vol = df[\"ret\"].std() * np.sqrt(252*78)\n",
    "    return vol"
   ]
  },
  {
   "cell_type": "code",
   "execution_count": 59,
   "id": "bd6a8cd8",
   "metadata": {},
   "outputs": [],
   "source": [
    "def sharpe(DF,rf):\n",
    "    \"function to calculate sharpe ratio ; rf is the risk free rate\"\n",
    "    df = DF.copy()\n",
    "    sr = (CAGR(df) - rf)/volatility(df)\n",
    "    return sr"
   ]
  },
  {
   "cell_type": "code",
   "execution_count": 60,
   "id": "4350af02",
   "metadata": {},
   "outputs": [],
   "source": [
    "def max_dd(DF):\n",
    "    \"function to calculate max drawdown\"\n",
    "    df = DF.copy()\n",
    "    df[\"cum_return\"] = (1 + df[\"ret\"]).cumprod()\n",
    "    df[\"cum_roll_max\"] = df[\"cum_return\"].cummax()\n",
    "    df[\"drawdown\"] = df[\"cum_roll_max\"] - df[\"cum_return\"]\n",
    "    df[\"drawdown_pct\"] = df[\"drawdown\"]/df[\"cum_roll_max\"]\n",
    "    max_dd = df[\"drawdown_pct\"].max()\n",
    "    return max_dd"
   ]
  },
  {
   "cell_type": "code",
   "execution_count": 61,
   "id": "9ee743e6",
   "metadata": {},
   "outputs": [],
   "source": [
    "# Download historical data for DJI constituent stocks\n",
    "\n",
    "tickers = [\"TSLA\",\"MSFT\",\"NVDA\",\"AMZN\"]\n"
   ]
  },
  {
   "cell_type": "code",
   "execution_count": 62,
   "id": "cd35adea",
   "metadata": {},
   "outputs": [
    {
     "name": "stdout",
     "output_type": "stream",
     "text": [
      "[*********************100%***********************]  1 of 1 completed\n",
      "[*********************100%***********************]  1 of 1 completed\n",
      "[*********************100%***********************]  1 of 1 completed\n",
      "[*********************100%***********************]  1 of 1 completed\n"
     ]
    }
   ],
   "source": [
    "ohlc_intra={} #directory with ohlc value for each stock\n",
    "start=dt.datetime.today()-dt.timedelta(days=7)\n",
    "end=dt.datetime.today()\n",
    "\n",
    "for ticker in tickers:\n",
    "    ohlc_intra[ticker]=yf.download(ticker,start=start,end=end,interval='1m')\n",
    "    ohlc_intra[ticker].dropna(inplace=True,how=\"all\")\n",
    "\n",
    "tickers=ohlc_intra.keys()"
   ]
  },
  {
   "cell_type": "code",
   "execution_count": 63,
   "id": "57b5d759",
   "metadata": {},
   "outputs": [
    {
     "data": {
      "text/html": [
       "<div>\n",
       "<style scoped>\n",
       "    .dataframe tbody tr th:only-of-type {\n",
       "        vertical-align: middle;\n",
       "    }\n",
       "\n",
       "    .dataframe tbody tr th {\n",
       "        vertical-align: top;\n",
       "    }\n",
       "\n",
       "    .dataframe thead th {\n",
       "        text-align: right;\n",
       "    }\n",
       "</style>\n",
       "<table border=\"1\" class=\"dataframe\">\n",
       "  <thead>\n",
       "    <tr style=\"text-align: right;\">\n",
       "      <th></th>\n",
       "      <th>Open</th>\n",
       "      <th>High</th>\n",
       "      <th>Low</th>\n",
       "      <th>Close</th>\n",
       "      <th>Adj Close</th>\n",
       "      <th>Volume</th>\n",
       "      <th>TR</th>\n",
       "      <th>ATR</th>\n",
       "    </tr>\n",
       "    <tr>\n",
       "      <th>Datetime</th>\n",
       "      <th></th>\n",
       "      <th></th>\n",
       "      <th></th>\n",
       "      <th></th>\n",
       "      <th></th>\n",
       "      <th></th>\n",
       "      <th></th>\n",
       "      <th></th>\n",
       "    </tr>\n",
       "  </thead>\n",
       "  <tbody>\n",
       "    <tr>\n",
       "      <th>2022-10-18 15:07:00-04:00</th>\n",
       "      <td>218.425003</td>\n",
       "      <td>218.639999</td>\n",
       "      <td>218.339996</td>\n",
       "      <td>218.632401</td>\n",
       "      <td>218.632401</td>\n",
       "      <td>0</td>\n",
       "      <td>NaN</td>\n",
       "      <td>NaN</td>\n",
       "    </tr>\n",
       "    <tr>\n",
       "      <th>2022-10-18 15:08:00-04:00</th>\n",
       "      <td>218.600006</td>\n",
       "      <td>218.673294</td>\n",
       "      <td>218.339996</td>\n",
       "      <td>218.520004</td>\n",
       "      <td>218.520004</td>\n",
       "      <td>65641</td>\n",
       "      <td>0.333298</td>\n",
       "      <td>NaN</td>\n",
       "    </tr>\n",
       "    <tr>\n",
       "      <th>2022-10-18 15:09:00-04:00</th>\n",
       "      <td>218.570007</td>\n",
       "      <td>218.580002</td>\n",
       "      <td>218.110001</td>\n",
       "      <td>218.119995</td>\n",
       "      <td>218.119995</td>\n",
       "      <td>69177</td>\n",
       "      <td>0.470001</td>\n",
       "      <td>NaN</td>\n",
       "    </tr>\n",
       "    <tr>\n",
       "      <th>2022-10-18 15:10:00-04:00</th>\n",
       "      <td>218.145004</td>\n",
       "      <td>218.380005</td>\n",
       "      <td>218.050095</td>\n",
       "      <td>218.095001</td>\n",
       "      <td>218.095001</td>\n",
       "      <td>74027</td>\n",
       "      <td>0.329910</td>\n",
       "      <td>NaN</td>\n",
       "    </tr>\n",
       "    <tr>\n",
       "      <th>2022-10-18 15:11:00-04:00</th>\n",
       "      <td>218.059998</td>\n",
       "      <td>218.309998</td>\n",
       "      <td>217.960098</td>\n",
       "      <td>218.050003</td>\n",
       "      <td>218.050003</td>\n",
       "      <td>88442</td>\n",
       "      <td>0.349899</td>\n",
       "      <td>NaN</td>\n",
       "    </tr>\n",
       "    <tr>\n",
       "      <th>...</th>\n",
       "      <td>...</td>\n",
       "      <td>...</td>\n",
       "      <td>...</td>\n",
       "      <td>...</td>\n",
       "      <td>...</td>\n",
       "      <td>...</td>\n",
       "      <td>...</td>\n",
       "      <td>...</td>\n",
       "    </tr>\n",
       "    <tr>\n",
       "      <th>2022-10-25 15:02:00-04:00</th>\n",
       "      <td>221.740005</td>\n",
       "      <td>221.770004</td>\n",
       "      <td>221.479996</td>\n",
       "      <td>221.488297</td>\n",
       "      <td>221.488297</td>\n",
       "      <td>102332</td>\n",
       "      <td>0.290009</td>\n",
       "      <td>0.426833</td>\n",
       "    </tr>\n",
       "    <tr>\n",
       "      <th>2022-10-25 15:03:00-04:00</th>\n",
       "      <td>221.464996</td>\n",
       "      <td>221.649994</td>\n",
       "      <td>221.423294</td>\n",
       "      <td>221.649994</td>\n",
       "      <td>221.649994</td>\n",
       "      <td>84639</td>\n",
       "      <td>0.226700</td>\n",
       "      <td>0.417889</td>\n",
       "    </tr>\n",
       "    <tr>\n",
       "      <th>2022-10-25 15:04:00-04:00</th>\n",
       "      <td>221.649994</td>\n",
       "      <td>221.789993</td>\n",
       "      <td>221.600006</td>\n",
       "      <td>221.789993</td>\n",
       "      <td>221.789993</td>\n",
       "      <td>127936</td>\n",
       "      <td>0.189987</td>\n",
       "      <td>0.415567</td>\n",
       "    </tr>\n",
       "    <tr>\n",
       "      <th>2022-10-25 15:05:00-04:00</th>\n",
       "      <td>221.789993</td>\n",
       "      <td>221.839996</td>\n",
       "      <td>221.539993</td>\n",
       "      <td>221.750000</td>\n",
       "      <td>221.750000</td>\n",
       "      <td>111937</td>\n",
       "      <td>0.300003</td>\n",
       "      <td>0.412483</td>\n",
       "    </tr>\n",
       "    <tr>\n",
       "      <th>2022-10-25 15:06:46-04:00</th>\n",
       "      <td>221.940002</td>\n",
       "      <td>221.940002</td>\n",
       "      <td>221.940002</td>\n",
       "      <td>221.940002</td>\n",
       "      <td>221.940002</td>\n",
       "      <td>0</td>\n",
       "      <td>0.190002</td>\n",
       "      <td>0.411439</td>\n",
       "    </tr>\n",
       "  </tbody>\n",
       "</table>\n",
       "<p>1942 rows × 8 columns</p>\n",
       "</div>"
      ],
      "text/plain": [
       "                                 Open        High         Low       Close  \\\n",
       "Datetime                                                                    \n",
       "2022-10-18 15:07:00-04:00  218.425003  218.639999  218.339996  218.632401   \n",
       "2022-10-18 15:08:00-04:00  218.600006  218.673294  218.339996  218.520004   \n",
       "2022-10-18 15:09:00-04:00  218.570007  218.580002  218.110001  218.119995   \n",
       "2022-10-18 15:10:00-04:00  218.145004  218.380005  218.050095  218.095001   \n",
       "2022-10-18 15:11:00-04:00  218.059998  218.309998  217.960098  218.050003   \n",
       "...                               ...         ...         ...         ...   \n",
       "2022-10-25 15:02:00-04:00  221.740005  221.770004  221.479996  221.488297   \n",
       "2022-10-25 15:03:00-04:00  221.464996  221.649994  221.423294  221.649994   \n",
       "2022-10-25 15:04:00-04:00  221.649994  221.789993  221.600006  221.789993   \n",
       "2022-10-25 15:05:00-04:00  221.789993  221.839996  221.539993  221.750000   \n",
       "2022-10-25 15:06:46-04:00  221.940002  221.940002  221.940002  221.940002   \n",
       "\n",
       "                            Adj Close  Volume        TR       ATR  \n",
       "Datetime                                                           \n",
       "2022-10-18 15:07:00-04:00  218.632401       0       NaN       NaN  \n",
       "2022-10-18 15:08:00-04:00  218.520004   65641  0.333298       NaN  \n",
       "2022-10-18 15:09:00-04:00  218.119995   69177  0.470001       NaN  \n",
       "2022-10-18 15:10:00-04:00  218.095001   74027  0.329910       NaN  \n",
       "2022-10-18 15:11:00-04:00  218.050003   88442  0.349899       NaN  \n",
       "...                               ...     ...       ...       ...  \n",
       "2022-10-25 15:02:00-04:00  221.488297  102332  0.290009  0.426833  \n",
       "2022-10-25 15:03:00-04:00  221.649994   84639  0.226700  0.417889  \n",
       "2022-10-25 15:04:00-04:00  221.789993  127936  0.189987  0.415567  \n",
       "2022-10-25 15:05:00-04:00  221.750000  111937  0.300003  0.412483  \n",
       "2022-10-25 15:06:46-04:00  221.940002       0  0.190002  0.411439  \n",
       "\n",
       "[1942 rows x 8 columns]"
      ]
     },
     "execution_count": 63,
     "metadata": {},
     "output_type": "execute_result"
    }
   ],
   "source": [
    "ATR(ohlc_intra[\"TSLA\"],120)"
   ]
  },
  {
   "cell_type": "code",
   "execution_count": 64,
   "id": "49e44093",
   "metadata": {},
   "outputs": [
    {
     "name": "stdout",
     "output_type": "stream",
     "text": [
      "merging for  TSLA\n"
     ]
    },
    {
     "name": "stderr",
     "output_type": "stream",
     "text": [
      "/var/folders/0d/2q3_g9bj7tn1m1t1w5crmtvh0000gn/T/ipykernel_12308/2866808216.py:13: SettingWithCopyWarning: \n",
      "A value is trying to be set on a copy of a slice from a DataFrame\n",
      "\n",
      "See the caveats in the documentation: https://pandas.pydata.org/pandas-docs/stable/user_guide/indexing.html#returning-a-view-versus-a-copy\n",
      "  renko_df[\"bar_num\"][i]+=renko_df[\"bar_num\"][i-1]\n",
      "/var/folders/0d/2q3_g9bj7tn1m1t1w5crmtvh0000gn/T/ipykernel_12308/2866808216.py:15: SettingWithCopyWarning: \n",
      "A value is trying to be set on a copy of a slice from a DataFrame\n",
      "\n",
      "See the caveats in the documentation: https://pandas.pydata.org/pandas-docs/stable/user_guide/indexing.html#returning-a-view-versus-a-copy\n",
      "  renko_df[\"bar_num\"][i]+=renko_df[\"bar_num\"][i-1]\n",
      "/var/folders/0d/2q3_g9bj7tn1m1t1w5crmtvh0000gn/T/ipykernel_12308/895490428.py:6: SettingWithCopyWarning: \n",
      "A value is trying to be set on a copy of a slice from a DataFrame\n",
      "\n",
      "See the caveats in the documentation: https://pandas.pydata.org/pandas-docs/stable/user_guide/indexing.html#returning-a-view-versus-a-copy\n",
      "  df['direction'][0] = 0\n"
     ]
    },
    {
     "name": "stdout",
     "output_type": "stream",
     "text": [
      "merging for  MSFT\n"
     ]
    },
    {
     "name": "stderr",
     "output_type": "stream",
     "text": [
      "/var/folders/0d/2q3_g9bj7tn1m1t1w5crmtvh0000gn/T/ipykernel_12308/2866808216.py:13: SettingWithCopyWarning: \n",
      "A value is trying to be set on a copy of a slice from a DataFrame\n",
      "\n",
      "See the caveats in the documentation: https://pandas.pydata.org/pandas-docs/stable/user_guide/indexing.html#returning-a-view-versus-a-copy\n",
      "  renko_df[\"bar_num\"][i]+=renko_df[\"bar_num\"][i-1]\n",
      "/var/folders/0d/2q3_g9bj7tn1m1t1w5crmtvh0000gn/T/ipykernel_12308/2866808216.py:15: SettingWithCopyWarning: \n",
      "A value is trying to be set on a copy of a slice from a DataFrame\n",
      "\n",
      "See the caveats in the documentation: https://pandas.pydata.org/pandas-docs/stable/user_guide/indexing.html#returning-a-view-versus-a-copy\n",
      "  renko_df[\"bar_num\"][i]+=renko_df[\"bar_num\"][i-1]\n",
      "/var/folders/0d/2q3_g9bj7tn1m1t1w5crmtvh0000gn/T/ipykernel_12308/895490428.py:6: SettingWithCopyWarning: \n",
      "A value is trying to be set on a copy of a slice from a DataFrame\n",
      "\n",
      "See the caveats in the documentation: https://pandas.pydata.org/pandas-docs/stable/user_guide/indexing.html#returning-a-view-versus-a-copy\n",
      "  df['direction'][0] = 0\n"
     ]
    },
    {
     "name": "stdout",
     "output_type": "stream",
     "text": [
      "merging for  NVDA\n"
     ]
    },
    {
     "name": "stderr",
     "output_type": "stream",
     "text": [
      "/var/folders/0d/2q3_g9bj7tn1m1t1w5crmtvh0000gn/T/ipykernel_12308/2866808216.py:13: SettingWithCopyWarning: \n",
      "A value is trying to be set on a copy of a slice from a DataFrame\n",
      "\n",
      "See the caveats in the documentation: https://pandas.pydata.org/pandas-docs/stable/user_guide/indexing.html#returning-a-view-versus-a-copy\n",
      "  renko_df[\"bar_num\"][i]+=renko_df[\"bar_num\"][i-1]\n",
      "/var/folders/0d/2q3_g9bj7tn1m1t1w5crmtvh0000gn/T/ipykernel_12308/2866808216.py:15: SettingWithCopyWarning: \n",
      "A value is trying to be set on a copy of a slice from a DataFrame\n",
      "\n",
      "See the caveats in the documentation: https://pandas.pydata.org/pandas-docs/stable/user_guide/indexing.html#returning-a-view-versus-a-copy\n",
      "  renko_df[\"bar_num\"][i]+=renko_df[\"bar_num\"][i-1]\n",
      "/var/folders/0d/2q3_g9bj7tn1m1t1w5crmtvh0000gn/T/ipykernel_12308/895490428.py:6: SettingWithCopyWarning: \n",
      "A value is trying to be set on a copy of a slice from a DataFrame\n",
      "\n",
      "See the caveats in the documentation: https://pandas.pydata.org/pandas-docs/stable/user_guide/indexing.html#returning-a-view-versus-a-copy\n",
      "  df['direction'][0] = 0\n"
     ]
    },
    {
     "name": "stdout",
     "output_type": "stream",
     "text": [
      "merging for  AMZN\n"
     ]
    },
    {
     "name": "stderr",
     "output_type": "stream",
     "text": [
      "/var/folders/0d/2q3_g9bj7tn1m1t1w5crmtvh0000gn/T/ipykernel_12308/2866808216.py:13: SettingWithCopyWarning: \n",
      "A value is trying to be set on a copy of a slice from a DataFrame\n",
      "\n",
      "See the caveats in the documentation: https://pandas.pydata.org/pandas-docs/stable/user_guide/indexing.html#returning-a-view-versus-a-copy\n",
      "  renko_df[\"bar_num\"][i]+=renko_df[\"bar_num\"][i-1]\n",
      "/var/folders/0d/2q3_g9bj7tn1m1t1w5crmtvh0000gn/T/ipykernel_12308/2866808216.py:15: SettingWithCopyWarning: \n",
      "A value is trying to be set on a copy of a slice from a DataFrame\n",
      "\n",
      "See the caveats in the documentation: https://pandas.pydata.org/pandas-docs/stable/user_guide/indexing.html#returning-a-view-versus-a-copy\n",
      "  renko_df[\"bar_num\"][i]+=renko_df[\"bar_num\"][i-1]\n",
      "/var/folders/0d/2q3_g9bj7tn1m1t1w5crmtvh0000gn/T/ipykernel_12308/895490428.py:6: SettingWithCopyWarning: \n",
      "A value is trying to be set on a copy of a slice from a DataFrame\n",
      "\n",
      "See the caveats in the documentation: https://pandas.pydata.org/pandas-docs/stable/user_guide/indexing.html#returning-a-view-versus-a-copy\n",
      "  df['direction'][0] = 0\n"
     ]
    }
   ],
   "source": [
    "#Merging renko df with original ohlc df\n",
    "ohlc_renko = {}\n",
    "df = copy.deepcopy(ohlc_intra)\n",
    "tickers_signal = {}\n",
    "tickers_ret = {}\n",
    "for ticker in tickers:\n",
    "    print(\"merging for \",ticker)\n",
    "    renko = renko_DF(df[ticker])\n",
    "    renko.columns = [\"Date\",\"open\",\"high\",\"low\",\"close\",\"uptrend\",\"bar_num\"]\n",
    "    df[ticker][\"Date\"] = df[ticker].index\n",
    "    ohlc_renko[ticker] = df[ticker].merge(renko.loc[:,[\"Date\",\"bar_num\"]],how=\"outer\",on=\"Date\")\n",
    "    ohlc_renko[ticker][\"bar_num\"].fillna(method='ffill',inplace=True)\n",
    "    ohlc_renko[ticker][\"obv\"]= OBV(ohlc_renko[ticker])\n",
    "    ohlc_renko[ticker][\"obv_slope\"]= slope(ohlc_renko[ticker][\"obv\"],5)\n",
    "    tickers_signal[ticker] = \"\"\n",
    "    tickers_ret[ticker] = []"
   ]
  },
  {
   "cell_type": "code",
   "execution_count": 65,
   "id": "f6eba485",
   "metadata": {},
   "outputs": [
    {
     "name": "stdout",
     "output_type": "stream",
     "text": [
      "calculating daily returns for  TSLA\n",
      "calculating daily returns for  MSFT\n",
      "calculating daily returns for  NVDA\n",
      "calculating daily returns for  AMZN\n"
     ]
    }
   ],
   "source": [
    "#Identifying signals and calculating daily return\n",
    "for ticker in tickers:\n",
    "    print(\"calculating daily returns for \",ticker)\n",
    "    for i in range(len(ohlc_intra[ticker])):\n",
    "        if tickers_signal[ticker] == \"\":\n",
    "            tickers_ret[ticker].append(0)\n",
    "            if ohlc_renko[ticker][\"bar_num\"][i]>=3:\n",
    "                tickers_signal[ticker] = \"Buy\"\n",
    "            elif ohlc_renko[ticker][\"bar_num\"][i]<=-2:\n",
    "                tickers_signal[ticker] = \"Sell\"\n",
    "        \n",
    "        elif tickers_signal[ticker] == \"Buy\":\n",
    "            tickers_ret[ticker].append((ohlc_renko[ticker][\"Adj Close\"][i]/ohlc_renko[ticker][\"Adj Close\"][i-1])-1)\n",
    "            if ohlc_renko[ticker][\"bar_num\"][i]<=-2:\n",
    "                tickers_signal[ticker] = \"Sell\"\n",
    "            elif ohlc_renko[ticker][\"bar_num\"][i]<3:\n",
    "                tickers_signal[ticker] = \"\"\n",
    "                \n",
    "        elif tickers_signal[ticker] == \"Sell\":\n",
    "            tickers_ret[ticker].append((ohlc_renko[ticker][\"Adj Close\"][i-1]/ohlc_renko[ticker][\"Adj Close\"][i])-1)\n",
    "            if ohlc_renko[ticker][\"bar_num\"][i]>=3:\n",
    "                tickers_signal[ticker] = \"Buy\"\n",
    "            elif ohlc_renko[ticker][\"bar_num\"][i]>-3:\n",
    "                tickers_signal[ticker] = \"\"\n",
    "    ohlc_renko[ticker][\"ret\"] = np.array(tickers_ret[ticker])"
   ]
  },
  {
   "cell_type": "code",
   "execution_count": 66,
   "id": "2fabdda0",
   "metadata": {},
   "outputs": [
    {
     "data": {
      "text/plain": [
       "0       0.000000\n",
       "1       0.000000\n",
       "2       0.000000\n",
       "3       0.000000\n",
       "4       0.000000\n",
       "          ...   \n",
       "1937   -0.000954\n",
       "1938    0.000730\n",
       "1939    0.000632\n",
       "1940   -0.000180\n",
       "1941    0.000857\n",
       "Name: ret, Length: 1942, dtype: float64"
      ]
     },
     "execution_count": 66,
     "metadata": {},
     "output_type": "execute_result"
    }
   ],
   "source": [
    "ohlc_renko[\"TSLA\"][\"ret\"]"
   ]
  },
  {
   "cell_type": "code",
   "execution_count": 67,
   "id": "3d23fb4a",
   "metadata": {},
   "outputs": [
    {
     "name": "stdout",
     "output_type": "stream",
     "text": [
      "-0.14677906886656256\n",
      "-1.8694179024913078\n",
      "0.033851608017407483\n"
     ]
    }
   ],
   "source": [
    "#calculating overall strategy's KPIs\n",
    "strategy_df = pd.DataFrame()\n",
    "for ticker in tickers:\n",
    "    strategy_df[ticker] = ohlc_renko[ticker][\"ret\"]\n",
    "strategy_df[\"ret\"] = strategy_df.mean(axis=1)\n",
    "print(CAGR(strategy_df))\n",
    "print(sharpe(strategy_df,0.025))\n",
    "print(max_dd(strategy_df))"
   ]
  },
  {
   "cell_type": "code",
   "execution_count": 68,
   "id": "cdeab18b",
   "metadata": {},
   "outputs": [
    {
     "data": {
      "text/plain": [
       "<AxesSubplot:>"
      ]
     },
     "execution_count": 68,
     "metadata": {},
     "output_type": "execute_result"
    },
    {
     "data": {
      "image/png": "[encoded data removed]",
      "text/plain": [
       "<Figure size 640x480 with 1 Axes>"
      ]
     },
     "metadata": {},
     "output_type": "display_data"
    }
   ],
   "source": [
    "#visualizing strategy returns\n",
    "(1+strategy_df[\"ret\"]).cumprod().plot()"
   ]
  },
  {
   "cell_type": "code",
   "execution_count": 69,
   "id": "b7362101",
   "metadata": {},
   "outputs": [
    {
     "name": "stdout",
     "output_type": "stream",
     "text": [
      "calculating KPIs for  TSLA\n",
      "calculating KPIs for  MSFT\n",
      "calculating KPIs for  NVDA\n",
      "calculating KPIs for  AMZN\n"
     ]
    }
   ],
   "source": [
    "#calculating individual stock's KPIs\n",
    "cagr = {}\n",
    "sharpe_ratios = {}\n",
    "max_drawdown = {}\n",
    "for ticker in tickers:\n",
    "    print(\"calculating KPIs for \",ticker)      \n",
    "    cagr[ticker] =  CAGR(ohlc_renko[ticker])\n",
    "    sharpe_ratios[ticker] =  sharpe(ohlc_renko[ticker],0.025)\n",
    "    max_drawdown[ticker] =  max_dd(ohlc_renko[ticker])"
   ]
  },
  {
   "cell_type": "code",
   "execution_count": 70,
   "id": "55e37c65",
   "metadata": {},
   "outputs": [
    {
     "data": {
      "text/html": [
       "<div>\n",
       "<style scoped>\n",
       "    .dataframe tbody tr th:only-of-type {\n",
       "        vertical-align: middle;\n",
       "    }\n",
       "\n",
       "    .dataframe tbody tr th {\n",
       "        vertical-align: top;\n",
       "    }\n",
       "\n",
       "    .dataframe thead th {\n",
       "        text-align: right;\n",
       "    }\n",
       "</style>\n",
       "<table border=\"1\" class=\"dataframe\">\n",
       "  <thead>\n",
       "    <tr style=\"text-align: right;\">\n",
       "      <th></th>\n",
       "      <th>Return</th>\n",
       "      <th>Sharpe Ratio</th>\n",
       "      <th>Max Drawdown</th>\n",
       "    </tr>\n",
       "  </thead>\n",
       "  <tbody>\n",
       "    <tr>\n",
       "      <th>TSLA</th>\n",
       "      <td>-0.616066</td>\n",
       "      <td>-2.806653</td>\n",
       "      <td>0.134074</td>\n",
       "    </tr>\n",
       "    <tr>\n",
       "      <th>MSFT</th>\n",
       "      <td>-0.090118</td>\n",
       "      <td>-1.270866</td>\n",
       "      <td>0.023086</td>\n",
       "    </tr>\n",
       "    <tr>\n",
       "      <th>NVDA</th>\n",
       "      <td>0.904244</td>\n",
       "      <td>4.684679</td>\n",
       "      <td>0.025324</td>\n",
       "    </tr>\n",
       "    <tr>\n",
       "      <th>AMZN</th>\n",
       "      <td>-0.253500</td>\n",
       "      <td>-2.203442</td>\n",
       "      <td>0.033337</td>\n",
       "    </tr>\n",
       "  </tbody>\n",
       "</table>\n",
       "</div>"
      ],
      "text/plain": [
       "        Return  Sharpe Ratio  Max Drawdown\n",
       "TSLA -0.616066     -2.806653      0.134074\n",
       "MSFT -0.090118     -1.270866      0.023086\n",
       "NVDA  0.904244      4.684679      0.025324\n",
       "AMZN -0.253500     -2.203442      0.033337"
      ]
     },
     "execution_count": 70,
     "metadata": {},
     "output_type": "execute_result"
    }
   ],
   "source": [
    "KPI_df = pd.DataFrame([cagr,sharpe_ratios,max_drawdown],index=[\"Return\",\"Sharpe Ratio\",\"Max Drawdown\"])      \n",
    "KPI_df.T"
   ]
  },
  {
   "cell_type": "code",
   "execution_count": null,
   "id": "ebda0b06",
   "metadata": {},
   "outputs": [],
   "source": []
  },
  {
   "cell_type": "code",
   "execution_count": null,
   "id": "5c3e5b77",
   "metadata": {},
   "outputs": [],
   "source": []
  }
 ],
 "metadata": {
  "kernelspec": {
   "display_name": "Python 3 (ipykernel)",
   "language": "python",
   "name": "python3"
  },
  "language_info": {
   "codemirror_mode": {
    "name": "ipython",
    "version": 3
   },
   "file_extension": ".py",
   "mimetype": "text/x-python",
   "name": "python",
   "nbconvert_exporter": "python",
   "pygments_lexer": "ipython3",
   "version": "3.9.7"
  }
 },
 "nbformat": 4,
 "nbformat_minor": 5
}
