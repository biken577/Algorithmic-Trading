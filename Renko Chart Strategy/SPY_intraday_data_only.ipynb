{
 "cells": [
  {
   "cell_type": "code",
   "execution_count": 1,
   "id": "07f9c9ac",
   "metadata": {},
   "outputs": [],
   "source": [
    "import mplfinance as mpf\n",
    "import yfinance as yf\n",
    "import pandas as pd\n",
    "import ta\n",
    "import matplotlib.pyplot as plt\n",
    "import re"
   ]
  },
  {
   "cell_type": "code",
   "execution_count": 2,
   "id": "44d4d0ee",
   "metadata": {},
   "outputs": [],
   "source": [
    "colnames=['Datetime','Open','High','Low','Close','Volume']\n",
    "spy=pd.read_csv(\"SPY_5min.txt\",names=colnames)"
   ]
  },
  {
   "cell_type": "code",
   "execution_count": 3,
   "id": "733ca16a",
   "metadata": {},
   "outputs": [],
   "source": [
    "spy.index=pd.to_datetime(spy[\"Datetime\"])"
   ]
  },
  {
   "cell_type": "code",
   "execution_count": 4,
   "id": "4797fe7f",
   "metadata": {},
   "outputs": [],
   "source": [
    "spy.drop(\"Datetime\",axis=1,inplace=True)"
   ]
  },
  {
   "cell_type": "code",
   "execution_count": 5,
   "id": "5c9369ca",
   "metadata": {},
   "outputs": [
    {
     "data": {
      "text/html": [
       "<div>\n",
       "<style scoped>\n",
       "    .dataframe tbody tr th:only-of-type {\n",
       "        vertical-align: middle;\n",
       "    }\n",
       "\n",
       "    .dataframe tbody tr th {\n",
       "        vertical-align: top;\n",
       "    }\n",
       "\n",
       "    .dataframe thead th {\n",
       "        text-align: right;\n",
       "    }\n",
       "</style>\n",
       "<table border=\"1\" class=\"dataframe\">\n",
       "  <thead>\n",
       "    <tr style=\"text-align: right;\">\n",
       "      <th></th>\n",
       "      <th>Open</th>\n",
       "      <th>High</th>\n",
       "      <th>Low</th>\n",
       "      <th>Close</th>\n",
       "      <th>Volume</th>\n",
       "    </tr>\n",
       "    <tr>\n",
       "      <th>Datetime</th>\n",
       "      <th></th>\n",
       "      <th></th>\n",
       "      <th></th>\n",
       "      <th></th>\n",
       "      <th></th>\n",
       "    </tr>\n",
       "  </thead>\n",
       "  <tbody>\n",
       "    <tr>\n",
       "      <th>2005-01-03 08:00:00</th>\n",
       "      <td>87.0896</td>\n",
       "      <td>87.0896</td>\n",
       "      <td>87.0467</td>\n",
       "      <td>87.0538</td>\n",
       "      <td>24600</td>\n",
       "    </tr>\n",
       "    <tr>\n",
       "      <th>2005-01-03 08:05:00</th>\n",
       "      <td>87.0538</td>\n",
       "      <td>87.0538</td>\n",
       "      <td>87.0395</td>\n",
       "      <td>87.0395</td>\n",
       "      <td>12900</td>\n",
       "    </tr>\n",
       "    <tr>\n",
       "      <th>2005-01-03 08:10:00</th>\n",
       "      <td>87.0323</td>\n",
       "      <td>87.0323</td>\n",
       "      <td>87.0323</td>\n",
       "      <td>87.0323</td>\n",
       "      <td>5000</td>\n",
       "    </tr>\n",
       "    <tr>\n",
       "      <th>2005-01-03 08:15:00</th>\n",
       "      <td>87.0395</td>\n",
       "      <td>87.0395</td>\n",
       "      <td>87.0395</td>\n",
       "      <td>87.0395</td>\n",
       "      <td>2200</td>\n",
       "    </tr>\n",
       "    <tr>\n",
       "      <th>2005-01-03 08:20:00</th>\n",
       "      <td>87.0395</td>\n",
       "      <td>87.0467</td>\n",
       "      <td>87.0395</td>\n",
       "      <td>87.0467</td>\n",
       "      <td>6200</td>\n",
       "    </tr>\n",
       "    <tr>\n",
       "      <th>...</th>\n",
       "      <td>...</td>\n",
       "      <td>...</td>\n",
       "      <td>...</td>\n",
       "      <td>...</td>\n",
       "      <td>...</td>\n",
       "    </tr>\n",
       "    <tr>\n",
       "      <th>2022-11-25 16:35:00</th>\n",
       "      <td>402.2000</td>\n",
       "      <td>402.2000</td>\n",
       "      <td>402.1700</td>\n",
       "      <td>402.1700</td>\n",
       "      <td>3746</td>\n",
       "    </tr>\n",
       "    <tr>\n",
       "      <th>2022-11-25 16:40:00</th>\n",
       "      <td>402.1700</td>\n",
       "      <td>402.2000</td>\n",
       "      <td>402.1500</td>\n",
       "      <td>402.2000</td>\n",
       "      <td>4248</td>\n",
       "    </tr>\n",
       "    <tr>\n",
       "      <th>2022-11-25 16:45:00</th>\n",
       "      <td>402.2000</td>\n",
       "      <td>402.2800</td>\n",
       "      <td>402.2000</td>\n",
       "      <td>402.2000</td>\n",
       "      <td>2900</td>\n",
       "    </tr>\n",
       "    <tr>\n",
       "      <th>2022-11-25 16:50:00</th>\n",
       "      <td>402.2000</td>\n",
       "      <td>402.2000</td>\n",
       "      <td>402.2000</td>\n",
       "      <td>402.2000</td>\n",
       "      <td>643</td>\n",
       "    </tr>\n",
       "    <tr>\n",
       "      <th>2022-11-25 16:55:00</th>\n",
       "      <td>402.2800</td>\n",
       "      <td>402.3000</td>\n",
       "      <td>402.0000</td>\n",
       "      <td>402.0100</td>\n",
       "      <td>15177</td>\n",
       "    </tr>\n",
       "  </tbody>\n",
       "</table>\n",
       "<p>779024 rows × 5 columns</p>\n",
       "</div>"
      ],
      "text/plain": [
       "                         Open      High       Low     Close  Volume\n",
       "Datetime                                                           \n",
       "2005-01-03 08:00:00   87.0896   87.0896   87.0467   87.0538   24600\n",
       "2005-01-03 08:05:00   87.0538   87.0538   87.0395   87.0395   12900\n",
       "2005-01-03 08:10:00   87.0323   87.0323   87.0323   87.0323    5000\n",
       "2005-01-03 08:15:00   87.0395   87.0395   87.0395   87.0395    2200\n",
       "2005-01-03 08:20:00   87.0395   87.0467   87.0395   87.0467    6200\n",
       "...                       ...       ...       ...       ...     ...\n",
       "2022-11-25 16:35:00  402.2000  402.2000  402.1700  402.1700    3746\n",
       "2022-11-25 16:40:00  402.1700  402.2000  402.1500  402.2000    4248\n",
       "2022-11-25 16:45:00  402.2000  402.2800  402.2000  402.2000    2900\n",
       "2022-11-25 16:50:00  402.2000  402.2000  402.2000  402.2000     643\n",
       "2022-11-25 16:55:00  402.2800  402.3000  402.0000  402.0100   15177\n",
       "\n",
       "[779024 rows x 5 columns]"
      ]
     },
     "execution_count": 5,
     "metadata": {},
     "output_type": "execute_result"
    }
   ],
   "source": [
    "spy"
   ]
  },
  {
   "cell_type": "code",
   "execution_count": 6,
   "id": "dbc02383",
   "metadata": {},
   "outputs": [],
   "source": [
    "# do not need pre-market data and after hours data\n",
    "# only need intra day data as options can only be played in intraday\n",
    "# intra day period in EST is 9:30-4:00"
   ]
  },
  {
   "cell_type": "code",
   "execution_count": 7,
   "id": "13fa9cf2",
   "metadata": {},
   "outputs": [],
   "source": [
    "hours=[]\n",
    "for i in range(len(spy)):\n",
    "    if spy.index[i].hour==9:\n",
    "        if spy.index[i].minute>=30:\n",
    "            hours.append('intraday')\n",
    "        else:\n",
    "            hours.append('notintraday')\n",
    "    elif spy.index[i].hour>=10 and spy.index[i].hour<16:\n",
    "        hours.append('intraday')\n",
    "    else:\n",
    "        hours.append('notintraday')"
   ]
  },
  {
   "cell_type": "code",
   "execution_count": 8,
   "id": "ea62cdfb",
   "metadata": {},
   "outputs": [],
   "source": [
    "spy[\"hours\"]=hours"
   ]
  },
  {
   "cell_type": "code",
   "execution_count": 9,
   "id": "1b6beefa",
   "metadata": {},
   "outputs": [],
   "source": [
    "spy=spy[spy[\"hours\"]==\"intraday\"]"
   ]
  },
  {
   "cell_type": "code",
   "execution_count": 10,
   "id": "c30deb14",
   "metadata": {},
   "outputs": [],
   "source": [
    "spy.to_csv('SPY_intraday.csv')"
   ]
  },
  {
   "cell_type": "code",
   "execution_count": null,
   "id": "bd274961",
   "metadata": {},
   "outputs": [],
   "source": []
  }
 ],
 "metadata": {
  "kernelspec": {
   "display_name": "Python 3 (ipykernel)",
   "language": "python",
   "name": "python3"
  },
  "language_info": {
   "codemirror_mode": {
    "name": "ipython",
    "version": 3
   },
   "file_extension": ".py",
   "mimetype": "text/x-python",
   "name": "python",
   "nbconvert_exporter": "python",
   "pygments_lexer": "ipython3",
   "version": "3.9.7"
  }
 },
 "nbformat": 4,
 "nbformat_minor": 5
}
