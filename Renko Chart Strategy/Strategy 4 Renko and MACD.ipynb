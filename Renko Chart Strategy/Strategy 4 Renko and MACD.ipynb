{
 "cells": [
  {
   "cell_type": "code",
   "execution_count": 1,
   "id": "eabd0f1c",
   "metadata": {},
   "outputs": [],
   "source": [
    "import numpy as np\n",
    "import pandas as pd\n",
    "from stocktrends import Renko\n",
    "import statsmodels.api as sm\n",
    "from alpha_vantage.timeseries import TimeSeries\n",
    "import copy\n",
    "import datetime as dt\n",
    "import yfinance as yf"
   ]
  },
  {
   "cell_type": "code",
   "execution_count": 2,
   "id": "228f5583",
   "metadata": {},
   "outputs": [],
   "source": [
    "def MACD(DF,a,b,c):\n",
    "    \"\"\"function to calculate MACD\n",
    "       typical values a = 12; b =26, c =9\"\"\"\n",
    "    df = DF.copy()\n",
    "    df[\"MA_Fast\"]=df[\"Adj Close\"].ewm(span=a,min_periods=a).mean()\n",
    "    df[\"MA_Slow\"]=df[\"Adj Close\"].ewm(span=b,min_periods=b).mean()\n",
    "    df[\"MACD\"]=df[\"MA_Fast\"]-df[\"MA_Slow\"]\n",
    "    df[\"Signal\"]=df[\"MACD\"].ewm(span=c,min_periods=c).mean()\n",
    "    df.dropna(inplace=True)\n",
    "    return (df[\"MACD\"],df[\"Signal\"])"
   ]
  },
  {
   "cell_type": "code",
   "execution_count": 3,
   "id": "f7cb2883",
   "metadata": {},
   "outputs": [],
   "source": [
    "def ATR(DF,n):\n",
    "    \"function to calculate True Range and Average True Range\"\n",
    "    df = DF.copy()\n",
    "    df['H-L']=abs(df['High']-df['Low'])\n",
    "    df['H-PC']=abs(df['High']-df['Adj Close'].shift(1))\n",
    "    df['L-PC']=abs(df['Low']-df['Adj Close'].shift(1))\n",
    "    df['TR']=df[['H-L','H-PC','L-PC']].max(axis=1,skipna=False)\n",
    "    df['ATR'] = df['TR'].rolling(n).mean()\n",
    "    #df['ATR'] = df['TR'].ewm(span=n,adjust=False,min_periods=n).mean()\n",
    "    df2 = df.drop(['H-L','H-PC','L-PC'],axis=1)\n",
    "    return df2"
   ]
  },
  {
   "cell_type": "code",
   "execution_count": 4,
   "id": "661d5215",
   "metadata": {},
   "outputs": [],
   "source": [
    "def slope(ser,n):\n",
    "    \"function to calculate the slope of n consecutive points on a plot\"\n",
    "    slopes = [i*0 for i in range(n-1)]\n",
    "    for i in range(n,len(ser)+1):\n",
    "        y = ser[i-n:i]\n",
    "        x = np.array(range(n))\n",
    "        y_scaled = (y - y.min())/(y.max() - y.min())\n",
    "        x_scaled = (x - x.min())/(x.max() - x.min())\n",
    "        x_scaled = sm.add_constant(x_scaled)\n",
    "        model = sm.OLS(y_scaled,x_scaled)\n",
    "        results = model.fit()\n",
    "        slopes.append(results.params[-1])\n",
    "    slope_angle = (np.rad2deg(np.arctan(np.array(slopes))))\n",
    "    return np.array(slope_angle)"
   ]
  },
  {
   "cell_type": "code",
   "execution_count": 5,
   "id": "844dc3c2",
   "metadata": {},
   "outputs": [],
   "source": [
    "def renko_DF(DF):\n",
    "    \"function to convert ohlc data into renko bricks\"\n",
    "    df = DF.copy()\n",
    "    df.reset_index(inplace=True)\n",
    "    df = df.iloc[:,[0,1,2,3,4,5]]\n",
    "    df.columns = [\"date\",\"open\",\"high\",\"low\",\"close\",\"volume\"]\n",
    "    df2 = Renko(df)\n",
    "    df2.brick_size = max(0.5,round(ATR(DF,120)[\"ATR\"][-1],0))\n",
    "    renko_df = df2.get_ohlc_data()\n",
    "    renko_df[\"bar_num\"] = np.where(renko_df[\"uptrend\"]==True,1,np.where(renko_df[\"uptrend\"]==False,-1,0))\n",
    "    for i in range(1,len(renko_df[\"bar_num\"])):\n",
    "        if renko_df[\"bar_num\"][i]>0 and renko_df[\"bar_num\"][i-1]>0:\n",
    "            renko_df[\"bar_num\"][i]+=renko_df[\"bar_num\"][i-1]\n",
    "        elif renko_df[\"bar_num\"][i]<0 and renko_df[\"bar_num\"][i-1]<0:\n",
    "            renko_df[\"bar_num\"][i]+=renko_df[\"bar_num\"][i-1]\n",
    "    renko_df.drop_duplicates(subset=\"date\",keep=\"last\",inplace=True)\n",
    "    return renko_df"
   ]
  },
  {
   "cell_type": "code",
   "execution_count": 6,
   "id": "5b96006b",
   "metadata": {},
   "outputs": [],
   "source": [
    "def CAGR(DF):\n",
    "    \"function to calculate the Cumulative Annual Growth Rate of a trading strategy\"\n",
    "    df = DF.copy()\n",
    "    df[\"cum_return\"] = (1 + df[\"ret\"]).cumprod()\n",
    "    n = len(df)/(252*78)\n",
    "    CAGR = (df[\"cum_return\"].tolist()[-1])**(1/n) - 1\n",
    "    return CAGR"
   ]
  },
  {
   "cell_type": "code",
   "execution_count": 7,
   "id": "41f34970",
   "metadata": {},
   "outputs": [],
   "source": [
    "def volatility(DF):\n",
    "    \"function to calculate annualized volatility of a trading strategy\"\n",
    "    df = DF.copy()\n",
    "    vol = df[\"ret\"].std() * np.sqrt(252*78)\n",
    "    return vol"
   ]
  },
  {
   "cell_type": "code",
   "execution_count": 8,
   "id": "f4d1ffd6",
   "metadata": {},
   "outputs": [],
   "source": [
    "def sharpe(DF,rf):\n",
    "    \"function to calculate sharpe ratio ; rf is the risk free rate\"\n",
    "    df = DF.copy()\n",
    "    sr = (CAGR(df) - rf)/volatility(df)\n",
    "    return sr"
   ]
  },
  {
   "cell_type": "code",
   "execution_count": 9,
   "id": "05688e05",
   "metadata": {},
   "outputs": [],
   "source": [
    "def max_dd(DF):\n",
    "    \"function to calculate max drawdown\"\n",
    "    df = DF.copy()\n",
    "    df[\"cum_return\"] = (1 + df[\"ret\"]).cumprod()\n",
    "    df[\"cum_roll_max\"] = df[\"cum_return\"].cummax()\n",
    "    df[\"drawdown\"] = df[\"cum_roll_max\"] - df[\"cum_return\"]\n",
    "    df[\"drawdown_pct\"] = df[\"drawdown\"]/df[\"cum_roll_max\"]\n",
    "    max_dd = df[\"drawdown_pct\"].max()\n",
    "    return max_dd"
   ]
  },
  {
   "cell_type": "code",
   "execution_count": 10,
   "id": "2e6f1fcc",
   "metadata": {},
   "outputs": [],
   "source": [
    "tickers = [\"SPY\",\"AMZN\",\"TSLA\"]"
   ]
  },
  {
   "cell_type": "code",
   "execution_count": 11,
   "id": "c5a241d2",
   "metadata": {},
   "outputs": [
    {
     "name": "stdout",
     "output_type": "stream",
     "text": [
      "[*********************100%***********************]  1 of 1 completed\n",
      "[*********************100%***********************]  1 of 1 completed\n",
      "[*********************100%***********************]  1 of 1 completed\n"
     ]
    }
   ],
   "source": [
    "ohlc_intra={} #directory with ohlc value for each stock\n",
    "start=dt.datetime.today()-dt.timedelta(days=7)\n",
    "end=dt.datetime.today()\n",
    "\n",
    "for ticker in tickers:\n",
    "    ohlc_intra[ticker]=yf.download(ticker,start=start,end=end,interval='1m')\n",
    "    ohlc_intra[ticker].dropna(inplace=True,how=\"all\")\n",
    "\n",
    "tickers=ohlc_intra.keys()"
   ]
  },
  {
   "cell_type": "code",
   "execution_count": 13,
   "id": "a181d7ef",
   "metadata": {},
   "outputs": [
    {
     "name": "stdout",
     "output_type": "stream",
     "text": [
      "merging for  SPY\n"
     ]
    },
    {
     "name": "stderr",
     "output_type": "stream",
     "text": [
      "/var/folders/0d/2q3_g9bj7tn1m1t1w5crmtvh0000gn/T/ipykernel_74817/2866808216.py:15: SettingWithCopyWarning: \n",
      "A value is trying to be set on a copy of a slice from a DataFrame\n",
      "\n",
      "See the caveats in the documentation: https://pandas.pydata.org/pandas-docs/stable/user_guide/indexing.html#returning-a-view-versus-a-copy\n",
      "  renko_df[\"bar_num\"][i]+=renko_df[\"bar_num\"][i-1]\n",
      "/var/folders/0d/2q3_g9bj7tn1m1t1w5crmtvh0000gn/T/ipykernel_74817/2866808216.py:13: SettingWithCopyWarning: \n",
      "A value is trying to be set on a copy of a slice from a DataFrame\n",
      "\n",
      "See the caveats in the documentation: https://pandas.pydata.org/pandas-docs/stable/user_guide/indexing.html#returning-a-view-versus-a-copy\n",
      "  renko_df[\"bar_num\"][i]+=renko_df[\"bar_num\"][i-1]\n"
     ]
    },
    {
     "name": "stdout",
     "output_type": "stream",
     "text": [
      "merging for  AMZN\n"
     ]
    },
    {
     "name": "stderr",
     "output_type": "stream",
     "text": [
      "/var/folders/0d/2q3_g9bj7tn1m1t1w5crmtvh0000gn/T/ipykernel_74817/2866808216.py:15: SettingWithCopyWarning: \n",
      "A value is trying to be set on a copy of a slice from a DataFrame\n",
      "\n",
      "See the caveats in the documentation: https://pandas.pydata.org/pandas-docs/stable/user_guide/indexing.html#returning-a-view-versus-a-copy\n",
      "  renko_df[\"bar_num\"][i]+=renko_df[\"bar_num\"][i-1]\n",
      "/var/folders/0d/2q3_g9bj7tn1m1t1w5crmtvh0000gn/T/ipykernel_74817/2866808216.py:13: SettingWithCopyWarning: \n",
      "A value is trying to be set on a copy of a slice from a DataFrame\n",
      "\n",
      "See the caveats in the documentation: https://pandas.pydata.org/pandas-docs/stable/user_guide/indexing.html#returning-a-view-versus-a-copy\n",
      "  renko_df[\"bar_num\"][i]+=renko_df[\"bar_num\"][i-1]\n"
     ]
    },
    {
     "name": "stdout",
     "output_type": "stream",
     "text": [
      "merging for  TSLA\n"
     ]
    },
    {
     "name": "stderr",
     "output_type": "stream",
     "text": [
      "/var/folders/0d/2q3_g9bj7tn1m1t1w5crmtvh0000gn/T/ipykernel_74817/2866808216.py:15: SettingWithCopyWarning: \n",
      "A value is trying to be set on a copy of a slice from a DataFrame\n",
      "\n",
      "See the caveats in the documentation: https://pandas.pydata.org/pandas-docs/stable/user_guide/indexing.html#returning-a-view-versus-a-copy\n",
      "  renko_df[\"bar_num\"][i]+=renko_df[\"bar_num\"][i-1]\n",
      "/var/folders/0d/2q3_g9bj7tn1m1t1w5crmtvh0000gn/T/ipykernel_74817/2866808216.py:13: SettingWithCopyWarning: \n",
      "A value is trying to be set on a copy of a slice from a DataFrame\n",
      "\n",
      "See the caveats in the documentation: https://pandas.pydata.org/pandas-docs/stable/user_guide/indexing.html#returning-a-view-versus-a-copy\n",
      "  renko_df[\"bar_num\"][i]+=renko_df[\"bar_num\"][i-1]\n"
     ]
    }
   ],
   "source": [
    "#Merging renko df with original ohlc df\n",
    "ohlc_renko = {}\n",
    "df = copy.deepcopy(ohlc_intra)\n",
    "tickers_signal = {}\n",
    "tickers_ret = {}\n",
    "for ticker in tickers:\n",
    "    print(\"merging for \",ticker)\n",
    "    renko = renko_DF(df[ticker])\n",
    "    renko.columns = [\"Date\",\"open\",\"high\",\"low\",\"close\",\"uptrend\",\"bar_num\"]\n",
    "    df[ticker][\"Date\"] = df[ticker].index\n",
    "    ohlc_renko[ticker] = df[ticker].merge(renko.loc[:,[\"Date\",\"bar_num\"]],how=\"outer\",on=\"Date\")\n",
    "    ohlc_renko[ticker][\"bar_num\"].fillna(method='ffill',inplace=True)\n",
    "    ohlc_renko[ticker][\"macd\"]= MACD(ohlc_renko[ticker],12,26,9)[0]\n",
    "    ohlc_renko[ticker][\"macd_sig\"]= MACD(ohlc_renko[ticker],12,26,9)[1]\n",
    "    ohlc_renko[ticker][\"macd_slope\"] = slope(ohlc_renko[ticker][\"macd\"],5)\n",
    "    ohlc_renko[ticker][\"macd_sig_slope\"] = slope(ohlc_renko[ticker][\"macd_sig\"],5)\n",
    "    tickers_signal[ticker] = \"\"\n",
    "    tickers_ret[ticker] = []"
   ]
  },
  {
   "cell_type": "code",
   "execution_count": 14,
   "id": "7b2b3d94",
   "metadata": {},
   "outputs": [
    {
     "name": "stdout",
     "output_type": "stream",
     "text": [
      "calculating daily returns for  SPY\n",
      "calculating daily returns for  AMZN\n",
      "calculating daily returns for  TSLA\n"
     ]
    }
   ],
   "source": [
    "#Identifying signals and calculating daily return\n",
    "for ticker in tickers:\n",
    "    print(\"calculating daily returns for \",ticker)\n",
    "    for i in range(len(ohlc_intra[ticker])):\n",
    "        if tickers_signal[ticker] == \"\":\n",
    "            tickers_ret[ticker].append(0)\n",
    "            if i > 0:\n",
    "                if ohlc_renko[ticker][\"bar_num\"][i]>=2 and ohlc_renko[ticker][\"macd\"][i]>ohlc_renko[ticker][\"macd_sig\"][i] and ohlc_renko[ticker][\"macd_slope\"][i]>ohlc_renko[ticker][\"macd_sig_slope\"][i]:\n",
    "                    tickers_signal[ticker] = \"Buy\"\n",
    "                elif ohlc_renko[ticker][\"bar_num\"][i]<=-2 and ohlc_renko[ticker][\"macd\"][i]<ohlc_renko[ticker][\"macd_sig\"][i] and ohlc_renko[ticker][\"macd_slope\"][i]<ohlc_renko[ticker][\"macd_sig_slope\"][i]:\n",
    "                    tickers_signal[ticker] = \"Sell\"\n",
    "        \n",
    "        elif tickers_signal[ticker] == \"Buy\":\n",
    "            tickers_ret[ticker].append((ohlc_renko[ticker][\"Adj Close\"][i]/ohlc_renko[ticker][\"Adj Close\"][i-1])-1)\n",
    "            if i > 0:\n",
    "                if ohlc_renko[ticker][\"bar_num\"][i]<=-2 and ohlc_renko[ticker][\"macd\"][i]<ohlc_renko[ticker][\"macd_sig\"][i] and ohlc_renko[ticker][\"macd_slope\"][i]<ohlc_renko[ticker][\"macd_sig_slope\"][i]:\n",
    "                    tickers_signal[ticker] = \"Sell\"\n",
    "                elif ohlc_renko[ticker][\"macd\"][i]<ohlc_renko[ticker][\"macd_sig\"][i] and ohlc_renko[ticker][\"macd_slope\"][i]<ohlc_renko[ticker][\"macd_sig_slope\"][i]:\n",
    "                    tickers_signal[ticker] = \"\"\n",
    "                \n",
    "        elif tickers_signal[ticker] == \"Sell\":\n",
    "            tickers_ret[ticker].append((ohlc_renko[ticker][\"Adj Close\"][i-1]/ohlc_renko[ticker][\"Adj Close\"][i])-1)\n",
    "            if i > 0:\n",
    "                if ohlc_renko[ticker][\"bar_num\"][i]>=2 and ohlc_renko[ticker][\"macd\"][i]>ohlc_renko[ticker][\"macd_sig\"][i] and ohlc_renko[ticker][\"macd_slope\"][i]>ohlc_renko[ticker][\"macd_sig_slope\"][i]:\n",
    "                    tickers_signal[ticker] = \"Buy\"\n",
    "                elif ohlc_renko[ticker][\"macd\"][i]>ohlc_renko[ticker][\"macd_sig\"][i] and ohlc_renko[ticker][\"macd_slope\"][i]>ohlc_renko[ticker][\"macd_sig_slope\"][i]:\n",
    "                    tickers_signal[ticker] = \"\"\n",
    "    ohlc_renko[ticker][\"ret\"] = np.array(tickers_ret[ticker])"
   ]
  },
  {
   "cell_type": "code",
   "execution_count": 15,
   "id": "57d11558",
   "metadata": {},
   "outputs": [
    {
     "name": "stdout",
     "output_type": "stream",
     "text": [
      "-0.04051930914661939\n",
      "-1.0982160275310457\n",
      "0.013773757751710893\n"
     ]
    }
   ],
   "source": [
    "#calculating overall strategy's KPIs\n",
    "strategy_df = pd.DataFrame()\n",
    "for ticker in tickers:\n",
    "    strategy_df[ticker] = ohlc_renko[ticker][\"ret\"]\n",
    "strategy_df[\"ret\"] = strategy_df.mean(axis=1)\n",
    "print(CAGR(strategy_df))\n",
    "print(sharpe(strategy_df,0.025))\n",
    "print(max_dd(strategy_df))  "
   ]
  },
  {
   "cell_type": "code",
   "execution_count": 16,
   "id": "60c7c34b",
   "metadata": {},
   "outputs": [
    {
     "data": {
      "text/plain": [
       "<AxesSubplot:>"
      ]
     },
     "execution_count": 16,
     "metadata": {},
     "output_type": "execute_result"
    },
    {
     "data": {
      "image/png": "[encoded data removed]",
      "text/plain": [
       "<Figure size 640x480 with 1 Axes>"
      ]
     },
     "metadata": {},
     "output_type": "display_data"
    }
   ],
   "source": [
    "#visualizing strategy returns\n",
    "(1+strategy_df[\"ret\"]).cumprod().plot()"
   ]
  },
  {
   "cell_type": "code",
   "execution_count": 19,
   "id": "87166039",
   "metadata": {},
   "outputs": [
    {
     "name": "stdout",
     "output_type": "stream",
     "text": [
      "calculating KPIs for  SPY\n",
      "calculating KPIs for  AMZN\n",
      "calculating KPIs for  TSLA\n"
     ]
    }
   ],
   "source": [
    "#calculating individual stock's KPIs\n",
    "cagr = {}\n",
    "sharpe_ratios = {}\n",
    "max_drawdown = {}\n",
    "for ticker in tickers:\n",
    "    print(\"calculating KPIs for \",ticker)      \n",
    "    cagr[ticker] =  CAGR(ohlc_renko[ticker])\n",
    "    sharpe_ratios[ticker] =  sharpe(ohlc_renko[ticker],0.025)\n",
    "    max_drawdown[ticker] =  max_dd(ohlc_renko[ticker])"
   ]
  },
  {
   "cell_type": "code",
   "execution_count": 20,
   "id": "10290e34",
   "metadata": {},
   "outputs": [
    {
     "data": {
      "text/html": [
       "<div>\n",
       "<style scoped>\n",
       "    .dataframe tbody tr th:only-of-type {\n",
       "        vertical-align: middle;\n",
       "    }\n",
       "\n",
       "    .dataframe tbody tr th {\n",
       "        vertical-align: top;\n",
       "    }\n",
       "\n",
       "    .dataframe thead th {\n",
       "        text-align: right;\n",
       "    }\n",
       "</style>\n",
       "<table border=\"1\" class=\"dataframe\">\n",
       "  <thead>\n",
       "    <tr style=\"text-align: right;\">\n",
       "      <th></th>\n",
       "      <th>Return</th>\n",
       "      <th>Sharpe Ratio</th>\n",
       "      <th>Max Drawdown</th>\n",
       "    </tr>\n",
       "  </thead>\n",
       "  <tbody>\n",
       "    <tr>\n",
       "      <th>SPY</th>\n",
       "      <td>-0.115799</td>\n",
       "      <td>-3.736794</td>\n",
       "      <td>0.019279</td>\n",
       "    </tr>\n",
       "    <tr>\n",
       "      <th>AMZN</th>\n",
       "      <td>0.070229</td>\n",
       "      <td>0.765575</td>\n",
       "      <td>0.016185</td>\n",
       "    </tr>\n",
       "    <tr>\n",
       "      <th>TSLA</th>\n",
       "      <td>-0.073991</td>\n",
       "      <td>-0.671457</td>\n",
       "      <td>0.035740</td>\n",
       "    </tr>\n",
       "  </tbody>\n",
       "</table>\n",
       "</div>"
      ],
      "text/plain": [
       "        Return  Sharpe Ratio  Max Drawdown\n",
       "SPY  -0.115799     -3.736794      0.019279\n",
       "AMZN  0.070229      0.765575      0.016185\n",
       "TSLA -0.073991     -0.671457      0.035740"
      ]
     },
     "execution_count": 20,
     "metadata": {},
     "output_type": "execute_result"
    }
   ],
   "source": [
    "KPI_df = pd.DataFrame([cagr,sharpe_ratios,max_drawdown],index=[\"Return\",\"Sharpe Ratio\",\"Max Drawdown\"])      \n",
    "KPI_df.T"
   ]
  },
  {
   "cell_type": "code",
   "execution_count": null,
   "id": "8701d509",
   "metadata": {},
   "outputs": [],
   "source": []
  }
 ],
 "metadata": {
  "kernelspec": {
   "display_name": "Python 3 (ipykernel)",
   "language": "python",
   "name": "python3"
  },
  "language_info": {
   "codemirror_mode": {
    "name": "ipython",
    "version": 3
   },
   "file_extension": ".py",
   "mimetype": "text/x-python",
   "name": "python",
   "nbconvert_exporter": "python",
   "pygments_lexer": "ipython3",
   "version": "3.9.7"
  }
 },
 "nbformat": 4,
 "nbformat_minor": 5
}
